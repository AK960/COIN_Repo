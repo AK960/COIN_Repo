{
 "cells": [
  {
   "cell_type": "markdown",
   "id": "e2ac6fbebcfa0983",
   "metadata": {},
   "source": [
    "# Emotion Analysis - Part 1\n",
    "### <i>Data Preparation and Emotion Analysis with Text-Classification Model</i>"
   ]
  },
  {
   "metadata": {},
   "cell_type": "markdown",
   "source": "[Imports]",
   "id": "1a1133e22ef4f261"
  },
  {
   "cell_type": "code",
   "id": "initial_id",
   "metadata": {
    "collapsed": true,
    "ExecuteTime": {
     "end_time": "2025-06-18T21:37:40.542668Z",
     "start_time": "2025-06-18T21:37:40.536482Z"
    }
   },
   "source": [
    "### Imports\n",
    "import re\n",
    "import numpy as np\n",
    "import pandas as pd\n",
    "import seaborn as sns\n",
    "import matplotlib\n",
    "from matplotlib import style\n",
    "import matplotlib.pyplot as plt\n",
    "from pandas.core.dtypes.common import infer_dtype_from_object\n",
    "from datetime import datetime, timedelta\n",
    "\n",
    "from plotly import hist_frame\n",
    "\n",
    "style.use('ggplot')\n",
    "import nltk\n",
    "from nltk.stem import PorterStemmer\n",
    "from nltk.corpus import stopwords\n",
    "nltk.download('stopwords')\n",
    "stop_words = set(stopwords.words('english'))\n",
    "import json\n",
    "import torch\n",
    "from transformers import pipeline\n",
    "from tqdm import tqdm\n",
    "import pytz"
   ],
   "outputs": [
    {
     "name": "stderr",
     "output_type": "stream",
     "text": [
      "[nltk_data] Downloading package stopwords to\n",
      "[nltk_data]     C:\\Users\\aklei\\AppData\\Roaming\\nltk_data...\n",
      "[nltk_data]   Package stopwords is already up-to-date!\n"
     ]
    }
   ],
   "execution_count": 13
  },
  {
   "metadata": {
    "ExecuteTime": {
     "end_time": "2025-06-18T21:37:42.588352Z",
     "start_time": "2025-06-18T21:37:42.585646Z"
    }
   },
   "cell_type": "code",
   "source": "RUN_TYPE = 0 # set to 1 to repeat file creation process",
   "id": "c5c7baae9d2019c1",
   "outputs": [],
   "execution_count": 14
  },
  {
   "metadata": {},
   "cell_type": "markdown",
   "source": [
    "[Data Preparation]<br>\n",
    "Normalizing the quoted_tweets-dictionary to create a dataframe that contains the text of the quoted and origional tweet"
   ],
   "id": "ac53443b9391eb8b"
  },
  {
   "cell_type": "code",
   "id": "c37722425b3f995",
   "metadata": {
    "ExecuteTime": {
     "end_time": "2025-06-18T21:37:46.583900Z",
     "start_time": "2025-06-18T21:37:44.501173Z"
    }
   },
   "source": [
    "### Prepare dataframe for analysis\n",
    "# Import dataset\n",
    "df_tweets = pd.read_csv(\n",
    "    '../data/twitter/tweets_isTweet.csv',\n",
    "    dtype={'id': 'object'},\n",
    "    low_memory=False\n",
    ")\n",
    "# Parameter for weighing emotions per event later in Event Study\n",
    "df_tweets['total_engagement'] = (df_tweets['retweetCount'] +\n",
    "                                 df_tweets['likeCount'] +\n",
    "                                 df_tweets['replyCount'] +\n",
    "                                 df_tweets['quoteCount'] +\n",
    "                                 df_tweets['viewCount'])\n",
    "df_tweets = df_tweets[['id', 'createdAt', 'text', 'quoted_tweet', 'total_engagement']]\n",
    "df_tweets = df_tweets.rename(columns={'id': 'tweet_id', 'text': 'tweet_text'})\n",
    "\n",
    "# Normalize json column\n",
    "quoted_tweets_normalized = pd.json_normalize(\n",
    "    df_tweets['quoted_tweet'].apply(\n",
    "        lambda x: json.loads(x) if pd.notna(x) and isinstance(x, str) else None\n",
    "    )\n",
    ")\n",
    "quoted_tweets_normalized = quoted_tweets_normalized.rename(columns={\n",
    "    'id': 'quoted_tweet_id',\n",
    "    'text': 'quoted_tweet_text'\n",
    "})\n",
    "\n",
    "# Link by index\n",
    "df_tweets.index = quoted_tweets_normalized.index\n",
    "\n",
    "# Concat both dataframes\n",
    "df_tweets_normalized = pd.concat([\n",
    "    df_tweets[['tweet_id', 'createdAt', 'tweet_text', 'total_engagement']],\n",
    "    quoted_tweets_normalized[['quoted_tweet_id', 'quoted_tweet_text']]\n",
    "], axis=1)\n",
    "\n",
    "# View data\n",
    "print(df_tweets.columns)\n",
    "df_tweets_normalized.head()"
   ],
   "outputs": [
    {
     "name": "stdout",
     "output_type": "stream",
     "text": [
      "Index(['tweet_id', 'createdAt', 'tweet_text', 'quoted_tweet',\n",
      "       'total_engagement'],\n",
      "      dtype='object')\n"
     ]
    },
    {
     "data": {
      "text/plain": [
       "              tweet_id                       createdAt  \\\n",
       "0  1917726279195058338  Wed Apr 30 23:42:29 +0000 2025   \n",
       "1  1917693698281787564  Wed Apr 30 21:33:01 +0000 2025   \n",
       "2  1917225430702240067  Tue Apr 29 14:32:17 +0000 2025   \n",
       "3  1917114631287718009  Tue Apr 29 07:12:01 +0000 2025   \n",
       "4  1917103264417649121  Tue Apr 29 06:26:50 +0000 2025   \n",
       "\n",
       "                tweet_text  total_engagement      quoted_tweet_id  \\\n",
       "0  https://t.co/U6tI9pdin6          30834704                  NaN   \n",
       "1  https://t.co/1c1WjFpOva          56245268                  NaN   \n",
       "2       This is a big deal          63373125  1917223651625099407   \n",
       "3  https://t.co/6xSd8l67FN          17687048                  NaN   \n",
       "4                     Whoa          29853429  1917011279757066291   \n",
       "\n",
       "                                   quoted_tweet_text  \n",
       "0                                                NaN  \n",
       "1                                                NaN  \n",
       "2  Last week, Treasury went live with its first a...  \n",
       "3                                                NaN  \n",
       "4  🚨THE INVISIBLE PUPPET MASTERS: AI'S DISTURBING...  "
      ],
      "text/html": [
       "<div>\n",
       "<style scoped>\n",
       "    .dataframe tbody tr th:only-of-type {\n",
       "        vertical-align: middle;\n",
       "    }\n",
       "\n",
       "    .dataframe tbody tr th {\n",
       "        vertical-align: top;\n",
       "    }\n",
       "\n",
       "    .dataframe thead th {\n",
       "        text-align: right;\n",
       "    }\n",
       "</style>\n",
       "<table border=\"1\" class=\"dataframe\">\n",
       "  <thead>\n",
       "    <tr style=\"text-align: right;\">\n",
       "      <th></th>\n",
       "      <th>tweet_id</th>\n",
       "      <th>createdAt</th>\n",
       "      <th>tweet_text</th>\n",
       "      <th>total_engagement</th>\n",
       "      <th>quoted_tweet_id</th>\n",
       "      <th>quoted_tweet_text</th>\n",
       "    </tr>\n",
       "  </thead>\n",
       "  <tbody>\n",
       "    <tr>\n",
       "      <th>0</th>\n",
       "      <td>1917726279195058338</td>\n",
       "      <td>Wed Apr 30 23:42:29 +0000 2025</td>\n",
       "      <td>https://t.co/U6tI9pdin6</td>\n",
       "      <td>30834704</td>\n",
       "      <td>NaN</td>\n",
       "      <td>NaN</td>\n",
       "    </tr>\n",
       "    <tr>\n",
       "      <th>1</th>\n",
       "      <td>1917693698281787564</td>\n",
       "      <td>Wed Apr 30 21:33:01 +0000 2025</td>\n",
       "      <td>https://t.co/1c1WjFpOva</td>\n",
       "      <td>56245268</td>\n",
       "      <td>NaN</td>\n",
       "      <td>NaN</td>\n",
       "    </tr>\n",
       "    <tr>\n",
       "      <th>2</th>\n",
       "      <td>1917225430702240067</td>\n",
       "      <td>Tue Apr 29 14:32:17 +0000 2025</td>\n",
       "      <td>This is a big deal</td>\n",
       "      <td>63373125</td>\n",
       "      <td>1917223651625099407</td>\n",
       "      <td>Last week, Treasury went live with its first a...</td>\n",
       "    </tr>\n",
       "    <tr>\n",
       "      <th>3</th>\n",
       "      <td>1917114631287718009</td>\n",
       "      <td>Tue Apr 29 07:12:01 +0000 2025</td>\n",
       "      <td>https://t.co/6xSd8l67FN</td>\n",
       "      <td>17687048</td>\n",
       "      <td>NaN</td>\n",
       "      <td>NaN</td>\n",
       "    </tr>\n",
       "    <tr>\n",
       "      <th>4</th>\n",
       "      <td>1917103264417649121</td>\n",
       "      <td>Tue Apr 29 06:26:50 +0000 2025</td>\n",
       "      <td>Whoa</td>\n",
       "      <td>29853429</td>\n",
       "      <td>1917011279757066291</td>\n",
       "      <td>🚨THE INVISIBLE PUPPET MASTERS: AI'S DISTURBING...</td>\n",
       "    </tr>\n",
       "  </tbody>\n",
       "</table>\n",
       "</div>"
      ]
     },
     "execution_count": 15,
     "metadata": {},
     "output_type": "execute_result"
    }
   ],
   "execution_count": 15
  },
  {
   "metadata": {},
   "cell_type": "markdown",
   "source": [
    "[Data Transformation]<br>\n",
    "The following cell contains functions for the second step of data preparation, namely removing noise, truncating text, stemming words, and subsequently performing the emotion analysis."
   ],
   "id": "c7d4fb859ca258cd"
  },
  {
   "cell_type": "code",
   "id": "c3f0b8cab02dc451",
   "metadata": {
    "ExecuteTime": {
     "end_time": "2025-06-18T21:37:59.084670Z",
     "start_time": "2025-06-18T21:37:58.608846Z"
    }
   },
   "source": [
    "### Pre-process data for the analysis\n",
    "## Variables\n",
    "ekman_emotions = ['anger', 'fear', 'joy', 'sadness', 'disgust', 'surprise']\n",
    "\n",
    "## Classifier\n",
    "# Load Hugging Face's emotion classifier\n",
    "print(\"[Info]\")\n",
    "device = \"cuda\" if torch.cuda.is_available() else \"cpu\"\n",
    "classifier = pipeline(\"text-classification\", model=\"bhadresh-savani/bert-base-uncased-emotion\", top_k=None, device=0 if device == \"cuda\" else -1)\n",
    "\n",
    "## Functions\n",
    "# Removing noise from the text\n",
    "def remove_noise(text):\n",
    "    text = text.lower()\n",
    "    text = re.sub(r\"https\\S+|www\\S+httpss\\S+\", '', text, flags=re.MULTILINE) # Remove Url\n",
    "    text = re.sub(r\"\\@w+|\\#\", '', text) # remove @ and #\n",
    "    text = re.sub(r\"[^\\w\\s]\", '', text) # remove punctuation\n",
    "    text_tokens = text.split()\n",
    "    filtered_text = [w for w in text_tokens if not w in stop_words]\n",
    "    return \" \".join(filtered_text)\n",
    "\n",
    "# Reduction of dimensionality by abstracting word to word stem\n",
    "stemmer = PorterStemmer()\n",
    "def stem_words(text):\n",
    "    words = text.split()\n",
    "    stemmed_text = [stemmer.stem(word) for word in words]\n",
    "    return stemmed_text\n",
    "\n",
    "def truncate_text(text, max_length=512):\n",
    "    words = text.split()\n",
    "    return \" \".join(words[:max_length])\n",
    "\n",
    "def compute_emotions(text):\n",
    "    if not isinstance(text, str) or text.strip() == \"\":\n",
    "        print(\"[ComputeEmotions] Empty cell after data cleaning. Returning 0.0 for all emotions.\")\n",
    "        return {emotion: 0.0 for emotion in ekman_emotions}\n",
    "\n",
    "    try:\n",
    "        # Classify emotions using the Hugging Face pipeline and handle errors\n",
    "        results = classifier(text)[0]\n",
    "        if not results or not isinstance(results, list) or len(results[0]) == 0:\n",
    "            return {emotion: 0.0 for emotion in ekman_emotions}\n",
    "\n",
    "        emotion_scores = {result['label']: result['score'] for result in results}\n",
    "        return {emotion: emotion_scores.get(emotion, 0.0) for emotion in ekman_emotions}\n",
    "\n",
    "    except Exception as e:\n",
    "        print(f\"[ComputeEmotions] Error while processing text: {text[:20]}... Error: {e}\")\n",
    "        return {emotion: 0.0 for emotion in ekman_emotions}\n",
    "\n",
    "\n",
    "def append_emotions(df: pd.DataFrame, text_column: str) -> pd.DataFrame:\n",
    "    if text_column not in df.columns:\n",
    "        raise ValueError(f\"[AppendEmotions] Column '{text_column}' not found in DataFrame.\")\n",
    "    \n",
    "    print(\"[AppendEmotions] Computing emotions for column:\", text_column)\n",
    "\n",
    "    cleaned_column = f\"{text_column}_cleaned\"\n",
    "    df[cleaned_column] = df[text_column].apply(\n",
    "        lambda x: \" \".join(stem_words(remove_noise(x))) if isinstance(x, str) and x.strip() else \"\"\n",
    "    )\n",
    "\n",
    "    # Truncate text if cleaned text exceeds 512 tokens\n",
    "    if (df[cleaned_column].str.split().str.len() > 512).any():\n",
    "        print(\"[AppendEmotions] At least one row with more than 512 tokens - truncating text ...\")\n",
    "        df[cleaned_column] = df[cleaned_column].apply(lambda x: truncate_text(x, max_length=512))\n",
    "\n",
    "    emotion_scores = [compute_emotions(text) for text in tqdm(df[cleaned_column], desc=\"[AppendEmotions] Processing emotions\")]\n",
    "    emotions_df = pd.DataFrame(emotion_scores)\n",
    "    emotions_df.index = df.index\n",
    "    emotions_df.columns = [f\"{text_column}_{emotion}\" for emotion in ekman_emotions]\n",
    "    \n",
    "    # Add dominant emotion column\n",
    "    dominant = emotions_df.idxmax(axis=1).apply(lambda x: x.split('_')[-1])\n",
    "    all_zero = emotions_df.eq(0.0).all(axis=1)\n",
    "    dominant[all_zero] = np.nan\n",
    "    emotions_df[f\"{text_column}_dominant_emotion\"] = dominant\n",
    "\n",
    "    # Insert right hand of input text_column\n",
    "    insert_at = df.columns.get_loc(text_column) + 1\n",
    "\n",
    "    # DataFrame in drei Teile splitten und zusammenfügen\n",
    "    left = df.iloc[:, :insert_at]\n",
    "    right = df.iloc[:, insert_at:].drop(columns=[cleaned_column], errors='ignore')\n",
    "    result_df = pd.concat([left, df[[cleaned_column]], emotions_df, right], axis=1)\n",
    "\n",
    "    return result_df"
   ],
   "outputs": [
    {
     "name": "stdout",
     "output_type": "stream",
     "text": [
      "[Info]\n"
     ]
    },
    {
     "name": "stderr",
     "output_type": "stream",
     "text": [
      "Device set to use cpu\n"
     ]
    }
   ],
   "execution_count": 16
  },
  {
   "metadata": {},
   "cell_type": "markdown",
   "source": [
    "[Applying Functions]<br>\n",
    "This part is only run once to create the new csv-file. Subsequently, the further analysis is performed on the new dataset."
   ],
   "id": "eb9a40830b616e20"
  },
  {
   "metadata": {
    "ExecuteTime": {
     "end_time": "2025-06-18T21:38:14.378503Z",
     "start_time": "2025-06-18T21:38:14.374890Z"
    }
   },
   "cell_type": "code",
   "source": [
    "# Perform emotion analysis for columns specified\n",
    "if RUN_TYPE == 1:\n",
    "    for col in ['tweet_text']:#, 'quoted_tweet_text']:\n",
    "        df_tweets_normalized = append_emotions(df_tweets_normalized, text_column=col)\n",
    "\n",
    "    # Safe the DataFrame with emotions to csv\n",
    "    df_tweets_normalized.to_csv('../data/twitter/tweets_isTweet_emotions.csv', index=False)"
   ],
   "id": "9db3676b",
   "outputs": [],
   "execution_count": 17
  },
  {
   "metadata": {},
   "cell_type": "markdown",
   "source": [
    "# Emotion Analysis - Part 2\n",
    "### <i>Formatting & Data Exploration</i>"
   ],
   "id": "b358fcc34cf7a087"
  },
  {
   "metadata": {
    "ExecuteTime": {
     "end_time": "2025-06-18T21:38:27.151015Z",
     "start_time": "2025-06-18T21:38:26.464070Z"
    }
   },
   "cell_type": "code",
   "source": [
    "# Formatting\n",
    "## Set timezone\n",
    "eastern = pytz.timezone(\"US/Eastern\")\n",
    "\n",
    "## Read necessary data and convert to the same timezone\n",
    "### Tweet data\n",
    "df_tweets_normalized = pd.read_csv('../data/twitter/tweets_isTweet_emotions.csv')[\n",
    "    ['tweet_id',\n",
    "     'createdAt',\n",
    "     'total_engagement',\n",
    "     'tweet_text_anger',\n",
    "     'tweet_text_fear',\n",
    "     'tweet_text_joy',\n",
    "     'tweet_text_sadness',\n",
    "     'tweet_text_disgust',\n",
    "     'tweet_text_surprise',\n",
    "     'tweet_text_dominant_emotion'\n",
    "    ]\n",
    "].dropna()\n",
    "df_tweets_normalized = df_tweets_normalized.rename(columns={\n",
    "    'createdAt': 'timestamp',\n",
    "    'tweet_text_anger': 'anger',\n",
    "    'tweet_text_fear': 'fear',\n",
    "    'tweet_text_joy': 'joy',\n",
    "    'tweet_text_sadness': 'sadness',\n",
    "    'tweet_text_disgust': 'disgust',\n",
    "    'tweet_text_surprise': 'surprise',\n",
    "    'tweet_text_dominant_emotion': 'tweet_emotion'})\n",
    "df_tweets_normalized['timestamp'] = pd.to_datetime(\n",
    "    df_tweets_normalized['timestamp'],\n",
    "    format=\"%a %b %d %H:%M:%S %z %Y\",\n",
    "    errors=\"coerce\")\n",
    "df_tweets_normalized['timestamp'] = df_tweets_normalized['timestamp'].dt.tz_convert(eastern)\n",
    "\n",
    "### Stock data\n",
    "df_stock_data = pd.read_csv('../data/stocks/tsla_intraday_202305_202504-1m.csv')\n",
    "df_stock_data = df_stock_data.rename(columns={'Unnamed: 0': 'timestamp'})\n",
    "df_stock_data['timestamp'] = pd.to_datetime(df_stock_data['timestamp']).dt.tz_localize(eastern)\n",
    "df_stock_data['log_return'] = np.log(df_stock_data['close'] / df_stock_data['close'].shift(1))\n",
    "\n",
    "df_tweets_normalized.head()"
   ],
   "id": "4852931cdb52304a",
   "outputs": [
    {
     "data": {
      "text/plain": [
       "              tweet_id                 timestamp  total_engagement     anger  \\\n",
       "2  1917225430702240067 2025-04-29 10:32:17-04:00          63373125  0.057449   \n",
       "4  1917103264417649121 2025-04-29 02:26:50-04:00          29853429  0.073187   \n",
       "5  1917099777327829386 2025-04-29 02:12:59-04:00          35723205  0.030421   \n",
       "6  1917071819003334728 2025-04-29 00:21:53-04:00          36921036  0.324097   \n",
       "7  1917048786633036129 2025-04-28 22:50:22-04:00          71810230  0.861536   \n",
       "\n",
       "       fear       joy   sadness  disgust  surprise tweet_emotion  \n",
       "2  0.005243  0.915674  0.014150      0.0  0.002263           joy  \n",
       "4  0.316359  0.514874  0.004891      0.0  0.081774           joy  \n",
       "5  0.004519  0.955584  0.004746      0.0  0.003318           joy  \n",
       "6  0.072620  0.478726  0.112020      0.0  0.006192           joy  \n",
       "7  0.128874  0.003186  0.002088      0.0  0.002448         anger  "
      ],
      "text/html": [
       "<div>\n",
       "<style scoped>\n",
       "    .dataframe tbody tr th:only-of-type {\n",
       "        vertical-align: middle;\n",
       "    }\n",
       "\n",
       "    .dataframe tbody tr th {\n",
       "        vertical-align: top;\n",
       "    }\n",
       "\n",
       "    .dataframe thead th {\n",
       "        text-align: right;\n",
       "    }\n",
       "</style>\n",
       "<table border=\"1\" class=\"dataframe\">\n",
       "  <thead>\n",
       "    <tr style=\"text-align: right;\">\n",
       "      <th></th>\n",
       "      <th>tweet_id</th>\n",
       "      <th>timestamp</th>\n",
       "      <th>total_engagement</th>\n",
       "      <th>anger</th>\n",
       "      <th>fear</th>\n",
       "      <th>joy</th>\n",
       "      <th>sadness</th>\n",
       "      <th>disgust</th>\n",
       "      <th>surprise</th>\n",
       "      <th>tweet_emotion</th>\n",
       "    </tr>\n",
       "  </thead>\n",
       "  <tbody>\n",
       "    <tr>\n",
       "      <th>2</th>\n",
       "      <td>1917225430702240067</td>\n",
       "      <td>2025-04-29 10:32:17-04:00</td>\n",
       "      <td>63373125</td>\n",
       "      <td>0.057449</td>\n",
       "      <td>0.005243</td>\n",
       "      <td>0.915674</td>\n",
       "      <td>0.014150</td>\n",
       "      <td>0.0</td>\n",
       "      <td>0.002263</td>\n",
       "      <td>joy</td>\n",
       "    </tr>\n",
       "    <tr>\n",
       "      <th>4</th>\n",
       "      <td>1917103264417649121</td>\n",
       "      <td>2025-04-29 02:26:50-04:00</td>\n",
       "      <td>29853429</td>\n",
       "      <td>0.073187</td>\n",
       "      <td>0.316359</td>\n",
       "      <td>0.514874</td>\n",
       "      <td>0.004891</td>\n",
       "      <td>0.0</td>\n",
       "      <td>0.081774</td>\n",
       "      <td>joy</td>\n",
       "    </tr>\n",
       "    <tr>\n",
       "      <th>5</th>\n",
       "      <td>1917099777327829386</td>\n",
       "      <td>2025-04-29 02:12:59-04:00</td>\n",
       "      <td>35723205</td>\n",
       "      <td>0.030421</td>\n",
       "      <td>0.004519</td>\n",
       "      <td>0.955584</td>\n",
       "      <td>0.004746</td>\n",
       "      <td>0.0</td>\n",
       "      <td>0.003318</td>\n",
       "      <td>joy</td>\n",
       "    </tr>\n",
       "    <tr>\n",
       "      <th>6</th>\n",
       "      <td>1917071819003334728</td>\n",
       "      <td>2025-04-29 00:21:53-04:00</td>\n",
       "      <td>36921036</td>\n",
       "      <td>0.324097</td>\n",
       "      <td>0.072620</td>\n",
       "      <td>0.478726</td>\n",
       "      <td>0.112020</td>\n",
       "      <td>0.0</td>\n",
       "      <td>0.006192</td>\n",
       "      <td>joy</td>\n",
       "    </tr>\n",
       "    <tr>\n",
       "      <th>7</th>\n",
       "      <td>1917048786633036129</td>\n",
       "      <td>2025-04-28 22:50:22-04:00</td>\n",
       "      <td>71810230</td>\n",
       "      <td>0.861536</td>\n",
       "      <td>0.128874</td>\n",
       "      <td>0.003186</td>\n",
       "      <td>0.002088</td>\n",
       "      <td>0.0</td>\n",
       "      <td>0.002448</td>\n",
       "      <td>anger</td>\n",
       "    </tr>\n",
       "  </tbody>\n",
       "</table>\n",
       "</div>"
      ]
     },
     "execution_count": 18,
     "metadata": {},
     "output_type": "execute_result"
    }
   ],
   "execution_count": 18
  },
  {
   "metadata": {
    "ExecuteTime": {
     "end_time": "2025-06-18T21:38:34.401255Z",
     "start_time": "2025-06-18T21:38:34.302935Z"
    }
   },
   "cell_type": "code",
   "source": [
    "# Data exploration\n",
    "## Emotion Occurrence\n",
    "sns.countplot(x='tweet_emotion', data=df_tweets_normalized)"
   ],
   "id": "4b56f7e74f0aa7d7",
   "outputs": [
    {
     "data": {
      "text/plain": [
       "<Axes: xlabel='tweet_emotion', ylabel='count'>"
      ]
     },
     "execution_count": 19,
     "metadata": {},
     "output_type": "execute_result"
    },
    {
     "data": {
      "text/plain": [
       "<Figure size 640x480 with 1 Axes>"
      ],
      "image/png": "[encoded data removed]"
     },
     "metadata": {},
     "output_type": "display_data"
    }
   ],
   "execution_count": 19
  },
  {
   "metadata": {
    "ExecuteTime": {
     "end_time": "2025-06-18T21:38:44.122165Z",
     "start_time": "2025-06-18T21:38:36.757864Z"
    }
   },
   "cell_type": "code",
   "source": [
    "## Timeseries Data\n",
    "fig, (ax1, ax2) = plt.subplots(2, 1)\n",
    "\n",
    "ax1.plot(df_stock_data['timestamp'], df_stock_data['close'])\n",
    "ax1.set_title('Stock Price')\n",
    "\n",
    "ax2.plot(df_stock_data['timestamp'], df_stock_data['log_return'])\n",
    "ax2.set_title('Log Return')\n",
    "\n",
    "plt.tight_layout()\n",
    "plt.show()"
   ],
   "id": "44e83ad1891130f7",
   "outputs": [
    {
     "data": {
      "text/plain": [
       "<Figure size 640x480 with 2 Axes>"
      ],
      "image/png": "[encoded data removed]"
     },
     "metadata": {},
     "output_type": "display_data"
    }
   ],
   "execution_count": 20
  },
  {
   "metadata": {},
   "cell_type": "markdown",
   "source": [
    "[Event Study]<br>\n",
    "1. Data Preparation"
   ],
   "id": "1f97600098f6f929"
  },
  {
   "metadata": {
    "ExecuteTime": {
     "end_time": "2025-06-18T21:38:48.120001Z",
     "start_time": "2025-06-18T21:38:48.098455Z"
    }
   },
   "cell_type": "code",
   "source": [
    "# 1. Filter out tweets outside market hours (2h)\n",
    "df_tweets_normalized = df_tweets_normalized[\n",
    "    df_tweets_normalized['timestamp'].dt.time >= pd.to_datetime(\"04:00\").time()\n",
    "]\n",
    "df_tweets_normalized = df_tweets_normalized[\n",
    "    df_tweets_normalized['timestamp'].dt.time <= pd.to_datetime(\"17:59\").time()\n",
    "]\n",
    "\n",
    "# 2. Sort by time\n",
    "df_tweets_normalized = df_tweets_normalized.sort_values(\"timestamp\").reset_index(drop=True)\n",
    "\n",
    "# 3. Compute time difference between tweets\n",
    "df_tweets_normalized['time_diff'] = df_tweets_normalized['timestamp'].diff()\n",
    "\n",
    "# 4. Cluster Tweets to events with time_diff >= 7h\n",
    "df_tweets_normalized['new_event'] = df_tweets_normalized['time_diff'] > pd.Timedelta(hours=7)\n",
    "\n",
    "# 5. Cumulate events in event_id\n",
    "df_tweets_normalized['event_id'] = df_tweets_normalized['new_event'].cumsum()\n",
    "\n",
    "# 6. Compute dominant emotion per event event_emotion\n",
    "\n",
    "\n",
    "\n",
    "df_tweets_normalized.head()"
   ],
   "id": "337664caa5f8aa26",
   "outputs": [
    {
     "data": {
      "text/plain": [
       "              tweet_id                 timestamp  total_engagement     anger  \\\n",
       "0  1653075645138710528 2023-05-01 12:35:21-04:00          11729439  0.426503   \n",
       "1  1653420591607607297 2023-05-02 11:26:02-04:00          15003485  0.338571   \n",
       "2  1653447855401468011 2023-05-02 13:14:22-04:00          23966402  0.005906   \n",
       "3  1654183141605625860 2023-05-04 13:56:08-04:00          47365060  0.374810   \n",
       "4  1654235943514013697 2023-05-04 17:25:57-04:00          12640348  0.181239   \n",
       "\n",
       "       fear       joy   sadness  disgust  surprise tweet_emotion  \\\n",
       "0  0.006520  0.508242  0.026972      0.0  0.007145           joy   \n",
       "1  0.199239  0.331740  0.103573      0.0  0.012653         anger   \n",
       "2  0.001910  0.984496  0.005662      0.0  0.000927           joy   \n",
       "3  0.456166  0.110602  0.046511      0.0  0.006523          fear   \n",
       "4  0.100499  0.662629  0.041277      0.0  0.010604           joy   \n",
       "\n",
       "        time_diff  new_event  event_id  \n",
       "0             NaT      False         0  \n",
       "1 0 days 22:50:41       True         1  \n",
       "2 0 days 01:48:20      False         1  \n",
       "3 2 days 00:41:46       True         2  \n",
       "4 0 days 03:29:49      False         2  "
      ],
      "text/html": [
       "<div>\n",
       "<style scoped>\n",
       "    .dataframe tbody tr th:only-of-type {\n",
       "        vertical-align: middle;\n",
       "    }\n",
       "\n",
       "    .dataframe tbody tr th {\n",
       "        vertical-align: top;\n",
       "    }\n",
       "\n",
       "    .dataframe thead th {\n",
       "        text-align: right;\n",
       "    }\n",
       "</style>\n",
       "<table border=\"1\" class=\"dataframe\">\n",
       "  <thead>\n",
       "    <tr style=\"text-align: right;\">\n",
       "      <th></th>\n",
       "      <th>tweet_id</th>\n",
       "      <th>timestamp</th>\n",
       "      <th>total_engagement</th>\n",
       "      <th>anger</th>\n",
       "      <th>fear</th>\n",
       "      <th>joy</th>\n",
       "      <th>sadness</th>\n",
       "      <th>disgust</th>\n",
       "      <th>surprise</th>\n",
       "      <th>tweet_emotion</th>\n",
       "      <th>time_diff</th>\n",
       "      <th>new_event</th>\n",
       "      <th>event_id</th>\n",
       "    </tr>\n",
       "  </thead>\n",
       "  <tbody>\n",
       "    <tr>\n",
       "      <th>0</th>\n",
       "      <td>1653075645138710528</td>\n",
       "      <td>2023-05-01 12:35:21-04:00</td>\n",
       "      <td>11729439</td>\n",
       "      <td>0.426503</td>\n",
       "      <td>0.006520</td>\n",
       "      <td>0.508242</td>\n",
       "      <td>0.026972</td>\n",
       "      <td>0.0</td>\n",
       "      <td>0.007145</td>\n",
       "      <td>joy</td>\n",
       "      <td>NaT</td>\n",
       "      <td>False</td>\n",
       "      <td>0</td>\n",
       "    </tr>\n",
       "    <tr>\n",
       "      <th>1</th>\n",
       "      <td>1653420591607607297</td>\n",
       "      <td>2023-05-02 11:26:02-04:00</td>\n",
       "      <td>15003485</td>\n",
       "      <td>0.338571</td>\n",
       "      <td>0.199239</td>\n",
       "      <td>0.331740</td>\n",
       "      <td>0.103573</td>\n",
       "      <td>0.0</td>\n",
       "      <td>0.012653</td>\n",
       "      <td>anger</td>\n",
       "      <td>0 days 22:50:41</td>\n",
       "      <td>True</td>\n",
       "      <td>1</td>\n",
       "    </tr>\n",
       "    <tr>\n",
       "      <th>2</th>\n",
       "      <td>1653447855401468011</td>\n",
       "      <td>2023-05-02 13:14:22-04:00</td>\n",
       "      <td>23966402</td>\n",
       "      <td>0.005906</td>\n",
       "      <td>0.001910</td>\n",
       "      <td>0.984496</td>\n",
       "      <td>0.005662</td>\n",
       "      <td>0.0</td>\n",
       "      <td>0.000927</td>\n",
       "      <td>joy</td>\n",
       "      <td>0 days 01:48:20</td>\n",
       "      <td>False</td>\n",
       "      <td>1</td>\n",
       "    </tr>\n",
       "    <tr>\n",
       "      <th>3</th>\n",
       "      <td>1654183141605625860</td>\n",
       "      <td>2023-05-04 13:56:08-04:00</td>\n",
       "      <td>47365060</td>\n",
       "      <td>0.374810</td>\n",
       "      <td>0.456166</td>\n",
       "      <td>0.110602</td>\n",
       "      <td>0.046511</td>\n",
       "      <td>0.0</td>\n",
       "      <td>0.006523</td>\n",
       "      <td>fear</td>\n",
       "      <td>2 days 00:41:46</td>\n",
       "      <td>True</td>\n",
       "      <td>2</td>\n",
       "    </tr>\n",
       "    <tr>\n",
       "      <th>4</th>\n",
       "      <td>1654235943514013697</td>\n",
       "      <td>2023-05-04 17:25:57-04:00</td>\n",
       "      <td>12640348</td>\n",
       "      <td>0.181239</td>\n",
       "      <td>0.100499</td>\n",
       "      <td>0.662629</td>\n",
       "      <td>0.041277</td>\n",
       "      <td>0.0</td>\n",
       "      <td>0.010604</td>\n",
       "      <td>joy</td>\n",
       "      <td>0 days 03:29:49</td>\n",
       "      <td>False</td>\n",
       "      <td>2</td>\n",
       "    </tr>\n",
       "  </tbody>\n",
       "</table>\n",
       "</div>"
      ]
     },
     "execution_count": 21,
     "metadata": {},
     "output_type": "execute_result"
    }
   ],
   "execution_count": 21
  }
 ],
 "metadata": {
  "kernelspec": {
   "display_name": "coin",
   "language": "python",
   "name": "python3"
  },
  "language_info": {
   "codemirror_mode": {
    "name": "ipython",
    "version": 3
   },
   "file_extension": ".py",
   "mimetype": "text/x-python",
   "name": "python",
   "nbconvert_exporter": "python",
   "pygments_lexer": "ipython3",
   "version": "3.13.2"
  }
 },
 "nbformat": 4,
 "nbformat_minor": 5
}
