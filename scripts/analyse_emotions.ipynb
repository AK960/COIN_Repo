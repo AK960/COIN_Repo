{
 "cells": [
  {
   "cell_type": "markdown",
   "id": "e2ac6fbebcfa0983",
   "metadata": {},
   "source": [
    "<h1>Emotion Analysis - Part 1</h1>\n",
    "<h2><i>Data Preparation and Emotion Analysis with Text-Classification Model</i></h2>"
   ]
  },
  {
   "metadata": {},
   "cell_type": "markdown",
   "source": "<h3>[Imports]</h3>",
   "id": "1a1133e22ef4f261"
  },
  {
   "cell_type": "code",
   "id": "initial_id",
   "metadata": {
    "collapsed": true,
    "ExecuteTime": {
     "end_time": "2025-06-23T20:42:19.041537Z",
     "start_time": "2025-06-23T20:42:19.035882Z"
    }
   },
   "source": [
    "# Imports\n",
    "import re\n",
    "from importlib.resources.readers import remove_duplicates\n",
    "\n",
    "import numpy as np\n",
    "import pandas as pd\n",
    "import seaborn as sns\n",
    "import matplotlib\n",
    "from matplotlib import style\n",
    "import matplotlib.pyplot as plt\n",
    "from pandas.core.dtypes.common import infer_dtype_from_object\n",
    "from datetime import datetime, timedelta\n",
    "from plotly import hist_frame\n",
    "style.use('ggplot')\n",
    "import nltk\n",
    "from nltk.stem import PorterStemmer\n",
    "from nltk.corpus import stopwords\n",
    "nltk.download('stopwords')\n",
    "stop_words = set(stopwords.words('english'))\n",
    "import json\n",
    "import torch\n",
    "from transformers import pipeline\n",
    "from tqdm import tqdm\n",
    "from itertools import pairwise\n",
    "import pytz\n",
    "import matplotlib.ticker as ticker\n",
    "from scipy import stats"
   ],
   "outputs": [
    {
     "name": "stderr",
     "output_type": "stream",
     "text": [
      "[nltk_data] Downloading package stopwords to\n",
      "[nltk_data]     C:\\Users\\aklei\\AppData\\Roaming\\nltk_data...\n",
      "[nltk_data]   Package stopwords is already up-to-date!\n"
     ]
    }
   ],
   "execution_count": 83
  },
  {
   "metadata": {
    "ExecuteTime": {
     "end_time": "2025-06-23T20:40:45.573944Z",
     "start_time": "2025-06-23T20:40:45.546373Z"
    }
   },
   "cell_type": "code",
   "source": "RUN_TYPE = 0 # set to 1 to repeat file creation process",
   "id": "c5c7baae9d2019c1",
   "outputs": [],
   "execution_count": 70
  },
  {
   "metadata": {},
   "cell_type": "markdown",
   "source": [
    "<h3>[Data Preparation]</h3>\n",
    "<p>Normalizing the quoted_tweets-dictionary to create a dataframe that contains the text of the quoted and origional tweet.</p>"
   ],
   "id": "ac53443b9391eb8b"
  },
  {
   "cell_type": "code",
   "id": "c37722425b3f995",
   "metadata": {
    "ExecuteTime": {
     "end_time": "2025-06-23T20:40:47.228605Z",
     "start_time": "2025-06-23T20:40:45.601345Z"
    }
   },
   "source": [
    "# Prepare dataframe for analysis\n",
    "## Import dataset\n",
    "df_tweets = pd.read_csv(\n",
    "    '../data/twitter/tweets_isTweet.csv',\n",
    "    dtype={'id': 'object'},\n",
    "    low_memory=False\n",
    ")\n",
    "## Parameter for weighing emotions per event later in Event Study\n",
    "df_tweets['total_engagement'] = (df_tweets['retweetCount'] +\n",
    "                                 df_tweets['likeCount'] +\n",
    "                                 df_tweets['replyCount'] +\n",
    "                                 df_tweets['quoteCount'] +\n",
    "                                 df_tweets['viewCount'])\n",
    "df_tweets = df_tweets[['id', 'createdAt', 'text', 'quoted_tweet', 'total_engagement']]\n",
    "df_tweets = df_tweets.rename(columns={'id': 'tweet_id', 'text': 'tweet_text'})\n",
    "\n",
    "## Normalize json column\n",
    "quoted_tweets_normalized = pd.json_normalize(\n",
    "    df_tweets['quoted_tweet'].apply(\n",
    "        lambda x: json.loads(x) if pd.notna(x) and isinstance(x, str) else None\n",
    "    )\n",
    ")\n",
    "quoted_tweets_normalized = quoted_tweets_normalized.rename(columns={\n",
    "    'id': 'quoted_tweet_id',\n",
    "    'text': 'quoted_tweet_text'\n",
    "})\n",
    "\n",
    "## Link by index\n",
    "df_tweets.index = quoted_tweets_normalized.index\n",
    "\n",
    "## Concat both dataframes\n",
    "df_tweets_normalized = pd.concat([\n",
    "    df_tweets[['tweet_id', 'createdAt', 'tweet_text', 'total_engagement']],\n",
    "    quoted_tweets_normalized[['quoted_tweet_id', 'quoted_tweet_text']]\n",
    "], axis=1)\n",
    "\n",
    "## View data\n",
    "print(df_tweets.columns, \"\\n\")\n",
    "df_tweets_normalized.head()"
   ],
   "outputs": [
    {
     "name": "stdout",
     "output_type": "stream",
     "text": [
      "Index(['tweet_id', 'createdAt', 'tweet_text', 'quoted_tweet',\n",
      "       'total_engagement'],\n",
      "      dtype='object') \n",
      "\n"
     ]
    },
    {
     "data": {
      "text/plain": [
       "              tweet_id                       createdAt  \\\n",
       "0  1917726279195058338  Wed Apr 30 23:42:29 +0000 2025   \n",
       "1  1917693698281787564  Wed Apr 30 21:33:01 +0000 2025   \n",
       "2  1917225430702240067  Tue Apr 29 14:32:17 +0000 2025   \n",
       "3  1917114631287718009  Tue Apr 29 07:12:01 +0000 2025   \n",
       "4  1917103264417649121  Tue Apr 29 06:26:50 +0000 2025   \n",
       "\n",
       "                tweet_text  total_engagement      quoted_tweet_id  \\\n",
       "0  https://t.co/U6tI9pdin6          30834704                  NaN   \n",
       "1  https://t.co/1c1WjFpOva          56245268                  NaN   \n",
       "2       This is a big deal          63373125  1917223651625099407   \n",
       "3  https://t.co/6xSd8l67FN          17687048                  NaN   \n",
       "4                     Whoa          29853429  1917011279757066291   \n",
       "\n",
       "                                   quoted_tweet_text  \n",
       "0                                                NaN  \n",
       "1                                                NaN  \n",
       "2  Last week, Treasury went live with its first a...  \n",
       "3                                                NaN  \n",
       "4  🚨THE INVISIBLE PUPPET MASTERS: AI'S DISTURBING...  "
      ],
      "text/html": [
       "<div>\n",
       "<style scoped>\n",
       "    .dataframe tbody tr th:only-of-type {\n",
       "        vertical-align: middle;\n",
       "    }\n",
       "\n",
       "    .dataframe tbody tr th {\n",
       "        vertical-align: top;\n",
       "    }\n",
       "\n",
       "    .dataframe thead th {\n",
       "        text-align: right;\n",
       "    }\n",
       "</style>\n",
       "<table border=\"1\" class=\"dataframe\">\n",
       "  <thead>\n",
       "    <tr style=\"text-align: right;\">\n",
       "      <th></th>\n",
       "      <th>tweet_id</th>\n",
       "      <th>createdAt</th>\n",
       "      <th>tweet_text</th>\n",
       "      <th>total_engagement</th>\n",
       "      <th>quoted_tweet_id</th>\n",
       "      <th>quoted_tweet_text</th>\n",
       "    </tr>\n",
       "  </thead>\n",
       "  <tbody>\n",
       "    <tr>\n",
       "      <th>0</th>\n",
       "      <td>1917726279195058338</td>\n",
       "      <td>Wed Apr 30 23:42:29 +0000 2025</td>\n",
       "      <td>https://t.co/U6tI9pdin6</td>\n",
       "      <td>30834704</td>\n",
       "      <td>NaN</td>\n",
       "      <td>NaN</td>\n",
       "    </tr>\n",
       "    <tr>\n",
       "      <th>1</th>\n",
       "      <td>1917693698281787564</td>\n",
       "      <td>Wed Apr 30 21:33:01 +0000 2025</td>\n",
       "      <td>https://t.co/1c1WjFpOva</td>\n",
       "      <td>56245268</td>\n",
       "      <td>NaN</td>\n",
       "      <td>NaN</td>\n",
       "    </tr>\n",
       "    <tr>\n",
       "      <th>2</th>\n",
       "      <td>1917225430702240067</td>\n",
       "      <td>Tue Apr 29 14:32:17 +0000 2025</td>\n",
       "      <td>This is a big deal</td>\n",
       "      <td>63373125</td>\n",
       "      <td>1917223651625099407</td>\n",
       "      <td>Last week, Treasury went live with its first a...</td>\n",
       "    </tr>\n",
       "    <tr>\n",
       "      <th>3</th>\n",
       "      <td>1917114631287718009</td>\n",
       "      <td>Tue Apr 29 07:12:01 +0000 2025</td>\n",
       "      <td>https://t.co/6xSd8l67FN</td>\n",
       "      <td>17687048</td>\n",
       "      <td>NaN</td>\n",
       "      <td>NaN</td>\n",
       "    </tr>\n",
       "    <tr>\n",
       "      <th>4</th>\n",
       "      <td>1917103264417649121</td>\n",
       "      <td>Tue Apr 29 06:26:50 +0000 2025</td>\n",
       "      <td>Whoa</td>\n",
       "      <td>29853429</td>\n",
       "      <td>1917011279757066291</td>\n",
       "      <td>🚨THE INVISIBLE PUPPET MASTERS: AI'S DISTURBING...</td>\n",
       "    </tr>\n",
       "  </tbody>\n",
       "</table>\n",
       "</div>"
      ]
     },
     "execution_count": 71,
     "metadata": {},
     "output_type": "execute_result"
    }
   ],
   "execution_count": 71
  },
  {
   "metadata": {},
   "cell_type": "markdown",
   "source": [
    "<h3>[Data Transformation]</h3>\n",
    "<p>The following cell contains functions for the second step of data preparation, namely removing noise, truncating text, stemming words, and subsequently performing the emotion analysis.</p>"
   ],
   "id": "c7d4fb859ca258cd"
  },
  {
   "cell_type": "code",
   "id": "c3f0b8cab02dc451",
   "metadata": {
    "ExecuteTime": {
     "end_time": "2025-06-23T20:40:47.966581Z",
     "start_time": "2025-06-23T20:40:47.285357Z"
    }
   },
   "source": [
    "# Pre-process data for the analysis\n",
    "## Variables\n",
    "ekman_emotions = ['anger', 'fear', 'joy', 'sadness', 'disgust', 'surprise']\n",
    "\n",
    "## Classifier\n",
    "### Load Hugging Face's emotion classifier\n",
    "print(\"[Info]\")\n",
    "device = \"cuda\" if torch.cuda.is_available() else \"cpu\"\n",
    "classifier = pipeline(\"text-classification\", model=\"bhadresh-savani/bert-base-uncased-emotion\", top_k=None, device=0 if device == \"cuda\" else -1)\n",
    "\n",
    "## Functions\n",
    "### Removing noise from the text\n",
    "def remove_noise(text):\n",
    "    text = text.lower()\n",
    "    text = re.sub(r\"https\\S+|www\\S+httpss\\S+\", '', text, flags=re.MULTILINE) # Remove Url\n",
    "    text = re.sub(r\"\\@w+|\\#\", '', text) # remove @ and #\n",
    "    text = re.sub(r\"[^\\w\\s]\", '', text) # remove punctuation\n",
    "    text_tokens = text.split()\n",
    "    filtered_text = [w for w in text_tokens if not w in stop_words]\n",
    "    return \" \".join(filtered_text)\n",
    "\n",
    "### Reduction of dimensionality by abstracting word to word stem and truncating text\n",
    "stemmer = PorterStemmer()\n",
    "def stem_words(text):\n",
    "    words = text.split()\n",
    "    stemmed_text = [stemmer.stem(word) for word in words]\n",
    "    return stemmed_text\n",
    "\n",
    "def truncate_text(text, max_length=512):\n",
    "    words = text.split()\n",
    "    return \" \".join(words[:max_length])\n",
    "\n",
    "### Computing and appending emotions to dataframe\n",
    "def compute_emotions(text):\n",
    "    if not isinstance(text, str) or text.strip() == \"\":\n",
    "        print(\"[ComputeEmotions] Empty cell after data cleaning. Returning 0.0 for all emotions.\")\n",
    "        return {emotion: 0.0 for emotion in ekman_emotions}\n",
    "\n",
    "    try:\n",
    "        # Classify emotions using the Hugging Face pipeline and handle errors\n",
    "        results = classifier(text)[0]\n",
    "        if not results or not isinstance(results, list) or len(results[0]) == 0:\n",
    "            return {emotion: 0.0 for emotion in ekman_emotions}\n",
    "\n",
    "        emotion_scores = {result['label']: result['score'] for result in results}\n",
    "        return {emotion: emotion_scores.get(emotion, 0.0) for emotion in ekman_emotions}\n",
    "\n",
    "    except Exception as e:\n",
    "        print(f\"[ComputeEmotions] Error while processing text: {text[:20]}... Error: {e}\")\n",
    "        return {emotion: 0.0 for emotion in ekman_emotions}\n",
    "\n",
    "def append_emotions(df: pd.DataFrame, text_column: str) -> pd.DataFrame:\n",
    "    if text_column not in df.columns:\n",
    "        raise ValueError(f\"[AppendEmotions] Column '{text_column}' not found in DataFrame.\")\n",
    "    \n",
    "    print(\"[AppendEmotions] Computing emotions for column:\", text_column)\n",
    "\n",
    "    cleaned_column = f\"{text_column}_cleaned\"\n",
    "    df[cleaned_column] = df[text_column].apply(\n",
    "        lambda x: \" \".join(stem_words(remove_noise(x))) if isinstance(x, str) and x.strip() else \"\"\n",
    "    )\n",
    "\n",
    "    # Truncate text if cleaned text exceeds 512 tokens\n",
    "    if (df[cleaned_column].str.split().str.len() > 512).any():\n",
    "        print(\"[AppendEmotions] At least one row with more than 512 tokens - truncating text ...\")\n",
    "        df[cleaned_column] = df[cleaned_column].apply(lambda x: truncate_text(x, max_length=512))\n",
    "\n",
    "    emotion_scores = [compute_emotions(text) for text in tqdm(df[cleaned_column], desc=\"[AppendEmotions] Processing emotions\")]\n",
    "    emotions_df = pd.DataFrame(emotion_scores)\n",
    "    emotions_df.index = df.index\n",
    "    emotions_df.columns = [f\"{text_column}_{emotion}\" for emotion in ekman_emotions]\n",
    "    \n",
    "    # Add dominant emotion column\n",
    "    dominant = emotions_df.idxmax(axis=1).apply(lambda x: x.split('_')[-1])\n",
    "    all_zero = emotions_df.eq(0.0).all(axis=1)\n",
    "    dominant[all_zero] = np.nan\n",
    "    emotions_df[f\"{text_column}_dominant_emotion\"] = dominant\n",
    "\n",
    "    # Insert right hand of input text_column\n",
    "    insert_at = df.columns.get_loc(text_column) + 1\n",
    "\n",
    "    # DataFrame in drei Teile splitten und zusammenfügen\n",
    "    left = df.iloc[:, :insert_at]\n",
    "    right = df.iloc[:, insert_at:].drop(columns=[cleaned_column], errors='ignore')\n",
    "    result_df = pd.concat([left, df[[cleaned_column]], emotions_df, right], axis=1)\n",
    "\n",
    "    return result_df"
   ],
   "outputs": [
    {
     "name": "stdout",
     "output_type": "stream",
     "text": [
      "[Info]\n"
     ]
    },
    {
     "name": "stderr",
     "output_type": "stream",
     "text": [
      "Device set to use cpu\n"
     ]
    }
   ],
   "execution_count": 72
  },
  {
   "metadata": {},
   "cell_type": "markdown",
   "source": [
    "<h3>[Applying Functions]</h3>\n",
    "<p>This part is only run once to create the new csv-file. Subsequently, the further analysis is performed on the new dataset.</p>"
   ],
   "id": "eb9a40830b616e20"
  },
  {
   "metadata": {
    "ExecuteTime": {
     "end_time": "2025-06-23T20:40:48.007013Z",
     "start_time": "2025-06-23T20:40:48.003857Z"
    }
   },
   "cell_type": "code",
   "source": [
    "# Perform emotion analysis for columns specified and safe as new csv-file\n",
    "if RUN_TYPE == 1:\n",
    "    for col in ['tweet_text']:#, 'quoted_tweet_text']:\n",
    "        df_tweets_normalized = append_emotions(df_tweets_normalized, text_column=col)\n",
    "\n",
    "    df_tweets_normalized.to_csv('../data/twitter/tweets_isTweet_emotions.csv', index=False)"
   ],
   "id": "9db3676b",
   "outputs": [],
   "execution_count": 73
  },
  {
   "metadata": {},
   "cell_type": "markdown",
   "source": [
    "<h1>Emotion Analysis - Part 2</h1>\n",
    "<h2><i>Formatting & Data Exploration</i></h2>"
   ],
   "id": "b358fcc34cf7a087"
  },
  {
   "metadata": {},
   "cell_type": "markdown",
   "source": "<h3>[Data Formatting]</h3>",
   "id": "7b597a35f3617558"
  },
  {
   "metadata": {
    "ExecuteTime": {
     "end_time": "2025-06-23T20:40:49.026794Z",
     "start_time": "2025-06-23T20:40:48.087291Z"
    }
   },
   "cell_type": "code",
   "source": [
    "# Formatting\n",
    "## Set timezone\n",
    "eastern = pytz.timezone(\"US/Eastern\")\n",
    "\n",
    "## Read necessary data and convert to the same timezone\n",
    "### Tweet data\n",
    "df_tweets_normalized = pd.read_csv('../data/twitter/tweets_isTweet_emotions.csv')[\n",
    "    ['tweet_id',\n",
    "     'createdAt',\n",
    "     'total_engagement',\n",
    "     'tweet_text_anger',\n",
    "     'tweet_text_fear',\n",
    "     'tweet_text_joy',\n",
    "     'tweet_text_sadness',\n",
    "     'tweet_text_disgust',\n",
    "     'tweet_text_surprise',\n",
    "     'tweet_text_dominant_emotion'\n",
    "    ]\n",
    "].dropna()\n",
    "df_tweets_normalized = df_tweets_normalized.rename(columns={\n",
    "    'tweet_id': 'id',\n",
    "    'total_engagement': 'engagement',\n",
    "    'createdAt': 'timestamp',\n",
    "    'tweet_text_anger': 'anger',\n",
    "    'tweet_text_fear': 'fear',\n",
    "    'tweet_text_joy': 'joy',\n",
    "    'tweet_text_sadness': 'sadness',\n",
    "    'tweet_text_disgust': 'disgust',\n",
    "    'tweet_text_surprise': 'surprise',\n",
    "    'tweet_text_dominant_emotion': 'tweet_emotion'})\n",
    "df_tweets_normalized['timestamp'] = pd.to_datetime(\n",
    "    df_tweets_normalized['timestamp'],\n",
    "    format=\"%a %b %d %H:%M:%S %z %Y\",\n",
    "    errors=\"coerce\")\n",
    "df_tweets_normalized['timestamp'] = df_tweets_normalized['timestamp'].dt.tz_convert(eastern)\n",
    "\n",
    "### Stock data\n",
    "df_stock_data = pd.read_csv('../data/stocks/tsla_intraday_202305_202504-1m.csv')\n",
    "df_stock_data = df_stock_data.rename(columns={'Unnamed: 0': 'timestamp'})\n",
    "df_stock_data['timestamp'] = pd.to_datetime(df_stock_data['timestamp']).dt.tz_localize(eastern)\n",
    "df_stock_data['log_return'] = np.log(df_stock_data['close'] / df_stock_data['close'].shift(1))\n",
    "\n",
    "print(\"[Tweets]\\n\",df_tweets_normalized.head(), \"\\n\")\n",
    "print(\"[Stock]\\n\", df_stock_data.head())"
   ],
   "id": "4852931cdb52304a",
   "outputs": [
    {
     "name": "stdout",
     "output_type": "stream",
     "text": [
      "[Tweets]\n",
      "                     id                 timestamp  engagement     anger  \\\n",
      "2  1917225430702240067 2025-04-29 10:32:17-04:00    63373125  0.057449   \n",
      "4  1917103264417649121 2025-04-29 02:26:50-04:00    29853429  0.073187   \n",
      "5  1917099777327829386 2025-04-29 02:12:59-04:00    35723205  0.030421   \n",
      "6  1917071819003334728 2025-04-29 00:21:53-04:00    36921036  0.324097   \n",
      "7  1917048786633036129 2025-04-28 22:50:22-04:00    71810230  0.861536   \n",
      "\n",
      "       fear       joy   sadness  disgust  surprise tweet_emotion  \n",
      "2  0.005243  0.915674  0.014150      0.0  0.002263           joy  \n",
      "4  0.316359  0.514874  0.004891      0.0  0.081774           joy  \n",
      "5  0.004519  0.955584  0.004746      0.0  0.003318           joy  \n",
      "6  0.072620  0.478726  0.112020      0.0  0.006192           joy  \n",
      "7  0.128874  0.003186  0.002088      0.0  0.002448         anger   \n",
      "\n",
      "[Stock]\n",
      "                   timestamp    open    high     low   close  volume  \\\n",
      "0 2023-05-01 04:00:00-04:00  164.30  165.00  164.07  164.58    4518   \n",
      "1 2023-05-01 04:01:00-04:00  164.61  164.62  164.50  164.60    2880   \n",
      "2 2023-05-01 04:03:00-04:00  164.30  164.40  164.28  164.28     968   \n",
      "3 2023-05-01 04:04:00-04:00  164.15  164.15  164.15  164.15     100   \n",
      "4 2023-05-01 04:05:00-04:00  164.00  164.00  163.60  163.70    2500   \n",
      "\n",
      "   log_return  \n",
      "0         NaN  \n",
      "1    0.000122  \n",
      "2   -0.001946  \n",
      "3   -0.000792  \n",
      "4   -0.002745  \n"
     ]
    }
   ],
   "execution_count": 74
  },
  {
   "metadata": {
    "ExecuteTime": {
     "end_time": "2025-06-23T20:40:49.211113Z",
     "start_time": "2025-06-23T20:40:49.064981Z"
    }
   },
   "cell_type": "code",
   "source": [
    "# Data exploration\n",
    "## Emotion Occurrence\n",
    "sns.countplot(x='tweet_emotion', data=df_tweets_normalized)"
   ],
   "id": "4b56f7e74f0aa7d7",
   "outputs": [
    {
     "data": {
      "text/plain": [
       "<Axes: xlabel='tweet_emotion', ylabel='count'>"
      ]
     },
     "execution_count": 75,
     "metadata": {},
     "output_type": "execute_result"
    },
    {
     "data": {
      "text/plain": [
       "<Figure size 640x480 with 1 Axes>"
      ],
      "image/png": "[encoded data removed]"
     },
     "metadata": {},
     "output_type": "display_data"
    }
   ],
   "execution_count": 75
  },
  {
   "metadata": {
    "ExecuteTime": {
     "end_time": "2025-06-23T20:40:53.673417Z",
     "start_time": "2025-06-23T20:40:49.249243Z"
    }
   },
   "cell_type": "code",
   "source": [
    "## Changes in closing price\n",
    "plt.plot(df_stock_data['timestamp'], df_stock_data['close'])"
   ],
   "id": "44e83ad1891130f7",
   "outputs": [
    {
     "data": {
      "text/plain": [
       "[<matplotlib.lines.Line2D at 0x1c92e85fd90>]"
      ]
     },
     "execution_count": 76,
     "metadata": {},
     "output_type": "execute_result"
    },
    {
     "data": {
      "text/plain": [
       "<Figure size 640x480 with 1 Axes>"
      ],
      "image/png": "[encoded data removed]"
     },
     "metadata": {},
     "output_type": "display_data"
    }
   ],
   "execution_count": 76
  },
  {
   "metadata": {
    "ExecuteTime": {
     "end_time": "2025-06-23T20:40:57.378395Z",
     "start_time": "2025-06-23T20:40:53.707421Z"
    }
   },
   "cell_type": "code",
   "source": [
    "## Changes in log_returns\n",
    "plt.plot(df_stock_data['timestamp'], df_stock_data['log_return'])"
   ],
   "id": "4d36675be4737fa0",
   "outputs": [
    {
     "data": {
      "text/plain": [
       "[<matplotlib.lines.Line2D at 0x1c92a5a20d0>]"
      ]
     },
     "execution_count": 77,
     "metadata": {},
     "output_type": "execute_result"
    },
    {
     "data": {
      "text/plain": [
       "<Figure size 640x480 with 1 Axes>"
      ],
      "image/png": "[encoded data removed]"
     },
     "metadata": {},
     "output_type": "display_data"
    }
   ],
   "execution_count": 77
  },
  {
   "metadata": {},
   "cell_type": "markdown",
   "source": [
    "<h3>[Event Study]</h3>\n",
    "<p>\n",
    "1. Data Preparation (Tweet Data): Grouping tweets to events and assigning a weighted event emotion.\n",
    "</p>\n",
    "<ul>\n",
    "    <li>Filter stock data by market hours</li>\n",
    "    <li>Group tweets with diff < 7h to an event</li>\n",
    "    <li>Assign weighed event emotions based on engagement</li>\n",
    "</ul>"
   ],
   "id": "1f97600098f6f929"
  },
  {
   "metadata": {
    "ExecuteTime": {
     "end_time": "2025-06-23T20:40:58.022671Z",
     "start_time": "2025-06-23T20:40:57.409972Z"
    }
   },
   "cell_type": "code",
   "source": [
    "# 1. Filter out tweets outside market hours (+-2h)\n",
    "df_tweets_normalized = df_tweets_normalized[\n",
    "    df_tweets_normalized['timestamp'].dt.time >= pd.to_datetime(\"04:00\").time()\n",
    "]\n",
    "df_tweets_normalized = df_tweets_normalized[\n",
    "    df_tweets_normalized['timestamp'].dt.time <= pd.to_datetime(\"17:59\").time()\n",
    "]\n",
    "\n",
    "# 2. Sort by time\n",
    "df_tweets_normalized = df_tweets_normalized.sort_values(\"timestamp\").reset_index(drop=True)\n",
    "\n",
    "# 3. Compute time difference between tweets\n",
    "df_tweets_normalized['time_diff'] = df_tweets_normalized['timestamp'].diff()\n",
    "\n",
    "# 4. Cluster Tweets to events with time_diff >= 7h\n",
    "df_tweets_normalized['new_event'] = df_tweets_normalized['time_diff'] > pd.Timedelta(hours=7)\n",
    "\n",
    "# 5. Cumulate events in event_id\n",
    "df_tweets_normalized['event_id'] = df_tweets_normalized['new_event'].cumsum()\n",
    "\n",
    "# 6. Compute the dominant emotion for each event and merge back to df\n",
    "def compute_event_emotion(group):\n",
    "    total_engagement = group['engagement'].sum()\n",
    "    weighted_emo_scores = {\n",
    "        emotion: (group[emotion] * group['engagement']).sum() / total_engagement\n",
    "        for emotion in ekman_emotions\n",
    "    }\n",
    "    event_emotion = max(weighted_emo_scores, key=weighted_emo_scores.get)\n",
    "    return pd.Series({\n",
    "        **weighted_emo_scores,\n",
    "        'event_emotion': event_emotion\n",
    "    })\n",
    "\n",
    "if not ('event_emotion' in df_tweets_normalized.columns):\n",
    "    df_event_emotions = (df_tweets_normalized\n",
    "        .drop(columns=['event_id'])\n",
    "        .groupby(df_tweets_normalized['event_id'], group_keys=False)\n",
    "        .apply(compute_event_emotion)\n",
    "        .reset_index()\n",
    "    )\n",
    "\n",
    "    df_tweets_normalized = (df_tweets_normalized\n",
    "        .merge(\n",
    "            df_event_emotions[['event_id', 'event_emotion']],\n",
    "            on='event_id',\n",
    "            how='left'\n",
    "        )\n",
    "        .drop(columns={'anger', 'fear', 'joy', 'sadness', 'disgust', 'surprise', 'tweet_emotion', 'new_event'})\n",
    "    )\n",
    "df_tweets_normalized.head()\n",
    "\n",
    "# 8. Set event from time to time of the earliest tweet (models from what point in time a reaction can occur)\n",
    "df_tweets_normalized['event_time'] = df_tweets_normalized.groupby('event_id')['timestamp'].transform('min')\n",
    "\n",
    "# 9. Filter duplicate events\n",
    "df_tweets_normalized = df_tweets_normalized.drop_duplicates(subset=['event_id'])\n",
    "\n",
    "print(\"[Info] Number of events = \", df_tweets_normalized['event_id'].nunique(), \"\\n\")"
   ],
   "id": "e50459a2203b6c91",
   "outputs": [
    {
     "name": "stdout",
     "output_type": "stream",
     "text": [
      "[Info] Number of events =  691 \n",
      "\n"
     ]
    }
   ],
   "execution_count": 78
  },
  {
   "metadata": {},
   "cell_type": "markdown",
   "source": [
    "<p>2. Align dataframes</p>\n",
    "<p>In this step, the event data is processed as follows:</p>\n",
    "<ul>\n",
    "    <li>Event timestamps are aligned with the subsequent stock data timestamp. Hence, they are rounded and assigned to the next full minute.</li>\n",
    "    <li>Events that do not have a full 5h history of estimation trading data are sorted out.</li>\n",
    "    <li>Events that do not have a full 2h event window of trading data ahead are sorted out.</li>\n",
    "    <li>Events, whose estimation or event window exceed the trading day, are sorted out (in alignment to the previous two points).</li>\n",
    "</ul>"
   ],
   "id": "45fb198986f2099a"
  },
  {
   "metadata": {
    "ExecuteTime": {
     "end_time": "2025-06-23T20:40:58.064456Z",
     "start_time": "2025-06-23T20:40:58.053163Z"
    }
   },
   "cell_type": "code",
   "source": [
    "# 0. Create new dfs with necessary event data and set time column as index\n",
    "df_events = (df_tweets_normalized[['event_id', 'event_emotion', 'event_time']]\n",
    "             .set_index('event_time')\n",
    "             .sort_index())\n",
    "df_returns = (df_stock_data[['timestamp', 'log_return']]\n",
    "              .set_index('timestamp')\n",
    "              .sort_index())"
   ],
   "id": "686c2bacd5872453",
   "outputs": [],
   "execution_count": 79
  },
  {
   "metadata": {
    "ExecuteTime": {
     "end_time": "2025-06-23T20:42:18.769730Z",
     "start_time": "2025-06-23T20:40:58.095907Z"
    }
   },
   "cell_type": "code",
   "source": [
    "def filter_events(df):\n",
    "    # Define necessary vars\n",
    "    est = 300\n",
    "    obs = 120\n",
    "    gap = est + obs\n",
    "    results = []\n",
    "\n",
    "    # 1. Filter by Overlaps\n",
    "    valid_events = []\n",
    "    last_event = None\n",
    "\n",
    "    # Add valid events to the list\n",
    "    for date in df.index:\n",
    "        # First event always valid\n",
    "        if last_event is None:\n",
    "            valid_events.append(date)\n",
    "            last_event = date\n",
    "        else:\n",
    "            # If timeshift > gaps, keep the current event and set as new last_event\n",
    "            if (date - last_event) > pd.Timedelta(minutes=gap):\n",
    "                valid_events.append(date)\n",
    "                last_event = date\n",
    "\n",
    "    # Only keep valid events\n",
    "    df = df.loc[valid_events]\n",
    "    print(f\"[Overlap] New df_length = {len(df)}\")\n",
    "\n",
    "    # 2. Align event_time with the next available trading timestamp\n",
    "    df.index = df.index.tz_convert(eastern)\n",
    "\n",
    "    for i, date in enumerate(df.index):\n",
    "        if date not in df_returns.index:\n",
    "            future_times = df_returns.index[df_returns.index > date]\n",
    "            if not future_times.empty:\n",
    "                df.index.values[i] = pd.Timestamp(future_times[0])\n",
    "\n",
    "    # 3. Filter events without sufficient estimation_window data\n",
    "    # 4. Filter events without sufficient event_window data\n",
    "    valid_events = []\n",
    "\n",
    "    for date in df.index:\n",
    "        day_data = df_returns[df_returns.index.date == date.date()]\n",
    "        event_index = day_data.index.get_loc(date)\n",
    "\n",
    "        remaining = len(day_data) - event_index\n",
    "\n",
    "        if event_index >= est:\n",
    "            if remaining >= obs:\n",
    "                valid_events.append(date)\n",
    "\n",
    "    df = df.loc[valid_events]\n",
    "    print(f\"[Sum Data] New df_length = {len(df)}\")\n",
    "\n",
    "    # 5. Event study variables\n",
    "    for event_row in df.itertuples():\n",
    "        event_id = event_row.event_id\n",
    "        event_emo = event_row.event_emotion\n",
    "        event_time = event_row.Index\n",
    "\n",
    "        estimation_window = df_returns.loc[\n",
    "            event_time - pd.Timedelta(minutes=est) : event_time - pd.Timedelta(minutes=1)\n",
    "        ]\n",
    "        event_window = df_returns.loc[\n",
    "            event_time : event_time + pd.Timedelta(minutes=obs - 1)\n",
    "        ]\n",
    "\n",
    "        expected_return = estimation_window['log_return'].mean()\n",
    "\n",
    "        for i, fin_row in enumerate(event_window.itertuples()):\n",
    "            actual_return = fin_row.log_return\n",
    "            abnormal_return = actual_return - expected_return\n",
    "\n",
    "            results.append({\n",
    "                'event_id': event_id,\n",
    "                'event_fin_offset': i,\n",
    "                'event_time': event_time,\n",
    "                'fin_time': fin_row.Index,\n",
    "                'event_emo': event_emo,\n",
    "                'actual_return': actual_return,\n",
    "                'expected_return': expected_return,\n",
    "                'abnormal_return': abnormal_return\n",
    "            })\n",
    "\n",
    "    # Make a dataframe from the result list\n",
    "    df_valid_events = pd.DataFrame(results)\n",
    "\n",
    "    return df_valid_events\n",
    "\n",
    "df_event_study = filter_events(df_events)"
   ],
   "id": "55aaa22a9012dcc6",
   "outputs": [
    {
     "name": "stdout",
     "output_type": "stream",
     "text": [
      "[Overlap] New df_length = 691\n"
     ]
    },
    {
     "name": "stderr",
     "output_type": "stream",
     "text": [
      "C:\\Users\\aklei\\AppData\\Local\\Temp\\ipykernel_23628\\3718829434.py:35: UserWarning: no explicit representation of timezones available for np.datetime64\n",
      "  df.index.values[i] = pd.Timestamp(future_times[0])\n"
     ]
    },
    {
     "name": "stdout",
     "output_type": "stream",
     "text": [
      "[Sum Data] New df_length = 317\n"
     ]
    }
   ],
   "execution_count": 80
  },
  {
   "metadata": {
    "ExecuteTime": {
     "end_time": "2025-06-23T20:42:18.960273Z",
     "start_time": "2025-06-23T20:42:18.798413Z"
    }
   },
   "cell_type": "code",
   "source": [
    "print(f\"[Info] Length of df_event_study: {len(df_event_study)} <= {df_event_study['event_time'].nunique() * 120}\\n\")\n",
    "\n",
    "def scale_formatter(x, pos):\n",
    "    return f'{int(x / 120)}'\n",
    "\n",
    "plt.figure(figsize=(10, 6))\n",
    "sns.countplot(x='event_emo', data=df_event_study)\n",
    "plt.gca().yaxis.set_major_formatter(ticker.FuncFormatter(scale_formatter))\n",
    "plt.title('Number of Events per Emotion')\n",
    "plt.xlabel('Emotion')\n",
    "plt.ylabel('Number of Events (scaled)')"
   ],
   "id": "fac8108dad31ed06",
   "outputs": [
    {
     "name": "stdout",
     "output_type": "stream",
     "text": [
      "[Info] Length of df_event_study: 38039 <= 38040\n",
      "\n"
     ]
    },
    {
     "data": {
      "text/plain": [
       "Text(0, 0.5, 'Number of Events (scaled)')"
      ]
     },
     "execution_count": 81,
     "metadata": {},
     "output_type": "execute_result"
    },
    {
     "data": {
      "text/plain": [
       "<Figure size 1000x600 with 1 Axes>"
      ],
      "image/png": "[encoded data removed]"
     },
     "metadata": {},
     "output_type": "display_data"
    }
   ],
   "execution_count": 81
  },
  {
   "metadata": {
    "ExecuteTime": {
     "end_time": "2025-06-23T20:42:18.999042Z",
     "start_time": "2025-06-23T20:42:18.988946Z"
    }
   },
   "cell_type": "code",
   "source": "df_event_study",
   "id": "5c9deed6be4e5662",
   "outputs": [
    {
     "data": {
      "text/plain": [
       "       event_id  event_fin_offset                event_time  \\\n",
       "0             0                 0 2023-05-01 12:36:00-04:00   \n",
       "1             0                 1 2023-05-01 12:36:00-04:00   \n",
       "2             0                 2 2023-05-01 12:36:00-04:00   \n",
       "3             0                 3 2023-05-01 12:36:00-04:00   \n",
       "4             0                 4 2023-05-01 12:36:00-04:00   \n",
       "...         ...               ...                       ...   \n",
       "38034       690               115 2025-04-29 10:33:00-04:00   \n",
       "38035       690               116 2025-04-29 10:33:00-04:00   \n",
       "38036       690               117 2025-04-29 10:33:00-04:00   \n",
       "38037       690               118 2025-04-29 10:33:00-04:00   \n",
       "38038       690               119 2025-04-29 10:33:00-04:00   \n",
       "\n",
       "                       fin_time event_emo  actual_return  expected_return  \\\n",
       "0     2023-05-01 12:36:00-04:00       joy       0.000991        -0.000061   \n",
       "1     2023-05-01 12:37:00-04:00       joy      -0.000681        -0.000061   \n",
       "2     2023-05-01 12:38:00-04:00       joy       0.000558        -0.000061   \n",
       "3     2023-05-01 12:39:00-04:00       joy      -0.001396        -0.000061   \n",
       "4     2023-05-01 12:40:00-04:00       joy       0.001210        -0.000061   \n",
       "...                         ...       ...            ...              ...   \n",
       "38034 2025-04-29 12:28:00-04:00       joy      -0.000247        -0.000089   \n",
       "38035 2025-04-29 12:29:00-04:00       joy      -0.000566        -0.000089   \n",
       "38036 2025-04-29 12:30:00-04:00       joy       0.000263        -0.000089   \n",
       "38037 2025-04-29 12:31:00-04:00       joy       0.002997        -0.000089   \n",
       "38038 2025-04-29 12:32:00-04:00       joy      -0.000365        -0.000089   \n",
       "\n",
       "       abnormal_return  \n",
       "0             0.001053  \n",
       "1            -0.000619  \n",
       "2             0.000620  \n",
       "3            -0.001335  \n",
       "4             0.001272  \n",
       "...                ...  \n",
       "38034        -0.000158  \n",
       "38035        -0.000477  \n",
       "38036         0.000352  \n",
       "38037         0.003086  \n",
       "38038        -0.000275  \n",
       "\n",
       "[38039 rows x 8 columns]"
      ],
      "text/html": [
       "<div>\n",
       "<style scoped>\n",
       "    .dataframe tbody tr th:only-of-type {\n",
       "        vertical-align: middle;\n",
       "    }\n",
       "\n",
       "    .dataframe tbody tr th {\n",
       "        vertical-align: top;\n",
       "    }\n",
       "\n",
       "    .dataframe thead th {\n",
       "        text-align: right;\n",
       "    }\n",
       "</style>\n",
       "<table border=\"1\" class=\"dataframe\">\n",
       "  <thead>\n",
       "    <tr style=\"text-align: right;\">\n",
       "      <th></th>\n",
       "      <th>event_id</th>\n",
       "      <th>event_fin_offset</th>\n",
       "      <th>event_time</th>\n",
       "      <th>fin_time</th>\n",
       "      <th>event_emo</th>\n",
       "      <th>actual_return</th>\n",
       "      <th>expected_return</th>\n",
       "      <th>abnormal_return</th>\n",
       "    </tr>\n",
       "  </thead>\n",
       "  <tbody>\n",
       "    <tr>\n",
       "      <th>0</th>\n",
       "      <td>0</td>\n",
       "      <td>0</td>\n",
       "      <td>2023-05-01 12:36:00-04:00</td>\n",
       "      <td>2023-05-01 12:36:00-04:00</td>\n",
       "      <td>joy</td>\n",
       "      <td>0.000991</td>\n",
       "      <td>-0.000061</td>\n",
       "      <td>0.001053</td>\n",
       "    </tr>\n",
       "    <tr>\n",
       "      <th>1</th>\n",
       "      <td>0</td>\n",
       "      <td>1</td>\n",
       "      <td>2023-05-01 12:36:00-04:00</td>\n",
       "      <td>2023-05-01 12:37:00-04:00</td>\n",
       "      <td>joy</td>\n",
       "      <td>-0.000681</td>\n",
       "      <td>-0.000061</td>\n",
       "      <td>-0.000619</td>\n",
       "    </tr>\n",
       "    <tr>\n",
       "      <th>2</th>\n",
       "      <td>0</td>\n",
       "      <td>2</td>\n",
       "      <td>2023-05-01 12:36:00-04:00</td>\n",
       "      <td>2023-05-01 12:38:00-04:00</td>\n",
       "      <td>joy</td>\n",
       "      <td>0.000558</td>\n",
       "      <td>-0.000061</td>\n",
       "      <td>0.000620</td>\n",
       "    </tr>\n",
       "    <tr>\n",
       "      <th>3</th>\n",
       "      <td>0</td>\n",
       "      <td>3</td>\n",
       "      <td>2023-05-01 12:36:00-04:00</td>\n",
       "      <td>2023-05-01 12:39:00-04:00</td>\n",
       "      <td>joy</td>\n",
       "      <td>-0.001396</td>\n",
       "      <td>-0.000061</td>\n",
       "      <td>-0.001335</td>\n",
       "    </tr>\n",
       "    <tr>\n",
       "      <th>4</th>\n",
       "      <td>0</td>\n",
       "      <td>4</td>\n",
       "      <td>2023-05-01 12:36:00-04:00</td>\n",
       "      <td>2023-05-01 12:40:00-04:00</td>\n",
       "      <td>joy</td>\n",
       "      <td>0.001210</td>\n",
       "      <td>-0.000061</td>\n",
       "      <td>0.001272</td>\n",
       "    </tr>\n",
       "    <tr>\n",
       "      <th>...</th>\n",
       "      <td>...</td>\n",
       "      <td>...</td>\n",
       "      <td>...</td>\n",
       "      <td>...</td>\n",
       "      <td>...</td>\n",
       "      <td>...</td>\n",
       "      <td>...</td>\n",
       "      <td>...</td>\n",
       "    </tr>\n",
       "    <tr>\n",
       "      <th>38034</th>\n",
       "      <td>690</td>\n",
       "      <td>115</td>\n",
       "      <td>2025-04-29 10:33:00-04:00</td>\n",
       "      <td>2025-04-29 12:28:00-04:00</td>\n",
       "      <td>joy</td>\n",
       "      <td>-0.000247</td>\n",
       "      <td>-0.000089</td>\n",
       "      <td>-0.000158</td>\n",
       "    </tr>\n",
       "    <tr>\n",
       "      <th>38035</th>\n",
       "      <td>690</td>\n",
       "      <td>116</td>\n",
       "      <td>2025-04-29 10:33:00-04:00</td>\n",
       "      <td>2025-04-29 12:29:00-04:00</td>\n",
       "      <td>joy</td>\n",
       "      <td>-0.000566</td>\n",
       "      <td>-0.000089</td>\n",
       "      <td>-0.000477</td>\n",
       "    </tr>\n",
       "    <tr>\n",
       "      <th>38036</th>\n",
       "      <td>690</td>\n",
       "      <td>117</td>\n",
       "      <td>2025-04-29 10:33:00-04:00</td>\n",
       "      <td>2025-04-29 12:30:00-04:00</td>\n",
       "      <td>joy</td>\n",
       "      <td>0.000263</td>\n",
       "      <td>-0.000089</td>\n",
       "      <td>0.000352</td>\n",
       "    </tr>\n",
       "    <tr>\n",
       "      <th>38037</th>\n",
       "      <td>690</td>\n",
       "      <td>118</td>\n",
       "      <td>2025-04-29 10:33:00-04:00</td>\n",
       "      <td>2025-04-29 12:31:00-04:00</td>\n",
       "      <td>joy</td>\n",
       "      <td>0.002997</td>\n",
       "      <td>-0.000089</td>\n",
       "      <td>0.003086</td>\n",
       "    </tr>\n",
       "    <tr>\n",
       "      <th>38038</th>\n",
       "      <td>690</td>\n",
       "      <td>119</td>\n",
       "      <td>2025-04-29 10:33:00-04:00</td>\n",
       "      <td>2025-04-29 12:32:00-04:00</td>\n",
       "      <td>joy</td>\n",
       "      <td>-0.000365</td>\n",
       "      <td>-0.000089</td>\n",
       "      <td>-0.000275</td>\n",
       "    </tr>\n",
       "  </tbody>\n",
       "</table>\n",
       "<p>38039 rows × 8 columns</p>\n",
       "</div>"
      ]
     },
     "execution_count": 82,
     "metadata": {},
     "output_type": "execute_result"
    }
   ],
   "execution_count": 82
  },
  {
   "metadata": {},
   "cell_type": "markdown",
   "source": [
    "<p>3. Significance Tests</p>\n",
    "<p>Test the significance of the effect of each emotion on the abnormal return and the deviation in abnormal return.</p>"
   ],
   "id": "38f2e3ae92dcbcf0"
  },
  {
   "metadata": {},
   "cell_type": "code",
   "outputs": [],
   "execution_count": null,
   "source": "",
   "id": "27be3f5b3b360ae5"
  }
 ],
 "metadata": {
  "kernelspec": {
   "display_name": "coin",
   "language": "python",
   "name": "python3"
  },
  "language_info": {
   "codemirror_mode": {
    "name": "ipython",
    "version": 3
   },
   "file_extension": ".py",
   "mimetype": "text/x-python",
   "name": "python",
   "nbconvert_exporter": "python",
   "pygments_lexer": "ipython3",
   "version": "3.13.2"
  }
 },
 "nbformat": 4,
 "nbformat_minor": 5
}
