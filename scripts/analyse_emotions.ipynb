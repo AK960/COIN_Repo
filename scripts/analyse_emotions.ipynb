{
 "cells": [
  {
   "cell_type": "markdown",
   "id": "e2ac6fbebcfa0983",
   "metadata": {},
   "source": [
    "# Emotion Analysis - Part 1\n",
    "### <i>Data Preparation and Emotion Analysis with Text-Classification Model</i>"
   ]
  },
  {
   "metadata": {},
   "cell_type": "markdown",
   "source": "[Imports]",
   "id": "1a1133e22ef4f261"
  },
  {
   "cell_type": "code",
   "id": "initial_id",
   "metadata": {
    "collapsed": true,
    "ExecuteTime": {
     "end_time": "2025-06-18T08:24:41.086823Z",
     "start_time": "2025-06-18T08:24:40.673889Z"
    }
   },
   "source": [
    "### Imports\n",
    "import re\n",
    "import numpy as np\n",
    "import pandas as pd\n",
    "from matplotlib import style\n",
    "from pandas.core.dtypes.common import infer_dtype_from_object\n",
    "\n",
    "style.use('ggplot')\n",
    "import nltk\n",
    "from nltk.stem import PorterStemmer\n",
    "from nltk.corpus import stopwords\n",
    "nltk.download('stopwords')\n",
    "stop_words = set(stopwords.words('english'))\n",
    "import json\n",
    "import torch\n",
    "from transformers import pipeline\n",
    "from tqdm import tqdm\n",
    "import pytz\n"
   ],
   "outputs": [
    {
     "name": "stderr",
     "output_type": "stream",
     "text": [
      "[nltk_data] Downloading package stopwords to\n",
      "[nltk_data]     C:\\Users\\aklei\\AppData\\Roaming\\nltk_data...\n",
      "[nltk_data]   Package stopwords is already up-to-date!\n"
     ]
    }
   ],
   "execution_count": 86
  },
  {
   "metadata": {},
   "cell_type": "markdown",
   "source": [
    "[Data Preparation]<br>\n",
    "Normalizing the quoted_tweets-dictionary to create a dataframe that contains the text of the quoted and origional tweet"
   ],
   "id": "ac53443b9391eb8b"
  },
  {
   "cell_type": "code",
   "id": "c37722425b3f995",
   "metadata": {
    "ExecuteTime": {
     "end_time": "2025-06-18T08:24:43.674628Z",
     "start_time": "2025-06-18T08:24:41.123146Z"
    }
   },
   "source": [
    "### Prepare dataframe for analysis\n",
    "# Import dataset\n",
    "df_tweets = pd.read_csv(\n",
    "    '../data/twitter/tweets_isTweet.csv',\n",
    "    dtype={'id': 'object'},\n",
    "    low_memory=False\n",
    ")\n",
    "df_tweets = df_tweets[['id', 'createdAt', 'text', 'quoted_tweet']]\n",
    "df_tweets = df_tweets.rename(columns={'id': 'tweet_id', 'text': 'tweet_text'})\n",
    "\n",
    "# Normalize json column\n",
    "quoted_tweets_normalized = pd.json_normalize(\n",
    "    df_tweets['quoted_tweet'].apply(\n",
    "        lambda x: json.loads(x) if pd.notna(x) and isinstance(x, str) else None\n",
    "    )\n",
    ")\n",
    "quoted_tweets_normalized = quoted_tweets_normalized.rename(columns={'id': 'quoted_tweet_id', 'text': 'quoted_tweet_text'})\n",
    "\n",
    "# Link by index\n",
    "df_tweets.index = quoted_tweets_normalized.index\n",
    "\n",
    "# Concat both dataframes\n",
    "df_tweets_normalized = pd.concat([\n",
    "    df_tweets[['tweet_id', 'createdAt', 'tweet_text']],\n",
    "    quoted_tweets_normalized[['quoted_tweet_id', 'quoted_tweet_text']]\n",
    "], axis=1)\n",
    "\n",
    "# View data\n",
    "df_tweets_normalized.head()"
   ],
   "outputs": [
    {
     "data": {
      "text/plain": [
       "              tweet_id                       createdAt  \\\n",
       "0  1917726279195058338  Wed Apr 30 23:42:29 +0000 2025   \n",
       "1  1917693698281787564  Wed Apr 30 21:33:01 +0000 2025   \n",
       "2  1917225430702240067  Tue Apr 29 14:32:17 +0000 2025   \n",
       "3  1917114631287718009  Tue Apr 29 07:12:01 +0000 2025   \n",
       "4  1917103264417649121  Tue Apr 29 06:26:50 +0000 2025   \n",
       "\n",
       "                tweet_text      quoted_tweet_id  \\\n",
       "0  https://t.co/U6tI9pdin6                  NaN   \n",
       "1  https://t.co/1c1WjFpOva                  NaN   \n",
       "2       This is a big deal  1917223651625099407   \n",
       "3  https://t.co/6xSd8l67FN                  NaN   \n",
       "4                     Whoa  1917011279757066291   \n",
       "\n",
       "                                   quoted_tweet_text  \n",
       "0                                                NaN  \n",
       "1                                                NaN  \n",
       "2  Last week, Treasury went live with its first a...  \n",
       "3                                                NaN  \n",
       "4  🚨THE INVISIBLE PUPPET MASTERS: AI'S DISTURBING...  "
      ],
      "text/html": [
       "<div>\n",
       "<style scoped>\n",
       "    .dataframe tbody tr th:only-of-type {\n",
       "        vertical-align: middle;\n",
       "    }\n",
       "\n",
       "    .dataframe tbody tr th {\n",
       "        vertical-align: top;\n",
       "    }\n",
       "\n",
       "    .dataframe thead th {\n",
       "        text-align: right;\n",
       "    }\n",
       "</style>\n",
       "<table border=\"1\" class=\"dataframe\">\n",
       "  <thead>\n",
       "    <tr style=\"text-align: right;\">\n",
       "      <th></th>\n",
       "      <th>tweet_id</th>\n",
       "      <th>createdAt</th>\n",
       "      <th>tweet_text</th>\n",
       "      <th>quoted_tweet_id</th>\n",
       "      <th>quoted_tweet_text</th>\n",
       "    </tr>\n",
       "  </thead>\n",
       "  <tbody>\n",
       "    <tr>\n",
       "      <th>0</th>\n",
       "      <td>1917726279195058338</td>\n",
       "      <td>Wed Apr 30 23:42:29 +0000 2025</td>\n",
       "      <td>https://t.co/U6tI9pdin6</td>\n",
       "      <td>NaN</td>\n",
       "      <td>NaN</td>\n",
       "    </tr>\n",
       "    <tr>\n",
       "      <th>1</th>\n",
       "      <td>1917693698281787564</td>\n",
       "      <td>Wed Apr 30 21:33:01 +0000 2025</td>\n",
       "      <td>https://t.co/1c1WjFpOva</td>\n",
       "      <td>NaN</td>\n",
       "      <td>NaN</td>\n",
       "    </tr>\n",
       "    <tr>\n",
       "      <th>2</th>\n",
       "      <td>1917225430702240067</td>\n",
       "      <td>Tue Apr 29 14:32:17 +0000 2025</td>\n",
       "      <td>This is a big deal</td>\n",
       "      <td>1917223651625099407</td>\n",
       "      <td>Last week, Treasury went live with its first a...</td>\n",
       "    </tr>\n",
       "    <tr>\n",
       "      <th>3</th>\n",
       "      <td>1917114631287718009</td>\n",
       "      <td>Tue Apr 29 07:12:01 +0000 2025</td>\n",
       "      <td>https://t.co/6xSd8l67FN</td>\n",
       "      <td>NaN</td>\n",
       "      <td>NaN</td>\n",
       "    </tr>\n",
       "    <tr>\n",
       "      <th>4</th>\n",
       "      <td>1917103264417649121</td>\n",
       "      <td>Tue Apr 29 06:26:50 +0000 2025</td>\n",
       "      <td>Whoa</td>\n",
       "      <td>1917011279757066291</td>\n",
       "      <td>🚨THE INVISIBLE PUPPET MASTERS: AI'S DISTURBING...</td>\n",
       "    </tr>\n",
       "  </tbody>\n",
       "</table>\n",
       "</div>"
      ]
     },
     "execution_count": 87,
     "metadata": {},
     "output_type": "execute_result"
    }
   ],
   "execution_count": 87
  },
  {
   "metadata": {},
   "cell_type": "markdown",
   "source": [
    "[Data Transformation]<br>\n",
    "The following cell contains functions for the second step of data preparation, namely removing noise, truncating text, stemming words, and subsequently performing the emotion analysis."
   ],
   "id": "c7d4fb859ca258cd"
  },
  {
   "cell_type": "code",
   "id": "c3f0b8cab02dc451",
   "metadata": {
    "ExecuteTime": {
     "end_time": "2025-06-18T08:24:44.389094Z",
     "start_time": "2025-06-18T08:24:43.729318Z"
    }
   },
   "source": [
    "### Pre-process data for the analysis\n",
    "## Variables\n",
    "ekman_emotions = ['anger', 'fear', 'joy', 'sadness', 'disgust', 'surprise']\n",
    "\n",
    "## Classifier\n",
    "# Load Hugging Face's emotion classifier\n",
    "print(\"[Info]\")\n",
    "device = \"cuda\" if torch.cuda.is_available() else \"cpu\"\n",
    "classifier = pipeline(\"text-classification\", model=\"bhadresh-savani/bert-base-uncased-emotion\", top_k=None, device=0 if device == \"cuda\" else -1)\n",
    "\n",
    "## Functions\n",
    "# Removing noise from the text\n",
    "def remove_noise(text):\n",
    "    text = text.lower()\n",
    "    text = re.sub(r\"https\\S+|www\\S+httpss\\S+\", '', text, flags=re.MULTILINE) # Remove Url\n",
    "    text = re.sub(r\"\\@w+|\\#\", '', text) # remove @ and #\n",
    "    text = re.sub(r\"[^\\w\\s]\", '', text) # remove punctuation\n",
    "    text_tokens = text.split()\n",
    "    filtered_text = [w for w in text_tokens if not w in stop_words]\n",
    "    return \" \".join(filtered_text)\n",
    "\n",
    "# Reduction of dimensionality by abstracting word to word stem\n",
    "stemmer = PorterStemmer()\n",
    "def stem_words(text):\n",
    "    words = text.split()\n",
    "    stemmed_text = [stemmer.stem(word) for word in words]\n",
    "    return stemmed_text\n",
    "\n",
    "def truncate_text(text, max_length=512):\n",
    "    words = text.split()\n",
    "    return \" \".join(words[:max_length])\n",
    "\n",
    "def compute_emotions(text):\n",
    "    if not isinstance(text, str) or text.strip() == \"\":\n",
    "        print(\"[ComputeEmotions] Empty cell after data cleaning. Returning 0.0 for all emotions.\")\n",
    "        return {emotion: 0.0 for emotion in ekman_emotions}\n",
    "\n",
    "    try:\n",
    "    #    # Remove noise from text - when empty afterward, return 0.0 for all emotions\n",
    "    #    cleaned_text = remove_noise(text)\n",
    "    #    if not cleaned_text.strip(): \n",
    "    #        return {emotion: 0.0 for emotion in ekman_emotions}\n",
    "    #    \n",
    "    #    # Remove dimensionality by stemming and converts a list from stemming back to string for classification\n",
    "    #    cleaned_text = \" \".join(stem_words(cleaned_text)) \n",
    "\n",
    "        # Classify emotions using the Hugging Face pipeline and handle errors\n",
    "        results = classifier(text)[0]\n",
    "        if not results or not isinstance(results, list) or len(results[0]) == 0:\n",
    "            return {emotion: 0.0 for emotion in ekman_emotions}\n",
    "\n",
    "        emotion_scores = {result['label']: result['score'] for result in results}\n",
    "        return {emotion: emotion_scores.get(emotion, 0.0) for emotion in ekman_emotions}\n",
    "\n",
    "    except Exception as e:\n",
    "        print(f\"[ComputeEmotions] Error while processing text: {text[:20]}... Error: {e}\")\n",
    "        return {emotion: 0.0 for emotion in ekman_emotions}\n",
    "\n",
    "def append_emotions(df, text_column):\n",
    "    if text_column not in df.columns:\n",
    "        raise ValueError(f\"[AppendEmotions] Column '{text_column}' not found in DataFrame.\")\n",
    "    \n",
    "    print(\"[AppendEmotions] Computing emotions for column:\", text_column)\n",
    "\n",
    "    cleaned_column = f\"{text_column}_cleaned\"\n",
    "    df[cleaned_column] = df[text_column].apply(\n",
    "        lambda x: \" \".join(stem_words(remove_noise(x))) if isinstance(x, str) and x.strip() else \"\"\n",
    "    )\n",
    "\n",
    "    # Truncate text if cleaned text exceeds 512 tokens\n",
    "    if (df[cleaned_column].str.split().str.len() > 512).any():\n",
    "        print(\"[AppendEmotions] At least one row with more than 512 tokens - truncating text ...\")\n",
    "        df[cleaned_column] = df[cleaned_column].apply(lambda x: truncate_text(x, max_length=512))\n",
    "\n",
    "    emotion_scores = [compute_emotions(text) for text in tqdm(df[cleaned_column], desc=\"[AppendEmotions] Processing emotions\")]\n",
    "    emotions_df = pd.DataFrame(emotion_scores)\n",
    "    emotions_df.index = df.index\n",
    "    emotions_df.columns = [f\"{text_column}_{emotion}\" for emotion in ekman_emotions]\n",
    "    \n",
    "    # Add dominant emotion column\n",
    "    dominant = emotions_df.idxmax(axis=1).apply(lambda x: x.split('_')[-1])\n",
    "    all_zero = (emotions_df == 0.0).all(axis=1)\n",
    "    dominant[all_zero] = np.nan\n",
    "    emotions_df[f\"{text_column}_dominant_emotion\"] = dominant\n",
    "\n",
    "    # Insert right hand of input text_column\n",
    "    insert_at = df.columns.get_loc(text_column) + 1\n",
    "\n",
    "    # DataFrame in drei Teile splitten und zusammenfügen\n",
    "    left = df.iloc[:, :insert_at]\n",
    "    right = df.iloc[:, insert_at:].drop(columns=[cleaned_column], errors='ignore')\n",
    "    result_df = pd.concat([left, df[[cleaned_column]], emotions_df, right], axis=1)\n",
    "\n",
    "    return result_df\n"
   ],
   "outputs": [
    {
     "name": "stdout",
     "output_type": "stream",
     "text": [
      "[Info]\n"
     ]
    },
    {
     "name": "stderr",
     "output_type": "stream",
     "text": [
      "Device set to use cpu\n"
     ]
    }
   ],
   "execution_count": 88
  },
  {
   "metadata": {},
   "cell_type": "markdown",
   "source": [
    "[Applying Functions]<br>\n",
    "This part is only run once to create the new csv-file. Subsequently, the further analysis is performed on the new dataset."
   ],
   "id": "eb9a40830b616e20"
  },
  {
   "metadata": {
    "ExecuteTime": {
     "end_time": "2025-06-18T08:24:44.443711Z",
     "start_time": "2025-06-18T08:24:44.441021Z"
    }
   },
   "cell_type": "code",
   "source": [
    "# Perform emotion analysis for columns specified\n",
    "#for col in ['tweet_text', 'quoted_tweet_text']:\n",
    "#    df_tweets_normalized = append_emotions(df_tweets_normalized, text_column=col)\n",
    "\n",
    "# Safe the DataFrame with emotions to csv\n",
    "#df_tweets_normalized.to_csv('../data/twitter/tweets_isTweet_emotions.csv', index=False)"
   ],
   "id": "9db3676b",
   "outputs": [],
   "execution_count": 89
  },
  {
   "metadata": {},
   "cell_type": "markdown",
   "source": [
    "# Emotion Analysis - Part 2\n",
    "### <i>Statistical Analysis</i>"
   ],
   "id": "b358fcc34cf7a087"
  },
  {
   "metadata": {
    "ExecuteTime": {
     "end_time": "2025-06-18T08:26:23.946104Z",
     "start_time": "2025-06-18T08:26:22.637389Z"
    }
   },
   "cell_type": "code",
   "source": [
    "# Set timezone\n",
    "eastern = pytz.timezone(\"US/Eastern\")\n",
    "\n",
    "# Read necessary data and convert to the same timezone\n",
    "## Tweet data\n",
    "df_tweets_normalized = pd.read_csv('../data/twitter/tweets_isTweet_emotions.csv')[\n",
    "    ['tweet_id', 'createdAt', 'tweet_text_dominant_emotion']\n",
    "].dropna()\n",
    "df_tweets_normalized = df_tweets_normalized.rename(columns={'createdAt': 'timestamp', 'tweet_text_dominant_emotion': 'emotion'})\n",
    "df_tweets_normalized['timestamp'] = pd.to_datetime(\n",
    "    df_tweets_normalized['timestamp'],\n",
    "    format=\"%a %b %d %H:%M:%S %z %Y\",\n",
    "    errors=\"coerce\")\n",
    "df_tweets_normalized['timestamp'] = df_tweets_normalized['timestamp'].dt.tz_convert(eastern)\n",
    "\n",
    "## Stock data\n",
    "df_stock_data = pd.read_csv('../data/stocks/tsla_intraday_202305_202504-1m.csv')\n",
    "df_stock_data = df_stock_data.rename(columns={'Unnamed: 0': 'timestamp'})\n",
    "df_stock_data['timestamp'] = pd.to_datetime(df_stock_data['timestamp']).dt.tz_localize(eastern)\n",
    "\n",
    "\n",
    "print(\"[df_tweets_normalized]\\n\", df_tweets_normalized.head(), \"\\n\")\n",
    "print(\"[df_stock_data]\\n\", df_stock_data.head())"
   ],
   "id": "4852931cdb52304a",
   "outputs": [
    {
     "name": "stdout",
     "output_type": "stream",
     "text": [
      "[df_tweets_normalized]\n",
      "               tweet_id                 timestamp emotion\n",
      "2  1917225430702240067 2025-04-29 10:32:17-04:00     joy\n",
      "4  1917103264417649121 2025-04-29 02:26:50-04:00     joy\n",
      "5  1917099777327829386 2025-04-29 02:12:59-04:00     joy\n",
      "6  1917071819003334728 2025-04-29 00:21:53-04:00     joy\n",
      "7  1917048786633036129 2025-04-28 22:50:22-04:00   anger \n",
      "\n",
      "[df_stock_data]\n",
      "                   timestamp    open    high     low   close  volume\n",
      "0 2023-05-01 04:00:00-04:00  164.30  165.00  164.07  164.58    4518\n",
      "1 2023-05-01 04:01:00-04:00  164.61  164.62  164.50  164.60    2880\n",
      "2 2023-05-01 04:03:00-04:00  164.30  164.40  164.28  164.28     968\n",
      "3 2023-05-01 04:04:00-04:00  164.15  164.15  164.15  164.15     100\n",
      "4 2023-05-01 04:05:00-04:00  164.00  164.00  163.60  163.70    2500\n"
     ]
    }
   ],
   "execution_count": 94
  },
  {
   "metadata": {
    "ExecuteTime": {
     "end_time": "2025-06-18T12:24:08.705647Z",
     "start_time": "2025-06-18T12:24:08.702248Z"
    }
   },
   "cell_type": "code",
   "source": "# Correlation Analysis",
   "id": "4b56f7e74f0aa7d7",
   "outputs": [],
   "execution_count": 96
  }
 ],
 "metadata": {
  "kernelspec": {
   "display_name": "coin",
   "language": "python",
   "name": "python3"
  },
  "language_info": {
   "codemirror_mode": {
    "name": "ipython",
    "version": 3
   },
   "file_extension": ".py",
   "mimetype": "text/x-python",
   "name": "python",
   "nbconvert_exporter": "python",
   "pygments_lexer": "ipython3",
   "version": "3.13.2"
  }
 },
 "nbformat": 4,
 "nbformat_minor": 5
}
