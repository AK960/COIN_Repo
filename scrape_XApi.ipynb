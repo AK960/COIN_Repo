{
 "cells": [
  {
   "metadata": {
    "ExecuteTime": {
     "end_time": "2025-05-01T22:06:13.991546Z",
     "start_time": "2025-05-01T22:06:13.983946Z"
    }
   },
   "cell_type": "code",
   "source": [
    "import json\n",
    "import time\n",
    "import csv\n",
    "import requests\n",
    "import os\n",
    "from pprint import pprint\n",
    "from configparser import ConfigParser\n",
    "from random import randint"
   ],
   "id": "fffbd479a67bf527",
   "outputs": [],
   "execution_count": 144
  },
  {
   "metadata": {
    "ExecuteTime": {
     "end_time": "2025-05-01T22:06:14.039232Z",
     "start_time": "2025-05-01T22:06:14.034174Z"
    }
   },
   "cell_type": "code",
   "source": "DEBUG_MODE = True",
   "id": "f6098b2a2f22e406",
   "outputs": [],
   "execution_count": 145
  },
  {
   "metadata": {
    "ExecuteTime": {
     "end_time": "2025-05-01T22:06:14.106610Z",
     "start_time": "2025-05-01T22:06:14.091248Z"
    }
   },
   "cell_type": "code",
   "source": [
    "# Read api_key from config.ini\n",
    "api_key: str | None = None\n",
    "try:\n",
    "    print(\"Reading api-key from config.ini ...\")\n",
    "    config = ConfigParser()\n",
    "    config.read('conf/config.ini') # adjust the path to config.ini\n",
    "    api_key = config['TWITTERAPI']['API_KEY']\n",
    "    print(f\"API Key gefunden: {api_key[:5]} ...\")\n",
    "\n",
    "except Exception as e:\n",
    "    print(\"Failed to read credentials. Exit with error:\")\n",
    "    print(e)"
   ],
   "id": "45db1b57136b4e6",
   "outputs": [
    {
     "name": "stdout",
     "output_type": "stream",
     "text": [
      "Reading api-key from config.ini ...\n",
      "API Key gefunden: 1228a ...\n"
     ]
    }
   ],
   "execution_count": 146
  },
  {
   "metadata": {
    "ExecuteTime": {
     "end_time": "2025-05-01T22:06:14.585736Z",
     "start_time": "2025-05-01T22:06:14.572288Z"
    }
   },
   "cell_type": "code",
   "source": [
    "if api_key is None:\n",
    "    raise ValueError(\"Could not read api key.\")\n",
    "\n",
    "# Array to store tweets\n",
    "all_tweets = []\n",
    "\n",
    "# Parameters for api request\n",
    "headers = {\"X-API-Key\": api_key}\n",
    "url = \"https://api.twitterapi.io/twitter/tweet/advanced_search\"\n",
    "cursor = \"\"\n",
    "\n",
    "# counter\n",
    "i = 1"
   ],
   "id": "initial_id",
   "outputs": [],
   "execution_count": 147
  },
  {
   "metadata": {
    "ExecuteTime": {
     "end_time": "2025-05-01T22:06:16.575045Z",
     "start_time": "2025-05-01T22:06:15.249670Z"
    }
   },
   "cell_type": "code",
   "source": [
    "# Endless loop based on has_next_page - break when false\n",
    "while True:\n",
    "    try:\n",
    "        # Make https request\n",
    "        response = requests.request(\n",
    "            \"GET\",\n",
    "            url,\n",
    "            headers=headers,\n",
    "            params={\n",
    "                \"query\": \"from:elonmusk since:2023-05-01 until:2025-05-01 -is:retweet\",\n",
    "                \"cursor\": cursor\n",
    "                # querytype: \"latest\" by default\n",
    "            }\n",
    "        )\n",
    "\n",
    "        if response.status_code == 200:\n",
    "            # Debugging infos\n",
    "            print(f\"Status Code: {response.status_code}\")\n",
    "\n",
    "            # throw exception for http error\n",
    "            response.raise_for_status()\n",
    "\n",
    "            # Store response\n",
    "            json_data = response.json()\n",
    "\n",
    "            # Extract necessary vars\n",
    "            tweets = json_data.get(\"tweets\", [])\n",
    "            has_next_page = json_data.get(\"has_next_page\")\n",
    "            next_cursor = json_data.get(\"next_cursor\")\n",
    "\n",
    "            # Store and debug tweets\n",
    "            prev_tweet_count = len(all_tweets)\n",
    "            all_tweets.extend(tweets)\n",
    "            new_tweet_count = len(all_tweets) - prev_tweet_count\n",
    "            print(f\"New Tweets in iteration {i}: {new_tweet_count}\")\n",
    "            print(f\"Total Tweet count: {len(all_tweets)}\")\n",
    "\n",
    "            # Break if debug mode is active\n",
    "            if DEBUG_MODE:\n",
    "                debug_mode_tweets = json_data[\"tweets\"][new_tweet_count - 1]\n",
    "                print(f'DEBUG_MODE active: stopping after first page. Got {new_tweet_count} tweets:')\n",
    "                pprint(debug_mode_tweets)\n",
    "                break\n",
    "\n",
    "            if not has_next_page:\n",
    "                print(f\"Got {new_tweet_count} tweets. Finished.\")\n",
    "                break\n",
    "\n",
    "            # Prepare the next iteration\n",
    "            print(f\"Next page detected @ '{next_cursor[:10]}'. Updating cursor ...\")\n",
    "            cursor = next_cursor\n",
    "            i += 1\n",
    "\n",
    "            # Wait random time to avoid rate limits\n",
    "            delay = randint(1, 5)\n",
    "            print(f\"Starting new iteration in {delay} seconds ...\")\n",
    "            time.sleep(delay)\n",
    "\n",
    "    except Exception as e:\n",
    "        print(\"Error when requesting and processing tweets:\")\n",
    "        print(e)\n",
    "        break\n",
    "\n"
   ],
   "id": "c7eb9bb6aafe3651",
   "outputs": [
    {
     "name": "stdout",
     "output_type": "stream",
     "text": [
      "Status Code: 200\n",
      "New Tweets in iteration 1: 20\n",
      "Total Tweet count: 20\n",
      "DEBUG_MODE active: stopping after first page. Got 20 tweets:\n",
      "{'author': {'affiliatesHighlightedLabel': {},\n",
      "            'automatedBy': None,\n",
      "            'canDm': False,\n",
      "            'canMediaTag': False,\n",
      "            'coverPicture': 'https://pbs.twimg.com/profile_banners/44196397/1739948056',\n",
      "            'createdAt': 'Tue Jun 02 20:12:29 +0000 2009',\n",
      "            'description': '',\n",
      "            'entities': {'description': {'urls': []}, 'url': {}},\n",
      "            'fastFollowersCount': 0,\n",
      "            'favouritesCount': 143653,\n",
      "            'followers': 219954626,\n",
      "            'following': 1115,\n",
      "            'hasCustomTimelines': True,\n",
      "            'id': '44196397',\n",
      "            'isAutomated': False,\n",
      "            'isBlueVerified': True,\n",
      "            'isTranslator': False,\n",
      "            'isVerified': False,\n",
      "            'location': '',\n",
      "            'mediaCount': 3813,\n",
      "            'name': 'Elon Musk',\n",
      "            'pinnedTweetIds': ['1917099777327829386'],\n",
      "            'possiblySensitive': False,\n",
      "            'profilePicture': 'https://pbs.twimg.com/profile_images/1893803697185910784/Na5lOWi5_normal.jpg',\n",
      "            'profile_bio': {'description': '', 'entities': {'description': {}}},\n",
      "            'status': '',\n",
      "            'statusesCount': 77787,\n",
      "            'twitterUrl': 'https://twitter.com/elonmusk',\n",
      "            'type': 'user',\n",
      "            'url': 'https://x.com/elonmusk',\n",
      "            'userName': 'elonmusk',\n",
      "            'withheldInCountries': []},\n",
      " 'bookmarkCount': 19,\n",
      " 'card': None,\n",
      " 'conversationId': '1916949391962779663',\n",
      " 'createdAt': 'Tue Apr 29 06:44:18 +0000 2025',\n",
      " 'entities': {'user_mentions': [{'id_str': '69156861',\n",
      "                                 'indices': [0, 13],\n",
      "                                 'name': 'Chief Nerd',\n",
      "                                 'screen_name': 'TheChiefNerd'}]},\n",
      " 'extendedEntities': {},\n",
      " 'id': '1917107656088817757',\n",
      " 'inReplyToId': '1916949391962779663',\n",
      " 'inReplyToUserId': '69156861',\n",
      " 'inReplyToUsername': 'TheChiefNerd',\n",
      " 'isReply': True,\n",
      " 'lang': 'qme',\n",
      " 'likeCount': 947,\n",
      " 'place': {},\n",
      " 'quoteCount': 8,\n",
      " 'quoted_tweet': None,\n",
      " 'replyCount': 124,\n",
      " 'retweetCount': 51,\n",
      " 'retweeted_tweet': None,\n",
      " 'source': 'Twitter for iPhone',\n",
      " 'text': '@TheChiefNerd 🤔',\n",
      " 'twitterUrl': 'https://twitter.com/elonmusk/status/1917107656088817757',\n",
      " 'type': 'tweet',\n",
      " 'url': 'https://x.com/elonmusk/status/1917107656088817757',\n",
      " 'viewCount': 51429}\n"
     ]
    }
   ],
   "execution_count": 148
  },
  {
   "metadata": {
    "ExecuteTime": {
     "end_time": "2025-05-01T22:06:16.684527Z",
     "start_time": "2025-05-01T22:06:16.665198Z"
    }
   },
   "cell_type": "code",
   "source": [
    "try:\n",
    "    print('Finished request. Converting results to file ...')\n",
    "\n",
    "    # Create the dir if it does not exist\n",
    "    if not os.path.exists(\"res\"):\n",
    "        os.mkdir(\"res\")\n",
    "\n",
    "    # Target location\n",
    "    filepath = \"res/tweets.csv\"\n",
    "\n",
    "    # Store existing tweet ids as set and write all existing ones\n",
    "    existing_ids = set()\n",
    "    if os.path.exists(filepath):\n",
    "        with open(filepath, \"r\", encoding=\"utf-8\", newline='') as f:\n",
    "            reader = csv.DictReader(f)\n",
    "            for row in reader:\n",
    "                existing_ids.add(row[\"id\"])\n",
    "\n",
    "    # Open the file in append mode\n",
    "    with open(filepath, \"a\", encoding=\"utf-8\", newline='') as f:\n",
    "        if not all_tweets:\n",
    "            print(\"No tweets to write. Exiting ...\")\n",
    "            exit()\n",
    "\n",
    "        # Flatten tweet structure\n",
    "        def flatten_tweet(tweet):\n",
    "            if not tweet:\n",
    "                return {}\n",
    "\n",
    "            flat = {}\n",
    "            for k, v in tweet.items():\n",
    "                try:\n",
    "                    if isinstance(v, (dict, list)):\n",
    "                        flat[k] = json.dumps(v, ensure_ascii=False)\n",
    "                    else:\n",
    "                        flat[k] = v\n",
    "                except Exception as e:\n",
    "                    print(f\"Error when processing field {k}: {e}\")\n",
    "                    flat[k] = None\n",
    "            return flat\n",
    "\n",
    "        flattened_tweets = [flatten_tweet(tw) for tw in all_tweets]\n",
    "        if not flattened_tweets:\n",
    "            print(\"Did not find tweets to write. Exiting ...\")\n",
    "            exit()\n",
    "\n",
    "        # Derive col names from the first tweet\n",
    "        fieldnames = list(flattened_tweets[0].keys())\n",
    "\n",
    "        # Create a csv writer with fieldnames\n",
    "        writer = csv.DictWriter(f, fieldnames=fieldnames)\n",
    "        if os.stat(filepath).st_size == 0:\n",
    "            writer.writeheader()\n",
    "\n",
    "        # Write new tweets to a file\n",
    "        new_count = 0\n",
    "        for tweet in flattened_tweets:\n",
    "            if tweet[\"id\"] not in existing_ids:\n",
    "                writer.writerow(tweet)\n",
    "                new_count += 1\n",
    "\n",
    "        print(f\"Wrote {new_count} new tweets to CSV.\")\n",
    "\n",
    "except Exception as e:\n",
    "    print('Failed to convert tweets to file. Exit with error:')\n",
    "    print(e)"
   ],
   "id": "88109f6b7632dd53",
   "outputs": [
    {
     "name": "stdout",
     "output_type": "stream",
     "text": [
      "Finished request. Converting results to file ...\n",
      "Wrote 0 new tweets to CSV.\n"
     ]
    }
   ],
   "execution_count": 149
  },
  {
   "metadata": {
    "ExecuteTime": {
     "end_time": "2025-05-01T22:06:16.793842Z",
     "start_time": "2025-05-01T22:06:16.789846Z"
    }
   },
   "cell_type": "code",
   "source": [
    "# If the previous cell says it cannot find the location, run this first\n",
    "# import os\n",
    "# os.chdir(os.path.expanduser(\"~/PycharmProjects/COIN_Repo\")) # adjust path to root dir of project\n",
    "# os.getcwd()"
   ],
   "id": "9b677c4f219790a9",
   "outputs": [],
   "execution_count": 150
  }
 ],
 "metadata": {
  "kernelspec": {
   "display_name": "Python 3",
   "language": "python",
   "name": "python3"
  },
  "language_info": {
   "codemirror_mode": {
    "name": "ipython",
    "version": 2
   },
   "file_extension": ".py",
   "mimetype": "text/x-python",
   "name": "python",
   "nbconvert_exporter": "python",
   "pygments_lexer": "ipython2",
   "version": "2.7.6"
  }
 },
 "nbformat": 4,
 "nbformat_minor": 5
}
