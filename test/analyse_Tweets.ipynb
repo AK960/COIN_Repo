{
 "cells": [
  {
   "cell_type": "markdown",
   "id": "3672feb08161c328",
   "metadata": {},
   "source": [
    "# Data Preparation"
   ]
  },
  {
   "cell_type": "code",
   "id": "623eba49e8f8a0d7",
   "metadata": {
    "ExecuteTime": {
     "end_time": "2025-06-01T11:46:49.881040Z",
     "start_time": "2025-06-01T11:46:44.138486Z"
    }
   },
   "source": [
    "# import all libraries for notebook\n",
    "import pandas as pd\n",
    "from pandas import json_normalize\n",
    "import numpy as np\n",
    "import re\n",
    "import seaborn as sns\n",
    "import matplotlib.pyplot as plt\n",
    "from matplotlib import style\n",
    "style.use('ggplot')\n",
    "from textblob import TextBlob\n",
    "import nltk\n",
    "from nltk.tokenize import word_tokenize\n",
    "from nltk.stem import PorterStemmer\n",
    "from nltk.corpus import stopwords\n",
    "#nltk.download('stopwords')\n",
    "stop_words = set(stopwords.words('english'))\n",
    "from wordcloud import WordCloud\n",
    "from sklearn.feature_extraction.text import CountVectorizer\n",
    "from sklearn.model_selection import train_test_split\n",
    "from sklearn.linear_model import LogisticRegression\n",
    "from sklearn.metrics import accuracy_score, confusion_matrix, classification_report, ConfusionMatrixDisplay\n",
    "import json\n",
    "from json import loads, dumps\n",
    "from pprint import pprint\n",
    "import torch\n",
    "from transformers import pipeline\n",
    "from tqdm import tqdm"
   ],
   "outputs": [],
   "execution_count": 1
  },
  {
   "cell_type": "code",
   "id": "7bf956b2a1f07fe5",
   "metadata": {
    "ExecuteTime": {
     "end_time": "2025-06-01T13:33:27.401803Z",
     "start_time": "2025-06-01T13:33:24.402159Z"
    }
   },
   "source": [
    "# Import files\n",
    "df_replies = pd.read_csv('../data/twitter/tweets_isReply.csv', dtype={'id': 'object'}, low_memory=False)\n",
    "df_tweets = pd.read_csv('../data/twitter/tweets_isTweet.csv', dtype={'id': 'object'}, low_memory=False)\n",
    "df_all = pd.read_csv('../data/twitter/tweets.csv', dtype={'id': 'object'}, low_memory=False)\n",
    "# Create and prepare Dataframes\n",
    "# Original tweets\n",
    "df_nonQuotedTweets = df_tweets[df_tweets['quoted_tweet'].isna()]\n",
    "df_nonQuotedTweets = df_nonQuotedTweets.rename(columns={'id': 'tweet_id', 'text': 'tweet_text'})\n",
    "# Quoted tweets\n",
    "df_quotedTweets = df_tweets.dropna(subset=['quoted_tweet'])\n",
    "df_quotedTweets = df_quotedTweets.rename(columns={'id': 'tweet_id', 'text': 'tweet_text'})"
   ],
   "outputs": [],
   "execution_count": 2
  },
  {
   "metadata": {
    "ExecuteTime": {
     "end_time": "2025-05-30T15:31:52.109879Z",
     "start_time": "2025-05-30T15:31:52.093148Z"
    }
   },
   "cell_type": "code",
   "source": [
    "print(\"[df_quotedTweets]\")\n",
    "print(\"Data from: \", df_quotedTweets['createdAt'].max(), \" to: \", df_quotedTweets['createdAt'].min())\n",
    "print(\"Shape:\", df_quotedTweets.shape)\n",
    "print(\"[df_nonQuotedTweets]\")\n",
    "print(\"Data from: \", df_nonQuotedTweets['createdAt'].max(), \" to: \", df_nonQuotedTweets['createdAt'].min())\n",
    "print(\"Shape:\", df_nonQuotedTweets.shape)\n",
    "print(\"[df_all]\")\n",
    "print(\"Data from: \", df_all['createdAt'].max(), \" to: \", df_all['createdAt'].min())\n",
    "print(\"Shape:\", df_all.shape)\n"
   ],
   "id": "983ef9e857e6ff15",
   "outputs": [
    {
     "name": "stdout",
     "output_type": "stream",
     "text": [
      "[df_quotedTweets]\n",
      "Data from:  Wed Sep 27 21:38:13 +0000 2023  to:  Fri Apr 04 02:42:55 +0000 2025\n",
      "Shape: (8349, 26)\n",
      "[df_nonQuotedTweets]\n",
      "Data from:  Wed Sep 27 23:06:04 +0000 2023  to:  Fri Apr 04 04:18:02 +0000 2025\n",
      "Shape: (3113, 26)\n",
      "[df_all]\n",
      "Data from:  Wed Sep 25 20:45:08 +0000 2024  to:  Fri Apr 04 02:22:25 +0000 2025\n",
      "Shape: (21848, 26)\n"
     ]
    }
   ],
   "execution_count": 35
  },
  {
   "cell_type": "code",
   "id": "5503eeb0ff5fa5bb",
   "metadata": {
    "ExecuteTime": {
     "end_time": "2025-05-30T15:31:52.195177Z",
     "start_time": "2025-05-30T15:31:52.187598Z"
    }
   },
   "source": [
    "### Functions\n",
    "# Removing unnecessary data\n",
    "def data_processing(text):\n",
    "    text = text.lower()\n",
    "    text = re.sub(r\"https\\S+|www\\S+httpss\\S+\", '', text, flags=re.MULTILINE) # Remove Url\n",
    "    text = re.sub(r\"\\@w+|\\#\", '', text) # remove @ and #\n",
    "    text = re.sub(r\"[^\\w\\s]\", '', text) # remove punctuation\n",
    "    text_tokens = text.split()\n",
    "    filtered_text = [w for w in text_tokens if not w in stop_words]\n",
    "    return \" \".join(filtered_text)\n",
    "\n",
    "# Reduction of dimensionality by abstracting word to word stem\n",
    "stemmer = PorterStemmer() \n",
    "def stemming(data):\n",
    "    text = [stemmer.stem(word) for word in data]\n",
    "    return data\n",
    "\n",
    "def polarity(text):\n",
    "    return TextBlob(text).sentiment.polarity\n",
    "\n",
    "def sentiment(label):\n",
    "    if label < 0:\n",
    "        return \"negative\"\n",
    "    elif label == 0:\n",
    "        return \"neutral\"\n",
    "    elif label > 0:\n",
    "        return \"positive\"\n",
    "    return None"
   ],
   "outputs": [],
   "execution_count": 36
  },
  {
   "cell_type": "code",
   "id": "d048b1e351db2690",
   "metadata": {
    "ExecuteTime": {
     "end_time": "2025-05-30T15:31:57.980519Z",
     "start_time": "2025-05-30T15:31:52.266420Z"
    }
   },
   "source": [
    "### Sentiment Analysis with df_quotedTweets\n",
    "## Prepare data\n",
    "# Normalize quoted_tweet column\n",
    "df_quotedTweets_normalized = pd.json_normalize(\n",
    "    df_quotedTweets['quoted_tweet'].apply(json.loads),\n",
    "    sep='_'\n",
    ")\n",
    "\n",
    "# Link both dataframes by index\n",
    "df_quotedTweets_normalized.index = df_quotedTweets.index\n",
    "\n",
    "# Rename columns\n",
    "df_quotedTweets_normalized.columns = ['quoted_tweet_' + col for col in df_quotedTweets_normalized.columns]\n",
    "\n",
    "# Concatenate the two dataframes\n",
    "df_final = pd.concat([\n",
    "    df_quotedTweets[['tweet_id', 'tweet_text']],\n",
    "    df_quotedTweets_normalized[['quoted_tweet_id', 'quoted_tweet_text']]\n",
    "], axis=1)\n",
    "\n",
    "## Process data and perform analysis\n",
    "# Pre-processing\n",
    "df_final.quoted_tweet_text = df_final['quoted_tweet_text'].apply(data_processing)\n",
    "df_final.tweet_text = df_final['tweet_text'].apply(data_processing)\n",
    "\n",
    "# Stemming\n",
    "df_final['quoted_tweet_text'] = df_final['quoted_tweet_text'].apply(lambda x: stemming(x))\n",
    "\n",
    "# Polarity\n",
    "df_final['polarity'] = df_final['quoted_tweet_text'].apply(polarity)\n",
    "\n",
    "# Sentiment\n",
    "df_final['sentiment'] = df_final['polarity'].apply(sentiment)\n",
    "\n",
    "df_final"
   ],
   "outputs": [
    {
     "data": {
      "text/plain": [
       "                  tweet_id                                         tweet_text  \\\n",
       "2      1917225430702240067                                           big deal   \n",
       "4      1917103264417649121                                               whoa   \n",
       "5      1917099777327829386  next week grok 35 early beta release supergrok...   \n",
       "6      1917071819003334728                                 existential crisis   \n",
       "9      1917040536378335721  starlink trying service plan commitment exchan...   \n",
       "...                    ...                                                ...   \n",
       "11433  1655968899903418373                        massive public manipulation   \n",
       "11434  1655967673107337216                            whatsapp cannot trusted   \n",
       "11438  1655661734244261891                           livestream starting soon   \n",
       "11447  1654680950163361792  highly recommend organizations sign validate a...   \n",
       "11456  1653420591607607297                                       sunset space   \n",
       "\n",
       "           quoted_tweet_id                                  quoted_tweet_text  \\\n",
       "2      1917223651625099407  last week treasury went live first automated p...   \n",
       "4      1917011279757066291  invisible puppet masters ais disturbing new ro...   \n",
       "5      1917011847623987257  grok 3 sends usage soaring 10x spike downloads...   \n",
       "6      1917059115417014780  friendly reminder make babies japans total fer...   \n",
       "9      1917029886432317947  0 standard kit 12month residential service pla...   \n",
       "...                    ...                                                ...   \n",
       "11433  1655968201422012418  legacy media going shove bigotry porn throats ...   \n",
       "11434  1654856617723301888  whatsapp using microphone background asleep si...   \n",
       "11438  1655596008246587394  tesla lithium refinery groundbreaking streamed...   \n",
       "11447  1641596848921276417  verified organizations new way organizations a...   \n",
       "11456  1653418134068662272  stage separation sunset followed second stage ...   \n",
       "\n",
       "       polarity sentiment  \n",
       "2     -0.005519  negative  \n",
       "4      0.066279  positive  \n",
       "5      0.066667  positive  \n",
       "6      0.075000  positive  \n",
       "9      0.075000  positive  \n",
       "...         ...       ...  \n",
       "11433  0.050000  positive  \n",
       "11434  0.000000   neutral  \n",
       "11438  0.136364  positive  \n",
       "11447  0.123636  positive  \n",
       "11456  0.000000   neutral  \n",
       "\n",
       "[8349 rows x 6 columns]"
      ],
      "text/html": [
       "<div>\n",
       "<style scoped>\n",
       "    .dataframe tbody tr th:only-of-type {\n",
       "        vertical-align: middle;\n",
       "    }\n",
       "\n",
       "    .dataframe tbody tr th {\n",
       "        vertical-align: top;\n",
       "    }\n",
       "\n",
       "    .dataframe thead th {\n",
       "        text-align: right;\n",
       "    }\n",
       "</style>\n",
       "<table border=\"1\" class=\"dataframe\">\n",
       "  <thead>\n",
       "    <tr style=\"text-align: right;\">\n",
       "      <th></th>\n",
       "      <th>tweet_id</th>\n",
       "      <th>tweet_text</th>\n",
       "      <th>quoted_tweet_id</th>\n",
       "      <th>quoted_tweet_text</th>\n",
       "      <th>polarity</th>\n",
       "      <th>sentiment</th>\n",
       "    </tr>\n",
       "  </thead>\n",
       "  <tbody>\n",
       "    <tr>\n",
       "      <th>2</th>\n",
       "      <td>1917225430702240067</td>\n",
       "      <td>big deal</td>\n",
       "      <td>1917223651625099407</td>\n",
       "      <td>last week treasury went live first automated p...</td>\n",
       "      <td>-0.005519</td>\n",
       "      <td>negative</td>\n",
       "    </tr>\n",
       "    <tr>\n",
       "      <th>4</th>\n",
       "      <td>1917103264417649121</td>\n",
       "      <td>whoa</td>\n",
       "      <td>1917011279757066291</td>\n",
       "      <td>invisible puppet masters ais disturbing new ro...</td>\n",
       "      <td>0.066279</td>\n",
       "      <td>positive</td>\n",
       "    </tr>\n",
       "    <tr>\n",
       "      <th>5</th>\n",
       "      <td>1917099777327829386</td>\n",
       "      <td>next week grok 35 early beta release supergrok...</td>\n",
       "      <td>1917011847623987257</td>\n",
       "      <td>grok 3 sends usage soaring 10x spike downloads...</td>\n",
       "      <td>0.066667</td>\n",
       "      <td>positive</td>\n",
       "    </tr>\n",
       "    <tr>\n",
       "      <th>6</th>\n",
       "      <td>1917071819003334728</td>\n",
       "      <td>existential crisis</td>\n",
       "      <td>1917059115417014780</td>\n",
       "      <td>friendly reminder make babies japans total fer...</td>\n",
       "      <td>0.075000</td>\n",
       "      <td>positive</td>\n",
       "    </tr>\n",
       "    <tr>\n",
       "      <th>9</th>\n",
       "      <td>1917040536378335721</td>\n",
       "      <td>starlink trying service plan commitment exchan...</td>\n",
       "      <td>1917029886432317947</td>\n",
       "      <td>0 standard kit 12month residential service pla...</td>\n",
       "      <td>0.075000</td>\n",
       "      <td>positive</td>\n",
       "    </tr>\n",
       "    <tr>\n",
       "      <th>...</th>\n",
       "      <td>...</td>\n",
       "      <td>...</td>\n",
       "      <td>...</td>\n",
       "      <td>...</td>\n",
       "      <td>...</td>\n",
       "      <td>...</td>\n",
       "    </tr>\n",
       "    <tr>\n",
       "      <th>11433</th>\n",
       "      <td>1655968899903418373</td>\n",
       "      <td>massive public manipulation</td>\n",
       "      <td>1655968201422012418</td>\n",
       "      <td>legacy media going shove bigotry porn throats ...</td>\n",
       "      <td>0.050000</td>\n",
       "      <td>positive</td>\n",
       "    </tr>\n",
       "    <tr>\n",
       "      <th>11434</th>\n",
       "      <td>1655967673107337216</td>\n",
       "      <td>whatsapp cannot trusted</td>\n",
       "      <td>1654856617723301888</td>\n",
       "      <td>whatsapp using microphone background asleep si...</td>\n",
       "      <td>0.000000</td>\n",
       "      <td>neutral</td>\n",
       "    </tr>\n",
       "    <tr>\n",
       "      <th>11438</th>\n",
       "      <td>1655661734244261891</td>\n",
       "      <td>livestream starting soon</td>\n",
       "      <td>1655596008246587394</td>\n",
       "      <td>tesla lithium refinery groundbreaking streamed...</td>\n",
       "      <td>0.136364</td>\n",
       "      <td>positive</td>\n",
       "    </tr>\n",
       "    <tr>\n",
       "      <th>11447</th>\n",
       "      <td>1654680950163361792</td>\n",
       "      <td>highly recommend organizations sign validate a...</td>\n",
       "      <td>1641596848921276417</td>\n",
       "      <td>verified organizations new way organizations a...</td>\n",
       "      <td>0.123636</td>\n",
       "      <td>positive</td>\n",
       "    </tr>\n",
       "    <tr>\n",
       "      <th>11456</th>\n",
       "      <td>1653420591607607297</td>\n",
       "      <td>sunset space</td>\n",
       "      <td>1653418134068662272</td>\n",
       "      <td>stage separation sunset followed second stage ...</td>\n",
       "      <td>0.000000</td>\n",
       "      <td>neutral</td>\n",
       "    </tr>\n",
       "  </tbody>\n",
       "</table>\n",
       "<p>8349 rows × 6 columns</p>\n",
       "</div>"
      ]
     },
     "execution_count": 37,
     "metadata": {},
     "output_type": "execute_result"
    }
   ],
   "execution_count": 37
  },
  {
   "metadata": {
    "ExecuteTime": {
     "end_time": "2025-05-30T15:37:42.918599Z",
     "start_time": "2025-05-30T15:31:58.109392Z"
    }
   },
   "cell_type": "code",
   "source": [
    "### Emotion Analysis with df_nonQuotedTweets\n",
    "import pandas as pd\n",
    "import torch\n",
    "from transformers import pipeline\n",
    "from tqdm import tqdm\n",
    "\n",
    "# Load Hugging Face's emotion classifier\n",
    "device = \"cuda\" if torch.cuda.is_available() else \"cpu\"\n",
    "classifier = pipeline(\"text-classification\", model=\"bhadresh-savani/bert-base-uncased-emotion\", top_k=None, device=0 if device == \"cuda\" else -1)\n",
    "\n",
    "# Define the six Ekman emotions\n",
    "ekman_emotions = [\"anger\", \"disgust\", \"fear\", \"joy\", \"sadness\", \"surprise\"]\n",
    "\n",
    "\n",
    "def truncate_text(text, max_tokens=512):\n",
    "    words = text.split()  # Split text into words\n",
    "    return \" \".join(words[:max_tokens])  # Keep only the first 512 tokens\n",
    "\n",
    "def compute_emotions(text):\n",
    "    if not isinstance(text, str) or text.strip() == \"\":\n",
    "        print(f\"Invalid text: {text[:50]}...\")\n",
    "        return {emotion: 0.0 for emotion in ekman_emotions}  # Return zero scores for empty text\n",
    "\n",
    "    try:\n",
    "        truncated_text = truncate_text(text)  # Truncate text to fit within 512 tokens\n",
    "        results = classifier(truncated_text)[0]  # Get emotion scores from the model\n",
    "        emotion_scores = {result['label']: result['score'] for result in results}\n",
    "\n",
    "        # Extract only the six Ekman emotions and normalize missing ones\n",
    "        print(f\"Emotion scores for text: {text[:50]}...\")\n",
    "        return {emotion: emotion_scores.get(emotion, 0.0) for emotion in ekman_emotions}\n",
    "\n",
    "    except Exception as e:\n",
    "        print(f\"Error processing text: {text[:50]}... Error: {e}\")\n",
    "        return {emotion: 0.0 for emotion in ekman_emotions}  # Return zero scores on failure\n",
    "\n",
    "def append_emotions(df, text_column):\n",
    "    if text_column not in df.columns:\n",
    "        raise ValueError(f\"Column '{text_column}' not found in the DataFrame.\")\n",
    "\n",
    "    print(\"Appending emotion scores to DataFrame...\")\n",
    "\n",
    "    emotion_scores = [compute_emotions(text) for text in tqdm(df[text_column])]\n",
    "    emotions_df = pd.DataFrame(emotion_scores)\n",
    "    emotions_df.index = df.index\n",
    "    emotions_df.columns = [f\"{text_column}_emotions_{emotion}\" for emotion in emotions_df.columns]\n",
    "    result_df = pd.concat([df, emotions_df], axis=1)\n",
    "\n",
    "    return result_df\n",
    "\n",
    "# Filter dataframe for text to be analyzed\n",
    "df_nonQuotedTweets = df_nonQuotedTweets[['tweet_id', 'tweet_text']]\n",
    "df_nonQuotedTweets = append_emotions(df_nonQuotedTweets, text_column='tweet_text')\n",
    "\n"
   ],
   "id": "d0894d86f6bc71db",
   "outputs": [
    {
     "name": "stderr",
     "output_type": "stream",
     "text": [
      "Device set to use cpu\n"
     ]
    },
    {
     "name": "stdout",
     "output_type": "stream",
     "text": [
      "Appending emotion scores to DataFrame...\n"
     ]
    },
    {
     "name": "stderr",
     "output_type": "stream",
     "text": [
      "  0%|          | 3/3113 [00:01<21:20,  2.43it/s]  "
     ]
    },
    {
     "name": "stdout",
     "output_type": "stream",
     "text": [
      "Emotion scores for text: https://t.co/U6tI9pdin6...\n",
      "Emotion scores for text: https://t.co/1c1WjFpOva...\n",
      "Emotion scores for text: https://t.co/6xSd8l67FN...\n",
      "Emotion scores for text: Knock, knock … it’s @DOGE https://t.co/yFDXlZgnmn...\n"
     ]
    },
    {
     "name": "stderr",
     "output_type": "stream",
     "text": [
      "  0%|          | 7/3113 [00:01<08:47,  5.89it/s]"
     ]
    },
    {
     "name": "stdout",
     "output_type": "stream",
     "text": [
      "Emotion scores for text: Population collapse is an existential problem\r\n",
      " ht...\n",
      "Emotion scores for text: This comes as a surprise to most people\r\n",
      " https://...\n",
      "Emotion scores for text: https://t.co/1U2nvDTv4s...\n"
     ]
    },
    {
     "name": "stderr",
     "output_type": "stream",
     "text": [
      "  0%|          | 9/3113 [00:01<06:56,  7.46it/s]"
     ]
    },
    {
     "name": "stdout",
     "output_type": "stream",
     "text": [
      "Emotion scores for text: @DOGE https://t.co/KDkRKouDl8...\n",
      "Emotion scores for text: No high, no lows, only @DOGE\r\n",
      " https://t.co/cFFukd...\n",
      "Emotion scores for text: 150 Hardcore https://t.co/4tzmuO74GS...\n"
     ]
    },
    {
     "name": "stderr",
     "output_type": "stream",
     "text": [
      "  0%|          | 13/3113 [00:02<05:04, 10.19it/s]"
     ]
    },
    {
     "name": "stdout",
     "output_type": "stream",
     "text": [
      "Emotion scores for text: https://t.co/YbsWWujwxq...\n",
      "Emotion scores for text: https://t.co/sf150fbBuE...\n",
      "Emotion scores for text: https://t.co/Sp5ZCA5NKV...\n",
      "Emotion scores for text: Good summary of @DOGE by @DavidSacks \r\n",
      " https://t....\n"
     ]
    },
    {
     "name": "stderr",
     "output_type": "stream",
     "text": [
      "  1%|          | 17/3113 [00:02<04:05, 12.61it/s]"
     ]
    },
    {
     "name": "stdout",
     "output_type": "stream",
     "text": [
      "Emotion scores for text: https://t.co/wbqqrg7jId...\n",
      "Emotion scores for text: 😑 https://t.co/iR201IPgIl...\n",
      "Emotion scores for text: Mayhem https://t.co/akOXB8VWnF...\n"
     ]
    },
    {
     "name": "stderr",
     "output_type": "stream",
     "text": [
      "  1%|          | 19/3113 [00:02<04:04, 12.66it/s]"
     ]
    },
    {
     "name": "stdout",
     "output_type": "stream",
     "text": [
      "Emotion scores for text: Time to end the slaughter https://t.co/ndrMIMxfm3...\n",
      "Emotion scores for text: https://t.co/qBqFknSEnb...\n",
      "Emotion scores for text: 😂 https://t.co/8vo5I3Rwrf...\n"
     ]
    },
    {
     "name": "stderr",
     "output_type": "stream",
     "text": [
      "  1%|          | 23/3113 [00:02<03:41, 13.95it/s]"
     ]
    },
    {
     "name": "stdout",
     "output_type": "stream",
     "text": [
      "Emotion scores for text: https://t.co/KS1sjKak5p...\n",
      "Emotion scores for text: 🌏🌍🌎 Happy Earth Day 🌎🌍🌏...\n",
      "Emotion scores for text: https://t.co/kslsp7oJ7g...\n"
     ]
    },
    {
     "name": "stderr",
     "output_type": "stream",
     "text": [
      "  1%|          | 25/3113 [00:03<03:46, 13.65it/s]"
     ]
    },
    {
     "name": "stdout",
     "output_type": "stream",
     "text": [
      "Emotion scores for text: Infiltration of the judiciary throughout The West ...\n",
      "Emotion scores for text: https://t.co/hZxcOuTOan...\n",
      "Emotion scores for text: Starlink factory in Texas https://t.co/szmp4YerRv...\n"
     ]
    },
    {
     "name": "stderr",
     "output_type": "stream",
     "text": [
      "  1%|          | 29/3113 [00:03<03:34, 14.38it/s]"
     ]
    },
    {
     "name": "stdout",
     "output_type": "stream",
     "text": [
      "Emotion scores for text: Doges! https://t.co/eSnzk75Bor...\n",
      "Emotion scores for text: Happy Easter!...\n",
      "Emotion scores for text: History of slavery https://t.co/EBZXFzn3SW...\n",
      "Emotion scores for text: True \r\n",
      " https://t.co/6zQWVO8rWB...\n"
     ]
    },
    {
     "name": "stderr",
     "output_type": "stream",
     "text": [
      "  1%|          | 33/3113 [00:03<03:43, 13.77it/s]"
     ]
    },
    {
     "name": "stdout",
     "output_type": "stream",
     "text": [
      "Emotion scores for text: https://t.co/6mIkVML8Fl...\n",
      "Emotion scores for text: Interesting episode  https://t.co/N68Xe4HC1J...\n",
      "Emotion scores for text: https://t.co/bAf2Zqn1Rt...\n"
     ]
    },
    {
     "name": "stderr",
     "output_type": "stream",
     "text": [
      "  1%|          | 37/3113 [00:03<03:28, 14.76it/s]"
     ]
    },
    {
     "name": "stdout",
     "output_type": "stream",
     "text": [
      "Emotion scores for text: Doing a live stream https://t.co/7hnjF2bRXC...\n",
      "Emotion scores for text: https://t.co/FiGHFlpnDZ...\n",
      "Emotion scores for text: https://t.co/nlaFgrMflJ...\n",
      "Emotion scores for text: TMZ &gt;&gt; WSJ...\n"
     ]
    },
    {
     "name": "stderr",
     "output_type": "stream",
     "text": [
      "  1%|▏         | 39/3113 [00:04<03:27, 14.83it/s]"
     ]
    },
    {
     "name": "stdout",
     "output_type": "stream",
     "text": [
      "Emotion scores for text: https://t.co/rdyH50E1RQ...\n",
      "Emotion scores for text: 😂\r\n",
      " https://t.co/vfQnVPnHPN...\n",
      "Emotion scores for text: https://t.co/MXBo2IjFpZ...\n"
     ]
    },
    {
     "name": "stderr",
     "output_type": "stream",
     "text": [
      "  1%|▏         | 43/3113 [00:04<03:37, 14.12it/s]"
     ]
    },
    {
     "name": "stdout",
     "output_type": "stream",
     "text": [
      "Emotion scores for text: He has a long history of violence \r\n",
      " https://t.co/...\n",
      "Emotion scores for text: I saw this coming tbh 😂 https://t.co/u9u6R8TjuF...\n",
      "Emotion scores for text: https://t.co/P2IpwwRehO...\n",
      "Emotion scores for text: Worth reading the book 1493...\n"
     ]
    },
    {
     "name": "stderr",
     "output_type": "stream",
     "text": [
      "  2%|▏         | 47/3113 [00:04<03:26, 14.86it/s]"
     ]
    },
    {
     "name": "stdout",
     "output_type": "stream",
     "text": [
      "Emotion scores for text: https://t.co/H1DpQC7F3k...\n",
      "Emotion scores for text: https://t.co/d0TYv0mmAQ...\n",
      "Emotion scores for text: 🤔 \r\n",
      " https://t.co/1Kg6e3lapD...\n",
      "Emotion scores for text: The pronoun bs is finally going away. \r\n",
      "\r\n",
      "That was...\n"
     ]
    },
    {
     "name": "stderr",
     "output_type": "stream",
     "text": [
      "  2%|▏         | 51/3113 [00:04<03:23, 15.07it/s]"
     ]
    },
    {
     "name": "stdout",
     "output_type": "stream",
     "text": [
      "Emotion scores for text: https://t.co/rFIio2gZbJ...\n",
      "Emotion scores for text: Some progress\r\n",
      "https://t.co/hNCBVYB4YV...\n",
      "Emotion scores for text: 😂\r\n",
      " https://t.co/pQCzmRMrah...\n",
      "Emotion scores for text: Makes sense \r\n",
      " https://t.co/DYxaBEaQyf...\n"
     ]
    },
    {
     "name": "stderr",
     "output_type": "stream",
     "text": [
      "  2%|▏         | 55/3113 [00:05<03:29, 14.61it/s]"
     ]
    },
    {
     "name": "stdout",
     "output_type": "stream",
     "text": [
      "Emotion scores for text: https://t.co/MGQI5jF1P1...\n",
      "Emotion scores for text: Starlink Airborne Latency Test https://t.co/0fJmTK...\n",
      "Emotion scores for text: Starlink Airborne Streaming Latency Test https://t...\n"
     ]
    },
    {
     "name": "stderr",
     "output_type": "stream",
     "text": [
      "  2%|▏         | 59/3113 [00:05<03:32, 14.39it/s]"
     ]
    },
    {
     "name": "stdout",
     "output_type": "stream",
     "text": [
      "Emotion scores for text: Just the tip of the iceberg so far\r\n",
      " https://t.co/...\n",
      "Emotion scores for text: https://t.co/YSdPvs2GyS...\n",
      "Emotion scores for text: 😉 https://t.co/jR6ycgAYjc...\n",
      "Emotion scores for text: https://t.co/17A9JHT7yy...\n"
     ]
    },
    {
     "name": "stderr",
     "output_type": "stream",
     "text": [
      "  2%|▏         | 63/3113 [00:05<03:18, 15.38it/s]"
     ]
    },
    {
     "name": "stdout",
     "output_type": "stream",
     "text": [
      "Emotion scores for text: Welcome to 𝕏, the group chat of Earth...\n",
      "Emotion scores for text: https://t.co/bsAl4PdcPj...\n",
      "Emotion scores for text: https://t.co/J1KS6bJdjD...\n",
      "Emotion scores for text: https://t.co/GcET3ci2sy...\n"
     ]
    },
    {
     "name": "stderr",
     "output_type": "stream",
     "text": [
      "  2%|▏         | 65/3113 [00:05<03:17, 15.46it/s]"
     ]
    },
    {
     "name": "stdout",
     "output_type": "stream",
     "text": [
      "Emotion scores for text: https://t.co/8thYN2waCI...\n",
      "Emotion scores for text: https://t.co/azqwPMa0om...\n",
      "Emotion scores for text: You can upload an image or paste an image into @Gr...\n"
     ]
    },
    {
     "name": "stderr",
     "output_type": "stream",
     "text": [
      "  2%|▏         | 69/3113 [00:06<03:29, 14.52it/s]"
     ]
    },
    {
     "name": "stdout",
     "output_type": "stream",
     "text": [
      "Emotion scores for text: https://t.co/O0wKflXOyK...\n",
      "Emotion scores for text: https://t.co/eQFAURvLT8...\n",
      "Emotion scores for text: Stream Resolution Test https://t.co/Z2U7K3fX4I...\n"
     ]
    },
    {
     "name": "stderr",
     "output_type": "stream",
     "text": [
      "  2%|▏         | 73/3113 [00:06<03:36, 14.02it/s]"
     ]
    },
    {
     "name": "stdout",
     "output_type": "stream",
     "text": [
      "Emotion scores for text: The problem is the puppetmasters, not the puppets,...\n",
      "Emotion scores for text: Radical left policies lead to annihilation\r\n",
      " https...\n",
      "Emotion scores for text: https://t.co/ays8nnqZVA...\n",
      "Emotion scores for text: https://t.co/x9T4POwj3q...\n"
     ]
    },
    {
     "name": "stderr",
     "output_type": "stream",
     "text": [
      "  2%|▏         | 75/3113 [00:06<03:31, 14.38it/s]"
     ]
    },
    {
     "name": "stdout",
     "output_type": "stream",
     "text": [
      "Emotion scores for text: https://t.co/VNGAjSRonn...\n",
      "Emotion scores for text: https://t.co/fd9e2nLUGE...\n",
      "Emotion scores for text: Yes https://t.co/j5DTPkmJ9g...\n"
     ]
    },
    {
     "name": "stderr",
     "output_type": "stream",
     "text": [
      "  3%|▎         | 79/3113 [00:06<03:36, 13.99it/s]"
     ]
    },
    {
     "name": "stdout",
     "output_type": "stream",
     "text": [
      "Emotion scores for text: Dragon crew retuning from polar orbit \r\n",
      " https://t...\n",
      "Emotion scores for text: Prometheus Unbound https://t.co/bCNBQTynB5...\n",
      "Emotion scores for text: Remember when you could get canceled for not using...\n"
     ]
    },
    {
     "name": "stderr",
     "output_type": "stream",
     "text": [
      "  3%|▎         | 81/3113 [00:06<03:39, 13.79it/s]"
     ]
    },
    {
     "name": "stdout",
     "output_type": "stream",
     "text": [
      "Emotion scores for text: Free Le Pen! https://t.co/mtx3ndQ10r...\n",
      "Emotion scores for text: https://t.co/fnCy3r5LB1...\n",
      "Emotion scores for text: https://t.co/lP5z16ttp0...\n"
     ]
    },
    {
     "name": "stderr",
     "output_type": "stream",
     "text": [
      "  3%|▎         | 85/3113 [00:07<03:41, 13.69it/s]"
     ]
    },
    {
     "name": "stdout",
     "output_type": "stream",
     "text": [
      "Emotion scores for text: https://t.co/BwrVlYiWfx...\n",
      "Emotion scores for text: https://t.co/ZoideOC1RU...\n",
      "Emotion scores for text: As I mentioned several years ago, it increasingly ...\n"
     ]
    },
    {
     "name": "stderr",
     "output_type": "stream",
     "text": [
      "  3%|▎         | 87/3113 [00:07<03:46, 13.35it/s]"
     ]
    },
    {
     "name": "stdout",
     "output_type": "stream",
     "text": [
      "Emotion scores for text: The first astronauts to orbit the poles \r\n",
      " https:/...\n",
      "Emotion scores for text: Accurate actuators accelerate automation https://t...\n",
      "Emotion scores for text: This is what happens if you take DayQuil &amp; NyQ...\n"
     ]
    },
    {
     "name": "stderr",
     "output_type": "stream",
     "text": [
      "  3%|▎         | 91/3113 [00:07<03:44, 13.44it/s]"
     ]
    },
    {
     "name": "stdout",
     "output_type": "stream",
     "text": [
      "Emotion scores for text: The long con of the left is corruption of the judi...\n",
      "Emotion scores for text: Archangel-12 https://t.co/4hLxeq4q6W...\n",
      "Emotion scores for text: https://t.co/krdJxbEazb...\n",
      "Emotion scores for text: https://t.co/iZrnjJ4sjO...\n"
     ]
    },
    {
     "name": "stderr",
     "output_type": "stream",
     "text": [
      "  3%|▎         | 95/3113 [00:08<03:34, 14.08it/s]"
     ]
    },
    {
     "name": "stdout",
     "output_type": "stream",
     "text": [
      "Emotion scores for text: Very important to vote for Superjudge Brad Schimel...\n",
      "Emotion scores for text: 😂 https://t.co/gBcA9SLl1a...\n",
      "Emotion scores for text: https://t.co/rQLo9ALEAL...\n",
      "Emotion scores for text: https://t.co/ukyFjwwqlb...\n"
     ]
    },
    {
     "name": "stderr",
     "output_type": "stream",
     "text": [
      "  3%|▎         | 99/3113 [00:08<03:25, 14.66it/s]"
     ]
    },
    {
     "name": "stdout",
     "output_type": "stream",
     "text": [
      "Emotion scores for text: https://t.co/rvGfeC9PlY...\n",
      "Emotion scores for text: Doing a telerally for Wisconsin in 45 mins!...\n",
      "Emotion scores for text: https://t.co/Af2fP0Eoyc...\n",
      "Emotion scores for text: https://t.co/kbR1pp985b...\n"
     ]
    },
    {
     "name": "stderr",
     "output_type": "stream",
     "text": [
      "  3%|▎         | 103/3113 [00:08<03:23, 14.78it/s]"
     ]
    },
    {
     "name": "stdout",
     "output_type": "stream",
     "text": [
      "Emotion scores for text: Former federal officer sentenced for smuggling ali...\n",
      "Emotion scores for text: https://t.co/JlJkuvzvJU...\n",
      "Emotion scores for text: https://t.co/FlOxXhfuow...\n",
      "Emotion scores for text: https://t.co/06l6sDTW4H...\n"
     ]
    },
    {
     "name": "stderr",
     "output_type": "stream",
     "text": [
      "  3%|▎         | 107/3113 [00:08<03:15, 15.38it/s]"
     ]
    },
    {
     "name": "stdout",
     "output_type": "stream",
     "text": [
      "Emotion scores for text: https://t.co/5mQQjMR7mv...\n",
      "Emotion scores for text: https://t.co/1eaWcy3LfW...\n",
      "Emotion scores for text: Wow...\n",
      "Emotion scores for text: https://t.co/XbfEhulfan...\n"
     ]
    },
    {
     "name": "stderr",
     "output_type": "stream",
     "text": [
      "  4%|▎         | 111/3113 [00:09<03:27, 14.45it/s]"
     ]
    },
    {
     "name": "stdout",
     "output_type": "stream",
     "text": [
      "Emotion scores for text: https://t.co/JjX6KCSauS...\n",
      "Emotion scores for text: https://t.co/tGnEmsCoAO...\n",
      "Emotion scores for text: Based on the videos I’ve seen so far, the worst fe...\n"
     ]
    },
    {
     "name": "stderr",
     "output_type": "stream",
     "text": [
      "  4%|▎         | 113/3113 [00:09<04:28, 11.17it/s]"
     ]
    },
    {
     "name": "stdout",
     "output_type": "stream",
     "text": [
      "Emotion scores for text: Vote for Superjudge Brad Schimel in Wisconsin on T...\n",
      "Emotion scores for text: It is time to arrest those funding the attacks. \r\n",
      "...\n",
      "Emotion scores for text: They literally are paid “protesters”!\r\n",
      " https://t....\n"
     ]
    },
    {
     "name": "stderr",
     "output_type": "stream",
     "text": [
      "  4%|▍         | 117/3113 [00:09<04:33, 10.97it/s]"
     ]
    },
    {
     "name": "stdout",
     "output_type": "stream",
     "text": [
      "Emotion scores for text: 💯\r\n",
      " https://t.co/5Pxy4G0GHk...\n",
      "Emotion scores for text: True https://t.co/DWUadoe6mQ...\n",
      "Emotion scores for text: Even more important than the Wisconsin Supreme Cou...\n"
     ]
    },
    {
     "name": "stderr",
     "output_type": "stream",
     "text": [
      "  4%|▍         | 119/3113 [00:09<04:19, 11.55it/s]"
     ]
    },
    {
     "name": "stdout",
     "output_type": "stream",
     "text": [
      "Emotion scores for text: https://t.co/kslsp7pgWO...\n",
      "Emotion scores for text: Yeah https://t.co/t2faGIdlup...\n"
     ]
    },
    {
     "name": "stderr",
     "output_type": "stream",
     "text": [
      "  4%|▍         | 121/3113 [00:10<06:59,  7.14it/s]"
     ]
    },
    {
     "name": "stdout",
     "output_type": "stream",
     "text": [
      "Emotion scores for text: @xAI has acquired @X in an all-stock transaction. ...\n",
      "Emotion scores for text: Amazing 🤣 https://t.co/y6a4EE8mVt...\n",
      "Emotion scores for text: Take a tequila shot every time Obama said “governm...\n"
     ]
    },
    {
     "name": "stderr",
     "output_type": "stream",
     "text": [
      "  4%|▍         | 124/3113 [00:10<06:08,  8.12it/s]"
     ]
    },
    {
     "name": "stdout",
     "output_type": "stream",
     "text": [
      "...tion scores for text: On Sunday night, I will give a talk in Wisconsin.\n",
      "Emotion scores for text: https://t.co/VnLcmywp6g...\n",
      "Emotion scores for text: AppLovin CEO uses Grok 3 https://t.co/aBUxHSs1XW...\n"
     ]
    },
    {
     "name": "stderr",
     "output_type": "stream",
     "text": [
      "  4%|▍         | 128/3113 [00:11<04:46, 10.41it/s]"
     ]
    },
    {
     "name": "stdout",
     "output_type": "stream",
     "text": [
      "Emotion scores for text: https://t.co/m0ZekDvYeX...\n",
      "Emotion scores for text: https://t.co/ocYMLaKGvx...\n",
      "Emotion scores for text: https://t.co/WvcbbXGYTd...\n"
     ]
    },
    {
     "name": "stderr",
     "output_type": "stream",
     "text": [
      "  4%|▍         | 132/3113 [00:11<04:03, 12.23it/s]"
     ]
    },
    {
     "name": "stdout",
     "output_type": "stream",
     "text": [
      "Emotion scores for text: Cool, @Grok is #1 on Android! https://t.co/RLn9Da5...\n",
      "Emotion scores for text: https://t.co/2arCnBJesD...\n",
      "Emotion scores for text: https://t.co/lzxsf8vyd5...\n",
      "Emotion scores for text: https://t.co/gqVRSfMxp4...\n"
     ]
    },
    {
     "name": "stderr",
     "output_type": "stream",
     "text": [
      "  4%|▍         | 134/3113 [00:11<03:53, 12.78it/s]"
     ]
    },
    {
     "name": "stdout",
     "output_type": "stream",
     "text": [
      "Emotion scores for text: https://t.co/27B9U2S0Mq...\n",
      "Emotion scores for text: https://t.co/FQX7Zs2gbm...\n",
      "Emotion scores for text: https://t.co/b3VAQQcKGj...\n"
     ]
    },
    {
     "name": "stderr",
     "output_type": "stream",
     "text": [
      "  4%|▍         | 138/3113 [00:11<03:45, 13.19it/s]"
     ]
    },
    {
     "name": "stdout",
     "output_type": "stream",
     "text": [
      "Emotion scores for text: These are examples of medical fraud that the @DOGE...\n",
      "Emotion scores for text: Theme of the day https://t.co/2ioG0StAxL...\n",
      "Emotion scores for text: https://t.co/ZNqt4jmnX9...\n",
      "Emotion scores for text: This is a test...\n"
     ]
    },
    {
     "name": "stderr",
     "output_type": "stream",
     "text": [
      "  4%|▍         | 140/3113 [00:11<03:34, 13.83it/s]"
     ]
    },
    {
     "name": "stdout",
     "output_type": "stream",
     "text": [
      "Emotion scores for text: https://t.co/cyupiVur7n...\n",
      "Emotion scores for text: Daily abuse of authority by the federal judiciary,...\n"
     ]
    },
    {
     "name": "stderr",
     "output_type": "stream",
     "text": [
      "  5%|▍         | 144/3113 [00:12<04:02, 12.23it/s]"
     ]
    },
    {
     "name": "stdout",
     "output_type": "stream",
     "text": [
      "Emotion scores for text: Extremely important difference https://t.co/yuCH9p...\n",
      "Emotion scores for text: Yup\r\n",
      " https://t.co/B8m7hTmND7...\n",
      "Emotion scores for text: https://t.co/vPoJ3TtTmX...\n"
     ]
    },
    {
     "name": "stderr",
     "output_type": "stream",
     "text": [
      "  5%|▍         | 146/3113 [00:12<04:02, 12.21it/s]"
     ]
    },
    {
     "name": "stdout",
     "output_type": "stream",
     "text": [
      "Emotion scores for text: https://t.co/ouI5Ro2Zwo...\n",
      "Emotion scores for text: https://t.co/AGzg4O21St...\n",
      "Emotion scores for text: https://t.co/EI9GwZ4Cbz...\n"
     ]
    },
    {
     "name": "stderr",
     "output_type": "stream",
     "text": [
      "  5%|▍         | 150/3113 [00:12<03:58, 12.41it/s]"
     ]
    },
    {
     "name": "stdout",
     "output_type": "stream",
     "text": [
      "Emotion scores for text: https://t.co/S7hCh8XRjA...\n",
      "Emotion scores for text: https://t.co/uNXwxEN0uk...\n",
      "Emotion scores for text: https://t.co/hJHYzEzEgs...\n"
     ]
    },
    {
     "name": "stderr",
     "output_type": "stream",
     "text": [
      "  5%|▍         | 152/3113 [00:12<03:56, 12.55it/s]"
     ]
    },
    {
     "name": "stdout",
     "output_type": "stream",
     "text": [
      "Emotion scores for text: https://t.co/FNVjvRh2lP...\n",
      "Emotion scores for text: https://t.co/9auy3v0DRR...\n",
      "Emotion scores for text: https://t.co/0YyFXL0md9...\n"
     ]
    },
    {
     "name": "stderr",
     "output_type": "stream",
     "text": [
      "  5%|▌         | 156/3113 [00:13<04:10, 11.80it/s]"
     ]
    },
    {
     "name": "stdout",
     "output_type": "stream",
     "text": [
      "Emotion scores for text: https://t.co/FrY2PeWUsU...\n",
      "Emotion scores for text: https://t.co/H8FGSFIW1C...\n",
      "Emotion scores for text: https://t.co/iPo6zVuIBF...\n"
     ]
    },
    {
     "name": "stderr",
     "output_type": "stream",
     "text": [
      "  5%|▌         | 158/3113 [00:13<04:12, 11.69it/s]"
     ]
    },
    {
     "name": "stdout",
     "output_type": "stream",
     "text": [
      "Emotion scores for text: https://t.co/XcheVISGsW...\n",
      "Emotion scores for text: https://t.co/XvaBwhPwTx...\n",
      "Emotion scores for text: https://t.co/OuvbPJ4A5f...\n"
     ]
    },
    {
     "name": "stderr",
     "output_type": "stream",
     "text": [
      "  5%|▌         | 162/3113 [00:13<04:17, 11.46it/s]"
     ]
    },
    {
     "name": "stdout",
     "output_type": "stream",
     "text": [
      "Emotion scores for text: 1000%\r\n",
      " https://t.co/2SQHsWDjMT...\n",
      "Emotion scores for text: Thoughtful rebuttal of propaganda \r\n",
      " https://t.co/...\n",
      "Emotion scores for text: https://t.co/ZdS9AYcr7N...\n"
     ]
    },
    {
     "name": "stderr",
     "output_type": "stream",
     "text": [
      "  5%|▌         | 164/3113 [00:13<04:12, 11.68it/s]"
     ]
    },
    {
     "name": "stdout",
     "output_type": "stream",
     "text": [
      "Emotion scores for text: https://t.co/o83PDi4SdL...\n",
      "Emotion scores for text: https://t.co/O7o7Aw22lv...\n",
      "Emotion scores for text: https://t.co/ZEbm1vcQx8...\n"
     ]
    },
    {
     "name": "stderr",
     "output_type": "stream",
     "text": [
      "  5%|▌         | 168/3113 [00:14<04:27, 11.00it/s]"
     ]
    },
    {
     "name": "stdout",
     "output_type": "stream",
     "text": [
      "Emotion scores for text: Try using image editing with @Grok! https://t.co/s...\n",
      "Emotion scores for text: https://t.co/zFInUln8Ij...\n",
      "Emotion scores for text: The NCAA wrestling heavyweight championship match ...\n"
     ]
    },
    {
     "name": "stderr",
     "output_type": "stream",
     "text": [
      "  5%|▌         | 170/3113 [00:14<04:29, 10.92it/s]"
     ]
    },
    {
     "name": "stdout",
     "output_type": "stream",
     "text": [
      "Emotion scores for text: https://t.co/c93s0LPvHi...\n",
      "Emotion scores for text: 💯 https://t.co/5qykDGDgHp...\n",
      "Emotion scores for text: https://t.co/IvmZTiHOm2...\n"
     ]
    },
    {
     "name": "stderr",
     "output_type": "stream",
     "text": [
      "  6%|▌         | 174/3113 [00:14<04:19, 11.32it/s]"
     ]
    },
    {
     "name": "stdout",
     "output_type": "stream",
     "text": [
      "Emotion scores for text: Just wanted to say thank you to everyone supportin...\n",
      "Emotion scores for text: https://t.co/xU8pnW6HGC...\n",
      "Emotion scores for text: 🔥😂\r\n",
      " https://t.co/tmtrQgsoIU...\n"
     ]
    },
    {
     "name": "stderr",
     "output_type": "stream",
     "text": [
      "  6%|▌         | 176/3113 [00:14<04:10, 11.70it/s]"
     ]
    },
    {
     "name": "stdout",
     "output_type": "stream",
     "text": [
      "Emotion scores for text: https://t.co/sbRdiQsnK0...\n",
      "Emotion scores for text: https://t.co/6eNo4T1pbJ...\n",
      "Emotion scores for text: https://t.co/BMwIUGz36T...\n"
     ]
    },
    {
     "name": "stderr",
     "output_type": "stream",
     "text": [
      "  6%|▌         | 180/3113 [00:15<04:21, 11.21it/s]"
     ]
    },
    {
     "name": "stdout",
     "output_type": "stream",
     "text": [
      "Emotion scores for text: Vote for Brad Schimel in Wisconsin! https://t.co/C...\n",
      "Emotion scores for text: 😂 https://t.co/ohTbryUCIN...\n",
      "Emotion scores for text: The worst bad guys are the ones who are financing ...\n"
     ]
    },
    {
     "name": "stderr",
     "output_type": "stream",
     "text": [
      "  6%|▌         | 182/3113 [00:15<04:48, 10.15it/s]"
     ]
    },
    {
     "name": "stdout",
     "output_type": "stream",
     "text": [
      "Emotion scores for text: It’s so real 🤣🤣 https://t.co/f0nyUCe6ES...\n",
      "Emotion scores for text: Many all-star engineers are taking major pay cuts ...\n"
     ]
    },
    {
     "name": "stderr",
     "output_type": "stream",
     "text": [
      "  6%|▌         | 184/3113 [00:15<05:12,  9.38it/s]"
     ]
    },
    {
     "name": "stdout",
     "output_type": "stream",
     "text": [
      "Emotion scores for text: https://t.co/kW0G8LzIfm...\n",
      "Emotion scores for text: The New York Times is pure propaganda.\r\n",
      "\r\n",
      "Also, I ...\n"
     ]
    },
    {
     "name": "stderr",
     "output_type": "stream",
     "text": [
      "  6%|▌         | 186/3113 [00:16<04:47, 10.17it/s]"
     ]
    },
    {
     "name": "stdout",
     "output_type": "stream",
     "text": [
      "Emotion scores for text: https://t.co/8pfekpAAce...\n",
      "Emotion scores for text: https://t.co/LvzTZEYnny...\n",
      "Emotion scores for text: Tesla all-hands live presentation \r\n",
      " https://t.co/...\n"
     ]
    },
    {
     "name": "stderr",
     "output_type": "stream",
     "text": [
      "  6%|▌         | 190/3113 [00:16<04:33, 10.67it/s]"
     ]
    },
    {
     "name": "stdout",
     "output_type": "stream",
     "text": [
      "Emotion scores for text: 💯\r\n",
      " https://t.co/vZHuWFbvFA...\n",
      "Emotion scores for text: https://t.co/T9K4WXi8pO...\n",
      "Emotion scores for text: That fresh breeze you feel is the wide open Overto...\n"
     ]
    },
    {
     "name": "stderr",
     "output_type": "stream",
     "text": [
      "  6%|▌         | 192/3113 [00:16<04:25, 11.00it/s]"
     ]
    },
    {
     "name": "stdout",
     "output_type": "stream",
     "text": [
      "Emotion scores for text: https://t.co/6clis9g02E...\n",
      "Emotion scores for text: https://t.co/szHlftGMee...\n",
      "Emotion scores for text: https://t.co/37NbW4bvnI...\n"
     ]
    },
    {
     "name": "stderr",
     "output_type": "stream",
     "text": [
      "  6%|▋         | 196/3113 [00:16<04:17, 11.31it/s]"
     ]
    },
    {
     "name": "stdout",
     "output_type": "stream",
     "text": [
      "Emotion scores for text: https://t.co/VCp0cF6FSa...\n",
      "Emotion scores for text: Remember when the Overton Window was shut tight af...\n",
      "Emotion scores for text: https://t.co/iKa4xKCWfR...\n"
     ]
    },
    {
     "name": "stderr",
     "output_type": "stream",
     "text": [
      "  6%|▋         | 198/3113 [00:17<04:10, 11.63it/s]"
     ]
    },
    {
     "name": "stdout",
     "output_type": "stream",
     "text": [
      "Emotion scores for text: https://t.co/gwn0BbvvTd...\n",
      "Emotion scores for text: Reservoir @DOGE https://t.co/lcfR6OJ8wu...\n",
      "Emotion scores for text: https://t.co/63EgYBbBTv...\n"
     ]
    },
    {
     "name": "stderr",
     "output_type": "stream",
     "text": [
      "  6%|▋         | 202/3113 [00:17<03:59, 12.17it/s]"
     ]
    },
    {
     "name": "stdout",
     "output_type": "stream",
     "text": [
      "Emotion scores for text: https://t.co/6TDY0guiuz...\n",
      "Emotion scores for text: https://t.co/0bXhNfcSpc...\n",
      "Emotion scores for text: https://t.co/C0USyArQUH...\n"
     ]
    },
    {
     "name": "stderr",
     "output_type": "stream",
     "text": [
      "  7%|▋         | 204/3113 [00:17<03:56, 12.31it/s]"
     ]
    },
    {
     "name": "stdout",
     "output_type": "stream",
     "text": [
      "Emotion scores for text: https://t.co/zBa4F6YApG...\n",
      "Emotion scores for text: https://t.co/liShFFQa46...\n",
      "Emotion scores for text: https://t.co/1tAIReT0Ac...\n"
     ]
    },
    {
     "name": "stderr",
     "output_type": "stream",
     "text": [
      "  7%|▋         | 208/3113 [00:17<03:53, 12.46it/s]"
     ]
    },
    {
     "name": "stdout",
     "output_type": "stream",
     "text": [
      "Emotion scores for text: Good question https://t.co/VXfXS3sdoC...\n",
      "Emotion scores for text: https://t.co/QHSUaAQmB7...\n",
      "Emotion scores for text: https://t.co/xKM3yZ0iGk...\n"
     ]
    },
    {
     "name": "stderr",
     "output_type": "stream",
     "text": [
      "  7%|▋         | 210/3113 [00:17<03:54, 12.37it/s]"
     ]
    },
    {
     "name": "stdout",
     "output_type": "stream",
     "text": [
      "Emotion scores for text: https://t.co/qBgW2IF96q...\n",
      "Emotion scores for text: https://t.co/YmiUnyRpRw...\n",
      "Emotion scores for text: As usual, excellent reasoning and judgment from @t...\n"
     ]
    },
    {
     "name": "stderr",
     "output_type": "stream",
     "text": [
      "  7%|▋         | 214/3113 [00:18<04:19, 11.15it/s]"
     ]
    },
    {
     "name": "stdout",
     "output_type": "stream",
     "text": [
      "Emotion scores for text: https://t.co/z30quTPqYz...\n",
      "Emotion scores for text: Attorney General Bondi Statement on Violent Attack...\n",
      "Emotion scores for text: https://t.co/fb3JrBxzSn...\n"
     ]
    },
    {
     "name": "stderr",
     "output_type": "stream",
     "text": [
      "  7%|▋         | 216/3113 [00:18<04:17, 11.24it/s]"
     ]
    },
    {
     "name": "stdout",
     "output_type": "stream",
     "text": [
      "Emotion scores for text: Astronaut splashdown in 2 mins!\r\n",
      " https://t.co/bni...\n",
      "Emotion scores for text: https://t.co/HITx9BwROL...\n",
      "Emotion scores for text: https://t.co/NaT9K0p8NA...\n"
     ]
    },
    {
     "name": "stderr",
     "output_type": "stream",
     "text": [
      "  7%|▋         | 220/3113 [00:18<04:08, 11.62it/s]"
     ]
    },
    {
     "name": "stdout",
     "output_type": "stream",
     "text": [
      "Emotion scores for text: SpaceX Dragon undocks \r\n",
      " https://t.co/PI8xd80AIQ...\n",
      "Emotion scores for text: https://t.co/Q07ULRGA98...\n",
      "Emotion scores for text: https://t.co/pH97D7PqFq...\n"
     ]
    },
    {
     "name": "stderr",
     "output_type": "stream",
     "text": [
      "  7%|▋         | 222/3113 [00:19<04:02, 11.93it/s]"
     ]
    },
    {
     "name": "stdout",
     "output_type": "stream",
     "text": [
      "Emotion scores for text: https://t.co/mZE36PJfn5...\n",
      "Emotion scores for text: https://t.co/vlGcJSRkmG...\n",
      "Emotion scores for text: 🕵️‍♂️ \r\n",
      " https://t.co/ZRBioreO7S...\n"
     ]
    },
    {
     "name": "stderr",
     "output_type": "stream",
     "text": [
      "  7%|▋         | 224/3113 [00:19<03:59, 12.04it/s]"
     ]
    },
    {
     "name": "stdout",
     "output_type": "stream",
     "text": [
      "Emotion scores for text: https://t.co/jJNYZwGNZA...\n",
      "Emotion scores for text: https://t.co/hAZGF0zuQP...\n"
     ]
    },
    {
     "name": "stderr",
     "output_type": "stream",
     "text": [
      "  7%|▋         | 228/3113 [00:19<04:12, 11.41it/s]"
     ]
    },
    {
     "name": "stdout",
     "output_type": "stream",
     "text": [
      "Emotion scores for text: The list of “enemies” on the right or left has cha...\n",
      "Emotion scores for text: https://t.co/BCZu9CBw3T...\n",
      "Emotion scores for text: https://t.co/MAkwXVYBqQ...\n"
     ]
    },
    {
     "name": "stderr",
     "output_type": "stream",
     "text": [
      "  7%|▋         | 230/3113 [00:19<04:11, 11.45it/s]"
     ]
    },
    {
     "name": "stdout",
     "output_type": "stream",
     "text": [
      "Emotion scores for text: ❤️🚀🚀❤️\r\n",
      " https://t.co/aAkJRKsu1Q...\n",
      "Emotion scores for text: Well said by @KariLake \r\n",
      " https://t.co/xxo4ZkZKkD...\n",
      "Emotion scores for text: Going back to this haircut https://t.co/t4AzVR104K...\n"
     ]
    },
    {
     "name": "stderr",
     "output_type": "stream",
     "text": [
      "  8%|▊         | 234/3113 [00:20<04:00, 11.98it/s]"
     ]
    },
    {
     "name": "stdout",
     "output_type": "stream",
     "text": [
      "Emotion scores for text: SpaceX Dragon docks with Space Station\r\n",
      " https://t...\n",
      "Emotion scores for text: https://t.co/EDlTOMkImS...\n",
      "Emotion scores for text: https://t.co/Hex9fi2fMD...\n"
     ]
    },
    {
     "name": "stderr",
     "output_type": "stream",
     "text": [
      "  8%|▊         | 236/3113 [00:20<04:05, 11.72it/s]"
     ]
    },
    {
     "name": "stdout",
     "output_type": "stream",
     "text": [
      "Emotion scores for text: https://t.co/n3mk9qiPrv...\n",
      "Emotion scores for text: The @SpaceX Dragon is about to dock with the @Spac...\n",
      "Emotion scores for text: https://t.co/LrQm7VZIXJ...\n"
     ]
    },
    {
     "name": "stderr",
     "output_type": "stream",
     "text": [
      "  8%|▊         | 240/3113 [00:20<04:02, 11.87it/s]"
     ]
    },
    {
     "name": "stdout",
     "output_type": "stream",
     "text": [
      "Emotion scores for text: https://t.co/ZWIrggzIJg...\n",
      "Emotion scores for text: https://t.co/7RM4Mgtk2U...\n",
      "Emotion scores for text: https://t.co/MIrDuoWBYW...\n"
     ]
    },
    {
     "name": "stderr",
     "output_type": "stream",
     "text": [
      "  8%|▊         | 242/3113 [00:20<03:54, 12.27it/s]"
     ]
    },
    {
     "name": "stdout",
     "output_type": "stream",
     "text": [
      "Emotion scores for text: https://t.co/bfFKClNSQV...\n",
      "Emotion scores for text: https://t.co/0G7aXm8Iez...\n",
      "Emotion scores for text: https://t.co/TMHQmFZ5ig...\n"
     ]
    },
    {
     "name": "stderr",
     "output_type": "stream",
     "text": [
      "  8%|▊         | 246/3113 [00:21<04:01, 11.88it/s]"
     ]
    },
    {
     "name": "stdout",
     "output_type": "stream",
     "text": [
      "Emotion scores for text: Wow! https://t.co/OWwo3FHIBa...\n",
      "Emotion scores for text: Hmm … makes ya think 🤔 \r\n",
      " https://t.co/wJtNBiNBSt...\n",
      "Emotion scores for text: Wow, this is cool 😎 \r\n",
      " https://t.co/Q0JQV5KwKr...\n"
     ]
    },
    {
     "name": "stderr",
     "output_type": "stream",
     "text": [
      "  8%|▊         | 248/3113 [00:21<03:56, 12.12it/s]"
     ]
    },
    {
     "name": "stdout",
     "output_type": "stream",
     "text": [
      "Emotion scores for text: https://t.co/HeRVUPt3Il...\n",
      "Emotion scores for text: https://t.co/ozPQ7wkoly...\n",
      "Emotion scores for text: So much fake gnus\r\n",
      " https://t.co/BGZQiMhhX0...\n"
     ]
    },
    {
     "name": "stderr",
     "output_type": "stream",
     "text": [
      "  8%|▊         | 252/3113 [00:21<04:10, 11.42it/s]"
     ]
    },
    {
     "name": "stdout",
     "output_type": "stream",
     "text": [
      "Emotion scores for text: https://t.co/6NrTFOc2pu...\n",
      "Emotion scores for text: The European Union https://t.co/jSekngONo1...\n",
      "Emotion scores for text: Please post feedback for improving the 𝕏 algorithm...\n"
     ]
    },
    {
     "name": "stderr",
     "output_type": "stream",
     "text": [
      "  8%|▊         | 254/3113 [00:21<03:51, 12.34it/s]"
     ]
    },
    {
     "name": "stdout",
     "output_type": "stream",
     "text": [
      "Emotion scores for text: 💯...\n",
      "Emotion scores for text: https://t.co/AiPwfmhcCo...\n",
      "Emotion scores for text: Wow...\n"
     ]
    },
    {
     "name": "stderr",
     "output_type": "stream",
     "text": [
      "  8%|▊         | 258/3113 [00:22<03:49, 12.43it/s]"
     ]
    },
    {
     "name": "stdout",
     "output_type": "stream",
     "text": [
      "Emotion scores for text: This is why the Democrats want to destroy me\r\n",
      " htt...\n",
      "Emotion scores for text: https://t.co/wtU2RJJOAa...\n",
      "Emotion scores for text: https://t.co/5c60Gc7xtR...\n"
     ]
    },
    {
     "name": "stderr",
     "output_type": "stream",
     "text": [
      "  8%|▊         | 260/3113 [00:22<03:50, 12.40it/s]"
     ]
    },
    {
     "name": "stdout",
     "output_type": "stream",
     "text": [
      "Emotion scores for text: https://t.co/5X9QdWVMRt...\n",
      "Emotion scores for text: https://t.co/PIABvSX9mi...\n",
      "Emotion scores for text: https://t.co/QACJGgU7SX...\n"
     ]
    },
    {
     "name": "stderr",
     "output_type": "stream",
     "text": [
      "  8%|▊         | 264/3113 [00:22<04:01, 11.79it/s]"
     ]
    },
    {
     "name": "stdout",
     "output_type": "stream",
     "text": [
      "Emotion scores for text: In support of the policies of President @realDonal...\n",
      "Emotion scores for text: https://t.co/Z3B3oSxQUr...\n",
      "Emotion scores for text: What fixing government computer systems feels like...\n"
     ]
    },
    {
     "name": "stderr",
     "output_type": "stream",
     "text": [
      "  9%|▊         | 266/3113 [00:22<04:03, 11.69it/s]"
     ]
    },
    {
     "name": "stdout",
     "output_type": "stream",
     "text": [
      "Emotion scores for text: Much appreciated @SeanHannity!\r\n",
      " https://t.co/8EET...\n",
      "Emotion scores for text: https://t.co/wvHJxQDeCp...\n",
      "Emotion scores for text: Thank you, President @realDonaldTrump! https://t.c...\n"
     ]
    },
    {
     "name": "stderr",
     "output_type": "stream",
     "text": [
      "  9%|▊         | 270/3113 [00:23<04:06, 11.54it/s]"
     ]
    },
    {
     "name": "stdout",
     "output_type": "stream",
     "text": [
      "Emotion scores for text: https://t.co/5p19OMVNZR...\n",
      "Emotion scores for text: https://t.co/lKsEQWk4Ed...\n",
      "Emotion scores for text: Sean Hannity: Democrats have become so unhinged ht...\n"
     ]
    },
    {
     "name": "stderr",
     "output_type": "stream",
     "text": [
      "  9%|▊         | 272/3113 [00:23<04:03, 11.66it/s]"
     ]
    },
    {
     "name": "stdout",
     "output_type": "stream",
     "text": [
      "Emotion scores for text: https://t.co/ggX5PurXOY...\n",
      "Emotion scores for text: Absolutely https://t.co/BQ69XZ3WPI...\n",
      "Emotion scores for text: Visual representation of the Social Security datab...\n"
     ]
    },
    {
     "name": "stderr",
     "output_type": "stream",
     "text": [
      "  9%|▉         | 276/3113 [00:23<03:55, 12.03it/s]"
     ]
    },
    {
     "name": "stdout",
     "output_type": "stream",
     "text": [
      "Emotion scores for text: https://t.co/aYRqh4YMPw...\n",
      "Emotion scores for text: https://t.co/jUqCwaJH2J...\n",
      "Emotion scores for text: https://t.co/KQwLH3taW0...\n"
     ]
    },
    {
     "name": "stderr",
     "output_type": "stream",
     "text": [
      "  9%|▉         | 278/3113 [00:23<03:52, 12.22it/s]"
     ]
    },
    {
     "name": "stdout",
     "output_type": "stream",
     "text": [
      "Emotion scores for text: https://t.co/AcdzUFUpv8...\n",
      "Emotion scores for text: https://t.co/wILAtZSmxi...\n",
      "Emotion scores for text: https://t.co/72PG69dwKO...\n"
     ]
    },
    {
     "name": "stderr",
     "output_type": "stream",
     "text": [
      "  9%|▉         | 282/3113 [00:24<03:43, 12.66it/s]"
     ]
    },
    {
     "name": "stdout",
     "output_type": "stream",
     "text": [
      "Emotion scores for text: https://t.co/v9YBKD2Tks...\n",
      "Emotion scores for text: Great idea...\n",
      "Emotion scores for text: https://t.co/8Py7XRX6yC...\n",
      "Emotion scores for text: https://t.co/gC4GBNjVoa...\n"
     ]
    },
    {
     "name": "stderr",
     "output_type": "stream",
     "text": [
      "  9%|▉         | 286/3113 [00:24<04:43,  9.96it/s]"
     ]
    },
    {
     "name": "stdout",
     "output_type": "stream",
     "text": [
      "Emotion scores for text: An investigation has found 5 ActBlue-funded groups...\n",
      "Emotion scores for text: ✨look up at the stars ✨...\n",
      "Emotion scores for text: Do you support @DOGE reducing government waste &am...\n"
     ]
    },
    {
     "name": "stderr",
     "output_type": "stream",
     "text": [
      "  9%|▉         | 288/3113 [00:24<04:21, 10.79it/s]"
     ]
    },
    {
     "name": "stdout",
     "output_type": "stream",
     "text": [
      "Emotion scores for text: True\r\n",
      " https://t.co/jJlVtZAohP...\n",
      "Emotion scores for text: https://t.co/IUP5CMfpRa...\n",
      "Emotion scores for text: https://t.co/qNj1eUqD08...\n"
     ]
    },
    {
     "name": "stderr",
     "output_type": "stream",
     "text": [
      "  9%|▉         | 292/3113 [00:25<04:01, 11.66it/s]"
     ]
    },
    {
     "name": "stdout",
     "output_type": "stream",
     "text": [
      "Emotion scores for text: https://t.co/kVohTuLtA0...\n",
      "Emotion scores for text: https://t.co/tGTgoOC9VJ...\n",
      "Emotion scores for text: Starship launch attempt now!\r\n",
      "@SpaceX...\n"
     ]
    },
    {
     "name": "stderr",
     "output_type": "stream",
     "text": [
      "  9%|▉         | 294/3113 [00:25<04:00, 11.72it/s]"
     ]
    },
    {
     "name": "stdout",
     "output_type": "stream",
     "text": [
      "Emotion scores for text: Thanks 🇺🇸🇺🇸\r\n",
      " https://t.co/Jj9eTukVnb...\n",
      "Emotion scores for text: https://t.co/l2IkvEQbOh...\n",
      "Emotion scores for text: Very productive meeting https://t.co/RrMYb3CGh5...\n"
     ]
    },
    {
     "name": "stderr",
     "output_type": "stream",
     "text": [
      " 10%|▉         | 298/3113 [00:25<03:57, 11.86it/s]"
     ]
    },
    {
     "name": "stdout",
     "output_type": "stream",
     "text": [
      "Emotion scores for text: Democrats are cruel https://t.co/UuLuey7Pgq...\n",
      "Emotion scores for text: https://t.co/MHysf8FVCv...\n",
      "Emotion scores for text: https://t.co/9y0PNvluYV...\n"
     ]
    },
    {
     "name": "stderr",
     "output_type": "stream",
     "text": [
      " 10%|▉         | 300/3113 [00:25<03:59, 11.74it/s]"
     ]
    },
    {
     "name": "stdout",
     "output_type": "stream",
     "text": [
      "Emotion scores for text: https://t.co/wzNax8f8Vo...\n",
      "Emotion scores for text: The NSA needs an overhaul https://t.co/93TnOIUIOy...\n",
      "Emotion scores for text: https://t.co/M8eqT0iHTR...\n"
     ]
    },
    {
     "name": "stderr",
     "output_type": "stream",
     "text": [
      " 10%|▉         | 304/3113 [00:26<03:51, 12.14it/s]"
     ]
    },
    {
     "name": "stdout",
     "output_type": "stream",
     "text": [
      "Emotion scores for text: https://t.co/lZkYM4CFnJ...\n",
      "Emotion scores for text: If daylight savings time change is canceled, do yo...\n",
      "Emotion scores for text: After tonight, I am increasingly convinced that we...\n"
     ]
    },
    {
     "name": "stderr",
     "output_type": "stream",
     "text": [
      " 10%|▉         | 306/3113 [00:26<03:52, 12.05it/s]"
     ]
    },
    {
     "name": "stdout",
     "output_type": "stream",
     "text": [
      "Emotion scores for text: https://t.co/guJFTjHyPk...\n",
      "Emotion scores for text: https://t.co/rwbQmJ7xaB...\n",
      "Emotion scores for text: https://t.co/KRByjNe9iq...\n"
     ]
    },
    {
     "name": "stderr",
     "output_type": "stream",
     "text": [
      " 10%|▉         | 310/3113 [00:26<03:43, 12.56it/s]"
     ]
    },
    {
     "name": "stdout",
     "output_type": "stream",
     "text": [
      "Emotion scores for text: Unhinged @Grok voice is next-level 🤣🤣...\n",
      "Emotion scores for text: F\r\n",
      "A\r\n",
      "F\r\n",
      "O...\n",
      "Emotion scores for text: Making govt waste an offer it can’t refuse https:/...\n"
     ]
    },
    {
     "name": "stderr",
     "output_type": "stream",
     "text": [
      " 10%|█         | 312/3113 [00:26<04:16, 10.93it/s]"
     ]
    },
    {
     "name": "stdout",
     "output_type": "stream",
     "text": [
      "Emotion scores for text: A lot of people need to move from low to negative ...\n",
      "Emotion scores for text: 23 Dem senators too lazy even to reach for the the...\n",
      "Emotion scores for text: Ok, so who is sending the social media interns of ...\n"
     ]
    },
    {
     "name": "stderr",
     "output_type": "stream",
     "text": [
      " 10%|█         | 316/3113 [00:27<04:10, 11.18it/s]"
     ]
    },
    {
     "name": "stdout",
     "output_type": "stream",
     "text": [
      "Emotion scores for text: Yet another scam stealing your tax dollars has bee...\n",
      "Emotion scores for text: https://t.co/OgrrcTyUVi...\n",
      "Emotion scores for text: About 42 minutes until Starship Test Flight 8!\r\n",
      " h...\n"
     ]
    },
    {
     "name": "stderr",
     "output_type": "stream",
     "text": [
      " 10%|█         | 318/3113 [00:27<04:16, 10.90it/s]"
     ]
    },
    {
     "name": "stdout",
     "output_type": "stream",
     "text": [
      "Emotion scores for text: If you haven’t tried unhinged voice mode on the @G...\n",
      "Emotion scores for text: Interesting \r\n",
      " https://t.co/9hbztcM9wV...\n"
     ]
    },
    {
     "name": "stderr",
     "output_type": "stream",
     "text": [
      " 10%|█         | 321/3113 [00:27<05:06,  9.12it/s]"
     ]
    },
    {
     "name": "stdout",
     "output_type": "stream",
     "text": [
      "Emotion scores for text: A senior exec at Tesla sent me some funny pics fro...\n",
      "Emotion scores for text: America should be a DEMOcracy, not a BUREAUcracy! ...\n",
      "Emotion scores for text: Much appreciated @SecDef Hegseth! \r\n",
      "🫡 🇺🇸\r\n",
      " https:/...\n"
     ]
    },
    {
     "name": "stderr",
     "output_type": "stream",
     "text": [
      " 10%|█         | 323/3113 [00:27<04:35, 10.12it/s]"
     ]
    },
    {
     "name": "stdout",
     "output_type": "stream",
     "text": [
      "Emotion scores for text: https://t.co/A5oFin9RaX...\n",
      "Emotion scores for text: https://t.co/r9proHBDgh...\n",
      "Emotion scores for text: Listen to this \r\n",
      " https://t.co/9MEWR8kyEF...\n"
     ]
    },
    {
     "name": "stderr",
     "output_type": "stream",
     "text": [
      " 11%|█         | 327/3113 [00:28<04:46,  9.74it/s]"
     ]
    },
    {
     "name": "stdout",
     "output_type": "stream",
     "text": [
      "Emotion scores for text: This is a real video of a past @SpaceX Starship wa...\n",
      "Emotion scores for text: https://t.co/JPmF2YORqm...\n",
      "Emotion scores for text: The reality of war https://t.co/APwT3ToL1k...\n"
     ]
    },
    {
     "name": "stderr",
     "output_type": "stream",
     "text": [
      " 11%|█         | 329/3113 [00:28<04:23, 10.59it/s]"
     ]
    },
    {
     "name": "stdout",
     "output_type": "stream",
     "text": [
      "Emotion scores for text: https://t.co/6kreKPOn0N...\n",
      "Emotion scores for text: https://t.co/RC6y7x2yYo...\n",
      "Emotion scores for text: https://t.co/iMOzbgZFQK...\n"
     ]
    },
    {
     "name": "stderr",
     "output_type": "stream",
     "text": [
      " 11%|█         | 333/3113 [00:28<04:21, 10.64it/s]"
     ]
    },
    {
     "name": "stdout",
     "output_type": "stream",
     "text": [
      "Emotion scores for text: @DOGE is a threat to the bureaucracy \r\n",
      " https://t....\n",
      "Emotion scores for text: (True, although I would never wear Crocs) \r\n",
      " https...\n",
      "Emotion scores for text: https://t.co/RvrV0IEFOp...\n"
     ]
    },
    {
     "name": "stderr",
     "output_type": "stream",
     "text": [
      " 11%|█         | 335/3113 [00:29<04:08, 11.20it/s]"
     ]
    },
    {
     "name": "stdout",
     "output_type": "stream",
     "text": [
      "Emotion scores for text: https://t.co/wOh0spa2nv...\n",
      "Emotion scores for text: https://t.co/2rCOiEpMky...\n",
      "Emotion scores for text: https://t.co/Fl9VbCEzhD...\n"
     ]
    },
    {
     "name": "stderr",
     "output_type": "stream",
     "text": [
      " 11%|█         | 339/3113 [00:29<04:03, 11.41it/s]"
     ]
    },
    {
     "name": "stdout",
     "output_type": "stream",
     "text": [
      "Emotion scores for text: Currently reading  https://t.co/iHYnrcQypO...\n",
      "Emotion scores for text: When will social security run out of money, if not...\n",
      "Emotion scores for text: https://t.co/MEUPYTt13f...\n"
     ]
    },
    {
     "name": "stderr",
     "output_type": "stream",
     "text": [
      " 11%|█         | 341/3113 [00:29<04:01, 11.47it/s]"
     ]
    },
    {
     "name": "stdout",
     "output_type": "stream",
     "text": [
      "Emotion scores for text: Very important to understand the corruption machin...\n",
      "Emotion scores for text: https://t.co/tzJBv0xL7l...\n",
      "Emotion scores for text: https://t.co/zFInUlnGxR...\n"
     ]
    },
    {
     "name": "stderr",
     "output_type": "stream",
     "text": [
      " 11%|█         | 345/3113 [00:29<03:46, 12.24it/s]"
     ]
    },
    {
     "name": "stdout",
     "output_type": "stream",
     "text": [
      "Emotion scores for text: https://t.co/B3R6krQCUM...\n",
      "Emotion scores for text: https://t.co/agmAnEz9es...\n",
      "Emotion scores for text: Time to find out what really happened to the hundr...\n"
     ]
    },
    {
     "name": "stderr",
     "output_type": "stream",
     "text": [
      " 11%|█         | 347/3113 [00:30<04:06, 11.22it/s]"
     ]
    },
    {
     "name": "stdout",
     "output_type": "stream",
     "text": [
      "Emotion scores for text: https://t.co/dKPy1AFBE2...\n",
      "Emotion scores for text: https://t.co/yTr38eJxoG...\n"
     ]
    },
    {
     "name": "stderr",
     "output_type": "stream",
     "text": [
      " 11%|█         | 349/3113 [00:30<04:10, 11.02it/s]"
     ]
    },
    {
     "name": "stdout",
     "output_type": "stream",
     "text": [
      "Emotion scores for text: https://t.co/7csHEFjo1O...\n",
      "Emotion scores for text: Restore POWER to the PEOPLE!!\r\n",
      " https://t.co/WsVYY...\n"
     ]
    },
    {
     "name": "stderr",
     "output_type": "stream",
     "text": [
      " 11%|█▏        | 351/3113 [00:30<04:30, 10.22it/s]"
     ]
    },
    {
     "name": "stdout",
     "output_type": "stream",
     "text": [
      "Emotion scores for text: President @realDonaldTrump is the Commander-in-Chi...\n",
      "Emotion scores for text: Watch this carefully. Very important. \r\n",
      " https://t...\n"
     ]
    },
    {
     "name": "stderr",
     "output_type": "stream",
     "text": [
      " 11%|█▏        | 353/3113 [00:30<04:32, 10.12it/s]"
     ]
    },
    {
     "name": "stdout",
     "output_type": "stream",
     "text": [
      "Emotion scores for text: https://t.co/cehFZIXtvI...\n",
      "Emotion scores for text: https://t.co/3GFeERSg4P...\n",
      "Emotion scores for text: True\r\n",
      " https://t.co/dQp3Kzp1iS...\n"
     ]
    },
    {
     "name": "stderr",
     "output_type": "stream",
     "text": [
      " 11%|█▏        | 357/3113 [00:31<04:22, 10.50it/s]"
     ]
    },
    {
     "name": "stdout",
     "output_type": "stream",
     "text": [
      "Emotion scores for text: https://t.co/yrClmRrmiP...\n",
      "Emotion scores for text: A reminder of what could happen\r\n",
      " https://t.co/bV6...\n",
      "Emotion scores for text: Just did a long @JoeRogan episode...\n"
     ]
    },
    {
     "name": "stderr",
     "output_type": "stream",
     "text": [
      " 12%|█▏        | 359/3113 [00:31<04:26, 10.35it/s]"
     ]
    },
    {
     "name": "stdout",
     "output_type": "stream",
     "text": [
      "Emotion scores for text: Senate @DOGE caucus https://t.co/Mo4JffUGGt...\n",
      "Emotion scores for text: https://t.co/Smr1qDxYLB...\n"
     ]
    },
    {
     "name": "stderr",
     "output_type": "stream",
     "text": [
      " 12%|█▏        | 361/3113 [00:31<04:36,  9.95it/s]"
     ]
    },
    {
     "name": "stdout",
     "output_type": "stream",
     "text": [
      "Emotion scores for text: There is a shortage of top notch air traffic contr...\n",
      "Emotion scores for text: Increasingly significant consideration https://t.c...\n",
      "Emotion scores for text: This is so crazy!\r\n",
      "\r\n",
      " https://t.co/p8B3dXrkAW...\n"
     ]
    },
    {
     "name": "stderr",
     "output_type": "stream",
     "text": [
      " 12%|█▏        | 364/3113 [00:31<04:51,  9.42it/s]"
     ]
    },
    {
     "name": "stdout",
     "output_type": "stream",
     "text": [
      "Emotion scores for text: Thunder Dome vibes \r\n",
      " https://t.co/gYVNl1ufPS...\n",
      "Emotion scores for text: European justice is broken \r\n",
      " https://t.co/PcfrZqu...\n"
     ]
    },
    {
     "name": "stderr",
     "output_type": "stream",
     "text": [
      " 12%|█▏        | 367/3113 [00:32<05:18,  8.62it/s]"
     ]
    },
    {
     "name": "stdout",
     "output_type": "stream",
     "text": [
      "Emotion scores for text: It might make sense to increase compensation for C...\n",
      "Emotion scores for text: https://t.co/OOrPIPM8ly...\n",
      "Emotion scores for text: That’s why it has to be done\r\n",
      " https://t.co/QinG3c...\n"
     ]
    },
    {
     "name": "stderr",
     "output_type": "stream",
     "text": [
      " 12%|█▏        | 369/3113 [00:32<04:44,  9.65it/s]"
     ]
    },
    {
     "name": "stdout",
     "output_type": "stream",
     "text": [
      "Emotion scores for text: https://t.co/OlLxV0thCP...\n",
      "Emotion scores for text: https://t.co/aFsQwGZMti...\n",
      "Emotion scores for text: https://t.co/0yd70X9mhe...\n"
     ]
    },
    {
     "name": "stderr",
     "output_type": "stream",
     "text": [
      " 12%|█▏        | 373/3113 [00:32<04:11, 10.90it/s]"
     ]
    },
    {
     "name": "stdout",
     "output_type": "stream",
     "text": [
      "Emotion scores for text: https://t.co/Wy8rSWVHww...\n",
      "Emotion scores for text: https://t.co/S3SXDxKJzH...\n",
      "Emotion scores for text: The people love @DOGE !\r\n",
      "\r\n",
      " https://t.co/MCIQHLccv...\n"
     ]
    },
    {
     "name": "stderr",
     "output_type": "stream",
     "text": [
      " 12%|█▏        | 375/3113 [00:32<04:05, 11.17it/s]"
     ]
    },
    {
     "name": "stdout",
     "output_type": "stream",
     "text": [
      "Emotion scores for text: https://t.co/T1DiZ4CeKr...\n",
      "Emotion scores for text: https://t.co/8EuvXp2bj3...\n",
      "Emotion scores for text: If ANY judge ANYWHERE can block \r\n",
      "EVERY Presidenti...\n"
     ]
    },
    {
     "name": "stderr",
     "output_type": "stream",
     "text": [
      " 12%|█▏        | 379/3113 [00:33<03:53, 11.68it/s]"
     ]
    },
    {
     "name": "stdout",
     "output_type": "stream",
     "text": [
      "Emotion scores for text: https://t.co/IUP5CMfpRa...\n",
      "Emotion scores for text: https://t.co/Vak5Rsi9Xb...\n",
      "Emotion scores for text: https://t.co/hVnfe6HPTh...\n"
     ]
    },
    {
     "name": "stderr",
     "output_type": "stream",
     "text": [
      " 12%|█▏        | 381/3113 [00:33<03:56, 11.56it/s]"
     ]
    },
    {
     "name": "stdout",
     "output_type": "stream",
     "text": [
      "Emotion scores for text: https://t.co/hM48lvTtFA...\n",
      "Emotion scores for text: Their new name is much more fitting https://t.co/3...\n",
      "Emotion scores for text: https://t.co/fRTvGtCxze...\n"
     ]
    },
    {
     "name": "stderr",
     "output_type": "stream",
     "text": [
      " 12%|█▏        | 385/3113 [00:33<03:44, 12.12it/s]"
     ]
    },
    {
     "name": "stdout",
     "output_type": "stream",
     "text": [
      "Emotion scores for text: https://t.co/bzPM2sQnj6...\n",
      "Emotion scores for text: https://t.co/3IuSGe3WoK...\n",
      "Emotion scores for text: https://t.co/JW7gf3O70f...\n"
     ]
    },
    {
     "name": "stderr",
     "output_type": "stream",
     "text": [
      " 12%|█▏        | 387/3113 [00:33<03:59, 11.38it/s]"
     ]
    },
    {
     "name": "stdout",
     "output_type": "stream",
     "text": [
      "Emotion scores for text: The league table of which departments in the US go...\n",
      "Emotion scores for text: https://t.co/mBWZr4PJJc...\n",
      "Emotion scores for text: New Grok uploading to App Store tonight. \r\n",
      "\r\n",
      "MAJOR...\n"
     ]
    },
    {
     "name": "stderr",
     "output_type": "stream",
     "text": [
      " 13%|█▎        | 391/3113 [00:34<03:44, 12.15it/s]"
     ]
    },
    {
     "name": "stdout",
     "output_type": "stream",
     "text": [
      "Emotion scores for text: https://t.co/ukwI44FFwr...\n",
      "Emotion scores for text: https://t.co/UbATWBwbIp...\n",
      "Emotion scores for text: https://t.co/ZqOACHCynQ...\n"
     ]
    },
    {
     "name": "stderr",
     "output_type": "stream",
     "text": [
      " 13%|█▎        | 393/3113 [00:34<03:55, 11.54it/s]"
     ]
    },
    {
     "name": "stdout",
     "output_type": "stream",
     "text": [
      "Emotion scores for text: Next flight on Friday\r\n",
      " https://t.co/dhM7aTTI1u...\n",
      "Emotion scores for text: Thank you, Jamie Dimon! https://t.co/bc6N6UJaW5...\n",
      "Emotion scores for text: https://t.co/uKrcA2Lghy...\n"
     ]
    },
    {
     "name": "stderr",
     "output_type": "stream",
     "text": [
      " 13%|█▎        | 397/3113 [00:34<04:09, 10.87it/s]"
     ]
    },
    {
     "name": "stdout",
     "output_type": "stream",
     "text": [
      "Emotion scores for text: Absurd that a 5 min email generates this level of ...\n",
      "Emotion scores for text: Play to win decisively \r\n",
      " https://t.co/BViMbfRglZ...\n",
      "Emotion scores for text: Their SCIF must look like a Jackson Pollock painti...\n"
     ]
    },
    {
     "name": "stderr",
     "output_type": "stream",
     "text": [
      " 13%|█▎        | 399/3113 [00:34<04:10, 10.84it/s]"
     ]
    },
    {
     "name": "stdout",
     "output_type": "stream",
     "text": [
      "Emotion scores for text: Great President @realDonaldTrump \r\n",
      " https://t.co/k...\n",
      "Emotion scores for text: https://t.co/QnnnlqtnMs...\n",
      "Emotion scores for text: https://t.co/dOM44VS3oX...\n"
     ]
    },
    {
     "name": "stderr",
     "output_type": "stream",
     "text": [
      " 13%|█▎        | 403/3113 [00:35<04:09, 10.85it/s]"
     ]
    },
    {
     "name": "stdout",
     "output_type": "stream",
     "text": [
      "Emotion scores for text: The @Grok app and @X app are both #1\r\n",
      "\r\n",
      "Yay!!\r\n",
      "\r\n",
      "U...\n",
      "Emotion scores for text: Reducing government waste &amp; fraud is strongly ...\n",
      "Emotion scores for text: https://t.co/Hn0v3dYhnx...\n"
     ]
    },
    {
     "name": "stderr",
     "output_type": "stream",
     "text": [
      " 13%|█▎        | 405/3113 [00:35<04:24, 10.24it/s]"
     ]
    },
    {
     "name": "stdout",
     "output_type": "stream",
     "text": [
      "Emotion scores for text: Grok 3 is now the most powerful AI\r\n",
      " https://t.co/...\n",
      "Emotion scores for text: Try Grok voice conversation mode!\r\n",
      "\r\n",
      "Requires a Pr...\n"
     ]
    },
    {
     "name": "stderr",
     "output_type": "stream",
     "text": [
      " 13%|█▎        | 407/3113 [00:35<04:38,  9.71it/s]"
     ]
    },
    {
     "name": "stdout",
     "output_type": "stream",
     "text": [
      "Emotion scores for text: Seems inconsistent https://t.co/JKDOQsm3yt...\n",
      "Emotion scores for text: We are increasingly optimistic that, as the immens...\n"
     ]
    },
    {
     "name": "stderr",
     "output_type": "stream",
     "text": [
      " 13%|█▎        | 409/3113 [00:35<04:20, 10.37it/s]"
     ]
    },
    {
     "name": "stdout",
     "output_type": "stream",
     "text": [
      "Emotion scores for text: Starship Flight 8 flies Friday https://t.co/CmOdg1...\n",
      "Emotion scores for text: We are on the event horizon of the singularity...\n",
      "Emotion scores for text: https://t.co/7tz2IuLeo3...\n"
     ]
    },
    {
     "name": "stderr",
     "output_type": "stream",
     "text": [
      " 13%|█▎        | 413/3113 [00:36<03:50, 11.71it/s]"
     ]
    },
    {
     "name": "stdout",
     "output_type": "stream",
     "text": [
      "Emotion scores for text: https://t.co/leZjVyw1jY...\n",
      "Emotion scores for text: https://t.co/kGYq9oSH5r...\n",
      "Emotion scores for text: Crucial or California will go bankrupt...\n"
     ]
    },
    {
     "name": "stderr",
     "output_type": "stream",
     "text": [
      " 13%|█▎        | 415/3113 [00:36<03:56, 11.42it/s]"
     ]
    },
    {
     "name": "stdout",
     "output_type": "stream",
     "text": [
      "Emotion scores for text: Should all federal employees be required to send a...\n",
      "Emotion scores for text: https://t.co/SilB4gbF0O...\n",
      "Emotion scores for text: 🇩🇪🇩🇪🇩🇪 AfD! 🇩🇪🇩🇪🇩🇪...\n"
     ]
    },
    {
     "name": "stderr",
     "output_type": "stream",
     "text": [
      " 13%|█▎        | 419/3113 [00:36<03:29, 12.86it/s]"
     ]
    },
    {
     "name": "stdout",
     "output_type": "stream",
     "text": [
      "Emotion scores for text: https://t.co/bvDtdaeLxR...\n",
      "Emotion scores for text: 🇺🇸🇺🇸...\n",
      "Emotion scores for text: https://t.co/5rXMu2zSsM...\n"
     ]
    },
    {
     "name": "stderr",
     "output_type": "stream",
     "text": [
      " 14%|█▎        | 421/3113 [00:36<03:36, 12.45it/s]"
     ]
    },
    {
     "name": "stdout",
     "output_type": "stream",
     "text": [
      "Emotion scores for text: 🤷‍♂️ 😂 https://t.co/n5amwRlWIJ...\n",
      "Emotion scores for text: Post your best unhinged NSFW Grok posts to this th...\n",
      "Emotion scores for text: Don’t believe everything you hear!\r\n",
      " https://t.co/...\n"
     ]
    },
    {
     "name": "stderr",
     "output_type": "stream",
     "text": [
      " 14%|█▎        | 423/3113 [00:37<03:39, 12.28it/s]"
     ]
    },
    {
     "name": "stdout",
     "output_type": "stream",
     "text": [
      "Emotion scores for text: https://t.co/0TYRYWkmpv...\n",
      "Emotion scores for text: We live in the best timeline \r\n",
      " https://t.co/UTvsQ...\n"
     ]
    },
    {
     "name": "stderr",
     "output_type": "stream",
     "text": [
      " 14%|█▎        | 427/3113 [00:37<03:53, 11.48it/s]"
     ]
    },
    {
     "name": "stdout",
     "output_type": "stream",
     "text": [
      "Emotion scores for text: Consistent with President @realDonaldTrump’s instr...\n",
      "Emotion scores for text: https://t.co/UhlFD1LnJI...\n",
      "Emotion scores for text: https://t.co/vcoYDwfx7m...\n"
     ]
    },
    {
     "name": "stderr",
     "output_type": "stream",
     "text": [
      " 14%|█▍        | 429/3113 [00:37<03:49, 11.70it/s]"
     ]
    },
    {
     "name": "stdout",
     "output_type": "stream",
     "text": [
      "Emotion scores for text: 🥹 https://t.co/3Pd8vL2Ryh...\n",
      "Emotion scores for text: https://t.co/OmnhYZJcfV...\n",
      "Emotion scores for text: 美しい魂 https://t.co/5K7XpMqAxA...\n"
     ]
    },
    {
     "name": "stderr",
     "output_type": "stream",
     "text": [
      " 14%|█▍        | 433/3113 [00:37<03:50, 11.63it/s]"
     ]
    },
    {
     "name": "stdout",
     "output_type": "stream",
     "text": [
      "Emotion scores for text: The woke radical left are https://t.co/oxrYHlQdmy...\n",
      "Emotion scores for text: Time to go to Mars\r\n",
      " https://t.co/qwuqbvqBOL...\n",
      "Emotion scores for text: 💯\r\n",
      " https://t.co/l3113CNY1p...\n"
     ]
    },
    {
     "name": "stderr",
     "output_type": "stream",
     "text": [
      " 14%|█▍        | 435/3113 [00:38<03:48, 11.71it/s]"
     ]
    },
    {
     "name": "stdout",
     "output_type": "stream",
     "text": [
      "Emotion scores for text: Will do, Mr. President! https://t.co/2VMS2wY7mw...\n",
      "Emotion scores for text: https://t.co/mXG4Fyy5EK...\n",
      "Emotion scores for text: https://t.co/v6cFJrhfsX...\n"
     ]
    },
    {
     "name": "stderr",
     "output_type": "stream",
     "text": [
      " 14%|█▍        | 439/3113 [00:38<03:45, 11.86it/s]"
     ]
    },
    {
     "name": "stdout",
     "output_type": "stream",
     "text": [
      "Emotion scores for text: 🇩🇪🇩🇪🇩🇪 AfD! 🇩🇪🇩🇪🇩🇪...\n",
      "Emotion scores for text: https://t.co/GetYMKXW8A...\n",
      "Emotion scores for text: https://t.co/2cg19CgafR...\n"
     ]
    },
    {
     "name": "stderr",
     "output_type": "stream",
     "text": [
      " 14%|█▍        | 441/3113 [00:38<03:41, 12.04it/s]"
     ]
    },
    {
     "name": "stdout",
     "output_type": "stream",
     "text": [
      "Emotion scores for text: https://t.co/eMANw3Iyss...\n",
      "Emotion scores for text: https://t.co/1Oa3wmzSoG...\n",
      "Emotion scores for text: Grok 3、面白いし、頭もいいから使ってみて...\n"
     ]
    },
    {
     "name": "stderr",
     "output_type": "stream",
     "text": [
      " 14%|█▍        | 445/3113 [00:39<03:59, 11.15it/s]"
     ]
    },
    {
     "name": "stdout",
     "output_type": "stream",
     "text": [
      "Emotion scores for text: Every bleeding-heart liberal I talk to about the R...\n",
      "Emotion scores for text: https://t.co/UPyWyAWOHP...\n",
      "Emotion scores for text: 🔥🔥\r\n",
      "https://t.co/CRwQOubvf5...\n"
     ]
    },
    {
     "name": "stderr",
     "output_type": "stream",
     "text": [
      " 14%|█▍        | 447/3113 [00:39<03:51, 11.50it/s]"
     ]
    },
    {
     "name": "stdout",
     "output_type": "stream",
     "text": [
      "Emotion scores for text: The Hammer of Justice \r\n",
      " https://t.co/NKlYHcs6Gd...\n",
      "Emotion scores for text: https://t.co/iehUOJ46Po...\n",
      "Emotion scores for text: https://t.co/96Fjp7O3RM...\n"
     ]
    },
    {
     "name": "stderr",
     "output_type": "stream",
     "text": [
      " 14%|█▍        | 451/3113 [00:39<03:46, 11.77it/s]"
     ]
    },
    {
     "name": "stdout",
     "output_type": "stream",
     "text": [
      "Emotion scores for text: https://t.co/y4pJQjzwGA...\n",
      "Emotion scores for text: https://t.co/TKnjgsbQ0c...\n",
      "Emotion scores for text: https://t.co/KpLS02w1f3...\n"
     ]
    },
    {
     "name": "stderr",
     "output_type": "stream",
     "text": [
      " 15%|█▍        | 453/3113 [00:39<03:40, 12.04it/s]"
     ]
    },
    {
     "name": "stdout",
     "output_type": "stream",
     "text": [
      "Emotion scores for text: https://t.co/jrRY4oBNyq...\n",
      "Emotion scores for text: Wow\r\n",
      " https://t.co/tcXzcVDImk...\n",
      "Emotion scores for text: This is a real picture https://t.co/HFSxrpbiju...\n"
     ]
    },
    {
     "name": "stderr",
     "output_type": "stream",
     "text": [
      " 15%|█▍        | 457/3113 [00:39<03:36, 12.29it/s]"
     ]
    },
    {
     "name": "stdout",
     "output_type": "stream",
     "text": [
      "Emotion scores for text: Legalize comedy\r\n",
      " https://t.co/uKr6fiRI3K...\n",
      "Emotion scores for text: https://t.co/xmDmGONQg1...\n",
      "Emotion scores for text: Massive EU censorship!!...\n"
     ]
    },
    {
     "name": "stderr",
     "output_type": "stream",
     "text": [
      " 15%|█▍        | 459/3113 [00:40<03:56, 11.24it/s]"
     ]
    },
    {
     "name": "stdout",
     "output_type": "stream",
     "text": [
      "Emotion scores for text: Try Grok voice in unhinged mode 😂 https://t.co/Agk...\n",
      "Emotion scores for text: It is time to begin preparations for deorbiting th...\n",
      "Emotion scores for text: https://t.co/RpCTIUJAgW...\n"
     ]
    },
    {
     "name": "stderr",
     "output_type": "stream",
     "text": [
      " 15%|█▍        | 463/3113 [00:40<03:52, 11.41it/s]"
     ]
    },
    {
     "name": "stdout",
     "output_type": "stream",
     "text": [
      "Emotion scores for text: Yes!! 🇺🇸🇺🇸\r\n",
      " https://t.co/BdWEyg1nYc...\n",
      "Emotion scores for text: https://t.co/WXHg9shmux...\n",
      "Emotion scores for text: Try Grok voice mode and change the personality to ...\n"
     ]
    },
    {
     "name": "stderr",
     "output_type": "stream",
     "text": [
      " 15%|█▍        | 465/3113 [00:40<04:00, 10.99it/s]"
     ]
    },
    {
     "name": "stdout",
     "output_type": "stream",
     "text": [
      "Emotion scores for text: https://t.co/YDlZOwLE8t...\n",
      "Emotion scores for text: This is without voice mode and many other features...\n",
      "Emotion scores for text: https://t.co/jY06TRlp4M...\n"
     ]
    },
    {
     "name": "stderr",
     "output_type": "stream",
     "text": [
      " 15%|█▌        | 469/3113 [00:41<03:53, 11.33it/s]"
     ]
    },
    {
     "name": "stdout",
     "output_type": "stream",
     "text": [
      "Emotion scores for text: https://t.co/gA9MwklW7H...\n",
      "Emotion scores for text: https://t.co/MVOmx9lT72...\n",
      "Emotion scores for text: He did this while kids are dying in trenches on th...\n"
     ]
    },
    {
     "name": "stderr",
     "output_type": "stream",
     "text": [
      " 15%|█▌        | 471/3113 [00:41<03:51, 11.41it/s]"
     ]
    },
    {
     "name": "stdout",
     "output_type": "stream",
     "text": [
      "Emotion scores for text: A livestream of Fort Knox would be 🔥🔥\r\n",
      " https://t....\n",
      "Emotion scores for text: https://t.co/4sSTV8xtof...\n",
      "Emotion scores for text: https://t.co/SZIEkUjUZC...\n"
     ]
    },
    {
     "name": "stderr",
     "output_type": "stream",
     "text": [
      " 15%|█▌        | 475/3113 [00:41<03:42, 11.83it/s]"
     ]
    },
    {
     "name": "stdout",
     "output_type": "stream",
     "text": [
      "Emotion scores for text: https://t.co/F7rmvWc2bn...\n",
      "Emotion scores for text: The American people realized the truth\r\n",
      "\r\n",
      "https://...\n",
      "Emotion scores for text: Grok will also be offered as a standalone applicat...\n"
     ]
    },
    {
     "name": "stderr",
     "output_type": "stream",
     "text": [
      " 15%|█▌        | 477/3113 [00:41<04:37,  9.51it/s]"
     ]
    },
    {
     "name": "stdout",
     "output_type": "stream",
     "text": [
      "Emotion scores for text: I had a similar experience. \r\n",
      "\r\n",
      "Covid itself was n...\n",
      "Emotion scores for text: You can now download Grok as its own dedicated app...\n",
      "Emotion scores for text: https://t.co/6KZMPILbjk...\n"
     ]
    },
    {
     "name": "stderr",
     "output_type": "stream",
     "text": [
      " 15%|█▌        | 481/3113 [00:42<04:07, 10.64it/s]"
     ]
    },
    {
     "name": "stdout",
     "output_type": "stream",
     "text": [
      "Emotion scores for text: https://t.co/RQ6h7yL3p2...\n",
      "Emotion scores for text: https://t.co/DjgzOHBMRV...\n",
      "Emotion scores for text: https://t.co/QWJUgvL9Hu...\n"
     ]
    },
    {
     "name": "stderr",
     "output_type": "stream",
     "text": [
      " 16%|█▌        | 483/3113 [00:42<03:54, 11.20it/s]"
     ]
    },
    {
     "name": "stdout",
     "output_type": "stream",
     "text": [
      "Emotion scores for text: https://t.co/VsOZC1CBin...\n",
      "Emotion scores for text: https://t.co/Dl0ZLdyPi5...\n",
      "Emotion scores for text: https://t.co/8ijSlHzNKb...\n"
     ]
    },
    {
     "name": "stderr",
     "output_type": "stream",
     "text": [
      " 16%|█▌        | 487/3113 [00:42<03:38, 12.02it/s]"
     ]
    },
    {
     "name": "stdout",
     "output_type": "stream",
     "text": [
      "Emotion scores for text: https://t.co/RH2ViX9bRU...\n",
      "Emotion scores for text: https://t.co/To2QmeBjCM...\n",
      "Emotion scores for text: https://t.co/l5Hzs21zKh...\n"
     ]
    },
    {
     "name": "stderr",
     "output_type": "stream",
     "text": [
      " 16%|█▌        | 489/3113 [00:42<03:45, 11.62it/s]"
     ]
    },
    {
     "name": "stdout",
     "output_type": "stream",
     "text": [
      "Emotion scores for text: https://t.co/P5F31Dg42O...\n",
      "Emotion scores for text: Congratulations @SpaceX team!\r\n",
      " https://t.co/m5pV5...\n",
      "Emotion scores for text: https://t.co/YInBRTo25Q...\n"
     ]
    },
    {
     "name": "stderr",
     "output_type": "stream",
     "text": [
      " 16%|█▌        | 493/3113 [00:43<03:40, 11.87it/s]"
     ]
    },
    {
     "name": "stdout",
     "output_type": "stream",
     "text": [
      "Emotion scores for text: https://t.co/Q7e8qepFdN...\n",
      "Emotion scores for text: How based is Grok, you might ask? https://t.co/k8h...\n",
      "Emotion scores for text: Thanks, Ari! ❤️ https://t.co/BUrm2trh4e...\n"
     ]
    },
    {
     "name": "stderr",
     "output_type": "stream",
     "text": [
      " 16%|█▌        | 495/3113 [00:43<03:47, 11.50it/s]"
     ]
    },
    {
     "name": "stdout",
     "output_type": "stream",
     "text": [
      "Emotion scores for text: Yes\r\n",
      " https://t.co/z9jaU2UWwh...\n",
      "Emotion scores for text: The @xAI Grok 3 release will improve rapidly every...\n",
      "Emotion scores for text: https://t.co/p55Vevxc0A...\n"
     ]
    },
    {
     "name": "stderr",
     "output_type": "stream",
     "text": [
      " 16%|█▌        | 499/3113 [00:43<03:37, 12.04it/s]"
     ]
    },
    {
     "name": "stdout",
     "output_type": "stream",
     "text": [
      "Emotion scores for text: https://t.co/jzt7sqDAPZ...\n",
      "Emotion scores for text: https://t.co/HpR7MSxrTJ...\n",
      "Emotion scores for text: https://t.co/3odUqFw1xb...\n"
     ]
    },
    {
     "name": "stderr",
     "output_type": "stream",
     "text": [
      " 16%|█▌        | 501/3113 [00:43<03:36, 12.09it/s]"
     ]
    },
    {
     "name": "stdout",
     "output_type": "stream",
     "text": [
      "Emotion scores for text: https://t.co/dMIXm1Th1J...\n",
      "Emotion scores for text: https://t.co/MFhd7D35mr...\n",
      "Emotion scores for text: https://t.co/ph8WnFRLeO...\n"
     ]
    },
    {
     "name": "stderr",
     "output_type": "stream",
     "text": [
      " 16%|█▌        | 505/3113 [00:44<03:31, 12.33it/s]"
     ]
    },
    {
     "name": "stdout",
     "output_type": "stream",
     "text": [
      "Emotion scores for text: https://t.co/ocnnM2Bgrm...\n",
      "Emotion scores for text: https://t.co/HTK4u2aYRu...\n",
      "Emotion scores for text: https://t.co/MFhd7D2xwT...\n"
     ]
    },
    {
     "name": "stderr",
     "output_type": "stream",
     "text": [
      " 16%|█▋        | 507/3113 [00:44<03:21, 12.95it/s]"
     ]
    },
    {
     "name": "stdout",
     "output_type": "stream",
     "text": [
      "Emotion scores for text: https://t.co/QMzzK9CLIo...\n",
      "Emotion scores for text: LFG 🔥🔥🇺🇸🇺🇸...\n",
      "Emotion scores for text: Looking for the gold at Fort Knox … https://t.co/Y...\n"
     ]
    },
    {
     "name": "stderr",
     "output_type": "stream",
     "text": [
      " 16%|█▋        | 509/3113 [00:44<03:30, 12.35it/s]"
     ]
    },
    {
     "name": "stdout",
     "output_type": "stream",
     "text": [
      "Emotion scores for text: This is happening nationally via fraud https://t.c...\n",
      "Emotion scores for text: https://t.co/6AIdcBec96...\n"
     ]
    },
    {
     "name": "stderr",
     "output_type": "stream",
     "text": [
      " 16%|█▋        | 513/3113 [00:44<03:45, 11.55it/s]"
     ]
    },
    {
     "name": "stdout",
     "output_type": "stream",
     "text": [
      "Emotion scores for text: The REAL reason so many Democrats are upset about ...\n",
      "Emotion scores for text: https://t.co/fumW232vkk...\n",
      "Emotion scores for text: What happened here?...\n"
     ]
    },
    {
     "name": "stderr",
     "output_type": "stream",
     "text": [
      " 17%|█▋        | 515/3113 [00:45<03:50, 11.27it/s]"
     ]
    },
    {
     "name": "stdout",
     "output_type": "stream",
     "text": [
      "Emotion scores for text: For some reason, I find the history of Genghis Kah...\n",
      "Emotion scores for text: https://t.co/xKMqLfVasq...\n",
      "Emotion scores for text: https://t.co/fVg0yN5tJJ...\n"
     ]
    },
    {
     "name": "stderr",
     "output_type": "stream",
     "text": [
      " 17%|█▋        | 519/3113 [00:45<03:44, 11.57it/s]"
     ]
    },
    {
     "name": "stdout",
     "output_type": "stream",
     "text": [
      "Emotion scores for text: https://t.co/gROdIiYUvw...\n",
      "Emotion scores for text: I am endlessly amused by the infinite indignities ...\n",
      "Emotion scores for text: https://t.co/ehgqiEGXub...\n"
     ]
    },
    {
     "name": "stderr",
     "output_type": "stream",
     "text": [
      " 17%|█▋        | 521/3113 [00:45<03:35, 12.03it/s]"
     ]
    },
    {
     "name": "stdout",
     "output_type": "stream",
     "text": [
      "Emotion scores for text: https://t.co/MI0mYxeL01...\n",
      "Emotion scores for text: https://t.co/AUbUzqos4s...\n",
      "Emotion scores for text: https://t.co/XiRvz9QWaT...\n"
     ]
    },
    {
     "name": "stderr",
     "output_type": "stream",
     "text": [
      " 17%|█▋        | 523/3113 [00:45<03:33, 12.14it/s]"
     ]
    },
    {
     "name": "stdout",
     "output_type": "stream",
     "text": [
      "Emotion scores for text: https://t.co/TsNUQfK6cc...\n",
      "Emotion scores for text: According to the Social Security database, these a...\n"
     ]
    },
    {
     "name": "stderr",
     "output_type": "stream",
     "text": [
      " 17%|█▋        | 525/3113 [00:46<04:27,  9.67it/s]"
     ]
    },
    {
     "name": "stdout",
     "output_type": "stream",
     "text": [
      "Emotion scores for text: 60 Mins are such liars. As the Community Note stat...\n",
      "Emotion scores for text: https://t.co/5Ktd0DhlVS...\n"
     ]
    },
    {
     "name": "stderr",
     "output_type": "stream",
     "text": [
      " 17%|█▋        | 529/3113 [00:46<04:19,  9.96it/s]"
     ]
    },
    {
     "name": "stdout",
     "output_type": "stream",
     "text": [
      "Emotion scores for text: Grok 3 is so based 😂 https://t.co/Rfphquqk2b...\n",
      "Emotion scores for text: Grok 3\r\n",
      " https://t.co/yF1CyuvLgL...\n",
      "Emotion scores for text: Grok 3 release with live demo on Monday night at 8...\n"
     ]
    },
    {
     "name": "stderr",
     "output_type": "stream",
     "text": [
      " 17%|█▋        | 531/3113 [00:46<04:26,  9.67it/s]"
     ]
    },
    {
     "name": "stdout",
     "output_type": "stream",
     "text": [
      "Emotion scores for text: https://t.co/eqLVDHRcmP...\n",
      "Emotion scores for text: Deeply honored to support President ⁦@realDonaldTr...\n"
     ]
    },
    {
     "name": "stderr",
     "output_type": "stream",
     "text": [
      " 17%|█▋        | 533/3113 [00:46<04:13, 10.17it/s]"
     ]
    },
    {
     "name": "stdout",
     "output_type": "stream",
     "text": [
      "Emotion scores for text: https://t.co/gZT9mO5F8P...\n",
      "Emotion scores for text: https://t.co/gPVMFwx7Ci...\n",
      "Emotion scores for text: https://t.co/vm9DFRSebw...\n"
     ]
    },
    {
     "name": "stderr",
     "output_type": "stream",
     "text": [
      " 17%|█▋        | 537/3113 [00:47<04:00, 10.70it/s]"
     ]
    },
    {
     "name": "stdout",
     "output_type": "stream",
     "text": [
      "Emotion scores for text: Great speech by VP @JDVance!\r\n",
      " https://t.co/d4xLY6...\n",
      "Emotion scores for text: https://t.co/OcL5M3GQ08...\n",
      "Emotion scores for text: Make Europe Great Again!\r\n",
      "\r\n",
      "MEGA, MEGA, MEGA \r\n",
      "\r\n",
      " ...\n"
     ]
    },
    {
     "name": "stderr",
     "output_type": "stream",
     "text": [
      " 17%|█▋        | 539/3113 [00:47<03:56, 10.87it/s]"
     ]
    },
    {
     "name": "stdout",
     "output_type": "stream",
     "text": [
      "Emotion scores for text: https://t.co/6m4A7jeT7f...\n",
      "Emotion scores for text: https://t.co/s3bTYzTemS...\n",
      "Emotion scores for text: Wearing my TECH SUPPORT shirt today!\r\n",
      "\r\n",
      "What more ...\n"
     ]
    },
    {
     "name": "stderr",
     "output_type": "stream",
     "text": [
      " 17%|█▋        | 543/3113 [00:47<03:41, 11.61it/s]"
     ]
    },
    {
     "name": "stdout",
     "output_type": "stream",
     "text": [
      "Emotion scores for text: What’s this @DOGE thing people keep talking about?...\n",
      "Emotion scores for text: Worth mentioning again https://t.co/ssflrzYUBe...\n",
      "Emotion scores for text: I am so entertained...\n"
     ]
    },
    {
     "name": "stderr",
     "output_type": "stream",
     "text": [
      " 18%|█▊        | 545/3113 [00:47<03:38, 11.73it/s]"
     ]
    },
    {
     "name": "stdout",
     "output_type": "stream",
     "text": [
      "Emotion scores for text: If ANY judge ANYWHERE can stop EVERY Presidential ...\n",
      "Emotion scores for text: Congratulations @RobertKennedyJr!!...\n",
      "Emotion scores for text: It’s almost like there’s a massive uniparty grift ...\n"
     ]
    },
    {
     "name": "stderr",
     "output_type": "stream",
     "text": [
      " 18%|█▊        | 549/3113 [00:48<03:31, 12.13it/s]"
     ]
    },
    {
     "name": "stdout",
     "output_type": "stream",
     "text": [
      "Emotion scores for text: Why do they keep wanting to fund the National Endo...\n",
      "Emotion scores for text: https://t.co/aB0gwH9mBV...\n",
      "Emotion scores for text: https://t.co/AVvC4aWIYC...\n"
     ]
    },
    {
     "name": "stderr",
     "output_type": "stream",
     "text": [
      " 18%|█▊        | 551/3113 [00:48<03:32, 12.07it/s]"
     ]
    },
    {
     "name": "stdout",
     "output_type": "stream",
     "text": [
      "Emotion scores for text: https://t.co/UttRIsbq7S...\n",
      "Emotion scores for text: https://t.co/JwLrmNf6Pm...\n"
     ]
    },
    {
     "name": "stderr",
     "output_type": "stream",
     "text": [
      " 18%|█▊        | 553/3113 [00:48<04:05, 10.42it/s]"
     ]
    },
    {
     "name": "stdout",
     "output_type": "stream",
     "text": [
      "Emotion scores for text: Reuters received far more money than this from US ...\n",
      "Emotion scores for text: What happened to them?\r\n",
      " https://t.co/M9ER0I8Y34...\n",
      "Emotion scores for text: https://t.co/vUqmlbvAMU...\n"
     ]
    },
    {
     "name": "stderr",
     "output_type": "stream",
     "text": [
      " 18%|█▊        | 557/3113 [00:48<03:50, 11.09it/s]"
     ]
    },
    {
     "name": "stdout",
     "output_type": "stream",
     "text": [
      "Emotion scores for text: https://t.co/MbhBV4dXO4...\n",
      "Emotion scores for text: Very important message \r\n",
      " https://t.co/5OgTpvzw5n...\n",
      "Emotion scores for text: 🤔 https://t.co/Ehvi2nUGDJ...\n"
     ]
    },
    {
     "name": "stderr",
     "output_type": "stream",
     "text": [
      " 18%|█▊        | 559/3113 [00:49<03:40, 11.59it/s]"
     ]
    },
    {
     "name": "stdout",
     "output_type": "stream",
     "text": [
      "Emotion scores for text: So true\r\n",
      " https://t.co/QLUYsiChIH...\n",
      "Emotion scores for text: https://t.co/r0MQfNVrza...\n",
      "Emotion scores for text: Will we actually choose the algorithm?\r\n",
      " https://t...\n"
     ]
    },
    {
     "name": "stderr",
     "output_type": "stream",
     "text": [
      " 18%|█▊        | 563/3113 [00:49<03:37, 11.75it/s]"
     ]
    },
    {
     "name": "stdout",
     "output_type": "stream",
     "text": [
      "Emotion scores for text: https://t.co/HC0ZkjSK2p...\n",
      "Emotion scores for text: https://t.co/CgUp7d9k9n...\n",
      "Emotion scores for text: https://t.co/4w8GOXgnM9...\n"
     ]
    },
    {
     "name": "stderr",
     "output_type": "stream",
     "text": [
      " 18%|█▊        | 565/3113 [00:49<03:31, 12.06it/s]"
     ]
    },
    {
     "name": "stdout",
     "output_type": "stream",
     "text": [
      "Emotion scores for text: https://t.co/fQdO4BQdna...\n",
      "Emotion scores for text: https://t.co/Ry9XbSrHUN...\n",
      "Emotion scores for text: Not anymore https://t.co/j60JzcYTal...\n"
     ]
    },
    {
     "name": "stderr",
     "output_type": "stream",
     "text": [
      " 18%|█▊        | 569/3113 [00:49<03:34, 11.85it/s]"
     ]
    },
    {
     "name": "stdout",
     "output_type": "stream",
     "text": [
      "Emotion scores for text: Why 90% of America loves @DOGE 😂 https://t.co/d1FE...\n",
      "Emotion scores for text: https://t.co/Wr6GGnSKeJ...\n",
      "Emotion scores for text: https://t.co/XkUdueSYO7...\n"
     ]
    },
    {
     "name": "stderr",
     "output_type": "stream",
     "text": [
      " 18%|█▊        | 571/3113 [00:50<03:30, 12.09it/s]"
     ]
    },
    {
     "name": "stdout",
     "output_type": "stream",
     "text": [
      "Emotion scores for text: https://t.co/HewewE5YdF...\n",
      "Emotion scores for text: https://t.co/zMK7u1JMhV...\n",
      "Emotion scores for text: https://t.co/Od4pKInkUV...\n"
     ]
    },
    {
     "name": "stderr",
     "output_type": "stream",
     "text": [
      " 18%|█▊        | 575/3113 [00:50<03:26, 12.32it/s]"
     ]
    },
    {
     "name": "stdout",
     "output_type": "stream",
     "text": [
      "Emotion scores for text: https://t.co/sIwAcoeTle...\n",
      "Emotion scores for text: 😂 https://t.co/sF6mY8lpaD...\n",
      "Emotion scores for text: Also the government https://t.co/ENxiQGyQcn...\n"
     ]
    },
    {
     "name": "stderr",
     "output_type": "stream",
     "text": [
      " 19%|█▊        | 577/3113 [00:50<03:32, 11.96it/s]"
     ]
    },
    {
     "name": "stdout",
     "output_type": "stream",
     "text": [
      "Emotion scores for text: https://t.co/HWL7DWLVB0...\n",
      "Emotion scores for text: Federal judges who repeatedly abuse their authorit...\n"
     ]
    },
    {
     "name": "stderr",
     "output_type": "stream",
     "text": [
      " 19%|█▊        | 579/3113 [00:50<04:03, 10.40it/s]"
     ]
    },
    {
     "name": "stdout",
     "output_type": "stream",
     "text": [
      "Emotion scores for text: As it becomes clear that @DOGE is working, you wil...\n",
      "Emotion scores for text: This is how it should be. \r\n",
      "\r\n",
      "America protects its...\n",
      "Emotion scores for text: 👌 https://t.co/oYEPNSISEg...\n"
     ]
    },
    {
     "name": "stderr",
     "output_type": "stream",
     "text": [
      " 19%|█▊        | 583/3113 [00:51<03:43, 11.34it/s]"
     ]
    },
    {
     "name": "stdout",
     "output_type": "stream",
     "text": [
      "Emotion scores for text: https://t.co/7NzFTkFjhk...\n",
      "Emotion scores for text: 💯 https://t.co/6p8spOtyRP...\n",
      "Emotion scores for text: https://t.co/UW7kwTNrh1...\n"
     ]
    },
    {
     "name": "stderr",
     "output_type": "stream",
     "text": [
      " 19%|█▉        | 585/3113 [00:51<03:35, 11.75it/s]"
     ]
    },
    {
     "name": "stdout",
     "output_type": "stream",
     "text": [
      "Emotion scores for text: https://t.co/D1lB4KEktI...\n",
      "Emotion scores for text: Fresh snowfall in DC https://t.co/LHg4AhFJwt...\n",
      "Emotion scores for text: https://t.co/lrtgplEZ3X...\n"
     ]
    },
    {
     "name": "stderr",
     "output_type": "stream",
     "text": [
      " 19%|█▉        | 589/3113 [00:51<03:33, 11.81it/s]"
     ]
    },
    {
     "name": "stdout",
     "output_type": "stream",
     "text": [
      "Emotion scores for text: $50M of condoms is a LOT of condoms 🤷‍♂️ \r\n",
      "\r\n",
      " http...\n",
      "Emotion scores for text: 🤨...\n",
      "Emotion scores for text: Their authenticity is overwhelming \r\n",
      " https://t.co...\n"
     ]
    },
    {
     "name": "stderr",
     "output_type": "stream",
     "text": [
      " 19%|█▉        | 591/3113 [00:51<03:25, 12.26it/s]"
     ]
    },
    {
     "name": "stdout",
     "output_type": "stream",
     "text": [
      "Emotion scores for text: https://t.co/o3OlH9ySrK...\n",
      "Emotion scores for text: https://t.co/fUXPQKEyfl...\n",
      "Emotion scores for text: https://t.co/hErEkthzLa...\n"
     ]
    },
    {
     "name": "stderr",
     "output_type": "stream",
     "text": [
      " 19%|█▉        | 595/3113 [00:52<03:16, 12.84it/s]"
     ]
    },
    {
     "name": "stdout",
     "output_type": "stream",
     "text": [
      "Emotion scores for text: 💯 https://t.co/NUsOkUR9VE...\n",
      "Emotion scores for text: https://t.co/Q8ckgAsI0G...\n",
      "Emotion scores for text: https://t.co/flXAFzhggf...\n"
     ]
    },
    {
     "name": "stderr",
     "output_type": "stream",
     "text": [
      " 19%|█▉        | 597/3113 [00:52<03:30, 11.96it/s]"
     ]
    },
    {
     "name": "stdout",
     "output_type": "stream",
     "text": [
      "Emotion scores for text: https://t.co/Gk9bQE3SZc...\n",
      "Emotion scores for text: They imported voters to stack the election\r\n",
      " https...\n",
      "Emotion scores for text: 🎯\r\n",
      " https://t.co/HucrieS1pT...\n"
     ]
    },
    {
     "name": "stderr",
     "output_type": "stream",
     "text": [
      " 19%|█▉        | 601/3113 [00:52<03:23, 12.35it/s]"
     ]
    },
    {
     "name": "stdout",
     "output_type": "stream",
     "text": [
      "Emotion scores for text: “Judicial dicktatorship is wrong!” – Harry Bōlz...\n",
      "Emotion scores for text: 🇺🇸🇺🇸\r\n",
      " https://t.co/jVmgvbcHFp...\n",
      "Emotion scores for text: https://t.co/2xhNV4QcrY...\n"
     ]
    },
    {
     "name": "stderr",
     "output_type": "stream",
     "text": [
      " 19%|█▉        | 603/3113 [00:52<03:25, 12.19it/s]"
     ]
    },
    {
     "name": "stdout",
     "output_type": "stream",
     "text": [
      "Emotion scores for text: Welcome to Mars\r\n",
      " https://t.co/cyvEEVRD7L...\n",
      "Emotion scores for text: Now 69% off!\r\n",
      " https://t.co/PkZStVGo9K...\n",
      "Emotion scores for text: https://t.co/zrzb8lOuJX...\n"
     ]
    },
    {
     "name": "stderr",
     "output_type": "stream",
     "text": [
      " 19%|█▉        | 607/3113 [00:53<03:26, 12.14it/s]"
     ]
    },
    {
     "name": "stdout",
     "output_type": "stream",
     "text": [
      "Emotion scores for text: https://t.co/1o0tPa6Vvi...\n",
      "Emotion scores for text: Check out my bio https://t.co/vAUdrHVDW5...\n",
      "Emotion scores for text: https://t.co/dA9BQkgytK...\n"
     ]
    },
    {
     "name": "stderr",
     "output_type": "stream",
     "text": [
      " 20%|█▉        | 609/3113 [00:53<03:12, 12.98it/s]"
     ]
    },
    {
     "name": "stdout",
     "output_type": "stream",
     "text": [
      "Emotion scores for text: 🥜...\n",
      "Emotion scores for text: https://t.co/bSoKpjsYHL...\n",
      "Emotion scores for text: Made them say my name 🤣🤣\r\n",
      " https://t.co/bSTHB9ttVa...\n"
     ]
    },
    {
     "name": "stderr",
     "output_type": "stream",
     "text": [
      " 20%|█▉        | 613/3113 [00:53<03:23, 12.31it/s]"
     ]
    },
    {
     "name": "stdout",
     "output_type": "stream",
     "text": [
      "Emotion scores for text: https://t.co/YH1XUtV41M...\n",
      "Emotion scores for text: https://t.co/Cl4HEwRG8v...\n",
      "Emotion scores for text: https://t.co/8nAGjmCQRw...\n"
     ]
    },
    {
     "name": "stderr",
     "output_type": "stream",
     "text": [
      " 20%|█▉        | 615/3113 [00:53<03:19, 12.54it/s]"
     ]
    },
    {
     "name": "stdout",
     "output_type": "stream",
     "text": [
      "Emotion scores for text: https://t.co/I7nbZ6v8WK...\n",
      "Emotion scores for text: https://t.co/bXklLEFFhO...\n",
      "Emotion scores for text: https://t.co/2dxTdUnxJ4...\n"
     ]
    },
    {
     "name": "stderr",
     "output_type": "stream",
     "text": [
      " 20%|█▉        | 617/3113 [00:53<03:25, 12.13it/s]"
     ]
    },
    {
     "name": "stdout",
     "output_type": "stream",
     "text": [
      "Emotion scores for text: 🤣🤣\r\n",
      " https://t.co/HXq7hmWb6c...\n",
      "Emotion scores for text: One of the things USAID was doing was offering fre...\n"
     ]
    },
    {
     "name": "stderr",
     "output_type": "stream",
     "text": [
      " 20%|█▉        | 621/3113 [00:54<03:41, 11.25it/s]"
     ]
    },
    {
     "name": "stdout",
     "output_type": "stream",
     "text": [
      "Emotion scores for text: https://t.co/mvqWeWhufq...\n",
      "Emotion scores for text: https://t.co/9nuobKmdBN...\n",
      "Emotion scores for text: https://t.co/IuqIbluLc6...\n"
     ]
    },
    {
     "name": "stderr",
     "output_type": "stream",
     "text": [
      " 20%|██        | 623/3113 [00:54<03:31, 11.75it/s]"
     ]
    },
    {
     "name": "stdout",
     "output_type": "stream",
     "text": [
      "Emotion scores for text: https://t.co/flr4RzI6BQ...\n",
      "Emotion scores for text: https://t.co/lKnT2lK90S...\n",
      "Emotion scores for text: https://t.co/FzUAy9BjtF...\n"
     ]
    },
    {
     "name": "stderr",
     "output_type": "stream",
     "text": [
      " 20%|██        | 627/3113 [00:54<03:28, 11.94it/s]"
     ]
    },
    {
     "name": "stdout",
     "output_type": "stream",
     "text": [
      "Emotion scores for text: https://t.co/ZNHxfRB9KX...\n",
      "Emotion scores for text: https://t.co/NZJMRjvGWD...\n",
      "Emotion scores for text: https://t.co/bZv07Vz7UA...\n"
     ]
    },
    {
     "name": "stderr",
     "output_type": "stream",
     "text": [
      " 20%|██        | 629/3113 [00:54<03:28, 11.90it/s]"
     ]
    },
    {
     "name": "stdout",
     "output_type": "stream",
     "text": [
      "Emotion scores for text: https://t.co/bR3vuGByj8...\n",
      "Emotion scores for text: https://t.co/letSYzyUl9...\n",
      "Emotion scores for text: This was a gem https://t.co/vSzw0FYhor...\n"
     ]
    },
    {
     "name": "stderr",
     "output_type": "stream",
     "text": [
      " 20%|██        | 631/3113 [00:55<04:05, 10.10it/s]"
     ]
    },
    {
     "name": "stdout",
     "output_type": "stream",
     "text": [
      "Emotion scores for text: At this point, I am 100% certain that the magnitud...\n",
      "Emotion scores for text: So many fake protests paid for by the same corrupt...\n"
     ]
    },
    {
     "name": "stderr",
     "output_type": "stream",
     "text": [
      " 20%|██        | 635/3113 [00:55<04:02, 10.22it/s]"
     ]
    },
    {
     "name": "stdout",
     "output_type": "stream",
     "text": [
      "Emotion scores for text: And @CommunityNotes wins again https://t.co/nDjZcw...\n",
      "Emotion scores for text: Bingo\r\n",
      " https://t.co/AdiByP94ei...\n",
      "Emotion scores for text: 💯\r\n",
      " https://t.co/u6x37VJlGA...\n"
     ]
    },
    {
     "name": "stderr",
     "output_type": "stream",
     "text": [
      " 20%|██        | 637/3113 [00:55<03:53, 10.59it/s]"
     ]
    },
    {
     "name": "stdout",
     "output_type": "stream",
     "text": [
      "Emotion scores for text: https://t.co/IdLJV8zRQG...\n",
      "Emotion scores for text: Scam Altman https://t.co/j9EXIqBZ8u...\n",
      "Emotion scores for text: https://t.co/VJwnOv1Z2J...\n"
     ]
    },
    {
     "name": "stderr",
     "output_type": "stream",
     "text": [
      " 21%|██        | 641/3113 [00:56<03:30, 11.73it/s]"
     ]
    },
    {
     "name": "stdout",
     "output_type": "stream",
     "text": [
      "Emotion scores for text: https://t.co/aE4XMOwiPR...\n",
      "Emotion scores for text: Never a dull moment on 𝕏...\n",
      "Emotion scores for text: https://t.co/7h2gy3v8fM...\n"
     ]
    },
    {
     "name": "stderr",
     "output_type": "stream",
     "text": [
      " 21%|██        | 643/3113 [00:56<03:18, 12.46it/s]"
     ]
    },
    {
     "name": "stdout",
     "output_type": "stream",
     "text": [
      "Emotion scores for text: 💯...\n",
      "Emotion scores for text: https://t.co/PcaQH6Emp2...\n",
      "Emotion scores for text: Starship is the largest and most powerful flying o...\n"
     ]
    },
    {
     "name": "stderr",
     "output_type": "stream",
     "text": [
      " 21%|██        | 647/3113 [00:56<03:33, 11.58it/s]"
     ]
    },
    {
     "name": "stdout",
     "output_type": "stream",
     "text": [
      "Emotion scores for text: https://t.co/tZ7BZS76Lq...\n",
      "Emotion scores for text: Among many other things, @DOGE today canceled a $1...\n",
      "Emotion scores for text: True...\n"
     ]
    },
    {
     "name": "stderr",
     "output_type": "stream",
     "text": [
      " 21%|██        | 649/3113 [00:56<04:31,  9.07it/s]"
     ]
    },
    {
     "name": "stdout",
     "output_type": "stream",
     "text": [
      "Emotion scores for text: The @DOGE team just discovered that FEMA sent $59M...\n",
      "Emotion scores for text: https://t.co/4M5uNd6U0l...\n",
      "Emotion scores for text: https://t.co/QngxLwQw8f...\n"
     ]
    },
    {
     "name": "stderr",
     "output_type": "stream",
     "text": [
      " 21%|██        | 653/3113 [00:57<03:53, 10.54it/s]"
     ]
    },
    {
     "name": "stdout",
     "output_type": "stream",
     "text": [
      "Emotion scores for text: https://t.co/1oTudcg2P8...\n",
      "Emotion scores for text: Excellent summary of the game plan\n",
      " https://t.co/4...\n",
      "Emotion scores for text: https://t.co/ktLP1RBKMl...\n"
     ]
    },
    {
     "name": "stderr",
     "output_type": "stream",
     "text": [
      " 21%|██        | 655/3113 [00:57<03:41, 11.11it/s]"
     ]
    },
    {
     "name": "stdout",
     "output_type": "stream",
     "text": [
      "Emotion scores for text: https://t.co/LxkwI3mvCf...\n",
      "Emotion scores for text: https://t.co/areNPpd6DX...\n",
      "Emotion scores for text: https://t.co/lIZFxcAPrD...\n"
     ]
    },
    {
     "name": "stderr",
     "output_type": "stream",
     "text": [
      " 21%|██        | 659/3113 [00:57<03:45, 10.87it/s]"
     ]
    },
    {
     "name": "stdout",
     "output_type": "stream",
     "text": [
      "Emotion scores for text: https://t.co/hlozMATpmV...\n",
      "Emotion scores for text: Yeah, it’s crazy. \n",
      "\n",
      "My rough guess is that there a...\n",
      "Emotion scores for text: Milton Friedman was spot on\n",
      "\n",
      " https://t.co/5fndbNz...\n"
     ]
    },
    {
     "name": "stderr",
     "output_type": "stream",
     "text": [
      " 21%|██        | 661/3113 [00:57<03:34, 11.43it/s]"
     ]
    },
    {
     "name": "stdout",
     "output_type": "stream",
     "text": [
      "Emotion scores for text: https://t.co/rFDbS4mKYg...\n",
      "Emotion scores for text: https://t.co/Cacy3PJdnd...\n",
      "Emotion scores for text: https://t.co/UhUasdN1EF...\n"
     ]
    },
    {
     "name": "stderr",
     "output_type": "stream",
     "text": [
      " 21%|██▏       | 665/3113 [00:58<03:29, 11.69it/s]"
     ]
    },
    {
     "name": "stdout",
     "output_type": "stream",
     "text": [
      "Emotion scores for text: Follow the Super Bowl https://t.co/RMJoA7ZmYl...\n",
      "Emotion scores for text: https://t.co/pSQfcQI1QM...\n",
      "Emotion scores for text: https://t.co/wKLneVOJnX...\n"
     ]
    },
    {
     "name": "stderr",
     "output_type": "stream",
     "text": [
      " 21%|██▏       | 667/3113 [00:58<03:27, 11.81it/s]"
     ]
    },
    {
     "name": "stdout",
     "output_type": "stream",
     "text": [
      "Emotion scores for text: Starship Super Heavy Booster https://t.co/zOXgiq9b...\n",
      "Emotion scores for text: https://t.co/esjBwCjKOU...\n",
      "Emotion scores for text: Guess I better maximize my security 🤔 \n",
      " https://t....\n"
     ]
    },
    {
     "name": "stderr",
     "output_type": "stream",
     "text": [
      " 21%|██▏       | 669/3113 [00:58<03:26, 11.83it/s]"
     ]
    },
    {
     "name": "stdout",
     "output_type": "stream",
     "text": [
      "Emotion scores for text: https://t.co/8mJWKCB3rn...\n",
      "Emotion scores for text: This is what we’re dealing with everywhere in gove...\n"
     ]
    },
    {
     "name": "stderr",
     "output_type": "stream",
     "text": [
      " 22%|██▏       | 673/3113 [00:58<03:41, 11.01it/s]"
     ]
    },
    {
     "name": "stdout",
     "output_type": "stream",
     "text": [
      "Emotion scores for text: I’d like to propose that the worst 1% of appointed...\n",
      "Emotion scores for text: https://t.co/EE29ABOl4m...\n",
      "Emotion scores for text: Video game”journalism” is garbage...\n"
     ]
    },
    {
     "name": "stderr",
     "output_type": "stream",
     "text": [
      " 22%|██▏       | 675/3113 [00:59<03:38, 11.17it/s]"
     ]
    },
    {
     "name": "stdout",
     "output_type": "stream",
     "text": [
      "Emotion scores for text: Is the left really just a giant kleptocracy?\n",
      "\n",
      "The ...\n",
      "Emotion scores for text: https://t.co/PfYUu6CyF5...\n",
      "Emotion scores for text: https://t.co/SmPpXyEmxR...\n"
     ]
    },
    {
     "name": "stderr",
     "output_type": "stream",
     "text": [
      " 22%|██▏       | 679/3113 [00:59<03:37, 11.18it/s]"
     ]
    },
    {
     "name": "stdout",
     "output_type": "stream",
     "text": [
      "Emotion scores for text: https://t.co/4X61MCJytL...\n",
      "Emotion scores for text: 🇺🇸🫡\n",
      " https://t.co/uLQ7si5I1V...\n",
      "Emotion scores for text: “Independent media” lmao https://t.co/1AITZSAyJw...\n"
     ]
    },
    {
     "name": "stderr",
     "output_type": "stream",
     "text": [
      " 22%|██▏       | 681/3113 [00:59<03:30, 11.56it/s]"
     ]
    },
    {
     "name": "stdout",
     "output_type": "stream",
     "text": [
      "Emotion scores for text: https://t.co/k03kwBA3ol...\n",
      "Emotion scores for text: https://t.co/19GeiVHrc1...\n",
      "Emotion scores for text: https://t.co/lLhS8aPubV...\n"
     ]
    },
    {
     "name": "stderr",
     "output_type": "stream",
     "text": [
      " 22%|██▏       | 683/3113 [00:59<03:22, 12.03it/s]"
     ]
    },
    {
     "name": "stdout",
     "output_type": "stream",
     "text": [
      "Emotion scores for text: https://t.co/yVLOaJq4nW...\n"
     ]
    },
    {
     "name": "stderr",
     "output_type": "stream",
     "text": [
      " 22%|██▏       | 685/3113 [01:00<07:30,  5.39it/s]"
     ]
    },
    {
     "name": "stdout",
     "output_type": "stream",
     "text": [
      "Emotion scores for text: To be clear, what the @DOGE team and @USTreasury h...\n",
      "Emotion scores for text: https://t.co/Iz6hqk0hRg...\n"
     ]
    },
    {
     "name": "stderr",
     "output_type": "stream",
     "text": [
      " 22%|██▏       | 688/3113 [01:01<06:46,  5.96it/s]"
     ]
    },
    {
     "name": "stdout",
     "output_type": "stream",
     "text": [
      "Emotion scores for text: The Democratic Party still doesn’t realize how man...\n",
      "Emotion scores for text: https://t.co/DidGoDSsA4...\n",
      "Emotion scores for text: Any corrections or comments about these numbers? h...\n"
     ]
    },
    {
     "name": "stderr",
     "output_type": "stream",
     "text": [
      " 22%|██▏       | 690/3113 [01:01<05:43,  7.06it/s]"
     ]
    },
    {
     "name": "stdout",
     "output_type": "stream",
     "text": [
      "Emotion scores for text: Awesome 😎 https://t.co/DkoZXRROuq...\n",
      "Emotion scores for text: https://t.co/5UFbeuoYNn...\n",
      "Emotion scores for text: https://t.co/Ji38M2MK7D...\n"
     ]
    },
    {
     "name": "stderr",
     "output_type": "stream",
     "text": [
      " 22%|██▏       | 694/3113 [01:01<04:21,  9.24it/s]"
     ]
    },
    {
     "name": "stdout",
     "output_type": "stream",
     "text": [
      "Emotion scores for text: https://t.co/h5oHlBtVAk...\n",
      "Emotion scores for text: https://t.co/irYGaVAiqm...\n",
      "Emotion scores for text: https://t.co/JAGq8TnS98...\n"
     ]
    },
    {
     "name": "stderr",
     "output_type": "stream",
     "text": [
      " 22%|██▏       | 696/3113 [01:01<03:59, 10.08it/s]"
     ]
    },
    {
     "name": "stdout",
     "output_type": "stream",
     "text": [
      "Emotion scores for text: CFPB RIP 🪦...\n",
      "Emotion scores for text: https://t.co/nkrKEocWi9...\n",
      "Emotion scores for text: I love @realDonaldTrump as much as a straight man ...\n"
     ]
    },
    {
     "name": "stderr",
     "output_type": "stream",
     "text": [
      " 22%|██▏       | 700/3113 [01:02<03:33, 11.30it/s]"
     ]
    },
    {
     "name": "stdout",
     "output_type": "stream",
     "text": [
      "Emotion scores for text: Greatest President ever! https://t.co/U8BuPVwSwd...\n",
      "Emotion scores for text: Yes, Mr. President! https://t.co/6bzdL218k6...\n",
      "Emotion scores for text: 🤣🤣...\n"
     ]
    },
    {
     "name": "stderr",
     "output_type": "stream",
     "text": [
      " 23%|██▎       | 702/3113 [01:02<03:30, 11.47it/s]"
     ]
    },
    {
     "name": "stdout",
     "output_type": "stream",
     "text": [
      "Emotion scores for text: https://t.co/BVLQRlUXSZ...\n",
      "Emotion scores for text: https://t.co/6w0ZKm0iHc...\n",
      "Emotion scores for text: Bring back @DOGE staffer who made inappropriate st...\n"
     ]
    },
    {
     "name": "stderr",
     "output_type": "stream",
     "text": [
      " 23%|██▎       | 706/3113 [01:02<03:22, 11.86it/s]"
     ]
    },
    {
     "name": "stdout",
     "output_type": "stream",
     "text": [
      "Emotion scores for text: https://t.co/z3YkAoYHqZ...\n",
      "Emotion scores for text: https://t.co/QOSHhEupym...\n",
      "Emotion scores for text: https://t.co/oznIdS8MHM...\n"
     ]
    },
    {
     "name": "stderr",
     "output_type": "stream",
     "text": [
      " 23%|██▎       | 708/3113 [01:02<03:17, 12.16it/s]"
     ]
    },
    {
     "name": "stdout",
     "output_type": "stream",
     "text": [
      "Emotion scores for text: https://t.co/DK3nBBcVKS...\n",
      "Emotion scores for text: https://t.co/gRc0JQfEET...\n",
      "Emotion scores for text: https://t.co/uOPIeey3h2...\n"
     ]
    },
    {
     "name": "stderr",
     "output_type": "stream",
     "text": [
      " 23%|██▎       | 712/3113 [01:03<03:26, 11.62it/s]"
     ]
    },
    {
     "name": "stdout",
     "output_type": "stream",
     "text": [
      "Emotion scores for text: Best chyron ever 🤣🤣...\n",
      "Emotion scores for text: Can’t believe they doxxed another @DOGE team membe...\n",
      "Emotion scores for text: https://t.co/p1BHvU6MAL...\n"
     ]
    },
    {
     "name": "stderr",
     "output_type": "stream",
     "text": [
      " 23%|██▎       | 714/3113 [01:03<03:26, 11.60it/s]"
     ]
    },
    {
     "name": "stdout",
     "output_type": "stream",
     "text": [
      "Emotion scores for text: This meme goes deep https://t.co/pTTvW7fbpU...\n",
      "Emotion scores for text: https://t.co/hRZofvuxUB...\n",
      "Emotion scores for text: This was actually on TV 🤣🤣🤣 https://t.co/wTJk88WGv...\n"
     ]
    },
    {
     "name": "stderr",
     "output_type": "stream",
     "text": [
      " 23%|██▎       | 718/3113 [01:03<03:45, 10.63it/s]"
     ]
    },
    {
     "name": "stdout",
     "output_type": "stream",
     "text": [
      "Emotion scores for text: https://t.co/nhRCtyA3wj...\n",
      "Emotion scores for text: https://t.co/obbnlw6CxZ...\n",
      "Emotion scores for text: https://t.co/YwcgPofRTg...\n"
     ]
    },
    {
     "name": "stderr",
     "output_type": "stream",
     "text": [
      " 23%|██▎       | 720/3113 [01:03<03:36, 11.06it/s]"
     ]
    },
    {
     "name": "stdout",
     "output_type": "stream",
     "text": [
      "Emotion scores for text: https://t.co/ajcmLKZWDv...\n",
      "Emotion scores for text: Lmao https://t.co/fa1qGcmDPo...\n",
      "Emotion scores for text: Will test Starlink streaming again late tonight ht...\n"
     ]
    },
    {
     "name": "stderr",
     "output_type": "stream",
     "text": [
      " 23%|██▎       | 724/3113 [01:04<03:27, 11.49it/s]"
     ]
    },
    {
     "name": "stdout",
     "output_type": "stream",
     "text": [
      "Emotion scores for text: Wise words \n",
      " https://t.co/kuSuFSNEWh...\n",
      "Emotion scores for text: https://t.co/PPz02vcHNv...\n",
      "Emotion scores for text: https://t.co/VYoi3DpvzL...\n"
     ]
    },
    {
     "name": "stderr",
     "output_type": "stream",
     "text": [
      " 23%|██▎       | 726/3113 [01:04<03:30, 11.33it/s]"
     ]
    },
    {
     "name": "stdout",
     "output_type": "stream",
     "text": [
      "Emotion scores for text: Shot … chaser https://t.co/AFDoWW1cJn...\n",
      "Emotion scores for text: 😂\n",
      " https://t.co/qioW8nXvTO...\n",
      "Emotion scores for text: https://t.co/VyFYXCDG9p...\n"
     ]
    },
    {
     "name": "stderr",
     "output_type": "stream",
     "text": [
      " 23%|██▎       | 730/3113 [01:04<03:22, 11.80it/s]"
     ]
    },
    {
     "name": "stdout",
     "output_type": "stream",
     "text": [
      "Emotion scores for text: https://t.co/gVrcYVcuMB...\n",
      "Emotion scores for text: https://t.co/SsBqdgl0xE...\n",
      "Emotion scores for text: https://t.co/mmbmCn1vju...\n"
     ]
    },
    {
     "name": "stderr",
     "output_type": "stream",
     "text": [
      " 24%|██▎       | 732/3113 [01:04<03:39, 10.84it/s]"
     ]
    },
    {
     "name": "stdout",
     "output_type": "stream",
     "text": [
      "Emotion scores for text: 🤔 https://t.co/Z1oWLCzTIY...\n",
      "Emotion scores for text: The Tesla Optimus hand is so sophisticated that it...\n"
     ]
    },
    {
     "name": "stderr",
     "output_type": "stream",
     "text": [
      " 24%|██▎       | 734/3113 [01:05<03:33, 11.12it/s]"
     ]
    },
    {
     "name": "stdout",
     "output_type": "stream",
     "text": [
      "Emotion scores for text: https://t.co/Ee9cp0FJEz...\n",
      "Emotion scores for text: Truth is indistinguishable from parody these days ...\n",
      "Emotion scores for text: https://t.co/5y29YWpHjQ...\n"
     ]
    },
    {
     "name": "stderr",
     "output_type": "stream",
     "text": [
      " 24%|██▎       | 738/3113 [01:05<03:44, 10.58it/s]"
     ]
    },
    {
     "name": "stdout",
     "output_type": "stream",
     "text": [
      "Emotion scores for text: 🇺🇸 Beautifully said by @TulsiGabbard 🇺🇸\n",
      "\n",
      " https://...\n",
      "Emotion scores for text: I love America. \n",
      "\n",
      "I loved every bit of jingoistic ...\n",
      "Emotion scores for text: Would you like @DOGE to audit the IRS?...\n"
     ]
    },
    {
     "name": "stderr",
     "output_type": "stream",
     "text": [
      " 24%|██▍       | 740/3113 [01:05<03:36, 10.95it/s]"
     ]
    },
    {
     "name": "stdout",
     "output_type": "stream",
     "text": [
      "Emotion scores for text: https://t.co/Et6KeuqFMI...\n",
      "Emotion scores for text: https://t.co/fw7i4hnyo6...\n",
      "Emotion scores for text: https://t.co/TT5tQ4UdYG...\n"
     ]
    },
    {
     "name": "stderr",
     "output_type": "stream",
     "text": [
      " 24%|██▍       | 742/3113 [01:05<03:37, 10.90it/s]"
     ]
    },
    {
     "name": "stdout",
     "output_type": "stream",
     "text": [
      "Emotion scores for text: Defund NPR. It should survive on its own.\n",
      "\n",
      " https:...\n",
      "Emotion scores for text: When @SenJoniErnst asked to review USAID financial...\n"
     ]
    },
    {
     "name": "stderr",
     "output_type": "stream",
     "text": [
      " 24%|██▍       | 746/3113 [01:06<03:53, 10.12it/s]"
     ]
    },
    {
     "name": "stdout",
     "output_type": "stream",
     "text": [
      "Emotion scores for text: https://t.co/ZrmtQJoyWo...\n",
      "Emotion scores for text: https://t.co/SV79e3pYTk...\n",
      "Emotion scores for text: Don’t mess with @DOGE https://t.co/wgdJBxNzyG...\n"
     ]
    },
    {
     "name": "stderr",
     "output_type": "stream",
     "text": [
      " 24%|██▍       | 748/3113 [01:06<04:24,  8.94it/s]"
     ]
    },
    {
     "name": "stdout",
     "output_type": "stream",
     "text": [
      "Emotion scores for text: https://t.co/8G2qzg4G05...\n",
      "Emotion scores for text: Reagan campaigned on ending the federal Dept of Ed...\n"
     ]
    },
    {
     "name": "stderr",
     "output_type": "stream",
     "text": [
      " 24%|██▍       | 750/3113 [01:06<03:59,  9.85it/s]"
     ]
    },
    {
     "name": "stdout",
     "output_type": "stream",
     "text": [
      "Emotion scores for text: DOGE is the wood chipper for bureaucracy...\n",
      "Emotion scores for text: https://t.co/QYyuXA4SUS...\n",
      "Emotion scores for text: https://t.co/r8SF9wRtrW...\n"
     ]
    },
    {
     "name": "stderr",
     "output_type": "stream",
     "text": [
      " 24%|██▍       | 754/3113 [01:07<03:44, 10.49it/s]"
     ]
    },
    {
     "name": "stdout",
     "output_type": "stream",
     "text": [
      "Emotion scores for text: https://t.co/e5igRaty32...\n",
      "Emotion scores for text: Time to confess: \n",
      "\n",
      "Media reports saying that @DOGE...\n",
      "Emotion scores for text: https://t.co/WioIBzgDPg...\n"
     ]
    },
    {
     "name": "stderr",
     "output_type": "stream",
     "text": [
      " 24%|██▍       | 756/3113 [01:07<03:33, 11.02it/s]"
     ]
    },
    {
     "name": "stdout",
     "output_type": "stream",
     "text": [
      "Emotion scores for text: 🤨 https://t.co/7x0eAbB53l...\n",
      "Emotion scores for text: Just wondering 🤔 https://t.co/LIWa7wPZHb...\n",
      "Emotion scores for text: https://t.co/vJxAg70GdT...\n"
     ]
    },
    {
     "name": "stderr",
     "output_type": "stream",
     "text": [
      " 24%|██▍       | 758/3113 [01:07<03:57,  9.91it/s]"
     ]
    },
    {
     "name": "stdout",
     "output_type": "stream",
     "text": [
      "Emotion scores for text: Career Treasury officials are breaking the law eve...\n",
      "Emotion scores for text: Just had an excellent conversation with @SenToddYo...\n"
     ]
    },
    {
     "name": "stderr",
     "output_type": "stream",
     "text": [
      " 24%|██▍       | 761/3113 [01:07<04:08,  9.47it/s]"
     ]
    },
    {
     "name": "stdout",
     "output_type": "stream",
     "text": [
      "Emotion scores for text: 💯 https://t.co/WvEFYt2two...\n",
      "Emotion scores for text: @DOGE is on the warpath. https://t.co/HjrqteZ3mZ...\n"
     ]
    },
    {
     "name": "stderr",
     "output_type": "stream",
     "text": [
      " 25%|██▍       | 764/3113 [01:08<03:44, 10.47it/s]"
     ]
    },
    {
     "name": "stdout",
     "output_type": "stream",
     "text": [
      "Emotion scores for text: Those who know, please reply to this post listing ...\n",
      "Emotion scores for text: https://t.co/2eCXHJgTq0...\n",
      "Emotion scores for text: https://t.co/YptnshrF6E...\n"
     ]
    },
    {
     "name": "stderr",
     "output_type": "stream",
     "text": [
      " 25%|██▍       | 766/3113 [01:08<03:33, 11.00it/s]"
     ]
    },
    {
     "name": "stdout",
     "output_type": "stream",
     "text": [
      "Emotion scores for text: People of Europe:\n",
      "\n",
      "Join the MEGA movement!\n",
      "\n",
      "Make E...\n",
      "Emotion scores for text: https://t.co/k7s9zGJ63s...\n",
      "Emotion scores for text: And @CommunityNotes ftw again 😂 https://t.co/BXNa6...\n"
     ]
    },
    {
     "name": "stderr",
     "output_type": "stream",
     "text": [
      " 25%|██▍       | 770/3113 [01:08<03:31, 11.10it/s]"
     ]
    },
    {
     "name": "stdout",
     "output_type": "stream",
     "text": [
      "Emotion scores for text: https://t.co/7xv3xHa61v...\n",
      "Emotion scores for text: https://t.co/TUYjj4jXsz...\n",
      "Emotion scores for text: https://t.co/lEaii8gcT3...\n",
      "Emotion scores for text: https://t.co/1jwFhHpjuK...\n"
     ]
    },
    {
     "name": "stderr",
     "output_type": "stream",
     "text": [
      " 25%|██▍       | 774/3113 [01:09<03:59,  9.75it/s]"
     ]
    },
    {
     "name": "stdout",
     "output_type": "stream",
     "text": [
      "Emotion scores for text: Reducing the federal deficit from $2T to $1T in FY...\n",
      "Emotion scores for text: True \n",
      " https://t.co/Ngs8kDR1qR...\n",
      "Emotion scores for text: https://t.co/oOKe3gqzDJ...\n"
     ]
    },
    {
     "name": "stderr",
     "output_type": "stream",
     "text": [
      " 25%|██▍       | 776/3113 [01:09<04:28,  8.70it/s]"
     ]
    },
    {
     "name": "stdout",
     "output_type": "stream",
     "text": [
      "Emotion scores for text: https://t.co/WqlxFCupy6...\n",
      "Emotion scores for text: Under the Biden administration, the FAA and other ...\n"
     ]
    },
    {
     "name": "stderr",
     "output_type": "stream",
     "text": [
      " 25%|██▍       | 778/3113 [01:09<04:03,  9.57it/s]"
     ]
    },
    {
     "name": "stdout",
     "output_type": "stream",
     "text": [
      "Emotion scores for text: https://t.co/g0UPtfXK2f...\n",
      "Emotion scores for text: https://t.co/dwRuYpsCIe...\n",
      "Emotion scores for text: https://t.co/LAyjDkpwCb...\n"
     ]
    },
    {
     "name": "stderr",
     "output_type": "stream",
     "text": [
      " 25%|██▌       | 780/3113 [01:09<03:53, 10.01it/s]"
     ]
    },
    {
     "name": "stdout",
     "output_type": "stream",
     "text": [
      "Emotion scores for text: https://t.co/GihPM8F9fW...\n",
      "Emotion scores for text: https://t.co/ZEkkwEpEFJ...\n"
     ]
    },
    {
     "name": "stderr",
     "output_type": "stream",
     "text": [
      " 25%|██▌       | 783/3113 [01:10<04:10,  9.31it/s]"
     ]
    },
    {
     "name": "stdout",
     "output_type": "stream",
     "text": [
      "Emotion scores for text: This statement by Surowieki is false. \n",
      "\n",
      "Those deci...\n",
      "Emotion scores for text: Fidias is right!\n",
      " https://t.co/gDMp3agsuV...\n",
      "Emotion scores for text: https://t.co/ol5ZR288Xw...\n"
     ]
    },
    {
     "name": "stderr",
     "output_type": "stream",
     "text": [
      " 25%|██▌       | 786/3113 [01:10<04:12,  9.21it/s]"
     ]
    },
    {
     "name": "stdout",
     "output_type": "stream",
     "text": [
      "Emotion scores for text: Interesting from @QuasLacrimas https://t.co/yDArXk...\n",
      "Emotion scores for text: Interesting poll. \n",
      "\n",
      "Downsizing government is the m...\n"
     ]
    },
    {
     "name": "stderr",
     "output_type": "stream",
     "text": [
      " 25%|██▌       | 788/3113 [01:10<03:55,  9.86it/s]"
     ]
    },
    {
     "name": "stdout",
     "output_type": "stream",
     "text": [
      "Emotion scores for text: https://t.co/0V7elB9k7b...\n",
      "Emotion scores for text: 🫡 https://t.co/CsZJDUFeAj...\n"
     ]
    },
    {
     "name": "stderr",
     "output_type": "stream",
     "text": [
      " 25%|██▌       | 791/3113 [01:10<04:09,  9.30it/s]"
     ]
    },
    {
     "name": "stdout",
     "output_type": "stream",
     "text": [
      "Emotion scores for text: The @POTUS has asked @SpaceX to bring home the 2 a...\n",
      "Emotion scores for text: https://t.co/sIc0gt687P...\n",
      "Emotion scores for text: Live broadcast from The @WhiteHouse. \n",
      "\n",
      "You can now...\n"
     ]
    },
    {
     "name": "stderr",
     "output_type": "stream",
     "text": [
      " 25%|██▌       | 793/3113 [01:11<03:35, 10.78it/s]"
     ]
    },
    {
     "name": "stdout",
     "output_type": "stream",
     "text": [
      "Emotion scores for text: Interesting...\n",
      "Emotion scores for text: How can this be real?...\n",
      "Emotion scores for text: “Nemo me impune lacessit” – Sulla...\n"
     ]
    },
    {
     "name": "stderr",
     "output_type": "stream",
     "text": [
      " 26%|██▌       | 797/3113 [01:11<03:26, 11.20it/s]"
     ]
    },
    {
     "name": "stdout",
     "output_type": "stream",
     "text": [
      "Emotion scores for text: New name for the water that separates England and ...\n",
      "Emotion scores for text: https://t.co/c034D2wn6x...\n",
      "Emotion scores for text: https://t.co/9XxwaqBJnJ...\n"
     ]
    },
    {
     "name": "stderr",
     "output_type": "stream",
     "text": [
      " 26%|██▌       | 799/3113 [01:11<03:22, 11.43it/s]"
     ]
    },
    {
     "name": "stdout",
     "output_type": "stream",
     "text": [
      "Emotion scores for text: This is awesome \n",
      " https://t.co/T7D007H1fB...\n",
      "Emotion scores for text: https://t.co/ja1M3a6MGX...\n",
      "Emotion scores for text: https://t.co/oNy0yDViSy...\n"
     ]
    },
    {
     "name": "stderr",
     "output_type": "stream",
     "text": [
      " 26%|██▌       | 803/3113 [01:11<03:15, 11.83it/s]"
     ]
    },
    {
     "name": "stdout",
     "output_type": "stream",
     "text": [
      "Emotion scores for text: https://t.co/puTYWlCrhi...\n",
      "Emotion scores for text: https://t.co/sgfQZwHwtG...\n",
      "Emotion scores for text: https://t.co/RgZH3MlpHR...\n"
     ]
    },
    {
     "name": "stderr",
     "output_type": "stream",
     "text": [
      " 26%|██▌       | 805/3113 [01:12<03:22, 11.37it/s]"
     ]
    },
    {
     "name": "stdout",
     "output_type": "stream",
     "text": [
      "Emotion scores for text: I just can’t help it 😂 https://t.co/0lXa68fQS4...\n",
      "Emotion scores for text: Globalism is civilizational suicide https://t.co/u...\n",
      "Emotion scores for text: https://t.co/D7SKV9OFAB...\n"
     ]
    },
    {
     "name": "stderr",
     "output_type": "stream",
     "text": [
      " 26%|██▌       | 809/3113 [01:12<03:22, 11.40it/s]"
     ]
    },
    {
     "name": "stdout",
     "output_type": "stream",
     "text": [
      "Emotion scores for text: https://t.co/Fj6MhcICDv...\n",
      "Emotion scores for text: JK I will never quit DC https://t.co/TXerqoOfnL...\n",
      "Emotion scores for text: He’s Austrian too 👀 \n",
      " https://t.co/NdDLSbPK39...\n"
     ]
    },
    {
     "name": "stderr",
     "output_type": "stream",
     "text": [
      " 26%|██▌       | 811/3113 [01:12<03:29, 10.96it/s]"
     ]
    },
    {
     "name": "stdout",
     "output_type": "stream",
     "text": [
      "Emotion scores for text: The recommendation algorithm on this platform suck...\n",
      "Emotion scores for text: If I see one more damn Nazi salute in my feed, I’m...\n",
      "Emotion scores for text: How many flies does it take to screw in a light bu...\n"
     ]
    },
    {
     "name": "stderr",
     "output_type": "stream",
     "text": [
      " 26%|██▌       | 813/3113 [01:12<03:43, 10.27it/s]"
     ]
    },
    {
     "name": "stdout",
     "output_type": "stream",
     "text": [
      "Emotion scores for text: Me: How many radical leftists does it take to scre...\n",
      "Emotion scores for text: When I see the troll emoji 🧌, it’s like looking in...\n"
     ]
    },
    {
     "name": "stderr",
     "output_type": "stream",
     "text": [
      " 26%|██▌       | 817/3113 [01:13<03:40, 10.42it/s]"
     ]
    },
    {
     "name": "stdout",
     "output_type": "stream",
     "text": [
      "Emotion scores for text: Don’t say Hess to Nazi accusations!\n",
      "\n",
      "Some people w...\n",
      "Emotion scores for text: https://t.co/nnzx9RKI1c...\n",
      "Emotion scores for text: https://t.co/3mgDNakDQt...\n"
     ]
    },
    {
     "name": "stderr",
     "output_type": "stream",
     "text": [
      " 26%|██▋       | 819/3113 [01:13<03:37, 10.55it/s]"
     ]
    },
    {
     "name": "stdout",
     "output_type": "stream",
     "text": [
      "Emotion scores for text: The radical leftists are really upset that they ha...\n",
      "Emotion scores for text: 😂 \n",
      " https://t.co/jOSSp2SzHY...\n",
      "Emotion scores for text: https://t.co/G539vK6AIP...\n"
     ]
    },
    {
     "name": "stderr",
     "output_type": "stream",
     "text": [
      " 26%|██▋       | 823/3113 [01:13<03:29, 10.94it/s]"
     ]
    },
    {
     "name": "stdout",
     "output_type": "stream",
     "text": [
      "Emotion scores for text: We should expand consciousness to the stars, so th...\n",
      "Emotion scores for text: https://t.co/hVN3UOad8a...\n",
      "Emotion scores for text: Can someone start a lawsuit counter? \n",
      "\n",
      "How long un...\n"
     ]
    },
    {
     "name": "stderr",
     "output_type": "stream",
     "text": [
      " 27%|██▋       | 825/3113 [01:13<03:30, 10.88it/s]"
     ]
    },
    {
     "name": "stdout",
     "output_type": "stream",
     "text": [
      "Emotion scores for text: My talk today at the Presidential Parade\n",
      " https://...\n",
      "Emotion scores for text: Testing Grok 3 int4 inference https://t.co/PkKuA1Z...\n",
      "Emotion scores for text: https://t.co/hH6i7xYy60...\n"
     ]
    },
    {
     "name": "stderr",
     "output_type": "stream",
     "text": [
      " 27%|██▋       | 829/3113 [01:14<03:27, 11.03it/s]"
     ]
    },
    {
     "name": "stdout",
     "output_type": "stream",
     "text": [
      "Emotion scores for text: https://t.co/ZUnFUgLTUP...\n",
      "Emotion scores for text: 🇺🇸🇺🇸 AMERICA IS GOING TO MARS 🇺🇸🇺🇸\n",
      "\n",
      " https://t.co/...\n",
      "Emotion scores for text: The Return of the King https://t.co/CjaRrXH7k9...\n"
     ]
    },
    {
     "name": "stderr",
     "output_type": "stream",
     "text": [
      " 27%|██▋       | 831/3113 [01:14<03:30, 10.84it/s]"
     ]
    },
    {
     "name": "stdout",
     "output_type": "stream",
     "text": [
      "Emotion scores for text: https://t.co/OYWg7gPlQB...\n",
      "Emotion scores for text: Guess I’ve liked space, computer programming &amp;...\n",
      "Emotion scores for text: Can’t believe it’s been so long 😂 https://t.co/4oh...\n"
     ]
    },
    {
     "name": "stderr",
     "output_type": "stream",
     "text": [
      " 27%|██▋       | 835/3113 [01:14<03:25, 11.09it/s]"
     ]
    },
    {
     "name": "stdout",
     "output_type": "stream",
     "text": [
      "Emotion scores for text: https://t.co/FSuqvC4do6...\n",
      "Emotion scores for text: https://t.co/H1ChWWQx0r...\n",
      "Emotion scores for text: https://t.co/D0ZZWfvvw6...\n"
     ]
    },
    {
     "name": "stderr",
     "output_type": "stream",
     "text": [
      " 27%|██▋       | 837/3113 [01:15<03:28, 10.90it/s]"
     ]
    },
    {
     "name": "stdout",
     "output_type": "stream",
     "text": [
      "Emotion scores for text: Slow motion catch of the most massive flying objec...\n",
      "Emotion scores for text: https://t.co/Zp36huUDvC...\n",
      "Emotion scores for text: From MAGA to MEGA:\n",
      "\n",
      "Make Europe Great Again!...\n"
     ]
    },
    {
     "name": "stderr",
     "output_type": "stream",
     "text": [
      " 27%|██▋       | 839/3113 [01:15<03:22, 11.23it/s]"
     ]
    },
    {
     "name": "stdout",
     "output_type": "stream",
     "text": [
      "Emotion scores for text: It’s uncanny https://t.co/ZIkCQJ8OSq...\n",
      "Emotion scores for text: Now @DOGE will do this with government https://t.c...\n"
     ]
    },
    {
     "name": "stderr",
     "output_type": "stream",
     "text": [
      " 27%|██▋       | 841/3113 [01:15<03:42, 10.21it/s]"
     ]
    },
    {
     "name": "stdout",
     "output_type": "stream",
     "text": [
      "Emotion scores for text: You can see the much higher propellant mass fracti...\n"
     ]
    },
    {
     "name": "stderr",
     "output_type": "stream",
     "text": [
      " 27%|██▋       | 843/3113 [01:15<04:18,  8.78it/s]"
     ]
    },
    {
     "name": "stdout",
     "output_type": "stream",
     "text": [
      "Emotion scores for text: Preliminary indication is that we had an oxygen/fu...\n",
      "Emotion scores for text: Starship Super Heavy Booster is already back in it...\n",
      "Emotion scores for text: https://t.co/dj5eavqxgw...\n"
     ]
    },
    {
     "name": "stderr",
     "output_type": "stream",
     "text": [
      " 27%|██▋       | 847/3113 [01:16<03:50,  9.82it/s]"
     ]
    },
    {
     "name": "stdout",
     "output_type": "stream",
     "text": [
      "Emotion scores for text: https://t.co/XieEruUCtd...\n",
      "Emotion scores for text: Improved versions of the ship &amp; booster alread...\n",
      "Emotion scores for text: Success is uncertain, but entertainment is guarant...\n"
     ]
    },
    {
     "name": "stderr",
     "output_type": "stream",
     "text": [
      " 27%|██▋       | 849/3113 [01:16<03:41, 10.24it/s]"
     ]
    },
    {
     "name": "stdout",
     "output_type": "stream",
     "text": [
      "Emotion scores for text: https://t.co/oKS3LG8JLH...\n",
      "Emotion scores for text: https://t.co/yQal3BxWFt...\n"
     ]
    },
    {
     "name": "stderr",
     "output_type": "stream",
     "text": [
      " 27%|██▋       | 851/3113 [01:16<03:47,  9.93it/s]"
     ]
    },
    {
     "name": "stdout",
     "output_type": "stream",
     "text": [
      "Emotion scores for text: We caught the rocket!! 🚀 \n",
      " https://t.co/gVv34W9l2n...\n",
      "Emotion scores for text: Launch in 5 minutes \n",
      " https://t.co/fdOnVB3KhT...\n",
      "Emotion scores for text: https://t.co/7zOK3Xf3vT...\n"
     ]
    },
    {
     "name": "stderr",
     "output_type": "stream",
     "text": [
      " 27%|██▋       | 853/3113 [01:16<03:45, 10.04it/s]"
     ]
    },
    {
     "name": "stdout",
     "output_type": "stream",
     "text": [
      "Emotion scores for text: Starship Flight 7 launches in 2 hours\n",
      " https://t.c...\n",
      "Emotion scores for text: https://t.co/wzNax8fGKW...\n"
     ]
    },
    {
     "name": "stderr",
     "output_type": "stream",
     "text": [
      " 27%|██▋       | 856/3113 [01:17<03:58,  9.45it/s]"
     ]
    },
    {
     "name": "stdout",
     "output_type": "stream",
     "text": [
      "Emotion scores for text: Actual footage of @ElonMusk &amp; @JeffBezos at th...\n",
      "Emotion scores for text: Step Brothers is the perfect meme for @JeffBezos &...\n"
     ]
    },
    {
     "name": "stderr",
     "output_type": "stream",
     "text": [
      " 28%|██▊       | 858/3113 [01:17<04:01,  9.34it/s]"
     ]
    },
    {
     "name": "stdout",
     "output_type": "stream",
     "text": [
      "Emotion scores for text: And people will say this is AI 😂 https://t.co/ZCh7...\n",
      "Emotion scores for text: Is there any recorded case of someone coming back ...\n"
     ]
    },
    {
     "name": "stderr",
     "output_type": "stream",
     "text": [
      " 28%|██▊       | 861/3113 [01:17<03:48,  9.84it/s]"
     ]
    },
    {
     "name": "stdout",
     "output_type": "stream",
     "text": [
      "Emotion scores for text: Extremely concerning\n",
      " https://t.co/ze1mmlIMdD...\n",
      "Emotion scores for text: https://t.co/tyyAgX35f1...\n",
      "Emotion scores for text: Testing Starlink Streaming from Mar-a-Lago https:/...\n"
     ]
    },
    {
     "name": "stderr",
     "output_type": "stream",
     "text": [
      " 28%|██▊       | 863/3113 [01:17<04:47,  7.84it/s]"
     ]
    },
    {
     "name": "stdout",
     "output_type": "stream",
     "text": [
      "Emotion scores for text: Video games are meant for you to be immersed in an...\n",
      "Emotion scores for text: If you’re a hardcore software engineer and want to...\n"
     ]
    },
    {
     "name": "stderr",
     "output_type": "stream",
     "text": [
      " 28%|██▊       | 865/3113 [01:18<04:05,  9.16it/s]"
     ]
    },
    {
     "name": "stdout",
     "output_type": "stream",
     "text": [
      "Emotion scores for text: https://t.co/hlfadId6OH...\n",
      "Emotion scores for text: https://t.co/YoNmfgnjD3...\n"
     ]
    },
    {
     "name": "stderr",
     "output_type": "stream",
     "text": [
      " 28%|██▊       | 868/3113 [01:18<04:30,  8.30it/s]"
     ]
    },
    {
     "name": "stdout",
     "output_type": "stream",
     "text": [
      "Emotion scores for text: Try using @Grok from @xAI to ask any question, gen...\n",
      "Emotion scores for text: https://t.co/ZVrrwQP7Fc...\n",
      "Emotion scores for text: https://t.co/MQ6vD32hjJ...\n"
     ]
    },
    {
     "name": "stderr",
     "output_type": "stream",
     "text": [
      " 28%|██▊       | 870/3113 [01:18<03:56,  9.47it/s]"
     ]
    },
    {
     "name": "stdout",
     "output_type": "stream",
     "text": [
      "Emotion scores for text: https://t.co/jF4FM3Dtky...\n",
      "Emotion scores for text: https://t.co/Ki8cRE6cB8...\n"
     ]
    },
    {
     "name": "stderr",
     "output_type": "stream",
     "text": [
      " 28%|██▊       | 872/3113 [01:18<04:06,  9.08it/s]"
     ]
    },
    {
     "name": "stdout",
     "output_type": "stream",
     "text": [
      "Emotion scores for text: Just wanted to express appreciation for President ...\n",
      "Emotion scores for text: https://t.co/8K6Ao8gJMD...\n",
      "Emotion scores for text: https://t.co/djXWLR8mpK...\n"
     ]
    },
    {
     "name": "stderr",
     "output_type": "stream",
     "text": [
      " 28%|██▊       | 874/3113 [01:19<03:43, 10.00it/s]"
     ]
    },
    {
     "name": "stdout",
     "output_type": "stream",
     "text": [
      "Emotion scores for text: ❤️❤️ Firefighters of the World ❤️❤️...\n",
      "Emotion scores for text: https://t.co/X1IjuSHNdc...\n"
     ]
    },
    {
     "name": "stderr",
     "output_type": "stream",
     "text": [
      " 28%|██▊       | 877/3113 [01:19<04:39,  8.01it/s]"
     ]
    },
    {
     "name": "stdout",
     "output_type": "stream",
     "text": [
      "Emotion scores for text: Apologies to those expecting Cybertruck deliveries...\n",
      "Emotion scores for text: https://t.co/PtMhoyq6Lj...\n"
     ]
    },
    {
     "name": "stderr",
     "output_type": "stream",
     "text": [
      " 28%|██▊       | 879/3113 [01:19<04:45,  7.81it/s]"
     ]
    },
    {
     "name": "stdout",
     "output_type": "stream",
     "text": [
      "Emotion scores for text: Slavery is still practiced in some parts of the wo...\n",
      "Emotion scores for text: Swords were the guns of the Middle Ages. \n",
      "\n",
      "And don...\n"
     ]
    },
    {
     "name": "stderr",
     "output_type": "stream",
     "text": [
      " 28%|██▊       | 881/3113 [01:19<04:27,  8.35it/s]"
     ]
    },
    {
     "name": "stdout",
     "output_type": "stream",
     "text": [
      "Emotion scores for text: Easy to figure out \n",
      " https://t.co/meW5adDAZS...\n",
      "Emotion scores for text: Competence matters https://t.co/7ExchSKT2L...\n"
     ]
    },
    {
     "name": "stderr",
     "output_type": "stream",
     "text": [
      " 28%|██▊       | 883/3113 [01:20<04:22,  8.51it/s]"
     ]
    },
    {
     "name": "stdout",
     "output_type": "stream",
     "text": [
      "Emotion scores for text: Incompetence in the limit is indistinguishable fro...\n",
      "Emotion scores for text: That was your Dad or husband or son she was talkin...\n",
      "Emotion scores for text: https://t.co/TQJakstQyX...\n"
     ]
    },
    {
     "name": "stderr",
     "output_type": "stream",
     "text": [
      " 28%|██▊       | 887/3113 [01:20<03:47,  9.77it/s]"
     ]
    },
    {
     "name": "stdout",
     "output_type": "stream",
     "text": [
      "Emotion scores for text: https://t.co/l4XNZBcyTM...\n",
      "Emotion scores for text: https://t.co/48HRqZWpBf...\n",
      "Emotion scores for text: Beautiful https://t.co/U9gcMXXvdy...\n"
     ]
    },
    {
     "name": "stderr",
     "output_type": "stream",
     "text": [
      " 29%|██▊       | 888/3113 [01:20<03:53,  9.51it/s]"
     ]
    },
    {
     "name": "stdout",
     "output_type": "stream",
     "text": [
      "Emotion scores for text: https://t.co/YzIQT3tb5Y...\n",
      "Emotion scores for text: https://t.co/OHaLG5GpIj...\n"
     ]
    },
    {
     "name": "stderr",
     "output_type": "stream",
     "text": [
      " 29%|██▊       | 891/3113 [01:21<04:16,  8.65it/s]"
     ]
    },
    {
     "name": "stdout",
     "output_type": "stream",
     "text": [
      "Emotion scores for text: It’s over for Gavin https://t.co/kTPAOU96uA...\n",
      "Emotion scores for text: Who provides funding to Starmer and the Labour Par...\n"
     ]
    },
    {
     "name": "stderr",
     "output_type": "stream",
     "text": [
      " 29%|██▊       | 893/3113 [01:21<03:47,  9.75it/s]"
     ]
    },
    {
     "name": "stdout",
     "output_type": "stream",
     "text": [
      "Emotion scores for text: Yes...\n",
      "Emotion scores for text: https://t.co/dnSuEmB0Dq...\n"
     ]
    },
    {
     "name": "stderr",
     "output_type": "stream",
     "text": [
      " 29%|██▉       | 895/3113 [01:21<04:40,  7.90it/s]"
     ]
    },
    {
     "name": "stdout",
     "output_type": "stream",
     "text": [
      "Emotion scores for text: https://t.co/bV1BK7IB0Q...\n",
      "Emotion scores for text: https://t.co/jR7fD6jomx...\n"
     ]
    },
    {
     "name": "stderr",
     "output_type": "stream",
     "text": [
      " 29%|██▉       | 897/3113 [01:21<04:54,  7.51it/s]"
     ]
    },
    {
     "name": "stdout",
     "output_type": "stream",
     "text": [
      "Emotion scores for text: https://t.co/GaIfVgaV2o...\n",
      "Emotion scores for text: https://t.co/UVmGLQhfBP...\n"
     ]
    },
    {
     "name": "stderr",
     "output_type": "stream",
     "text": [
      " 29%|██▉       | 899/3113 [01:22<04:54,  7.51it/s]"
     ]
    },
    {
     "name": "stdout",
     "output_type": "stream",
     "text": [
      "Emotion scores for text: You can’t make this 💩 up https://t.co/nEVk52ouAL...\n",
      "Emotion scores for text: But is that sweater ethically sourced? https://t.c...\n"
     ]
    },
    {
     "name": "stderr",
     "output_type": "stream",
     "text": [
      " 29%|██▉       | 902/3113 [01:22<04:36,  8.00it/s]"
     ]
    },
    {
     "name": "stdout",
     "output_type": "stream",
     "text": [
      "Emotion scores for text: https://t.co/UJAGnR93QK...\n",
      "Emotion scores for text: https://t.co/wEGXEhT4ue...\n",
      "Emotion scores for text: I have a drinking problem https://t.co/7agFvrSPSH...\n"
     ]
    },
    {
     "name": "stderr",
     "output_type": "stream",
     "text": [
      " 29%|██▉       | 905/3113 [01:22<03:56,  9.35it/s]"
     ]
    },
    {
     "name": "stdout",
     "output_type": "stream",
     "text": [
      "Emotion scores for text: Starship to launch tower this morning https://t.co...\n",
      "Emotion scores for text: https://t.co/NIzHAHT8N9...\n",
      "Emotion scores for text: https://t.co/51tBx7uHSj...\n"
     ]
    },
    {
     "name": "stderr",
     "output_type": "stream",
     "text": [
      " 29%|██▉       | 907/3113 [01:22<03:36, 10.17it/s]"
     ]
    },
    {
     "name": "stdout",
     "output_type": "stream",
     "text": [
      "Emotion scores for text: https://t.co/AZ7WFCnNzP...\n",
      "Emotion scores for text: 🎯 https://t.co/VMlStaqjUJ...\n"
     ]
    },
    {
     "name": "stderr",
     "output_type": "stream",
     "text": [
      " 29%|██▉       | 909/3113 [01:23<03:58,  9.26it/s]"
     ]
    },
    {
     "name": "stdout",
     "output_type": "stream",
     "text": [
      "Emotion scores for text: Something that people may find helpful for stoppin...\n",
      "Emotion scores for text: A friend in LA just took this video https://t.co/W...\n",
      "Emotion scores for text: 😂💯...\n"
     ]
    },
    {
     "name": "stderr",
     "output_type": "stream",
     "text": [
      " 29%|██▉       | 913/3113 [01:23<03:24, 10.75it/s]"
     ]
    },
    {
     "name": "stdout",
     "output_type": "stream",
     "text": [
      "Emotion scores for text: https://t.co/yLWCJxpoax...\n",
      "Emotion scores for text: https://t.co/vVLnET6Fj4...\n",
      "Emotion scores for text: https://t.co/k9Vaozv1UY...\n"
     ]
    },
    {
     "name": "stderr",
     "output_type": "stream",
     "text": [
      " 29%|██▉       | 915/3113 [01:23<03:16, 11.20it/s]"
     ]
    },
    {
     "name": "stdout",
     "output_type": "stream",
     "text": [
      "Emotion scores for text: https://t.co/PHtr8pv1mh...\n",
      "Emotion scores for text: https://t.co/KcquVJ7OYh...\n",
      "Emotion scores for text: Well said by @KemiBadenoch \n",
      " https://t.co/GswA80ij...\n"
     ]
    },
    {
     "name": "stderr",
     "output_type": "stream",
     "text": [
      " 30%|██▉       | 919/3113 [01:24<03:12, 11.39it/s]"
     ]
    },
    {
     "name": "stdout",
     "output_type": "stream",
     "text": [
      "Emotion scores for text: https://t.co/spGJQaSHrQ...\n",
      "Emotion scores for text: https://t.co/Mx6LXzfeJk...\n",
      "Emotion scores for text: https://t.co/tuzcLUDoON...\n"
     ]
    },
    {
     "name": "stderr",
     "output_type": "stream",
     "text": [
      " 30%|██▉       | 921/3113 [01:24<03:09, 11.59it/s]"
     ]
    },
    {
     "name": "stdout",
     "output_type": "stream",
     "text": [
      "Emotion scores for text: https://t.co/EiX5EYuDXl...\n",
      "Emotion scores for text: https://t.co/7SI90yEFCr...\n",
      "Emotion scores for text: George Soros’s hatred of humanity includes Israel ...\n"
     ]
    },
    {
     "name": "stderr",
     "output_type": "stream",
     "text": [
      " 30%|██▉       | 925/3113 [01:24<03:16, 11.16it/s]"
     ]
    },
    {
     "name": "stdout",
     "output_type": "stream",
     "text": [
      "Emotion scores for text: @PNW_Recondo @visegrad24 😂💯...\n",
      "Emotion scores for text: Testing X Streaming https://t.co/f8LmyeSUHR...\n",
      "Emotion scores for text: This is cool https://t.co/kUkrvu6YKY...\n"
     ]
    },
    {
     "name": "stderr",
     "output_type": "stream",
     "text": [
      " 30%|██▉       | 927/3113 [01:24<04:38,  7.85it/s]"
     ]
    },
    {
     "name": "stdout",
     "output_type": "stream",
     "text": [
      "Emotion scores for text: My British grandmother, Cora Amelia Robinson, was ...\n",
      "Emotion scores for text: Could what happened to the Yazidi people one day h...\n",
      "Emotion scores for text: https://t.co/dCH1YbpYLc...\n"
     ]
    },
    {
     "name": "stderr",
     "output_type": "stream",
     "text": [
      " 30%|██▉       | 931/3113 [01:25<03:57,  9.21it/s]"
     ]
    },
    {
     "name": "stdout",
     "output_type": "stream",
     "text": [
      "Emotion scores for text: Another masterpiece \n",
      " https://t.co/K65PryiS3U...\n",
      "Emotion scores for text: Perfectly articulated \n",
      " https://t.co/0R00kkCC7z...\n",
      "Emotion scores for text: 😂🎯\n",
      " https://t.co/11So7XLTeW...\n"
     ]
    },
    {
     "name": "stderr",
     "output_type": "stream",
     "text": [
      " 30%|██▉       | 933/3113 [01:25<03:43,  9.74it/s]"
     ]
    },
    {
     "name": "stdout",
     "output_type": "stream",
     "text": [
      "Emotion scores for text: Lmao https://t.co/F7AtSeQEY2...\n",
      "Emotion scores for text: https://t.co/anSGUuUVHC...\n",
      "Emotion scores for text: True, it hasn’t quite sunk in yet, but it will...\n"
     ]
    },
    {
     "name": "stderr",
     "output_type": "stream",
     "text": [
      " 30%|███       | 937/3113 [01:25<03:33, 10.21it/s]"
     ]
    },
    {
     "name": "stdout",
     "output_type": "stream",
     "text": [
      "Emotion scores for text: George Soros spent billions to create the fake asy...\n",
      "Emotion scores for text: Remember these names next election https://t.co/if...\n",
      "Emotion scores for text: Let’s extradite him instead...\n"
     ]
    },
    {
     "name": "stderr",
     "output_type": "stream",
     "text": [
      " 30%|███       | 939/3113 [01:26<03:35, 10.08it/s]"
     ]
    },
    {
     "name": "stdout",
     "output_type": "stream",
     "text": [
      "Emotion scores for text: https://t.co/iaqA24V5if...\n",
      "Emotion scores for text: Had this election not been won by @realDonaldTrump...\n",
      "Emotion scores for text: America should liberate the people of Britain from...\n"
     ]
    },
    {
     "name": "stderr",
     "output_type": "stream",
     "text": [
      " 30%|███       | 943/3113 [01:26<03:12, 11.30it/s]"
     ]
    },
    {
     "name": "stdout",
     "output_type": "stream",
     "text": [
      "Emotion scores for text: Geoff Hinton is a good man\n",
      "https://t.co/iPkQoDTGu5...\n",
      "Emotion scores for text: Starmer is complicit in the crimes...\n",
      "Emotion scores for text: Interesting perspective...\n"
     ]
    },
    {
     "name": "stderr",
     "output_type": "stream",
     "text": [
      " 30%|███       | 945/3113 [01:26<03:48,  9.50it/s]"
     ]
    },
    {
     "name": "stdout",
     "output_type": "stream",
     "text": [
      "Emotion scores for text: For anyone doubting the severity and depravity of ...\n",
      "Emotion scores for text: Troubling...\n",
      "Emotion scores for text: https://t.co/6XWKm4GEwq...\n"
     ]
    },
    {
     "name": "stderr",
     "output_type": "stream",
     "text": [
      " 30%|███       | 949/3113 [01:27<03:37,  9.93it/s]"
     ]
    },
    {
     "name": "stdout",
     "output_type": "stream",
     "text": [
      "Emotion scores for text: The Reform Party needs a new leader. Farage doesn’...\n",
      "Emotion scores for text: Thoughts on this video?\n",
      " https://t.co/wfi4k2BZcJ...\n",
      "Emotion scores for text: George Soros looking quite good here. Must be the ...\n"
     ]
    },
    {
     "name": "stderr",
     "output_type": "stream",
     "text": [
      " 31%|███       | 951/3113 [01:27<04:16,  8.43it/s]"
     ]
    },
    {
     "name": "stdout",
     "output_type": "stream",
     "text": [
      "Emotion scores for text: That judge should be removed from the bench in dis...\n",
      "Emotion scores for text: Algorithm tweak coming soon to promote more inform...\n"
     ]
    },
    {
     "name": "stderr",
     "output_type": "stream",
     "text": [
      " 31%|███       | 952/3113 [01:27<04:09,  8.65it/s]"
     ]
    },
    {
     "name": "stdout",
     "output_type": "stream",
     "text": [
      "Emotion scores for text: First launch of 2025!\n",
      " https://t.co/kmNfG9wS8O...\n",
      "Emotion scores for text: 🇺🇸🇺🇸 Congratulations! 🇺🇸🇺🇸...\n"
     ]
    },
    {
     "name": "stderr",
     "output_type": "stream",
     "text": [
      " 31%|███       | 954/3113 [01:27<04:02,  8.91it/s]"
     ]
    },
    {
     "name": "stdout",
     "output_type": "stream",
     "text": [
      "Emotion scores for text: Kekius Maximus made it to rank 59 in the world in ...\n",
      "Emotion scores for text: https://t.co/9PnTcdoU44...\n"
     ]
    },
    {
     "name": "stderr",
     "output_type": "stream",
     "text": [
      " 31%|███       | 958/3113 [01:28<03:46,  9.51it/s]"
     ]
    },
    {
     "name": "stdout",
     "output_type": "stream",
     "text": [
      "Emotion scores for text: Starmer was complicit in the RAPE OF BRITAIN when ...\n",
      "Emotion scores for text: Yes...\n",
      "Emotion scores for text: https://t.co/ng3RIo5zgK...\n"
     ]
    },
    {
     "name": "stderr",
     "output_type": "stream",
     "text": [
      " 31%|███       | 960/3113 [01:28<03:35,  9.98it/s]"
     ]
    },
    {
     "name": "stdout",
     "output_type": "stream",
     "text": [
      "Emotion scores for text: https://t.co/Ub1pL6JrWV...\n",
      "Emotion scores for text: 😂 https://t.co/DkFCihb14r...\n",
      "Emotion scores for text: Keir Starmtrooper has a question … https://t.co/e2...\n"
     ]
    },
    {
     "name": "stderr",
     "output_type": "stream",
     "text": [
      " 31%|███       | 963/3113 [01:28<04:16,  8.39it/s]"
     ]
    },
    {
     "name": "stdout",
     "output_type": "stream",
     "text": [
      "Emotion scores for text: Two Tier Keir\n",
      "\n",
      "No justice for severe, violent crim...\n",
      "Emotion scores for text: In the UK, serious crimes such as rape require the...\n"
     ]
    },
    {
     "name": "stderr",
     "output_type": "stream",
     "text": [
      " 31%|███       | 964/3113 [01:28<04:11,  8.56it/s]"
     ]
    },
    {
     "name": "stdout",
     "output_type": "stream",
     "text": [
      "Emotion scores for text: AP stands for Associated Propaganda https://t.co/k...\n",
      "Emotion scores for text: Free Tommy Robinson!\n",
      "@TRobinsonNewEra...\n"
     ]
    },
    {
     "name": "stderr",
     "output_type": "stream",
     "text": [
      " 31%|███       | 968/3113 [01:29<03:52,  9.24it/s]"
     ]
    },
    {
     "name": "stdout",
     "output_type": "stream",
     "text": [
      "Emotion scores for text: Kekius Maximus now at rank 263 after a marathon se...\n",
      "Emotion scores for text: I have a good feeling about 2025 https://t.co/LLgT...\n",
      "Emotion scores for text: https://t.co/uON7cFPXnf...\n"
     ]
    },
    {
     "name": "stderr",
     "output_type": "stream",
     "text": [
      " 31%|███       | 970/3113 [01:29<03:35,  9.96it/s]"
     ]
    },
    {
     "name": "stdout",
     "output_type": "stream",
     "text": [
      "Emotion scores for text: HNY LFG 2025!!! 🚀 🚀🚀...\n",
      "Emotion scores for text: Brothers in Arms https://t.co/vIZ8ADrXbo...\n",
      "Emotion scores for text: 🇺🇸🇺🇸🇺🇸 YES 🇺🇸🇺🇸🇺🇸 https://t.co/KL5VsQHNah...\n"
     ]
    },
    {
     "name": "stderr",
     "output_type": "stream",
     "text": [
      " 31%|███▏      | 973/3113 [01:29<03:47,  9.39it/s]"
     ]
    },
    {
     "name": "stdout",
     "output_type": "stream",
     "text": [
      "Emotion scores for text: Made it to the hardcore leaderboard after many dea...\n",
      "Emotion scores for text: Kekius Maximus will soon reach level 80 in hardcor...\n",
      "Emotion scores for text: The government officials responsible, including th...\n"
     ]
    },
    {
     "name": "stderr",
     "output_type": "stream",
     "text": [
      " 31%|███▏      | 977/3113 [01:30<03:32, 10.04it/s]"
     ]
    },
    {
     "name": "stdout",
     "output_type": "stream",
     "text": [
      "Emotion scores for text: No more donations to @Wikipedia until they start b...\n",
      "Emotion scores for text: https://t.co/ZBNItdRGmg...\n",
      "Emotion scores for text: Exciting times ahead! https://t.co/3kCadkHg1n...\n",
      "Emotion scores for text: A truly reusable orbital heat shield has never bee...\n"
     ]
    },
    {
     "name": "stderr",
     "output_type": "stream",
     "text": [
      " 31%|███▏      | 980/3113 [01:30<04:36,  7.70it/s]"
     ]
    },
    {
     "name": "stdout",
     "output_type": "stream",
     "text": [
      "Emotion scores for text: Please note that platform manipulation by buying l...\n",
      "Emotion scores for text: Testing Starlink streaming while in flight https:/...\n"
     ]
    },
    {
     "name": "stderr",
     "output_type": "stream",
     "text": [
      " 32%|███▏      | 981/3113 [01:30<05:40,  6.26it/s]"
     ]
    },
    {
     "name": "stdout",
     "output_type": "stream",
     "text": [
      "Emotion scores for text: The best way to ensure that @CommunityNotes are as...\n",
      "Emotion scores for text: This is so funny 🤣🤣\n",
      " https://t.co/yHKJaFjFrR...\n"
     ]
    },
    {
     "name": "stderr",
     "output_type": "stream",
     "text": [
      " 32%|███▏      | 983/3113 [01:31<05:14,  6.77it/s]"
     ]
    },
    {
     "name": "stdout",
     "output_type": "stream",
     "text": [
      "Emotion scores for text: @WheelImpressive The API still exists. We (mostly)...\n",
      "Emotion scores for text: https://t.co/13drXfGTXx...\n"
     ]
    },
    {
     "name": "stderr",
     "output_type": "stream",
     "text": [
      " 32%|███▏      | 987/3113 [01:31<04:16,  8.28it/s]"
     ]
    },
    {
     "name": "stdout",
     "output_type": "stream",
     "text": [
      "Emotion scores for text: Out of curiosity, I glanced through the legacy new...\n",
      "Emotion scores for text: Cybertruck \n",
      " https://t.co/OulLTYy15s...\n",
      "Emotion scores for text: This Cybergamer guy knows what he’s talking about ...\n"
     ]
    },
    {
     "name": "stderr",
     "output_type": "stream",
     "text": [
      " 32%|███▏      | 989/3113 [01:31<03:50,  9.20it/s]"
     ]
    },
    {
     "name": "stdout",
     "output_type": "stream",
     "text": [
      "Emotion scores for text: Please post a bit more positive, beautiful or info...\n",
      "Emotion scores for text: https://t.co/AeBGafQqhF...\n",
      "Emotion scores for text: SpaceX launch underway \n",
      " https://t.co/8JxXqiJho2...\n"
     ]
    },
    {
     "name": "stderr",
     "output_type": "stream",
     "text": [
      " 32%|███▏      | 991/3113 [01:31<03:29, 10.14it/s]"
     ]
    },
    {
     "name": "stdout",
     "output_type": "stream",
     "text": [
      "Emotion scores for text: True 😂...\n",
      "Emotion scores for text: Wise words from a true genius\n",
      " https://t.co/fm3jzQ...\n"
     ]
    },
    {
     "name": "stderr",
     "output_type": "stream",
     "text": [
      " 32%|███▏      | 994/3113 [01:32<04:29,  7.87it/s]"
     ]
    },
    {
     "name": "stdout",
     "output_type": "stream",
     "text": [
      "Emotion scores for text: We named @Tesla after Nikola Tesla, one of the gre...\n",
      "Emotion scores for text: Anyone – of any race, creed or nationality – who c...\n"
     ]
    },
    {
     "name": "stderr",
     "output_type": "stream",
     "text": [
      " 32%|███▏      | 995/3113 [01:32<04:55,  7.16it/s]"
     ]
    },
    {
     "name": "stdout",
     "output_type": "stream",
     "text": [
      "Emotion scores for text: Just a reminder that the algorithm is trying to ma...\n"
     ]
    },
    {
     "name": "stderr",
     "output_type": "stream",
     "text": [
      " 32%|███▏      | 997/3113 [01:32<05:15,  6.72it/s]"
     ]
    },
    {
     "name": "stdout",
     "output_type": "stream",
     "text": [
      "Emotion scores for text: The reason the government so insanely inefficient ...\n",
      "Emotion scores for text: Naturally, I would NEVER be an attention-seeking t...\n"
     ]
    },
    {
     "name": "stderr",
     "output_type": "stream",
     "text": [
      " 32%|███▏      | 1000/3113 [01:33<04:07,  8.54it/s]"
     ]
    },
    {
     "name": "stdout",
     "output_type": "stream",
     "text": [
      "Emotion scores for text: At risk of starting the obvious, there are many at...\n",
      "Emotion scores for text: The immigration hot-button topic is the biggest DK...\n",
      "Emotion scores for text: You can just say things...\n"
     ]
    },
    {
     "name": "stderr",
     "output_type": "stream",
     "text": [
      " 32%|███▏      | 1003/3113 [01:33<03:41,  9.53it/s]"
     ]
    },
    {
     "name": "stdout",
     "output_type": "stream",
     "text": [
      "Emotion scores for text: https://t.co/7CkYklNhh9...\n",
      "Emotion scores for text: 🤣🤣\n",
      " https://t.co/fiIrhZeSil...\n",
      "Emotion scores for text: How it started vs how it’s going https://t.co/fQeC...\n"
     ]
    },
    {
     "name": "stderr",
     "output_type": "stream",
     "text": [
      " 32%|███▏      | 1005/3113 [01:33<03:28, 10.13it/s]"
     ]
    },
    {
     "name": "stdout",
     "output_type": "stream",
     "text": [
      "Emotion scores for text: Ozempic Santa https://t.co/7YECSNpWoz...\n",
      "Emotion scores for text: https://t.co/nad63csUhQ...\n",
      "Emotion scores for text: 🎶 Who let the DOGE out? 🎶 https://t.co/1GR7Cih54R...\n"
     ]
    },
    {
     "name": "stderr",
     "output_type": "stream",
     "text": [
      " 32%|███▏      | 1008/3113 [01:34<03:47,  9.27it/s]"
     ]
    },
    {
     "name": "stdout",
     "output_type": "stream",
     "text": [
      "Emotion scores for text: Merry Christmas and may you have a wonderful New Y...\n",
      "Emotion scores for text: Japan’s population is now dropping by almost a mil...\n"
     ]
    },
    {
     "name": "stderr",
     "output_type": "stream",
     "text": [
      " 32%|███▏      | 1010/3113 [01:34<03:45,  9.31it/s]"
     ]
    },
    {
     "name": "stdout",
     "output_type": "stream",
     "text": [
      "Emotion scores for text: Very wise words \n",
      " https://t.co/5yH99l3kId...\n",
      "Emotion scores for text: “We are gonna need a bigger compute!”\n",
      "@xAI\n",
      " https:...\n",
      "Emotion scores for text: https://t.co/Wtj0SiX0yt...\n"
     ]
    },
    {
     "name": "stderr",
     "output_type": "stream",
     "text": [
      " 33%|███▎      | 1014/3113 [01:34<03:08, 11.13it/s]"
     ]
    },
    {
     "name": "stdout",
     "output_type": "stream",
     "text": [
      "Emotion scores for text: https://t.co/vJa0HUld3h...\n",
      "Emotion scores for text: Recent events also had a big effect...\n",
      "Emotion scores for text: Troubling...\n"
     ]
    },
    {
     "name": "stderr",
     "output_type": "stream",
     "text": [
      " 33%|███▎      | 1016/3113 [01:34<03:14, 10.76it/s]"
     ]
    },
    {
     "name": "stdout",
     "output_type": "stream",
     "text": [
      "Emotion scores for text: Falcon launch underway\n",
      " https://t.co/mKLbzyc3Jw...\n",
      "Emotion scores for text: Naughtius Maximus https://t.co/ahZAqzlP3P...\n"
     ]
    },
    {
     "name": "stderr",
     "output_type": "stream",
     "text": [
      " 33%|███▎      | 1018/3113 [01:34<03:29, 10.00it/s]"
     ]
    },
    {
     "name": "stdout",
     "output_type": "stream",
     "text": [
      "Emotion scores for text: I’d like to propose that Congress pass a “Save the...\n",
      "Emotion scores for text: @realDonaldTrump is awesome!\n",
      " https://t.co/xSS8zqm...\n",
      "Emotion scores for text: YES! \n",
      " https://t.co/FJhC3Mlj6p...\n"
     ]
    },
    {
     "name": "stderr",
     "output_type": "stream",
     "text": [
      " 33%|███▎      | 1022/3113 [01:35<03:27, 10.09it/s]"
     ]
    },
    {
     "name": "stdout",
     "output_type": "stream",
     "text": [
      "Emotion scores for text: Why are American taxpayers funding a quarter of Eu...\n",
      "Emotion scores for text: https://t.co/M6KQhkoxR7...\n",
      "Emotion scores for text: https://t.co/usoIMccsUn...\n"
     ]
    },
    {
     "name": "stderr",
     "output_type": "stream",
     "text": [
      " 33%|███▎      | 1024/3113 [01:35<03:40,  9.48it/s]"
     ]
    },
    {
     "name": "stdout",
     "output_type": "stream",
     "text": [
      "Emotion scores for text: Legacy media is written by the FAR LEFT.\n",
      "\n",
      "Only 3% ...\n",
      "Emotion scores for text: https://t.co/ThEax2saXl...\n",
      "Emotion scores for text: https://t.co/Kh1CIyGMla...\n"
     ]
    },
    {
     "name": "stderr",
     "output_type": "stream",
     "text": [
      " 33%|███▎      | 1026/3113 [01:35<03:27, 10.04it/s]"
     ]
    },
    {
     "name": "stdout",
     "output_type": "stream",
     "text": [
      "Emotion scores for text: Once again https://t.co/Y3jHWYCPPS...\n",
      "Emotion scores for text: Wait, you’re saying strippers don’t like me? 🤯😢 ht...\n"
     ]
    },
    {
     "name": "stderr",
     "output_type": "stream",
     "text": [
      " 33%|███▎      | 1028/3113 [01:36<03:37,  9.58it/s]"
     ]
    },
    {
     "name": "stdout",
     "output_type": "stream",
     "text": [
      "Emotion scores for text: Everything is just a quarks &amp; leptons remix ht...\n"
     ]
    },
    {
     "name": "stderr",
     "output_type": "stream",
     "text": [
      " 33%|███▎      | 1030/3113 [01:36<04:35,  7.55it/s]"
     ]
    },
    {
     "name": "stdout",
     "output_type": "stream",
     "text": [
      "Emotion scores for text: Elon Musk is a...\n",
      "Emotion scores for text: If you haven’t tried the latest @Tesla self-drivin...\n"
     ]
    },
    {
     "name": "stderr",
     "output_type": "stream",
     "text": [
      " 33%|███▎      | 1033/3113 [01:36<03:57,  8.75it/s]"
     ]
    },
    {
     "name": "stdout",
     "output_type": "stream",
     "text": [
      "Emotion scores for text: That would be industrial production proportionate ...\n",
      "Emotion scores for text: Legacy media is a nonstop psy op...\n",
      "Emotion scores for text: We will soon add a “Grok Enhance” tool to post com...\n"
     ]
    },
    {
     "name": "stderr",
     "output_type": "stream",
     "text": [
      " 33%|███▎      | 1035/3113 [01:36<03:33,  9.72it/s]"
     ]
    },
    {
     "name": "stdout",
     "output_type": "stream",
     "text": [
      "Emotion scores for text: https://t.co/7rTkgQe8QF...\n",
      "Emotion scores for text: The burns on 𝕏 are amazing 🤩...\n",
      "Emotion scores for text: https://t.co/Uk8zCDuZ0z...\n"
     ]
    },
    {
     "name": "stderr",
     "output_type": "stream",
     "text": [
      " 33%|███▎      | 1037/3113 [01:37<03:16, 10.56it/s]"
     ]
    },
    {
     "name": "stdout",
     "output_type": "stream",
     "text": [
      "Emotion scores for text: Sounds reasonable...\n",
      "Emotion scores for text: Congratulations @Tesla team on a great year!\n",
      " http...\n"
     ]
    },
    {
     "name": "stderr",
     "output_type": "stream",
     "text": [
      " 33%|███▎      | 1041/3113 [01:37<03:22, 10.21it/s]"
     ]
    },
    {
     "name": "stdout",
     "output_type": "stream",
     "text": [
      "Emotion scores for text: Turns out that Washington DC swamp creatures are r...\n",
      "Emotion scores for text: 𝕏 provides the platform for the people to pull tog...\n",
      "Emotion scores for text: Yup...\n"
     ]
    },
    {
     "name": "stderr",
     "output_type": "stream",
     "text": [
      " 34%|███▎      | 1043/3113 [01:37<03:26, 10.00it/s]"
     ]
    },
    {
     "name": "stdout",
     "output_type": "stream",
     "text": [
      "Emotion scores for text: Incredibly well said\n",
      " https://t.co/wQloRXMuUP...\n",
      "Emotion scores for text: Yesterday’s bill vs today’s bill 😂 https://t.co/L3...\n",
      "Emotion scores for text: You are the media now\n",
      "\n",
      " https://t.co/kuQRkxakxh...\n"
     ]
    },
    {
     "name": "stderr",
     "output_type": "stream",
     "text": [
      " 34%|███▎      | 1047/3113 [01:37<03:10, 10.84it/s]"
     ]
    },
    {
     "name": "stdout",
     "output_type": "stream",
     "text": [
      "Emotion scores for text: https://t.co/tQTRky0H0U...\n",
      "Emotion scores for text: https://t.co/y7JBofo59M...\n",
      "Emotion scores for text: https://t.co/b5eDRofDac...\n"
     ]
    },
    {
     "name": "stderr",
     "output_type": "stream",
     "text": [
      " 34%|███▎      | 1049/3113 [01:38<02:58, 11.56it/s]"
     ]
    },
    {
     "name": "stdout",
     "output_type": "stream",
     "text": [
      "Emotion scores for text: https://t.co/vCH5rkpijy...\n",
      "Emotion scores for text: America is for you, the beloved people...\n",
      "Emotion scores for text: Your elected representatives have heard you and no...\n"
     ]
    },
    {
     "name": "stderr",
     "output_type": "stream",
     "text": [
      " 34%|███▍      | 1051/3113 [01:38<03:40,  9.36it/s]"
     ]
    },
    {
     "name": "stdout",
     "output_type": "stream",
     "text": [
      "Emotion scores for text: Unless @DOGE ends the careers of deceitful, pork-b...\n",
      "Emotion scores for text: No bills should be passed Congress until Jan 20, w...\n"
     ]
    },
    {
     "name": "stderr",
     "output_type": "stream",
     "text": [
      " 34%|███▍      | 1054/3113 [01:38<03:46,  9.09it/s]"
     ]
    },
    {
     "name": "stdout",
     "output_type": "stream",
     "text": [
      "Emotion scores for text: Call your elected representatives today to stop th...\n",
      "Emotion scores for text: Any member of the House or Senate who votes for th...\n"
     ]
    },
    {
     "name": "stderr",
     "output_type": "stream",
     "text": [
      " 34%|███▍      | 1056/3113 [01:38<03:44,  9.18it/s]"
     ]
    },
    {
     "name": "stdout",
     "output_type": "stream",
     "text": [
      "Emotion scores for text: Ever seen a bigger piece of pork? https://t.co/Zes...\n",
      "Emotion scores for text: Free your friends from the sadness generating prop...\n"
     ]
    },
    {
     "name": "stderr",
     "output_type": "stream",
     "text": [
      " 34%|███▍      | 1058/3113 [01:39<04:14,  8.07it/s]"
     ]
    },
    {
     "name": "stdout",
     "output_type": "stream",
     "text": [
      "Emotion scores for text: Guess who this is? 🤣🤣 https://t.co/XHWcgIa04W...\n",
      "Emotion scores for text: Path of Exile 2, Arbiter of Ash.\n",
      "\n",
      "Played over @Sta...\n"
     ]
    },
    {
     "name": "stderr",
     "output_type": "stream",
     "text": [
      " 34%|███▍      | 1060/3113 [01:39<03:58,  8.61it/s]"
     ]
    },
    {
     "name": "stdout",
     "output_type": "stream",
     "text": [
      "Emotion scores for text: Testing streaming on X via Starlink https://t.co/9...\n",
      "Emotion scores for text: Fidias fights for free speech in Europe!\n",
      " https://...\n",
      "Emotion scores for text: DOGE\n",
      " https://t.co/yutMSaMNeI...\n"
     ]
    },
    {
     "name": "stderr",
     "output_type": "stream",
     "text": [
      " 34%|███▍      | 1063/3113 [01:39<03:35,  9.53it/s]"
     ]
    },
    {
     "name": "stdout",
     "output_type": "stream",
     "text": [
      "Emotion scores for text: https://t.co/xlmqeOcBDD...\n",
      "Emotion scores for text: https://t.co/hqMndr1maI...\n",
      "Emotion scores for text: https://t.co/sSbRsqj8lZ...\n"
     ]
    },
    {
     "name": "stderr",
     "output_type": "stream",
     "text": [
      " 34%|███▍      | 1065/3113 [01:39<03:09, 10.79it/s]"
     ]
    },
    {
     "name": "stdout",
     "output_type": "stream",
     "text": [
      "Emotion scores for text: Yes...\n",
      "Emotion scores for text: It was an honor to pay my respects to Akie Abe, wi...\n"
     ]
    },
    {
     "name": "stderr",
     "output_type": "stream",
     "text": [
      " 34%|███▍      | 1069/3113 [01:40<03:35,  9.47it/s]"
     ]
    },
    {
     "name": "stdout",
     "output_type": "stream",
     "text": [
      "Emotion scores for text: Grok can even explain drones over New Jersey!...\n",
      "Emotion scores for text: Powerful \n",
      " https://t.co/2lheQf4vZj...\n",
      "Emotion scores for text: https://t.co/xBaqUk0wcR...\n"
     ]
    },
    {
     "name": "stderr",
     "output_type": "stream",
     "text": [
      " 34%|███▍      | 1071/3113 [01:40<03:26,  9.89it/s]"
     ]
    },
    {
     "name": "stdout",
     "output_type": "stream",
     "text": [
      "Emotion scores for text: https://t.co/wRY8WwWFcj...\n",
      "Emotion scores for text: 🇺🇸🇺🇸🇺🇸🇺🇸 ARMY-NAVY 🇺🇸🇺🇸🇺🇸🇺🇸 https://t.co/AEVHGP5v1...\n",
      "Emotion scores for text: https://t.co/oA9MfGz05M...\n"
     ]
    },
    {
     "name": "stderr",
     "output_type": "stream",
     "text": [
      " 34%|███▍      | 1073/3113 [01:40<03:27,  9.84it/s]"
     ]
    },
    {
     "name": "stdout",
     "output_type": "stream",
     "text": [
      "Emotion scores for text: Lil X leans into the mic to say “WOULD!” https://t...\n",
      "Emotion scores for text: Use Grok to create an interesting image prompt and...\n"
     ]
    },
    {
     "name": "stderr",
     "output_type": "stream",
     "text": [
      " 35%|███▍      | 1076/3113 [01:41<03:36,  9.43it/s]"
     ]
    },
    {
     "name": "stdout",
     "output_type": "stream",
     "text": [
      "Emotion scores for text: Cool https://t.co/HqULPa7cCq...\n",
      "Emotion scores for text: Wasn’t even using a macro lol https://t.co/nDb9REa...\n"
     ]
    },
    {
     "name": "stderr",
     "output_type": "stream",
     "text": [
      " 35%|███▍      | 1078/3113 [01:41<03:33,  9.51it/s]"
     ]
    },
    {
     "name": "stdout",
     "output_type": "stream",
     "text": [
      "Emotion scores for text: Haha amazing 🔥🔥 https://t.co/Ck8wFQV5KU...\n",
      "Emotion scores for text: Best memes of last week https://t.co/9fbpTeZ5ZD...\n",
      "Emotion scores for text: Have to say that @PathofExile is a hall-of-famer...\n"
     ]
    },
    {
     "name": "stderr",
     "output_type": "stream",
     "text": [
      " 35%|███▍      | 1082/3113 [01:41<03:15, 10.36it/s]"
     ]
    },
    {
     "name": "stdout",
     "output_type": "stream",
     "text": [
      "Emotion scores for text: https://t.co/SAB20BCkmX...\n",
      "Emotion scores for text: Grok groks \n",
      "https://t.co/3j3VXBtkqF...\n",
      "Emotion scores for text: https://t.co/UrLyHhdVIa...\n"
     ]
    },
    {
     "name": "stderr",
     "output_type": "stream",
     "text": [
      " 35%|███▍      | 1084/3113 [01:41<03:08, 10.76it/s]"
     ]
    },
    {
     "name": "stdout",
     "output_type": "stream",
     "text": [
      "Emotion scores for text: https://t.co/c2C3fZaM9t...\n",
      "Emotion scores for text: https://t.co/gd1PutFWok...\n",
      "Emotion scores for text: Grok now produces 4 images simultaneously &amp; re...\n"
     ]
    },
    {
     "name": "stderr",
     "output_type": "stream",
     "text": [
      " 35%|███▍      | 1087/3113 [01:42<03:41,  9.14it/s]"
     ]
    },
    {
     "name": "stdout",
     "output_type": "stream",
     "text": [
      "Emotion scores for text: Grok can now analyze posts on 𝕏.\n",
      "\n",
      "Update your app ...\n",
      "Emotion scores for text: Asked @Grok to draw a picture of @GaryGensler. Ver...\n"
     ]
    },
    {
     "name": "stderr",
     "output_type": "stream",
     "text": [
      " 35%|███▌      | 1090/3113 [01:42<03:22, 10.00it/s]"
     ]
    },
    {
     "name": "stdout",
     "output_type": "stream",
     "text": [
      "Emotion scores for text: Oh Gary, how could you do this to me? 🥹 https://t....\n",
      "Emotion scores for text: True \n",
      " https://t.co/p4wVUCvqZZ...\n",
      "Emotion scores for text: https://t.co/i0kAhf1w5q...\n"
     ]
    },
    {
     "name": "stderr",
     "output_type": "stream",
     "text": [
      " 35%|███▌      | 1092/3113 [01:42<03:15, 10.34it/s]"
     ]
    },
    {
     "name": "stdout",
     "output_type": "stream",
     "text": [
      "Emotion scores for text: https://t.co/p4wVUCvYPx...\n",
      "Emotion scores for text: https://t.co/MSFOx5YmWI...\n",
      "Emotion scores for text: How ironic that the legacy media &amp; “experts” w...\n"
     ]
    },
    {
     "name": "stderr",
     "output_type": "stream",
     "text": [
      " 35%|███▌      | 1096/3113 [01:43<03:17, 10.20it/s]"
     ]
    },
    {
     "name": "stdout",
     "output_type": "stream",
     "text": [
      "Emotion scores for text: The truth, \n",
      "the whole truth\n",
      "and nothing but the tr...\n",
      "Emotion scores for text: https://t.co/MJT5FBUxLH...\n",
      "Emotion scores for text: No, I definitely melted it down 1000% https://t.co...\n"
     ]
    },
    {
     "name": "stderr",
     "output_type": "stream",
     "text": [
      " 35%|███▌      | 1098/3113 [01:43<03:29,  9.60it/s]"
     ]
    },
    {
     "name": "stdout",
     "output_type": "stream",
     "text": [
      "Emotion scores for text: arXiv papers mentioning @Grok in the abstract http...\n",
      "Emotion scores for text: Searches for @Grok, made by @xAI, just exceeded 50...\n"
     ]
    },
    {
     "name": "stderr",
     "output_type": "stream",
     "text": [
      " 35%|███▌      | 1100/3113 [01:43<03:21, 10.00it/s]"
     ]
    },
    {
     "name": "stdout",
     "output_type": "stream",
     "text": [
      "Emotion scores for text: https://t.co/IMXXlfcr4h...\n",
      "Emotion scores for text: https://t.co/SzmrFjL3cZ...\n"
     ]
    },
    {
     "name": "stderr",
     "output_type": "stream",
     "text": [
      " 35%|███▌      | 1102/3113 [01:43<03:40,  9.14it/s]"
     ]
    },
    {
     "name": "stdout",
     "output_type": "stream",
     "text": [
      "Emotion scores for text: You can ask Grok questions about any current event...\n",
      "Emotion scores for text: You can also upload any image to Grok, including m...\n"
     ]
    },
    {
     "name": "stderr",
     "output_type": "stream",
     "text": [
      " 35%|███▌      | 1105/3113 [01:44<03:33,  9.40it/s]"
     ]
    },
    {
     "name": "stdout",
     "output_type": "stream",
     "text": [
      "Emotion scores for text: Not generated by AI https://t.co/tcnTpReLgV...\n",
      "Emotion scores for text: @Brennan_K0123 @punk9059 How did they know it was ...\n",
      "Emotion scores for text: Demented nightmare fuel 🤣🤣 https://t.co/di2K5FZpDK...\n"
     ]
    },
    {
     "name": "stderr",
     "output_type": "stream",
     "text": [
      " 36%|███▌      | 1107/3113 [01:44<03:45,  8.88it/s]"
     ]
    },
    {
     "name": "stdout",
     "output_type": "stream",
     "text": [
      "Emotion scores for text: The crazy thing is that they thought I was crazy f...\n",
      "Emotion scores for text: Note: we are deleting the name of the internal @xA...\n"
     ]
    },
    {
     "name": "stderr",
     "output_type": "stream",
     "text": [
      " 36%|███▌      | 1110/3113 [01:44<03:17, 10.17it/s]"
     ]
    },
    {
     "name": "stdout",
     "output_type": "stream",
     "text": [
      "Emotion scores for text: The problem is that after the sheep are eaten, the...\n",
      "Emotion scores for text: 🤨...\n",
      "Emotion scores for text: The wellspring of the mind virus is academia...\n"
     ]
    },
    {
     "name": "stderr",
     "output_type": "stream",
     "text": [
      " 36%|███▌      | 1112/3113 [01:44<03:16, 10.18it/s]"
     ]
    },
    {
     "name": "stdout",
     "output_type": "stream",
     "text": [
      "Emotion scores for text: Some of the government software is over half a cen...\n",
      "Emotion scores for text: https://t.co/ZXVthRi2hi...\n",
      "Emotion scores for text: Mind-blowing @USGAO report: https://t.co/YaA3o9ydU...\n"
     ]
    },
    {
     "name": "stderr",
     "output_type": "stream",
     "text": [
      " 36%|███▌      | 1116/3113 [01:45<04:02,  8.22it/s]"
     ]
    },
    {
     "name": "stdout",
     "output_type": "stream",
     "text": [
      "Emotion scores for text: The Federal government computers & software are in...\n",
      "Emotion scores for text: Very important to hear this. Forward to friends. \n",
      "...\n",
      "Emotion scores for text: TSLA shorts reciting Litany Against Fear rn 😂...\n"
     ]
    },
    {
     "name": "stderr",
     "output_type": "stream",
     "text": [
      " 36%|███▌      | 1118/3113 [01:45<04:01,  8.27it/s]"
     ]
    },
    {
     "name": "stdout",
     "output_type": "stream",
     "text": [
      "Emotion scores for text: https://t.co/G1z6Y4Lze5...\n",
      "Emotion scores for text: There will ultimately be tens of millions of drive...\n"
     ]
    },
    {
     "name": "stderr",
     "output_type": "stream",
     "text": [
      " 36%|███▌      | 1121/3113 [01:45<03:39,  9.08it/s]"
     ]
    },
    {
     "name": "stdout",
     "output_type": "stream",
     "text": [
      "Emotion scores for text: https://t.co/6NJ8JYVrLx...\n",
      "Emotion scores for text: https://t.co/KPXrvtw5jN...\n",
      "Emotion scores for text: This kid has great instincts https://t.co/FyYIADel...\n"
     ]
    },
    {
     "name": "stderr",
     "output_type": "stream",
     "text": [
      " 36%|███▌      | 1123/3113 [01:46<03:32,  9.36it/s]"
     ]
    },
    {
     "name": "stdout",
     "output_type": "stream",
     "text": [
      "Emotion scores for text: Hey babe wyd https://t.co/FE8BZ9Bg4R...\n",
      "Emotion scores for text: Perfectly articulated by @SpeakerJohnson!\n",
      " https:/...\n"
     ]
    },
    {
     "name": "stderr",
     "output_type": "stream",
     "text": [
      " 36%|███▌      | 1126/3113 [01:46<03:31,  9.38it/s]"
     ]
    },
    {
     "name": "stdout",
     "output_type": "stream",
     "text": [
      "Emotion scores for text: My hardcore Diablo Druid died today 😢\n",
      "\n",
      "Uploading h...\n",
      "Emotion scores for text: Inevitable...\n",
      "Emotion scores for text: Magnificat Cathédrale @NotreDameParis⁩ https://t.c...\n"
     ]
    },
    {
     "name": "stderr",
     "output_type": "stream",
     "text": [
      " 36%|███▋      | 1129/3113 [01:46<03:34,  9.23it/s]"
     ]
    },
    {
     "name": "stdout",
     "output_type": "stream",
     "text": [
      "Emotion scores for text: Two years ago, I commissioned an art piece: A Fork...\n",
      "Emotion scores for text: https://t.co/ryziK4JOB0...\n",
      "Emotion scores for text: https://t.co/DYazX7KMhh...\n"
     ]
    },
    {
     "name": "stderr",
     "output_type": "stream",
     "text": [
      " 36%|███▋      | 1131/3113 [01:47<03:25,  9.63it/s]"
     ]
    },
    {
     "name": "stdout",
     "output_type": "stream",
     "text": [
      "Emotion scores for text: https://t.co/eYTt40ahVq...\n",
      "Emotion scores for text: PoE2 is the love child of Elden Ring &amp; Diablo...\n",
      "Emotion scores for text: Whatever happens …\n",
      "Don’t let it ruin your day...\n"
     ]
    },
    {
     "name": "stderr",
     "output_type": "stream",
     "text": [
      " 36%|███▋      | 1135/3113 [01:47<03:17, 10.02it/s]"
     ]
    },
    {
     "name": "stdout",
     "output_type": "stream",
     "text": [
      "Emotion scores for text: https://t.co/gEO2qqN5ed...\n",
      "Emotion scores for text: @DOGE &amp; DOGE Jr https://t.co/37dDwCqJhN...\n",
      "Emotion scores for text: Surely you can’t be Sirius? 😂\n",
      " https://t.co/zVIgVo...\n"
     ]
    },
    {
     "name": "stderr",
     "output_type": "stream",
     "text": [
      " 37%|███▋      | 1137/3113 [01:47<03:09, 10.43it/s]"
     ]
    },
    {
     "name": "stdout",
     "output_type": "stream",
     "text": [
      "Emotion scores for text: https://t.co/y3uGmHBA23...\n",
      "Emotion scores for text: https://t.co/AVhlsAl73I...\n",
      "Emotion scores for text: https://t.co/XHO3JHsTWJ...\n"
     ]
    },
    {
     "name": "stderr",
     "output_type": "stream",
     "text": [
      " 37%|███▋      | 1141/3113 [01:47<02:59, 10.96it/s]"
     ]
    },
    {
     "name": "stdout",
     "output_type": "stream",
     "text": [
      "Emotion scores for text: https://t.co/BL3PTfI17P...\n",
      "Emotion scores for text: https://t.co/sR3hJr9B9h...\n",
      "Emotion scores for text: Defund the ACLU...\n"
     ]
    },
    {
     "name": "stderr",
     "output_type": "stream",
     "text": [
      " 37%|███▋      | 1143/3113 [01:48<02:52, 11.45it/s]"
     ]
    },
    {
     "name": "stdout",
     "output_type": "stream",
     "text": [
      "Emotion scores for text: https://t.co/coZeZm5lr8...\n",
      "Emotion scores for text: https://t.co/R695MUaQ1K...\n",
      "Emotion scores for text: https://t.co/3Sd3leEP33...\n"
     ]
    },
    {
     "name": "stderr",
     "output_type": "stream",
     "text": [
      " 37%|███▋      | 1147/3113 [01:48<02:53, 11.34it/s]"
     ]
    },
    {
     "name": "stdout",
     "output_type": "stream",
     "text": [
      "Emotion scores for text: https://t.co/3u3y0qXroE...\n",
      "Emotion scores for text: Wow 😍 https://t.co/AlhDCjWsLR...\n",
      "Emotion scores for text: https://t.co/oQKKYpHXhN...\n"
     ]
    },
    {
     "name": "stderr",
     "output_type": "stream",
     "text": [
      " 37%|███▋      | 1149/3113 [01:48<02:45, 11.84it/s]"
     ]
    },
    {
     "name": "stdout",
     "output_type": "stream",
     "text": [
      "Emotion scores for text: Worth it...\n",
      "Emotion scores for text: https://t.co/kVhHvAxszv...\n",
      "Emotion scores for text: Community Notes slays https://t.co/QNZfUIcNPl...\n"
     ]
    },
    {
     "name": "stderr",
     "output_type": "stream",
     "text": [
      " 37%|███▋      | 1153/3113 [01:48<02:41, 12.15it/s]"
     ]
    },
    {
     "name": "stdout",
     "output_type": "stream",
     "text": [
      "Emotion scores for text: https://t.co/BkZWdiXLQi...\n",
      "Emotion scores for text: Cancel culture has been canceled....\n",
      "Emotion scores for text: https://t.co/hssREza9jK...\n"
     ]
    },
    {
     "name": "stderr",
     "output_type": "stream",
     "text": [
      " 37%|███▋      | 1155/3113 [01:49<02:42, 12.01it/s]"
     ]
    },
    {
     "name": "stdout",
     "output_type": "stream",
     "text": [
      "Emotion scores for text: https://t.co/n3U6bckcOu...\n",
      "Emotion scores for text: https://t.co/RuyJecwbo3...\n",
      "Emotion scores for text: Forward this video to friends &amp; family to unde...\n"
     ]
    },
    {
     "name": "stderr",
     "output_type": "stream",
     "text": [
      " 37%|███▋      | 1159/3113 [01:49<03:05, 10.54it/s]"
     ]
    },
    {
     "name": "stdout",
     "output_type": "stream",
     "text": [
      "Emotion scores for text: It was a coordinated sychological operation \n",
      " http...\n",
      "Emotion scores for text: https://t.co/LoeugQQXOI...\n",
      "Emotion scores for text: Let’s give Optimus a hand for catching ball!\n",
      " http...\n"
     ]
    },
    {
     "name": "stderr",
     "output_type": "stream",
     "text": [
      " 37%|███▋      | 1161/3113 [01:49<02:53, 11.28it/s]"
     ]
    },
    {
     "name": "stdout",
     "output_type": "stream",
     "text": [
      "Emotion scores for text: You are so much more than the media now...\n",
      "Emotion scores for text: 🇺🇸🇺🇸 Happy Thanksgiving! 🇺🇸🇺🇸...\n",
      "Emotion scores for text: “Respect for the truth comes close to being the ba...\n"
     ]
    },
    {
     "name": "stderr",
     "output_type": "stream",
     "text": [
      " 37%|███▋      | 1165/3113 [01:49<02:46, 11.73it/s]"
     ]
    },
    {
     "name": "stdout",
     "output_type": "stream",
     "text": [
      "Emotion scores for text: 🤔...\n",
      "Emotion scores for text: Yes!...\n",
      "Emotion scores for text: Too many game studios that are owned by massive co...\n"
     ]
    },
    {
     "name": "stderr",
     "output_type": "stream",
     "text": [
      " 37%|███▋      | 1167/3113 [01:50<02:49, 11.51it/s]"
     ]
    },
    {
     "name": "stdout",
     "output_type": "stream",
     "text": [
      "Emotion scores for text: https://t.co/GFZz2y2RsJ...\n",
      "Emotion scores for text: The IRS just said it wants $20B more money. \n",
      "\n",
      "Do y...\n"
     ]
    },
    {
     "name": "stderr",
     "output_type": "stream",
     "text": [
      " 38%|███▊      | 1169/3113 [01:50<03:19,  9.74it/s]"
     ]
    },
    {
     "name": "stdout",
     "output_type": "stream",
     "text": [
      "Emotion scores for text: A significant % of people don’t even know that the...\n",
      "Emotion scores for text: https://t.co/xhpZ2R3z0u...\n",
      "Emotion scores for text: https://t.co/6YZUIst6Vs...\n"
     ]
    },
    {
     "name": "stderr",
     "output_type": "stream",
     "text": [
      " 38%|███▊      | 1171/3113 [01:50<03:09, 10.25it/s]"
     ]
    },
    {
     "name": "stdout",
     "output_type": "stream",
     "text": [
      "Emotion scores for text: https://t.co/gzefLKhVta...\n",
      "Emotion scores for text: Future wars are all about drones &amp; hypersonic ...\n"
     ]
    },
    {
     "name": "stderr",
     "output_type": "stream",
     "text": [
      " 38%|███▊      | 1173/3113 [01:50<03:18,  9.75it/s]"
     ]
    },
    {
     "name": "stdout",
     "output_type": "stream",
     "text": [
      "Emotion scores for text: https://t.co/8B7woc9sjY...\n",
      "Emotion scores for text: Making life multiplanetary for the first time in 4...\n"
     ]
    },
    {
     "name": "stderr",
     "output_type": "stream",
     "text": [
      " 38%|███▊      | 1177/3113 [01:51<03:26,  9.39it/s]"
     ]
    },
    {
     "name": "stdout",
     "output_type": "stream",
     "text": [
      "Emotion scores for text: To: all@.gov\n",
      "From: @DOGE\n",
      "\n",
      "What did you get done th...\n",
      "Emotion scores for text: https://t.co/Zy0lt9fQ3D...\n",
      "Emotion scores for text: https://t.co/6hzIKmtusX...\n"
     ]
    },
    {
     "name": "stderr",
     "output_type": "stream",
     "text": [
      " 38%|███▊      | 1179/3113 [01:51<03:33,  9.08it/s]"
     ]
    },
    {
     "name": "stdout",
     "output_type": "stream",
     "text": [
      "Emotion scores for text: Legacy media lies\n",
      " https://t.co/FhESudf28w...\n",
      "Emotion scores for text: Very common mistake to believe that the legacy med...\n"
     ]
    },
    {
     "name": "stderr",
     "output_type": "stream",
     "text": [
      " 38%|███▊      | 1182/3113 [01:51<03:09, 10.18it/s]"
     ]
    },
    {
     "name": "stdout",
     "output_type": "stream",
     "text": [
      "Emotion scores for text: 😂\n",
      " https://t.co/8hwDOQqcA1...\n",
      "Emotion scores for text: The legacy media forgot that honesty really is the...\n",
      "Emotion scores for text: 🎯...\n"
     ]
    },
    {
     "name": "stderr",
     "output_type": "stream",
     "text": [
      " 38%|███▊      | 1184/3113 [01:51<02:59, 10.74it/s]"
     ]
    },
    {
     "name": "stdout",
     "output_type": "stream",
     "text": [
      "Emotion scores for text: @DOGE is inevitable https://t.co/4AaEr0Sev6...\n",
      "Emotion scores for text: Yes!...\n",
      "Emotion scores for text: I still can’t believe @DOGE is real 🤣🤣...\n"
     ]
    },
    {
     "name": "stderr",
     "output_type": "stream",
     "text": [
      " 38%|███▊      | 1186/3113 [01:52<02:55, 10.97it/s]"
     ]
    },
    {
     "name": "stdout",
     "output_type": "stream",
     "text": [
      "Emotion scores for text: AI will be incredible \n",
      " https://t.co/1fU4Jn7yN9...\n",
      "Emotion scores for text: 😂 https://t.co/vbyPm3FeDJ...\n"
     ]
    },
    {
     "name": "stderr",
     "output_type": "stream",
     "text": [
      " 38%|███▊      | 1190/3113 [01:52<03:08, 10.18it/s]"
     ]
    },
    {
     "name": "stdout",
     "output_type": "stream",
     "text": [
      "Emotion scores for text: https://t.co/V2bQBnV3Pb...\n",
      "Emotion scores for text: 😂 \n",
      " https://t.co/0APOI01y1Q...\n",
      "Emotion scores for text: https://t.co/spGltHPuia...\n"
     ]
    },
    {
     "name": "stderr",
     "output_type": "stream",
     "text": [
      " 38%|███▊      | 1192/3113 [01:52<03:14,  9.87it/s]"
     ]
    },
    {
     "name": "stdout",
     "output_type": "stream",
     "text": [
      "Emotion scores for text: Inverse Cramer vs Pelosi stock tracker: who will w...\n",
      "Emotion scores for text: @Ch_are_lee @Rothmus Yeah...\n",
      "Emotion scores for text: SPQR https://t.co/IqIfXi7MmH...\n"
     ]
    },
    {
     "name": "stderr",
     "output_type": "stream",
     "text": [
      " 38%|███▊      | 1196/3113 [01:53<03:25,  9.32it/s]"
     ]
    },
    {
     "name": "stdout",
     "output_type": "stream",
     "text": [
      "Emotion scores for text: Incarceration for contempt of court, even when val...\n",
      "Emotion scores for text: https://t.co/UQZpMjRinW...\n",
      "Emotion scores for text: 😂\n",
      " https://t.co/FmWtzjpQRX...\n"
     ]
    },
    {
     "name": "stderr",
     "output_type": "stream",
     "text": [
      " 39%|███▊      | 1199/3113 [01:53<03:23,  9.42it/s]"
     ]
    },
    {
     "name": "stdout",
     "output_type": "stream",
     "text": [
      "Emotion scores for text: And lead us not into temptation … https://t.co/0FG...\n",
      "Emotion scores for text: I do love this meme https://t.co/1QXTWgcYNA...\n",
      "Emotion scores for text: Since it’s almost 2:30 ET https://t.co/d6CFT0wtVv...\n"
     ]
    },
    {
     "name": "stderr",
     "output_type": "stream",
     "text": [
      " 39%|███▊      | 1201/3113 [01:53<03:49,  8.33it/s]"
     ]
    },
    {
     "name": "stdout",
     "output_type": "stream",
     "text": [
      "Emotion scores for text: The years really fly by https://t.co/3l0a6zKQeZ...\n",
      "Emotion scores for text: Meanwhile, some idiots are still building manned f...\n"
     ]
    },
    {
     "name": "stderr",
     "output_type": "stream",
     "text": [
      " 39%|███▊      | 1203/3113 [01:54<03:38,  8.75it/s]"
     ]
    },
    {
     "name": "stdout",
     "output_type": "stream",
     "text": [
      "Emotion scores for text: https://t.co/yztsUBPZbk...\n",
      "Emotion scores for text: Not bad https://t.co/ob0nB4AcaV...\n"
     ]
    },
    {
     "name": "stderr",
     "output_type": "stream",
     "text": [
      " 39%|███▊      | 1204/3113 [01:54<03:39,  8.69it/s]"
     ]
    },
    {
     "name": "stdout",
     "output_type": "stream",
     "text": [
      "Emotion scores for text: “I am your farter!” https://t.co/AznlbLTInE...\n",
      "Emotion scores for text: 𝕏 is so unhinged rn...\n"
     ]
    },
    {
     "name": "stderr",
     "output_type": "stream",
     "text": [
      " 39%|███▉      | 1208/3113 [01:54<03:24,  9.31it/s]"
     ]
    },
    {
     "name": "stdout",
     "output_type": "stream",
     "text": [
      "Emotion scores for text: My phone keeps suggesting that I post this ginormo...\n",
      "Emotion scores for text: https://t.co/1r4PO6gl1o...\n",
      "Emotion scores for text: https://t.co/JAJgsu8T4g...\n"
     ]
    },
    {
     "name": "stderr",
     "output_type": "stream",
     "text": [
      " 39%|███▉      | 1210/3113 [01:54<03:25,  9.25it/s]"
     ]
    },
    {
     "name": "stdout",
     "output_type": "stream",
     "text": [
      "Emotion scores for text: Memeception https://t.co/hjoJcfi2IJ...\n",
      "Emotion scores for text: https://t.co/bSAPyTuuba...\n",
      "Emotion scores for text: https://t.co/z3necdPC9P...\n"
     ]
    },
    {
     "name": "stderr",
     "output_type": "stream",
     "text": [
      " 39%|███▉      | 1214/3113 [01:55<02:56, 10.75it/s]"
     ]
    },
    {
     "name": "stdout",
     "output_type": "stream",
     "text": [
      "Emotion scores for text: SPQR...\n",
      "Emotion scores for text: I love this meme https://t.co/yLPaKPD02n...\n",
      "Emotion scores for text: 𝕏 is the group chat / collective conscious of Eart...\n"
     ]
    },
    {
     "name": "stderr",
     "output_type": "stream",
     "text": [
      " 39%|███▉      | 1216/3113 [01:55<03:20,  9.48it/s]"
     ]
    },
    {
     "name": "stdout",
     "output_type": "stream",
     "text": [
      "Emotion scores for text: Noland is playing Polytopia just by thinking via h...\n",
      "Emotion scores for text: How old were you when you realized others couldn’t...\n",
      "Emotion scores for text: https://t.co/obyNTOtbdx...\n"
     ]
    },
    {
     "name": "stderr",
     "output_type": "stream",
     "text": [
      " 39%|███▉      | 1218/3113 [01:55<03:11,  9.89it/s]"
     ]
    },
    {
     "name": "stdout",
     "output_type": "stream",
     "text": [
      "Emotion scores for text: My phone today\n",
      " https://t.co/o4n2ae2Lmb...\n",
      "Emotion scores for text: Me for the past 3 hours 💩posting on 𝕏 https://t.co...\n"
     ]
    },
    {
     "name": "stderr",
     "output_type": "stream",
     "text": [
      " 39%|███▉      | 1221/3113 [01:55<03:43,  8.48it/s]"
     ]
    },
    {
     "name": "stdout",
     "output_type": "stream",
     "text": [
      "Emotion scores for text: The Right to Bear Arms https://t.co/bJdr90YOhK...\n",
      "Emotion scores for text: I will use the power of irony to defeat villains!\n",
      "...\n"
     ]
    },
    {
     "name": "stderr",
     "output_type": "stream",
     "text": [
      " 39%|███▉      | 1222/3113 [01:56<03:43,  8.48it/s]"
     ]
    },
    {
     "name": "stdout",
     "output_type": "stream",
     "text": [
      "Emotion scores for text: Actual footage of me after @realDonaldTrump won ht...\n",
      "Emotion scores for text: I … am … Ironyman …...\n"
     ]
    },
    {
     "name": "stderr",
     "output_type": "stream",
     "text": [
      " 39%|███▉      | 1225/3113 [01:56<03:55,  8.00it/s]"
     ]
    },
    {
     "name": "stdout",
     "output_type": "stream",
     "text": [
      "Emotion scores for text: Only patents for things that are super expensive t...\n",
      "Emotion scores for text: Best fake ad ever 😂\n",
      "\n",
      "This meme ad was made in 2013...\n"
     ]
    },
    {
     "name": "stderr",
     "output_type": "stream",
     "text": [
      " 39%|███▉      | 1228/3113 [01:56<03:22,  9.31it/s]"
     ]
    },
    {
     "name": "stdout",
     "output_type": "stream",
     "text": [
      "Emotion scores for text: Federal government overspending is what causes inf...\n",
      "Emotion scores for text: https://t.co/Cl4HEwRG8v...\n",
      "Emotion scores for text: https://t.co/bi1kHI4vJK...\n"
     ]
    },
    {
     "name": "stderr",
     "output_type": "stream",
     "text": [
      " 40%|███▉      | 1230/3113 [01:57<03:32,  8.85it/s]"
     ]
    },
    {
     "name": "stdout",
     "output_type": "stream",
     "text": [
      "Emotion scores for text: Have to say that @joerogan’s profile description i...\n",
      "Emotion scores for text: https://t.co/yeXaOrINsO...\n",
      "Emotion scores for text: https://t.co/byYWtOsnUA...\n"
     ]
    },
    {
     "name": "stderr",
     "output_type": "stream",
     "text": [
      " 40%|███▉      | 1234/3113 [01:57<03:19,  9.44it/s]"
     ]
    },
    {
     "name": "stdout",
     "output_type": "stream",
     "text": [
      "Emotion scores for text: High time you got your money’s worth from governme...\n",
      "Emotion scores for text: 😂 https://t.co/5zQ5YvUYG8...\n",
      "Emotion scores for text: Starship hot stage separation https://t.co/iGA2xJ0...\n"
     ]
    },
    {
     "name": "stderr",
     "output_type": "stream",
     "text": [
      " 40%|███▉      | 1237/3113 [01:57<03:21,  9.32it/s]"
     ]
    },
    {
     "name": "stdout",
     "output_type": "stream",
     "text": [
      "Emotion scores for text: Try out these new features!\n",
      "\n",
      "I personally tirn off...\n",
      "Emotion scores for text: https://t.co/hbFl5QJhc6...\n",
      "Emotion scores for text: They want our memes! https://t.co/jx42ecApTs...\n"
     ]
    },
    {
     "name": "stderr",
     "output_type": "stream",
     "text": [
      " 40%|███▉      | 1239/3113 [01:57<03:31,  8.88it/s]"
     ]
    },
    {
     "name": "stdout",
     "output_type": "stream",
     "text": [
      "Emotion scores for text: Falcon Heavy https://t.co/ypeJNo6KP3...\n",
      "Emotion scores for text: Wow, this is messed up!\n",
      " https://t.co/wLxB4G1lYS...\n"
     ]
    },
    {
     "name": "stderr",
     "output_type": "stream",
     "text": [
      " 40%|███▉      | 1242/3113 [01:58<03:15,  9.59it/s]"
     ]
    },
    {
     "name": "stdout",
     "output_type": "stream",
     "text": [
      "Emotion scores for text: gm frens...\n",
      "Emotion scores for text: https://t.co/iJkc2nPofO...\n",
      "Emotion scores for text: Notre-Dame has been restored!\n",
      " https://t.co/g7RKQD...\n"
     ]
    },
    {
     "name": "stderr",
     "output_type": "stream",
     "text": [
      " 40%|███▉      | 1243/3113 [01:58<03:34,  8.72it/s]"
     ]
    },
    {
     "name": "stdout",
     "output_type": "stream",
     "text": [
      "Emotion scores for text: Just learned tonight at Mar-a-Lago that Jeff Bezos...\n",
      "Emotion scores for text: https://t.co/YsvjfZeKfY...\n"
     ]
    },
    {
     "name": "stderr",
     "output_type": "stream",
     "text": [
      " 40%|████      | 1247/3113 [01:58<03:17,  9.45it/s]"
     ]
    },
    {
     "name": "stdout",
     "output_type": "stream",
     "text": [
      "Emotion scores for text: Wow, Germany carries a lot of the cost of the EU! ...\n",
      "Emotion scores for text: Community Notes goes hard 😂 https://t.co/wHb0wVjp4...\n",
      "Emotion scores for text: He was a genius https://t.co/DOYzzACUeu...\n"
     ]
    },
    {
     "name": "stderr",
     "output_type": "stream",
     "text": [
      " 40%|████      | 1249/3113 [01:59<03:05, 10.02it/s]"
     ]
    },
    {
     "name": "stdout",
     "output_type": "stream",
     "text": [
      "Emotion scores for text: https://t.co/2C2YHW42e1...\n",
      "Emotion scores for text: https://t.co/kKPRwvtKXQ...\n",
      "Emotion scores for text: https://t.co/nshV5KJ7sI...\n"
     ]
    },
    {
     "name": "stderr",
     "output_type": "stream",
     "text": [
      " 40%|████      | 1253/3113 [01:59<03:00, 10.30it/s]"
     ]
    },
    {
     "name": "stdout",
     "output_type": "stream",
     "text": [
      "Emotion scores for text: Legal immigration to America is ridiculously slow ...\n",
      "Emotion scores for text: https://t.co/i3Vj8JsCwO...\n",
      "Emotion scores for text: https://t.co/5HXACkMKhB...\n",
      "Emotion scores for text: 侘び寂び...\n"
     ]
    },
    {
     "name": "stderr",
     "output_type": "stream",
     "text": [
      " 40%|████      | 1255/3113 [02:01<12:30,  2.47it/s]"
     ]
    },
    {
     "name": "stdout",
     "output_type": "stream",
     "text": [
      "Emotion scores for text: So many life lessons to be learned from speedrunni...\n"
     ]
    },
    {
     "name": "stderr",
     "output_type": "stream",
     "text": [
      " 40%|████      | 1256/3113 [02:02<14:38,  2.11it/s]"
     ]
    },
    {
     "name": "stdout",
     "output_type": "stream",
     "text": [
      "Emotion scores for text: Milton Friedman was the best \n",
      " https://t.co/CeLlQn...\n"
     ]
    },
    {
     "name": "stderr",
     "output_type": "stream",
     "text": [
      " 40%|████      | 1258/3113 [02:03<15:17,  2.02it/s]"
     ]
    },
    {
     "name": "stdout",
     "output_type": "stream",
     "text": [
      "Emotion scores for text: The biggest technology challenge remaining for Sta...\n",
      "Emotion scores for text: https://t.co/raDVXprw0M...\n"
     ]
    },
    {
     "name": "stderr",
     "output_type": "stream",
     "text": [
      " 40%|████      | 1260/3113 [02:03<10:30,  2.94it/s]"
     ]
    },
    {
     "name": "stdout",
     "output_type": "stream",
     "text": [
      "Emotion scores for text: 8 minutes to liftoff of Starship!\n",
      " https://t.co/Ng...\n",
      "Emotion scores for text: https://t.co/XcQnYcI58J...\n"
     ]
    },
    {
     "name": "stderr",
     "output_type": "stream",
     "text": [
      " 41%|████      | 1262/3113 [02:04<07:37,  4.05it/s]"
     ]
    },
    {
     "name": "stdout",
     "output_type": "stream",
     "text": [
      "Emotion scores for text: https://t.co/NTSXxc30y4...\n",
      "Emotion scores for text: The Two Towers https://t.co/5gY09zh6rx...\n"
     ]
    },
    {
     "name": "stderr",
     "output_type": "stream",
     "text": [
      " 41%|████      | 1264/3113 [02:04<06:00,  5.13it/s]"
     ]
    },
    {
     "name": "stdout",
     "output_type": "stream",
     "text": [
      "Emotion scores for text: A classic 😂\n",
      " https://t.co/hTWfJJ37Ob...\n",
      "Emotion scores for text: A fully reusable rocket with orbital refilling is ...\n"
     ]
    },
    {
     "name": "stderr",
     "output_type": "stream",
     "text": [
      " 41%|████      | 1266/3113 [02:04<05:32,  5.55it/s]"
     ]
    },
    {
     "name": "stdout",
     "output_type": "stream",
     "text": [
      "Emotion scores for text: https://t.co/GiMAQ8yChK...\n",
      "Emotion scores for text: Uh oh 😧...\n"
     ]
    },
    {
     "name": "stderr",
     "output_type": "stream",
     "text": [
      " 41%|████      | 1267/3113 [02:04<06:03,  5.08it/s]"
     ]
    },
    {
     "name": "stdout",
     "output_type": "stream",
     "text": [
      "Emotion scores for text: The objectives for Starship Flight 6 are:\n",
      "\n",
      "1. Rest...\n"
     ]
    },
    {
     "name": "stderr",
     "output_type": "stream",
     "text": [
      " 41%|████      | 1270/3113 [02:05<04:50,  6.34it/s]"
     ]
    },
    {
     "name": "stdout",
     "output_type": "stream",
     "text": [
      "Emotion scores for text: Matt Gaetz has 3 critical assets that are needed f...\n",
      "Emotion scores for text: https://t.co/LpzMEZzYP9...\n",
      "Emotion scores for text: Mach diamonds \n",
      " https://t.co/t0PmGumZNA...\n"
     ]
    },
    {
     "name": "stderr",
     "output_type": "stream",
     "text": [
      " 41%|████      | 1272/3113 [02:05<04:00,  7.67it/s]"
     ]
    },
    {
     "name": "stdout",
     "output_type": "stream",
     "text": [
      "Emotion scores for text: https://t.co/7NHqlQBbcZ...\n",
      "Emotion scores for text: https://t.co/GhQGJd90Yh...\n"
     ]
    },
    {
     "name": "stderr",
     "output_type": "stream",
     "text": [
      " 41%|████      | 1275/3113 [02:05<03:49,  8.01it/s]"
     ]
    },
    {
     "name": "stdout",
     "output_type": "stream",
     "text": [
      "Emotion scores for text: If you look closely, you can see a human walking a...\n",
      "Emotion scores for text: https://t.co/6CkZHGwFAh...\n",
      "Emotion scores for text: https://t.co/rvQRDuH7fz...\n"
     ]
    },
    {
     "name": "stderr",
     "output_type": "stream",
     "text": [
      " 41%|████      | 1277/3113 [02:06<03:23,  9.04it/s]"
     ]
    },
    {
     "name": "stdout",
     "output_type": "stream",
     "text": [
      "Emotion scores for text: https://t.co/hTYxoD1RAX...\n",
      "Emotion scores for text: https://t.co/v3X7RIinRO...\n",
      "Emotion scores for text: https://t.co/7R9gO4j1aD...\n"
     ]
    },
    {
     "name": "stderr",
     "output_type": "stream",
     "text": [
      " 41%|████      | 1279/3113 [02:06<03:14,  9.43it/s]"
     ]
    },
    {
     "name": "stdout",
     "output_type": "stream",
     "text": [
      "Emotion scores for text: Giant rockets need giant rocket factories \n",
      " https:...\n"
     ]
    },
    {
     "name": "stderr",
     "output_type": "stream",
     "text": [
      " 41%|████      | 1281/3113 [02:06<03:57,  7.71it/s]"
     ]
    },
    {
     "name": "stdout",
     "output_type": "stream",
     "text": [
      "Emotion scores for text: Misgnomer is when someone refers to a hobbit as a ...\n",
      "Emotion scores for text: Starship Flight 6 tomorrow \n",
      " https://t.co/oOdRG30q...\n"
     ]
    },
    {
     "name": "stderr",
     "output_type": "stream",
     "text": [
      " 41%|████      | 1284/3113 [02:06<03:20,  9.12it/s]"
     ]
    },
    {
     "name": "stdout",
     "output_type": "stream",
     "text": [
      "Emotion scores for text: https://t.co/LtSLPCFAAv...\n",
      "Emotion scores for text: Interesting...\n",
      "Emotion scores for text: https://t.co/mz9Z2vCPe9...\n"
     ]
    },
    {
     "name": "stderr",
     "output_type": "stream",
     "text": [
      " 41%|████▏     | 1287/3113 [02:07<03:06,  9.81it/s]"
     ]
    },
    {
     "name": "stdout",
     "output_type": "stream",
     "text": [
      "Emotion scores for text: https://t.co/HFG5Fn6E8M...\n",
      "Emotion scores for text: https://t.co/Z8vuMR40oO...\n",
      "Emotion scores for text: https://t.co/AM9WehnNG7...\n"
     ]
    },
    {
     "name": "stderr",
     "output_type": "stream",
     "text": [
      " 41%|████▏     | 1289/3113 [02:07<02:58, 10.23it/s]"
     ]
    },
    {
     "name": "stdout",
     "output_type": "stream",
     "text": [
      "Emotion scores for text: Which one would do a better job of deciding intere...\n",
      "Emotion scores for text: https://t.co/SZmUYgq0AY...\n",
      "Emotion scores for text: https://t.co/ZMuoxownmF...\n"
     ]
    },
    {
     "name": "stderr",
     "output_type": "stream",
     "text": [
      " 41%|████▏     | 1291/3113 [02:07<03:05,  9.83it/s]"
     ]
    },
    {
     "name": "stdout",
     "output_type": "stream",
     "text": [
      "Emotion scores for text: The government runs on ancient computers &amp; sof...\n",
      "Emotion scores for text: https://t.co/iGMDGwPsQ0...\n"
     ]
    },
    {
     "name": "stderr",
     "output_type": "stream",
     "text": [
      " 42%|████▏     | 1295/3113 [02:08<03:26,  8.79it/s]"
     ]
    },
    {
     "name": "stdout",
     "output_type": "stream",
     "text": [
      "Emotion scores for text: Guess who? https://t.co/ExzlBOGSBz...\n",
      "Emotion scores for text: https://t.co/3GVf5veDIn...\n",
      "Emotion scores for text: https://t.co/drCZAs8lzb...\n"
     ]
    },
    {
     "name": "stderr",
     "output_type": "stream",
     "text": [
      " 42%|████▏     | 1298/3113 [02:08<03:11,  9.46it/s]"
     ]
    },
    {
     "name": "stdout",
     "output_type": "stream",
     "text": [
      "Emotion scores for text: Seriously 😂 @TheBabylonBee https://t.co/dStvfI8U92...\n",
      "Emotion scores for text: https://t.co/7MFINBcBgt...\n",
      "Emotion scores for text: https://t.co/9gn18YBB1A...\n"
     ]
    },
    {
     "name": "stderr",
     "output_type": "stream",
     "text": [
      " 42%|████▏     | 1300/3113 [02:08<03:05,  9.79it/s]"
     ]
    },
    {
     "name": "stdout",
     "output_type": "stream",
     "text": [
      "Emotion scores for text: https://t.co/SY42rvf9I9...\n",
      "Emotion scores for text: There will be consequences for those who pushed fo...\n",
      "Emotion scores for text: 🥱 https://t.co/E7FFqwOxTa...\n"
     ]
    },
    {
     "name": "stderr",
     "output_type": "stream",
     "text": [
      " 42%|████▏     | 1304/3113 [02:09<02:50, 10.61it/s]"
     ]
    },
    {
     "name": "stdout",
     "output_type": "stream",
     "text": [
      "Emotion scores for text: Starting to feel like The @DOGE has real potential...\n",
      "Emotion scores for text: https://t.co/4LPeGnGPi2...\n",
      "Emotion scores for text: https://t.co/9Pd5TV4qWA...\n"
     ]
    },
    {
     "name": "stderr",
     "output_type": "stream",
     "text": [
      " 42%|████▏     | 1306/3113 [02:09<02:55, 10.32it/s]"
     ]
    },
    {
     "name": "stdout",
     "output_type": "stream",
     "text": [
      "Emotion scores for text: Fetterman has a good sense of humor 😂 https://t.co...\n",
      "Emotion scores for text: https://t.co/xYKGJ0kixW...\n"
     ]
    },
    {
     "name": "stderr",
     "output_type": "stream",
     "text": [
      " 42%|████▏     | 1308/3113 [02:09<03:18,  9.11it/s]"
     ]
    },
    {
     "name": "stdout",
     "output_type": "stream",
     "text": [
      "Emotion scores for text: Last night with @realDonaldTrump &amp; @JMilei htt...\n",
      "Emotion scores for text: Great video of Starship Super Heavy Booster landin...\n"
     ]
    },
    {
     "name": "stderr",
     "output_type": "stream",
     "text": [
      " 42%|████▏     | 1310/3113 [02:09<03:28,  8.64it/s]"
     ]
    },
    {
     "name": "stdout",
     "output_type": "stream",
     "text": [
      "Emotion scores for text: The political party closest to the views of the “m...\n",
      "Emotion scores for text: This is so true. \n",
      "\n",
      "Please send https://t.co/bOUOek...\n"
     ]
    },
    {
     "name": "stderr",
     "output_type": "stream",
     "text": [
      " 42%|████▏     | 1312/3113 [02:09<03:11,  9.39it/s]"
     ]
    },
    {
     "name": "stdout",
     "output_type": "stream",
     "text": [
      "Emotion scores for text: https://t.co/BvzLAXErvf...\n",
      "Emotion scores for text: https://t.co/4vIyGDXM47...\n",
      "Emotion scores for text: Exactly...\n"
     ]
    },
    {
     "name": "stderr",
     "output_type": "stream",
     "text": [
      " 42%|████▏     | 1316/3113 [02:10<02:54, 10.28it/s]"
     ]
    },
    {
     "name": "stdout",
     "output_type": "stream",
     "text": [
      "Emotion scores for text: Another Falcon launch\n",
      " https://t.co/hrsIMXGxYf...\n",
      "Emotion scores for text: Starship Flight 6 coming up soon!\n",
      " https://t.co/Wg...\n",
      "Emotion scores for text: True https://t.co/ogbH9AHwfi...\n",
      "Emotion scores for text: Seriously \n",
      " https://t.co/kxcg2Arf8v...\n"
     ]
    },
    {
     "name": "stderr",
     "output_type": "stream",
     "text": [
      " 42%|████▏     | 1319/3113 [02:10<03:45,  7.94it/s]"
     ]
    },
    {
     "name": "stdout",
     "output_type": "stream",
     "text": [
      "Emotion scores for text: Amazing 😂\n",
      " https://t.co/CmDmUFXptP...\n",
      "Emotion scores for text: The excess government spending is what causes infl...\n"
     ]
    },
    {
     "name": "stderr",
     "output_type": "stream",
     "text": [
      " 42%|████▏     | 1321/3113 [02:11<03:37,  8.25it/s]"
     ]
    },
    {
     "name": "stdout",
     "output_type": "stream",
     "text": [
      "Emotion scores for text: https://t.co/MbLtPzlSBf...\n",
      "Emotion scores for text: Do these expenditures seem like a good use of your...\n"
     ]
    },
    {
     "name": "stderr",
     "output_type": "stream",
     "text": [
      " 43%|████▎     | 1324/3113 [02:11<03:12,  9.31it/s]"
     ]
    },
    {
     "name": "stdout",
     "output_type": "stream",
     "text": [
      "Emotion scores for text: The big government machine https://t.co/5QL0b4xRBZ...\n",
      "Emotion scores for text: 😂 https://t.co/xj38Oxk5B4...\n",
      "Emotion scores for text: The Hammer of Justice is coming...\n"
     ]
    },
    {
     "name": "stderr",
     "output_type": "stream",
     "text": [
      " 43%|████▎     | 1326/3113 [02:11<03:08,  9.50it/s]"
     ]
    },
    {
     "name": "stdout",
     "output_type": "stream",
     "text": [
      "Emotion scores for text: 😂 https://t.co/W9ljsho8Kw...\n",
      "Emotion scores for text: https://t.co/4K0ruu7UMS...\n"
     ]
    },
    {
     "name": "stderr",
     "output_type": "stream",
     "text": [
      " 43%|████▎     | 1329/3113 [02:11<03:31,  8.44it/s]"
     ]
    },
    {
     "name": "stdout",
     "output_type": "stream",
     "text": [
      "Emotion scores for text: Threat to democracy? \n",
      "\n",
      "Nope, threat to BUREAUCRACY...\n",
      "Emotion scores for text: Department of Government Efficiency \n",
      "\n",
      "The merch wi...\n",
      "Emotion scores for text: https://t.co/Vnk4MCAofY...\n"
     ]
    },
    {
     "name": "stderr",
     "output_type": "stream",
     "text": [
      " 43%|████▎     | 1331/3113 [02:12<03:38,  8.15it/s]"
     ]
    },
    {
     "name": "stdout",
     "output_type": "stream",
     "text": [
      "Emotion scores for text: Something wrong with this chart, but I can’t quite...\n",
      "Emotion scores for text: #1 Nederland Nieuws! https://t.co/tz7Z5ty1yR...\n"
     ]
    },
    {
     "name": "stderr",
     "output_type": "stream",
     "text": [
      " 43%|████▎     | 1334/3113 [02:12<03:50,  7.72it/s]"
     ]
    },
    {
     "name": "stdout",
     "output_type": "stream",
     "text": [
      "Emotion scores for text: Normally, PACs go somewhat dormant after a big ele...\n",
      "Emotion scores for text: Interesting \n",
      "https://t.co/61G9RKibAY...\n",
      "Emotion scores for text: https://t.co/d6BiayAjwy...\n"
     ]
    },
    {
     "name": "stderr",
     "output_type": "stream",
     "text": [
      " 43%|████▎     | 1336/3113 [02:12<03:39,  8.09it/s]"
     ]
    },
    {
     "name": "stdout",
     "output_type": "stream",
     "text": [
      "Emotion scores for text: Good idea\n",
      " https://t.co/AiBnhUwp8U...\n",
      "Emotion scores for text: Not exactly great value for money! https://t.co/i9...\n"
     ]
    },
    {
     "name": "stderr",
     "output_type": "stream",
     "text": [
      " 43%|████▎     | 1338/3113 [02:13<03:35,  8.25it/s]"
     ]
    },
    {
     "name": "stdout",
     "output_type": "stream",
     "text": [
      "Emotion scores for text: Congratulations @RealTomHoman on being given respo...\n",
      "Emotion scores for text: Must be a coincidence 🙄 https://t.co/npsMqqatx0...\n"
     ]
    },
    {
     "name": "stderr",
     "output_type": "stream",
     "text": [
      " 43%|████▎     | 1339/3113 [02:13<03:49,  7.72it/s]"
     ]
    },
    {
     "name": "stdout",
     "output_type": "stream",
     "text": [
      "Emotion scores for text: Who should be Senate Majority Leader?...\n"
     ]
    },
    {
     "name": "stderr",
     "output_type": "stream",
     "text": [
      " 43%|████▎     | 1341/3113 [02:13<05:33,  5.31it/s]"
     ]
    },
    {
     "name": "stdout",
     "output_type": "stream",
     "text": [
      "Emotion scores for text: You are the media now https://t.co/gcTz2DN0P0...\n",
      "Emotion scores for text: https://t.co/1h7veRzfGn...\n"
     ]
    },
    {
     "name": "stderr",
     "output_type": "stream",
     "text": [
      " 43%|████▎     | 1342/3113 [02:13<05:12,  5.67it/s]"
     ]
    },
    {
     "name": "stdout",
     "output_type": "stream",
     "text": [
      "Emotion scores for text: I asked Grok to generate an image of The View 😂 ht...\n"
     ]
    },
    {
     "name": "stderr",
     "output_type": "stream",
     "text": [
      " 43%|████▎     | 1344/3113 [02:14<06:27,  4.56it/s]"
     ]
    },
    {
     "name": "stdout",
     "output_type": "stream",
     "text": [
      "Emotion scores for text: Washington DC swamp creatures trying to join the @...\n",
      "Emotion scores for text: The real loser was not the puppet, but rather the ...\n"
     ]
    },
    {
     "name": "stderr",
     "output_type": "stream",
     "text": [
      " 43%|████▎     | 1346/3113 [02:14<04:44,  6.20it/s]"
     ]
    },
    {
     "name": "stdout",
     "output_type": "stream",
     "text": [
      "Emotion scores for text: https://t.co/57R5pPHN5g...\n",
      "Emotion scores for text: YES!\n",
      " https://t.co/yrtfxAGfXi...\n"
     ]
    },
    {
     "name": "stderr",
     "output_type": "stream",
     "text": [
      " 43%|████▎     | 1348/3113 [02:14<04:21,  6.75it/s]"
     ]
    },
    {
     "name": "stdout",
     "output_type": "stream",
     "text": [
      "Emotion scores for text: The legacy media lied to you\n",
      " https://t.co/TuylN2I...\n",
      "Emotion scores for text: Great summary edit of my conversation with @JoeRog...\n"
     ]
    },
    {
     "name": "stderr",
     "output_type": "stream",
     "text": [
      " 43%|████▎     | 1350/3113 [02:15<04:28,  6.57it/s]"
     ]
    },
    {
     "name": "stdout",
     "output_type": "stream",
     "text": [
      "Emotion scores for text: Susie Wiles is great https://t.co/h56f2LIn6d...\n",
      "Emotion scores for text: All-time high usage of this platform! https://t.co...\n"
     ]
    },
    {
     "name": "stderr",
     "output_type": "stream",
     "text": [
      " 43%|████▎     | 1352/3113 [02:15<04:46,  6.14it/s]"
     ]
    },
    {
     "name": "stdout",
     "output_type": "stream",
     "text": [
      "Emotion scores for text: When there are egregiously wrong legal judgments i...\n",
      "Emotion scores for text: They say red light helps you sleep better https://...\n"
     ]
    },
    {
     "name": "stderr",
     "output_type": "stream",
     "text": [
      " 43%|████▎     | 1353/3113 [02:16<06:39,  4.41it/s]"
     ]
    },
    {
     "name": "stdout",
     "output_type": "stream",
     "text": [
      "Emotion scores for text: Arizona just declared for @realDonaldTrump, making...\n"
     ]
    },
    {
     "name": "stderr",
     "output_type": "stream",
     "text": [
      " 43%|████▎     | 1354/3113 [02:16<07:46,  3.77it/s]"
     ]
    },
    {
     "name": "stdout",
     "output_type": "stream",
     "text": [
      "Emotion scores for text: The truth will set you free\n",
      "https://t.co/CznOFU8Zz...\n"
     ]
    },
    {
     "name": "stderr",
     "output_type": "stream",
     "text": [
      " 44%|████▎     | 1355/3113 [02:16<07:37,  3.84it/s]"
     ]
    },
    {
     "name": "stdout",
     "output_type": "stream",
     "text": [
      "Emotion scores for text: https://t.co/kEyeHPkgQC...\n"
     ]
    },
    {
     "name": "stderr",
     "output_type": "stream",
     "text": [
      " 44%|████▎     | 1356/3113 [02:17<09:19,  3.14it/s]"
     ]
    },
    {
     "name": "stdout",
     "output_type": "stream",
     "text": [
      "Emotion scores for text: @ColtFrank5 @stevenmarkryan That would genuinely b...\n"
     ]
    },
    {
     "name": "stderr",
     "output_type": "stream",
     "text": [
      " 44%|████▎     | 1357/3113 [02:17<09:27,  3.10it/s]"
     ]
    },
    {
     "name": "stdout",
     "output_type": "stream",
     "text": [
      "Emotion scores for text: Novus Ordo Seclorum https://t.co/RKTU7pATXl...\n"
     ]
    },
    {
     "name": "stderr",
     "output_type": "stream",
     "text": [
      " 44%|████▎     | 1358/3113 [02:17<09:39,  3.03it/s]"
     ]
    },
    {
     "name": "stdout",
     "output_type": "stream",
     "text": [
      "Emotion scores for text: Huge thank you to everyone who supported this plat...\n"
     ]
    },
    {
     "name": "stderr",
     "output_type": "stream",
     "text": [
      " 44%|████▎     | 1359/3113 [02:18<09:35,  3.05it/s]"
     ]
    },
    {
     "name": "stdout",
     "output_type": "stream",
     "text": [
      "Emotion scores for text: News should come from the people. \n",
      "\n",
      "From those act...\n"
     ]
    },
    {
     "name": "stderr",
     "output_type": "stream",
     "text": [
      " 44%|████▎     | 1360/3113 [02:18<09:09,  3.19it/s]"
     ]
    },
    {
     "name": "stdout",
     "output_type": "stream",
     "text": [
      "Emotion scores for text: It is morning in America again https://t.co/GNTE0c...\n"
     ]
    },
    {
     "name": "stderr",
     "output_type": "stream",
     "text": [
      " 44%|████▎     | 1361/3113 [02:18<10:26,  2.80it/s]"
     ]
    },
    {
     "name": "stdout",
     "output_type": "stream",
     "text": [
      "Emotion scores for text: The future is gonna be fantastic https://t.co/I46t...\n"
     ]
    },
    {
     "name": "stderr",
     "output_type": "stream",
     "text": [
      " 44%|████▍     | 1363/3113 [02:19<09:16,  3.14it/s]"
     ]
    },
    {
     "name": "stdout",
     "output_type": "stream",
     "text": [
      "Emotion scores for text: The people of America gave @realDonaldTrump a crys...\n",
      "Emotion scores for text: You are the media now...\n"
     ]
    },
    {
     "name": "stderr",
     "output_type": "stream",
     "text": [
      " 44%|████▍     | 1365/3113 [02:19<07:28,  3.90it/s]"
     ]
    },
    {
     "name": "stdout",
     "output_type": "stream",
     "text": [
      "Emotion scores for text: Record usage of this platform!! https://t.co/SfWyi...\n",
      "Emotion scores for text: Let that sink in https://t.co/XvYFtDrhRm...\n"
     ]
    },
    {
     "name": "stderr",
     "output_type": "stream",
     "text": [
      " 44%|████▍     | 1366/3113 [02:20<07:24,  3.93it/s]"
     ]
    },
    {
     "name": "stdout",
     "output_type": "stream",
     "text": [
      "Emotion scores for text: 🇺🇸🇺🇸The future is gonna be so 🔥 🇺🇸🇺🇸 https://t.co/...\n"
     ]
    },
    {
     "name": "stderr",
     "output_type": "stream",
     "text": [
      " 44%|████▍     | 1368/3113 [02:20<06:36,  4.40it/s]"
     ]
    },
    {
     "name": "stdout",
     "output_type": "stream",
     "text": [
      "Emotion scores for text: America is a nation of builders\n",
      "Soon, you will be ...\n",
      "Emotion scores for text: Game, set and match...\n"
     ]
    },
    {
     "name": "stderr",
     "output_type": "stream",
     "text": [
      " 44%|████▍     | 1369/3113 [02:20<06:42,  4.33it/s]"
     ]
    },
    {
     "name": "stdout",
     "output_type": "stream",
     "text": [
      "Emotion scores for text: Great song \n",
      " https://t.co/7knOrvBfV3...\n"
     ]
    },
    {
     "name": "stderr",
     "output_type": "stream",
     "text": [
      " 44%|████▍     | 1371/3113 [02:21<07:38,  3.80it/s]"
     ]
    },
    {
     "name": "stdout",
     "output_type": "stream",
     "text": [
      "Emotion scores for text: Dark MAGA Assemble!\n",
      " https://t.co/JGqFQ1DTGO...\n",
      "Emotion scores for text: https://t.co/8LkbOhK082...\n"
     ]
    },
    {
     "name": "stderr",
     "output_type": "stream",
     "text": [
      " 44%|████▍     | 1372/3113 [02:21<07:42,  3.77it/s]"
     ]
    },
    {
     "name": "stdout",
     "output_type": "stream",
     "text": [
      "Emotion scores for text: Freeform discussion about the election\n",
      " https://t....\n"
     ]
    },
    {
     "name": "stderr",
     "output_type": "stream",
     "text": [
      " 44%|████▍     | 1373/3113 [02:21<07:58,  3.64it/s]"
     ]
    },
    {
     "name": "stdout",
     "output_type": "stream",
     "text": [
      "Emotion scores for text: Just voted in Cameron County, Texas, home of Starb...\n"
     ]
    },
    {
     "name": "stderr",
     "output_type": "stream",
     "text": [
      " 44%|████▍     | 1374/3113 [02:22<07:49,  3.71it/s]"
     ]
    },
    {
     "name": "stdout",
     "output_type": "stream",
     "text": [
      "Emotion scores for text: What today’s election feels like!\n",
      "\n",
      "🇺🇸🇺🇸🇺🇸Team Amer...\n"
     ]
    },
    {
     "name": "stderr",
     "output_type": "stream",
     "text": [
      " 44%|████▍     | 1375/3113 [02:22<07:19,  3.96it/s]"
     ]
    },
    {
     "name": "stdout",
     "output_type": "stream",
     "text": [
      "Emotion scores for text: The cavalry has arrived.\n",
      "\n",
      "Men are voting in record...\n"
     ]
    },
    {
     "name": "stderr",
     "output_type": "stream",
     "text": [
      " 44%|████▍     | 1376/3113 [02:23<11:28,  2.52it/s]"
     ]
    },
    {
     "name": "stdout",
     "output_type": "stream",
     "text": [
      "Emotion scores for text: Below are the R minus D early vote deltas in swing...\n"
     ]
    },
    {
     "name": "stderr",
     "output_type": "stream",
     "text": [
      " 44%|████▍     | 1378/3113 [02:23<08:52,  3.26it/s]"
     ]
    },
    {
     "name": "stdout",
     "output_type": "stream",
     "text": [
      "Emotion scores for text: Vote for @realDonaldTrump or the Dems will legaliz...\n",
      "Emotion scores for text: https://t.co/NKP6joXW05...\n"
     ]
    },
    {
     "name": "stderr",
     "output_type": "stream",
     "text": [
      " 44%|████▍     | 1379/3113 [02:23<07:41,  3.76it/s]"
     ]
    },
    {
     "name": "stdout",
     "output_type": "stream",
     "text": [
      "Emotion scores for text: Worth listening to this @JoeRogan episode before e...\n",
      "Emotion scores for text: https://t.co/UlhNZ56Z6D...\n"
     ]
    },
    {
     "name": "stderr",
     "output_type": "stream",
     "text": [
      " 44%|████▍     | 1381/3113 [02:24<05:34,  5.17it/s]"
     ]
    },
    {
     "name": "stdout",
     "output_type": "stream",
     "text": [
      "Emotion scores for text: https://t.co/eAQfN9Rj0v...\n",
      "Emotion scores for text: https://t.co/MLZ31M9bpR...\n"
     ]
    },
    {
     "name": "stderr",
     "output_type": "stream",
     "text": [
      " 44%|████▍     | 1384/3113 [02:24<04:19,  6.67it/s]"
     ]
    },
    {
     "name": "stdout",
     "output_type": "stream",
     "text": [
      "Emotion scores for text: Alarming, yet soothing\n",
      " https://t.co/SEjAglIqqK...\n",
      "Emotion scores for text: https://t.co/vkw2Gr7gse...\n"
     ]
    },
    {
     "name": "stderr",
     "output_type": "stream",
     "text": [
      " 44%|████▍     | 1385/3113 [02:24<04:05,  7.04it/s]"
     ]
    },
    {
     "name": "stdout",
     "output_type": "stream",
     "text": [
      "Emotion scores for text: https://t.co/h1k9z0DZ37...\n"
     ]
    },
    {
     "name": "stderr",
     "output_type": "stream",
     "text": [
      " 45%|████▍     | 1387/3113 [02:24<04:24,  6.53it/s]"
     ]
    },
    {
     "name": "stdout",
     "output_type": "stream",
     "text": [
      "Emotion scores for text: https://t.co/zJEdAaAGp8...\n",
      "Emotion scores for text: https://t.co/Cyb4pBicjJ...\n"
     ]
    },
    {
     "name": "stderr",
     "output_type": "stream",
     "text": [
      " 45%|████▍     | 1389/3113 [02:25<03:59,  7.20it/s]"
     ]
    },
    {
     "name": "stdout",
     "output_type": "stream",
     "text": [
      "Emotion scores for text: https://t.co/nrPa1tPdVX...\n",
      "Emotion scores for text: https://t.co/WXrmVxAetR...\n"
     ]
    },
    {
     "name": "stderr",
     "output_type": "stream",
     "text": [
      " 45%|████▍     | 1391/3113 [02:25<04:41,  6.11it/s]"
     ]
    },
    {
     "name": "stdout",
     "output_type": "stream",
     "text": [
      "Emotion scores for text: https://t.co/myUQzInILv...\n",
      "Emotion scores for text: I’m doing a digital town hall on 𝕏 tonight at 8:30...\n"
     ]
    },
    {
     "name": "stderr",
     "output_type": "stream",
     "text": [
      " 45%|████▍     | 1393/3113 [02:25<03:53,  7.36it/s]"
     ]
    },
    {
     "name": "stdout",
     "output_type": "stream",
     "text": [
      "Emotion scores for text: Accurate...\n",
      "Emotion scores for text: https://t.co/tDkwEZoVhu...\n"
     ]
    },
    {
     "name": "stderr",
     "output_type": "stream",
     "text": [
      " 45%|████▍     | 1394/3113 [02:25<04:14,  6.75it/s]"
     ]
    },
    {
     "name": "stdout",
     "output_type": "stream",
     "text": [
      "Emotion scores for text: 🎶 We been spending most our lives\n",
      "Livin' in an Ami...\n"
     ]
    },
    {
     "name": "stderr",
     "output_type": "stream",
     "text": [
      " 45%|████▍     | 1395/3113 [02:26<05:24,  5.29it/s]"
     ]
    },
    {
     "name": "stdout",
     "output_type": "stream",
     "text": [
      "Emotion scores for text: So here’s the thing … https://t.co/X9En85Qw1Z...\n"
     ]
    },
    {
     "name": "stderr",
     "output_type": "stream",
     "text": [
      " 45%|████▍     | 1397/3113 [02:26<07:29,  3.82it/s]"
     ]
    },
    {
     "name": "stdout",
     "output_type": "stream",
     "text": [
      "Emotion scores for text: https://t.co/0hebJPsbX0...\n",
      "Emotion scores for text: Vote \n",
      "For PNut!\n",
      "For Liberty!\n",
      "For Freedom!...\n"
     ]
    },
    {
     "name": "stderr",
     "output_type": "stream",
     "text": [
      " 45%|████▍     | 1398/3113 [02:27<08:38,  3.30it/s]"
     ]
    },
    {
     "name": "stdout",
     "output_type": "stream",
     "text": [
      "Emotion scores for text: What it’s like if someone only watches legacy medi...\n"
     ]
    },
    {
     "name": "stderr",
     "output_type": "stream",
     "text": [
      " 45%|████▍     | 1400/3113 [02:27<06:55,  4.12it/s]"
     ]
    },
    {
     "name": "stdout",
     "output_type": "stream",
     "text": [
      "Emotion scores for text: Putting only one Presidential candidate on right b...\n",
      "Emotion scores for text: https://t.co/kKi8kS8gnI...\n"
     ]
    },
    {
     "name": "stderr",
     "output_type": "stream",
     "text": [
      " 45%|████▌     | 1402/3113 [02:28<06:31,  4.38it/s]"
     ]
    },
    {
     "name": "stdout",
     "output_type": "stream",
     "text": [
      "Emotion scores for text: Pennsylvania is on track for a major Republican vi...\n",
      "Emotion scores for text: What it’s like living in a swing state https://t.c...\n"
     ]
    },
    {
     "name": "stderr",
     "output_type": "stream",
     "text": [
      " 45%|████▌     | 1404/3113 [02:28<05:27,  5.21it/s]"
     ]
    },
    {
     "name": "stdout",
     "output_type": "stream",
     "text": [
      "Emotion scores for text: Legacy media election interference \n",
      " https://t.co/...\n",
      "Emotion scores for text: Why is the Democratic Party so cruel? https://t.co...\n"
     ]
    },
    {
     "name": "stderr",
     "output_type": "stream",
     "text": [
      " 45%|████▌     | 1405/3113 [02:28<05:14,  5.43it/s]"
     ]
    },
    {
     "name": "stdout",
     "output_type": "stream",
     "text": [
      "Emotion scores for text: Democratic Party priority list … https://t.co/t25w...\n"
     ]
    },
    {
     "name": "stderr",
     "output_type": "stream",
     "text": [
      " 45%|████▌     | 1406/3113 [02:28<05:59,  4.75it/s]"
     ]
    },
    {
     "name": "stdout",
     "output_type": "stream",
     "text": [
      "Emotion scores for text: The Onion is less funny than a clown in a ⁦@Stephe...\n"
     ]
    },
    {
     "name": "stderr",
     "output_type": "stream",
     "text": [
      " 45%|████▌     | 1408/3113 [02:29<05:38,  5.03it/s]"
     ]
    },
    {
     "name": "stdout",
     "output_type": "stream",
     "text": [
      "Emotion scores for text: Yeah!\n",
      "\n",
      "Also, the legacy media says you’re far righ...\n",
      "Emotion scores for text: 𝕏 is 🥜 for 🐿️ rn...\n"
     ]
    },
    {
     "name": "stderr",
     "output_type": "stream",
     "text": [
      " 45%|████▌     | 1410/3113 [02:29<05:50,  4.86it/s]"
     ]
    },
    {
     "name": "stdout",
     "output_type": "stream",
     "text": [
      "Emotion scores for text: Danke schön, Deutschland! https://t.co/Hb0zYIPxYn...\n",
      "Emotion scores for text: “If you strike me down, I will become more powerfu...\n"
     ]
    },
    {
     "name": "stderr",
     "output_type": "stream",
     "text": [
      " 45%|████▌     | 1411/3113 [02:29<05:36,  5.06it/s]"
     ]
    },
    {
     "name": "stdout",
     "output_type": "stream",
     "text": [
      "Emotion scores for text: President @realDonaldTrump will save the squirrels...\n"
     ]
    },
    {
     "name": "stderr",
     "output_type": "stream",
     "text": [
      " 45%|████▌     | 1413/3113 [02:30<06:00,  4.71it/s]"
     ]
    },
    {
     "name": "stdout",
     "output_type": "stream",
     "text": [
      "Emotion scores for text: Republican early vote now is massively ahead of wh...\n",
      "Emotion scores for text: @minhdv82 @DimaZeniuk Derivation of moments of ine...\n"
     ]
    },
    {
     "name": "stderr",
     "output_type": "stream",
     "text": [
      " 45%|████▌     | 1414/3113 [02:30<05:54,  4.80it/s]"
     ]
    },
    {
     "name": "stdout",
     "output_type": "stream",
     "text": [
      "Emotion scores for text: Department of Government Efficiency \n",
      " https://t.co...\n"
     ]
    },
    {
     "name": "stderr",
     "output_type": "stream",
     "text": [
      " 45%|████▌     | 1416/3113 [02:31<06:42,  4.21it/s]"
     ]
    },
    {
     "name": "stdout",
     "output_type": "stream",
     "text": [
      "Emotion scores for text: Worth forwarding this to friends &amp; family\n",
      " htt...\n",
      "Emotion scores for text: Concerning https://t.co/aSM7lnY3M6...\n"
     ]
    },
    {
     "name": "stderr",
     "output_type": "stream",
     "text": [
      " 46%|████▌     | 1417/3113 [02:31<06:02,  4.68it/s]"
     ]
    },
    {
     "name": "stdout",
     "output_type": "stream",
     "text": [
      "Emotion scores for text: https://t.co/McEYKmBvak...\n"
     ]
    },
    {
     "name": "stderr",
     "output_type": "stream",
     "text": [
      " 46%|████▌     | 1419/3113 [02:31<05:37,  5.02it/s]"
     ]
    },
    {
     "name": "stdout",
     "output_type": "stream",
     "text": [
      "Emotion scores for text: Thank you everyone for subscribing to 𝕏 and suppor...\n",
      "Emotion scores for text: Yes...\n"
     ]
    },
    {
     "name": "stderr",
     "output_type": "stream",
     "text": [
      " 46%|████▌     | 1421/3113 [02:32<05:09,  5.47it/s]"
     ]
    },
    {
     "name": "stdout",
     "output_type": "stream",
     "text": [
      "Emotion scores for text: https://t.co/KLAUd4vcmY...\n",
      "Emotion scores for text: I was born 69 days after 4/20 👻\n",
      " https://t.co/gqM0...\n"
     ]
    },
    {
     "name": "stderr",
     "output_type": "stream",
     "text": [
      " 46%|████▌     | 1423/3113 [02:32<04:53,  5.76it/s]"
     ]
    },
    {
     "name": "stdout",
     "output_type": "stream",
     "text": [
      "Emotion scores for text: https://t.co/g49somRd0Y...\n",
      "Emotion scores for text: https://t.co/D3xwF6cWBr...\n"
     ]
    },
    {
     "name": "stderr",
     "output_type": "stream",
     "text": [
      " 46%|████▌     | 1425/3113 [02:32<06:23,  4.40it/s]"
     ]
    },
    {
     "name": "stdout",
     "output_type": "stream",
     "text": [
      "Emotion scores for text: What’s going on @JoshShapiroPA? https://t.co/B83kN...\n",
      "Emotion scores for text: The second Trump Presidency will be the most fun A...\n"
     ]
    },
    {
     "name": "stderr",
     "output_type": "stream",
     "text": [
      " 46%|████▌     | 1426/3113 [02:33<07:07,  3.94it/s]"
     ]
    },
    {
     "name": "stdout",
     "output_type": "stream",
     "text": [
      "Emotion scores for text: The 2024 Pennsylvania Republican vs Democrat vote ...\n",
      "Emotion scores for text: Exactly!...\n"
     ]
    },
    {
     "name": "stderr",
     "output_type": "stream",
     "text": [
      " 46%|████▌     | 1429/3113 [02:33<06:06,  4.59it/s]"
     ]
    },
    {
     "name": "stdout",
     "output_type": "stream",
     "text": [
      "Emotion scores for text: https://t.co/7AdcQws18U...\n",
      "Emotion scores for text: What’s going on @dominionvoting?\n",
      " https://t.co/2Y3...\n"
     ]
    },
    {
     "name": "stderr",
     "output_type": "stream",
     "text": [
      " 46%|████▌     | 1431/3113 [02:34<05:02,  5.56it/s]"
     ]
    },
    {
     "name": "stdout",
     "output_type": "stream",
     "text": [
      "Emotion scores for text: https://t.co/0jsw5Jcu9n...\n",
      "Emotion scores for text: https://t.co/uJvmOhuRK3...\n"
     ]
    },
    {
     "name": "stderr",
     "output_type": "stream",
     "text": [
      " 46%|████▌     | 1432/3113 [02:34<04:54,  5.72it/s]"
     ]
    },
    {
     "name": "stdout",
     "output_type": "stream",
     "text": [
      "Emotion scores for text: If you are aware of any election integrity issues,...\n",
      "Emotion scores for text: Biden just called half of America ‘garbage’...\n"
     ]
    },
    {
     "name": "stderr",
     "output_type": "stream",
     "text": [
      " 46%|████▌     | 1434/3113 [02:34<04:47,  5.85it/s]"
     ]
    },
    {
     "name": "stdout",
     "output_type": "stream",
     "text": [
      "Emotion scores for text: The Republican lead in North Carolina almost doubl...\n"
     ]
    },
    {
     "name": "stderr",
     "output_type": "stream",
     "text": [
      " 46%|████▌     | 1436/3113 [02:35<05:24,  5.18it/s]"
     ]
    },
    {
     "name": "stdout",
     "output_type": "stream",
     "text": [
      "Emotion scores for text: 🤣🤣 https://t.co/2V92VgEKJS...\n",
      "Emotion scores for text: https://t.co/SZWBGCiyJm...\n"
     ]
    },
    {
     "name": "stderr",
     "output_type": "stream",
     "text": [
      " 46%|████▌     | 1438/3113 [02:35<04:52,  5.73it/s]"
     ]
    },
    {
     "name": "stdout",
     "output_type": "stream",
     "text": [
      "Emotion scores for text: This is the last day you can request an absentee b...\n",
      "Emotion scores for text: Catherine Herridge exposes government corruption \n",
      "...\n"
     ]
    },
    {
     "name": "stderr",
     "output_type": "stream",
     "text": [
      " 46%|████▋     | 1440/3113 [02:35<04:49,  5.77it/s]"
     ]
    },
    {
     "name": "stdout",
     "output_type": "stream",
     "text": [
      "Emotion scores for text: Try submitting x-ray, PET, MRI or other medical im...\n",
      "Emotion scores for text: The right choice is clear as day https://t.co/BB1e...\n"
     ]
    },
    {
     "name": "stderr",
     "output_type": "stream",
     "text": [
      " 46%|████▋     | 1442/3113 [02:36<04:01,  6.91it/s]"
     ]
    },
    {
     "name": "stdout",
     "output_type": "stream",
     "text": [
      "Emotion scores for text: Great hat https://t.co/SGLFiVTxos...\n",
      "Emotion scores for text: https://t.co/xhMFiHLZFR...\n"
     ]
    },
    {
     "name": "stderr",
     "output_type": "stream",
     "text": [
      " 46%|████▋     | 1444/3113 [02:36<04:23,  6.33it/s]"
     ]
    },
    {
     "name": "stdout",
     "output_type": "stream",
     "text": [
      "Emotion scores for text: Full episode of @JoeRogan &amp; @realDonaldTrump a...\n",
      "Emotion scores for text: https://t.co/aWVStFQdMo...\n"
     ]
    },
    {
     "name": "stderr",
     "output_type": "stream",
     "text": [
      " 46%|████▋     | 1446/3113 [02:36<03:43,  7.47it/s]"
     ]
    },
    {
     "name": "stdout",
     "output_type": "stream",
     "text": [
      "Emotion scores for text: https://t.co/pa6lIyYVB2...\n",
      "Emotion scores for text: https://t.co/EWA9YAsJhP...\n"
     ]
    },
    {
     "name": "stderr",
     "output_type": "stream",
     "text": [
      " 47%|████▋     | 1448/3113 [02:36<04:03,  6.83it/s]"
     ]
    },
    {
     "name": "stdout",
     "output_type": "stream",
     "text": [
      "Emotion scores for text: Early votes in Pennsylvania now show Republicans d...\n",
      "Emotion scores for text: https://t.co/vrOfLycsbg...\n"
     ]
    },
    {
     "name": "stderr",
     "output_type": "stream",
     "text": [
      " 47%|████▋     | 1450/3113 [02:37<04:13,  6.57it/s]"
     ]
    },
    {
     "name": "stdout",
     "output_type": "stream",
     "text": [
      "Emotion scores for text: I am increasingly convinced that @Neuralink should...\n",
      "Emotion scores for text: @the_angry_npc @Jason Exactly...\n"
     ]
    },
    {
     "name": "stderr",
     "output_type": "stream",
     "text": [
      " 47%|████▋     | 1452/3113 [02:37<03:51,  7.18it/s]"
     ]
    },
    {
     "name": "stdout",
     "output_type": "stream",
     "text": [
      "Emotion scores for text: Arizona, Nevada &amp; North Carolina all showing a...\n",
      "Emotion scores for text: https://t.co/SZWBGCiyJm...\n"
     ]
    },
    {
     "name": "stderr",
     "output_type": "stream",
     "text": [
      " 47%|████▋     | 1454/3113 [02:37<04:08,  6.68it/s]"
     ]
    },
    {
     "name": "stdout",
     "output_type": "stream",
     "text": [
      "Emotion scores for text: Pennsylvania voter registration data from last wee...\n",
      "Emotion scores for text: Will get 69.420%, as foretold in the prophecy...\n"
     ]
    },
    {
     "name": "stderr",
     "output_type": "stream",
     "text": [
      " 47%|████▋     | 1456/3113 [02:38<04:43,  5.85it/s]"
     ]
    },
    {
     "name": "stdout",
     "output_type": "stream",
     "text": [
      "Emotion scores for text: Grok now understands images, even explaining the m...\n",
      "Emotion scores for text: https://t.co/IdvPHJdBE7...\n"
     ]
    },
    {
     "name": "stderr",
     "output_type": "stream",
     "text": [
      " 47%|████▋     | 1457/3113 [02:38<04:26,  6.21it/s]"
     ]
    },
    {
     "name": "stdout",
     "output_type": "stream",
     "text": [
      "Emotion scores for text: https://t.co/y0UCd5NvMj...\n"
     ]
    },
    {
     "name": "stderr",
     "output_type": "stream",
     "text": [
      " 47%|████▋     | 1459/3113 [02:38<05:56,  4.64it/s]"
     ]
    },
    {
     "name": "stdout",
     "output_type": "stream",
     "text": [
      "Emotion scores for text: https://t.co/FWpW6KYz6k...\n",
      "Emotion scores for text: LET’S GOOOO!!!!\n",
      " https://t.co/2ifjLk9iIT...\n"
     ]
    },
    {
     "name": "stderr",
     "output_type": "stream",
     "text": [
      " 47%|████▋     | 1461/3113 [02:39<04:55,  5.59it/s]"
     ]
    },
    {
     "name": "stdout",
     "output_type": "stream",
     "text": [
      "Emotion scores for text: https://t.co/aVk3rLClpT...\n",
      "Emotion scores for text: https://t.co/f1QTGwBrOo...\n"
     ]
    },
    {
     "name": "stderr",
     "output_type": "stream",
     "text": [
      " 47%|████▋     | 1463/3113 [02:39<04:40,  5.89it/s]"
     ]
    },
    {
     "name": "stdout",
     "output_type": "stream",
     "text": [
      "Emotion scores for text: At the @realDonaldTrump / @JDVance rally at Madiso...\n",
      "Emotion scores for text: https://t.co/D01bkG1R3c...\n"
     ]
    },
    {
     "name": "stderr",
     "output_type": "stream",
     "text": [
      " 47%|████▋     | 1465/3113 [02:39<03:56,  6.96it/s]"
     ]
    },
    {
     "name": "stdout",
     "output_type": "stream",
     "text": [
      "Emotion scores for text: https://t.co/VePF3EVr4b...\n",
      "Emotion scores for text: https://t.co/LYRgoi7Njt...\n"
     ]
    },
    {
     "name": "stderr",
     "output_type": "stream",
     "text": [
      " 47%|████▋     | 1467/3113 [02:40<03:49,  7.17it/s]"
     ]
    },
    {
     "name": "stdout",
     "output_type": "stream",
     "text": [
      "Emotion scores for text: Watch the @realDonaldTrump conversation with Joe R...\n",
      "Emotion scores for text: Bingo https://t.co/cEQg9IpL1M...\n"
     ]
    },
    {
     "name": "stderr",
     "output_type": "stream",
     "text": [
      " 47%|████▋     | 1469/3113 [02:40<03:40,  7.45it/s]"
     ]
    },
    {
     "name": "stdout",
     "output_type": "stream",
     "text": [
      "Emotion scores for text: Let’s turn even the blue states red!...\n",
      "Emotion scores for text: https://t.co/OjwToJ8mB6...\n"
     ]
    },
    {
     "name": "stderr",
     "output_type": "stream",
     "text": [
      " 47%|████▋     | 1471/3113 [02:40<03:43,  7.35it/s]"
     ]
    },
    {
     "name": "stdout",
     "output_type": "stream",
     "text": [
      "Emotion scores for text: Kamala is Cruel\n",
      " https://t.co/W2hxGAENSI...\n",
      "Emotion scores for text: Going on stage in Pennsylvania again tonight!\n",
      " htt...\n"
     ]
    },
    {
     "name": "stderr",
     "output_type": "stream",
     "text": [
      " 47%|████▋     | 1472/3113 [02:40<05:06,  5.35it/s]"
     ]
    },
    {
     "name": "stdout",
     "output_type": "stream",
     "text": [
      "Emotion scores for text: Don’t just open the Overton Window, knock down the...\n"
     ]
    },
    {
     "name": "stderr",
     "output_type": "stream",
     "text": [
      " 47%|████▋     | 1474/3113 [02:41<05:03,  5.41it/s]"
     ]
    },
    {
     "name": "stdout",
     "output_type": "stream",
     "text": [
      "Emotion scores for text: Doesn’t it seem odd that the same people who deman...\n",
      "Emotion scores for text: https://t.co/8eYm6lowI8...\n"
     ]
    },
    {
     "name": "stderr",
     "output_type": "stream",
     "text": [
      " 47%|████▋     | 1476/3113 [02:41<04:29,  6.07it/s]"
     ]
    },
    {
     "name": "stdout",
     "output_type": "stream",
     "text": [
      "Emotion scores for text: Trust those who return the shopping cart https://t...\n",
      "Emotion scores for text: Inflation … inflation everywhere! https://t.co/qY2...\n"
     ]
    },
    {
     "name": "stderr",
     "output_type": "stream",
     "text": [
      " 47%|████▋     | 1478/3113 [02:41<04:06,  6.62it/s]"
     ]
    },
    {
     "name": "stdout",
     "output_type": "stream",
     "text": [
      "Emotion scores for text: https://t.co/syJoQOp3dk...\n",
      "Emotion scores for text: The @joerogan conversation with @realDonaldTrump d...\n"
     ]
    },
    {
     "name": "stderr",
     "output_type": "stream",
     "text": [
      " 48%|████▊     | 1479/3113 [02:42<04:03,  6.72it/s]"
     ]
    },
    {
     "name": "stdout",
     "output_type": "stream",
     "text": [
      "Emotion scores for text: Virtual town hall regarding the election!\n",
      " https:/...\n",
      "Emotion scores for text: 🇺🇸🇺🇸🇺🇸 YES 🇺🇸🇺🇸🇺🇸...\n"
     ]
    },
    {
     "name": "stderr",
     "output_type": "stream",
     "text": [
      " 48%|████▊     | 1483/3113 [02:42<03:07,  8.71it/s]"
     ]
    },
    {
     "name": "stdout",
     "output_type": "stream",
     "text": [
      "Emotion scores for text: T150 clear in 3:25. Too much time spent killing mi...\n",
      "Emotion scores for text: https://t.co/CP6zqDHryc...\n",
      "Emotion scores for text: https://t.co/qjkpzwafOV...\n"
     ]
    },
    {
     "name": "stderr",
     "output_type": "stream",
     "text": [
      " 48%|████▊     | 1484/3113 [02:42<03:05,  8.79it/s]"
     ]
    },
    {
     "name": "stdout",
     "output_type": "stream",
     "text": [
      "Emotion scores for text: Amazing that this happened recently! https://t.co/...\n",
      "Emotion scores for text: https://t.co/1E0RSxzint...\n"
     ]
    },
    {
     "name": "stderr",
     "output_type": "stream",
     "text": [
      " 48%|████▊     | 1487/3113 [02:42<03:25,  7.93it/s]"
     ]
    },
    {
     "name": "stdout",
     "output_type": "stream",
     "text": [
      "Emotion scores for text: https://t.co/2OJ2SIGhF6...\n",
      "Emotion scores for text: T150 in 3:56 ... some progress https://t.co/euOQOH...\n"
     ]
    },
    {
     "name": "stderr",
     "output_type": "stream",
     "text": [
      " 48%|████▊     | 1489/3113 [02:43<03:10,  8.53it/s]"
     ]
    },
    {
     "name": "stdout",
     "output_type": "stream",
     "text": [
      "Emotion scores for text: Major vibe shift!...\n",
      "Emotion scores for text: SpaceX &amp; Tesla continue to execute extremely w...\n"
     ]
    },
    {
     "name": "stderr",
     "output_type": "stream",
     "text": [
      " 48%|████▊     | 1491/3113 [02:43<03:19,  8.14it/s]"
     ]
    },
    {
     "name": "stdout",
     "output_type": "stream",
     "text": [
      "Emotion scores for text: Something special about the Falcon Heavy simultane...\n",
      "Emotion scores for text: https://t.co/xQhdySjj9b...\n"
     ]
    },
    {
     "name": "stderr",
     "output_type": "stream",
     "text": [
      " 48%|████▊     | 1493/3113 [02:43<04:38,  5.81it/s]"
     ]
    },
    {
     "name": "stdout",
     "output_type": "stream",
     "text": [
      "Emotion scores for text: https://t.co/eMiECOiPji...\n",
      "Emotion scores for text: https://t.co/HLGv6SJzDa...\n"
     ]
    },
    {
     "name": "stderr",
     "output_type": "stream",
     "text": [
      " 48%|████▊     | 1494/3113 [02:44<04:23,  6.15it/s]"
     ]
    },
    {
     "name": "stdout",
     "output_type": "stream",
     "text": [
      "Emotion scores for text: It’s as if the 🤡 emoji came to life https://t.co/f...\n"
     ]
    },
    {
     "name": "stderr",
     "output_type": "stream",
     "text": [
      " 48%|████▊     | 1496/3113 [02:44<04:41,  5.75it/s]"
     ]
    },
    {
     "name": "stdout",
     "output_type": "stream",
     "text": [
      "Emotion scores for text: Some progress ... T150 in 4:11 (without the necro ...\n",
      "Emotion scores for text: Wild to think that Tesla’s mass flux is ~4 million...\n"
     ]
    },
    {
     "name": "stderr",
     "output_type": "stream",
     "text": [
      " 48%|████▊     | 1498/3113 [02:44<04:17,  6.26it/s]"
     ]
    },
    {
     "name": "stdout",
     "output_type": "stream",
     "text": [
      "Emotion scores for text: 🤨 https://t.co/i9pBaI52JL...\n",
      "Emotion scores for text: https://t.co/6ci6EHTDvn...\n"
     ]
    },
    {
     "name": "stderr",
     "output_type": "stream",
     "text": [
      " 48%|████▊     | 1501/3113 [02:45<03:42,  7.25it/s]"
     ]
    },
    {
     "name": "stdout",
     "output_type": "stream",
     "text": [
      "Emotion scores for text: Two weeks ago, the early vote delta in Pennsylvani...\n",
      "Emotion scores for text: @Fisher6Actual @MikeBenzCyber 😂...\n",
      "Emotion scores for text: Finished faster after masterworking my rod 3 times...\n"
     ]
    },
    {
     "name": "stderr",
     "output_type": "stream",
     "text": [
      " 48%|████▊     | 1503/3113 [02:45<03:12,  8.37it/s]"
     ]
    },
    {
     "name": "stdout",
     "output_type": "stream",
     "text": [
      "Emotion scores for text: Less than 6 hours left to register to vote in Penn...\n",
      "Emotion scores for text: @MikeyDWrestling @stclairashley 🔥...\n",
      "Emotion scores for text: The @xAI API is now live!...\n"
     ]
    },
    {
     "name": "stderr",
     "output_type": "stream",
     "text": [
      " 48%|████▊     | 1507/3113 [02:45<02:48,  9.54it/s]"
     ]
    },
    {
     "name": "stdout",
     "output_type": "stream",
     "text": [
      "Emotion scores for text: So many government agencies exist that even the go...\n",
      "Emotion scores for text: Take the red pill...\n",
      "Emotion scores for text: https://t.co/iQcXkRfShH...\n"
     ]
    },
    {
     "name": "stderr",
     "output_type": "stream",
     "text": [
      " 48%|████▊     | 1509/3113 [02:45<03:15,  8.21it/s]"
     ]
    },
    {
     "name": "stdout",
     "output_type": "stream",
     "text": [
      "Emotion scores for text: New Republican voter registration last week in Pen...\n",
      "Emotion scores for text: 😂 https://t.co/r6a0ft3uMi...\n",
      "Emotion scores for text: https://t.co/psdFwVL1PF...\n"
     ]
    },
    {
     "name": "stderr",
     "output_type": "stream",
     "text": [
      " 49%|████▊     | 1511/3113 [02:46<02:55,  9.12it/s]"
     ]
    },
    {
     "name": "stdout",
     "output_type": "stream",
     "text": [
      "Emotion scores for text: https://t.co/vBoXAj6jKk...\n"
     ]
    },
    {
     "name": "stderr",
     "output_type": "stream",
     "text": [
      " 49%|████▊     | 1512/3113 [02:46<03:34,  7.45it/s]"
     ]
    },
    {
     "name": "stdout",
     "output_type": "stream",
     "text": [
      "Emotion scores for text: All you need to do is sign the @America petition i...\n",
      "Emotion scores for text: This is awesome 😎 \n",
      " https://t.co/RMkE20qWo2...\n"
     ]
    },
    {
     "name": "stderr",
     "output_type": "stream",
     "text": [
      " 49%|████▊     | 1514/3113 [02:46<03:22,  7.90it/s]"
     ]
    },
    {
     "name": "stdout",
     "output_type": "stream",
     "text": [
      "Emotion scores for text: About to start a town hall discussion in Pittsburg...\n"
     ]
    },
    {
     "name": "stderr",
     "output_type": "stream",
     "text": [
      " 49%|████▊     | 1516/3113 [02:46<03:56,  6.76it/s]"
     ]
    },
    {
     "name": "stdout",
     "output_type": "stream",
     "text": [
      "Emotion scores for text: Good rule of thumb: those who frequently use the w...\n",
      "Emotion scores for text: 5 min T150 clear\n",
      "\n",
      "Hope there's some mid season con...\n"
     ]
    },
    {
     "name": "stderr",
     "output_type": "stream",
     "text": [
      " 49%|████▉     | 1518/3113 [02:47<04:33,  5.84it/s]"
     ]
    },
    {
     "name": "stdout",
     "output_type": "stream",
     "text": [
      "Emotion scores for text: Every day, from now through Nov 5, @America PAC wi...\n",
      "Emotion scores for text: https://t.co/kXMTmY3ZZO...\n"
     ]
    },
    {
     "name": "stderr",
     "output_type": "stream",
     "text": [
      " 49%|████▉     | 1520/3113 [02:47<03:52,  6.86it/s]"
     ]
    },
    {
     "name": "stdout",
     "output_type": "stream",
     "text": [
      "Emotion scores for text: So true 😂 https://t.co/XlhqlDdmlg...\n",
      "Emotion scores for text: Going live in Pennsylvania in 5 minutes!\n",
      " https://...\n"
     ]
    },
    {
     "name": "stderr",
     "output_type": "stream",
     "text": [
      " 49%|████▉     | 1522/3113 [02:47<04:01,  6.59it/s]"
     ]
    },
    {
     "name": "stdout",
     "output_type": "stream",
     "text": [
      "Emotion scores for text: SpaceX has come a long way, but we are still at th...\n",
      "Emotion scores for text: Catch as catch can https://t.co/n1jkdAwDDp...\n"
     ]
    },
    {
     "name": "stderr",
     "output_type": "stream",
     "text": [
      " 49%|████▉     | 1523/3113 [02:48<03:49,  6.92it/s]"
     ]
    },
    {
     "name": "stdout",
     "output_type": "stream",
     "text": [
      "Emotion scores for text: https://t.co/poWVmiEgkG...\n"
     ]
    },
    {
     "name": "stderr",
     "output_type": "stream",
     "text": [
      " 49%|████▉     | 1525/3113 [02:48<05:13,  5.06it/s]"
     ]
    },
    {
     "name": "stdout",
     "output_type": "stream",
     "text": [
      "Emotion scores for text: It’s wild being in Pennsylvania and seeing nonstop...\n",
      "Emotion scores for text: This is a beautiful composition \n",
      " https://t.co/gQz...\n"
     ]
    },
    {
     "name": "stderr",
     "output_type": "stream",
     "text": [
      " 49%|████▉     | 1527/3113 [02:48<04:21,  6.06it/s]"
     ]
    },
    {
     "name": "stdout",
     "output_type": "stream",
     "text": [
      "Emotion scores for text: https://t.co/NJONRtWgAm...\n",
      "Emotion scores for text: Washington DC has become an ever-increasing ocean ...\n"
     ]
    },
    {
     "name": "stderr",
     "output_type": "stream",
     "text": [
      " 49%|████▉     | 1529/3113 [02:49<03:46,  7.01it/s]"
     ]
    },
    {
     "name": "stdout",
     "output_type": "stream",
     "text": [
      "Emotion scores for text: Legacy (formerly mainstream) media are a chorus of...\n",
      "Emotion scores for text: Giving another talk in Pennsylvania!\n",
      " https://t.co...\n"
     ]
    },
    {
     "name": "stderr",
     "output_type": "stream",
     "text": [
      " 49%|████▉     | 1531/3113 [02:49<03:33,  7.43it/s]"
     ]
    },
    {
     "name": "stdout",
     "output_type": "stream",
     "text": [
      "Emotion scores for text: T150 clear without shroud and mediocre equipment.\n",
      "...\n",
      "Emotion scores for text: Vote against the machine!\n",
      " https://t.co/Wkz6dgAtWK...\n"
     ]
    },
    {
     "name": "stderr",
     "output_type": "stream",
     "text": [
      " 49%|████▉     | 1533/3113 [02:49<04:39,  5.65it/s]"
     ]
    },
    {
     "name": "stdout",
     "output_type": "stream",
     "text": [
      "Emotion scores for text: One could consider any given civilization’s progre...\n",
      "Emotion scores for text: If you’re a registered Pennsylvania voter, you &am...\n"
     ]
    },
    {
     "name": "stderr",
     "output_type": "stream",
     "text": [
      " 49%|████▉     | 1535/3113 [02:50<03:47,  6.94it/s]"
     ]
    },
    {
     "name": "stdout",
     "output_type": "stream",
     "text": [
      "Emotion scores for text: https://t.co/JO8rge9Oci...\n",
      "Emotion scores for text: Most based thing you could do in a Dem neighborhoo...\n",
      "Emotion scores for text: We need a video gamer voting block!\n",
      "\n",
      "Make Games Gr...\n"
     ]
    },
    {
     "name": "stderr",
     "output_type": "stream",
     "text": [
      " 49%|████▉     | 1538/3113 [02:50<03:05,  8.50it/s]"
     ]
    },
    {
     "name": "stdout",
     "output_type": "stream",
     "text": [
      "Emotion scores for text: https://t.co/rBIqn4y6tr...\n",
      "Emotion scores for text: Politics is absurdly tribal!\n",
      "\n",
      "Also, didn’t realize...\n",
      "Emotion scores for text: https://t.co/ccnvgP6d1K...\n"
     ]
    },
    {
     "name": "stderr",
     "output_type": "stream",
     "text": [
      " 50%|████▉     | 1542/3113 [02:50<02:22, 11.01it/s]"
     ]
    },
    {
     "name": "stdout",
     "output_type": "stream",
     "text": [
      "Emotion scores for text: Exactly!...\n",
      "Emotion scores for text: https://t.co/JNTgEMy5xL...\n",
      "Emotion scores for text: Starbase is incredible...\n"
     ]
    },
    {
     "name": "stderr",
     "output_type": "stream",
     "text": [
      " 50%|████▉     | 1544/3113 [02:50<02:21, 11.06it/s]"
     ]
    },
    {
     "name": "stdout",
     "output_type": "stream",
     "text": [
      "Emotion scores for text: https://t.co/e9AloDc5y9...\n",
      "Emotion scores for text: Funnier than any parody 🤣🤣\n",
      "https://t.co/lraBYGdDet...\n"
     ]
    },
    {
     "name": "stderr",
     "output_type": "stream",
     "text": [
      " 50%|████▉     | 1546/3113 [02:51<02:33, 10.24it/s]"
     ]
    },
    {
     "name": "stdout",
     "output_type": "stream",
     "text": [
      "Emotion scores for text: Diablo T150 clear with @Rob_2628 🔥🔥 https://t.co/l...\n",
      "Emotion scores for text: Killed The Drowned Sea Hag in 30 secs at Tier 145 ...\n"
     ]
    },
    {
     "name": "stderr",
     "output_type": "stream",
     "text": [
      " 50%|████▉     | 1548/3113 [02:51<02:32, 10.23it/s]"
     ]
    },
    {
     "name": "stdout",
     "output_type": "stream",
     "text": [
      "Emotion scores for text: Great energy from @SpaceX fans in Mexico\n",
      " https://...\n",
      "Emotion scores for text: https://t.co/95HT0rwBQa...\n",
      "Emotion scores for text: https://t.co/zEiq8i68lM...\n"
     ]
    },
    {
     "name": "stderr",
     "output_type": "stream",
     "text": [
      " 50%|████▉     | 1550/3113 [02:51<02:29, 10.43it/s]"
     ]
    },
    {
     "name": "stdout",
     "output_type": "stream",
     "text": [
      "Emotion scores for text: @jamesfynn_ @WR4NYGov @BBCWorld 🦾😂...\n",
      "Emotion scores for text: Need to fix my gear, then try for 150.\n",
      "\n",
      "Will do so...\n"
     ]
    },
    {
     "name": "stderr",
     "output_type": "stream",
     "text": [
      " 50%|████▉     | 1552/3113 [02:51<02:59,  8.71it/s]"
     ]
    },
    {
     "name": "stdout",
     "output_type": "stream",
     "text": [
      "Emotion scores for text: It is important in this often difficult and troubl...\n"
     ]
    },
    {
     "name": "stderr",
     "output_type": "stream",
     "text": [
      " 50%|████▉     | 1554/3113 [02:52<03:30,  7.41it/s]"
     ]
    },
    {
     "name": "stdout",
     "output_type": "stream",
     "text": [
      "Emotion scores for text: Even rockets need hugs 🥰 https://t.co/oF36F0AvBf...\n",
      "Emotion scores for text: https://t.co/fHt0SGL0XL...\n"
     ]
    },
    {
     "name": "stderr",
     "output_type": "stream",
     "text": [
      " 50%|████▉     | 1556/3113 [02:52<03:18,  7.86it/s]"
     ]
    },
    {
     "name": "stdout",
     "output_type": "stream",
     "text": [
      "Emotion scores for text: https://t.co/TRbXqFpGpr...\n",
      "Emotion scores for text: https://t.co/tuG6M5cSM3...\n"
     ]
    },
    {
     "name": "stderr",
     "output_type": "stream",
     "text": [
      " 50%|█████     | 1559/3113 [02:52<03:56,  6.58it/s]"
     ]
    },
    {
     "name": "stdout",
     "output_type": "stream",
     "text": [
      "Emotion scores for text: Just inspected the Starship booster, which the arm...\n",
      "Emotion scores for text: https://t.co/ZOvkj5idCY...\n",
      "Emotion scores for text: Starship rocket booster caught by tower https://t....\n"
     ]
    },
    {
     "name": "stderr",
     "output_type": "stream",
     "text": [
      " 50%|█████     | 1561/3113 [02:53<03:22,  7.68it/s]"
     ]
    },
    {
     "name": "stdout",
     "output_type": "stream",
     "text": [
      "Emotion scores for text: Good morning https://t.co/0BBDo4Cut3...\n",
      "Emotion scores for text: The tower has caught the rocket!!\n",
      " https://t.co/CP...\n",
      "Emotion scores for text: Profile pic changed to Starship Flight 5...\n"
     ]
    },
    {
     "name": "stderr",
     "output_type": "stream",
     "text": [
      " 50%|█████     | 1565/3113 [02:53<02:34, 10.00it/s]"
     ]
    },
    {
     "name": "stdout",
     "output_type": "stream",
     "text": [
      "Emotion scores for text: https://t.co/tFdbzmCYHM...\n",
      "Emotion scores for text: https://t.co/QvnQIWoIvN...\n",
      "Emotion scores for text: https://t.co/AkrJgh58L2...\n"
     ]
    },
    {
     "name": "stderr",
     "output_type": "stream",
     "text": [
      " 50%|█████     | 1567/3113 [02:53<02:44,  9.37it/s]"
     ]
    },
    {
     "name": "stdout",
     "output_type": "stream",
     "text": [
      "Emotion scores for text: This is the actual interior of the Robobus/van htt...\n",
      "Emotion scores for text: https://t.co/VK9vlGF0Ms...\n"
     ]
    },
    {
     "name": "stderr",
     "output_type": "stream",
     "text": [
      " 50%|█████     | 1569/3113 [02:53<02:36,  9.84it/s]"
     ]
    },
    {
     "name": "stdout",
     "output_type": "stream",
     "text": [
      "Emotion scores for text: Futuristic Art Deco Bus https://t.co/4DDqJtGATU...\n",
      "Emotion scores for text: Starting...\n",
      "Emotion scores for text: A person in the crowd had a medical emergency. We ...\n"
     ]
    },
    {
     "name": "stderr",
     "output_type": "stream",
     "text": [
      " 51%|█████     | 1573/3113 [02:54<02:27, 10.47it/s]"
     ]
    },
    {
     "name": "stdout",
     "output_type": "stream",
     "text": [
      "Emotion scores for text: https://t.co/U6uQsqPsGU...\n",
      "Emotion scores for text: Domo Arigato...\n",
      "Emotion scores for text: New profile pic 🤖...\n"
     ]
    },
    {
     "name": "stderr",
     "output_type": "stream",
     "text": [
      " 51%|█████     | 1575/3113 [02:54<02:33, 10.04it/s]"
     ]
    },
    {
     "name": "stdout",
     "output_type": "stream",
     "text": [
      "Emotion scores for text: Only a man of culture can clear level 69 ... https...\n",
      "Emotion scores for text: 😢 https://t.co/VwFodGQ8Mq...\n"
     ]
    },
    {
     "name": "stderr",
     "output_type": "stream",
     "text": [
      " 51%|█████     | 1577/3113 [02:54<03:11,  8.04it/s]"
     ]
    },
    {
     "name": "stdout",
     "output_type": "stream",
     "text": [
      "Emotion scores for text: Excellent summary of the lawfare case against @rea...\n",
      "Emotion scores for text: 💯\n",
      " https://t.co/lrfyLK3ID9...\n"
     ]
    },
    {
     "name": "stderr",
     "output_type": "stream",
     "text": [
      " 51%|█████     | 1580/3113 [02:55<02:50,  9.01it/s]"
     ]
    },
    {
     "name": "stdout",
     "output_type": "stream",
     "text": [
      "Emotion scores for text: https://t.co/vgvQJ9iCMV...\n",
      "Emotion scores for text: 🤨 \n",
      " https://t.co/1o6Vy4L3Le...\n",
      "Emotion scores for text: https://t.co/lyXp5GeVHO...\n"
     ]
    },
    {
     "name": "stderr",
     "output_type": "stream",
     "text": [
      " 51%|█████     | 1582/3113 [02:55<02:37,  9.74it/s]"
     ]
    },
    {
     "name": "stdout",
     "output_type": "stream",
     "text": [
      "Emotion scores for text: https://t.co/pTN0O8emBs...\n",
      "Emotion scores for text: Tomorrow is the last day to register to vote in Ge...\n",
      "Emotion scores for text: https://t.co/ksK3C6e0qb...\n"
     ]
    },
    {
     "name": "stderr",
     "output_type": "stream",
     "text": [
      " 51%|█████     | 1584/3113 [02:55<02:33,  9.97it/s]"
     ]
    },
    {
     "name": "stdout",
     "output_type": "stream",
     "text": [
      "Emotion scores for text: https://t.co/XjTHCNw7B5...\n",
      "Emotion scores for text: https://t.co/Ze3Dc460wH...\n"
     ]
    },
    {
     "name": "stderr",
     "output_type": "stream",
     "text": [
      " 51%|█████     | 1586/3113 [02:55<02:36,  9.73it/s]"
     ]
    },
    {
     "name": "stdout",
     "output_type": "stream",
     "text": [
      "Emotion scores for text: https://t.co/y4XDCdRyEX...\n",
      "Emotion scores for text: Incredible crowd today at the rally in Pennsylvani...\n"
     ]
    },
    {
     "name": "stderr",
     "output_type": "stream",
     "text": [
      " 51%|█████     | 1590/3113 [02:56<02:37,  9.64it/s]"
     ]
    },
    {
     "name": "stdout",
     "output_type": "stream",
     "text": [
      "Emotion scores for text: Make sure everyone you know has registered to vote...\n",
      "Emotion scores for text: Make America Based Again!...\n",
      "Emotion scores for text: https://t.co/3rp9bd61kX...\n"
     ]
    },
    {
     "name": "stderr",
     "output_type": "stream",
     "text": [
      " 51%|█████     | 1592/3113 [02:56<02:52,  8.84it/s]"
     ]
    },
    {
     "name": "stdout",
     "output_type": "stream",
     "text": [
      "Emotion scores for text: Almost 10 million people watching!\n",
      " https://t.co/q...\n",
      "Emotion scores for text: Live from the @realDonaldTrump rally in Pennsylvan...\n"
     ]
    },
    {
     "name": "stderr",
     "output_type": "stream",
     "text": [
      " 51%|█████     | 1593/3113 [02:56<02:57,  8.58it/s]"
     ]
    },
    {
     "name": "stdout",
     "output_type": "stream",
     "text": [
      "Emotion scores for text: Headed to Pennsylvania to speak at the @realDonald...\n",
      "Emotion scores for text: Exactly...\n"
     ]
    },
    {
     "name": "stderr",
     "output_type": "stream",
     "text": [
      " 51%|█████▏    | 1596/3113 [02:57<04:08,  6.11it/s]"
     ]
    },
    {
     "name": "stdout",
     "output_type": "stream",
     "text": [
      "Emotion scores for text: SpaceX engineers are trying to deliver Starlink te...\n",
      "Emotion scores for text: Just received this text 20 mins ago.\n",
      "\n",
      "The level of...\n"
     ]
    },
    {
     "name": "stderr",
     "output_type": "stream",
     "text": [
      " 51%|█████▏    | 1598/3113 [02:57<05:30,  4.58it/s]"
     ]
    },
    {
     "name": "stdout",
     "output_type": "stream",
     "text": [
      "Emotion scores for text: Just received this note from a SpaceX engineer hel...\n",
      "Emotion scores for text: https://t.co/r6OdUkN0uJ...\n"
     ]
    },
    {
     "name": "stderr",
     "output_type": "stream",
     "text": [
      " 51%|█████▏    | 1600/3113 [02:58<04:23,  5.74it/s]"
     ]
    },
    {
     "name": "stdout",
     "output_type": "stream",
     "text": [
      "Emotion scores for text: https://t.co/rlgyuMtANk...\n",
      "Emotion scores for text: If I bring up Trump in LA, people react like they ...\n"
     ]
    },
    {
     "name": "stderr",
     "output_type": "stream",
     "text": [
      " 51%|█████▏    | 1602/3113 [02:58<03:34,  7.03it/s]"
     ]
    },
    {
     "name": "stdout",
     "output_type": "stream",
     "text": [
      "Emotion scores for text: @midcommentator @FrankDeScushin !!...\n",
      "Emotion scores for text: Earth will literally explode if DJT loses! 😂 https...\n"
     ]
    },
    {
     "name": "stderr",
     "output_type": "stream",
     "text": [
      " 52%|█████▏    | 1605/3113 [02:58<03:18,  7.62it/s]"
     ]
    },
    {
     "name": "stdout",
     "output_type": "stream",
     "text": [
      "Emotion scores for text: As a reminder, I am very much in favor of expedite...\n",
      "Emotion scores for text: https://t.co/BbMsXojbvk...\n",
      "Emotion scores for text: 𝕏 is the #1 source for news on Earth! https://t.co...\n"
     ]
    },
    {
     "name": "stderr",
     "output_type": "stream",
     "text": [
      " 52%|█████▏    | 1607/3113 [02:58<03:15,  7.71it/s]"
     ]
    },
    {
     "name": "stdout",
     "output_type": "stream",
     "text": [
      "Emotion scores for text: Only 5 days left to register to vote in Georgia!\n",
      "\n",
      "...\n",
      "Emotion scores for text: Mind-blowing that Tim Walz said he was “friends wi...\n"
     ]
    },
    {
     "name": "stderr",
     "output_type": "stream",
     "text": [
      " 52%|█████▏    | 1610/3113 [02:59<02:47,  8.96it/s]"
     ]
    },
    {
     "name": "stdout",
     "output_type": "stream",
     "text": [
      "Emotion scores for text: Trump/Vance MUST win. I can’t handle 4 years of se...\n",
      "Emotion scores for text: VP Debate\n",
      " https://t.co/rduXsZKimd...\n",
      "Emotion scores for text: Arizona’s voter registration deadline is only a we...\n"
     ]
    },
    {
     "name": "stderr",
     "output_type": "stream",
     "text": [
      " 52%|█████▏    | 1613/3113 [02:59<02:54,  8.61it/s]"
     ]
    },
    {
     "name": "stdout",
     "output_type": "stream",
     "text": [
      "Emotion scores for text: If you live in Pennsylvania and haven’t registered...\n",
      "Emotion scores for text: https://t.co/8xc5SxeLah...\n",
      "Emotion scores for text: As this video describes, Trump supports women’s ri...\n"
     ]
    },
    {
     "name": "stderr",
     "output_type": "stream",
     "text": [
      " 52%|█████▏    | 1615/3113 [02:59<03:07,  7.98it/s]"
     ]
    },
    {
     "name": "stdout",
     "output_type": "stream",
     "text": [
      "Emotion scores for text: https://t.co/Wgu1nLuuyv...\n",
      "Emotion scores for text: Mind-blowing that the Democratic Party is massivel...\n"
     ]
    },
    {
     "name": "stderr",
     "output_type": "stream",
     "text": [
      " 52%|█████▏    | 1617/3113 [03:00<03:26,  7.26it/s]"
     ]
    },
    {
     "name": "stdout",
     "output_type": "stream",
     "text": [
      "Emotion scores for text: Worth posting again lol https://t.co/hRbz89kWNB...\n",
      "Emotion scores for text: Since the Hurricane Helene disaster, SpaceX has se...\n"
     ]
    },
    {
     "name": "stderr",
     "output_type": "stream",
     "text": [
      " 52%|█████▏    | 1620/3113 [03:00<03:00,  8.27it/s]"
     ]
    },
    {
     "name": "stdout",
     "output_type": "stream",
     "text": [
      "Emotion scores for text: Due to immediate and excessive use of bold font on...\n",
      "Emotion scores for text: Interesting article https://t.co/ChMrv2HhDO...\n",
      "Emotion scores for text: https://t.co/QRUWp363eX...\n"
     ]
    },
    {
     "name": "stderr",
     "output_type": "stream",
     "text": [
      " 52%|█████▏    | 1622/3113 [03:00<02:43,  9.15it/s]"
     ]
    },
    {
     "name": "stdout",
     "output_type": "stream",
     "text": [
      "Emotion scores for text: Coffee in the morning is so great https://t.co/NOt...\n",
      "Emotion scores for text: https://t.co/lC6PJIungz...\n"
     ]
    },
    {
     "name": "stderr",
     "output_type": "stream",
     "text": [
      " 52%|█████▏    | 1625/3113 [03:01<02:43,  9.07it/s]"
     ]
    },
    {
     "name": "stdout",
     "output_type": "stream",
     "text": [
      "Emotion scores for text: SpaceX Dragon launching @NASA astronauts to the @S...\n",
      "Emotion scores for text: Community Note Hall-of-Famer! https://t.co/paBhlYS...\n",
      "Emotion scores for text: https://t.co/PHPAbiYagy...\n"
     ]
    },
    {
     "name": "stderr",
     "output_type": "stream",
     "text": [
      " 52%|█████▏    | 1627/3113 [03:01<02:35,  9.57it/s]"
     ]
    },
    {
     "name": "stdout",
     "output_type": "stream",
     "text": [
      "Emotion scores for text: https://t.co/PSegFcnrtf...\n",
      "Emotion scores for text: https://t.co/75P4o1nW0Q...\n"
     ]
    },
    {
     "name": "stderr",
     "output_type": "stream",
     "text": [
      " 52%|█████▏    | 1628/3113 [03:01<02:39,  9.29it/s]"
     ]
    },
    {
     "name": "stdout",
     "output_type": "stream",
     "text": [
      "Emotion scores for text: The scale of the deception is jawdropping\n",
      "https://...\n"
     ]
    },
    {
     "name": "stderr",
     "output_type": "stream",
     "text": [
      " 52%|█████▏    | 1630/3113 [03:01<03:37,  6.81it/s]"
     ]
    },
    {
     "name": "stdout",
     "output_type": "stream",
     "text": [
      "Emotion scores for text: Criminals vote overwhelmingly for the Democratic P...\n",
      "Emotion scores for text: Looks like CGI, but these are all real video highl...\n"
     ]
    },
    {
     "name": "stderr",
     "output_type": "stream",
     "text": [
      " 52%|█████▏    | 1631/3113 [03:01<04:05,  6.05it/s]"
     ]
    },
    {
     "name": "stdout",
     "output_type": "stream",
     "text": [
      "Emotion scores for text: They are importing voters. It is obvious. https://...\n"
     ]
    },
    {
     "name": "stderr",
     "output_type": "stream",
     "text": [
      " 52%|█████▏    | 1632/3113 [03:02<04:35,  5.38it/s]"
     ]
    },
    {
     "name": "stdout",
     "output_type": "stream",
     "text": [
      "Emotion scores for text: Once you understand Kardashev Scale, it becomes ut...\n"
     ]
    },
    {
     "name": "stderr",
     "output_type": "stream",
     "text": [
      " 52%|█████▏    | 1634/3113 [03:02<05:46,  4.27it/s]"
     ]
    },
    {
     "name": "stdout",
     "output_type": "stream",
     "text": [
      "Emotion scores for text: America is being smothered by ever larger mountain...\n",
      "Emotion scores for text: How time flies! https://t.co/xgl7Zr05tR...\n"
     ]
    },
    {
     "name": "stderr",
     "output_type": "stream",
     "text": [
      " 53%|█████▎    | 1636/3113 [03:03<04:38,  5.30it/s]"
     ]
    },
    {
     "name": "stdout",
     "output_type": "stream",
     "text": [
      "Emotion scores for text: This will be one for the history books https://t.c...\n",
      "Emotion scores for text: Wow, the stress of being President really changes ...\n"
     ]
    },
    {
     "name": "stderr",
     "output_type": "stream",
     "text": [
      " 53%|█████▎    | 1638/3113 [03:03<04:38,  5.29it/s]"
     ]
    },
    {
     "name": "stdout",
     "output_type": "stream",
     "text": [
      "Emotion scores for text: Great speech by @nayibbukele!\n",
      " https://t.co/Ni7thj...\n",
      "Emotion scores for text: Great meeting with @CyrilRamaphosa https://t.co/XL...\n"
     ]
    },
    {
     "name": "stderr",
     "output_type": "stream",
     "text": [
      " 53%|█████▎    | 1640/3113 [03:03<04:13,  5.81it/s]"
     ]
    },
    {
     "name": "stdout",
     "output_type": "stream",
     "text": [
      "Emotion scores for text: https://t.co/h6cqqTRdGd...\n",
      "Emotion scores for text: https://t.co/USFDkREBBF...\n"
     ]
    },
    {
     "name": "stderr",
     "output_type": "stream",
     "text": [
      " 53%|█████▎    | 1642/3113 [03:04<03:35,  6.83it/s]"
     ]
    },
    {
     "name": "stdout",
     "output_type": "stream",
     "text": [
      "Emotion scores for text: https://t.co/vd6ucgyeOh...\n",
      "Emotion scores for text: Starship Super Heavy Booster Flight 4 https://t.co...\n"
     ]
    },
    {
     "name": "stderr",
     "output_type": "stream",
     "text": [
      " 53%|█████▎    | 1643/3113 [03:04<03:42,  6.61it/s]"
     ]
    },
    {
     "name": "stdout",
     "output_type": "stream",
     "text": [
      "Emotion scores for text: Send this link to friends who think @realDonaldTru...\n"
     ]
    },
    {
     "name": "stderr",
     "output_type": "stream",
     "text": [
      " 53%|█████▎    | 1645/3113 [03:04<04:10,  5.86it/s]"
     ]
    },
    {
     "name": "stdout",
     "output_type": "stream",
     "text": [
      "Emotion scores for text: Falcon 9\n",
      " https://t.co/8KJgbGayJu...\n",
      "Emotion scores for text: 🤣🤣\n",
      " https://t.co/vWOmJiWhO2...\n"
     ]
    },
    {
     "name": "stderr",
     "output_type": "stream",
     "text": [
      " 53%|█████▎    | 1647/3113 [03:04<03:44,  6.52it/s]"
     ]
    },
    {
     "name": "stdout",
     "output_type": "stream",
     "text": [
      "Emotion scores for text: https://t.co/85u4NWnQJA...\n",
      "Emotion scores for text: This is funny 😂\n",
      " https://t.co/FyEATwmprJ...\n"
     ]
    },
    {
     "name": "stderr",
     "output_type": "stream",
     "text": [
      " 53%|█████▎    | 1649/3113 [03:05<03:35,  6.80it/s]"
     ]
    },
    {
     "name": "stdout",
     "output_type": "stream",
     "text": [
      "Emotion scores for text: Starship Super Heavy Booster held at catch height ...\n",
      "Emotion scores for text: Awesome 🔥🔥\n",
      " https://t.co/FoizzE2eYv...\n"
     ]
    },
    {
     "name": "stderr",
     "output_type": "stream",
     "text": [
      " 53%|█████▎    | 1650/3113 [03:05<04:04,  5.99it/s]"
     ]
    },
    {
     "name": "stdout",
     "output_type": "stream",
     "text": [
      "Emotion scores for text: Wow, so crazy that @vkhosla put this sign on a pub...\n"
     ]
    },
    {
     "name": "stderr",
     "output_type": "stream",
     "text": [
      " 53%|█████▎    | 1652/3113 [03:05<04:20,  5.60it/s]"
     ]
    },
    {
     "name": "stdout",
     "output_type": "stream",
     "text": [
      "Emotion scores for text: If the left hadn’t on the left then they would be ...\n",
      "Emotion scores for text: Shouldn’t the head of an organization responsible ...\n"
     ]
    },
    {
     "name": "stderr",
     "output_type": "stream",
     "text": [
      " 53%|█████▎    | 1654/3113 [03:06<04:04,  5.97it/s]"
     ]
    },
    {
     "name": "stdout",
     "output_type": "stream",
     "text": [
      "Emotion scores for text: Shanghai just experienced the most powerful typhoo...\n",
      "Emotion scores for text: https://t.co/PShWKMtCBU...\n"
     ]
    },
    {
     "name": "stderr",
     "output_type": "stream",
     "text": [
      " 53%|█████▎    | 1655/3113 [03:06<03:42,  6.54it/s]"
     ]
    },
    {
     "name": "stdout",
     "output_type": "stream",
     "text": [
      "Emotion scores for text: Wow...\n"
     ]
    },
    {
     "name": "stderr",
     "output_type": "stream",
     "text": [
      " 53%|█████▎    | 1657/3113 [03:06<04:14,  5.73it/s]"
     ]
    },
    {
     "name": "stdout",
     "output_type": "stream",
     "text": [
      "Emotion scores for text: Atheism left an empty space\n",
      "Secular religion took ...\n",
      "Emotion scores for text: https://t.co/RBRefTOQqR...\n"
     ]
    },
    {
     "name": "stderr",
     "output_type": "stream",
     "text": [
      " 53%|█████▎    | 1659/3113 [03:06<03:28,  6.98it/s]"
     ]
    },
    {
     "name": "stdout",
     "output_type": "stream",
     "text": [
      "Emotion scores for text: Any sufficiently advanced magic is indistinguishab...\n",
      "Emotion scores for text: Testing Starlink streaming continuity from while a...\n"
     ]
    },
    {
     "name": "stderr",
     "output_type": "stream",
     "text": [
      " 53%|█████▎    | 1661/3113 [03:07<03:09,  7.68it/s]"
     ]
    },
    {
     "name": "stdout",
     "output_type": "stream",
     "text": [
      "Emotion scores for text: Giga Texas, Tesla Headquarters https://t.co/eqbIP1...\n",
      "Emotion scores for text: It has been 18 years since the first Falcon flight...\n",
      "Emotion scores for text: The carousel of destiny spins ever faster...\n"
     ]
    },
    {
     "name": "stderr",
     "output_type": "stream",
     "text": [
      " 53%|█████▎    | 1664/3113 [03:07<02:52,  8.41it/s]"
     ]
    },
    {
     "name": "stdout",
     "output_type": "stream",
     "text": [
      "Emotion scores for text: Turns out that jokes are WAY less funny if people ...\n",
      "Emotion scores for text: Well, one lesson I’ve learned is that just because...\n"
     ]
    },
    {
     "name": "stderr",
     "output_type": "stream",
     "text": [
      " 54%|█████▎    | 1666/3113 [03:07<02:34,  9.34it/s]"
     ]
    },
    {
     "name": "stdout",
     "output_type": "stream",
     "text": [
      "Emotion scores for text: Why are so many people raging FOR the machine? 😂...\n",
      "Emotion scores for text: The media is a Democrat propaganda machine https:/...\n",
      "Emotion scores for text: This is exactly what is happening \n",
      " https://t.co/q...\n"
     ]
    },
    {
     "name": "stderr",
     "output_type": "stream",
     "text": [
      " 54%|█████▎    | 1670/3113 [03:07<02:20, 10.28it/s]"
     ]
    },
    {
     "name": "stdout",
     "output_type": "stream",
     "text": [
      "Emotion scores for text: https://t.co/BWYNinFPpY...\n",
      "Emotion scores for text: Once upon a dream https://t.co/W0EGxKQL4r...\n",
      "Emotion scores for text: New TV series \n",
      " https://t.co/edAowXuCxQ...\n"
     ]
    },
    {
     "name": "stderr",
     "output_type": "stream",
     "text": [
      " 54%|█████▎    | 1672/3113 [03:08<02:30,  9.57it/s]"
     ]
    },
    {
     "name": "stdout",
     "output_type": "stream",
     "text": [
      "Emotion scores for text: 😂 https://t.co/B49I33kPPW...\n",
      "Emotion scores for text: Inspiring words from @rookisaacman \n",
      " https://t.co/...\n"
     ]
    },
    {
     "name": "stderr",
     "output_type": "stream",
     "text": [
      " 54%|█████▍    | 1674/3113 [03:08<02:46,  8.62it/s]"
     ]
    },
    {
     "name": "stdout",
     "output_type": "stream",
     "text": [
      "Emotion scores for text: Emerging from Dragon for spacewalk https://t.co/Of...\n",
      "Emotion scores for text: Dragon hatch is open and the cabin is now at vacuu...\n"
     ]
    },
    {
     "name": "stderr",
     "output_type": "stream",
     "text": [
      " 54%|█████▍    | 1676/3113 [03:08<03:00,  7.98it/s]"
     ]
    },
    {
     "name": "stdout",
     "output_type": "stream",
     "text": [
      "Emotion scores for text: https://t.co/0GHYnRzGdO...\n",
      "Emotion scores for text: If you can’t smell your WiFi, how do you know it’s...\n"
     ]
    },
    {
     "name": "stderr",
     "output_type": "stream",
     "text": [
      " 54%|█████▍    | 1679/3113 [03:08<02:27,  9.71it/s]"
     ]
    },
    {
     "name": "stdout",
     "output_type": "stream",
     "text": [
      "Emotion scores for text: https://t.co/2UMAtRtlba...\n",
      "Emotion scores for text: Department \n",
      "Of\n",
      "Government \n",
      "Efficiency...\n",
      "Emotion scores for text: Absolutely...\n"
     ]
    },
    {
     "name": "stderr",
     "output_type": "stream",
     "text": [
      " 54%|█████▍    | 1681/3113 [03:09<02:41,  8.88it/s]"
     ]
    },
    {
     "name": "stdout",
     "output_type": "stream",
     "text": [
      "Emotion scores for text: Interest payments on just federal government debt ...\n",
      "Emotion scores for text: Impressive \n",
      " https://t.co/nJQRXL72oA...\n"
     ]
    },
    {
     "name": "stderr",
     "output_type": "stream",
     "text": [
      " 54%|█████▍    | 1683/3113 [03:09<03:00,  7.93it/s]"
     ]
    },
    {
     "name": "stdout",
     "output_type": "stream",
     "text": [
      "Emotion scores for text: Deliberate deception for this hoax to be repeated....\n",
      "Emotion scores for text: Toxoplasma gondii is a danger to our democracy...\n"
     ]
    },
    {
     "name": "stderr",
     "output_type": "stream",
     "text": [
      " 54%|█████▍    | 1685/3113 [03:09<03:35,  6.61it/s]"
     ]
    },
    {
     "name": "stdout",
     "output_type": "stream",
     "text": [
      "Emotion scores for text: Unless there is significant government reform, law...\n",
      "Emotion scores for text: Listen to The Odyssey  https://t.co/gh7VEytTGM...\n"
     ]
    },
    {
     "name": "stderr",
     "output_type": "stream",
     "text": [
      " 54%|█████▍    | 1687/3113 [03:10<04:51,  4.89it/s]"
     ]
    },
    {
     "name": "stdout",
     "output_type": "stream",
     "text": [
      "Emotion scores for text: While I don’t think the debate hosts were fair to ...\n",
      "Emotion scores for text: Fine Taylor … you win … I will give you a child an...\n"
     ]
    },
    {
     "name": "stderr",
     "output_type": "stream",
     "text": [
      " 54%|█████▍    | 1689/3113 [03:10<04:40,  5.07it/s]"
     ]
    },
    {
     "name": "stdout",
     "output_type": "stream",
     "text": [
      "Emotion scores for text: The @PolarisProgram astronaut mission is headed fo...\n",
      "Emotion scores for text: Polaris Dawn Live Broadcast:\n",
      "\n",
      "– Furthest from Eart...\n"
     ]
    },
    {
     "name": "stderr",
     "output_type": "stream",
     "text": [
      " 54%|█████▍    | 1691/3113 [03:11<03:40,  6.44it/s]"
     ]
    },
    {
     "name": "stdout",
     "output_type": "stream",
     "text": [
      "Emotion scores for text: https://t.co/NYfZn8gZFb...\n",
      "Emotion scores for text: Save them! 😢 https://t.co/aLMPTJIPd9...\n"
     ]
    },
    {
     "name": "stderr",
     "output_type": "stream",
     "text": [
      " 54%|█████▍    | 1693/3113 [03:11<03:08,  7.54it/s]"
     ]
    },
    {
     "name": "stdout",
     "output_type": "stream",
     "text": [
      "Emotion scores for text: Ohio rn https://t.co/DZ99Shcs5E...\n",
      "Emotion scores for text: That’s a direct quote of Master Yoda! https://t.co...\n",
      "Emotion scores for text: I keep forgetting that Biden is still technically ...\n"
     ]
    },
    {
     "name": "stderr",
     "output_type": "stream",
     "text": [
      " 55%|█████▍    | 1697/3113 [03:11<02:33,  9.24it/s]"
     ]
    },
    {
     "name": "stdout",
     "output_type": "stream",
     "text": [
      "Emotion scores for text: https://t.co/Wpe1Hm4Uad...\n",
      "Emotion scores for text: https://t.co/VsOyFNnlJc...\n",
      "Emotion scores for text: Humanity is doomed if the extinctionist philosophy...\n"
     ]
    },
    {
     "name": "stderr",
     "output_type": "stream",
     "text": [
      " 55%|█████▍    | 1698/3113 [03:11<02:36,  9.06it/s]"
     ]
    },
    {
     "name": "stdout",
     "output_type": "stream",
     "text": [
      "Emotion scores for text: Didn’t finish in time, but at least I got the Pit ...\n",
      "Emotion scores for text: @Civilian1A What the heck?...\n"
     ]
    },
    {
     "name": "stderr",
     "output_type": "stream",
     "text": [
      " 55%|█████▍    | 1702/3113 [03:12<02:33,  9.21it/s]"
     ]
    },
    {
     "name": "stdout",
     "output_type": "stream",
     "text": [
      "Emotion scores for text: Hayek nails it again 😂 https://t.co/uot5QBGs4r...\n",
      "Emotion scores for text: https://t.co/oJoMGstIHu...\n",
      "Emotion scores for text: Department of Government Efficiency https://t.co/H...\n"
     ]
    },
    {
     "name": "stderr",
     "output_type": "stream",
     "text": [
      " 55%|█████▍    | 1703/3113 [03:12<02:33,  9.20it/s]"
     ]
    },
    {
     "name": "stdout",
     "output_type": "stream",
     "text": [
      "Emotion scores for text: Grok unhinged fun mode 🤣🤣\n",
      " https://t.co/HbCyDecKOc...\n",
      "Emotion scores for text: 🤣🤣\n",
      " https://t.co/SbiR4jJxjV...\n"
     ]
    },
    {
     "name": "stderr",
     "output_type": "stream",
     "text": [
      " 55%|█████▍    | 1706/3113 [03:12<02:33,  9.17it/s]"
     ]
    },
    {
     "name": "stdout",
     "output_type": "stream",
     "text": [
      "Emotion scores for text: New puppet same as old puppet 😂\n",
      "\n",
      "I mean … it’s tru...\n",
      "Emotion scores for text: Impressive AAA game from China!\n",
      "\n",
      "Seems oddly famil...\n"
     ]
    },
    {
     "name": "stderr",
     "output_type": "stream",
     "text": [
      " 55%|█████▍    | 1709/3113 [03:12<02:23,  9.81it/s]"
     ]
    },
    {
     "name": "stdout",
     "output_type": "stream",
     "text": [
      "Emotion scores for text: Make any image instantly using Grok!\n",
      " https://t.co...\n",
      "Emotion scores for text: Wow 🤯...\n",
      "Emotion scores for text: It’s a what? Ohh … https://t.co/04ubwNfTEb...\n"
     ]
    },
    {
     "name": "stderr",
     "output_type": "stream",
     "text": [
      " 55%|█████▍    | 1711/3113 [03:13<02:19, 10.04it/s]"
     ]
    },
    {
     "name": "stdout",
     "output_type": "stream",
     "text": [
      "Emotion scores for text: https://t.co/pAudjBqVRo...\n",
      "Emotion scores for text: And @CommunityNotes for the win again https://t.co...\n",
      "Emotion scores for text: https://t.co/fVv6TF7Gdh...\n"
     ]
    },
    {
     "name": "stderr",
     "output_type": "stream",
     "text": [
      " 55%|█████▌    | 1715/3113 [03:13<02:13, 10.50it/s]"
     ]
    },
    {
     "name": "stdout",
     "output_type": "stream",
     "text": [
      "Emotion scores for text: What’s your work day like, they ask … https://t.co...\n",
      "Emotion scores for text: https://t.co/3ghCibSUUJ...\n",
      "Emotion scores for text: Love this @AviationWeek cover ❤️ https://t.co/wETw...\n",
      "Emotion scores for text: https://t.co/41CQPKlaR3...\n"
     ]
    },
    {
     "name": "stderr",
     "output_type": "stream",
     "text": [
      " 55%|█████▌    | 1718/3113 [03:14<03:47,  6.13it/s]"
     ]
    },
    {
     "name": "stdout",
     "output_type": "stream",
     "text": [
      "Emotion scores for text: This Wired article once again perpetuates the inac...\n",
      "Emotion scores for text: https://t.co/NuRBa2aoZL...\n"
     ]
    },
    {
     "name": "stderr",
     "output_type": "stream",
     "text": [
      " 55%|█████▌    | 1720/3113 [03:14<04:00,  5.79it/s]"
     ]
    },
    {
     "name": "stdout",
     "output_type": "stream",
     "text": [
      "Emotion scores for text: This weekend, the @xAI team brought our Colossus 1...\n",
      "Emotion scores for text: https://t.co/j6h9GPNgAL...\n"
     ]
    },
    {
     "name": "stderr",
     "output_type": "stream",
     "text": [
      " 55%|█████▌    | 1721/3113 [03:14<03:36,  6.43it/s]"
     ]
    },
    {
     "name": "stdout",
     "output_type": "stream",
     "text": [
      "Emotion scores for text: President @JMilei is doing an incredible job resto...\n",
      "Emotion scores for text: Worth considering...\n"
     ]
    },
    {
     "name": "stderr",
     "output_type": "stream",
     "text": [
      " 55%|█████▌    | 1724/3113 [03:15<03:07,  7.41it/s]"
     ]
    },
    {
     "name": "stdout",
     "output_type": "stream",
     "text": [
      "Emotion scores for text: But if you do, use a VPN for protection 😂...\n",
      "Emotion scores for text: Viva a Democracia! Viva o Brasil Livre! 🇧🇷...\n"
     ]
    },
    {
     "name": "stderr",
     "output_type": "stream",
     "text": [
      " 55%|█████▌    | 1726/3113 [03:15<03:56,  5.86it/s]"
     ]
    },
    {
     "name": "stdout",
     "output_type": "stream",
     "text": [
      "Emotion scores for text: The 𝕏 algorithm assumes that if you interact with ...\n",
      "Emotion scores for text: Why not America?\n",
      "\n",
      "Those who oppose voter ID are do...\n"
     ]
    },
    {
     "name": "stderr",
     "output_type": "stream",
     "text": [
      " 56%|█████▌    | 1729/3113 [03:15<02:56,  7.84it/s]"
     ]
    },
    {
     "name": "stdout",
     "output_type": "stream",
     "text": [
      "Emotion scores for text: https://t.co/OYpEJy1Kct...\n",
      "Emotion scores for text: 🇺🇸🇺🇸🇺🇸🇺🇸🇺🇸🇺🇸🇺🇸🇺🇸🇺🇸🇺🇸🇺🇸🇺🇸🇺🇸\n",
      "Long Live America and o...\n",
      "Emotion scores for text: https://t.co/7OHMSEtabC...\n"
     ]
    },
    {
     "name": "stderr",
     "output_type": "stream",
     "text": [
      " 56%|█████▌    | 1730/3113 [03:16<03:01,  7.62it/s]"
     ]
    },
    {
     "name": "stdout",
     "output_type": "stream",
     "text": [
      "Emotion scores for text: They want to overthrow The Constitution https://t....\n"
     ]
    },
    {
     "name": "stderr",
     "output_type": "stream",
     "text": [
      " 56%|█████▌    | 1732/3113 [03:16<03:41,  6.24it/s]"
     ]
    },
    {
     "name": "stdout",
     "output_type": "stream",
     "text": [
      "Emotion scores for text: There is growing evidence that fake judge @Alexand...\n",
      "Emotion scores for text: This meme never gets old 🤣🤣 https://t.co/m8wWH9erm...\n"
     ]
    },
    {
     "name": "stderr",
     "output_type": "stream",
     "text": [
      " 56%|█████▌    | 1734/3113 [03:16<03:27,  6.63it/s]"
     ]
    },
    {
     "name": "stdout",
     "output_type": "stream",
     "text": [
      "Emotion scores for text: Just a reminder that you can always access this pl...\n",
      "Emotion scores for text: Orwell nail it \n",
      " https://t.co/qMvBpBQrtl...\n"
     ]
    },
    {
     "name": "stderr",
     "output_type": "stream",
     "text": [
      " 56%|█████▌    | 1737/3113 [03:17<02:57,  7.75it/s]"
     ]
    },
    {
     "name": "stdout",
     "output_type": "stream",
     "text": [
      "Emotion scores for text: Grok “Generate an image as if Voldemort and a Sith...\n",
      "Emotion scores for text: https://t.co/XNP0LvZIs9...\n",
      "Emotion scores for text: Let’s make Starfleet Academy real!...\n"
     ]
    },
    {
     "name": "stderr",
     "output_type": "stream",
     "text": [
      " 56%|█████▌    | 1738/3113 [03:17<03:25,  6.70it/s]"
     ]
    },
    {
     "name": "stdout",
     "output_type": "stream",
     "text": [
      "Emotion scores for text: Just want to reiterate that this platform really i...\n"
     ]
    },
    {
     "name": "stderr",
     "output_type": "stream",
     "text": [
      " 56%|█████▌    | 1739/3113 [03:17<03:50,  5.96it/s]"
     ]
    },
    {
     "name": "stdout",
     "output_type": "stream",
     "text": [
      "Emotion scores for text: This is a tough call and will make some people ups...\n",
      "Emotion scores for text: The @PolarisProgram Crew https://t.co/9bYdtZXOOH...\n"
     ]
    },
    {
     "name": "stderr",
     "output_type": "stream",
     "text": [
      " 56%|█████▌    | 1743/3113 [03:18<02:55,  7.80it/s]"
     ]
    },
    {
     "name": "stdout",
     "output_type": "stream",
     "text": [
      "Emotion scores for text: Video of the inside of Cortex today, the giant new...\n",
      "Emotion scores for text: Polaris Mission key points https://t.co/Jm4St4v6BV...\n",
      "Emotion scores for text: https://t.co/iGQ6zYr32I...\n"
     ]
    },
    {
     "name": "stderr",
     "output_type": "stream",
     "text": [
      " 56%|█████▌    | 1745/3113 [03:18<02:33,  8.90it/s]"
     ]
    },
    {
     "name": "stdout",
     "output_type": "stream",
     "text": [
      "Emotion scores for text: https://t.co/X6LehWFrrY...\n",
      "Emotion scores for text: https://t.co/kkqPIguIRx...\n",
      "Emotion scores for text: https://t.co/taMEbKTFMt...\n"
     ]
    },
    {
     "name": "stderr",
     "output_type": "stream",
     "text": [
      " 56%|█████▌    | 1749/3113 [03:18<02:15, 10.10it/s]"
     ]
    },
    {
     "name": "stdout",
     "output_type": "stream",
     "text": [
      "Emotion scores for text: How is this even real?...\n",
      "Emotion scores for text: It is vital to the support of free speech that you...\n",
      "Emotion scores for text: https://t.co/wg1cbLVvho...\n"
     ]
    },
    {
     "name": "stderr",
     "output_type": "stream",
     "text": [
      " 56%|█████▌    | 1751/3113 [03:18<02:14, 10.13it/s]"
     ]
    },
    {
     "name": "stdout",
     "output_type": "stream",
     "text": [
      "Emotion scores for text: Pic of the SpaceX factory shortly after we got sta...\n",
      "Emotion scores for text: https://t.co/zqtbLzFkmr...\n",
      "Emotion scores for text: https://t.co/ID2Lp23h4Y...\n"
     ]
    },
    {
     "name": "stderr",
     "output_type": "stream",
     "text": [
      " 56%|█████▋    | 1755/3113 [03:19<02:00, 11.24it/s]"
     ]
    },
    {
     "name": "stdout",
     "output_type": "stream",
     "text": [
      "Emotion scores for text: https://t.co/Q0Og7KkWES...\n",
      "Emotion scores for text: Being a free speech advocate these days is increas...\n",
      "Emotion scores for text: Doesn’t sound very democratic...\n"
     ]
    },
    {
     "name": "stderr",
     "output_type": "stream",
     "text": [
      " 56%|█████▋    | 1757/3113 [03:19<02:00, 11.26it/s]"
     ]
    },
    {
     "name": "stdout",
     "output_type": "stream",
     "text": [
      "Emotion scores for text: Liberté\n",
      "\n",
      "Liberté!\n",
      "\n",
      "Liberté?...\n",
      "Emotion scores for text: #FreePavel\n",
      " https://t.co/B7AcJWswMs...\n",
      "Emotion scores for text: “No guarantee of free speech” - Walz\n",
      "https://t.co/...\n"
     ]
    },
    {
     "name": "stderr",
     "output_type": "stream",
     "text": [
      " 57%|█████▋    | 1759/3113 [03:19<02:13, 10.18it/s]"
     ]
    },
    {
     "name": "stdout",
     "output_type": "stream",
     "text": [
      "Emotion scores for text: The 2nd amendment is the only reason long-term tha...\n",
      "Emotion scores for text: Check out this ad for the First Amendment. It is v...\n"
     ]
    },
    {
     "name": "stderr",
     "output_type": "stream",
     "text": [
      " 57%|█████▋    | 1762/3113 [03:19<02:20,  9.63it/s]"
     ]
    },
    {
     "name": "stdout",
     "output_type": "stream",
     "text": [
      "Emotion scores for text: Can’t recommend The Iliad enough!\n",
      "\n",
      "Best as Penguin...\n",
      "Emotion scores for text: Corporate needs you to find the difference between...\n",
      "Emotion scores for text: We are working on highlighting more banger content...\n"
     ]
    },
    {
     "name": "stderr",
     "output_type": "stream",
     "text": [
      " 57%|█████▋    | 1765/3113 [03:20<02:15,  9.97it/s]"
     ]
    },
    {
     "name": "stdout",
     "output_type": "stream",
     "text": [
      "Emotion scores for text: https://t.co/XgKRc0muDO...\n",
      "Emotion scores for text: So good 😂\n",
      " https://t.co/EPhYkxbszw...\n",
      "Emotion scores for text: 😂\n",
      " https://t.co/crU3m6UVhf...\n"
     ]
    },
    {
     "name": "stderr",
     "output_type": "stream",
     "text": [
      " 57%|█████▋    | 1769/3113 [03:20<02:05, 10.67it/s]"
     ]
    },
    {
     "name": "stdout",
     "output_type": "stream",
     "text": [
      "Emotion scores for text: Interesting \n",
      "https://t.co/CSawtX0Tb1...\n",
      "Emotion scores for text: Hehehe https://t.co/Bnm0IQdZnv...\n",
      "Emotion scores for text: If you live in the USA, do you consider yourself...\n"
     ]
    },
    {
     "name": "stderr",
     "output_type": "stream",
     "text": [
      " 57%|█████▋    | 1771/3113 [03:20<02:05, 10.72it/s]"
     ]
    },
    {
     "name": "stdout",
     "output_type": "stream",
     "text": [
      "Emotion scores for text: https://t.co/lR2zST4QD2...\n",
      "Emotion scores for text: https://t.co/kTpkI1km6I...\n",
      "Emotion scores for text: Another @communitynotes win 😂 https://t.co/50p6NwZ...\n"
     ]
    },
    {
     "name": "stderr",
     "output_type": "stream",
     "text": [
      " 57%|█████▋    | 1775/3113 [03:21<02:06, 10.58it/s]"
     ]
    },
    {
     "name": "stdout",
     "output_type": "stream",
     "text": [
      "Emotion scores for text: Literally last month https://t.co/tC5MrgYW5D...\n",
      "Emotion scores for text: Wisdom\n",
      " https://t.co/NMbUbutfx1...\n",
      "Emotion scores for text: Since a lot of people have asked, here goes a supe...\n"
     ]
    },
    {
     "name": "stderr",
     "output_type": "stream",
     "text": [
      " 57%|█████▋    | 1777/3113 [03:21<02:14,  9.94it/s]"
     ]
    },
    {
     "name": "stdout",
     "output_type": "stream",
     "text": [
      "Emotion scores for text: Nerfing of the gun emoji matches rise of the woke ...\n",
      "Emotion scores for text: 🕺🕺🔫🔫🔫🔫🔫🔫🔫🔫🔫🔫🕺🕺...\n",
      "Emotion scores for text: The gun emoji being nerfed in ~2016 marked the asc...\n"
     ]
    },
    {
     "name": "stderr",
     "output_type": "stream",
     "text": [
      " 57%|█████▋    | 1781/3113 [03:21<02:05, 10.65it/s]"
     ]
    },
    {
     "name": "stdout",
     "output_type": "stream",
     "text": [
      "Emotion scores for text: I am willing to serve https://t.co/BJhGbcA2e0...\n",
      "Emotion scores for text: Sometimes I wonder if I’m too defiant...\n",
      "Emotion scores for text: Are you still seeing a lot of bots in replies?...\n"
     ]
    },
    {
     "name": "stderr",
     "output_type": "stream",
     "text": [
      " 57%|█████▋    | 1783/3113 [03:21<02:01, 10.92it/s]"
     ]
    },
    {
     "name": "stdout",
     "output_type": "stream",
     "text": [
      "Emotion scores for text: https://t.co/dhOWoN5Wif...\n",
      "Emotion scores for text: Room for improvement lol\n",
      " https://t.co/ywCBgB5uJ6...\n",
      "Emotion scores for text: https://t.co/aV39ntdkac...\n"
     ]
    },
    {
     "name": "stderr",
     "output_type": "stream",
     "text": [
      " 57%|█████▋    | 1785/3113 [03:22<02:18,  9.61it/s]"
     ]
    },
    {
     "name": "stdout",
     "output_type": "stream",
     "text": [
      "Emotion scores for text: The decision to close the 𝕏 office in Brazil was d...\n",
      "Emotion scores for text: The resemblance is uncanny 🤣🤣\n",
      "\n",
      "Alexandre de Voldem...\n"
     ]
    },
    {
     "name": "stderr",
     "output_type": "stream",
     "text": [
      " 57%|█████▋    | 1789/3113 [03:22<02:11, 10.10it/s]"
     ]
    },
    {
     "name": "stdout",
     "output_type": "stream",
     "text": [
      "Emotion scores for text: Honored to have been the convocation speaker yeste...\n",
      "Emotion scores for text: https://t.co/CvvNGcujVs...\n",
      "Emotion scores for text: Kiss, kiss 🔫🔫...\n"
     ]
    },
    {
     "name": "stderr",
     "output_type": "stream",
     "text": [
      " 58%|█████▊    | 1791/3113 [03:22<02:28,  8.90it/s]"
     ]
    },
    {
     "name": "stdout",
     "output_type": "stream",
     "text": [
      "Emotion scores for text: Inflation is caused by the Federal government spen...\n",
      "Emotion scores for text: What happens when price controls are mandated\n",
      "http...\n"
     ]
    },
    {
     "name": "stderr",
     "output_type": "stream",
     "text": [
      " 58%|█████▊    | 1793/3113 [03:23<02:34,  8.52it/s]"
     ]
    },
    {
     "name": "stdout",
     "output_type": "stream",
     "text": [
      "Emotion scores for text: Most American-made car in America \n",
      " https://t.co/2...\n",
      "Emotion scores for text: It is hilariously absurd to claim that CNN has no ...\n"
     ]
    },
    {
     "name": "stderr",
     "output_type": "stream",
     "text": [
      " 58%|█████▊    | 1795/3113 [03:23<02:22,  9.24it/s]"
     ]
    },
    {
     "name": "stdout",
     "output_type": "stream",
     "text": [
      "Emotion scores for text: https://t.co/TRGdROopQu...\n",
      "Emotion scores for text: Haters will say this is AI  🕺🕺 https://t.co/vqWVxi...\n",
      "Emotion scores for text: https://t.co/1VAGKqvBtF...\n"
     ]
    },
    {
     "name": "stderr",
     "output_type": "stream",
     "text": [
      " 58%|█████▊    | 1799/3113 [03:23<02:03, 10.60it/s]"
     ]
    },
    {
     "name": "stdout",
     "output_type": "stream",
     "text": [
      "Emotion scores for text: https://t.co/huWaX3mHr7...\n",
      "Emotion scores for text: Even Neo had to “Accept cookies to continue” https...\n",
      "Emotion scores for text: R\n",
      "R\n",
      "R\n",
      "R\n",
      "Sus...\n"
     ]
    },
    {
     "name": "stderr",
     "output_type": "stream",
     "text": [
      " 58%|█████▊    | 1801/3113 [03:23<02:06, 10.33it/s]"
     ]
    },
    {
     "name": "stdout",
     "output_type": "stream",
     "text": [
      "Emotion scores for text: Tesla HQ pic taken this morning https://t.co/qfucS...\n",
      "Emotion scores for text: lol https://t.co/oIGwZV2r6F...\n"
     ]
    },
    {
     "name": "stderr",
     "output_type": "stream",
     "text": [
      " 58%|█████▊    | 1803/3113 [03:23<02:10, 10.02it/s]"
     ]
    },
    {
     "name": "stdout",
     "output_type": "stream",
     "text": [
      "Emotion scores for text: Doing the ⁦@realDonaldTrump⁩ Space at my friend’s ...\n",
      "Emotion scores for text: https://t.co/cPUMFx9Qu5...\n",
      "Emotion scores for text: https://t.co/W0t0NIxAdQ...\n"
     ]
    },
    {
     "name": "stderr",
     "output_type": "stream",
     "text": [
      " 58%|█████▊    | 1807/3113 [03:24<02:03, 10.58it/s]"
     ]
    },
    {
     "name": "stdout",
     "output_type": "stream",
     "text": [
      "Emotion scores for text: https://t.co/6IJOrrtCuc...\n",
      "Emotion scores for text: Happy to host Kamala on an 𝕏 Spaces too...\n",
      "Emotion scores for text: Anyone have a &lt;1 hour edit of the highlights of...\n",
      "Emotion scores for text: There appears to be a massive DDOS attack on 𝕏. Wo...\n"
     ]
    },
    {
     "name": "stderr",
     "output_type": "stream",
     "text": [
      " 58%|█████▊    | 1811/3113 [03:24<02:27,  8.81it/s]"
     ]
    },
    {
     "name": "stdout",
     "output_type": "stream",
     "text": [
      "Emotion scores for text: Conversation with @realDonaldTrump in 45 minutes!...\n",
      "Emotion scores for text: Wise words of JFK https://t.co/KrmHNJM1SP...\n",
      "Emotion scores for text: A society should “make the right things easy and t...\n"
     ]
    },
    {
     "name": "stderr",
     "output_type": "stream",
     "text": [
      " 58%|█████▊    | 1814/3113 [03:25<02:11,  9.88it/s]"
     ]
    },
    {
     "name": "stdout",
     "output_type": "stream",
     "text": [
      "Emotion scores for text: https://t.co/BMj1ePI3Kx...\n",
      "Emotion scores for text: https://t.co/qa7RAbTnHh...\n",
      "Emotion scores for text: https://t.co/lN4cwAqEox...\n"
     ]
    },
    {
     "name": "stderr",
     "output_type": "stream",
     "text": [
      " 58%|█████▊    | 1816/3113 [03:25<02:05, 10.32it/s]"
     ]
    },
    {
     "name": "stdout",
     "output_type": "stream",
     "text": [
      "Emotion scores for text: Stream Test 2 https://t.co/flDYGbv1HI...\n",
      "Emotion scores for text: https://t.co/WSnmI1aciI...\n",
      "Emotion scores for text: Streaming Test https://t.co/zZ6GXctYFu...\n"
     ]
    },
    {
     "name": "stderr",
     "output_type": "stream",
     "text": [
      " 58%|█████▊    | 1818/3113 [03:25<02:07, 10.16it/s]"
     ]
    },
    {
     "name": "stdout",
     "output_type": "stream",
     "text": [
      "Emotion scores for text: Am going to do some system scaling tests tonight &...\n",
      "Emotion scores for text: Live conversation on 𝕏 with @realDonaldTrump &amp;...\n",
      "Emotion scores for text: Grok 2 beta release soon https://t.co/t6e9RcXPkl...\n"
     ]
    },
    {
     "name": "stderr",
     "output_type": "stream",
     "text": [
      " 59%|█████▊    | 1822/3113 [03:25<02:18,  9.33it/s]"
     ]
    },
    {
     "name": "stdout",
     "output_type": "stream",
     "text": [
      "Emotion scores for text: First thing a dictator does is ban private ownersh...\n",
      "Emotion scores for text: My new T-shirt https://t.co/UoUXkHpIta...\n"
     ]
    },
    {
     "name": "stderr",
     "output_type": "stream",
     "text": [
      " 59%|█████▊    | 1825/3113 [03:26<02:06, 10.15it/s]"
     ]
    },
    {
     "name": "stdout",
     "output_type": "stream",
     "text": [
      "Emotion scores for text: If movie dialogue was more accurate https://t.co/g...\n",
      "Emotion scores for text: Messed up...\n",
      "Emotion scores for text: https://t.co/9twcXK6OuG...\n"
     ]
    },
    {
     "name": "stderr",
     "output_type": "stream",
     "text": [
      " 59%|█████▊    | 1827/3113 [03:26<02:01, 10.58it/s]"
     ]
    },
    {
     "name": "stdout",
     "output_type": "stream",
     "text": [
      "Emotion scores for text: https://t.co/0vcCOU5ceE...\n",
      "Emotion scores for text: https://t.co/VpFwg8C8nC...\n",
      "Emotion scores for text: Found this pic of the UK justice system https://t....\n"
     ]
    },
    {
     "name": "stderr",
     "output_type": "stream",
     "text": [
      " 59%|█████▉    | 1831/3113 [03:26<01:55, 11.14it/s]"
     ]
    },
    {
     "name": "stdout",
     "output_type": "stream",
     "text": [
      "Emotion scores for text: It’s 2030 in the UK &amp; you’re being executed fo...\n",
      "Emotion scores for text: https://t.co/HFk4CYvRmJ...\n",
      "Emotion scores for text: Wow...\n"
     ]
    },
    {
     "name": "stderr",
     "output_type": "stream",
     "text": [
      " 59%|█████▉    | 1833/3113 [03:27<02:06, 10.11it/s]"
     ]
    },
    {
     "name": "stdout",
     "output_type": "stream",
     "text": [
      "Emotion scores for text: Freedom of speech is the bedrock of democracy. If ...\n",
      "Emotion scores for text: Support freedom of speech in the UK!...\n",
      "Emotion scores for text: https://t.co/yec8ecmU52...\n"
     ]
    },
    {
     "name": "stderr",
     "output_type": "stream",
     "text": [
      " 59%|█████▉    | 1837/3113 [03:27<01:56, 10.93it/s]"
     ]
    },
    {
     "name": "stdout",
     "output_type": "stream",
     "text": [
      "Emotion scores for text: Population is collapsing rapidly...\n",
      "Emotion scores for text: https://t.co/QUcsd0LasN...\n",
      "Emotion scores for text: Just livin’ the meme https://t.co/0AewlLFrPo...\n"
     ]
    },
    {
     "name": "stderr",
     "output_type": "stream",
     "text": [
      " 59%|█████▉    | 1839/3113 [03:27<01:57, 10.80it/s]"
     ]
    },
    {
     "name": "stdout",
     "output_type": "stream",
     "text": [
      "Emotion scores for text: https://t.co/MFJGjA3p5w...\n",
      "Emotion scores for text: Raptor 3 first firing today https://t.co/5wjnBLjvx...\n",
      "Emotion scores for text: Chef’s kiss 🤌 @CommunityNotes https://t.co/ewRMYja...\n"
     ]
    },
    {
     "name": "stderr",
     "output_type": "stream",
     "text": [
      " 59%|█████▉    | 1843/3113 [03:27<02:02, 10.36it/s]"
     ]
    },
    {
     "name": "stdout",
     "output_type": "stream",
     "text": [
      "Emotion scores for text: https://t.co/OEKktDNqPp...\n",
      "Emotion scores for text: Busy week...\n",
      "Emotion scores for text: I strongly encourage any company who has been syst...\n"
     ]
    },
    {
     "name": "stderr",
     "output_type": "stream",
     "text": [
      " 59%|█████▉    | 1845/3113 [03:28<01:58, 10.69it/s]"
     ]
    },
    {
     "name": "stdout",
     "output_type": "stream",
     "text": [
      "Emotion scores for text: Well said by @LindayaX!\n",
      " https://t.co/8nbWkhl5R4...\n",
      "Emotion scores for text: @robreiner Yeah … 🥱...\n",
      "Emotion scores for text: In 2030 for making a Facebook comment that the UK ...\n"
     ]
    },
    {
     "name": "stderr",
     "output_type": "stream",
     "text": [
      " 59%|█████▉    | 1849/3113 [03:28<01:58, 10.65it/s]"
     ]
    },
    {
     "name": "stdout",
     "output_type": "stream",
     "text": [
      "Emotion scores for text: https://t.co/FMCQKSB2u6...\n",
      "Emotion scores for text: 😬 https://t.co/RQk2QOAFPn...\n",
      "Emotion scores for text: Model 3 Performance version is 🔥🔥...\n"
     ]
    },
    {
     "name": "stderr",
     "output_type": "stream",
     "text": [
      " 59%|█████▉    | 1851/3113 [03:28<02:18,  9.09it/s]"
     ]
    },
    {
     "name": "stdout",
     "output_type": "stream",
     "text": [
      "Emotion scores for text: Just did a walkthrough of the Tesla supercompute c...\n",
      "Emotion scores for text: Raptor 3, SN1 https://t.co/gV1NemIyXU...\n",
      "Emotion scores for text: https://t.co/3WGzoGX3Mq...\n"
     ]
    },
    {
     "name": "stderr",
     "output_type": "stream",
     "text": [
      " 60%|█████▉    | 1855/3113 [03:29<01:58, 10.59it/s]"
     ]
    },
    {
     "name": "stdout",
     "output_type": "stream",
     "text": [
      "Emotion scores for text: https://t.co/5ZGAjRyELK...\n",
      "Emotion scores for text: Wow...\n",
      "Emotion scores for text: https://t.co/FjHf7PPD44...\n"
     ]
    },
    {
     "name": "stderr",
     "output_type": "stream",
     "text": [
      " 60%|█████▉    | 1857/3113 [03:29<01:54, 10.95it/s]"
     ]
    },
    {
     "name": "stdout",
     "output_type": "stream",
     "text": [
      "Emotion scores for text: https://t.co/VGJkJ1UoO7...\n",
      "Emotion scores for text: https://t.co/3Lq2lKpLON...\n",
      "Emotion scores for text: Just did a search for “Trump rally” on Google and ...\n"
     ]
    },
    {
     "name": "stderr",
     "output_type": "stream",
     "text": [
      " 60%|█████▉    | 1861/3113 [03:29<01:52, 11.17it/s]"
     ]
    },
    {
     "name": "stdout",
     "output_type": "stream",
     "text": [
      "Emotion scores for text: @robreiner lol...\n",
      "Emotion scores for text: Read The Parasitic Mind...\n",
      "Emotion scores for text: This is real https://t.co/3KjTZiVJG0...\n"
     ]
    },
    {
     "name": "stderr",
     "output_type": "stream",
     "text": [
      " 60%|█████▉    | 1863/3113 [03:29<01:51, 11.22it/s]"
     ]
    },
    {
     "name": "stdout",
     "output_type": "stream",
     "text": [
      "Emotion scores for text: Wow\n",
      " https://t.co/P26JfTjPPJ...\n",
      "Emotion scores for text: 😂 https://t.co/nlvLlqBeoj...\n",
      "Emotion scores for text: https://t.co/wg1cbLVvho...\n"
     ]
    },
    {
     "name": "stderr",
     "output_type": "stream",
     "text": [
      " 60%|█████▉    | 1865/3113 [03:29<01:53, 10.97it/s]"
     ]
    },
    {
     "name": "stdout",
     "output_type": "stream",
     "text": [
      "Emotion scores for text: FSD 12.5.1 starts wide release today. \n",
      "\n",
      "Please con...\n",
      "Emotion scores for text: The legacy media engages in the mass synchronizati...\n"
     ]
    },
    {
     "name": "stderr",
     "output_type": "stream",
     "text": [
      " 60%|█████▉    | 1867/3113 [03:30<02:04, 10.03it/s]"
     ]
    },
    {
     "name": "stdout",
     "output_type": "stream",
     "text": [
      "Emotion scores for text: Facebook &amp; Instagram inflate their real user n...\n",
      "Emotion scores for text: Wow, Google has a search ban on President Donald T...\n"
     ]
    },
    {
     "name": "stderr",
     "output_type": "stream",
     "text": [
      " 60%|██████    | 1871/3113 [03:30<02:00, 10.35it/s]"
     ]
    },
    {
     "name": "stdout",
     "output_type": "stream",
     "text": [
      "Emotion scores for text: Congrats to the @SpaceX Falcon team on completing ...\n",
      "Emotion scores for text: https://t.co/TmEHqi4WjG...\n",
      "Emotion scores for text: https://t.co/lBJPYl83om...\n"
     ]
    },
    {
     "name": "stderr",
     "output_type": "stream",
     "text": [
      " 60%|██████    | 1873/3113 [03:30<01:55, 10.72it/s]"
     ]
    },
    {
     "name": "stdout",
     "output_type": "stream",
     "text": [
      "Emotion scores for text: Judge Dredd would drive a Cybertruck...\n",
      "Emotion scores for text: Unless there is more bravery to stand up for what ...\n",
      "Emotion scores for text: Save our kids!\n",
      " https://t.co/1obaIHBv0A...\n"
     ]
    },
    {
     "name": "stderr",
     "output_type": "stream",
     "text": [
      " 60%|██████    | 1877/3113 [03:31<01:59, 10.36it/s]"
     ]
    },
    {
     "name": "stdout",
     "output_type": "stream",
     "text": [
      "Emotion scores for text: Super cool Tesla light show!\n",
      " https://t.co/o6r5zqD...\n",
      "Emotion scores for text: This is amazing 😂\n",
      " https://t.co/KpnBKGUUwn...\n",
      "Emotion scores for text: The Olympics laser show was amazing! https://t.co/...\n"
     ]
    },
    {
     "name": "stderr",
     "output_type": "stream",
     "text": [
      " 60%|██████    | 1879/3113 [03:31<01:56, 10.62it/s]"
     ]
    },
    {
     "name": "stdout",
     "output_type": "stream",
     "text": [
      "Emotion scores for text: 🇫🇷🇫🇷🇫🇷 Vive la France! 🇫🇷🇫🇷🇫🇷\n",
      "\n",
      "Ville des Lumières ...\n",
      "Emotion scores for text: CBS lies about Trump lying https://t.co/GLmm8u6Mqr...\n"
     ]
    },
    {
     "name": "stderr",
     "output_type": "stream",
     "text": [
      " 60%|██████    | 1881/3113 [03:31<02:00, 10.24it/s]"
     ]
    },
    {
     "name": "stdout",
     "output_type": "stream",
     "text": [
      "Emotion scores for text: Literally as far left as it is possible to go!\n",
      "\n",
      "Th...\n",
      "Emotion scores for text: @micahk Epic idea...\n",
      "Emotion scores for text: Shouldn’t the nominee be decided by a party vote? ...\n"
     ]
    },
    {
     "name": "stderr",
     "output_type": "stream",
     "text": [
      " 61%|██████    | 1884/3113 [03:32<02:35,  7.90it/s]"
     ]
    },
    {
     "name": "stdout",
     "output_type": "stream",
     "text": [
      "Emotion scores for text: About 3 weeks ago, the media told you that Biden w...\n",
      "Emotion scores for text: Should Tesla invest $5B into @xAI, assuming the va...\n"
     ]
    },
    {
     "name": "stderr",
     "output_type": "stream",
     "text": [
      " 61%|██████    | 1886/3113 [03:32<02:26,  8.38it/s]"
     ]
    },
    {
     "name": "stdout",
     "output_type": "stream",
     "text": [
      "Emotion scores for text: Starlink is now active in a Gaza hospital with the...\n",
      "Emotion scores for text: Where are we with dollar value destruction, you mi...\n",
      "Emotion scores for text: They should actually teach this in biz school http...\n"
     ]
    },
    {
     "name": "stderr",
     "output_type": "stream",
     "text": [
      " 61%|██████    | 1888/3113 [03:32<02:09,  9.43it/s]"
     ]
    },
    {
     "name": "stdout",
     "output_type": "stream",
     "text": [
      "Emotion scores for text: America is going bankrupt btw...\n",
      "Emotion scores for text: https://t.co/zbtSNfzENT...\n"
     ]
    },
    {
     "name": "stderr",
     "output_type": "stream",
     "text": [
      " 61%|██████    | 1892/3113 [03:32<02:18,  8.82it/s]"
     ]
    },
    {
     "name": "stdout",
     "output_type": "stream",
     "text": [
      "Emotion scores for text: Nice work by @xAI team, @X team, @Nvidia &amp; sup...\n",
      "Emotion scores for text: Sure did https://t.co/9elNfzRH5T...\n",
      "Emotion scores for text: The ratings – if this reality were an alien Netfli...\n"
     ]
    },
    {
     "name": "stderr",
     "output_type": "stream",
     "text": [
      " 61%|██████    | 1894/3113 [03:33<02:08,  9.49it/s]"
     ]
    },
    {
     "name": "stdout",
     "output_type": "stream",
     "text": [
      "Emotion scores for text: https://t.co/dMokDNLrV0...\n",
      "Emotion scores for text: High time for an AI fashion show https://t.co/ra6c...\n",
      "Emotion scores for text: Hawk Ptah https://t.co/46qdrh0wXV...\n"
     ]
    },
    {
     "name": "stderr",
     "output_type": "stream",
     "text": [
      " 61%|██████    | 1898/3113 [03:33<02:02,  9.93it/s]"
     ]
    },
    {
     "name": "stdout",
     "output_type": "stream",
     "text": [
      "Emotion scores for text: https://t.co/HqVCbxz2l3...\n",
      "Emotion scores for text: æsthetics matter\n",
      "there should be \n",
      "a beauty to the ...\n",
      "Emotion scores for text: My smartest friends, including those living in the...\n"
     ]
    },
    {
     "name": "stderr",
     "output_type": "stream",
     "text": [
      " 61%|██████    | 1900/3113 [03:33<01:57, 10.35it/s]"
     ]
    },
    {
     "name": "stdout",
     "output_type": "stream",
     "text": [
      "Emotion scores for text: https://t.co/cQyHMqc3TO...\n",
      "Emotion scores for text: Make America Greater Again https://t.co/NRxZkWbbi7...\n",
      "Emotion scores for text: https://t.co/uCFhGreViO...\n"
     ]
    },
    {
     "name": "stderr",
     "output_type": "stream",
     "text": [
      " 61%|██████    | 1902/3113 [03:33<01:58, 10.25it/s]"
     ]
    },
    {
     "name": "stdout",
     "output_type": "stream",
     "text": [
      "Emotion scores for text: Congratulations PM @NarendraModi on being the most...\n",
      "Emotion scores for text: Aiming to have a level playing field for all point...\n"
     ]
    },
    {
     "name": "stderr",
     "output_type": "stream",
     "text": [
      " 61%|██████    | 1906/3113 [03:34<02:03,  9.74it/s]"
     ]
    },
    {
     "name": "stdout",
     "output_type": "stream",
     "text": [
      "Emotion scores for text: https://t.co/jED5mFZnh0...\n",
      "Emotion scores for text: Wow https://t.co/Fw7m6Ycncv...\n",
      "Emotion scores for text: https://t.co/z0CojttW43...\n"
     ]
    },
    {
     "name": "stderr",
     "output_type": "stream",
     "text": [
      " 61%|██████▏   | 1908/3113 [03:34<02:06,  9.54it/s]"
     ]
    },
    {
     "name": "stdout",
     "output_type": "stream",
     "text": [
      "Emotion scores for text: They’re taking Biden fishing soon … https://t.co/5...\n",
      "Emotion scores for text: Cybertruck has a sloped roof … just sayin https://...\n"
     ]
    },
    {
     "name": "stderr",
     "output_type": "stream",
     "text": [
      " 61%|██████▏   | 1910/3113 [03:34<02:25,  8.26it/s]"
     ]
    },
    {
     "name": "stdout",
     "output_type": "stream",
     "text": [
      "Emotion scores for text: Texas https://t.co/iQq68InFi4...\n",
      "Emotion scores for text: We have recently received many requests to suspend...\n"
     ]
    },
    {
     "name": "stderr",
     "output_type": "stream",
     "text": [
      " 61%|██████▏   | 1913/3113 [03:35<02:06,  9.45it/s]"
     ]
    },
    {
     "name": "stdout",
     "output_type": "stream",
     "text": [
      "Emotion scores for text: Wow, steak &amp; eggs with coffee in the morning r...\n",
      "Emotion scores for text: So here’s the situation … https://t.co/uxpzEsna5v...\n",
      "Emotion scores for text: https://t.co/35wqQgKJo5...\n"
     ]
    },
    {
     "name": "stderr",
     "output_type": "stream",
     "text": [
      " 62%|██████▏   | 1915/3113 [03:35<01:57, 10.19it/s]"
     ]
    },
    {
     "name": "stdout",
     "output_type": "stream",
     "text": [
      "Emotion scores for text: Well said!!\n",
      "https://t.co/CgKPa1rnnt...\n",
      "Emotion scores for text: The state will take your kids if you object...\n",
      "Emotion scores for text: Marc Andreessen and Ben Horowitz explain why they ...\n"
     ]
    },
    {
     "name": "stderr",
     "output_type": "stream",
     "text": [
      " 62%|██████▏   | 1919/3113 [03:35<01:51, 10.69it/s]"
     ]
    },
    {
     "name": "stdout",
     "output_type": "stream",
     "text": [
      "Emotion scores for text: Visual approximation of Secret Service Director Ch...\n",
      "Emotion scores for text: https://t.co/c3OvcPHgQZ...\n",
      "Emotion scores for text: https://t.co/0c3gFneO7x...\n"
     ]
    },
    {
     "name": "stderr",
     "output_type": "stream",
     "text": [
      " 62%|██████▏   | 1921/3113 [03:35<01:54, 10.41it/s]"
     ]
    },
    {
     "name": "stdout",
     "output_type": "stream",
     "text": [
      "Emotion scores for text: Timely truth is immensely important for the collec...\n",
      "Emotion scores for text: More than double the power of the Saturn V moon ro...\n"
     ]
    },
    {
     "name": "stderr",
     "output_type": "stream",
     "text": [
      " 62%|██████▏   | 1923/3113 [03:36<01:53, 10.53it/s]"
     ]
    },
    {
     "name": "stdout",
     "output_type": "stream",
     "text": [
      "Emotion scores for text: –––––––\n",
      "TRUMP\n",
      "VANCE\n",
      "–––––––\n",
      "\n",
      "Resounds with victory...\n",
      "Emotion scores for text: Congratulations @JDVance1!\n",
      "\n",
      "Excellent decision by ...\n"
     ]
    },
    {
     "name": "stderr",
     "output_type": "stream",
     "text": [
      " 62%|██████▏   | 1925/3113 [03:36<02:05,  9.47it/s]"
     ]
    },
    {
     "name": "stdout",
     "output_type": "stream",
     "text": [
      "Emotion scores for text: 𝕏 usage hit another all-time high yesterday with 4...\n",
      "Emotion scores for text: By the way, you can easily mute all posts that hav...\n",
      "Emotion scores for text: https://t.co/SbOyKFF1RP...\n"
     ]
    },
    {
     "name": "stderr",
     "output_type": "stream",
     "text": [
      " 62%|██████▏   | 1929/3113 [03:36<01:56, 10.19it/s]"
     ]
    },
    {
     "name": "stdout",
     "output_type": "stream",
     "text": [
      "Emotion scores for text: Having a small person as body cover for a large ma...\n",
      "Emotion scores for text: https://t.co/ZA0PnCNs91...\n",
      "Emotion scores for text: https://t.co/4ojDK0jMnj...\n"
     ]
    },
    {
     "name": "stderr",
     "output_type": "stream",
     "text": [
      " 62%|██████▏   | 1931/3113 [03:36<02:01,  9.75it/s]"
     ]
    },
    {
     "name": "stdout",
     "output_type": "stream",
     "text": [
      "Emotion scores for text: https://t.co/aZgsx4dH2p...\n",
      "Emotion scores for text: The New York Times just published this about Trump...\n"
     ]
    },
    {
     "name": "stderr",
     "output_type": "stream",
     "text": [
      " 62%|██████▏   | 1934/3113 [03:37<01:57, 10.00it/s]"
     ]
    },
    {
     "name": "stdout",
     "output_type": "stream",
     "text": [
      "Emotion scores for text: The Reid Hoffman’s of the world got their dearest ...\n",
      "Emotion scores for text: Last time America had a candidate this tough was T...\n",
      "Emotion scores for text: https://t.co/6eOgN9UdOy...\n"
     ]
    },
    {
     "name": "stderr",
     "output_type": "stream",
     "text": [
      " 62%|██████▏   | 1937/3113 [03:37<01:57, 10.00it/s]"
     ]
    },
    {
     "name": "stdout",
     "output_type": "stream",
     "text": [
      "Emotion scores for text: I fully endorse President Trump and hope for his r...\n",
      "Emotion scores for text: https://t.co/eCAo8Y96RP...\n",
      "Emotion scores for text: Congrats!\n",
      " https://t.co/HzPyFxuVEV...\n"
     ]
    },
    {
     "name": "stderr",
     "output_type": "stream",
     "text": [
      " 62%|██████▏   | 1939/3113 [03:37<01:50, 10.67it/s]"
     ]
    },
    {
     "name": "stdout",
     "output_type": "stream",
     "text": [
      "Emotion scores for text: https://t.co/R15GDtzJGa...\n",
      "Emotion scores for text: https://t.co/XLaQs1aIaj...\n",
      "Emotion scores for text: Improved version of @Neuralink update\n",
      " https://t.c...\n"
     ]
    },
    {
     "name": "stderr",
     "output_type": "stream",
     "text": [
      " 62%|██████▏   | 1942/3113 [03:38<02:08,  9.10it/s]"
     ]
    },
    {
     "name": "stdout",
     "output_type": "stream",
     "text": [
      "Emotion scores for text: Asimov’s Foundation series was part of the inspira...\n",
      "Emotion scores for text: Maybe this applies to real-life too 🤔 https://t.co...\n"
     ]
    },
    {
     "name": "stderr",
     "output_type": "stream",
     "text": [
      " 62%|██████▏   | 1943/3113 [03:38<02:09,  9.00it/s]"
     ]
    },
    {
     "name": "stdout",
     "output_type": "stream",
     "text": [
      "Emotion scores for text: When ur way underleveled for video game boss fight...\n",
      "Emotion scores for text: Computers will control the future\n",
      "…\n",
      "…\n",
      "…\n",
      "They alrea...\n"
     ]
    },
    {
     "name": "stderr",
     "output_type": "stream",
     "text": [
      " 63%|██████▎   | 1947/3113 [03:38<02:08,  9.07it/s]"
     ]
    },
    {
     "name": "stdout",
     "output_type": "stream",
     "text": [
      "Emotion scores for text: The physicality of the brain becomes startlingly o...\n",
      "Emotion scores for text: https://t.co/ypVpqaExq5...\n",
      "Emotion scores for text: After the presentation, the @Neuralink team will t...\n"
     ]
    },
    {
     "name": "stderr",
     "output_type": "stream",
     "text": [
      " 63%|██████▎   | 1950/3113 [03:38<02:01,  9.56it/s]"
     ]
    },
    {
     "name": "stdout",
     "output_type": "stream",
     "text": [
      "Emotion scores for text: The @Neuralink team is doing a live video update i...\n",
      "Emotion scores for text: Grok fun mode news is awesome 😂 https://t.co/NSac2...\n",
      "Emotion scores for text: The simulation is sending us a message 👀 https://t...\n"
     ]
    },
    {
     "name": "stderr",
     "output_type": "stream",
     "text": [
      " 63%|██████▎   | 1951/3113 [03:39<02:10,  8.93it/s]"
     ]
    },
    {
     "name": "stdout",
     "output_type": "stream",
     "text": [
      "Emotion scores for text: To make up for this heinous crime, I will refrain ...\n"
     ]
    },
    {
     "name": "stderr",
     "output_type": "stream",
     "text": [
      " 63%|██████▎   | 1952/3113 [03:39<03:08,  6.17it/s]"
     ]
    },
    {
     "name": "stdout",
     "output_type": "stream",
     "text": [
      "Emotion scores for text: Electronic voting machines and anything mailed in ...\n"
     ]
    },
    {
     "name": "stderr",
     "output_type": "stream",
     "text": [
      " 63%|██████▎   | 1955/3113 [03:39<02:48,  6.88it/s]"
     ]
    },
    {
     "name": "stdout",
     "output_type": "stream",
     "text": [
      "Emotion scores for text: When combined with mail-in ballots, the system is ...\n",
      "Emotion scores for text: https://t.co/x8Jcb91H9m...\n",
      "Emotion scores for text: 🚀🚀🇺🇸🇺🇸 AMERICA  🇺🇸🇺🇸🚀🚀\n",
      " https://t.co/ZQ00BL8YMC...\n"
     ]
    },
    {
     "name": "stderr",
     "output_type": "stream",
     "text": [
      " 63%|██████▎   | 1958/3113 [03:40<02:19,  8.29it/s]"
     ]
    },
    {
     "name": "stdout",
     "output_type": "stream",
     "text": [
      "Emotion scores for text: Tesla Gigafactory Supercomputer Cluster https://t....\n",
      "Emotion scores for text: 🇺🇸🇺🇸 Happy Independence Day! 🇺🇸🇺🇸...\n",
      "Emotion scores for text: The New York Times is attacking *your* freedom of ...\n"
     ]
    },
    {
     "name": "stderr",
     "output_type": "stream",
     "text": [
      " 63%|██████▎   | 1960/3113 [03:40<02:17,  8.36it/s]"
     ]
    },
    {
     "name": "stdout",
     "output_type": "stream",
     "text": [
      "Emotion scores for text: When will politicians, or at least the intern who ...\n",
      "Emotion scores for text: Other trucks look badass, Cybertruck actually is\n",
      " ...\n",
      "Emotion scores for text: https://t.co/JHy0bCU6Rb...\n"
     ]
    },
    {
     "name": "stderr",
     "output_type": "stream",
     "text": [
      " 63%|██████▎   | 1963/3113 [03:40<02:56,  6.53it/s]"
     ]
    },
    {
     "name": "stdout",
     "output_type": "stream",
     "text": [
      "Emotion scores for text: Some audiobook recommendations:\n",
      "\n",
      "The Story of Civi...\n",
      "Emotion scores for text: Another Grok banger 😂\n",
      " https://t.co/xgGrLj5Y2q...\n",
      "Emotion scores for text: 💪😂\n",
      " https://t.co/GQvLpUDSP1...\n"
     ]
    },
    {
     "name": "stderr",
     "output_type": "stream",
     "text": [
      " 63%|██████▎   | 1967/3113 [03:41<02:06,  9.06it/s]"
     ]
    },
    {
     "name": "stdout",
     "output_type": "stream",
     "text": [
      "Emotion scores for text: https://t.co/iqlQmpeTym...\n",
      "Emotion scores for text: 𝕏 is the group chat for Earth...\n",
      "Emotion scores for text: Our greatest dream is to send a spaceship to Uranu...\n"
     ]
    },
    {
     "name": "stderr",
     "output_type": "stream",
     "text": [
      " 63%|██████▎   | 1969/3113 [03:41<01:53, 10.07it/s]"
     ]
    },
    {
     "name": "stdout",
     "output_type": "stream",
     "text": [
      "Emotion scores for text: Subscriptions in support of your freedom to speak ...\n",
      "Emotion scores for text: Testing to see if this post reaches people in the ...\n",
      "Emotion scores for text: 𝕏 US usage reaches all-time high! 🚀\n",
      "\n",
      "76B total use...\n"
     ]
    },
    {
     "name": "stderr",
     "output_type": "stream",
     "text": [
      " 63%|██████▎   | 1971/3113 [03:41<01:59,  9.54it/s]"
     ]
    },
    {
     "name": "stdout",
     "output_type": "stream",
     "text": [
      "Emotion scores for text: Unmodified picture of the Falcon launch https://t....\n",
      "Emotion scores for text: https://t.co/MHOWICamV6...\n"
     ]
    },
    {
     "name": "stderr",
     "output_type": "stream",
     "text": [
      " 63%|██████▎   | 1973/3113 [03:41<02:03,  9.20it/s]"
     ]
    },
    {
     "name": "stdout",
     "output_type": "stream",
     "text": [
      "Emotion scores for text: Have to say that @CNN did a good job managing the ...\n"
     ]
    },
    {
     "name": "stderr",
     "output_type": "stream",
     "text": [
      " 63%|██████▎   | 1976/3113 [03:42<02:14,  8.48it/s]"
     ]
    },
    {
     "name": "stdout",
     "output_type": "stream",
     "text": [
      "Emotion scores for text: 30 years ago https://t.co/y8MDRQYY32...\n",
      "Emotion scores for text: Tonight was a clear victory … for memes...\n",
      "Emotion scores for text: Hawk … https://t.co/obql1nkpcd...\n"
     ]
    },
    {
     "name": "stderr",
     "output_type": "stream",
     "text": [
      " 64%|██████▎   | 1978/3113 [03:42<02:28,  7.64it/s]"
     ]
    },
    {
     "name": "stdout",
     "output_type": "stream",
     "text": [
      "Emotion scores for text: https://t.co/MnvArHwJRm...\n",
      "Emotion scores for text: Falcon Heavy side boosters land in Cape Canaveral,...\n"
     ]
    },
    {
     "name": "stderr",
     "output_type": "stream",
     "text": [
      " 64%|██████▎   | 1981/3113 [03:42<02:08,  8.84it/s]"
     ]
    },
    {
     "name": "stdout",
     "output_type": "stream",
     "text": [
      "Emotion scores for text: New weather satellite delivered!\n",
      " https://t.co/ZdH...\n",
      "Emotion scores for text: “Sue Origin”...\n",
      "Emotion scores for text: The trend is very strong that any AI company’s nam...\n"
     ]
    },
    {
     "name": "stderr",
     "output_type": "stream",
     "text": [
      " 64%|██████▎   | 1983/3113 [03:43<02:21,  7.99it/s]"
     ]
    },
    {
     "name": "stdout",
     "output_type": "stream",
     "text": [
      "Emotion scores for text: Anyone who claims that their political party does ...\n",
      "Emotion scores for text: https://t.co/vtCbii4wpF...\n"
     ]
    },
    {
     "name": "stderr",
     "output_type": "stream",
     "text": [
      " 64%|██████▍   | 1985/3113 [03:43<02:08,  8.76it/s]"
     ]
    },
    {
     "name": "stdout",
     "output_type": "stream",
     "text": [
      "Emotion scores for text: https://t.co/Z5nzuQlVFA...\n",
      "Emotion scores for text: Any given AI startup is doomed to become the oppos...\n"
     ]
    },
    {
     "name": "stderr",
     "output_type": "stream",
     "text": [
      " 64%|██████▍   | 1986/3113 [03:43<02:15,  8.30it/s]"
     ]
    },
    {
     "name": "stdout",
     "output_type": "stream",
     "text": [
      "Emotion scores for text: https://t.co/ZLwr4XxpQ0...\n",
      "Emotion scores for text: https://t.co/Q5lu80rNsx...\n"
     ]
    },
    {
     "name": "stderr",
     "output_type": "stream",
     "text": [
      " 64%|██████▍   | 1990/3113 [03:43<02:04,  9.01it/s]"
     ]
    },
    {
     "name": "stdout",
     "output_type": "stream",
     "text": [
      "Emotion scores for text: Working on the Tesla Master Plan 4. It will be epi...\n",
      "Emotion scores for text: Happy Father's Day!...\n",
      "Emotion scores for text: Legalize humor!!...\n"
     ]
    },
    {
     "name": "stderr",
     "output_type": "stream",
     "text": [
      " 64%|██████▍   | 1992/3113 [03:44<02:20,  7.95it/s]"
     ]
    },
    {
     "name": "stdout",
     "output_type": "stream",
     "text": [
      "Emotion scores for text: Wise words from a recent interview with @geoffreyh...\n",
      "Emotion scores for text: Sending this cake to Delaware as a parting gift 😘 ...\n"
     ]
    },
    {
     "name": "stderr",
     "output_type": "stream",
     "text": [
      " 64%|██████▍   | 1994/3113 [03:44<02:54,  6.43it/s]"
     ]
    },
    {
     "name": "stdout",
     "output_type": "stream",
     "text": [
      "Emotion scores for text: Both Tesla shareholder resolutions are currently p...\n",
      "Emotion scores for text: Massive increase in likes after they were made pri...\n"
     ]
    },
    {
     "name": "stderr",
     "output_type": "stream",
     "text": [
      " 64%|██████▍   | 1996/3113 [03:44<02:38,  7.06it/s]"
     ]
    },
    {
     "name": "stdout",
     "output_type": "stream",
     "text": [
      "Emotion scores for text: Grok fun mode news\n",
      " https://t.co/8RKrT0QdR6...\n",
      "Emotion scores for text: A teleportation time machine would be so helpful...\n"
     ]
    },
    {
     "name": "stderr",
     "output_type": "stream",
     "text": [
      " 64%|██████▍   | 1998/3113 [03:45<02:40,  6.94it/s]"
     ]
    },
    {
     "name": "stdout",
     "output_type": "stream",
     "text": [
      "Emotion scores for text: Here’s the problem with “agreeing” to share your d...\n",
      "Emotion scores for text: https://t.co/7OgZAAdPf6...\n"
     ]
    },
    {
     "name": "stderr",
     "output_type": "stream",
     "text": [
      " 64%|██████▍   | 2000/3113 [03:45<03:03,  6.07it/s]"
     ]
    },
    {
     "name": "stdout",
     "output_type": "stream",
     "text": [
      "Emotion scores for text: It’s patently absurd that Apple isn’t smart enough...\n",
      "Emotion scores for text: If Apple integrates OpenAI at the OS level, then A...\n",
      "Emotion scores for text: https://t.co/aHJdIIMu63...\n"
     ]
    },
    {
     "name": "stderr",
     "output_type": "stream",
     "text": [
      " 64%|██████▍   | 2002/3113 [03:45<02:24,  7.71it/s]"
     ]
    },
    {
     "name": "stdout",
     "output_type": "stream",
     "text": [
      "Emotion scores for text: https://t.co/x8igWmGwmr...\n",
      "Emotion scores for text: @OpenskiesX @Tesla Yeah...\n"
     ]
    },
    {
     "name": "stderr",
     "output_type": "stream",
     "text": [
      " 64%|██████▍   | 2006/3113 [03:46<02:04,  8.89it/s]"
     ]
    },
    {
     "name": "stdout",
     "output_type": "stream",
     "text": [
      "Emotion scores for text: I’ve mentioned something like this before, but, if...\n",
      "Emotion scores for text: https://t.co/7rolx0R2fT...\n",
      "Emotion scores for text: Ship it https://t.co/Kj5OTpmmK5...\n"
     ]
    },
    {
     "name": "stderr",
     "output_type": "stream",
     "text": [
      " 65%|██████▍   | 2008/3113 [03:46<02:01,  9.07it/s]"
     ]
    },
    {
     "name": "stdout",
     "output_type": "stream",
     "text": [
      "Emotion scores for text: https://t.co/vxfpYfc9iV...\n",
      "Emotion scores for text: Congratulations @narendramodi on your victory in t...\n"
     ]
    },
    {
     "name": "stderr",
     "output_type": "stream",
     "text": [
      " 65%|██████▍   | 2010/3113 [03:46<02:04,  8.87it/s]"
     ]
    },
    {
     "name": "stdout",
     "output_type": "stream",
     "text": [
      "Emotion scores for text: If you want a detailed explanation of why I switch...\n",
      "Emotion scores for text: Starship weighs 5000 tons on liftoff \n",
      " https://t.c...\n",
      "Emotion scores for text: Starship separates from booster https://t.co/YZJzi...\n"
     ]
    },
    {
     "name": "stderr",
     "output_type": "stream",
     "text": [
      " 65%|██████▍   | 2014/3113 [03:47<01:59,  9.20it/s]"
     ]
    },
    {
     "name": "stdout",
     "output_type": "stream",
     "text": [
      "Emotion scores for text: Starship reentering like a meteor https://t.co/Yjf...\n",
      "Emotion scores for text: https://t.co/BbjB6RuI7t...\n",
      "Emotion scores for text: Today was a great day for humanity’s future as a s...\n"
     ]
    },
    {
     "name": "stderr",
     "output_type": "stream",
     "text": [
      " 65%|██████▍   | 2016/3113 [03:47<01:48, 10.11it/s]"
     ]
    },
    {
     "name": "stdout",
     "output_type": "stream",
     "text": [
      "Emotion scores for text: Accurate 😂...\n",
      "Emotion scores for text: @AstroJordy 😂...\n"
     ]
    },
    {
     "name": "stderr",
     "output_type": "stream",
     "text": [
      " 65%|██████▍   | 2018/3113 [03:47<02:05,  8.73it/s]"
     ]
    },
    {
     "name": "stdout",
     "output_type": "stream",
     "text": [
      "Emotion scores for text: Why is Starship made of stainless steel? This arti...\n",
      "Emotion scores for text: 🚀🚀 Stainless Steel Rocket 🚀🚀...\n",
      "Emotion scores for text: https://t.co/wpnm4CKDjY...\n"
     ]
    },
    {
     "name": "stderr",
     "output_type": "stream",
     "text": [
      " 65%|██████▍   | 2021/3113 [03:47<01:59,  9.14it/s]"
     ]
    },
    {
     "name": "stdout",
     "output_type": "stream",
     "text": [
      "Emotion scores for text: Launch tmrw morning at 7:20 Texas time https://t.c...\n",
      "Emotion scores for text: Yeah, @Jack is right\n",
      " https://t.co/sIhNIE3QXV...\n",
      "Emotion scores for text: The @SpaceX Starship launch tomorrow morning will ...\n"
     ]
    },
    {
     "name": "stderr",
     "output_type": "stream",
     "text": [
      " 65%|██████▌   | 2025/3113 [03:48<01:42, 10.67it/s]"
     ]
    },
    {
     "name": "stdout",
     "output_type": "stream",
     "text": [
      "Emotion scores for text: https://t.co/0dfKAFoQYm...\n",
      "Emotion scores for text: 2𝕏ist is 🤩...\n",
      "Emotion scores for text: https://t.co/CXXEA1tDfc...\n"
     ]
    },
    {
     "name": "stderr",
     "output_type": "stream",
     "text": [
      " 65%|██████▌   | 2027/3113 [03:48<01:41, 10.70it/s]"
     ]
    },
    {
     "name": "stdout",
     "output_type": "stream",
     "text": [
      "Emotion scores for text: Starship is ready to fly https://t.co/3PIb5FhHaR...\n",
      "Emotion scores for text: Civilization is careening towards dystopia/utopia...\n",
      "Emotion scores for text: The tote bag https://t.co/gHgD61PodY...\n"
     ]
    },
    {
     "name": "stderr",
     "output_type": "stream",
     "text": [
      " 65%|██████▌   | 2031/3113 [03:48<01:39, 10.83it/s]"
     ]
    },
    {
     "name": "stdout",
     "output_type": "stream",
     "text": [
      "Emotion scores for text: Starlink just achieved a new internal median laten...\n",
      "Emotion scores for text: The proscriptions of Marius led to the proscriptio...\n",
      "Emotion scores for text: https://t.co/PSd4722WqV...\n",
      "Emotion scores for text: Why is making life multiplanetary important?\n",
      " http...\n"
     ]
    },
    {
     "name": "stderr",
     "output_type": "stream",
     "text": [
      " 65%|██████▌   | 2034/3113 [03:49<02:07,  8.48it/s]"
     ]
    },
    {
     "name": "stdout",
     "output_type": "stream",
     "text": [
      "Emotion scores for text: Embrace cringe https://t.co/hGPSpfIh0P...\n",
      "Emotion scores for text: Thanks Chamath!\n",
      " https://t.co/w3mzfLDQ2P...\n",
      "Emotion scores for text: https://t.co/H6VTnaVt65...\n"
     ]
    },
    {
     "name": "stderr",
     "output_type": "stream",
     "text": [
      " 65%|██████▌   | 2036/3113 [03:49<01:57,  9.13it/s]"
     ]
    },
    {
     "name": "stdout",
     "output_type": "stream",
     "text": [
      "Emotion scores for text: https://t.co/hAxXoLF2O9...\n"
     ]
    },
    {
     "name": "stderr",
     "output_type": "stream",
     "text": [
      " 65%|██████▌   | 2038/3113 [03:49<02:17,  7.82it/s]"
     ]
    },
    {
     "name": "stdout",
     "output_type": "stream",
     "text": [
      "Emotion scores for text: Anything that potentially challenges the Standard ...\n",
      "Emotion scores for text: “Tesla is far ahead in self-driving cars” – Jensen...\n",
      "Emotion scores for text: https://t.co/4gfbrypECg...\n"
     ]
    },
    {
     "name": "stderr",
     "output_type": "stream",
     "text": [
      " 66%|██████▌   | 2041/3113 [03:50<02:17,  7.80it/s]"
     ]
    },
    {
     "name": "stdout",
     "output_type": "stream",
     "text": [
      "Emotion scores for text: The goal of citizenship for all illegals is very c...\n",
      "Emotion scores for text: Just a reminder that Earth is almost empty of huma...\n"
     ]
    },
    {
     "name": "stderr",
     "output_type": "stream",
     "text": [
      " 66%|██████▌   | 2044/3113 [03:50<01:57,  9.13it/s]"
     ]
    },
    {
     "name": "stdout",
     "output_type": "stream",
     "text": [
      "Emotion scores for text: Could be a good one\n",
      "https://t.co/PZKM9sWz4m...\n",
      "Emotion scores for text: https://t.co/HAhqxoTcvi...\n",
      "Emotion scores for text: Rocket gymnastics\n",
      " https://t.co/HTZmnXk3XS...\n"
     ]
    },
    {
     "name": "stderr",
     "output_type": "stream",
     "text": [
      " 66%|██████▌   | 2046/3113 [03:50<01:44, 10.20it/s]"
     ]
    },
    {
     "name": "stdout",
     "output_type": "stream",
     "text": [
      "Emotion scores for text: https://t.co/4awVq8Q4ia...\n",
      "Emotion scores for text: Asian women earn more than white men...\n",
      "Emotion scores for text: Interesting visit to @LosAlamosNatLab today. Discu...\n"
     ]
    },
    {
     "name": "stderr",
     "output_type": "stream",
     "text": [
      " 66%|██████▌   | 2048/3113 [03:50<01:44, 10.23it/s]"
     ]
    },
    {
     "name": "stdout",
     "output_type": "stream",
     "text": [
      "Emotion scores for text: Launching @Starlink in Fiji with ⁦@PresidentFiji⁩!...\n",
      "Emotion scores for text: Teamwork can solve anything https://t.co/wy8yJuR4l...\n"
     ]
    },
    {
     "name": "stderr",
     "output_type": "stream",
     "text": [
      " 66%|██████▌   | 2052/3113 [03:51<01:48,  9.78it/s]"
     ]
    },
    {
     "name": "stdout",
     "output_type": "stream",
     "text": [
      "Emotion scores for text: Easy to order online in 2 minutes at https://t.co/...\n",
      "Emotion scores for text: Testing Grok news funny mode\n",
      " https://t.co/1LpjGGf...\n",
      "Emotion scores for text: This is the quality of humor we want from Grok htt...\n"
     ]
    },
    {
     "name": "stderr",
     "output_type": "stream",
     "text": [
      " 66%|██████▌   | 2054/3113 [03:51<01:50,  9.59it/s]"
     ]
    },
    {
     "name": "stdout",
     "output_type": "stream",
     "text": [
      "Emotion scores for text: Congratulations to the @SpaceX team on passing 3 m...\n",
      "Emotion scores for text: The New Woke Times is truly unreadable https://t.c...\n"
     ]
    },
    {
     "name": "stderr",
     "output_type": "stream",
     "text": [
      " 66%|██████▌   | 2056/3113 [03:51<01:43, 10.17it/s]"
     ]
    },
    {
     "name": "stdout",
     "output_type": "stream",
     "text": [
      "Emotion scores for text: Stream on 𝕏 https://t.co/USA6e0DVlO...\n",
      "Emotion scores for text: Echoes of present day https://t.co/ZqNbKF3bN1...\n",
      "Emotion scores for text: Very much worth listening to the Tides of History ...\n"
     ]
    },
    {
     "name": "stderr",
     "output_type": "stream",
     "text": [
      " 66%|██████▌   | 2059/3113 [03:51<01:49,  9.67it/s]"
     ]
    },
    {
     "name": "stdout",
     "output_type": "stream",
     "text": [
      "Emotion scores for text: Bringing connectivity to remote communities radica...\n",
      "Emotion scores for text: Honored to launch @Starlink in Indonesia! https://...\n"
     ]
    },
    {
     "name": "stderr",
     "output_type": "stream",
     "text": [
      " 66%|██████▌   | 2062/3113 [03:52<01:39, 10.55it/s]"
     ]
    },
    {
     "name": "stdout",
     "output_type": "stream",
     "text": [
      "Emotion scores for text: Stream your gameplay on 𝕏!\n",
      " https://t.co/E8et5dq0x...\n",
      "Emotion scores for text: The Apple headphones are great...\n",
      "Emotion scores for text: There are no coincidences https://t.co/QYD65DNNCp...\n"
     ]
    },
    {
     "name": "stderr",
     "output_type": "stream",
     "text": [
      " 66%|██████▋   | 2064/3113 [03:52<01:37, 10.75it/s]"
     ]
    },
    {
     "name": "stdout",
     "output_type": "stream",
     "text": [
      "Emotion scores for text: Ice cream is an amazing invention https://t.co/l2t...\n",
      "Emotion scores for text: https://t.co/4xDnuk3ZAv...\n",
      "Emotion scores for text: Falcon going to orbit as seen from ocean https://t...\n"
     ]
    },
    {
     "name": "stderr",
     "output_type": "stream",
     "text": [
      " 66%|██████▋   | 2066/3113 [03:52<01:43, 10.10it/s]"
     ]
    },
    {
     "name": "stdout",
     "output_type": "stream",
     "text": [
      "Emotion scores for text: All core systems are now on https://t.co/bOUOek5Cv...\n",
      "Emotion scores for text: Early days of SpaceX\n",
      " https://t.co/y6TsAqYcvt...\n"
     ]
    },
    {
     "name": "stderr",
     "output_type": "stream",
     "text": [
      " 66%|██████▋   | 2070/3113 [03:52<01:38, 10.55it/s]"
     ]
    },
    {
     "name": "stdout",
     "output_type": "stream",
     "text": [
      "Emotion scores for text: Grok will soon offer a humorous take on the news i...\n",
      "Emotion scores for text: Stacking Starship https://t.co/FLAwrCI9Br...\n",
      "Emotion scores for text: Optimus will be amazing...\n"
     ]
    },
    {
     "name": "stderr",
     "output_type": "stream",
     "text": [
      " 67%|██████▋   | 2072/3113 [03:53<01:34, 10.98it/s]"
     ]
    },
    {
     "name": "stdout",
     "output_type": "stream",
     "text": [
      "Emotion scores for text: https://t.co/zTCVL0NiMq...\n",
      "Emotion scores for text: https://t.co/JeJgyBYm5G...\n",
      "Emotion scores for text: SpaceX’s mission is to extend consciousness to Mar...\n"
     ]
    },
    {
     "name": "stderr",
     "output_type": "stream",
     "text": [
      " 67%|██████▋   | 2076/3113 [03:53<01:28, 11.66it/s]"
     ]
    },
    {
     "name": "stdout",
     "output_type": "stream",
     "text": [
      "Emotion scores for text: https://t.co/pUnBcNla3C...\n",
      "Emotion scores for text: 🥰 Happy Mother’s Day 🥰...\n",
      "Emotion scores for text: How the Federal Reserve works https://t.co/3rRhbBf...\n"
     ]
    },
    {
     "name": "stderr",
     "output_type": "stream",
     "text": [
      " 67%|██████▋   | 2078/3113 [03:53<01:32, 11.15it/s]"
     ]
    },
    {
     "name": "stdout",
     "output_type": "stream",
     "text": [
      "Emotion scores for text: You really feel that bass https://t.co/JrvQXCwGj5...\n",
      "Emotion scores for text: Starships preparing for spaceflight https://t.co/c...\n"
     ]
    },
    {
     "name": "stderr",
     "output_type": "stream",
     "text": [
      " 67%|██████▋   | 2080/3113 [03:53<01:47,  9.62it/s]"
     ]
    },
    {
     "name": "stdout",
     "output_type": "stream",
     "text": [
      "Emotion scores for text: Major geomagnetic solar storm happening right now....\n",
      "Emotion scores for text: Just started a Supercharger Community\n",
      " https://t.c...\n"
     ]
    },
    {
     "name": "stderr",
     "output_type": "stream",
     "text": [
      " 67%|██████▋   | 2082/3113 [03:54<02:01,  8.51it/s]"
     ]
    },
    {
     "name": "stdout",
     "output_type": "stream",
     "text": [
      "Emotion scores for text: Just to reiterate: Tesla will spend well over $500...\n",
      "Emotion scores for text: What Earthlooks like in radio frequency from the ⁦...\n"
     ]
    },
    {
     "name": "stderr",
     "output_type": "stream",
     "text": [
      " 67%|██████▋   | 2085/3113 [03:54<02:06,  8.14it/s]"
     ]
    },
    {
     "name": "stdout",
     "output_type": "stream",
     "text": [
      "Emotion scores for text: Given the terrible flooding in Rio Grande do Sul, ...\n",
      "Emotion scores for text: This is real https://t.co/0VERdNzUPB...\n",
      "Emotion scores for text: At the risk of sounding elitist, I prefer IHOP htt...\n"
     ]
    },
    {
     "name": "stderr",
     "output_type": "stream",
     "text": [
      " 67%|██████▋   | 2087/3113 [03:54<01:57,  8.76it/s]"
     ]
    },
    {
     "name": "stdout",
     "output_type": "stream",
     "text": [
      "Emotion scores for text: This sounds insane if accurate!\n",
      "\n",
      "@CommunityNotes, ...\n",
      "Emotion scores for text: This was Optimus not long ago https://t.co/nqlXuSY...\n",
      "Emotion scores for text: https://t.co/n5At3jZYlG...\n"
     ]
    },
    {
     "name": "stderr",
     "output_type": "stream",
     "text": [
      " 67%|██████▋   | 2090/3113 [03:55<01:46,  9.62it/s]"
     ]
    },
    {
     "name": "stdout",
     "output_type": "stream",
     "text": [
      "Emotion scores for text: Streaming live from @MilkenInstitute in ~10 mins...\n",
      "Emotion scores for text: Great meeting with President ⁦@JMilei⁩! https://t....\n"
     ]
    },
    {
     "name": "stderr",
     "output_type": "stream",
     "text": [
      " 67%|██████▋   | 2091/3113 [03:55<01:51,  9.13it/s]"
     ]
    },
    {
     "name": "stdout",
     "output_type": "stream",
     "text": [
      "Emotion scores for text: Maiden launch of Falcon Heavy, the most powerful o...\n",
      "Emotion scores for text: Despite a massive bot purge, the 𝕏 platform reache...\n"
     ]
    },
    {
     "name": "stderr",
     "output_type": "stream",
     "text": [
      " 67%|██████▋   | 2094/3113 [03:55<02:10,  7.84it/s]"
     ]
    },
    {
     "name": "stdout",
     "output_type": "stream",
     "text": [
      "Emotion scores for text: The standard Tesla Model Y now has a 320 mile rang...\n",
      "Emotion scores for text: Always think about this with my little fluffy dog....\n"
     ]
    },
    {
     "name": "stderr",
     "output_type": "stream",
     "text": [
      " 67%|██████▋   | 2097/3113 [03:55<01:48,  9.36it/s]"
     ]
    },
    {
     "name": "stdout",
     "output_type": "stream",
     "text": [
      "Emotion scores for text: Lil X turns 4 today on May 4th https://t.co/YbyJ4D...\n",
      "Emotion scores for text: Entropy\n",
      "Entropy\n",
      "No escaping\n",
      "That for me...\n",
      "Emotion scores for text: https://t.co/L46eXb3MVp...\n"
     ]
    },
    {
     "name": "stderr",
     "output_type": "stream",
     "text": [
      " 67%|██████▋   | 2099/3113 [03:56<01:40, 10.12it/s]"
     ]
    },
    {
     "name": "stdout",
     "output_type": "stream",
     "text": [
      "Emotion scores for text: It will bring you good fortune https://t.co/pBcrCu...\n",
      "Emotion scores for text: https://t.co/x09cC5Izhn...\n",
      "Emotion scores for text: Proposed law: if someone tears down the American f...\n"
     ]
    },
    {
     "name": "stderr",
     "output_type": "stream",
     "text": [
      " 68%|██████▊   | 2103/3113 [03:56<01:45,  9.54it/s]"
     ]
    },
    {
     "name": "stdout",
     "output_type": "stream",
     "text": [
      "Emotion scores for text: Tesla still plans to grow the Supercharger network...\n",
      "Emotion scores for text: https://t.co/wl9k99TL3h...\n",
      "Emotion scores for text: Worth hearing this lecture by @GadSaad \n",
      " https://t...\n"
     ]
    },
    {
     "name": "stderr",
     "output_type": "stream",
     "text": [
      " 68%|██████▊   | 2105/3113 [03:56<01:39, 10.15it/s]"
     ]
    },
    {
     "name": "stdout",
     "output_type": "stream",
     "text": [
      "Emotion scores for text: https://t.co/eygrdIhWZz...\n",
      "Emotion scores for text: https://t.co/PJgxu0AszT...\n",
      "Emotion scores for text: If birth rates continue to plummet, human civiliza...\n"
     ]
    },
    {
     "name": "stderr",
     "output_type": "stream",
     "text": [
      " 68%|██████▊   | 2107/3113 [03:56<01:39, 10.08it/s]"
     ]
    },
    {
     "name": "stdout",
     "output_type": "stream",
     "text": [
      "Emotion scores for text: Make comedy legal again!\n",
      " https://t.co/nTf9wmlfzn...\n",
      "Emotion scores for text: Honored to meet with Premier Li Qiang.\n",
      "\n",
      "We have kn...\n"
     ]
    },
    {
     "name": "stderr",
     "output_type": "stream",
     "text": [
      " 68%|██████▊   | 2109/3113 [03:57<01:57,  8.53it/s]"
     ]
    },
    {
     "name": "stdout",
     "output_type": "stream",
     "text": [
      "Emotion scores for text: Model 3 Performance is epic\n",
      " https://t.co/kyYRWFAF...\n"
     ]
    },
    {
     "name": "stderr",
     "output_type": "stream",
     "text": [
      " 68%|██████▊   | 2112/3113 [03:57<02:01,  8.23it/s]"
     ]
    },
    {
     "name": "stdout",
     "output_type": "stream",
     "text": [
      "Emotion scores for text: If you teach that “weak makes right”, then the per...\n",
      "Emotion scores for text: https://t.co/suGbbJx8lR...\n",
      "Emotion scores for text: https://t.co/2cyem8ZxTD...\n"
     ]
    },
    {
     "name": "stderr",
     "output_type": "stream",
     "text": [
      " 68%|██████▊   | 2115/3113 [03:57<01:48,  9.16it/s]"
     ]
    },
    {
     "name": "stdout",
     "output_type": "stream",
     "text": [
      "Emotion scores for text: Dustin, wd u lik sum t? https://t.co/8m95snbLuJ...\n",
      "Emotion scores for text: https://t.co/Kt3efgjKEd...\n",
      "Emotion scores for text: Babe, tell me the truth … https://t.co/kkW3GXNBVl...\n"
     ]
    },
    {
     "name": "stderr",
     "output_type": "stream",
     "text": [
      " 68%|██████▊   | 2117/3113 [03:58<02:17,  7.27it/s]"
     ]
    },
    {
     "name": "stdout",
     "output_type": "stream",
     "text": [
      "Emotion scores for text: Most of history had and still most of the world ha...\n",
      "Emotion scores for text: The axiomatic error undermining much of Western Ci...\n"
     ]
    },
    {
     "name": "stderr",
     "output_type": "stream",
     "text": [
      " 68%|██████▊   | 2120/3113 [03:58<02:06,  7.85it/s]"
     ]
    },
    {
     "name": "stdout",
     "output_type": "stream",
     "text": [
      "Emotion scores for text: This graph illustrates the woke mind virus taking ...\n",
      "Emotion scores for text: https://t.co/wE4xtPrZx0...\n",
      "Emotion scores for text: The notification tab is currently in chronological...\n"
     ]
    },
    {
     "name": "stderr",
     "output_type": "stream",
     "text": [
      " 68%|██████▊   | 2122/3113 [03:58<01:55,  8.58it/s]"
     ]
    },
    {
     "name": "stdout",
     "output_type": "stream",
     "text": [
      "Emotion scores for text: https://t.co/w5EHJAx5g6...\n",
      "Emotion scores for text: Tesla is the lowest cost car to maintain https://t...\n"
     ]
    },
    {
     "name": "stderr",
     "output_type": "stream",
     "text": [
      " 68%|██████▊   | 2125/3113 [03:59<01:42,  9.68it/s]"
     ]
    },
    {
     "name": "stdout",
     "output_type": "stream",
     "text": [
      "Emotion scores for text: Don’t take my word for it, just ask the Australian...\n",
      "Emotion scores for text: https://t.co/5UVYrBNtsv...\n",
      "Emotion scores for text: Time to make crime illegal again...\n"
     ]
    },
    {
     "name": "stderr",
     "output_type": "stream",
     "text": [
      " 68%|██████▊   | 2127/3113 [03:59<01:33, 10.60it/s]"
     ]
    },
    {
     "name": "stdout",
     "output_type": "stream",
     "text": [
      "Emotion scores for text: @telmudic 😂...\n",
      "Emotion scores for text: https://t.co/IRklAnUBnj...\n",
      "Emotion scores for text: Accurate...\n"
     ]
    },
    {
     "name": "stderr",
     "output_type": "stream",
     "text": [
      " 68%|██████▊   | 2129/3113 [03:59<01:24, 11.58it/s]"
     ]
    },
    {
     "name": "stdout",
     "output_type": "stream",
     "text": [
      "Emotion scores for text: https://t.co/BTX7YnPo4t...\n",
      "Emotion scores for text: https://t.co/Mkk4p5NAfM...\n"
     ]
    },
    {
     "name": "stderr",
     "output_type": "stream",
     "text": [
      " 69%|██████▊   | 2133/3113 [03:59<01:36, 10.21it/s]"
     ]
    },
    {
     "name": "stdout",
     "output_type": "stream",
     "text": [
      "Emotion scores for text: In my opinion, TikTok should not be banned in the ...\n",
      "Emotion scores for text: Any accounts doing engagement farming will be susp...\n",
      "Emotion scores for text: We should send rockets not at each other, but rath...\n"
     ]
    },
    {
     "name": "stderr",
     "output_type": "stream",
     "text": [
      " 69%|██████▊   | 2135/3113 [04:00<01:33, 10.43it/s]"
     ]
    },
    {
     "name": "stdout",
     "output_type": "stream",
     "text": [
      "Emotion scores for text: https://t.co/WhrDatC6Fq...\n",
      "Emotion scores for text: It’s a real problem! https://t.co/WJYqoTzzSR...\n",
      "Emotion scores for text: https://t.co/7gjy1KQT1Y...\n"
     ]
    },
    {
     "name": "stderr",
     "output_type": "stream",
     "text": [
      " 69%|██████▊   | 2137/3113 [04:00<01:36, 10.06it/s]"
     ]
    },
    {
     "name": "stdout",
     "output_type": "stream",
     "text": [
      "Emotion scores for text: Every time I hear about GPU FLOPS https://t.co/n06...\n",
      "Emotion scores for text: Given the relentless attacks on free speech, I am ...\n",
      "Emotion scores for text: Concerning that less than 1/3 of F-35s, the most a...\n"
     ]
    },
    {
     "name": "stderr",
     "output_type": "stream",
     "text": [
      " 69%|██████▉   | 2141/3113 [04:00<01:34, 10.24it/s]"
     ]
    },
    {
     "name": "stdout",
     "output_type": "stream",
     "text": [
      "Emotion scores for text: Now you know part of why it turned into https://t....\n",
      "Emotion scores for text: https://t.co/f70oI27AIm...\n",
      "Emotion scores for text: Super-powerful AI programmed in this way has sever...\n"
     ]
    },
    {
     "name": "stderr",
     "output_type": "stream",
     "text": [
      " 69%|██████▉   | 2143/3113 [04:00<01:28, 10.97it/s]"
     ]
    },
    {
     "name": "stdout",
     "output_type": "stream",
     "text": [
      "Emotion scores for text: Bring back Vine?...\n",
      "Emotion scores for text: Whoa, I just realized that raising a kid is basica...\n"
     ]
    },
    {
     "name": "stderr",
     "output_type": "stream",
     "text": [
      " 69%|██████▉   | 2147/3113 [04:01<01:36, 10.05it/s]"
     ]
    },
    {
     "name": "stdout",
     "output_type": "stream",
     "text": [
      "Emotion scores for text: If you’re experiencing severe neck/back pain, I re...\n",
      "Emotion scores for text: @ErgoFuego 😂...\n",
      "Emotion scores for text: https://t.co/wXlbpNU97H...\n"
     ]
    },
    {
     "name": "stderr",
     "output_type": "stream",
     "text": [
      " 69%|██████▉   | 2149/3113 [04:01<01:32, 10.46it/s]"
     ]
    },
    {
     "name": "stdout",
     "output_type": "stream",
     "text": [
      "Emotion scores for text: https://t.co/etG77nfB7M...\n",
      "Emotion scores for text: 🤔 https://t.co/DfHjcN4L01...\n",
      "Emotion scores for text: The refreshing breeze of the Overton window openin...\n"
     ]
    },
    {
     "name": "stderr",
     "output_type": "stream",
     "text": [
      " 69%|██████▉   | 2153/3113 [04:01<01:25, 11.19it/s]"
     ]
    },
    {
     "name": "stdout",
     "output_type": "stream",
     "text": [
      "Emotion scores for text: https://t.co/zK1V35WTLF...\n",
      "Emotion scores for text: Always wondered what that chair was for https://t....\n",
      "Emotion scores for text: https://t.co/dawkqi42pX...\n"
     ]
    },
    {
     "name": "stderr",
     "output_type": "stream",
     "text": [
      " 69%|██████▉   | 2155/3113 [04:02<01:29, 10.71it/s]"
     ]
    },
    {
     "name": "stdout",
     "output_type": "stream",
     "text": [
      "Emotion scores for text: To an exciting &amp; inspiring future! https://t.c...\n",
      "Emotion scores for text: https://t.co/eIhSUbjBH2...\n",
      "Emotion scores for text: 😱 https://t.co/8RPvaJ4gqV...\n"
     ]
    },
    {
     "name": "stderr",
     "output_type": "stream",
     "text": [
      " 69%|██████▉   | 2159/3113 [04:02<01:29, 10.70it/s]"
     ]
    },
    {
     "name": "stdout",
     "output_type": "stream",
     "text": [
      "Emotion scores for text: 𝕏 just received an inquiry from the US House of Re...\n",
      "Emotion scores for text: True\n",
      " https://t.co/qQEe4O29SD...\n",
      "Emotion scores for text: 𝕏 algorithm update coming soon with more bangers a...\n"
     ]
    },
    {
     "name": "stderr",
     "output_type": "stream",
     "text": [
      " 69%|██████▉   | 2161/3113 [04:02<01:28, 10.72it/s]"
     ]
    },
    {
     "name": "stdout",
     "output_type": "stream",
     "text": [
      "Emotion scores for text: Looking forward to meeting with Prime Minister @Na...\n",
      "Emotion scores for text: Precisely \n",
      " https://t.co/mbnnpIHVbD...\n",
      "Emotion scores for text: What are the odds? 😂 https://t.co/NSRIHfrV4O...\n"
     ]
    },
    {
     "name": "stderr",
     "output_type": "stream",
     "text": [
      " 70%|██████▉   | 2165/3113 [04:02<01:27, 10.82it/s]"
     ]
    },
    {
     "name": "stdout",
     "output_type": "stream",
     "text": [
      "Emotion scores for text: https://t.co/idCPsSCiPp...\n",
      "Emotion scores for text: How did @Alexandre de Moraes become the dictator o...\n",
      "Emotion scores for text: View of the eclipse from orbit\n",
      " https://t.co/2jQGN...\n"
     ]
    },
    {
     "name": "stderr",
     "output_type": "stream",
     "text": [
      " 70%|██████▉   | 2167/3113 [04:03<01:29, 10.55it/s]"
     ]
    },
    {
     "name": "stdout",
     "output_type": "stream",
     "text": [
      "Emotion scores for text: https://t.co/gKoHxYpHPC...\n",
      "Emotion scores for text: Was cool to see the eclipse from Austin. ~27 years...\n",
      "Emotion scores for text: https://t.co/0mqZh1oK6J...\n"
     ]
    },
    {
     "name": "stderr",
     "output_type": "stream",
     "text": [
      " 70%|██████▉   | 2169/3113 [04:03<01:27, 10.76it/s]"
     ]
    },
    {
     "name": "stdout",
     "output_type": "stream",
     "text": [
      "Emotion scores for text: https://t.co/r5T7V5ZO6Q...\n",
      "Emotion scores for text: Coming shortly, 𝕏 will publish everything demanded...\n"
     ]
    },
    {
     "name": "stderr",
     "output_type": "stream",
     "text": [
      " 70%|██████▉   | 2172/3113 [04:03<01:52,  8.37it/s]"
     ]
    },
    {
     "name": "stdout",
     "output_type": "stream",
     "text": [
      "Emotion scores for text: Inter-satellite lasers are currently only used if ...\n",
      "Emotion scores for text: Discussion with head of Norway’s sovereign fund, @...\n"
     ]
    },
    {
     "name": "stderr",
     "output_type": "stream",
     "text": [
      " 70%|██████▉   | 2175/3113 [04:04<01:37,  9.60it/s]"
     ]
    },
    {
     "name": "stdout",
     "output_type": "stream",
     "text": [
      "Emotion scores for text: For the people of Earth https://t.co/5dWeItduN3...\n",
      "Emotion scores for text: Soon\n",
      " https://t.co/mKwoDrtai4...\n",
      "Emotion scores for text: I wrote this 8 years ago \n",
      "https://t.co/r9GdXpUDe2...\n"
     ]
    },
    {
     "name": "stderr",
     "output_type": "stream",
     "text": [
      " 70%|██████▉   | 2177/3113 [04:04<01:41,  9.26it/s]"
     ]
    },
    {
     "name": "stdout",
     "output_type": "stream",
     "text": [
      "Emotion scores for text: Rise &amp; fall of the first civilization  https:/...\n",
      "Emotion scores for text: We should always judge people as individuals, even...\n",
      "Emotion scores for text: Congrats Tesla AI team!...\n"
     ]
    },
    {
     "name": "stderr",
     "output_type": "stream",
     "text": [
      " 70%|███████   | 2181/3113 [04:04<01:28, 10.55it/s]"
     ]
    },
    {
     "name": "stdout",
     "output_type": "stream",
     "text": [
      "Emotion scores for text: Too much of the environmentalist movement has morp...\n",
      "Emotion scores for text: Tesla Robotaxi unveil on 8/8...\n",
      "Emotion scores for text: Press the search button 🔍 to see real-time customi...\n"
     ]
    },
    {
     "name": "stderr",
     "output_type": "stream",
     "text": [
      " 70%|███████   | 2183/3113 [04:04<01:45,  8.85it/s]"
     ]
    },
    {
     "name": "stdout",
     "output_type": "stream",
     "text": [
      "Emotion scores for text: System purge of bots &amp; trolls underway. \n",
      "\n",
      "Plea...\n",
      "Emotion scores for text: Did you know that it costs as little as 3 cents pe...\n"
     ]
    },
    {
     "name": "stderr",
     "output_type": "stream",
     "text": [
      " 70%|███████   | 2185/3113 [04:05<01:38,  9.44it/s]"
     ]
    },
    {
     "name": "stdout",
     "output_type": "stream",
     "text": [
      "Emotion scores for text: https://t.co/mgSNqdUR6a...\n",
      "Emotion scores for text: Traffic on 𝕏 reaches all-time high https://t.co/1k...\n"
     ]
    },
    {
     "name": "stderr",
     "output_type": "stream",
     "text": [
      " 70%|███████   | 2187/3113 [04:05<01:43,  8.91it/s]"
     ]
    },
    {
     "name": "stdout",
     "output_type": "stream",
     "text": [
      "Emotion scores for text: In case you thought government trying to force hom...\n",
      "Emotion scores for text: We live on stolen land. \n",
      "\n",
      "By “we”, I mean us mamma...\n"
     ]
    },
    {
     "name": "stderr",
     "output_type": "stream",
     "text": [
      " 70%|███████   | 2189/3113 [04:05<01:40,  9.19it/s]"
     ]
    },
    {
     "name": "stdout",
     "output_type": "stream",
     "text": [
      "Emotion scores for text: Whoa, this documentary of New York is intense! htt...\n",
      "Emotion scores for text: So many April Fool’s jokes that are actually plaus...\n"
     ]
    },
    {
     "name": "stderr",
     "output_type": "stream",
     "text": [
      " 70%|███████   | 2191/3113 [04:05<01:52,  8.22it/s]"
     ]
    },
    {
     "name": "stdout",
     "output_type": "stream",
     "text": [
      "Emotion scores for text: Excited to join @Disney as their Chief DEI Officer...\n",
      "Emotion scores for text: SpaceX aiming for 3 launches today! One Eutelsat, ...\n"
     ]
    },
    {
     "name": "stderr",
     "output_type": "stream",
     "text": [
      " 70%|███████   | 2193/3113 [04:06<01:43,  8.85it/s]"
     ]
    },
    {
     "name": "stdout",
     "output_type": "stream",
     "text": [
      "Emotion scores for text: History is complicated \n",
      "https://t.co/LcCscQEaOT...\n",
      "Emotion scores for text: Only 379,000 births in Italy for 2023, the lowest ...\n",
      "Emotion scores for text: https://t.co/N1Cn8Dftgi...\n"
     ]
    },
    {
     "name": "stderr",
     "output_type": "stream",
     "text": [
      " 71%|███████   | 2197/3113 [04:06<01:30, 10.16it/s]"
     ]
    },
    {
     "name": "stdout",
     "output_type": "stream",
     "text": [
      "Emotion scores for text: https://t.co/nNcTPlucnt...\n",
      "Emotion scores for text: The first condition of progress is the removal of ...\n",
      "Emotion scores for text: Going forward, all 𝕏 accounts with over 2500 verif...\n"
     ]
    },
    {
     "name": "stderr",
     "output_type": "stream",
     "text": [
      " 71%|███████   | 2199/3113 [04:06<01:26, 10.58it/s]"
     ]
    },
    {
     "name": "stdout",
     "output_type": "stream",
     "text": [
      "Emotion scores for text: Grok has normal mode and fun mode. Tonight, we dec...\n",
      "Emotion scores for text: @telmudic Small world...\n",
      "Emotion scores for text: Nothing more precious than old friends...\n"
     ]
    },
    {
     "name": "stderr",
     "output_type": "stream",
     "text": [
      " 71%|███████   | 2203/3113 [04:06<01:23, 10.86it/s]"
     ]
    },
    {
     "name": "stdout",
     "output_type": "stream",
     "text": [
      "Emotion scores for text: https://t.co/CFPmmmMSKl...\n",
      "Emotion scores for text: This will be a spicy year https://t.co/XG3pWJGS10...\n",
      "Emotion scores for text: Found this in my fortune cookie tonight https://t....\n"
     ]
    },
    {
     "name": "stderr",
     "output_type": "stream",
     "text": [
      " 71%|███████   | 2205/3113 [04:07<01:21, 11.19it/s]"
     ]
    },
    {
     "name": "stdout",
     "output_type": "stream",
     "text": [
      "Emotion scores for text: The circle will be complete \n",
      " https://t.co/QkT7K9Q...\n",
      "Emotion scores for text: https://t.co/XjsRu2Z8uC...\n",
      "Emotion scores for text: If in doubt, always listen to @JohnCleese!\n",
      "https:/...\n"
     ]
    },
    {
     "name": "stderr",
     "output_type": "stream",
     "text": [
      " 71%|███████   | 2207/3113 [04:07<01:26, 10.45it/s]"
     ]
    },
    {
     "name": "stdout",
     "output_type": "stream",
     "text": [
      "Emotion scores for text: Everyone, yes everyone, is far right! 😂\n",
      " https://t...\n",
      "Emotion scores for text: Please forward links to 𝕏 posts to your friends so...\n"
     ]
    },
    {
     "name": "stderr",
     "output_type": "stream",
     "text": [
      " 71%|███████   | 2211/3113 [04:07<01:21, 11.13it/s]"
     ]
    },
    {
     "name": "stdout",
     "output_type": "stream",
     "text": [
      "Emotion scores for text: Werner Herzog makes a great point\n",
      "\n",
      "https://t.co/LV...\n",
      "Emotion scores for text: Ironic...\n",
      "Emotion scores for text: https://t.co/Olr73lHTHk...\n"
     ]
    },
    {
     "name": "stderr",
     "output_type": "stream",
     "text": [
      " 71%|███████   | 2213/3113 [04:07<01:22, 10.97it/s]"
     ]
    },
    {
     "name": "stdout",
     "output_type": "stream",
     "text": [
      "Emotion scores for text: Starbase, Texas, rocket factory https://t.co/bfUIm...\n",
      "Emotion scores for text: We all have our demons to fight https://t.co/w4Uqz...\n",
      "Emotion scores for text: Some Falcon landing shots https://t.co/yv4FJjHVNq...\n"
     ]
    },
    {
     "name": "stderr",
     "output_type": "stream",
     "text": [
      " 71%|███████   | 2217/3113 [04:08<01:18, 11.43it/s]"
     ]
    },
    {
     "name": "stdout",
     "output_type": "stream",
     "text": [
      "Emotion scores for text: When sending medical advice, ask your doctor, but ...\n",
      "Emotion scores for text: @telmudic It has that potential...\n",
      "Emotion scores for text: https://t.co/PwikoVKONw...\n",
      "Emotion scores for text: 🍊 is the new 🍋...\n"
     ]
    },
    {
     "name": "stderr",
     "output_type": "stream",
     "text": [
      " 71%|███████▏  | 2219/3113 [04:08<01:16, 11.67it/s]"
     ]
    },
    {
     "name": "stdout",
     "output_type": "stream",
     "text": [
      "Emotion scores for text: .@steveaoki just received his Cybertruck\n",
      " https://...\n",
      "Emotion scores for text: Most reasonable people, because they are reasonabl...\n"
     ]
    },
    {
     "name": "stderr",
     "output_type": "stream",
     "text": [
      " 71%|███████▏  | 2223/3113 [04:08<01:20, 11.07it/s]"
     ]
    },
    {
     "name": "stdout",
     "output_type": "stream",
     "text": [
      "Emotion scores for text: This is actually happening!\n",
      " https://t.co/qeNBu3S1...\n",
      "Emotion scores for text: https://t.co/3Vj6pcTa4I...\n",
      "Emotion scores for text: https://t.co/GJmq3wiJ3Q...\n"
     ]
    },
    {
     "name": "stderr",
     "output_type": "stream",
     "text": [
      " 71%|███████▏  | 2225/3113 [04:08<01:15, 11.73it/s]"
     ]
    },
    {
     "name": "stdout",
     "output_type": "stream",
     "text": [
      "Emotion scores for text: https://t.co/VaUCMxpbgD...\n",
      "Emotion scores for text: Yeah...\n",
      "Emotion scores for text: https://t.co/ISL9LJboSF...\n"
     ]
    },
    {
     "name": "stderr",
     "output_type": "stream",
     "text": [
      " 72%|███████▏  | 2227/3113 [04:09<01:16, 11.60it/s]"
     ]
    },
    {
     "name": "stdout",
     "output_type": "stream",
     "text": [
      "Emotion scores for text: Please send links from this platform to your frien...\n",
      "Emotion scores for text: Speech with full context\n",
      " https://t.co/7ly7Cf3fEG...\n"
     ]
    },
    {
     "name": "stderr",
     "output_type": "stream",
     "text": [
      " 72%|███████▏  | 2231/3113 [04:09<01:32,  9.51it/s]"
     ]
    },
    {
     "name": "stdout",
     "output_type": "stream",
     "text": [
      "Emotion scores for text: Easy to tell who is an NPC today https://t.co/8u6I...\n",
      "Emotion scores for text: https://t.co/Z2UtwdHBJS...\n",
      "Emotion scores for text: The most entertaining outcome – as if we’re in a s...\n"
     ]
    },
    {
     "name": "stderr",
     "output_type": "stream",
     "text": [
      " 72%|███████▏  | 2233/3113 [04:09<01:24, 10.37it/s]"
     ]
    },
    {
     "name": "stdout",
     "output_type": "stream",
     "text": [
      "Emotion scores for text: @telmudic @Austen 🤣...\n",
      "Emotion scores for text: Don “Veruca Salt” 🍋...\n",
      "Emotion scores for text: Wild that this is a real picture https://t.co/V2LW...\n"
     ]
    },
    {
     "name": "stderr",
     "output_type": "stream",
     "text": [
      " 72%|███████▏  | 2237/3113 [04:10<01:22, 10.67it/s]"
     ]
    },
    {
     "name": "stdout",
     "output_type": "stream",
     "text": [
      "Emotion scores for text: https://t.co/6MijOXWHxi...\n",
      "Emotion scores for text: Tower cam in real-time https://t.co/vc74t9MpkI...\n",
      "Emotion scores for text: To the stars https://t.co/BjrvXpkcgz...\n"
     ]
    },
    {
     "name": "stderr",
     "output_type": "stream",
     "text": [
      " 72%|███████▏  | 2239/3113 [04:10<01:21, 10.71it/s]"
     ]
    },
    {
     "name": "stdout",
     "output_type": "stream",
     "text": [
      "Emotion scores for text: That is the actual sign at Starbase, Texas https:/...\n",
      "Emotion scores for text: https://t.co/3ey9VH9bYt...\n"
     ]
    },
    {
     "name": "stderr",
     "output_type": "stream",
     "text": [
      " 72%|███████▏  | 2241/3113 [04:10<01:46,  8.18it/s]"
     ]
    },
    {
     "name": "stdout",
     "output_type": "stream",
     "text": [
      "Emotion scores for text: A friend of mine suggested that I clarify the natu...\n",
      "Emotion scores for text: Has anyone seen Ilya? https://t.co/6Iz3mkHTup...\n",
      "Emotion scores for text: https://t.co/YPfV3mlsOZ...\n"
     ]
    },
    {
     "name": "stderr",
     "output_type": "stream",
     "text": [
      " 72%|███████▏  | 2244/3113 [04:11<01:42,  8.48it/s]"
     ]
    },
    {
     "name": "stdout",
     "output_type": "stream",
     "text": [
      "Emotion scores for text: Starship will take humanity to Mars https://t.co/B...\n",
      "Emotion scores for text: Starship will make life multiplanetary https://t.c...\n"
     ]
    },
    {
     "name": "stderr",
     "output_type": "stream",
     "text": [
      " 72%|███████▏  | 2246/3113 [04:11<01:42,  8.42it/s]"
     ]
    },
    {
     "name": "stdout",
     "output_type": "stream",
     "text": [
      "Emotion scores for text: Watch the super hot plasma field grow as Starship ...\n",
      "Emotion scores for text: Starship reached orbital velocity!\n",
      "\n",
      "Congratulation...\n"
     ]
    },
    {
     "name": "stderr",
     "output_type": "stream",
     "text": [
      " 72%|███████▏  | 2248/3113 [04:11<01:40,  8.61it/s]"
     ]
    },
    {
     "name": "stdout",
     "output_type": "stream",
     "text": [
      "Emotion scores for text: Starship launch attempt in ~5 hours\n",
      " https://t.co/...\n",
      "Emotion scores for text: And you can also use AirPlay\n",
      " https://t.co/QmTOUaE...\n"
     ]
    },
    {
     "name": "stderr",
     "output_type": "stream",
     "text": [
      " 72%|███████▏  | 2250/3113 [04:11<01:38,  8.75it/s]"
     ]
    },
    {
     "name": "stdout",
     "output_type": "stream",
     "text": [
      "Emotion scores for text: Teach a people to hate themselves and their histor...\n",
      "Emotion scores for text: https://t.co/ChoR5FgTG9...\n"
     ]
    },
    {
     "name": "stderr",
     "output_type": "stream",
     "text": [
      " 72%|███████▏  | 2253/3113 [04:12<01:35,  9.04it/s]"
     ]
    },
    {
     "name": "stdout",
     "output_type": "stream",
     "text": [
      "Emotion scores for text: https://t.co/Og6pgbbFZE...\n",
      "Emotion scores for text: https://t.co/ua0EFESqpB...\n",
      "Emotion scores for text: https://t.co/E6qq4WRuIx...\n"
     ]
    },
    {
     "name": "stderr",
     "output_type": "stream",
     "text": [
      " 72%|███████▏  | 2255/3113 [04:12<01:38,  8.70it/s]"
     ]
    },
    {
     "name": "stdout",
     "output_type": "stream",
     "text": [
      "Emotion scores for text: Tesla full self-driving v12.3 in action...\n",
      "Emotion scores for text: Puberty blockers aka sterilization drugs will no l...\n"
     ]
    },
    {
     "name": "stderr",
     "output_type": "stream",
     "text": [
      " 73%|███████▎  | 2257/3113 [04:12<01:43,  8.31it/s]"
     ]
    },
    {
     "name": "stdout",
     "output_type": "stream",
     "text": [
      "Emotion scores for text: The new OpenAI logo is really on point https://t.c...\n",
      "Emotion scores for text: The woke mind virus has even infected science jour...\n"
     ]
    },
    {
     "name": "stderr",
     "output_type": "stream",
     "text": [
      " 73%|███████▎  | 2258/3113 [04:12<01:46,  8.03it/s]"
     ]
    },
    {
     "name": "stdout",
     "output_type": "stream",
     "text": [
      "Emotion scores for text: https://t.co/EvjUBiP3v5...\n",
      "Emotion scores for text: https://t.co/0RGOO6lY97...\n"
     ]
    },
    {
     "name": "stderr",
     "output_type": "stream",
     "text": [
      " 73%|███████▎  | 2261/3113 [04:13<01:49,  7.75it/s]"
     ]
    },
    {
     "name": "stdout",
     "output_type": "stream",
     "text": [
      "Emotion scores for text: AI AI AI https://t.co/WDsfOXVVpA...\n",
      "Emotion scores for text: In the coming weeks, posts that you add to your Hi...\n"
     ]
    },
    {
     "name": "stderr",
     "output_type": "stream",
     "text": [
      " 73%|███████▎  | 2263/3113 [04:13<01:46,  7.96it/s]"
     ]
    },
    {
     "name": "stdout",
     "output_type": "stream",
     "text": [
      "Emotion scores for text: This week, @xAI will open source Grok...\n",
      "Emotion scores for text: https://t.co/ZCr5p8fgQI...\n",
      "Emotion scores for text: https://t.co/V05FxXmdsb...\n"
     ]
    },
    {
     "name": "stderr",
     "output_type": "stream",
     "text": [
      " 73%|███████▎  | 2266/3113 [04:13<01:39,  8.48it/s]"
     ]
    },
    {
     "name": "stdout",
     "output_type": "stream",
     "text": [
      "Emotion scores for text: https://t.co/AYXM4Qzmw8...\n",
      "Emotion scores for text: https://t.co/PZi0OzUHZK...\n"
     ]
    },
    {
     "name": "stderr",
     "output_type": "stream",
     "text": [
      " 73%|███████▎  | 2268/3113 [04:13<01:27,  9.61it/s]"
     ]
    },
    {
     "name": "stdout",
     "output_type": "stream",
     "text": [
      "Emotion scores for text: Winning an Oscar now just means you won the woke c...\n",
      "Emotion scores for text: @telmudic 😂...\n"
     ]
    },
    {
     "name": "stderr",
     "output_type": "stream",
     "text": [
      " 73%|███████▎  | 2270/3113 [04:14<02:20,  6.02it/s]"
     ]
    },
    {
     "name": "stdout",
     "output_type": "stream",
     "text": [
      "Emotion scores for text: Because I am raising concerns about the flood of u...\n",
      "Emotion scores for text: Illegals beat up American police officers in Times...\n"
     ]
    },
    {
     "name": "stderr",
     "output_type": "stream",
     "text": [
      " 73%|███████▎  | 2271/3113 [04:14<02:06,  6.68it/s]"
     ]
    },
    {
     "name": "stdout",
     "output_type": "stream",
     "text": [
      "Emotion scores for text: https://t.co/jU9sIoM3IO...\n",
      "Emotion scores for text: Now live \n",
      " https://t.co/yp0Sl1B8JG...\n"
     ]
    },
    {
     "name": "stderr",
     "output_type": "stream",
     "text": [
      " 73%|███████▎  | 2275/3113 [04:14<01:46,  7.84it/s]"
     ]
    },
    {
     "name": "stdout",
     "output_type": "stream",
     "text": [
      "Emotion scores for text: Most Americans are still unaware that the census c...\n",
      "Emotion scores for text: Long way to go, but 𝕏 will strive to make every pi...\n",
      "Emotion scores for text: WPATH is pure evil \n",
      " https://t.co/sDxMsdeGMO...\n"
     ]
    },
    {
     "name": "stderr",
     "output_type": "stream",
     "text": [
      " 73%|███████▎  | 2278/3113 [04:15<01:31,  9.14it/s]"
     ]
    },
    {
     "name": "stdout",
     "output_type": "stream",
     "text": [
      "Emotion scores for text: Kids can be taught to believe anything. \n",
      "\n",
      "Mental f...\n",
      "Emotion scores for text: Fixed it https://t.co/KPtYLsJU3h...\n",
      "Emotion scores for text: Politics is tribal, rather than logical...\n"
     ]
    },
    {
     "name": "stderr",
     "output_type": "stream",
     "text": [
      " 73%|███████▎  | 2281/3113 [04:15<01:24,  9.88it/s]"
     ]
    },
    {
     "name": "stdout",
     "output_type": "stream",
     "text": [
      "Emotion scores for text: The power of government grows ever stronger with e...\n",
      "Emotion scores for text: Just to be super clear, I am not donating money to...\n",
      "Emotion scores for text: https://t.co/zCnUNKK9N2...\n"
     ]
    },
    {
     "name": "stderr",
     "output_type": "stream",
     "text": [
      " 73%|███████▎  | 2283/3113 [04:15<01:28,  9.37it/s]"
     ]
    },
    {
     "name": "stdout",
     "output_type": "stream",
     "text": [
      "Emotion scores for text: Cybertruck on Hoth https://t.co/x6jKop8diQ...\n",
      "Emotion scores for text: It was inevitable 😂\n",
      "\n",
      "Now back to work.\n",
      "\n",
      "Will strea...\n"
     ]
    },
    {
     "name": "stderr",
     "output_type": "stream",
     "text": [
      " 73%|███████▎  | 2286/3113 [04:16<01:26,  9.54it/s]"
     ]
    },
    {
     "name": "stdout",
     "output_type": "stream",
     "text": [
      "Emotion scores for text: https://t.co/VTOACNfb3E...\n",
      "Emotion scores for text: If you’re reading this post, it’s because our serv...\n",
      "Emotion scores for text: The @SpaceX Dragon is on final docking approach to...\n"
     ]
    },
    {
     "name": "stderr",
     "output_type": "stream",
     "text": [
      " 73%|███████▎  | 2288/3113 [04:16<01:25,  9.66it/s]"
     ]
    },
    {
     "name": "stdout",
     "output_type": "stream",
     "text": [
      "Emotion scores for text: https://t.co/a1fdxssrO5...\n",
      "Emotion scores for text: Took some Benadryl for an allergic reaction. Their...\n"
     ]
    },
    {
     "name": "stderr",
     "output_type": "stream",
     "text": [
      " 74%|███████▎  | 2291/3113 [04:16<01:33,  8.80it/s]"
     ]
    },
    {
     "name": "stdout",
     "output_type": "stream",
     "text": [
      "Emotion scores for text: This administration is both importing voters and c...\n",
      "Emotion scores for text: Google AI Q&amp;A https://t.co/CHokk6mfjp...\n",
      "Emotion scores for text: 🙈 https://t.co/hkoCUJOcz8...\n"
     ]
    },
    {
     "name": "stderr",
     "output_type": "stream",
     "text": [
      " 74%|███████▎  | 2293/3113 [04:16<01:32,  8.86it/s]"
     ]
    },
    {
     "name": "stdout",
     "output_type": "stream",
     "text": [
      "Emotion scores for text: Cybertruck is built bullet-tough \n",
      "https://t.co/MUi...\n",
      "Emotion scores for text: Woke Jeopardy ideas …\n",
      "\n",
      "“Difficult questions that r...\n",
      "Emotion scores for text: https://t.co/DJaT3SAXZg...\n"
     ]
    },
    {
     "name": "stderr",
     "output_type": "stream",
     "text": [
      " 74%|███████▍  | 2297/3113 [04:17<01:21, 10.06it/s]"
     ]
    },
    {
     "name": "stdout",
     "output_type": "stream",
     "text": [
      "Emotion scores for text: AI is Schrödinger’s Code...\n",
      "Emotion scores for text: A classic by @SwipeWright https://t.co/ktaZUF4S7W...\n",
      "Emotion scores for text: https://t.co/7XmOgQ7E2P...\n"
     ]
    },
    {
     "name": "stderr",
     "output_type": "stream",
     "text": [
      " 74%|███████▍  | 2299/3113 [04:17<01:22,  9.91it/s]"
     ]
    },
    {
     "name": "stdout",
     "output_type": "stream",
     "text": [
      "Emotion scores for text: The biggest lie the legacy media makes is narrativ...\n",
      "Emotion scores for text: Heck of a coincidence 😂 https://t.co/g6GinUKeE4...\n"
     ]
    },
    {
     "name": "stderr",
     "output_type": "stream",
     "text": [
      " 74%|███████▍  | 2302/3113 [04:17<01:19, 10.14it/s]"
     ]
    },
    {
     "name": "stdout",
     "output_type": "stream",
     "text": [
      "Emotion scores for text: SpaceX just achieved peak download speed of 17Mb/s...\n",
      "Emotion scores for text: Wow...\n",
      "Emotion scores for text: Good book https://t.co/P5pEaPfv11...\n"
     ]
    },
    {
     "name": "stderr",
     "output_type": "stream",
     "text": [
      " 74%|███████▍  | 2304/3113 [04:17<01:21,  9.97it/s]"
     ]
    },
    {
     "name": "stdout",
     "output_type": "stream",
     "text": [
      "Emotion scores for text: How to audio or video call someone on 𝕏\n",
      " https://t...\n",
      "Emotion scores for text: In the coming weeks, Grok will summarize these mam...\n"
     ]
    },
    {
     "name": "stderr",
     "output_type": "stream",
     "text": [
      " 74%|███████▍  | 2307/3113 [04:18<01:20,  9.99it/s]"
     ]
    },
    {
     "name": "stdout",
     "output_type": "stream",
     "text": [
      "Emotion scores for text: Inspired by that penguin movie, you will soon have...\n",
      "Emotion scores for text: Put “Never Went to Therapy” on my gravestone...\n",
      "Emotion scores for text: 𝕏 is the PvP of social media...\n"
     ]
    },
    {
     "name": "stderr",
     "output_type": "stream",
     "text": [
      " 74%|███████▍  | 2308/3113 [04:18<01:25,  9.40it/s]"
     ]
    },
    {
     "name": "stdout",
     "output_type": "stream",
     "text": [
      "Emotion scores for text: A change is coming to our recommendation algorithm...\n",
      "Emotion scores for text: https://t.co/f6pMCG7hdN...\n"
     ]
    },
    {
     "name": "stderr",
     "output_type": "stream",
     "text": [
      " 74%|███████▍  | 2312/3113 [04:18<01:21,  9.85it/s]"
     ]
    },
    {
     "name": "stdout",
     "output_type": "stream",
     "text": [
      "Emotion scores for text: Tonight, we radically increased the design goals f...\n",
      "Emotion scores for text: Another case of selective prosecution...\n",
      "Emotion scores for text: Static fire test of our next @NASA astronaut fligh...\n"
     ]
    },
    {
     "name": "stderr",
     "output_type": "stream",
     "text": [
      " 74%|███████▍  | 2314/3113 [04:18<01:17, 10.35it/s]"
     ]
    },
    {
     "name": "stdout",
     "output_type": "stream",
     "text": [
      "Emotion scores for text: https://t.co/UcA01AXCuZ...\n",
      "Emotion scores for text: 😂 https://t.co/DOaUkOTYGC...\n",
      "Emotion scores for text: https://t.co/ztUMHcjfs6...\n"
     ]
    },
    {
     "name": "stderr",
     "output_type": "stream",
     "text": [
      " 74%|███████▍  | 2316/3113 [04:19<01:16, 10.42it/s]"
     ]
    },
    {
     "name": "stdout",
     "output_type": "stream",
     "text": [
      "Emotion scores for text: What’s the difference between a conspiracy and the...\n",
      "Emotion scores for text: Just bought a new PC laptop and it won’t let me us...\n"
     ]
    },
    {
     "name": "stderr",
     "output_type": "stream",
     "text": [
      " 74%|███████▍  | 2319/3113 [04:19<01:27,  9.11it/s]"
     ]
    },
    {
     "name": "stdout",
     "output_type": "stream",
     "text": [
      "Emotion scores for text: @AlperenGr859 Correct 🎯...\n",
      "Emotion scores for text: Waiting for Diablo Gauntlet leaderboards to launch...\n"
     ]
    },
    {
     "name": "stderr",
     "output_type": "stream",
     "text": [
      " 75%|███████▍  | 2321/3113 [04:19<01:33,  8.48it/s]"
     ]
    },
    {
     "name": "stdout",
     "output_type": "stream",
     "text": [
      "Emotion scores for text: Optimus strolling around the lab https://t.co/E25t...\n",
      "Emotion scores for text: Meta Staff Found Instagram Tool Enabled Child Expl...\n"
     ]
    },
    {
     "name": "stderr",
     "output_type": "stream",
     "text": [
      " 75%|███████▍  | 2324/3113 [04:20<01:26,  9.10it/s]"
     ]
    },
    {
     "name": "stdout",
     "output_type": "stream",
     "text": [
      "Emotion scores for text: A senior exec at Google called and spoke to me for...\n",
      "Emotion scores for text: Worth watching \n",
      " https://t.co/CtDis8nPCK...\n",
      "Emotion scores for text: https://t.co/zLMzBA7N5Y...\n"
     ]
    },
    {
     "name": "stderr",
     "output_type": "stream",
     "text": [
      " 75%|███████▍  | 2326/3113 [04:20<01:22,  9.56it/s]"
     ]
    },
    {
     "name": "stdout",
     "output_type": "stream",
     "text": [
      "Emotion scores for text: https://t.co/NIB8n2Qjqn...\n",
      "Emotion scores for text: Sup https://t.co/bxSwBCA45G...\n",
      "Emotion scores for text: https://t.co/DJaBNq0Mvu...\n"
     ]
    },
    {
     "name": "stderr",
     "output_type": "stream",
     "text": [
      " 75%|███████▍  | 2329/3113 [04:20<01:27,  8.92it/s]"
     ]
    },
    {
     "name": "stdout",
     "output_type": "stream",
     "text": [
      "Emotion scores for text: I’m glad that Google overplayed their hand with th...\n",
      "Emotion scores for text: Then he called his Mommy, drank a whole case of so...\n"
     ]
    },
    {
     "name": "stderr",
     "output_type": "stream",
     "text": [
      " 75%|███████▍  | 2332/3113 [04:20<01:22,  9.51it/s]"
     ]
    },
    {
     "name": "stdout",
     "output_type": "stream",
     "text": [
      "Emotion scores for text: I just typed in a Google query on my phone and the...\n",
      "Emotion scores for text: The subtle knife of censorship cuts deep...\n",
      "Emotion scores for text: I can’t believe Gemini made these unfair pics of T...\n"
     ]
    },
    {
     "name": "stderr",
     "output_type": "stream",
     "text": [
      " 75%|███████▍  | 2334/3113 [04:21<01:17, 10.09it/s]"
     ]
    },
    {
     "name": "stdout",
     "output_type": "stream",
     "text": [
      "Emotion scores for text: “Every joke is a tiny revolution” – George Orwell...\n",
      "Emotion scores for text: Which path do you want for AI? https://t.co/1OoujR...\n",
      "Emotion scores for text: @otis9usa @SawyerMerritt Yup...\n"
     ]
    },
    {
     "name": "stderr",
     "output_type": "stream",
     "text": [
      " 75%|███████▌  | 2336/3113 [04:21<01:27,  8.83it/s]"
     ]
    },
    {
     "name": "stdout",
     "output_type": "stream",
     "text": [
      "Emotion scores for text: Perhaps it is now clear why @xAI’s Grok is so impo...\n",
      "Emotion scores for text: This is a test...\n"
     ]
    },
    {
     "name": "stderr",
     "output_type": "stream",
     "text": [
      " 75%|███████▌  | 2339/3113 [04:21<01:28,  8.75it/s]"
     ]
    },
    {
     "name": "stdout",
     "output_type": "stream",
     "text": [
      "Emotion scores for text: When you pin a post, it is now automatically added...\n",
      "Emotion scores for text: Where is Sherlock Holmes when you need him!? https...\n",
      "Emotion scores for text: @browserdotsys https://t.co/eV69PpSwnG...\n"
     ]
    },
    {
     "name": "stderr",
     "output_type": "stream",
     "text": [
      " 75%|███████▌  | 2341/3113 [04:21<01:22,  9.41it/s]"
     ]
    },
    {
     "name": "stdout",
     "output_type": "stream",
     "text": [
      "Emotion scores for text: “Extra” virgin mfw https://t.co/yd908fcNgT...\n"
     ]
    },
    {
     "name": "stderr",
     "output_type": "stream",
     "text": [
      " 75%|███████▌  | 2344/3113 [04:22<02:15,  5.68it/s]"
     ]
    },
    {
     "name": "stdout",
     "output_type": "stream",
     "text": [
      "Emotion scores for text: From Grok 😂\n",
      "———\n",
      "Roast the whole idea of “content m...\n",
      "Emotion scores for text: https://t.co/PSd4722oBn...\n",
      "Emotion scores for text: Tesla will never make a concept car that doesn’t b...\n"
     ]
    },
    {
     "name": "stderr",
     "output_type": "stream",
     "text": [
      " 75%|███████▌  | 2346/3113 [04:23<01:55,  6.65it/s]"
     ]
    },
    {
     "name": "stdout",
     "output_type": "stream",
     "text": [
      "Emotion scores for text: Tesla generative video from last year\n",
      " https://t.c...\n",
      "Emotion scores for text: If you’re lucky, history remembers you as a salad ...\n"
     ]
    },
    {
     "name": "stderr",
     "output_type": "stream",
     "text": [
      " 75%|███████▌  | 2349/3113 [04:23<01:35,  8.03it/s]"
     ]
    },
    {
     "name": "stdout",
     "output_type": "stream",
     "text": [
      "Emotion scores for text: https://t.co/bCFXYYTQB7...\n",
      "Emotion scores for text: Worth watching, especially for parents \n",
      "https://t....\n",
      "Emotion scores for text: Interesting article on “disinformation”\n",
      "https://t....\n"
     ]
    },
    {
     "name": "stderr",
     "output_type": "stream",
     "text": [
      " 76%|███████▌  | 2352/3113 [04:23<01:21,  9.28it/s]"
     ]
    },
    {
     "name": "stdout",
     "output_type": "stream",
     "text": [
      "Emotion scores for text: Hormonal birth control makes you fat, doubles risk...\n",
      "Emotion scores for text: https://t.co/siNIJpXSBX...\n",
      "Emotion scores for text: https://t.co/uRGuCo5Imd...\n"
     ]
    },
    {
     "name": "stderr",
     "output_type": "stream",
     "text": [
      " 76%|███████▌  | 2354/3113 [04:23<01:14, 10.19it/s]"
     ]
    },
    {
     "name": "stdout",
     "output_type": "stream",
     "text": [
      "Emotion scores for text: Wisdom has been chasing me, but I have always been...\n",
      "Emotion scores for text: https://t.co/o7eaJg3GoC...\n",
      "Emotion scores for text: https://t.co/6RQ3bRxQTU...\n"
     ]
    },
    {
     "name": "stderr",
     "output_type": "stream",
     "text": [
      " 76%|███████▌  | 2358/3113 [04:24<01:16,  9.86it/s]"
     ]
    },
    {
     "name": "stdout",
     "output_type": "stream",
     "text": [
      "Emotion scores for text: SpaceX has moved its state of incorporation from D...\n",
      "Emotion scores for text: Amazing that some people still think the news is r...\n",
      "Emotion scores for text: Which path, Western World? https://t.co/b2tLjQ2NVD...\n"
     ]
    },
    {
     "name": "stderr",
     "output_type": "stream",
     "text": [
      " 76%|███████▌  | 2360/3113 [04:24<01:11, 10.53it/s]"
     ]
    },
    {
     "name": "stdout",
     "output_type": "stream",
     "text": [
      "Emotion scores for text: https://t.co/GrUwisdkRk...\n",
      "Emotion scores for text: @Dr_Merica2 @RepThomasMassie Highly likely...\n",
      "Emotion scores for text: https://t.co/31793hpOTX...\n"
     ]
    },
    {
     "name": "stderr",
     "output_type": "stream",
     "text": [
      " 76%|███████▌  | 2364/3113 [04:24<01:15,  9.95it/s]"
     ]
    },
    {
     "name": "stdout",
     "output_type": "stream",
     "text": [
      "Emotion scores for text: gm...\n",
      "Emotion scores for text: https://t.co/f0V9MMdOx3...\n",
      "Emotion scores for text: What’s up with this spending bill? https://t.co/nl...\n"
     ]
    },
    {
     "name": "stderr",
     "output_type": "stream",
     "text": [
      " 76%|███████▌  | 2366/3113 [04:25<01:23,  9.00it/s]"
     ]
    },
    {
     "name": "stdout",
     "output_type": "stream",
     "text": [
      "Emotion scores for text: Amazon is also killing creativity with draconian D...\n",
      "Emotion scores for text: A number of false news reports claim that SpaceX i...\n"
     ]
    },
    {
     "name": "stderr",
     "output_type": "stream",
     "text": [
      " 76%|███████▌  | 2368/3113 [04:25<01:21,  9.16it/s]"
     ]
    },
    {
     "name": "stdout",
     "output_type": "stream",
     "text": [
      "Emotion scores for text: There is no fooling the Internet https://t.co/YNcv...\n",
      "Emotion scores for text: Boobs just rock, it’s a fact https://t.co/GVpny76b...\n",
      "Emotion scores for text: I love puppies https://t.co/IalJYhayec...\n"
     ]
    },
    {
     "name": "stderr",
     "output_type": "stream",
     "text": [
      " 76%|███████▌  | 2372/3113 [04:25<01:14,  9.92it/s]"
     ]
    },
    {
     "name": "stdout",
     "output_type": "stream",
     "text": [
      "Emotion scores for text: Starship Super Heavy Rocket Booster\n",
      "(people for sc...\n",
      "Emotion scores for text: The Year of the Dragon https://t.co/7Z3ZP4fej6...\n",
      "Emotion scores for text: America, America! https://t.co/jijCUnccD0...\n"
     ]
    },
    {
     "name": "stderr",
     "output_type": "stream",
     "text": [
      " 76%|███████▋  | 2374/3113 [04:25<01:15,  9.78it/s]"
     ]
    },
    {
     "name": "stdout",
     "output_type": "stream",
     "text": [
      "Emotion scores for text: This year, the @SpaceX Dragon spaceship will take ...\n",
      "Emotion scores for text: In a few months, I will discontinue my phone numbe...\n",
      "Emotion scores for text: https://t.co/glVg5MxWOu...\n"
     ]
    },
    {
     "name": "stderr",
     "output_type": "stream",
     "text": [
      " 76%|███████▋  | 2378/3113 [04:26<01:09, 10.51it/s]"
     ]
    },
    {
     "name": "stdout",
     "output_type": "stream",
     "text": [
      "Emotion scores for text: Disney sucks...\n",
      "Emotion scores for text: Yup https://t.co/7IH5qO67qC...\n",
      "Emotion scores for text: If I had a dollar for every time the media reporte...\n"
     ]
    },
    {
     "name": "stderr",
     "output_type": "stream",
     "text": [
      " 76%|███████▋  | 2380/3113 [04:26<01:10, 10.40it/s]"
     ]
    },
    {
     "name": "stdout",
     "output_type": "stream",
     "text": [
      "Emotion scores for text: Ice cream is amazing \n",
      " https://t.co/F5Aul85fA2...\n",
      "Emotion scores for text: 𝕏 is now the #1 most downloaded app of any kind! h...\n",
      "Emotion scores for text: Insane...\n"
     ]
    },
    {
     "name": "stderr",
     "output_type": "stream",
     "text": [
      " 77%|███████▋  | 2384/3113 [04:26<01:09, 10.50it/s]"
     ]
    },
    {
     "name": "stdout",
     "output_type": "stream",
     "text": [
      "Emotion scores for text: An anonymous source just sent me this from Disney....\n",
      "Emotion scores for text: Strange Dayz https://t.co/ABwMwHIB6H...\n",
      "Emotion scores for text: https://t.co/OAky3fBywu...\n"
     ]
    },
    {
     "name": "stderr",
     "output_type": "stream",
     "text": [
      " 77%|███████▋  | 2386/3113 [04:26<01:05, 11.03it/s]"
     ]
    },
    {
     "name": "stdout",
     "output_type": "stream",
     "text": [
      "Emotion scores for text: 👀 https://t.co/3nerlekGTC...\n",
      "Emotion scores for text: LGBTQ(Anon?)...\n",
      "Emotion scores for text: https://t.co/OAiiZR5XLw...\n"
     ]
    },
    {
     "name": "stderr",
     "output_type": "stream",
     "text": [
      " 77%|███████▋  | 2390/3113 [04:27<01:04, 11.19it/s]"
     ]
    },
    {
     "name": "stdout",
     "output_type": "stream",
     "text": [
      "Emotion scores for text: https://t.co/8At1qXjNOx...\n",
      "Emotion scores for text: https://t.co/BDStCsUiDm...\n",
      "Emotion scores for text: https://t.co/W4mbFRubtn...\n"
     ]
    },
    {
     "name": "stderr",
     "output_type": "stream",
     "text": [
      " 77%|███████▋  | 2392/3113 [04:27<01:04, 11.12it/s]"
     ]
    },
    {
     "name": "stdout",
     "output_type": "stream",
     "text": [
      "Emotion scores for text: Should I make the Texas Institute of Technology &a...\n",
      "Emotion scores for text: Bill Maher is absolutely right...\n"
     ]
    },
    {
     "name": "stderr",
     "output_type": "stream",
     "text": [
      " 77%|███████▋  | 2394/3113 [04:27<01:24,  8.53it/s]"
     ]
    },
    {
     "name": "stdout",
     "output_type": "stream",
     "text": [
      "Emotion scores for text: A few other things you probably don’t know: illega...\n",
      "Emotion scores for text: Impeach @SecMayorkas for deliberately breaking the...\n"
     ]
    },
    {
     "name": "stderr",
     "output_type": "stream",
     "text": [
      " 77%|███████▋  | 2396/3113 [04:28<01:40,  7.17it/s]"
     ]
    },
    {
     "name": "stdout",
     "output_type": "stream",
     "text": [
      "Emotion scores for text: In the “bet-you-didn’t-know” category,\n",
      "Homeland Se...\n",
      "Emotion scores for text: As a reminder, I am very much PRO increasing legal...\n"
     ]
    },
    {
     "name": "stderr",
     "output_type": "stream",
     "text": [
      " 77%|███████▋  | 2398/3113 [04:28<01:27,  8.20it/s]"
     ]
    },
    {
     "name": "stdout",
     "output_type": "stream",
     "text": [
      "Emotion scores for text: As a general rule, if you believe *everything* you...\n",
      "Emotion scores for text: @FlyinBuddha @disclosetv It should be...\n"
     ]
    },
    {
     "name": "stderr",
     "output_type": "stream",
     "text": [
      " 77%|███████▋  | 2399/3113 [04:28<01:35,  7.49it/s]"
     ]
    },
    {
     "name": "stdout",
     "output_type": "stream",
     "text": [
      "Emotion scores for text: Most people in America don’t know that the census ...\n"
     ]
    },
    {
     "name": "stderr",
     "output_type": "stream",
     "text": [
      " 77%|███████▋  | 2400/3113 [04:28<01:50,  6.48it/s]"
     ]
    },
    {
     "name": "stdout",
     "output_type": "stream",
     "text": [
      "Emotion scores for text: Biden’s strategy is very simple:\n",
      "\n",
      "1. Get as many i...\n",
      "Emotion scores for text: Wow...\n"
     ]
    },
    {
     "name": "stderr",
     "output_type": "stream",
     "text": [
      " 77%|███████▋  | 2403/3113 [04:29<01:39,  7.12it/s]"
     ]
    },
    {
     "name": "stdout",
     "output_type": "stream",
     "text": [
      "Emotion scores for text: When you hear the names of legislation or anything...\n",
      "Emotion scores for text: Change your state of incorporation out of Delaware...\n",
      "Emotion scores for text: https://t.co/27beLd57HX...\n"
     ]
    },
    {
     "name": "stderr",
     "output_type": "stream",
     "text": [
      " 77%|███████▋  | 2407/3113 [04:29<01:16,  9.24it/s]"
     ]
    },
    {
     "name": "stdout",
     "output_type": "stream",
     "text": [
      "Emotion scores for text: Going for a walk with Optimus https://t.co/6mLJCUp...\n",
      "Emotion scores for text: Should Tesla change its state of incorporation to ...\n",
      "Emotion scores for text: I recommend incorporating in Nevada or Texas if yo...\n"
     ]
    },
    {
     "name": "stderr",
     "output_type": "stream",
     "text": [
      " 77%|███████▋  | 2409/3113 [04:29<01:15,  9.27it/s]"
     ]
    },
    {
     "name": "stdout",
     "output_type": "stream",
     "text": [
      "Emotion scores for text: Never incorporate your company in the state of Del...\n",
      "Emotion scores for text: If Denver is having trouble with 40,000 illegals, ...\n",
      "Emotion scores for text: Some Like It Cold!: the musical\n",
      "The perfect temp i...\n"
     ]
    },
    {
     "name": "stderr",
     "output_type": "stream",
     "text": [
      " 78%|███████▊  | 2413/3113 [04:30<01:09, 10.02it/s]"
     ]
    },
    {
     "name": "stdout",
     "output_type": "stream",
     "text": [
      "Emotion scores for text: And the quality looks like you’re a child https://...\n",
      "Emotion scores for text: The first @Neuralink product is called Telepathy...\n",
      "Emotion scores for text: The first human received an implant from @Neuralin...\n"
     ]
    },
    {
     "name": "stderr",
     "output_type": "stream",
     "text": [
      " 78%|███████▊  | 2415/3113 [04:30<01:11,  9.82it/s]"
     ]
    },
    {
     "name": "stdout",
     "output_type": "stream",
     "text": [
      "Emotion scores for text: Was having dinner with some friends and they said ...\n",
      "Emotion scores for text: One day, the chickens may turn on us … https://t.c...\n"
     ]
    },
    {
     "name": "stderr",
     "output_type": "stream",
     "text": [
      " 78%|███████▊  | 2416/3113 [04:30<01:14,  9.37it/s]"
     ]
    },
    {
     "name": "stdout",
     "output_type": "stream",
     "text": [
      "Emotion scores for text: Legacy media controlling what subjects they write ...\n",
      "Emotion scores for text: You rang!? https://t.co/gzazV3ykvI...\n"
     ]
    },
    {
     "name": "stderr",
     "output_type": "stream",
     "text": [
      " 78%|███████▊  | 2420/3113 [04:30<01:10,  9.82it/s]"
     ]
    },
    {
     "name": "stdout",
     "output_type": "stream",
     "text": [
      "Emotion scores for text: Colon Cologne, but it is the best fragrance at mas...\n",
      "Emotion scores for text: Inner demons can be helpful https://t.co/EcOlXdGbR...\n",
      "Emotion scores for text: “Colon Cologne, the fragrance that takes you beyon...\n"
     ]
    },
    {
     "name": "stderr",
     "output_type": "stream",
     "text": [
      " 78%|███████▊  | 2423/3113 [04:31<01:07, 10.21it/s]"
     ]
    },
    {
     "name": "stdout",
     "output_type": "stream",
     "text": [
      "Emotion scores for text: Saw the Barbie movie recently https://t.co/YJ8qZfk...\n",
      "Emotion scores for text: And he did https://t.co/AZVkmSFiqj...\n",
      "Emotion scores for text: It will be\n",
      " https://t.co/n1IBQ0DbXB...\n"
     ]
    },
    {
     "name": "stderr",
     "output_type": "stream",
     "text": [
      " 78%|███████▊  | 2425/3113 [04:31<01:02, 10.96it/s]"
     ]
    },
    {
     "name": "stdout",
     "output_type": "stream",
     "text": [
      "Emotion scores for text: https://t.co/Yz965PGgSS...\n",
      "Emotion scores for text: https://t.co/IfmKHfapT9...\n",
      "Emotion scores for text: An 𝕏 spam/scam bot accidentally flagged many legit...\n"
     ]
    },
    {
     "name": "stderr",
     "output_type": "stream",
     "text": [
      " 78%|███████▊  | 2429/3113 [04:31<01:00, 11.33it/s]"
     ]
    },
    {
     "name": "stdout",
     "output_type": "stream",
     "text": [
      "Emotion scores for text: @telmudic 😂...\n",
      "Emotion scores for text: If you post interesting art, either written or vis...\n",
      "Emotion scores for text: Don’t forget to add your best content to the Highl...\n"
     ]
    },
    {
     "name": "stderr",
     "output_type": "stream",
     "text": [
      " 78%|███████▊  | 2431/3113 [04:31<00:59, 11.50it/s]"
     ]
    },
    {
     "name": "stdout",
     "output_type": "stream",
     "text": [
      "Emotion scores for text: https://t.co/cTCA6JmEjJ...\n",
      "Emotion scores for text: https://t.co/9wp0r7aoLA...\n",
      "Emotion scores for text: @RestoringMagic Brutal track record. Shareholders ...\n"
     ]
    },
    {
     "name": "stderr",
     "output_type": "stream",
     "text": [
      " 78%|███████▊  | 2435/3113 [04:32<00:57, 11.80it/s]"
     ]
    },
    {
     "name": "stdout",
     "output_type": "stream",
     "text": [
      "Emotion scores for text: https://t.co/5NGs8ACv6c...\n",
      "Emotion scores for text: Some posts are real bangers...\n",
      "Emotion scores for text: So hot rn https://t.co/K4YjoWmS8i...\n"
     ]
    },
    {
     "name": "stderr",
     "output_type": "stream",
     "text": [
      " 78%|███████▊  | 2437/3113 [04:32<01:00, 11.17it/s]"
     ]
    },
    {
     "name": "stdout",
     "output_type": "stream",
     "text": [
      "Emotion scores for text: Grok roasts Klaus Schwab at WEF https://t.co/zzpaN...\n",
      "Emotion scores for text: Good explanation of what makes countries more or l...\n"
     ]
    },
    {
     "name": "stderr",
     "output_type": "stream",
     "text": [
      " 78%|███████▊  | 2439/3113 [04:32<01:08,  9.88it/s]"
     ]
    },
    {
     "name": "stdout",
     "output_type": "stream",
     "text": [
      "Emotion scores for text: Wow, I didn’t know Elizabeth Warren was at Davos\n",
      " ...\n",
      "Emotion scores for text: Significant improvements have been made to @Starli...\n",
      "Emotion scores for text: https://t.co/RXwEziy9OO...\n"
     ]
    },
    {
     "name": "stderr",
     "output_type": "stream",
     "text": [
      " 78%|███████▊  | 2443/3113 [04:32<01:03, 10.53it/s]"
     ]
    },
    {
     "name": "stdout",
     "output_type": "stream",
     "text": [
      "Emotion scores for text: https://t.co/qSn1zAMsfU...\n",
      "Emotion scores for text: Optimus folds a shirt https://t.co/3F5o3jVLq1...\n",
      "Emotion scores for text: To fear parody or criticism is a sign of weakness...\n"
     ]
    },
    {
     "name": "stderr",
     "output_type": "stream",
     "text": [
      " 79%|███████▊  | 2445/3113 [04:33<01:09,  9.66it/s]"
     ]
    },
    {
     "name": "stdout",
     "output_type": "stream",
     "text": [
      "Emotion scores for text: Just had a conversation with some smart people cou...\n",
      "Emotion scores for text: Set new world record in Diablo AoZ last night with...\n"
     ]
    },
    {
     "name": "stderr",
     "output_type": "stream",
     "text": [
      " 79%|███████▊  | 2447/3113 [04:33<01:08,  9.67it/s]"
     ]
    },
    {
     "name": "stdout",
     "output_type": "stream",
     "text": [
      "Emotion scores for text: @NoahKahn_ My guess is that Vivek will far exceed ...\n",
      "Emotion scores for text: Went to a monster truck rally in Austin! https://t...\n"
     ]
    },
    {
     "name": "stderr",
     "output_type": "stream",
     "text": [
      " 79%|███████▊  | 2450/3113 [04:33<01:11,  9.24it/s]"
     ]
    },
    {
     "name": "stdout",
     "output_type": "stream",
     "text": [
      "Emotion scores for text: Earth already receives about the same energy from ...\n",
      "Emotion scores for text: Great lecture\n",
      "https://t.co/rvvR7Bjo66...\n",
      "Emotion scores for text: Cleared T25 solo in Diablo \n",
      "https://t.co/NA82EL2rj...\n"
     ]
    },
    {
     "name": "stderr",
     "output_type": "stream",
     "text": [
      " 79%|███████▉  | 2453/3113 [04:34<01:10,  9.34it/s]"
     ]
    },
    {
     "name": "stdout",
     "output_type": "stream",
     "text": [
      "Emotion scores for text: Competence MUST prevail over racism and sexism bec...\n",
      "Emotion scores for text: https://t.co/JM5SF8P0kW...\n",
      "Emotion scores for text: This is the only place to find the truth \n",
      "https://...\n"
     ]
    },
    {
     "name": "stderr",
     "output_type": "stream",
     "text": [
      " 79%|███████▉  | 2455/3113 [04:34<01:05,  9.97it/s]"
     ]
    },
    {
     "name": "stdout",
     "output_type": "stream",
     "text": [
      "Emotion scores for text: Cis is a heterophobic word. Shame on anyone who us...\n",
      "Emotion scores for text: https://t.co/SG3LlYNSUK...\n"
     ]
    },
    {
     "name": "stderr",
     "output_type": "stream",
     "text": [
      " 79%|███████▉  | 2458/3113 [04:34<01:04, 10.10it/s]"
     ]
    },
    {
     "name": "stdout",
     "output_type": "stream",
     "text": [
      "Emotion scores for text: When you add unfunded obligations (like social sec...\n",
      "Emotion scores for text: It was a great year for @SpaceX!...\n",
      "Emotion scores for text: Welcome to 𝕏!...\n"
     ]
    },
    {
     "name": "stderr",
     "output_type": "stream",
     "text": [
      " 79%|███████▉  | 2460/3113 [04:34<01:09,  9.41it/s]"
     ]
    },
    {
     "name": "stdout",
     "output_type": "stream",
     "text": [
      "Emotion scores for text: This explains Mark Cuban’s ridiculous overcompensa...\n",
      "Emotion scores for text: To thine own self be true...\n",
      "Emotion scores for text: (CTO) Chief Troll Officer...\n"
     ]
    },
    {
     "name": "stderr",
     "output_type": "stream",
     "text": [
      " 79%|███████▉  | 2464/3113 [04:35<01:01, 10.58it/s]"
     ]
    },
    {
     "name": "stdout",
     "output_type": "stream",
     "text": [
      "Emotion scores for text: Yikes https://t.co/YnmiCV163M...\n",
      "Emotion scores for text: @Jason_F_YXE Yeah...\n",
      "Emotion scores for text: In the USA, you don’t need government issued ID to...\n"
     ]
    },
    {
     "name": "stderr",
     "output_type": "stream",
     "text": [
      " 79%|███████▉  | 2466/3113 [04:35<00:57, 11.34it/s]"
     ]
    },
    {
     "name": "stdout",
     "output_type": "stream",
     "text": [
      "Emotion scores for text: TMZ has vastly higher standards than the WSJ (actu...\n",
      "Emotion scores for text: lol...\n"
     ]
    },
    {
     "name": "stderr",
     "output_type": "stream",
     "text": [
      " 79%|███████▉  | 2468/3113 [04:35<01:11,  9.05it/s]"
     ]
    },
    {
     "name": "stdout",
     "output_type": "stream",
     "text": [
      "Emotion scores for text: The US construction industry can increase availabl...\n",
      "Emotion scores for text: 🎶 What is love? 🎶 https://t.co/EkEADH1s7R...\n"
     ]
    },
    {
     "name": "stderr",
     "output_type": "stream",
     "text": [
      " 79%|███████▉  | 2470/3113 [04:35<01:11,  9.00it/s]"
     ]
    },
    {
     "name": "stdout",
     "output_type": "stream",
     "text": [
      "Emotion scores for text: My son lil X loves clinging precariously to my bac...\n",
      "Emotion scores for text: This platform is seeing incredible usage growth! h...\n",
      "Emotion scores for text: Falcon stage separation at sundown https://t.co/Ys...\n"
     ]
    },
    {
     "name": "stderr",
     "output_type": "stream",
     "text": [
      " 79%|███████▉  | 2473/3113 [04:36<01:20,  7.96it/s]"
     ]
    },
    {
     "name": "stdout",
     "output_type": "stream",
     "text": [
      "Emotion scores for text: Completed Tier 24 in Diablo's Abattoir of Zir.\n",
      "\n",
      "Bu...\n",
      "Emotion scores for text: DEI, because it discriminates on the basis of race...\n"
     ]
    },
    {
     "name": "stderr",
     "output_type": "stream",
     "text": [
      " 79%|███████▉  | 2474/3113 [04:36<01:20,  7.94it/s]"
     ]
    },
    {
     "name": "stdout",
     "output_type": "stream",
     "text": [
      "Emotion scores for text: The @AP has the woke mind virus growing out of its...\n"
     ]
    },
    {
     "name": "stderr",
     "output_type": "stream",
     "text": [
      " 80%|███████▉  | 2476/3113 [04:36<01:27,  7.30it/s]"
     ]
    },
    {
     "name": "stdout",
     "output_type": "stream",
     "text": [
      "Emotion scores for text: https://t.co/GZmdiNdEP5...\n",
      "Emotion scores for text: This is how we create Tesla products\n",
      " https://t.co...\n",
      "Emotion scores for text: Today is the first day of the rest of your life...\n"
     ]
    },
    {
     "name": "stderr",
     "output_type": "stream",
     "text": [
      " 80%|███████▉  | 2479/3113 [04:37<01:14,  8.55it/s]"
     ]
    },
    {
     "name": "stdout",
     "output_type": "stream",
     "text": [
      "Emotion scores for text: First launch of Starlink Direct-to-Phone satellite...\n",
      "Emotion scores for text: Sorry if our platform was a bit slower than it sho...\n"
     ]
    },
    {
     "name": "stderr",
     "output_type": "stream",
     "text": [
      " 80%|███████▉  | 2482/3113 [04:37<01:03,  9.96it/s]"
     ]
    },
    {
     "name": "stdout",
     "output_type": "stream",
     "text": [
      "Emotion scores for text: But we should actually build a much bigger collide...\n",
      "Emotion scores for text: https://t.co/2lJjn9yKra...\n",
      "Emotion scores for text: 🚀💫  LFG 2024!!  💫 🚀...\n"
     ]
    },
    {
     "name": "stderr",
     "output_type": "stream",
     "text": [
      " 80%|███████▉  | 2484/3113 [04:37<01:04,  9.68it/s]"
     ]
    },
    {
     "name": "stdout",
     "output_type": "stream",
     "text": [
      "Emotion scores for text: Night and day difference https://t.co/7WUaRHeNqt...\n",
      "Emotion scores for text: Starship will make life as we know it multiplaneta...\n"
     ]
    },
    {
     "name": "stderr",
     "output_type": "stream",
     "text": [
      " 80%|███████▉  | 2486/3113 [04:37<01:09,  9.00it/s]"
     ]
    },
    {
     "name": "stdout",
     "output_type": "stream",
     "text": [
      "Emotion scores for text: Just completed static fire test of Flight 3 Super ...\n",
      "Emotion scores for text: Just a reminder to organizations and individuals t...\n"
     ]
    },
    {
     "name": "stderr",
     "output_type": "stream",
     "text": [
      " 80%|███████▉  | 2488/3113 [04:38<01:37,  6.44it/s]"
     ]
    },
    {
     "name": "stdout",
     "output_type": "stream",
     "text": [
      "Emotion scores for text: Next week, I will do a company talk for SpaceX, fo...\n",
      "Emotion scores for text: Falcon Heavy ascent &amp; boosters landing https:/...\n"
     ]
    },
    {
     "name": "stderr",
     "output_type": "stream",
     "text": [
      " 80%|███████▉  | 2490/3113 [04:38<01:20,  7.70it/s]"
     ]
    },
    {
     "name": "stdout",
     "output_type": "stream",
     "text": [
      "Emotion scores for text: Don’t Look Up https://t.co/jC7gdjtcAe...\n",
      "Emotion scores for text: https://t.co/QzyFZtTuuu...\n"
     ]
    },
    {
     "name": "stderr",
     "output_type": "stream",
     "text": [
      " 80%|████████  | 2492/3113 [04:38<01:16,  8.09it/s]"
     ]
    },
    {
     "name": "stdout",
     "output_type": "stream",
     "text": [
      "Emotion scores for text: Completed Tier 25 AoZ with a lot of help :) https:...\n",
      "Emotion scores for text: https://t.co/tEZmEDJeEI...\n"
     ]
    },
    {
     "name": "stderr",
     "output_type": "stream",
     "text": [
      " 80%|████████  | 2494/3113 [04:38<01:20,  7.65it/s]"
     ]
    },
    {
     "name": "stdout",
     "output_type": "stream",
     "text": [
      "Emotion scores for text: Whatever happened to …\n",
      " https://t.co/B4EZLlesPx...\n",
      "Emotion scores for text: AI is now better than human at this task https://t...\n"
     ]
    },
    {
     "name": "stderr",
     "output_type": "stream",
     "text": [
      " 80%|████████  | 2496/3113 [04:39<01:12,  8.47it/s]"
     ]
    },
    {
     "name": "stdout",
     "output_type": "stream",
     "text": [
      "Emotion scores for text: https://t.co/VneBIzq1n7...\n",
      "Emotion scores for text: https://t.co/VmJ2GYpLuH...\n",
      "Emotion scores for text: https://t.co/dsRBxXO4H6...\n"
     ]
    },
    {
     "name": "stderr",
     "output_type": "stream",
     "text": [
      " 80%|████████  | 2498/3113 [04:39<01:06,  9.20it/s]"
     ]
    },
    {
     "name": "stdout",
     "output_type": "stream",
     "text": [
      "Emotion scores for text: https://t.co/UK1rIC425b...\n"
     ]
    },
    {
     "name": "stderr",
     "output_type": "stream",
     "text": [
      " 80%|████████  | 2500/3113 [04:40<02:50,  3.59it/s]"
     ]
    },
    {
     "name": "stdout",
     "output_type": "stream",
     "text": [
      "Emotion scores for text: From an amazing Michael Crichton talk:\n",
      "\n",
      "“Media car...\n",
      "Emotion scores for text: ⛄️🎁🎄Merry Christmas! 🎄🎁 ⛄️ https://t.co/qFKgVipssI...\n"
     ]
    },
    {
     "name": "stderr",
     "output_type": "stream",
     "text": [
      " 80%|████████  | 2503/3113 [04:40<01:45,  5.77it/s]"
     ]
    },
    {
     "name": "stdout",
     "output_type": "stream",
     "text": [
      "Emotion scores for text: Starship Flight 3 static fire test https://t.co/7H...\n",
      "Emotion scores for text: Free speech is the bedrock of democracy...\n",
      "Emotion scores for text: But have you tried speedrunning speedrunning?...\n"
     ]
    },
    {
     "name": "stderr",
     "output_type": "stream",
     "text": [
      " 81%|████████  | 2506/3113 [04:41<01:32,  6.55it/s]"
     ]
    },
    {
     "name": "stdout",
     "output_type": "stream",
     "text": [
      "Emotion scores for text: Starship Super Heavy Booster to the launch pad htt...\n",
      "Emotion scores for text: No better friend, no worse enemy – Sulla...\n",
      "Emotion scores for text: Cybertruck in Wyoming Winter https://t.co/s02ZAwlN...\n"
     ]
    },
    {
     "name": "stderr",
     "output_type": "stream",
     "text": [
      " 81%|████████  | 2508/3113 [04:41<01:22,  7.31it/s]"
     ]
    },
    {
     "name": "stdout",
     "output_type": "stream",
     "text": [
      "Emotion scores for text: @SwissTeslaphile 🔥😂...\n",
      "Emotion scores for text: @SwissTeslaphile @GM @chevrolet @Tesla @teslaeurop...\n"
     ]
    },
    {
     "name": "stderr",
     "output_type": "stream",
     "text": [
      " 81%|████████  | 2510/3113 [04:41<01:18,  7.69it/s]"
     ]
    },
    {
     "name": "stdout",
     "output_type": "stream",
     "text": [
      "Emotion scores for text: https://t.co/QnSesQfJXX...\n",
      "Emotion scores for text: Rome from the roof of the Pantheon https://t.co/pa...\n"
     ]
    },
    {
     "name": "stderr",
     "output_type": "stream",
     "text": [
      " 81%|████████  | 2512/3113 [04:41<01:13,  8.15it/s]"
     ]
    },
    {
     "name": "stdout",
     "output_type": "stream",
     "text": [
      "Emotion scores for text: Caravaggio, Master of Light https://t.co/m2hmDO1ir...\n",
      "Emotion scores for text: Bernini’s Apollo and Daphne https://t.co/HMGGfx4yo...\n"
     ]
    },
    {
     "name": "stderr",
     "output_type": "stream",
     "text": [
      " 81%|████████  | 2515/3113 [04:42<01:00,  9.85it/s]"
     ]
    },
    {
     "name": "stdout",
     "output_type": "stream",
     "text": [
      "Emotion scores for text: 2B or !2B https://t.co/tt1PvQvtm2...\n",
      "Emotion scores for text: Rapidly reusable reliable rockets...\n",
      "Emotion scores for text: https://t.co/rVqC0ohqSb...\n"
     ]
    },
    {
     "name": "stderr",
     "output_type": "stream",
     "text": [
      " 81%|████████  | 2517/3113 [04:42<00:57, 10.37it/s]"
     ]
    },
    {
     "name": "stdout",
     "output_type": "stream",
     "text": [
      "Emotion scores for text: Optimouse Rex, the king of robot mice...\n",
      "Emotion scores for text: Grok groks https://t.co/xPCMEdcYtw...\n",
      "Emotion scores for text: DEI must DIE.\n",
      "\n",
      "The point was to end discrimination...\n"
     ]
    },
    {
     "name": "stderr",
     "output_type": "stream",
     "text": [
      " 81%|████████  | 2521/3113 [04:42<00:57, 10.32it/s]"
     ]
    },
    {
     "name": "stdout",
     "output_type": "stream",
     "text": [
      "Emotion scores for text: Microsoft Word now scolds you if you use words tha...\n",
      "Emotion scores for text: Optimus\n",
      "https://t.co/nbRohLQ7RH...\n",
      "Emotion scores for text: Always admired alliteration advocates...\n"
     ]
    },
    {
     "name": "stderr",
     "output_type": "stream",
     "text": [
      " 81%|████████  | 2523/3113 [04:43<01:00,  9.69it/s]"
     ]
    },
    {
     "name": "stdout",
     "output_type": "stream",
     "text": [
      "Emotion scores for text: Tier 8 Abattoir of Zir, no Uber uniques, ToB Glyph...\n",
      "Emotion scores for text: @GreyNewell @goth600 Yeah, more like half our waki...\n",
      "Emotion scores for text: https://t.co/8bKFyP0Pbr...\n"
     ]
    },
    {
     "name": "stderr",
     "output_type": "stream",
     "text": [
      " 81%|████████  | 2527/3113 [04:43<00:56, 10.44it/s]"
     ]
    },
    {
     "name": "stdout",
     "output_type": "stream",
     "text": [
      "Emotion scores for text: Launch Complex 40 at Cape Canaveral https://t.co/8...\n",
      "Emotion scores for text: Found the video https://t.co/QIcNozjAYW...\n",
      "Emotion scores for text: Evolution and Entropy.\n",
      "\n",
      "There are lies, there are ...\n"
     ]
    },
    {
     "name": "stderr",
     "output_type": "stream",
     "text": [
      " 81%|████████  | 2529/3113 [04:43<00:54, 10.62it/s]"
     ]
    },
    {
     "name": "stdout",
     "output_type": "stream",
     "text": [
      "Emotion scores for text: Damn brain https://t.co/qkueH5GtLP...\n",
      "Emotion scores for text: https://t.co/9666LsJjb4...\n",
      "Emotion scores for text: If civilization fails, nothing else matters https:...\n"
     ]
    },
    {
     "name": "stderr",
     "output_type": "stream",
     "text": [
      " 81%|████████▏ | 2533/3113 [04:43<00:58,  9.95it/s]"
     ]
    },
    {
     "name": "stdout",
     "output_type": "stream",
     "text": [
      "Emotion scores for text: Don’t be S-A-D! https://t.co/fkHsvfwuGG...\n",
      "Emotion scores for text: God Bless America https://t.co/GQ1kEORH1V...\n",
      "Emotion scores for text: Great book https://t.co/1NDkN7e5bm...\n"
     ]
    },
    {
     "name": "stderr",
     "output_type": "stream",
     "text": [
      " 81%|████████▏ | 2535/3113 [04:44<00:58,  9.89it/s]"
     ]
    },
    {
     "name": "stdout",
     "output_type": "stream",
     "text": [
      "Emotion scores for text: I live on Memes Street (literally)...\n",
      "Emotion scores for text: Why are the UFO pics always so blurry!? https://t....\n"
     ]
    },
    {
     "name": "stderr",
     "output_type": "stream",
     "text": [
      " 82%|████████▏ | 2538/3113 [04:44<00:55, 10.27it/s]"
     ]
    },
    {
     "name": "stdout",
     "output_type": "stream",
     "text": [
      "Emotion scores for text: 🇺🇸🇺🇸🇺🇸🇺🇸 ARMY-NAVY 🇺🇸🇺🇸🇺🇸🇺🇸 https://t.co/ReHXNVaq6...\n",
      "Emotion scores for text: Reinstate Alex Jones on this platform?\n",
      "\n",
      "Vox Populi...\n",
      "Emotion scores for text: https://t.co/TV5M7PUR8W...\n"
     ]
    },
    {
     "name": "stderr",
     "output_type": "stream",
     "text": [
      " 82%|████████▏ | 2540/3113 [04:44<01:06,  8.58it/s]"
     ]
    },
    {
     "name": "stdout",
     "output_type": "stream",
     "text": [
      "Emotion scores for text: Grok AI (beta) is now rolled out to all 𝕏 Premium+...\n",
      "Emotion scores for text: https://t.co/ZMUgLLOL92...\n",
      "Emotion scores for text: https://t.co/6sA5wu8smS...\n"
     ]
    },
    {
     "name": "stderr",
     "output_type": "stream",
     "text": [
      " 82%|████████▏ | 2542/3113 [04:44<01:03,  9.04it/s]"
     ]
    },
    {
     "name": "stdout",
     "output_type": "stream",
     "text": [
      "Emotion scores for text: Congratulations on the award! Well-deserved. https...\n",
      "Emotion scores for text: https://t.co/CMKGpw8XtJ...\n"
     ]
    },
    {
     "name": "stderr",
     "output_type": "stream",
     "text": [
      " 82%|████████▏ | 2546/3113 [04:45<00:59,  9.61it/s]"
     ]
    },
    {
     "name": "stdout",
     "output_type": "stream",
     "text": [
      "Emotion scores for text: Needs some work on cat counting and wtf is up with...\n",
      "Emotion scores for text: https://t.co/2LxB3FjZ2R...\n",
      "Emotion scores for text: Grok is rolling out to 𝕏 Premium+ subscribers with...\n"
     ]
    },
    {
     "name": "stderr",
     "output_type": "stream",
     "text": [
      " 82%|████████▏ | 2549/3113 [04:45<00:55, 10.07it/s]"
     ]
    },
    {
     "name": "stdout",
     "output_type": "stream",
     "text": [
      "Emotion scores for text: Drops more bombs than a B-52 https://t.co/wvEfXAk7...\n",
      "Emotion scores for text: Rainbow as seen from Tesla Palo Alto https://t.co/...\n",
      "Emotion scores for text: https://t.co/5LYzU6KJH5...\n"
     ]
    },
    {
     "name": "stderr",
     "output_type": "stream",
     "text": [
      " 82%|████████▏ | 2551/3113 [04:45<00:57,  9.83it/s]"
     ]
    },
    {
     "name": "stdout",
     "output_type": "stream",
     "text": [
      "Emotion scores for text: SpaceX is tracking to launch over 80% of all Earth...\n",
      "Emotion scores for text: https://t.co/9apWNwch0V...\n",
      "Emotion scores for text: Work ran too late to stream, but I did finish AoZ ...\n"
     ]
    },
    {
     "name": "stderr",
     "output_type": "stream",
     "text": [
      " 82%|████████▏ | 2554/3113 [04:46<00:55, 10.13it/s]"
     ]
    },
    {
     "name": "stdout",
     "output_type": "stream",
     "text": [
      "Emotion scores for text: Grok 🥰 https://t.co/bF1j6yUcga...\n",
      "Emotion scores for text: https://t.co/Vhti19Kihk...\n",
      "Emotion scores for text: Great book by Hayek\n",
      "https://t.co/HuPeVpQkUM...\n"
     ]
    },
    {
     "name": "stderr",
     "output_type": "stream",
     "text": [
      " 82%|████████▏ | 2558/3113 [04:46<00:51, 10.74it/s]"
     ]
    },
    {
     "name": "stdout",
     "output_type": "stream",
     "text": [
      "Emotion scores for text: https://t.co/JQxuKfM87a...\n",
      "Emotion scores for text: https://t.co/Hz3GbsMXn3...\n",
      "Emotion scores for text: New sign at Starbase launch pad https://t.co/Fbd5H...\n"
     ]
    },
    {
     "name": "stderr",
     "output_type": "stream",
     "text": [
      " 82%|████████▏ | 2560/3113 [04:46<00:51, 10.66it/s]"
     ]
    },
    {
     "name": "stdout",
     "output_type": "stream",
     "text": [
      "Emotion scores for text: Grok, what’s your favorite sports team? https://t....\n",
      "Emotion scores for text: https://t.co/WiY722UteM...\n",
      "Emotion scores for text: https://t.co/NgpfJMGBsU...\n"
     ]
    },
    {
     "name": "stderr",
     "output_type": "stream",
     "text": [
      " 82%|████████▏ | 2564/3113 [04:47<00:48, 11.22it/s]"
     ]
    },
    {
     "name": "stdout",
     "output_type": "stream",
     "text": [
      "Emotion scores for text: What words should be applied to this meme that bes...\n",
      "Emotion scores for text: Grow food yourself?...\n",
      "Emotion scores for text: https://t.co/3nt4qkZ03l...\n"
     ]
    },
    {
     "name": "stderr",
     "output_type": "stream",
     "text": [
      " 82%|████████▏ | 2566/3113 [04:47<00:47, 11.51it/s]"
     ]
    },
    {
     "name": "stdout",
     "output_type": "stream",
     "text": [
      "Emotion scores for text: It vexes me that we are still a puny one planet ci...\n",
      "Emotion scores for text: Human civilization is still a tiny startup in the ...\n",
      "Emotion scores for text: We are microbes on a dust mote in a vast emptiness...\n"
     ]
    },
    {
     "name": "stderr",
     "output_type": "stream",
     "text": [
      " 83%|████████▎ | 2570/3113 [04:47<00:46, 11.70it/s]"
     ]
    },
    {
     "name": "stdout",
     "output_type": "stream",
     "text": [
      "Emotion scores for text: 🦉...\n",
      "Emotion scores for text: https://t.co/7bzOGZGyUQ...\n",
      "Emotion scores for text: https://t.co/WUk7XirVSV...\n"
     ]
    },
    {
     "name": "stderr",
     "output_type": "stream",
     "text": [
      " 83%|████████▎ | 2572/3113 [04:47<00:44, 12.18it/s]"
     ]
    },
    {
     "name": "stdout",
     "output_type": "stream",
     "text": [
      "Emotion scores for text: Wisdom &gt;&gt; Wealth...\n",
      "Emotion scores for text: https://t.co/KWYbmqOBbp...\n",
      "Emotion scores for text: https://t.co/QbCLeJIkD4...\n"
     ]
    },
    {
     "name": "stderr",
     "output_type": "stream",
     "text": [
      " 83%|████████▎ | 2576/3113 [04:48<00:46, 11.61it/s]"
     ]
    },
    {
     "name": "stdout",
     "output_type": "stream",
     "text": [
      "Emotion scores for text: @davidmweissman The reply comments and Community N...\n",
      "Emotion scores for text: 𝕏 is the only platform you can trust for honest in...\n",
      "Emotion scores for text: Empowering the public relative to journalists sure...\n"
     ]
    },
    {
     "name": "stderr",
     "output_type": "stream",
     "text": [
      " 83%|████████▎ | 2578/3113 [04:48<00:48, 11.04it/s]"
     ]
    },
    {
     "name": "stdout",
     "output_type": "stream",
     "text": [
      "Emotion scores for text: Congrats to the @SpaceX team on the 250th landing ...\n",
      "Emotion scores for text: https://t.co/cK5KFEUhvS...\n",
      "Emotion scores for text: So then why is Disney boycotting 𝕏, yet spending m...\n"
     ]
    },
    {
     "name": "stderr",
     "output_type": "stream",
     "text": [
      " 83%|████████▎ | 2582/3113 [04:48<00:51, 10.33it/s]"
     ]
    },
    {
     "name": "stdout",
     "output_type": "stream",
     "text": [
      "Emotion scores for text: Planning on doing a Friday night video game livest...\n",
      "Emotion scores for text: “Ducks are only in a row when in motion” – Isaac N...\n",
      "Emotion scores for text: https://t.co/o3E5CWxZ3P...\n"
     ]
    },
    {
     "name": "stderr",
     "output_type": "stream",
     "text": [
      " 83%|████████▎ | 2584/3113 [04:48<00:51, 10.25it/s]"
     ]
    },
    {
     "name": "stdout",
     "output_type": "stream",
     "text": [
      "Emotion scores for text: Vielen Dank\n",
      "\n",
      "https://t.co/pnDe6I9ivs...\n",
      "Emotion scores for text: Massive congrats to the incredible Tesla team, fro...\n",
      "Emotion scores for text: “All your based are belong to us” – Cybertruck...\n"
     ]
    },
    {
     "name": "stderr",
     "output_type": "stream",
     "text": [
      " 83%|████████▎ | 2586/3113 [04:49<00:50, 10.42it/s]"
     ]
    },
    {
     "name": "stdout",
     "output_type": "stream",
     "text": [
      "Emotion scores for text: Beats a Porsche 911 while towing a 911\n",
      " https://t....\n",
      "Emotion scores for text: Beats an F-350 Diesel in truck pull\n",
      " https://t.co/...\n"
     ]
    },
    {
     "name": "stderr",
     "output_type": "stream",
     "text": [
      " 83%|████████▎ | 2590/3113 [04:49<00:51, 10.24it/s]"
     ]
    },
    {
     "name": "stdout",
     "output_type": "stream",
     "text": [
      "Emotion scores for text: Doors are bulletproof to .45” &amp; 9mm \n",
      " https://...\n",
      "Emotion scores for text: Cybertruck production line https://t.co/sGYuVFLy3c...\n",
      "Emotion scores for text: Cybertruck deliveries start on Thursday...\n"
     ]
    },
    {
     "name": "stderr",
     "output_type": "stream",
     "text": [
      " 83%|████████▎ | 2592/3113 [04:49<00:48, 10.68it/s]"
     ]
    },
    {
     "name": "stdout",
     "output_type": "stream",
     "text": [
      "Emotion scores for text: 𝕏 Troll Training Treasure Trove 𝕏...\n",
      "Emotion scores for text: SpaceX Falcon rocket just launched \n",
      "\n",
      "https://t.co/...\n",
      "Emotion scores for text: And another @CommunityNotes win exposing deception...\n"
     ]
    },
    {
     "name": "stderr",
     "output_type": "stream",
     "text": [
      " 83%|████████▎ | 2594/3113 [04:49<00:48, 10.81it/s]"
     ]
    },
    {
     "name": "stdout",
     "output_type": "stream",
     "text": [
      "Emotion scores for text: https://t.co/bDgwVmBWAq...\n",
      "Emotion scores for text: In a few weeks, we will add a “Grok, analysis!” bu...\n"
     ]
    },
    {
     "name": "stderr",
     "output_type": "stream",
     "text": [
      " 83%|████████▎ | 2596/3113 [04:50<00:51, 10.02it/s]"
     ]
    },
    {
     "name": "stdout",
     "output_type": "stream",
     "text": [
      "Emotion scores for text: If you have good Diablo Tier 100 speedrun builds, ...\n",
      "Emotion scores for text: Did Dunning &amp; Kruger DKE themselves?\n",
      "https://t...\n"
     ]
    },
    {
     "name": "stderr",
     "output_type": "stream",
     "text": [
      " 84%|████████▎ | 2600/3113 [04:50<00:50, 10.17it/s]"
     ]
    },
    {
     "name": "stdout",
     "output_type": "stream",
     "text": [
      "Emotion scores for text: If heat death is the end of the universe, it reall...\n",
      "Emotion scores for text: Grok answers correctly https://t.co/tjlw4S5PYE...\n",
      "Emotion scores for text: https://t.co/prKwuQxbYM...\n"
     ]
    },
    {
     "name": "stderr",
     "output_type": "stream",
     "text": [
      " 84%|████████▎ | 2602/3113 [04:50<00:49, 10.31it/s]"
     ]
    },
    {
     "name": "stdout",
     "output_type": "stream",
     "text": [
      "Emotion scores for text: Some wild decisions will come up in the future abo...\n",
      "Emotion scores for text: https://t.co/6NmMuS24sX...\n",
      "Emotion scores for text: Guys I found Q* https://t.co/U4KWBAKVlI...\n"
     ]
    },
    {
     "name": "stderr",
     "output_type": "stream",
     "text": [
      " 84%|████████▎ | 2605/3113 [04:51<00:56,  9.04it/s]"
     ]
    },
    {
     "name": "stdout",
     "output_type": "stream",
     "text": [
      "Emotion scores for text: Starship 🚬 https://t.co/EHbZR2X4db...\n",
      "Emotion scores for text: Four more Starships, the last of V1 https://t.co/N...\n",
      "Emotion scores for text: Still hard to believe Starship is real https://t.c...\n"
     ]
    },
    {
     "name": "stderr",
     "output_type": "stream",
     "text": [
      " 84%|████████▍ | 2609/3113 [04:51<00:48, 10.42it/s]"
     ]
    },
    {
     "name": "stdout",
     "output_type": "stream",
     "text": [
      "Emotion scores for text: Grok punches above its weights...\n",
      "Emotion scores for text: True\n",
      "https://t.co/QlgMDQJSKR...\n",
      "Emotion scores for text: Big companies steadily increase their Dilbert scor...\n"
     ]
    },
    {
     "name": "stderr",
     "output_type": "stream",
     "text": [
      " 84%|████████▍ | 2611/3113 [04:51<00:42, 11.68it/s]"
     ]
    },
    {
     "name": "stdout",
     "output_type": "stream",
     "text": [
      "Emotion scores for text: met a meta metameme?...\n",
      "Emotion scores for text: @telmudic 😂🎯...\n",
      "Emotion scores for text: In an upcoming release, 𝕏 will overlay title in th...\n"
     ]
    },
    {
     "name": "stderr",
     "output_type": "stream",
     "text": [
      " 84%|████████▍ | 2613/3113 [04:51<00:42, 11.69it/s]"
     ]
    },
    {
     "name": "stdout",
     "output_type": "stream",
     "text": [
      "Emotion scores for text: It’s not me, it’s the RNG...\n",
      "Emotion scores for text: Extremely concerning!\n",
      "https://t.co/Ru2FU2tOFG...\n"
     ]
    },
    {
     "name": "stderr",
     "output_type": "stream",
     "text": [
      " 84%|████████▍ | 2617/3113 [04:52<00:46, 10.64it/s]"
     ]
    },
    {
     "name": "stdout",
     "output_type": "stream",
     "text": [
      "Emotion scores for text: Cybertrucks are on their way to Tesla stores in No...\n",
      "Emotion scores for text: All design &amp; engineering of the original @Tesl...\n",
      "Emotion scores for text: What tangled webs we weave...\n"
     ]
    },
    {
     "name": "stderr",
     "output_type": "stream",
     "text": [
      " 84%|████████▍ | 2619/3113 [04:52<00:50,  9.72it/s]"
     ]
    },
    {
     "name": "stdout",
     "output_type": "stream",
     "text": [
      "Emotion scores for text: This letter about OpenAI was just sent to me. \n",
      "\n",
      "Th...\n",
      "Emotion scores for text: X Corp will be donating all revenue from advertisi...\n",
      "Emotion scores for text: https://t.co/V3gGPlgMUW...\n"
     ]
    },
    {
     "name": "stderr",
     "output_type": "stream",
     "text": [
      " 84%|████████▍ | 2621/3113 [04:52<00:47, 10.40it/s]"
     ]
    },
    {
     "name": "stdout",
     "output_type": "stream",
     "text": [
      "Emotion scores for text: https://t.co/NUvxoPxWFS...\n",
      "Emotion scores for text: Posts on 𝕏 that are added to your highlights tab w...\n"
     ]
    },
    {
     "name": "stderr",
     "output_type": "stream",
     "text": [
      " 84%|████████▍ | 2624/3113 [04:52<00:52,  9.37it/s]"
     ]
    },
    {
     "name": "stdout",
     "output_type": "stream",
     "text": [
      "Emotion scores for text: All trolls go to heaven 😇...\n",
      "Emotion scores for text: My wallpaper https://t.co/S7GGxZC5sz...\n"
     ]
    },
    {
     "name": "stderr",
     "output_type": "stream",
     "text": [
      " 84%|████████▍ | 2626/3113 [04:53<00:53,  9.04it/s]"
     ]
    },
    {
     "name": "stdout",
     "output_type": "stream",
     "text": [
      "Emotion scores for text: Fraud has both civil &amp; criminal penalties http...\n",
      "Emotion scores for text: https://t.co/aeg2gV04Aw...\n"
     ]
    },
    {
     "name": "stderr",
     "output_type": "stream",
     "text": [
      " 84%|████████▍ | 2628/3113 [04:53<00:52,  9.27it/s]"
     ]
    },
    {
     "name": "stdout",
     "output_type": "stream",
     "text": [
      "Emotion scores for text: Looks like https://t.co/Ojr8Kvjaem is still availa...\n",
      "Emotion scores for text: https://t.co/rHXvzIGgJg...\n",
      "Emotion scores for text: Who will be President in 2032?...\n"
     ]
    },
    {
     "name": "stderr",
     "output_type": "stream",
     "text": [
      " 84%|████████▍ | 2630/3113 [04:53<00:46, 10.38it/s]"
     ]
    },
    {
     "name": "stdout",
     "output_type": "stream",
     "text": [
      "Emotion scores for text: https://t.co/a3UVwshRyM...\n",
      "Emotion scores for text: Yikes! https://t.co/sJI97R9DJK...\n"
     ]
    },
    {
     "name": "stderr",
     "output_type": "stream",
     "text": [
      " 85%|████████▍ | 2633/3113 [04:53<00:51,  9.40it/s]"
     ]
    },
    {
     "name": "stdout",
     "output_type": "stream",
     "text": [
      "Emotion scores for text: The future of space exploration is bright https://...\n",
      "Emotion scores for text: Starship hot stage separation https://t.co/Ku0BX4J...\n"
     ]
    },
    {
     "name": "stderr",
     "output_type": "stream",
     "text": [
      " 85%|████████▍ | 2634/3113 [04:53<00:59,  8.05it/s]"
     ]
    },
    {
     "name": "stdout",
     "output_type": "stream",
     "text": [
      "Emotion scores for text: This past week, there were hundreds of bogus media...\n"
     ]
    },
    {
     "name": "stderr",
     "output_type": "stream",
     "text": [
      " 85%|████████▍ | 2635/3113 [04:54<01:17,  6.19it/s]"
     ]
    },
    {
     "name": "stdout",
     "output_type": "stream",
     "text": [
      "Emotion scores for text: Just inspected the Starship launch pad and it is i...\n",
      "Emotion scores for text: 𝕏 Corp investors will own 25% of xAI...\n"
     ]
    },
    {
     "name": "stderr",
     "output_type": "stream",
     "text": [
      " 85%|████████▍ | 2638/3113 [04:54<01:04,  7.33it/s]"
     ]
    },
    {
     "name": "stdout",
     "output_type": "stream",
     "text": [
      "Emotion scores for text: For the first time, there is a rocket that can mak...\n",
      "Emotion scores for text: Magnificent Machine with a 1000 ft plume\n",
      " https://...\n",
      "Emotion scores for text: https://t.co/x6236wZWox...\n"
     ]
    },
    {
     "name": "stderr",
     "output_type": "stream",
     "text": [
      " 85%|████████▍ | 2642/3113 [04:54<00:48,  9.69it/s]"
     ]
    },
    {
     "name": "stdout",
     "output_type": "stream",
     "text": [
      "Emotion scores for text: https://t.co/8oLFUkNMNa...\n",
      "Emotion scores for text: Starship launch live broadcast \n",
      "\n",
      "https://t.co/hRmO...\n",
      "Emotion scores for text: Great question...\n"
     ]
    },
    {
     "name": "stderr",
     "output_type": "stream",
     "text": [
      " 85%|████████▍ | 2644/3113 [04:55<00:43, 10.71it/s]"
     ]
    },
    {
     "name": "stdout",
     "output_type": "stream",
     "text": [
      "Emotion scores for text: Amplify Empathy...\n",
      "Emotion scores for text: Would you like some tea? https://t.co/EQFgLHYXF3...\n"
     ]
    },
    {
     "name": "stderr",
     "output_type": "stream",
     "text": [
      " 85%|████████▍ | 2646/3113 [04:55<00:46,  9.98it/s]"
     ]
    },
    {
     "name": "stdout",
     "output_type": "stream",
     "text": [
      "Emotion scores for text: A major update to the recommendation algorithm is ...\n",
      "Emotion scores for text: Thank you, veterans past and present, for saving t...\n",
      "Emotion scores for text: Best economist ever https://t.co/q6zHIwf8Gh...\n"
     ]
    },
    {
     "name": "stderr",
     "output_type": "stream",
     "text": [
      " 85%|████████▌ | 2650/3113 [04:55<00:44, 10.38it/s]"
     ]
    },
    {
     "name": "stdout",
     "output_type": "stream",
     "text": [
      "Emotion scores for text: We will be reposting the best groks to @grok...\n",
      "Emotion scores for text: Adding a @SpaceX crew arm for @NASA astronauts at ...\n",
      "Emotion scores for text: https://t.co/JRebl653BP...\n"
     ]
    },
    {
     "name": "stderr",
     "output_type": "stream",
     "text": [
      " 85%|████████▌ | 2652/3113 [04:55<00:43, 10.52it/s]"
     ]
    },
    {
     "name": "stdout",
     "output_type": "stream",
     "text": [
      "Emotion scores for text: 😂 https://t.co/9USuKj0FBT...\n",
      "Emotion scores for text: The way to defeat hatred is with friendship https:...\n",
      "Emotion scores for text: Grok grok Grok?\n",
      "https://t.co/IJXCnrwmDN...\n"
     ]
    },
    {
     "name": "stderr",
     "output_type": "stream",
     "text": [
      " 85%|████████▌ | 2654/3113 [04:56<00:41, 10.98it/s]"
     ]
    },
    {
     "name": "stdout",
     "output_type": "stream",
     "text": [
      "Emotion scores for text: Stranger in a Strange Land...\n",
      "Emotion scores for text: Example of Grok vs typical GPT, where Grok has cur...\n"
     ]
    },
    {
     "name": "stderr",
     "output_type": "stream",
     "text": [
      " 85%|████████▌ | 2658/3113 [04:56<00:46,  9.77it/s]"
     ]
    },
    {
     "name": "stdout",
     "output_type": "stream",
     "text": [
      "Emotion scores for text: The @xAI Grok AI assistant will be provided as par...\n",
      "Emotion scores for text: Grōk...\n",
      "Emotion scores for text: As soon as it’s out of early beta, xAI’s Grok syst...\n"
     ]
    },
    {
     "name": "stderr",
     "output_type": "stream",
     "text": [
      " 85%|████████▌ | 2660/3113 [04:56<00:45,  9.91it/s]"
     ]
    },
    {
     "name": "stdout",
     "output_type": "stream",
     "text": [
      "Emotion scores for text: xAI’s Grok system is designed to have  a little hu...\n",
      "Emotion scores for text: Giga Berlin – Das Juwel Deutschlands 🇩🇪...\n",
      "Emotion scores for text: At Giga Berlin today to congratulate the team on t...\n"
     ]
    },
    {
     "name": "stderr",
     "output_type": "stream",
     "text": [
      " 86%|████████▌ | 2662/3113 [04:56<00:46,  9.68it/s]"
     ]
    },
    {
     "name": "stdout",
     "output_type": "stream",
     "text": [
      "Emotion scores for text: Tomorrow, @xAI will release its first AI to a sele...\n",
      "Emotion scores for text: Explanation of @CommunityNotes \n",
      " https://t.co/4Lvt...\n"
     ]
    },
    {
     "name": "stderr",
     "output_type": "stream",
     "text": [
      " 86%|████████▌ | 2665/3113 [04:57<00:51,  8.75it/s]"
     ]
    },
    {
     "name": "stdout",
     "output_type": "stream",
     "text": [
      "Emotion scores for text: Excited to announce that @SpaceX @Starlink has ach...\n",
      "Emotion scores for text: Putting a wind generator on an electric also doesn...\n",
      "Emotion scores for text: Today is also Marvin’s birthday 🎂 https://t.co/HWk...\n"
     ]
    },
    {
     "name": "stderr",
     "output_type": "stream",
     "text": [
      " 86%|████████▌ | 2668/3113 [04:57<00:50,  8.75it/s]"
     ]
    },
    {
     "name": "stdout",
     "output_type": "stream",
     "text": [
      "Emotion scores for text: 👻🎃 Happy Halloween 🎃👻 \n",
      "[me dressed as Santa age 5]...\n",
      "Emotion scores for text: Joe Rohan shatters an arrow on Cybertruck that wou...\n",
      "Emotion scores for text: Half-dressed as the wizard of Australia...\n"
     ]
    },
    {
     "name": "stderr",
     "output_type": "stream",
     "text": [
      " 86%|████████▌ | 2672/3113 [04:58<00:43, 10.23it/s]"
     ]
    },
    {
     "name": "stdout",
     "output_type": "stream",
     "text": [
      "Emotion scores for text: The real battle is between the extinctionists and ...\n",
      "Emotion scores for text: The word “cis” is a heterosexual slur. Shame on an...\n",
      "Emotion scores for text: The way to beat hatred is friendship...\n"
     ]
    },
    {
     "name": "stderr",
     "output_type": "stream",
     "text": [
      " 86%|████████▌ | 2674/3113 [04:58<00:44,  9.94it/s]"
     ]
    },
    {
     "name": "stdout",
     "output_type": "stream",
     "text": [
      "Emotion scores for text: The great wakening from woke has happened. This is...\n",
      "Emotion scores for text: Making a slight change to creator monetization: \n",
      "\n",
      "...\n",
      "Emotion scores for text: https://t.co/1jtKh4LsFx...\n"
     ]
    },
    {
     "name": "stderr",
     "output_type": "stream",
     "text": [
      " 86%|████████▌ | 2678/3113 [04:58<00:38, 11.40it/s]"
     ]
    },
    {
     "name": "stdout",
     "output_type": "stream",
     "text": [
      "Emotion scores for text: 🤯...\n",
      "Emotion scores for text: I would like to buy a license for my fish...\n",
      "Emotion scores for text: The @SphereVegas is exquisite beyond words...\n"
     ]
    },
    {
     "name": "stderr",
     "output_type": "stream",
     "text": [
      " 86%|████████▌ | 2680/3113 [04:58<00:36, 11.97it/s]"
     ]
    },
    {
     "name": "stdout",
     "output_type": "stream",
     "text": [
      "Emotion scores for text: ComStar Interdict...\n",
      "Emotion scores for text: https://t.co/NRrmtQJJZ9...\n",
      "Emotion scores for text: Maybe time’s just a construct of human perception....\n"
     ]
    },
    {
     "name": "stderr",
     "output_type": "stream",
     "text": [
      " 86%|████████▌ | 2684/3113 [04:59<00:36, 11.87it/s]"
     ]
    },
    {
     "name": "stdout",
     "output_type": "stream",
     "text": [
      "Emotion scores for text: @GigaThaad @washingtonpost They absolutely want yo...\n",
      "Emotion scores for text: It’s raining, it’s pouring … https://t.co/BGHPHVe6...\n",
      "Emotion scores for text: Interesting...\n"
     ]
    },
    {
     "name": "stderr",
     "output_type": "stream",
     "text": [
      " 86%|████████▋ | 2686/3113 [04:59<00:37, 11.29it/s]"
     ]
    },
    {
     "name": "stdout",
     "output_type": "stream",
     "text": [
      "Emotion scores for text: Join us for this discussion of the state of war in...\n",
      "Emotion scores for text: This book is an excellent explanation of why capit...\n"
     ]
    },
    {
     "name": "stderr",
     "output_type": "stream",
     "text": [
      " 86%|████████▋ | 2688/3113 [04:59<00:37, 11.22it/s]"
     ]
    },
    {
     "name": "stdout",
     "output_type": "stream",
     "text": [
      "Emotion scores for text: https://t.co/YWHZieLM8z...\n",
      "Emotion scores for text: 😴 https://t.co/kafzzeyGpq...\n",
      "Emotion scores for text: 𝕏 is open source news.\n",
      "\n",
      "That is the right way to t...\n"
     ]
    },
    {
     "name": "stderr",
     "output_type": "stream",
     "text": [
      " 86%|████████▋ | 2690/3113 [04:59<00:37, 11.25it/s]"
     ]
    },
    {
     "name": "stdout",
     "output_type": "stream",
     "text": [
      "Emotion scores for text: The articles printed in newspapers are quite liter...\n",
      "Emotion scores for text: Two new tiers of X Premium subscriptions launching...\n"
     ]
    },
    {
     "name": "stderr",
     "output_type": "stream",
     "text": [
      " 87%|████████▋ | 2694/3113 [04:59<00:39, 10.63it/s]"
     ]
    },
    {
     "name": "stdout",
     "output_type": "stream",
     "text": [
      "Emotion scores for text: At the risk of saying something controversial, Fal...\n",
      "Emotion scores for text: Love this feature 😂 https://t.co/dl9IcMshvT...\n",
      "Emotion scores for text: In 𝕏 S...\n"
     ]
    },
    {
     "name": "stderr",
     "output_type": "stream",
     "text": [
      " 87%|████████▋ | 2696/3113 [05:00<00:38, 10.94it/s]"
     ]
    },
    {
     "name": "stdout",
     "output_type": "stream",
     "text": [
      "Emotion scores for text: SpaceX launching Falcon9\n",
      "\n",
      "https://t.co/nqMwMtUrHa...\n",
      "Emotion scores for text: https://t.co/r0Emwy7JRn...\n",
      "Emotion scores for text: Can you beat hatred without a malignant heart?...\n"
     ]
    },
    {
     "name": "stderr",
     "output_type": "stream",
     "text": [
      " 87%|████████▋ | 2700/3113 [05:00<00:37, 11.02it/s]"
     ]
    },
    {
     "name": "stdout",
     "output_type": "stream",
     "text": [
      "Emotion scores for text: I use both words a lot 😂 https://t.co/hVbzYkRNcs...\n",
      "Emotion scores for text: https://t.co/oycEXq46dF...\n",
      "Emotion scores for text: Loving my new T-shirt https://t.co/fuxOtn1fNG...\n"
     ]
    },
    {
     "name": "stderr",
     "output_type": "stream",
     "text": [
      " 87%|████████▋ | 2702/3113 [05:00<00:38, 10.61it/s]"
     ]
    },
    {
     "name": "stdout",
     "output_type": "stream",
     "text": [
      "Emotion scores for text: Falcon Heavy side boosters landing https://t.co/NX...\n",
      "Emotion scores for text: Falcon Heavy launching @MissionToPsyche for @NASA ...\n"
     ]
    },
    {
     "name": "stderr",
     "output_type": "stream",
     "text": [
      " 87%|████████▋ | 2704/3113 [05:00<00:38, 10.73it/s]"
     ]
    },
    {
     "name": "stdout",
     "output_type": "stream",
     "text": [
      "Emotion scores for text: They say it’s all about the journey … https://t.co...\n",
      "Emotion scores for text: To beat hatred, transform thyself...\n",
      "Emotion scores for text: https://t.co/xHxCjZvdx0...\n"
     ]
    },
    {
     "name": "stderr",
     "output_type": "stream",
     "text": [
      " 87%|████████▋ | 2708/3113 [05:01<00:35, 11.27it/s]"
     ]
    },
    {
     "name": "stdout",
     "output_type": "stream",
     "text": [
      "Emotion scores for text: How many times did you die trying to beat hatred b...\n",
      "Emotion scores for text: This clip is 9 years old\n",
      "https://t.co/2r6BZnaDis...\n",
      "Emotion scores for text: All Tesla Superchargers in Israel are free...\n"
     ]
    },
    {
     "name": "stderr",
     "output_type": "stream",
     "text": [
      " 87%|████████▋ | 2710/3113 [05:01<00:35, 11.25it/s]"
     ]
    },
    {
     "name": "stdout",
     "output_type": "stream",
     "text": [
      "Emotion scores for text: https://t.co/ncMaeFBxVt...\n",
      "Emotion scores for text: https://t.co/mRFcvp3NkA...\n",
      "Emotion scores for text: Verifying verification...\n"
     ]
    },
    {
     "name": "stderr",
     "output_type": "stream",
     "text": [
      " 87%|████████▋ | 2712/3113 [05:01<00:34, 11.61it/s]"
     ]
    },
    {
     "name": "stdout",
     "output_type": "stream",
     "text": [
      "Emotion scores for text: Worth going back &amp; forth between For You &amp;...\n",
      "Emotion scores for text: https://t.co/hQ3iykC7NI...\n"
     ]
    },
    {
     "name": "stderr",
     "output_type": "stream",
     "text": [
      " 87%|████████▋ | 2715/3113 [05:02<00:48,  8.19it/s]"
     ]
    },
    {
     "name": "stdout",
     "output_type": "stream",
     "text": [
      "Emotion scores for text: Cybertruck in Baja\n",
      "https://t.co/v6pBnoQHPu...\n",
      "Emotion scores for text: Remember to add your notable posts to your “Highli...\n"
     ]
    },
    {
     "name": "stderr",
     "output_type": "stream",
     "text": [
      " 87%|████████▋ | 2718/3113 [05:02<00:43,  9.01it/s]"
     ]
    },
    {
     "name": "stdout",
     "output_type": "stream",
     "text": [
      "Emotion scores for text: As always, please try stay as close to the truth a...\n",
      "Emotion scores for text: Sorry to see what’s happening in Israel.\n",
      "\n",
      "I hope t...\n",
      "Emotion scores for text: https://t.co/LaehXamGpz...\n"
     ]
    },
    {
     "name": "stderr",
     "output_type": "stream",
     "text": [
      " 87%|████████▋ | 2721/3113 [05:02<00:40,  9.58it/s]"
     ]
    },
    {
     "name": "stdout",
     "output_type": "stream",
     "text": [
      "Emotion scores for text: If there’s a big scandal about me, my only request...\n",
      "Emotion scores for text: Stream Test 3 https://t.co/1ih0ZAY2tS...\n",
      "Emotion scores for text: Partial donuts round down to no donut https://t.co...\n"
     ]
    },
    {
     "name": "stderr",
     "output_type": "stream",
     "text": [
      " 87%|████████▋ | 2723/3113 [05:02<00:41,  9.30it/s]"
     ]
    },
    {
     "name": "stdout",
     "output_type": "stream",
     "text": [
      "Emotion scores for text: The real fight is not between right and left, but ...\n",
      "Emotion scores for text: Amazing that Ozempic is actually affecting @Walmar...\n"
     ]
    },
    {
     "name": "stderr",
     "output_type": "stream",
     "text": [
      " 88%|████████▊ | 2725/3113 [05:03<00:39,  9.78it/s]"
     ]
    },
    {
     "name": "stdout",
     "output_type": "stream",
     "text": [
      "Emotion scores for text: lol\n",
      "https://t.co/a5q6CHKZW9...\n",
      "Emotion scores for text: https://t.co/0FjhdS9Zmw...\n"
     ]
    },
    {
     "name": "stderr",
     "output_type": "stream",
     "text": [
      " 88%|████████▊ | 2728/3113 [05:03<00:37, 10.22it/s]"
     ]
    },
    {
     "name": "stdout",
     "output_type": "stream",
     "text": [
      "Emotion scores for text: Don’t want to brag, but this platform IS an ambi-t...\n",
      "Emotion scores for text: @pieeeeter So much harder to lie on this platform ...\n",
      "Emotion scores for text: @pieeeeter 💯...\n"
     ]
    },
    {
     "name": "stderr",
     "output_type": "stream",
     "text": [
      " 88%|████████▊ | 2730/3113 [05:03<00:34, 10.97it/s]"
     ]
    },
    {
     "name": "stdout",
     "output_type": "stream",
     "text": [
      "Emotion scores for text: Some publications are like the opposite of Zooland...\n",
      "Emotion scores for text: Pixel Perfect...\n",
      "Emotion scores for text: I only have 0.4 donuts at a time, because my brain...\n"
     ]
    },
    {
     "name": "stderr",
     "output_type": "stream",
     "text": [
      " 88%|████████▊ | 2734/3113 [05:03<00:35, 10.72it/s]"
     ]
    },
    {
     "name": "stdout",
     "output_type": "stream",
     "text": [
      "Emotion scores for text: I almost never read legacy news anymore. \n",
      "\n",
      "What’s ...\n",
      "Emotion scores for text: Ice cream yum so good https://t.co/HcpTDwIsYk...\n",
      "Emotion scores for text: Believe what you see, not what you’re told...\n"
     ]
    },
    {
     "name": "stderr",
     "output_type": "stream",
     "text": [
      " 88%|████████▊ | 2736/3113 [05:04<00:33, 11.15it/s]"
     ]
    },
    {
     "name": "stdout",
     "output_type": "stream",
     "text": [
      "Emotion scores for text: https://t.co/Gui9VdIalb...\n",
      "Emotion scores for text: https://t.co/WLQ6Qi7B7B...\n"
     ]
    },
    {
     "name": "stderr",
     "output_type": "stream",
     "text": [
      " 88%|████████▊ | 2738/3113 [05:04<00:38,  9.72it/s]"
     ]
    },
    {
     "name": "stdout",
     "output_type": "stream",
     "text": [
      "Emotion scores for text: As a summer intern many years ago, I wrote softwar...\n",
      "Emotion scores for text: 🤡 🌎...\n",
      "Emotion scores for text: https://t.co/zWSeLLA9R8...\n"
     ]
    },
    {
     "name": "stderr",
     "output_type": "stream",
     "text": [
      " 88%|████████▊ | 2742/3113 [05:04<00:37,  9.95it/s]"
     ]
    },
    {
     "name": "stdout",
     "output_type": "stream",
     "text": [
      "Emotion scores for text: Tested the 𝕏 video game streamer system last night...\n",
      "Emotion scores for text: Imagination Land! https://t.co/5WUDJZcpFu...\n",
      "Emotion scores for text: https://t.co/W9i9YEM8uA...\n"
     ]
    },
    {
     "name": "stderr",
     "output_type": "stream",
     "text": [
      " 88%|████████▊ | 2744/3113 [05:05<00:39,  9.23it/s]"
     ]
    },
    {
     "name": "stdout",
     "output_type": "stream",
     "text": [
      "Emotion scores for text: Newspapers basically just report on what they read...\n",
      "Emotion scores for text: I don’t read the legacy media propaganda much anym...\n"
     ]
    },
    {
     "name": "stderr",
     "output_type": "stream",
     "text": [
      " 88%|████████▊ | 2745/3113 [05:05<00:46,  7.84it/s]"
     ]
    },
    {
     "name": "stdout",
     "output_type": "stream",
     "text": [
      "Emotion scores for text: Congratulations to all the teams competing in @Tek...\n"
     ]
    },
    {
     "name": "stderr",
     "output_type": "stream",
     "text": [
      " 88%|████████▊ | 2747/3113 [05:05<00:52,  6.97it/s]"
     ]
    },
    {
     "name": "stdout",
     "output_type": "stream",
     "text": [
      "Emotion scores for text: What would Orwell think?\n",
      "\n",
      "WWOT\n",
      "\n",
      "Any title or name ...\n",
      "Emotion scores for text: Please encourage more citizen journalism! You can ...\n"
     ]
    },
    {
     "name": "stderr",
     "output_type": "stream",
     "text": [
      " 88%|████████▊ | 2749/3113 [05:05<00:51,  7.09it/s]"
     ]
    },
    {
     "name": "stdout",
     "output_type": "stream",
     "text": [
      "Emotion scores for text: Went to the Eagle Pass border crossing to see what...\n",
      "Emotion scores for text: Why do so many American politicians from both part...\n"
     ]
    },
    {
     "name": "stderr",
     "output_type": "stream",
     "text": [
      " 88%|████████▊ | 2751/3113 [05:06<00:47,  7.64it/s]"
     ]
    },
    {
     "name": "stdout",
     "output_type": "stream",
     "text": [
      "Emotion scores for text: Creators can now enable DMs from subscribers only....\n",
      "Emotion scores for text: Eagle Pass https://t.co/hb462Hymko...\n"
     ]
    },
    {
     "name": "stderr",
     "output_type": "stream",
     "text": [
      " 88%|████████▊ | 2752/3113 [05:06<00:47,  7.67it/s]"
     ]
    },
    {
     "name": "stdout",
     "output_type": "stream",
     "text": [
      "Emotion scores for text: Just arriving at Eagle Pass. Will start X livestre...\n",
      "Emotion scores for text: https://t.co/IMZ2Rv9Cpw...\n"
     ]
    },
    {
     "name": "stderr",
     "output_type": "stream",
     "text": [
      " 88%|████████▊ | 2754/3113 [05:06<00:42,  8.47it/s]"
     ]
    },
    {
     "name": "stdout",
     "output_type": "stream",
     "text": [
      "Emotion scores for text: One day\n",
      "https://t.co/vaFVpL7h4y...\n",
      "Emotion scores for text: https://t.co/B5qIMYvOUc...\n"
     ]
    },
    {
     "name": "stderr",
     "output_type": "stream",
     "text": [
      " 89%|████████▊ | 2757/3113 [05:06<00:47,  7.48it/s]"
     ]
    },
    {
     "name": "stdout",
     "output_type": "stream",
     "text": [
      "Emotion scores for text: Will test X livestream scaling tonight at ~11pm CT...\n",
      "Emotion scores for text: Seriously, it’s time for Mitch to move on https://...\n",
      "Emotion scores for text: The future should look like the future...\n"
     ]
    },
    {
     "name": "stderr",
     "output_type": "stream",
     "text": [
      " 89%|████████▊ | 2761/3113 [05:07<00:39,  8.99it/s]"
     ]
    },
    {
     "name": "stdout",
     "output_type": "stream",
     "text": [
      "Emotion scores for text: NASA broadcasting live on X!\n",
      "https://t.co/ZQoooChE...\n",
      "Emotion scores for text: https://t.co/h0sFMxSzbx...\n",
      "Emotion scores for text: Have you heard dis information? \n",
      " https://t.co/sHl...\n"
     ]
    },
    {
     "name": "stderr",
     "output_type": "stream",
     "text": [
      " 89%|████████▉ | 2764/3113 [05:07<00:36,  9.58it/s]"
     ]
    },
    {
     "name": "stdout",
     "output_type": "stream",
     "text": [
      "Emotion scores for text: “There is no easy way from Earth to the stars” – S...\n",
      "Emotion scores for text: https://t.co/WUk7XirVSV...\n",
      "Emotion scores for text: Long form posts on this platform are now at 3 bill...\n"
     ]
    },
    {
     "name": "stderr",
     "output_type": "stream",
     "text": [
      " 89%|████████▉ | 2766/3113 [05:07<00:37,  9.36it/s]"
     ]
    },
    {
     "name": "stdout",
     "output_type": "stream",
     "text": [
      "Emotion scores for text: Up, Down, Strange, Charm, Beauty &amp; Truth...\n",
      "Emotion scores for text: AI discussion with @netanyahu, @gdb and @tegmark i...\n"
     ]
    },
    {
     "name": "stderr",
     "output_type": "stream",
     "text": [
      " 89%|████████▉ | 2768/3113 [05:08<00:38,  8.86it/s]"
     ]
    },
    {
     "name": "stdout",
     "output_type": "stream",
     "text": [
      "Emotion scores for text: Yet another utterly false article from WSJ https:/...\n",
      "Emotion scores for text: How did most of the legacy media go from superhero...\n"
     ]
    },
    {
     "name": "stderr",
     "output_type": "stream",
     "text": [
      " 89%|████████▉ | 2770/3113 [05:08<00:44,  7.65it/s]"
     ]
    },
    {
     "name": "stdout",
     "output_type": "stream",
     "text": [
      "Emotion scores for text: For those considering putting their work on the X ...\n",
      "Emotion scores for text: Best story ever https://t.co/TlAheGn63e...\n"
     ]
    },
    {
     "name": "stderr",
     "output_type": "stream",
     "text": [
      " 89%|████████▉ | 2773/3113 [05:08<00:50,  6.78it/s]"
     ]
    },
    {
     "name": "stdout",
     "output_type": "stream",
     "text": [
      "Emotion scores for text: The incredibly captivating story that is The Iliad...\n",
      "Emotion scores for text: https://t.co/PNqzTeDT0J...\n",
      "Emotion scores for text: The years really fly by https://t.co/cDauJh1erS...\n"
     ]
    },
    {
     "name": "stderr",
     "output_type": "stream",
     "text": [
      " 89%|████████▉ | 2775/3113 [05:09<00:43,  7.72it/s]"
     ]
    },
    {
     "name": "stdout",
     "output_type": "stream",
     "text": [
      "Emotion scores for text: https://t.co/A18qYohJLr...\n",
      "Emotion scores for text: Aka opening your email https://t.co/QKe4aButYQ...\n"
     ]
    },
    {
     "name": "stderr",
     "output_type": "stream",
     "text": [
      " 89%|████████▉ | 2777/3113 [05:09<00:42,  7.90it/s]"
     ]
    },
    {
     "name": "stdout",
     "output_type": "stream",
     "text": [
      "Emotion scores for text: Starship Flight 2 https://t.co/ZfJ9ERl5ET...\n",
      "Emotion scores for text: https://t.co/Vn2hi5WVvn...\n"
     ]
    },
    {
     "name": "stderr",
     "output_type": "stream",
     "text": [
      " 89%|████████▉ | 2780/3113 [05:09<00:36,  9.09it/s]"
     ]
    },
    {
     "name": "stdout",
     "output_type": "stream",
     "text": [
      "Emotion scores for text: Listen to The Iliad as an audiobook. \n",
      "\n",
      "It was mean...\n",
      "Emotion scores for text: @gwestr @AdamSinger 🤣...\n",
      "Emotion scores for text: Dominoes Effect 🍕 https://t.co/3HYrvDE1pu...\n"
     ]
    },
    {
     "name": "stderr",
     "output_type": "stream",
     "text": [
      " 89%|████████▉ | 2782/3113 [05:09<00:40,  8.27it/s]"
     ]
    },
    {
     "name": "stdout",
     "output_type": "stream",
     "text": [
      "Emotion scores for text: https://t.co/3bPxtK8qvw...\n",
      "Emotion scores for text: Jonathan at ADL kicked off a massive Twitter boyco...\n"
     ]
    },
    {
     "name": "stderr",
     "output_type": "stream",
     "text": [
      " 89%|████████▉ | 2784/3113 [05:10<00:35,  9.38it/s]"
     ]
    },
    {
     "name": "stdout",
     "output_type": "stream",
     "text": [
      "Emotion scores for text: @telmudic Pics or …...\n",
      "Emotion scores for text: United Airlines: computer says no\n",
      "https://t.co/9Pp...\n",
      "Emotion scores for text: Live by the block, die by the...\n"
     ]
    },
    {
     "name": "stderr",
     "output_type": "stream",
     "text": [
      " 89%|████████▉ | 2786/3113 [05:10<00:31, 10.45it/s]"
     ]
    },
    {
     "name": "stdout",
     "output_type": "stream",
     "text": [
      "Emotion scores for text: @ArushiSF True...\n",
      "Emotion scores for text: The Facebook caved to far left pressure groups and...\n"
     ]
    },
    {
     "name": "stderr",
     "output_type": "stream",
     "text": [
      " 90%|████████▉ | 2788/3113 [05:10<00:32,  9.92it/s]"
     ]
    },
    {
     "name": "stdout",
     "output_type": "stream",
     "text": [
      "Emotion scores for text: Interesting documentary\n",
      "https://t.co/W1tAOdEaqm...\n",
      "Emotion scores for text: Interesting article \n",
      "https://t.co/zwdB7FRZzX...\n"
     ]
    },
    {
     "name": "stderr",
     "output_type": "stream",
     "text": [
      " 90%|████████▉ | 2792/3113 [05:10<00:31, 10.20it/s]"
     ]
    },
    {
     "name": "stdout",
     "output_type": "stream",
     "text": [
      "Emotion scores for text: To clear our platform’s name on the matter of anti...\n",
      "Emotion scores for text: https://t.co/SjvwQ9Dwul...\n",
      "Emotion scores for text: “May you live forever” is the worst possible curse...\n",
      "Emotion scores for text: At college, I learned super important knowledge, l...\n"
     ]
    },
    {
     "name": "stderr",
     "output_type": "stream",
     "text": [
      " 90%|████████▉ | 2795/3113 [05:11<00:39,  7.99it/s]"
     ]
    },
    {
     "name": "stdout",
     "output_type": "stream",
     "text": [
      "Emotion scores for text: Great work by the @SpaceX team successfully launch...\n",
      "Emotion scores for text: Video &amp; audio calls coming to X:\n",
      "\n",
      "- Works on i...\n"
     ]
    },
    {
     "name": "stderr",
     "output_type": "stream",
     "text": [
      " 90%|████████▉ | 2797/3113 [05:11<00:36,  8.76it/s]"
     ]
    },
    {
     "name": "stdout",
     "output_type": "stream",
     "text": [
      "Emotion scores for text: I love their new logo https://t.co/Qv7zbS3Yt7...\n",
      "Emotion scores for text: Please note that any attempts to manipulate the cr...\n",
      "Emotion scores for text: Getting ready for next Starship flight https://t.c...\n"
     ]
    },
    {
     "name": "stderr",
     "output_type": "stream",
     "text": [
      " 90%|████████▉ | 2801/3113 [05:11<00:30, 10.15it/s]"
     ]
    },
    {
     "name": "stdout",
     "output_type": "stream",
     "text": [
      "Emotion scores for text: @telmudic 👀...\n",
      "Emotion scores for text: https://t.co/VzTxpktH1q...\n",
      "Emotion scores for text: https://t.co/pUwpH8bZRN...\n"
     ]
    },
    {
     "name": "stderr",
     "output_type": "stream",
     "text": [
      " 90%|█████████ | 2803/3113 [05:12<00:29, 10.59it/s]"
     ]
    },
    {
     "name": "stdout",
     "output_type": "stream",
     "text": [
      "Emotion scores for text: https://t.co/gcSXLMwsua...\n",
      "Emotion scores for text: The speed at which your message on this platform c...\n",
      "Emotion scores for text: @telmudic True...\n"
     ]
    },
    {
     "name": "stderr",
     "output_type": "stream",
     "text": [
      " 90%|█████████ | 2805/3113 [05:12<00:27, 11.13it/s]"
     ]
    },
    {
     "name": "stdout",
     "output_type": "stream",
     "text": [
      "Emotion scores for text: https://t.co/AlB3PXhBx5...\n",
      "Emotion scores for text: @arctechinc When we are ready to do so, we will. \n",
      "...\n"
     ]
    },
    {
     "name": "stderr",
     "output_type": "stream",
     "text": [
      " 90%|█████████ | 2809/3113 [05:12<00:30,  9.98it/s]"
     ]
    },
    {
     "name": "stdout",
     "output_type": "stream",
     "text": [
      "Emotion scores for text: Our advertising revenue share program also applies...\n",
      "Emotion scores for text: Just drove the production candidate Cybertruck at ...\n",
      "Emotion scores for text: https://t.co/okvVSDxR8s...\n"
     ]
    },
    {
     "name": "stderr",
     "output_type": "stream",
     "text": [
      " 90%|█████████ | 2811/3113 [05:12<00:29, 10.09it/s]"
     ]
    },
    {
     "name": "stdout",
     "output_type": "stream",
     "text": [
      "Emotion scores for text: https://t.co/4Rg5utEQVa...\n",
      "Emotion scores for text: If you’re a journalist who wants more freedom to w...\n",
      "Emotion scores for text: Pretty fun blocking people who complain that block...\n"
     ]
    },
    {
     "name": "stderr",
     "output_type": "stream",
     "text": [
      " 90%|█████████ | 2815/3113 [05:13<00:29, 10.20it/s]"
     ]
    },
    {
     "name": "stdout",
     "output_type": "stream",
     "text": [
      "Emotion scores for text: The sad truth is that there are no great “social n...\n",
      "Emotion scores for text: Although there are some bad things in the world, r...\n",
      "Emotion scores for text: https://t.co/XX2HizscqA...\n"
     ]
    },
    {
     "name": "stderr",
     "output_type": "stream",
     "text": [
      " 90%|█████████ | 2817/3113 [05:13<00:27, 10.83it/s]"
     ]
    },
    {
     "name": "stdout",
     "output_type": "stream",
     "text": [
      "Emotion scores for text: @telmudic 😂...\n",
      "Emotion scores for text: Tokyo X https://t.co/9u84XxCWti...\n",
      "Emotion scores for text: https://t.co/k5d8hh2quO...\n"
     ]
    },
    {
     "name": "stderr",
     "output_type": "stream",
     "text": [
      " 91%|█████████ | 2821/3113 [05:13<00:25, 11.45it/s]"
     ]
    },
    {
     "name": "stdout",
     "output_type": "stream",
     "text": [
      "Emotion scores for text: https://t.co/3CK6fLaShP...\n",
      "Emotion scores for text: https://t.co/BZ0zCUih4u...\n",
      "Emotion scores for text: We need to make this interface far more beautiful...\n"
     ]
    },
    {
     "name": "stderr",
     "output_type": "stream",
     "text": [
      " 91%|█████████ | 2823/3113 [05:13<00:23, 12.11it/s]"
     ]
    },
    {
     "name": "stdout",
     "output_type": "stream",
     "text": [
      "Emotion scores for text: 𝕏 as humanity’s \n",
      "collective \n",
      "consciousness...\n",
      "Emotion scores for text: Elden Ring is some of the most beautiful art ever ...\n",
      "Emotion scores for text: The Fast &amp; The Fanciful: Tōkyō Drīft 2023...\n"
     ]
    },
    {
     "name": "stderr",
     "output_type": "stream",
     "text": [
      " 91%|█████████ | 2827/3113 [05:14<00:23, 12.04it/s]"
     ]
    },
    {
     "name": "stdout",
     "output_type": "stream",
     "text": [
      "Emotion scores for text: https://t.co/Zkp1aiwauY...\n",
      "Emotion scores for text: https://t.co/j7jXLtB8Qt...\n",
      "Emotion scores for text: What do you want to make of it?...\n"
     ]
    },
    {
     "name": "stderr",
     "output_type": "stream",
     "text": [
      " 91%|█████████ | 2829/3113 [05:14<00:22, 12.72it/s]"
     ]
    },
    {
     "name": "stdout",
     "output_type": "stream",
     "text": [
      "Emotion scores for text: Every day is a brand new day...\n",
      "Emotion scores for text: Just arrived in amazing 🇯🇵 Japan 🇯🇵...\n",
      "Emotion scores for text: Tesla &amp; SpaceX/Starlink doing our best to be h...\n"
     ]
    },
    {
     "name": "stderr",
     "output_type": "stream",
     "text": [
      " 91%|█████████ | 2833/3113 [05:14<00:22, 12.44it/s]"
     ]
    },
    {
     "name": "stdout",
     "output_type": "stream",
     "text": [
      "Emotion scores for text: Immersive video on X is starting to get good. Just...\n",
      "Emotion scores for text: I am whatever the opposite of an escape artist is...\n",
      "Emotion scores for text: @telmudic 😂...\n",
      "Emotion scores for text: Fight Recap:\n",
      "\n",
      "I joked on X about fighting Zuck\n",
      "\n",
      "Zu...\n"
     ]
    },
    {
     "name": "stderr",
     "output_type": "stream",
     "text": [
      " 91%|█████████ | 2837/3113 [05:15<00:31,  8.79it/s]"
     ]
    },
    {
     "name": "stdout",
     "output_type": "stream",
     "text": [
      "Emotion scores for text: For the Tesla FSD test drive in Palo Alto tonight,...\n",
      "Emotion scores for text: Knock, knock … challenge accepted … open the door ...\n",
      "Emotion scores for text: The die is cast https://t.co/QNcefBA8EO...\n"
     ]
    },
    {
     "name": "stderr",
     "output_type": "stream",
     "text": [
      " 91%|█████████ | 2839/3113 [05:15<00:28,  9.58it/s]"
     ]
    },
    {
     "name": "stdout",
     "output_type": "stream",
     "text": [
      "Emotion scores for text: https://t.co/r80KZl05Zk...\n",
      "Emotion scores for text: @telmudic Dang...\n",
      "Emotion scores for text: @mipateluk @tunguz DNA GitHub...\n"
     ]
    },
    {
     "name": "stderr",
     "output_type": "stream",
     "text": [
      " 91%|█████████▏| 2843/3113 [05:15<00:25, 10.49it/s]"
     ]
    },
    {
     "name": "stdout",
     "output_type": "stream",
     "text": [
      "Emotion scores for text: @mipateluk @tunguz 😂...\n",
      "Emotion scores for text: Practicing martial arts with my sparring partner h...\n",
      "Emotion scores for text: ‘Who controls the memes, controls the universe’ – ...\n"
     ]
    },
    {
     "name": "stderr",
     "output_type": "stream",
     "text": [
      " 91%|█████████▏| 2845/3113 [05:15<00:24, 10.80it/s]"
     ]
    },
    {
     "name": "stdout",
     "output_type": "stream",
     "text": [
      "Emotion scores for text: Estne volumen in toga, an solum tibi libet me vide...\n",
      "Emotion scores for text: Dulce est desipere in loco...\n",
      "Emotion scores for text: ⚔️ Gladiator ⚔️...\n"
     ]
    },
    {
     "name": "stderr",
     "output_type": "stream",
     "text": [
      " 91%|█████████▏| 2847/3113 [05:16<00:28,  9.40it/s]"
     ]
    },
    {
     "name": "stdout",
     "output_type": "stream",
     "text": [
      "Emotion scores for text: The fight will be managed by my and Zuck’s foundat...\n",
      "Emotion scores for text: https://t.co/vxMQiOsrfL...\n"
     ]
    },
    {
     "name": "stderr",
     "output_type": "stream",
     "text": [
      " 92%|█████████▏| 2851/3113 [05:16<00:28,  9.11it/s]"
     ]
    },
    {
     "name": "stdout",
     "output_type": "stream",
     "text": [
      "Emotion scores for text: This essentially means that X Premium (fka Twitter...\n",
      "Emotion scores for text: This platform is by far the best way to reach worl...\n",
      "Emotion scores for text: Great product engineering &amp; design sessions to...\n"
     ]
    },
    {
     "name": "stderr",
     "output_type": "stream",
     "text": [
      " 92%|█████████▏| 2852/3113 [05:16<00:29,  8.83it/s]"
     ]
    },
    {
     "name": "stdout",
     "output_type": "stream",
     "text": [
      "Emotion scores for text: Highly recommend “The Explorers” podcast for stori...\n",
      "Emotion scores for text: Starship Super Heavy Booster https://t.co/3065srPu...\n"
     ]
    },
    {
     "name": "stderr",
     "output_type": "stream",
     "text": [
      " 92%|█████████▏| 2856/3113 [05:17<00:32,  8.02it/s]"
     ]
    },
    {
     "name": "stdout",
     "output_type": "stream",
     "text": [
      "Emotion scores for text: I would like to thank Zach Kirkhorn for his many c...\n",
      "Emotion scores for text: https://t.co/hDSTKPdQnG...\n",
      "Emotion scores for text: @telmudic It is definitely confusing. I mean, how ...\n"
     ]
    },
    {
     "name": "stderr",
     "output_type": "stream",
     "text": [
      " 92%|█████████▏| 2858/3113 [05:17<00:28,  8.85it/s]"
     ]
    },
    {
     "name": "stdout",
     "output_type": "stream",
     "text": [
      "Emotion scores for text: Diablo IV is a great game. Nice work by the @Blizz...\n",
      "Emotion scores for text: Zuck v Musk fight will be live-streamed on 𝕏.\n",
      "\n",
      "All...\n"
     ]
    },
    {
     "name": "stderr",
     "output_type": "stream",
     "text": [
      " 92%|█████████▏| 2860/3113 [05:17<00:28,  8.75it/s]"
     ]
    },
    {
     "name": "stdout",
     "output_type": "stream",
     "text": [
      "Emotion scores for text: Am lifting weights throughout the day, preparing f...\n",
      "Emotion scores for text: Immersive video on this platform is starting to ge...\n"
     ]
    },
    {
     "name": "stderr",
     "output_type": "stream",
     "text": [
      " 92%|█████████▏| 2861/3113 [05:17<00:28,  8.72it/s]"
     ]
    },
    {
     "name": "stdout",
     "output_type": "stream",
     "text": [
      "Emotion scores for text: If you were unfairly treated by your employer due ...\n",
      "Emotion scores for text: @telmudic I have a long memory...\n"
     ]
    },
    {
     "name": "stderr",
     "output_type": "stream",
     "text": [
      " 92%|█████████▏| 2864/3113 [05:18<00:29,  8.43it/s]"
     ]
    },
    {
     "name": "stdout",
     "output_type": "stream",
     "text": [
      "Emotion scores for text: To be eligible for your ad revenue share, you must...\n",
      "Emotion scores for text: Interest in ad rev share by content creators has f...\n"
     ]
    },
    {
     "name": "stderr",
     "output_type": "stream",
     "text": [
      " 92%|█████████▏| 2865/3113 [05:18<00:31,  7.96it/s]"
     ]
    },
    {
     "name": "stdout",
     "output_type": "stream",
     "text": [
      "Emotion scores for text: I know some people hate on them, but I have to cre...\n",
      "Emotion scores for text: Legacy media and the truth … https://t.co/akvZuYuT...\n"
     ]
    },
    {
     "name": "stderr",
     "output_type": "stream",
     "text": [
      " 92%|█████████▏| 2868/3113 [05:18<00:34,  7.20it/s]"
     ]
    },
    {
     "name": "stdout",
     "output_type": "stream",
     "text": [
      "Emotion scores for text: The New York Times actually has the nerve to suppo...\n",
      "Emotion scores for text: Live video now works reasonably well. Just tap the...\n"
     ]
    },
    {
     "name": "stderr",
     "output_type": "stream",
     "text": [
      " 92%|█████████▏| 2870/3113 [05:19<00:28,  8.66it/s]"
     ]
    },
    {
     "name": "stdout",
     "output_type": "stream",
     "text": [
      "Emotion scores for text: https://t.co/4YeQWPz1Xw...\n",
      "Emotion scores for text: Physics is a Ψ op...\n",
      "Emotion scores for text: And I learn more here than anywhere else, from art...\n"
     ]
    },
    {
     "name": "stderr",
     "output_type": "stream",
     "text": [
      " 92%|█████████▏| 2873/3113 [05:19<00:26,  9.21it/s]"
     ]
    },
    {
     "name": "stdout",
     "output_type": "stream",
     "text": [
      "Emotion scores for text: I get more laughs from this platform than everythi...\n",
      "Emotion scores for text: Verified users can now download videos if the cont...\n"
     ]
    },
    {
     "name": "stderr",
     "output_type": "stream",
     "text": [
      " 92%|█████████▏| 2875/3113 [05:19<00:37,  6.30it/s]"
     ]
    },
    {
     "name": "stdout",
     "output_type": "stream",
     "text": [
      "Emotion scores for text: Super Important to Support Creators!\n",
      "\n",
      "If you can a...\n",
      "Emotion scores for text: Unless there are a few issues where you at least s...\n"
     ]
    },
    {
     "name": "stderr",
     "output_type": "stream",
     "text": [
      " 92%|█████████▏| 2877/3113 [05:20<00:31,  7.43it/s]"
     ]
    },
    {
     "name": "stdout",
     "output_type": "stream",
     "text": [
      "Emotion scores for text: It is important for more people to come to work in...\n",
      "Emotion scores for text: Wow, I’m glad so many people love Canada too 🤗 htt...\n",
      "Emotion scores for text: I ♥️ Canada https://t.co/95321VIi8r...\n"
     ]
    },
    {
     "name": "stderr",
     "output_type": "stream",
     "text": [
      " 92%|█████████▏| 2879/3113 [05:20<00:27,  8.65it/s]"
     ]
    },
    {
     "name": "stdout",
     "output_type": "stream",
     "text": [
      "Emotion scores for text: Blaze Your Glory!!...\n",
      "Emotion scores for text: @telmudic 😂...\n"
     ]
    },
    {
     "name": "stderr",
     "output_type": "stream",
     "text": [
      " 93%|█████████▎| 2883/3113 [05:20<00:26,  8.68it/s]"
     ]
    },
    {
     "name": "stdout",
     "output_type": "stream",
     "text": [
      "Emotion scores for text: Many have offered rich incentives for X (fka Twitt...\n",
      "Emotion scores for text: https://t.co/5YdlVQifRn...\n",
      "Emotion scores for text: https://t.co/3nrWjSxAum...\n"
     ]
    },
    {
     "name": "stderr",
     "output_type": "stream",
     "text": [
      " 93%|█████████▎| 2885/3113 [05:20<00:22,  9.97it/s]"
     ]
    },
    {
     "name": "stdout",
     "output_type": "stream",
     "text": [
      "Emotion scores for text: Something special coming soon...\n",
      "Emotion scores for text: I knew birds weren’t real...\n",
      "Emotion scores for text: Our HQ in San Francisco tonight https://t.co/VQO2N...\n"
     ]
    },
    {
     "name": "stderr",
     "output_type": "stream",
     "text": [
      " 93%|█████████▎| 2889/3113 [05:21<00:20, 10.78it/s]"
     ]
    },
    {
     "name": "stdout",
     "output_type": "stream",
     "text": [
      "Emotion scores for text: @telmudic 🤣🤣...\n",
      "Emotion scores for text: https://t.co/Io9Mk7PYUH...\n",
      "Emotion scores for text: Found pic of 𝕏 landlord in San Francisco https://t...\n"
     ]
    },
    {
     "name": "stderr",
     "output_type": "stream",
     "text": [
      " 93%|█████████▎| 2891/3113 [05:21<00:18, 11.71it/s]"
     ]
    },
    {
     "name": "stdout",
     "output_type": "stream",
     "text": [
      "Emotion scores for text: 🏴‍☠️...\n",
      "Emotion scores for text: https://t.co/XEydRiST9D...\n",
      "Emotion scores for text: New water deluge system to protect against the imm...\n"
     ]
    },
    {
     "name": "stderr",
     "output_type": "stream",
     "text": [
      " 93%|█████████▎| 2895/3113 [05:21<00:19, 11.11it/s]"
     ]
    },
    {
     "name": "stdout",
     "output_type": "stream",
     "text": [
      "Emotion scores for text: 𝕏 monthly users reach new high in 2023 https://t.c...\n",
      "Emotion scores for text: “You don’t need logic to have a good time!” – SJM...\n",
      "Emotion scores for text: I think we should have a psy op of the year contes...\n"
     ]
    },
    {
     "name": "stderr",
     "output_type": "stream",
     "text": [
      " 93%|█████████▎| 2897/3113 [05:21<00:18, 11.81it/s]"
     ]
    },
    {
     "name": "stdout",
     "output_type": "stream",
     "text": [
      "Emotion scores for text: I’m not saying there are aliens, but …...\n",
      "Emotion scores for text: @telmudic 🤗...\n",
      "Emotion scores for text: It is such an honor to be able to work with and me...\n"
     ]
    },
    {
     "name": "stderr",
     "output_type": "stream",
     "text": [
      " 93%|█████████▎| 2901/3113 [05:22<00:17, 12.23it/s]"
     ]
    },
    {
     "name": "stdout",
     "output_type": "stream",
     "text": [
      "Emotion scores for text: @BloipApp @WallStreetSilv @alx Exactly...\n",
      "Emotion scores for text: Futuristic Art Deco...\n",
      "Emotion scores for text: https://t.co/dxbsqwcYv7...\n"
     ]
    },
    {
     "name": "stderr",
     "output_type": "stream",
     "text": [
      " 93%|█████████▎| 2903/3113 [05:22<00:18, 11.13it/s]"
     ]
    },
    {
     "name": "stdout",
     "output_type": "stream",
     "text": [
      "Emotion scores for text: Our headquarters tonight https://t.co/GO6yY8R7fO...\n",
      "Emotion scores for text: https://t.co/bOUOek5Cvy now points to https://t.co...\n"
     ]
    },
    {
     "name": "stderr",
     "output_type": "stream",
     "text": [
      " 93%|█████████▎| 2905/3113 [05:22<00:20, 10.34it/s]"
     ]
    },
    {
     "name": "stdout",
     "output_type": "stream",
     "text": [
      "Emotion scores for text: Not sure what subtle clues gave it way, but I like...\n",
      "Emotion scores for text: If X is closest in style to anything, it should, o...\n",
      "Emotion scores for text: We should stop making our appliances so “smart”...\n"
     ]
    },
    {
     "name": "stderr",
     "output_type": "stream",
     "text": [
      " 93%|█████████▎| 2909/3113 [05:22<00:17, 11.60it/s]"
     ]
    },
    {
     "name": "stdout",
     "output_type": "stream",
     "text": [
      "Emotion scores for text: You rang? https://t.co/AZ7yTuoPBb...\n",
      "Emotion scores for text: Deus X...\n",
      "Emotion scores for text: https://t.co/IwcbqMnQtA...\n"
     ]
    },
    {
     "name": "stderr",
     "output_type": "stream",
     "text": [
      " 94%|█████████▎| 2911/3113 [05:23<00:17, 11.52it/s]"
     ]
    },
    {
     "name": "stdout",
     "output_type": "stream",
     "text": [
      "Emotion scores for text: Like this but X https://t.co/PRLMMA2lYl...\n",
      "Emotion scores for text: If a good enough X logo is posted tonight, we’ll m...\n",
      "Emotion scores for text: And soon we shall bid adieu to the twitter brand a...\n"
     ]
    },
    {
     "name": "stderr",
     "output_type": "stream",
     "text": [
      " 94%|█████████▎| 2915/3113 [05:23<00:16, 12.11it/s]"
     ]
    },
    {
     "name": "stdout",
     "output_type": "stream",
     "text": [
      "Emotion scores for text: Frankly, I love the negative feedback on this plat...\n",
      "Emotion scores for text: Change default platform color to black...\n",
      "Emotion scores for text: 侘寂...\n",
      "Emotion scores for text: Paint It Black...\n"
     ]
    },
    {
     "name": "stderr",
     "output_type": "stream",
     "text": [
      " 94%|█████████▎| 2917/3113 [05:23<00:16, 11.97it/s]"
     ]
    },
    {
     "name": "stdout",
     "output_type": "stream",
     "text": [
      "Emotion scores for text: @LostPortalX @benlandautaylor And yet that book is...\n",
      "Emotion scores for text: Man if aspartame really does cause cancer, I’m dea...\n"
     ]
    },
    {
     "name": "stderr",
     "output_type": "stream",
     "text": [
      " 94%|█████████▍| 2921/3113 [05:23<00:16, 11.34it/s]"
     ]
    },
    {
     "name": "stdout",
     "output_type": "stream",
     "text": [
      "Emotion scores for text: The scariest answer to the Fermi Paradox is that t...\n",
      "Emotion scores for text: Sorry our pixels are so imperfect\n",
      "\n",
      "Hopefully less ...\n",
      "Emotion scores for text: https://t.co/LVIf3DPMxP...\n"
     ]
    },
    {
     "name": "stderr",
     "output_type": "stream",
     "text": [
      " 94%|█████████▍| 2923/3113 [05:24<00:15, 11.91it/s]"
     ]
    },
    {
     "name": "stdout",
     "output_type": "stream",
     "text": [
      "Emotion scores for text: Timing seems like AGI&gt;&gt;Idiocracy...\n",
      "Emotion scores for text: Does anyone understand the Internet?...\n",
      "Emotion scores for text: Pixel. Perfect....\n"
     ]
    },
    {
     "name": "stderr",
     "output_type": "stream",
     "text": [
      " 94%|█████████▍| 2925/3113 [05:24<00:15, 11.95it/s]"
     ]
    },
    {
     "name": "stdout",
     "output_type": "stream",
     "text": [
      "Emotion scores for text: https://t.co/UPSA6M7Gwz...\n",
      "Emotion scores for text: Many accounts on this platform can earn thousands ...\n"
     ]
    },
    {
     "name": "stderr",
     "output_type": "stream",
     "text": [
      " 94%|█████████▍| 2927/3113 [05:24<00:18, 10.11it/s]"
     ]
    },
    {
     "name": "stdout",
     "output_type": "stream",
     "text": [
      "Emotion scores for text: Super Heavy Booster https://t.co/blLi1cSzBI...\n",
      "Emotion scores for text: Next Starship prototype https://t.co/l2BXNobgJk...\n"
     ]
    },
    {
     "name": "stderr",
     "output_type": "stream",
     "text": [
      " 94%|█████████▍| 2930/3113 [05:24<00:20,  8.98it/s]"
     ]
    },
    {
     "name": "stdout",
     "output_type": "stream",
     "text": [
      "Emotion scores for text: @telmudic People with widely differing statistical...\n",
      "Emotion scores for text: Found this old photo where I’m trying to get my bo...\n",
      "Emotion scores for text: @telmudic My son Saxon says that...\n"
     ]
    },
    {
     "name": "stderr",
     "output_type": "stream",
     "text": [
      " 94%|█████████▍| 2932/3113 [05:25<00:18,  9.93it/s]"
     ]
    },
    {
     "name": "stdout",
     "output_type": "stream",
     "text": [
      "Emotion scores for text: Doges ftw https://t.co/bl0trQ7BdU...\n",
      "Emotion scores for text: https://t.co/mqn4TJSHoO...\n"
     ]
    },
    {
     "name": "stderr",
     "output_type": "stream",
     "text": [
      " 94%|█████████▍| 2936/3113 [05:25<00:16, 10.55it/s]"
     ]
    },
    {
     "name": "stdout",
     "output_type": "stream",
     "text": [
      "Emotion scores for text: Again, could not recommend this book more. Audio v...\n",
      "Emotion scores for text: https://t.co/QYuDL1l9o9...\n",
      "Emotion scores for text: Turn audio on for max satisfaction...\n"
     ]
    },
    {
     "name": "stderr",
     "output_type": "stream",
     "text": [
      " 94%|█████████▍| 2938/3113 [05:25<00:15, 11.45it/s]"
     ]
    },
    {
     "name": "stdout",
     "output_type": "stream",
     "text": [
      "Emotion scores for text: @JessieRoseGarre @RadioFreeTom 😂...\n",
      "Emotion scores for text: @Openskies13 Cool...\n",
      "Emotion scores for text: Whatever sins this platform may have, being boring...\n"
     ]
    },
    {
     "name": "stderr",
     "output_type": "stream",
     "text": [
      " 95%|█████████▍| 2942/3113 [05:25<00:14, 11.70it/s]"
     ]
    },
    {
     "name": "stdout",
     "output_type": "stream",
     "text": [
      "Emotion scores for text: https://t.co/9jkeAPJmYs...\n",
      "Emotion scores for text: affective autism &gt; effective altruism?...\n",
      "Emotion scores for text: https://t.co/04lWcL7QFk...\n"
     ]
    },
    {
     "name": "stderr",
     "output_type": "stream",
     "text": [
      " 95%|█████████▍| 2944/3113 [05:26<00:14, 11.66it/s]"
     ]
    },
    {
     "name": "stdout",
     "output_type": "stream",
     "text": [
      "Emotion scores for text: https://t.co/LCXD4QPsNW...\n",
      "Emotion scores for text: Excellent analysis https://t.co/xSyRWuvYsu...\n"
     ]
    },
    {
     "name": "stderr",
     "output_type": "stream",
     "text": [
      " 95%|█████████▍| 2946/3113 [05:26<00:17,  9.44it/s]"
     ]
    },
    {
     "name": "stdout",
     "output_type": "stream",
     "text": [
      "Emotion scores for text: Platform usage up 3.5% week over week https://t.co...\n",
      "Emotion scores for text: .@xAI...\n",
      "Emotion scores for text: xAI discussion on Spaces now...\n"
     ]
    },
    {
     "name": "stderr",
     "output_type": "stream",
     "text": [
      " 95%|█████████▍| 2950/3113 [05:26<00:14, 10.94it/s]"
     ]
    },
    {
     "name": "stdout",
     "output_type": "stream",
     "text": [
      "Emotion scores for text: xAI Discussion  https://t.co/UHZatW4vFS...\n",
      "Emotion scores for text: @telmudic She seems cool...\n",
      "Emotion scores for text: Looks like this platform may see all time high dev...\n",
      "Emotion scores for text: Testing...\n"
     ]
    },
    {
     "name": "stderr",
     "output_type": "stream",
     "text": [
      " 95%|█████████▍| 2954/3113 [05:27<00:13, 11.86it/s]"
     ]
    },
    {
     "name": "stdout",
     "output_type": "stream",
     "text": [
      "Emotion scores for text: Spaces discussion with @xAI team tomorrow at 1pm P...\n",
      "Emotion scores for text: “There is a time to laugh and a time not to laugh,...\n",
      "Emotion scores for text: Life, the Universe and Everything...\n"
     ]
    },
    {
     "name": "stderr",
     "output_type": "stream",
     "text": [
      " 95%|█████████▍| 2956/3113 [05:27<00:13, 11.49it/s]"
     ]
    },
    {
     "name": "stdout",
     "output_type": "stream",
     "text": [
      "Emotion scores for text: @publicarepolice @Alphafox78 @TwitterBlue @Twitter...\n",
      "Emotion scores for text: Announcing formation of @xAI to understand reality...\n",
      "Emotion scores for text: Practically invisible https://t.co/xjdnGmmWAP...\n"
     ]
    },
    {
     "name": "stderr",
     "output_type": "stream",
     "text": [
      " 95%|█████████▌| 2960/3113 [05:27<00:13, 11.41it/s]"
     ]
    },
    {
     "name": "stdout",
     "output_type": "stream",
     "text": [
      "Emotion scores for text: You are free to be your true self here...\n",
      "Emotion scores for text: Watching pic in pic video while scrolling this pla...\n",
      "Emotion scores for text: You will get more laughs from this app than everyt...\n"
     ]
    },
    {
     "name": "stderr",
     "output_type": "stream",
     "text": [
      " 95%|█████████▌| 2962/3113 [05:27<00:13, 11.48it/s]"
     ]
    },
    {
     "name": "stdout",
     "output_type": "stream",
     "text": [
      "Emotion scores for text: @telmudic 😂 💦 🚀...\n",
      "Emotion scores for text: @RamsesAmericas @stclairashley With every fiber in...\n",
      "Emotion scores for text: 3 more engines for the meaning of life https://t.c...\n"
     ]
    },
    {
     "name": "stderr",
     "output_type": "stream",
     "text": [
      " 95%|█████████▌| 2964/3113 [05:27<00:12, 11.76it/s]"
     ]
    },
    {
     "name": "stdout",
     "output_type": "stream",
     "text": [
      "Emotion scores for text: The Outside Context Problem...\n",
      "Emotion scores for text: @Bolverk15 🎯...\n"
     ]
    },
    {
     "name": "stderr",
     "output_type": "stream",
     "text": [
      " 95%|█████████▌| 2966/3113 [05:28<00:14, 10.49it/s]"
     ]
    },
    {
     "name": "stdout",
     "output_type": "stream",
     "text": [
      "Emotion scores for text: @TeslaShill @stevenmarkryan Most people still don’...\n"
     ]
    },
    {
     "name": "stderr",
     "output_type": "stream",
     "text": [
      " 95%|█████████▌| 2968/3113 [05:28<00:16,  8.89it/s]"
     ]
    },
    {
     "name": "stdout",
     "output_type": "stream",
     "text": [
      "Emotion scores for text: Just drove Cybertruck around Austin! https://t.co/...\n",
      "Emotion scores for text: Must confess to a deep love of fashion &amp; archi...\n",
      "Emotion scores for text: God Bless America...\n"
     ]
    },
    {
     "name": "stderr",
     "output_type": "stream",
     "text": [
      " 95%|█████████▌| 2972/3113 [05:28<00:14,  9.72it/s]"
     ]
    },
    {
     "name": "stdout",
     "output_type": "stream",
     "text": [
      "Emotion scores for text: you awake from a deep trance, \n",
      "step away from the ...\n",
      "Emotion scores for text: So much space https://t.co/9zaKJ40dOy...\n",
      "Emotion scores for text: Oh the irony of hitting view limits due to complai...\n"
     ]
    },
    {
     "name": "stderr",
     "output_type": "stream",
     "text": [
      " 96%|█████████▌| 2974/3113 [05:29<00:16,  8.48it/s]"
     ]
    },
    {
     "name": "stdout",
     "output_type": "stream",
     "text": [
      "Emotion scores for text: Rate limited due to reading all the posts about ra...\n",
      "Emotion scores for text: To address extreme levels of data scraping &amp; s...\n"
     ]
    },
    {
     "name": "stderr",
     "output_type": "stream",
     "text": [
      " 96%|█████████▌| 2976/3113 [05:29<00:15,  9.10it/s]"
     ]
    },
    {
     "name": "stdout",
     "output_type": "stream",
     "text": [
      "Emotion scores for text: @telmudic 😂...\n",
      "Emotion scores for text: This platform hit another all-time high in user-se...\n",
      "Emotion scores for text: @telmudic Crunchwrap is actually quite good!...\n"
     ]
    },
    {
     "name": "stderr",
     "output_type": "stream",
     "text": [
      " 96%|█████████▌| 2980/3113 [05:29<00:13, 10.00it/s]"
     ]
    },
    {
     "name": "stdout",
     "output_type": "stream",
     "text": [
      "Emotion scores for text: Astra inclinant, sed non obligant...\n",
      "Emotion scores for text: Some chance fight happens in Colosseum...\n",
      "Emotion scores for text: Thank you for the kind words...\n"
     ]
    },
    {
     "name": "stderr",
     "output_type": "stream",
     "text": [
      " 96%|█████████▌| 2982/3113 [05:29<00:13,  9.67it/s]"
     ]
    },
    {
     "name": "stdout",
     "output_type": "stream",
     "text": [
      "Emotion scores for text: 42+10...\n",
      "Emotion scores for text: Watch the entire first episode on this platform. G...\n"
     ]
    },
    {
     "name": "stderr",
     "output_type": "stream",
     "text": [
      " 96%|█████████▌| 2985/3113 [05:30<00:12, 10.30it/s]"
     ]
    },
    {
     "name": "stdout",
     "output_type": "stream",
     "text": [
      "Emotion scores for text: https://t.co/BDjXS0Qjhk...\n",
      "Emotion scores for text: @telmudic Yes...\n",
      "Emotion scores for text: Fanaticism is always a function of repressed doubt...\n"
     ]
    },
    {
     "name": "stderr",
     "output_type": "stream",
     "text": [
      " 96%|█████████▌| 2987/3113 [05:30<00:14,  8.91it/s]"
     ]
    },
    {
     "name": "stdout",
     "output_type": "stream",
     "text": [
      "Emotion scores for text: “Ads” like this where you learn or are entertained...\n",
      "Emotion scores for text: Just swipe up to see the next video...\n"
     ]
    },
    {
     "name": "stderr",
     "output_type": "stream",
     "text": [
      " 96%|█████████▌| 2989/3113 [05:30<00:14,  8.79it/s]"
     ]
    },
    {
     "name": "stdout",
     "output_type": "stream",
     "text": [
      "Emotion scores for text: Here we go again https://t.co/7K9UW9LbJz...\n",
      "Emotion scores for text: Interesting Spaces about Wagner revolt\n",
      "https://t.c...\n",
      "Emotion scores for text: The most entertaining outcome (as if we were in a ...\n"
     ]
    },
    {
     "name": "stderr",
     "output_type": "stream",
     "text": [
      " 96%|█████████▌| 2993/3113 [05:31<00:12,  9.93it/s]"
     ]
    },
    {
     "name": "stdout",
     "output_type": "stream",
     "text": [
      "Emotion scores for text: Don’t even trust nobody https://t.co/VHa1zVGI71...\n",
      "Emotion scores for text: https://t.co/VHZpjEBcuS...\n",
      "Emotion scores for text: @telmudic 😂...\n"
     ]
    },
    {
     "name": "stderr",
     "output_type": "stream",
     "text": [
      " 96%|█████████▌| 2996/3113 [05:31<00:11,  9.81it/s]"
     ]
    },
    {
     "name": "stdout",
     "output_type": "stream",
     "text": [
      "Emotion scores for text: Optimus will come in many forms https://t.co/0uWDi...\n",
      "Emotion scores for text: https://t.co/8XckapiMmX...\n",
      "Emotion scores for text: Oh hi lol https://t.co/pLxkLDu0Qs...\n"
     ]
    },
    {
     "name": "stderr",
     "output_type": "stream",
     "text": [
      " 96%|█████████▋| 2998/3113 [05:31<00:13,  8.26it/s]"
     ]
    },
    {
     "name": "stdout",
     "output_type": "stream",
     "text": [
      "Emotion scores for text: Accounts that try to game our verification system ...\n",
      "Emotion scores for text: Or a social media media company https://t.co/gmQL5...\n"
     ]
    },
    {
     "name": "stderr",
     "output_type": "stream",
     "text": [
      " 96%|█████████▋| 3000/3113 [05:31<00:14,  7.74it/s]"
     ]
    },
    {
     "name": "stdout",
     "output_type": "stream",
     "text": [
      "Emotion scores for text: Who should be President in 2032?...\n",
      "Emotion scores for text: This conspiracy theory that birds are actually gov...\n"
     ]
    },
    {
     "name": "stderr",
     "output_type": "stream",
     "text": [
      " 96%|█████████▋| 3002/3113 [05:32<00:13,  8.07it/s]"
     ]
    },
    {
     "name": "stdout",
     "output_type": "stream",
     "text": [
      "Emotion scores for text: Quanto sei bella Roma! https://t.co/dXWEDQlqXQ...\n",
      "Emotion scores for text: “What are you thinking?” https://t.co/FgycBAl8NO...\n"
     ]
    },
    {
     "name": "stderr",
     "output_type": "stream",
     "text": [
      " 97%|█████████▋| 3005/3113 [05:32<00:11,  9.28it/s]"
     ]
    },
    {
     "name": "stdout",
     "output_type": "stream",
     "text": [
      "Emotion scores for text: @CualquieraOnvre @TuckerCarlson Thanks for doing t...\n",
      "Emotion scores for text: @telmudic X...\n",
      "Emotion scores for text: @telmudic 🤣💯...\n"
     ]
    },
    {
     "name": "stderr",
     "output_type": "stream",
     "text": [
      " 97%|█████████▋| 3008/3113 [05:32<00:11,  9.53it/s]"
     ]
    },
    {
     "name": "stdout",
     "output_type": "stream",
     "text": [
      "Emotion scores for text: https://t.co/NUetll4fxo...\n",
      "Emotion scores for text: https://t.co/VTO63foBGX...\n",
      "Emotion scores for text: Augmented reality is amazing https://t.co/d4EiF7xG...\n"
     ]
    },
    {
     "name": "stderr",
     "output_type": "stream",
     "text": [
      " 97%|█████████▋| 3010/3113 [05:32<00:10, 10.16it/s]"
     ]
    },
    {
     "name": "stdout",
     "output_type": "stream",
     "text": [
      "Emotion scores for text: Looking to hire a VP of Witchcraft &amp; Propagand...\n",
      "Emotion scores for text: Best WW3 song ever https://t.co/GxSVID7eHb...\n",
      "Emotion scores for text: @M_T_Cicer0 @KnowledgeArchiv Ok, but can you name ...\n"
     ]
    },
    {
     "name": "stderr",
     "output_type": "stream",
     "text": [
      " 97%|█████████▋| 3014/3113 [05:33<00:08, 11.12it/s]"
     ]
    },
    {
     "name": "stdout",
     "output_type": "stream",
     "text": [
      "Emotion scores for text: @telmudic 😂...\n",
      "Emotion scores for text: https://t.co/VcJ99bZZaD...\n",
      "Emotion scores for text: Cry 'Havoc!' and let slip the Doges of war...\n"
     ]
    },
    {
     "name": "stderr",
     "output_type": "stream",
     "text": [
      " 97%|█████████▋| 3016/3113 [05:33<00:09, 10.26it/s]"
     ]
    },
    {
     "name": "stdout",
     "output_type": "stream",
     "text": [
      "Emotion scores for text: In a few weeks, X/Twitter will start paying creato...\n",
      "Emotion scores for text: Powerful article https://t.co/i9phxDRNqm...\n",
      "Emotion scores for text: https://t.co/g9gS4MUIVL...\n"
     ]
    },
    {
     "name": "stderr",
     "output_type": "stream",
     "text": [
      " 97%|█████████▋| 3018/3113 [05:33<00:08, 10.75it/s]"
     ]
    },
    {
     "name": "stdout",
     "output_type": "stream",
     "text": [
      "Emotion scores for text: https://t.co/kf7VYDgOra...\n",
      "Emotion scores for text: Spaces discussion with Mary Barra, CEO of @GM! @mt...\n"
     ]
    },
    {
     "name": "stderr",
     "output_type": "stream",
     "text": [
      " 97%|█████████▋| 3020/3113 [05:34<00:10,  9.01it/s]"
     ]
    },
    {
     "name": "stdout",
     "output_type": "stream",
     "text": [
      "Emotion scores for text: Tesla Model S &amp; Model X have hospital-grade HE...\n",
      "Emotion scores for text: Extremely concerning https://t.co/PLz5jrocvv...\n"
     ]
    },
    {
     "name": "stderr",
     "output_type": "stream",
     "text": [
      " 97%|█████████▋| 3024/3113 [05:34<00:08, 10.00it/s]"
     ]
    },
    {
     "name": "stdout",
     "output_type": "stream",
     "text": [
      "Emotion scores for text: This platform will provide email addresses of subs...\n",
      "Emotion scores for text: ....\n",
      "Emotion scores for text: https://t.co/OT6bqzUK8P...\n"
     ]
    },
    {
     "name": "stderr",
     "output_type": "stream",
     "text": [
      " 97%|█████████▋| 3026/3113 [05:34<00:09,  9.54it/s]"
     ]
    },
    {
     "name": "stdout",
     "output_type": "stream",
     "text": [
      "Emotion scores for text: An example of great interaction between brands 😂 @...\n",
      "Emotion scores for text: Hosting @RobertKennedyJr’s upcoming Space https://...\n"
     ]
    },
    {
     "name": "stderr",
     "output_type": "stream",
     "text": [
      " 97%|█████████▋| 3028/3113 [05:34<00:08,  9.99it/s]"
     ]
    },
    {
     "name": "stdout",
     "output_type": "stream",
     "text": [
      "Emotion scores for text: https://t.co/WKYyOlYRzq...\n",
      "Emotion scores for text: From SJM https://t.co/nCFvTtfp2q...\n",
      "Emotion scores for text: https://t.co/D3sVqw7MHD...\n"
     ]
    },
    {
     "name": "stderr",
     "output_type": "stream",
     "text": [
      " 97%|█████████▋| 3032/3113 [05:35<00:06, 11.82it/s]"
     ]
    },
    {
     "name": "stdout",
     "output_type": "stream",
     "text": [
      "Emotion scores for text: Let that sink in...\n",
      "Emotion scores for text: X...\n",
      "Emotion scores for text: @AOCpress 💯...\n"
     ]
    },
    {
     "name": "stderr",
     "output_type": "stream",
     "text": [
      " 97%|█████████▋| 3034/3113 [05:35<00:07, 10.85it/s]"
     ]
    },
    {
     "name": "stdout",
     "output_type": "stream",
     "text": [
      "Emotion scores for text: Lil X just asked if there are police cats, since t...\n",
      "Emotion scores for text: Congratulations to Giga Shanghai &amp; Tesla China...\n",
      "Emotion scores for text: Also, you can now change video playback speed...\n"
     ]
    },
    {
     "name": "stderr",
     "output_type": "stream",
     "text": [
      " 98%|█████████▊| 3038/3113 [05:35<00:06, 11.80it/s]"
     ]
    },
    {
     "name": "stdout",
     "output_type": "stream",
     "text": [
      "Emotion scores for text: @joeys_lady @stevenmarkryan @WholeMarsBlog True...\n",
      "Emotion scores for text: Scrolling through tweets while watching mini video...\n",
      "Emotion scores for text: 🇺🇸 For those who died for freedom 🇺🇸...\n"
     ]
    },
    {
     "name": "stderr",
     "output_type": "stream",
     "text": [
      " 98%|█████████▊| 3040/3113 [05:35<00:06, 11.65it/s]"
     ]
    },
    {
     "name": "stdout",
     "output_type": "stream",
     "text": [
      "Emotion scores for text: @AOCpress 🔥...\n",
      "Emotion scores for text: What will AI be like in 2040? https://t.co/sDHigTk...\n",
      "Emotion scores for text: Incompetence, in the limit, is indistinguishable f...\n"
     ]
    },
    {
     "name": "stderr",
     "output_type": "stream",
     "text": [
      " 98%|█████████▊| 3044/3113 [05:36<00:05, 11.72it/s]"
     ]
    },
    {
     "name": "stdout",
     "output_type": "stream",
     "text": [
      "Emotion scores for text: Transparency builds trust … https://t.co/awAHx1nGQ...\n",
      "Emotion scores for text: @cwhowell123 It’s epic at bs...\n",
      "Emotion scores for text: Yikes https://t.co/qvuqX123Gt...\n"
     ]
    },
    {
     "name": "stderr",
     "output_type": "stream",
     "text": [
      " 98%|█████████▊| 3046/3113 [05:36<00:05, 11.35it/s]"
     ]
    },
    {
     "name": "stdout",
     "output_type": "stream",
     "text": [
      "Emotion scores for text: Sorry this app takes up so much space https://t.co...\n",
      "Emotion scores for text: AI Fashion Show in Azkaban\n",
      "Date &amp; Details to F...\n",
      "Emotion scores for text: Office Space is an awesome movie...\n"
     ]
    },
    {
     "name": "stderr",
     "output_type": "stream",
     "text": [
      " 98%|█████████▊| 3050/3113 [05:36<00:05, 12.10it/s]"
     ]
    },
    {
     "name": "stdout",
     "output_type": "stream",
     "text": [
      "Emotion scores for text: I was today’s years old when I learned that some p...\n",
      "Emotion scores for text: https://t.co/u2YCCPD6Az...\n",
      "Emotion scores for text: Hold on to your horse as the carousel of destiny s...\n"
     ]
    },
    {
     "name": "stderr",
     "output_type": "stream",
     "text": [
      " 98%|█████████▊| 3052/3113 [05:36<00:04, 12.25it/s]"
     ]
    },
    {
     "name": "stdout",
     "output_type": "stream",
     "text": [
      "Emotion scores for text: Bruh do you even AI...\n",
      "Emotion scores for text: @davidmweissman @Target Maybe it’s not true, hence...\n",
      "Emotion scores for text: https://t.co/CqtGnahpAG...\n"
     ]
    },
    {
     "name": "stderr",
     "output_type": "stream",
     "text": [
      " 98%|█████████▊| 3056/3113 [05:37<00:04, 12.42it/s]"
     ]
    },
    {
     "name": "stdout",
     "output_type": "stream",
     "text": [
      "Emotion scores for text: All Presidential candidates are most welcome on th...\n",
      "Emotion scores for text: https://t.co/YmIQZnN8o7...\n",
      "Emotion scores for text: Spaces with @RonDeSantis in ~2 hours!...\n"
     ]
    },
    {
     "name": "stderr",
     "output_type": "stream",
     "text": [
      " 98%|█████████▊| 3058/3113 [05:37<00:05, 10.72it/s]"
     ]
    },
    {
     "name": "stdout",
     "output_type": "stream",
     "text": [
      "Emotion scores for text: @davidmweissman @alx @JoeBiden Happy to do it...\n",
      "Emotion scores for text: Both quality &amp; quantity of high quality posts ...\n"
     ]
    },
    {
     "name": "stderr",
     "output_type": "stream",
     "text": [
      " 98%|█████████▊| 3060/3113 [05:37<00:04, 10.93it/s]"
     ]
    },
    {
     "name": "stdout",
     "output_type": "stream",
     "text": [
      "Emotion scores for text: All those moments, \n",
      "will be lost in time\n",
      "like tear...\n",
      "Emotion scores for text: https://t.co/QEAmqmnF93...\n",
      "Emotion scores for text: Great statement by @votetimscott! https://t.co/zMy...\n"
     ]
    },
    {
     "name": "stderr",
     "output_type": "stream",
     "text": [
      " 98%|█████████▊| 3064/3113 [05:37<00:04, 11.34it/s]"
     ]
    },
    {
     "name": "stdout",
     "output_type": "stream",
     "text": [
      "Emotion scores for text: https://t.co/1QI79e1XTK...\n",
      "Emotion scores for text: I have spaceships...\n",
      "Emotion scores for text: AI ♾️ https://t.co/U8b6ynMGrQ...\n"
     ]
    },
    {
     "name": "stderr",
     "output_type": "stream",
     "text": [
      " 98%|█████████▊| 3066/3113 [05:38<00:04, 11.36it/s]"
     ]
    },
    {
     "name": "stdout",
     "output_type": "stream",
     "text": [
      "Emotion scores for text: I hope this platform increasingly brings you joy &...\n",
      "Emotion scores for text: Happens a lot https://t.co/2IjXLXJ4P3...\n",
      "Emotion scores for text: Twitter Blue Verified subscribers can now upload 2...\n"
     ]
    },
    {
     "name": "stderr",
     "output_type": "stream",
     "text": [
      " 99%|█████████▊| 3070/3113 [05:38<00:03, 11.19it/s]"
     ]
    },
    {
     "name": "stdout",
     "output_type": "stream",
     "text": [
      "Emotion scores for text: Why is sleep so hard!? Perhaps we will never know....\n",
      "Emotion scores for text: @lee_ohanian @HooverInst !...\n",
      "Emotion scores for text: https://t.co/FxOptt5Rgb...\n"
     ]
    },
    {
     "name": "stderr",
     "output_type": "stream",
     "text": [
      " 99%|█████████▊| 3072/3113 [05:38<00:03, 11.46it/s]"
     ]
    },
    {
     "name": "stdout",
     "output_type": "stream",
     "text": [
      "Emotion scores for text: To heir is human, \n",
      "To procreate divine...\n",
      "Emotion scores for text: https://t.co/jKxHdqc2Vp...\n"
     ]
    },
    {
     "name": "stderr",
     "output_type": "stream",
     "text": [
      " 99%|█████████▊| 3074/3113 [05:38<00:03, 10.17it/s]"
     ]
    },
    {
     "name": "stdout",
     "output_type": "stream",
     "text": [
      "Emotion scores for text: Spaces interview with @davidfaber starting now...\n",
      "Emotion scores for text: Soros reminds me of Magneto...\n",
      "Emotion scores for text: ♥️♥️ Happy Mother’s Day! ♥️♥️...\n"
     ]
    },
    {
     "name": "stderr",
     "output_type": "stream",
     "text": [
      " 99%|█████████▉| 3078/3113 [05:39<00:03, 10.41it/s]"
     ]
    },
    {
     "name": "stdout",
     "output_type": "stream",
     "text": [
      "Emotion scores for text: Extremely destructive if accurate https://t.co/qof...\n",
      "Emotion scores for text: Explaining Constitutional Amendments https://t.co/...\n",
      "Emotion scores for text: If AGI is almost here, why doesn’t autocorrekt wor...\n"
     ]
    },
    {
     "name": "stderr",
     "output_type": "stream",
     "text": [
      " 99%|█████████▉| 3080/3113 [05:39<00:03,  8.59it/s]"
     ]
    },
    {
     "name": "stdout",
     "output_type": "stream",
     "text": [
      "Emotion scores for text: Raptor V3 just achieved 350 bar chamber pressure (...\n",
      "Emotion scores for text: As soon as @LindaYacc is ready, we will do a Space...\n",
      "Emotion scores for text: The most entertaining outcome is the most likely...\n"
     ]
    },
    {
     "name": "stderr",
     "output_type": "stream",
     "text": [
      " 99%|█████████▉| 3082/3113 [05:39<00:03,  9.49it/s]"
     ]
    },
    {
     "name": "stdout",
     "output_type": "stream",
     "text": [
      "Emotion scores for text: economic enema en route...\n",
      "Emotion scores for text: Excited to announce that I’ve hired a new CEO for ...\n"
     ]
    },
    {
     "name": "stderr",
     "output_type": "stream",
     "text": [
      " 99%|█████████▉| 3086/3113 [05:40<00:03,  8.84it/s]"
     ]
    },
    {
     "name": "stdout",
     "output_type": "stream",
     "text": [
      "Emotion scores for text: Early version of encrypted direct messages just la...\n",
      "Emotion scores for text: https://t.co/4s6HwnCY74...\n",
      "Emotion scores for text: Also, which kind of bat – fruit eating bat or inse...\n",
      "Emotion scores for text: https://t.co/Rm2WfVhy22...\n"
     ]
    },
    {
     "name": "stderr",
     "output_type": "stream",
     "text": [
      " 99%|█████████▉| 3090/3113 [05:40<00:02,  8.01it/s]"
     ]
    },
    {
     "name": "stdout",
     "output_type": "stream",
     "text": [
      "Emotion scores for text: With latest version of app, you can DM reply to an...\n",
      "Emotion scores for text: Trust nothing, not even nothing...\n",
      "Emotion scores for text: Interesting article. Perhaps @CommunityNotes can a...\n"
     ]
    },
    {
     "name": "stderr",
     "output_type": "stream",
     "text": [
      " 99%|█████████▉| 3093/3113 [05:41<00:02,  8.74it/s]"
     ]
    },
    {
     "name": "stdout",
     "output_type": "stream",
     "text": [
      "Emotion scores for text: Your support of content creators on this platform ...\n",
      "Emotion scores for text: @nomad_tesla @StockMKTNewz @SECGov Good question...\n",
      "Emotion scores for text: Assume you’re always being manipulated https://t.c...\n"
     ]
    },
    {
     "name": "stderr",
     "output_type": "stream",
     "text": [
      " 99%|█████████▉| 3095/3113 [05:41<00:02,  8.93it/s]"
     ]
    },
    {
     "name": "stdout",
     "output_type": "stream",
     "text": [
      "Emotion scores for text: We’re purging accounts that have had no activity a...\n",
      "Emotion scores for text: We’re trying hard to make your feed as compelling ...\n",
      "Emotion scores for text: Yesterday in the pit https://t.co/NnAdSUxaBq...\n"
     ]
    },
    {
     "name": "stderr",
     "output_type": "stream",
     "text": [
      "100%|█████████▉| 3099/3113 [05:41<00:01, 10.35it/s]"
     ]
    },
    {
     "name": "stdout",
     "output_type": "stream",
     "text": [
      "Emotion scores for text: https://t.co/0WBs34BZBO...\n",
      "Emotion scores for text: https://t.co/E49qQqOStT...\n",
      "Emotion scores for text: 🦾 https://t.co/PokrzS1O35...\n"
     ]
    },
    {
     "name": "stderr",
     "output_type": "stream",
     "text": [
      "100%|█████████▉| 3101/3113 [05:41<00:01, 10.68it/s]"
     ]
    },
    {
     "name": "stdout",
     "output_type": "stream",
     "text": [
      "Emotion scores for text: Feeling nostalgic https://t.co/kLrbTYaXPT...\n",
      "Emotion scores for text: https://t.co/J9ztxdke4S...\n",
      "Emotion scores for text: NASA Spaces about space!\n",
      " https://t.co/FDqxxS52oT...\n"
     ]
    },
    {
     "name": "stderr",
     "output_type": "stream",
     "text": [
      "100%|█████████▉| 3105/3113 [05:42<00:00, 10.62it/s]"
     ]
    },
    {
     "name": "stdout",
     "output_type": "stream",
     "text": [
      "Emotion scores for text: @ErmnMusk https://t.co/LXI5SLnCaf...\n",
      "Emotion scores for text: Falcon Heavy long exposure looks like 3 laser beam...\n",
      "Emotion scores for text: May the 4th be with you ❤️ https://t.co/jicWCJohs5...\n"
     ]
    },
    {
     "name": "stderr",
     "output_type": "stream",
     "text": [
      "100%|█████████▉| 3107/3113 [05:42<00:00, 10.88it/s]"
     ]
    },
    {
     "name": "stdout",
     "output_type": "stream",
     "text": [
      "Emotion scores for text: https://t.co/g7UiTiTPhI...\n",
      "Emotion scores for text: https://t.co/KmlrLxZXCo...\n"
     ]
    },
    {
     "name": "stderr",
     "output_type": "stream",
     "text": [
      "100%|█████████▉| 3109/3113 [05:42<00:00,  9.43it/s]"
     ]
    },
    {
     "name": "stdout",
     "output_type": "stream",
     "text": [
      "Emotion scores for text: The more screentime users spend looking at a post,...\n",
      "Emotion scores for text: They are the same picture https://t.co/hGOSqQ78Wl...\n",
      "Emotion scores for text: Cult / Culture...\n"
     ]
    },
    {
     "name": "stderr",
     "output_type": "stream",
     "text": [
      "100%|██████████| 3113/3113 [05:43<00:00,  9.08it/s]"
     ]
    },
    {
     "name": "stdout",
     "output_type": "stream",
     "text": [
      "Emotion scores for text: Worth reading The Machine Stops by EM Forster if y...\n",
      "Emotion scores for text: Falcon Heavy https://t.co/g6Ix8RLgVS...\n",
      "Emotion scores for text: Interview with @BillMaher https://t.co/0hpT4Sxzzj...\n"
     ]
    },
    {
     "name": "stderr",
     "output_type": "stream",
     "text": [
      "\n"
     ]
    }
   ],
   "execution_count": 38
  },
  {
   "metadata": {
    "ExecuteTime": {
     "end_time": "2025-05-30T15:46:19.608331Z",
     "start_time": "2025-05-30T15:46:19.579982Z"
    }
   },
   "cell_type": "code",
   "source": "df_nonQuotedTweets",
   "id": "b54b6d5de677a2cf",
   "outputs": [
    {
     "data": {
      "text/plain": [
       "                  tweet_id                                         tweet_text  \\\n",
       "0      1917726279195058338                            https://t.co/U6tI9pdin6   \n",
       "1      1917693698281787564                            https://t.co/1c1WjFpOva   \n",
       "3      1917114631287718009                            https://t.co/6xSd8l67FN   \n",
       "7      1917048786633036129  Knock, knock … it’s @DOGE https://t.co/yFDXlZgnmn   \n",
       "8      1917048324215189802  Population collapse is an existential problem\\...   \n",
       "...                    ...                                                ...   \n",
       "11457  1653290370048966656  They are the same picture https://t.co/hGOSqQ78Wl   \n",
       "11458  1653262203343052806                                     Cult / Culture   \n",
       "11459  1653075645138710528  Worth reading The Machine Stops by EM Forster ...   \n",
       "11460  1652911737794883586               Falcon Heavy https://t.co/g6Ix8RLgVS   \n",
       "11461  1652849795336159233  Interview with @BillMaher https://t.co/0hpT4Sxzzj   \n",
       "\n",
       "       tweet_text_emotions_anger  tweet_text_emotions_disgust  \\\n",
       "0                       0.028279                          0.0   \n",
       "1                       0.012809                          0.0   \n",
       "3                       0.013412                          0.0   \n",
       "7                       0.310502                          0.0   \n",
       "8                       0.013613                          0.0   \n",
       "...                          ...                          ...   \n",
       "11457                   0.011047                          0.0   \n",
       "11458                   0.793149                          0.0   \n",
       "11459                   0.008727                          0.0   \n",
       "11460                   0.016851                          0.0   \n",
       "11461                   0.672321                          0.0   \n",
       "\n",
       "       tweet_text_emotions_fear  tweet_text_emotions_joy  \\\n",
       "0                      0.017699                 0.907494   \n",
       "1                      0.009525                 0.937607   \n",
       "3                      0.015682                 0.909002   \n",
       "7                      0.027653                 0.606090   \n",
       "8                      0.024462                 0.782486   \n",
       "...                         ...                      ...   \n",
       "11457                  0.005982                 0.956148   \n",
       "11458                  0.061943                 0.092314   \n",
       "11459                  0.001879                 0.982474   \n",
       "11460                  0.002507                 0.971238   \n",
       "11461                  0.076900                 0.187524   \n",
       "\n",
       "       tweet_text_emotions_sadness  tweet_text_emotions_surprise  \n",
       "0                         0.038398                      0.002830  \n",
       "1                         0.029090                      0.003167  \n",
       "3                         0.048675                      0.004338  \n",
       "7                         0.045680                      0.003166  \n",
       "8                         0.174791                      0.002312  \n",
       "...                            ...                           ...  \n",
       "11457                     0.019805                      0.001437  \n",
       "11458                     0.030917                      0.003264  \n",
       "11459                     0.003021                      0.001596  \n",
       "11460                     0.006077                      0.000872  \n",
       "11461                     0.024541                      0.025073  \n",
       "\n",
       "[3113 rows x 8 columns]"
      ],
      "text/html": [
       "<div>\n",
       "<style scoped>\n",
       "    .dataframe tbody tr th:only-of-type {\n",
       "        vertical-align: middle;\n",
       "    }\n",
       "\n",
       "    .dataframe tbody tr th {\n",
       "        vertical-align: top;\n",
       "    }\n",
       "\n",
       "    .dataframe thead th {\n",
       "        text-align: right;\n",
       "    }\n",
       "</style>\n",
       "<table border=\"1\" class=\"dataframe\">\n",
       "  <thead>\n",
       "    <tr style=\"text-align: right;\">\n",
       "      <th></th>\n",
       "      <th>tweet_id</th>\n",
       "      <th>tweet_text</th>\n",
       "      <th>tweet_text_emotions_anger</th>\n",
       "      <th>tweet_text_emotions_disgust</th>\n",
       "      <th>tweet_text_emotions_fear</th>\n",
       "      <th>tweet_text_emotions_joy</th>\n",
       "      <th>tweet_text_emotions_sadness</th>\n",
       "      <th>tweet_text_emotions_surprise</th>\n",
       "    </tr>\n",
       "  </thead>\n",
       "  <tbody>\n",
       "    <tr>\n",
       "      <th>0</th>\n",
       "      <td>1917726279195058338</td>\n",
       "      <td>https://t.co/U6tI9pdin6</td>\n",
       "      <td>0.028279</td>\n",
       "      <td>0.0</td>\n",
       "      <td>0.017699</td>\n",
       "      <td>0.907494</td>\n",
       "      <td>0.038398</td>\n",
       "      <td>0.002830</td>\n",
       "    </tr>\n",
       "    <tr>\n",
       "      <th>1</th>\n",
       "      <td>1917693698281787564</td>\n",
       "      <td>https://t.co/1c1WjFpOva</td>\n",
       "      <td>0.012809</td>\n",
       "      <td>0.0</td>\n",
       "      <td>0.009525</td>\n",
       "      <td>0.937607</td>\n",
       "      <td>0.029090</td>\n",
       "      <td>0.003167</td>\n",
       "    </tr>\n",
       "    <tr>\n",
       "      <th>3</th>\n",
       "      <td>1917114631287718009</td>\n",
       "      <td>https://t.co/6xSd8l67FN</td>\n",
       "      <td>0.013412</td>\n",
       "      <td>0.0</td>\n",
       "      <td>0.015682</td>\n",
       "      <td>0.909002</td>\n",
       "      <td>0.048675</td>\n",
       "      <td>0.004338</td>\n",
       "    </tr>\n",
       "    <tr>\n",
       "      <th>7</th>\n",
       "      <td>1917048786633036129</td>\n",
       "      <td>Knock, knock … it’s @DOGE https://t.co/yFDXlZgnmn</td>\n",
       "      <td>0.310502</td>\n",
       "      <td>0.0</td>\n",
       "      <td>0.027653</td>\n",
       "      <td>0.606090</td>\n",
       "      <td>0.045680</td>\n",
       "      <td>0.003166</td>\n",
       "    </tr>\n",
       "    <tr>\n",
       "      <th>8</th>\n",
       "      <td>1917048324215189802</td>\n",
       "      <td>Population collapse is an existential problem\\...</td>\n",
       "      <td>0.013613</td>\n",
       "      <td>0.0</td>\n",
       "      <td>0.024462</td>\n",
       "      <td>0.782486</td>\n",
       "      <td>0.174791</td>\n",
       "      <td>0.002312</td>\n",
       "    </tr>\n",
       "    <tr>\n",
       "      <th>...</th>\n",
       "      <td>...</td>\n",
       "      <td>...</td>\n",
       "      <td>...</td>\n",
       "      <td>...</td>\n",
       "      <td>...</td>\n",
       "      <td>...</td>\n",
       "      <td>...</td>\n",
       "      <td>...</td>\n",
       "    </tr>\n",
       "    <tr>\n",
       "      <th>11457</th>\n",
       "      <td>1653290370048966656</td>\n",
       "      <td>They are the same picture https://t.co/hGOSqQ78Wl</td>\n",
       "      <td>0.011047</td>\n",
       "      <td>0.0</td>\n",
       "      <td>0.005982</td>\n",
       "      <td>0.956148</td>\n",
       "      <td>0.019805</td>\n",
       "      <td>0.001437</td>\n",
       "    </tr>\n",
       "    <tr>\n",
       "      <th>11458</th>\n",
       "      <td>1653262203343052806</td>\n",
       "      <td>Cult / Culture</td>\n",
       "      <td>0.793149</td>\n",
       "      <td>0.0</td>\n",
       "      <td>0.061943</td>\n",
       "      <td>0.092314</td>\n",
       "      <td>0.030917</td>\n",
       "      <td>0.003264</td>\n",
       "    </tr>\n",
       "    <tr>\n",
       "      <th>11459</th>\n",
       "      <td>1653075645138710528</td>\n",
       "      <td>Worth reading The Machine Stops by EM Forster ...</td>\n",
       "      <td>0.008727</td>\n",
       "      <td>0.0</td>\n",
       "      <td>0.001879</td>\n",
       "      <td>0.982474</td>\n",
       "      <td>0.003021</td>\n",
       "      <td>0.001596</td>\n",
       "    </tr>\n",
       "    <tr>\n",
       "      <th>11460</th>\n",
       "      <td>1652911737794883586</td>\n",
       "      <td>Falcon Heavy https://t.co/g6Ix8RLgVS</td>\n",
       "      <td>0.016851</td>\n",
       "      <td>0.0</td>\n",
       "      <td>0.002507</td>\n",
       "      <td>0.971238</td>\n",
       "      <td>0.006077</td>\n",
       "      <td>0.000872</td>\n",
       "    </tr>\n",
       "    <tr>\n",
       "      <th>11461</th>\n",
       "      <td>1652849795336159233</td>\n",
       "      <td>Interview with @BillMaher https://t.co/0hpT4Sxzzj</td>\n",
       "      <td>0.672321</td>\n",
       "      <td>0.0</td>\n",
       "      <td>0.076900</td>\n",
       "      <td>0.187524</td>\n",
       "      <td>0.024541</td>\n",
       "      <td>0.025073</td>\n",
       "    </tr>\n",
       "  </tbody>\n",
       "</table>\n",
       "<p>3113 rows × 8 columns</p>\n",
       "</div>"
      ]
     },
     "execution_count": 39,
     "metadata": {},
     "output_type": "execute_result"
    }
   ],
   "execution_count": 39
  }
 ],
 "metadata": {
  "kernelspec": {
   "display_name": "coin",
   "language": "python",
   "name": "python3"
  },
  "language_info": {
   "codemirror_mode": {
    "name": "ipython",
    "version": 3
   },
   "file_extension": ".py",
   "mimetype": "text/x-python",
   "name": "python",
   "nbconvert_exporter": "python",
   "pygments_lexer": "ipython3",
   "version": "3.13.2"
  }
 },
 "nbformat": 4,
 "nbformat_minor": 5
}
