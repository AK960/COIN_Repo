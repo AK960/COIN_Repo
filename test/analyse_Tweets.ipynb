{
 "cells": [
  {
   "cell_type": "markdown",
   "id": "3672feb08161c328",
   "metadata": {},
   "source": [
    "# Data Preparation"
   ]
  },
  {
   "cell_type": "code",
   "id": "623eba49e8f8a0d7",
   "metadata": {
    "ExecuteTime": {
     "end_time": "2025-05-22T14:35:30.915523Z",
     "start_time": "2025-05-22T14:35:30.727102Z"
    }
   },
   "source": [
    "# import all libraries for notebook\n",
    "import pandas as pd\n",
    "import numpy as np\n",
    "from pandas import json_normalize\n",
    "import nltk\n",
    "import re\n",
    "import seaborn as sns\n",
    "import matplotlib.pyplot as plt\n",
    "from matplotlib import style\n",
    "style.use('ggplot')\n",
    "from textblob import TextBlob\n",
    "from nltk.tokenize import word_tokenize\n",
    "from nltk.stem import PorterStemmer\n",
    "from nltk.corpus import stopwords\n",
    "stop_words = set(stopwords.words('english'))\n",
    "from wordcloud import WordCloud\n",
    "from sklearn.feature_extraction.text import CountVectorizer\n",
    "from sklearn.model_selection import train_test_split\n",
    "from sklearn.linear_model import LogisticRegression\n",
    "from sklearn.metrics import accuracy_score, confusion_matrix, classification_report, ConfusionMatrixDisplay\n",
    "import json\n",
    "from json import loads, dumps\n",
    "import pprint"
   ],
   "outputs": [],
   "execution_count": 63
  },
  {
   "cell_type": "code",
   "id": "7bf956b2a1f07fe5",
   "metadata": {
    "ExecuteTime": {
     "end_time": "2025-05-22T14:35:38.286202Z",
     "start_time": "2025-05-22T14:35:31.040645Z"
    }
   },
   "source": [
    "# Import files\n",
    "df_replies = pd.read_csv('../data/twitter/tweets_isReply.csv', dtype={'id': 'object'}, low_memory=False)\n",
    "df_tweets = pd.read_csv('../data/twitter/tweets_isTweet.csv', dtype={'id': 'object'}, low_memory=False)\n",
    "\n",
    "# Create and prepare Dataframes\n",
    "# Original tweets\n",
    "df_nonQuotedTweets = df_tweets[df_tweets['quoted_tweet'].isna()]\n",
    "df_nonQuotedTweets = df_nonQuotedTweets.rename(columns={'id': 'tweet_id', 'text': 'tweet_text'})\n",
    "# Quoted tweets\n",
    "df_quotedTweets = df_tweets[['id', 'text', 'quoted_tweet']].dropna(subset=['quoted_tweet'])\n",
    "df_quotedTweets = df_quotedTweets.rename(columns={'id': 'tweet_id', 'text': 'tweet_text'})\n",
    "# Cards\n",
    "df_tweetsWithCard = df_tweets[['id', 'card']]\n",
    "df_tweetsWithCard = df_tweetsWithCard.dropna(subset=['card'])\n",
    "df_tweetsWithCard = df_tweetsWithCard.rename(columns={'id': 'tweet_id'})"
   ],
   "outputs": [],
   "execution_count": 64
  },
  {
   "metadata": {
    "ExecuteTime": {
     "end_time": "2025-05-22T14:46:25.478614Z",
     "start_time": "2025-05-22T14:46:25.460817Z"
    }
   },
   "cell_type": "code",
   "source": "df_tweets['createdAt']",
   "id": "983ef9e857e6ff15",
   "outputs": [
    {
     "data": {
      "text/plain": [
       "0        Wed Apr 30 23:42:29 +0000 2025\n",
       "1        Wed Apr 30 21:33:01 +0000 2025\n",
       "2        Tue Apr 29 14:32:17 +0000 2025\n",
       "3        Tue Apr 29 07:12:01 +0000 2025\n",
       "4        Tue Apr 29 06:26:50 +0000 2025\n",
       "                      ...              \n",
       "11457    Tue May 02 06:48:35 +0000 2023\n",
       "11458    Tue May 02 04:56:40 +0000 2023\n",
       "11459    Mon May 01 16:35:21 +0000 2023\n",
       "11460    Mon May 01 05:44:02 +0000 2023\n",
       "11461    Mon May 01 01:37:54 +0000 2023\n",
       "Name: createdAt, Length: 11462, dtype: object"
      ]
     },
     "execution_count": 69,
     "metadata": {},
     "output_type": "execute_result"
    }
   ],
   "execution_count": 69
  },
  {
   "cell_type": "code",
   "id": "5503eeb0ff5fa5bb",
   "metadata": {
    "ExecuteTime": {
     "end_time": "2025-05-22T14:35:38.483387Z",
     "start_time": "2025-05-22T14:35:38.435050Z"
    }
   },
   "source": [
    "# Functions\n",
    "# Removing unnecessary data\n",
    "def data_processing(text):\n",
    "    text = text.lower()\n",
    "    text = re.sub(r\"https\\S+|www\\S+httpss\\S+\", '', text, flags=re.MULTILINE) # Remove Url\n",
    "    text = re.sub(r\"\\@w+|\\#\", '', text) # remove @ and #\n",
    "    text = re.sub(r\"[^\\w\\s]\", '', text) # remove punctuation\n",
    "    text_tokens = text.split()\n",
    "    filtered_text = [w for w in text_tokens if not w in stop_words]\n",
    "    return \" \".join(filtered_text)\n",
    "\n",
    "# Reduction of dimensionality by abstracting word to word stem\n",
    "stemmer = PorterStemmer() \n",
    "def stemming(data):\n",
    "    text = [stemmer.stem(word) for word in data]\n",
    "    return data\n",
    "\n",
    "def polarity(text):\n",
    "    return TextBlob(text).sentiment.polarity\n",
    "\n",
    "def sentiment(label):\n",
    "    if label < 0:\n",
    "        return \"negative\"\n",
    "    elif label == 0:\n",
    "        return \"neutral\"\n",
    "    elif label > 0:\n",
    "        return \"positive\"\n",
    "    return None"
   ],
   "outputs": [],
   "execution_count": 65
  },
  {
   "cell_type": "code",
   "id": "d048b1e351db2690",
   "metadata": {
    "ExecuteTime": {
     "end_time": "2025-05-22T14:35:46.333241Z",
     "start_time": "2025-05-22T14:35:38.632668Z"
    }
   },
   "source": [
    "# Prepare quoted tweets\n",
    "\n",
    "# Normalize quoted_tweet column\n",
    "df_quotedTweets_normalized = pd.json_normalize(\n",
    "    df_quotedTweets['quoted_tweet'].apply(json.loads),\n",
    "    sep='_'\n",
    ")\n",
    "\n",
    "# Link both dataframes by index\n",
    "df_quotedTweets_normalized.index = df_quotedTweets.index\n",
    "\n",
    "# Rename columns\n",
    "df_quotedTweets_normalized.columns = ['quoted_tweet_' + col for col in df_quotedTweets_normalized.columns]\n",
    "\n",
    "# Concatenate the two dataframes\n",
    "df_final = pd.concat([\n",
    "    df_quotedTweets[['tweet_id', 'tweet_text']],\n",
    "    df_quotedTweets_normalized[['quoted_tweet_id', 'quoted_tweet_text']]\n",
    "], axis=1)\n",
    "\n",
    "df_final.head()"
   ],
   "outputs": [
    {
     "data": {
      "text/plain": [
       "              tweet_id                                         tweet_text  \\\n",
       "2  1917225430702240067                                 This is a big deal   \n",
       "4  1917103264417649121                                               Whoa   \n",
       "5  1917099777327829386  Next week, Grok 3.5 early beta release to Supe...   \n",
       "6  1917071819003334728                       It is an existential crisis!   \n",
       "9  1917040536378335721  Starlink is trying out a service plan commitme...   \n",
       "\n",
       "       quoted_tweet_id                                  quoted_tweet_text  \n",
       "2  1917223651625099407  Last week, Treasury went live with its first a...  \n",
       "4  1917011279757066291  🚨THE INVISIBLE PUPPET MASTERS: AI'S DISTURBING...  \n",
       "5  1917011847623987257  🚨GROK 3 SENDS USAGE SOARING – 10X SPIKE IN DOW...  \n",
       "6  1917059115417014780  A friendly reminder to make more babies!\\n\\n🇯🇵...  \n",
       "9  1917029886432317947  $0 for the Standard Kit with 12-month resident...  "
      ],
      "text/html": [
       "<div>\n",
       "<style scoped>\n",
       "    .dataframe tbody tr th:only-of-type {\n",
       "        vertical-align: middle;\n",
       "    }\n",
       "\n",
       "    .dataframe tbody tr th {\n",
       "        vertical-align: top;\n",
       "    }\n",
       "\n",
       "    .dataframe thead th {\n",
       "        text-align: right;\n",
       "    }\n",
       "</style>\n",
       "<table border=\"1\" class=\"dataframe\">\n",
       "  <thead>\n",
       "    <tr style=\"text-align: right;\">\n",
       "      <th></th>\n",
       "      <th>tweet_id</th>\n",
       "      <th>tweet_text</th>\n",
       "      <th>quoted_tweet_id</th>\n",
       "      <th>quoted_tweet_text</th>\n",
       "    </tr>\n",
       "  </thead>\n",
       "  <tbody>\n",
       "    <tr>\n",
       "      <th>2</th>\n",
       "      <td>1917225430702240067</td>\n",
       "      <td>This is a big deal</td>\n",
       "      <td>1917223651625099407</td>\n",
       "      <td>Last week, Treasury went live with its first a...</td>\n",
       "    </tr>\n",
       "    <tr>\n",
       "      <th>4</th>\n",
       "      <td>1917103264417649121</td>\n",
       "      <td>Whoa</td>\n",
       "      <td>1917011279757066291</td>\n",
       "      <td>🚨THE INVISIBLE PUPPET MASTERS: AI'S DISTURBING...</td>\n",
       "    </tr>\n",
       "    <tr>\n",
       "      <th>5</th>\n",
       "      <td>1917099777327829386</td>\n",
       "      <td>Next week, Grok 3.5 early beta release to Supe...</td>\n",
       "      <td>1917011847623987257</td>\n",
       "      <td>🚨GROK 3 SENDS USAGE SOARING – 10X SPIKE IN DOW...</td>\n",
       "    </tr>\n",
       "    <tr>\n",
       "      <th>6</th>\n",
       "      <td>1917071819003334728</td>\n",
       "      <td>It is an existential crisis!</td>\n",
       "      <td>1917059115417014780</td>\n",
       "      <td>A friendly reminder to make more babies!\\n\\n🇯🇵...</td>\n",
       "    </tr>\n",
       "    <tr>\n",
       "      <th>9</th>\n",
       "      <td>1917040536378335721</td>\n",
       "      <td>Starlink is trying out a service plan commitme...</td>\n",
       "      <td>1917029886432317947</td>\n",
       "      <td>$0 for the Standard Kit with 12-month resident...</td>\n",
       "    </tr>\n",
       "  </tbody>\n",
       "</table>\n",
       "</div>"
      ]
     },
     "execution_count": 66,
     "metadata": {},
     "output_type": "execute_result"
    }
   ],
   "execution_count": 66
  },
  {
   "cell_type": "code",
   "id": "970ec76d79dc3283",
   "metadata": {
    "ExecuteTime": {
     "end_time": "2025-05-22T14:35:56.725263Z",
     "start_time": "2025-05-22T14:35:46.561646Z"
    }
   },
   "source": [
    "# Pre-processing\n",
    "df_final.quoted_tweet_text = df_final['quoted_tweet_text'].apply(data_processing)\n",
    "df_final.tweet_text = df_final['tweet_text'].apply(data_processing)\n",
    "\n",
    "# Stemming\n",
    "df_final['quoted_tweet_text'] = df_final['quoted_tweet_text'].apply(lambda x: stemming(x))\n",
    "\n",
    "# Polarity\n",
    "df_final['polarity'] = df_final['quoted_tweet_text'].apply(polarity)\n",
    "\n",
    "# Sentiment \n",
    "df_final['sentiment'] = df_final['polarity'].apply(sentiment)\n",
    "\n",
    "print(df_final.head(), \"\\n\")\n",
    "print(df_final.shape)"
   ],
   "outputs": [
    {
     "name": "stdout",
     "output_type": "stream",
     "text": [
      "              tweet_id                                         tweet_text  \\\n",
      "2  1917225430702240067                                           big deal   \n",
      "4  1917103264417649121                                               whoa   \n",
      "5  1917099777327829386  next week grok 35 early beta release supergrok...   \n",
      "6  1917071819003334728                                 existential crisis   \n",
      "9  1917040536378335721  starlink trying service plan commitment exchan...   \n",
      "\n",
      "       quoted_tweet_id                                  quoted_tweet_text  \\\n",
      "2  1917223651625099407  last week treasury went live first automated p...   \n",
      "4  1917011279757066291  invisible puppet masters ais disturbing new ro...   \n",
      "5  1917011847623987257  grok 3 sends usage soaring 10x spike downloads...   \n",
      "6  1917059115417014780  friendly reminder make babies japans total fer...   \n",
      "9  1917029886432317947  0 standard kit 12month residential service pla...   \n",
      "\n",
      "   polarity sentiment  \n",
      "2 -0.005519  negative  \n",
      "4  0.066279  positive  \n",
      "5  0.066667  positive  \n",
      "6  0.075000  positive  \n",
      "9  0.075000  positive   \n",
      "\n",
      "(8349, 6)\n"
     ]
    }
   ],
   "execution_count": 67
  },
  {
   "metadata": {
    "ExecuteTime": {
     "end_time": "2025-05-22T14:36:13.978789Z",
     "start_time": "2025-05-22T14:36:13.949425Z"
    }
   },
   "cell_type": "code",
   "source": "df_final.head()",
   "id": "d0d046a5ac4fc5f3",
   "outputs": [
    {
     "data": {
      "text/plain": [
       "              tweet_id                                         tweet_text  \\\n",
       "2  1917225430702240067                                           big deal   \n",
       "4  1917103264417649121                                               whoa   \n",
       "5  1917099777327829386  next week grok 35 early beta release supergrok...   \n",
       "6  1917071819003334728                                 existential crisis   \n",
       "9  1917040536378335721  starlink trying service plan commitment exchan...   \n",
       "\n",
       "       quoted_tweet_id                                  quoted_tweet_text  \\\n",
       "2  1917223651625099407  last week treasury went live first automated p...   \n",
       "4  1917011279757066291  invisible puppet masters ais disturbing new ro...   \n",
       "5  1917011847623987257  grok 3 sends usage soaring 10x spike downloads...   \n",
       "6  1917059115417014780  friendly reminder make babies japans total fer...   \n",
       "9  1917029886432317947  0 standard kit 12month residential service pla...   \n",
       "\n",
       "   polarity sentiment  \n",
       "2 -0.005519  negative  \n",
       "4  0.066279  positive  \n",
       "5  0.066667  positive  \n",
       "6  0.075000  positive  \n",
       "9  0.075000  positive  "
      ],
      "text/html": [
       "<div>\n",
       "<style scoped>\n",
       "    .dataframe tbody tr th:only-of-type {\n",
       "        vertical-align: middle;\n",
       "    }\n",
       "\n",
       "    .dataframe tbody tr th {\n",
       "        vertical-align: top;\n",
       "    }\n",
       "\n",
       "    .dataframe thead th {\n",
       "        text-align: right;\n",
       "    }\n",
       "</style>\n",
       "<table border=\"1\" class=\"dataframe\">\n",
       "  <thead>\n",
       "    <tr style=\"text-align: right;\">\n",
       "      <th></th>\n",
       "      <th>tweet_id</th>\n",
       "      <th>tweet_text</th>\n",
       "      <th>quoted_tweet_id</th>\n",
       "      <th>quoted_tweet_text</th>\n",
       "      <th>polarity</th>\n",
       "      <th>sentiment</th>\n",
       "    </tr>\n",
       "  </thead>\n",
       "  <tbody>\n",
       "    <tr>\n",
       "      <th>2</th>\n",
       "      <td>1917225430702240067</td>\n",
       "      <td>big deal</td>\n",
       "      <td>1917223651625099407</td>\n",
       "      <td>last week treasury went live first automated p...</td>\n",
       "      <td>-0.005519</td>\n",
       "      <td>negative</td>\n",
       "    </tr>\n",
       "    <tr>\n",
       "      <th>4</th>\n",
       "      <td>1917103264417649121</td>\n",
       "      <td>whoa</td>\n",
       "      <td>1917011279757066291</td>\n",
       "      <td>invisible puppet masters ais disturbing new ro...</td>\n",
       "      <td>0.066279</td>\n",
       "      <td>positive</td>\n",
       "    </tr>\n",
       "    <tr>\n",
       "      <th>5</th>\n",
       "      <td>1917099777327829386</td>\n",
       "      <td>next week grok 35 early beta release supergrok...</td>\n",
       "      <td>1917011847623987257</td>\n",
       "      <td>grok 3 sends usage soaring 10x spike downloads...</td>\n",
       "      <td>0.066667</td>\n",
       "      <td>positive</td>\n",
       "    </tr>\n",
       "    <tr>\n",
       "      <th>6</th>\n",
       "      <td>1917071819003334728</td>\n",
       "      <td>existential crisis</td>\n",
       "      <td>1917059115417014780</td>\n",
       "      <td>friendly reminder make babies japans total fer...</td>\n",
       "      <td>0.075000</td>\n",
       "      <td>positive</td>\n",
       "    </tr>\n",
       "    <tr>\n",
       "      <th>9</th>\n",
       "      <td>1917040536378335721</td>\n",
       "      <td>starlink trying service plan commitment exchan...</td>\n",
       "      <td>1917029886432317947</td>\n",
       "      <td>0 standard kit 12month residential service pla...</td>\n",
       "      <td>0.075000</td>\n",
       "      <td>positive</td>\n",
       "    </tr>\n",
       "  </tbody>\n",
       "</table>\n",
       "</div>"
      ]
     },
     "execution_count": 68,
     "metadata": {},
     "output_type": "execute_result"
    }
   ],
   "execution_count": 68
  }
 ],
 "metadata": {
  "kernelspec": {
   "display_name": "coin",
   "language": "python",
   "name": "python3"
  },
  "language_info": {
   "codemirror_mode": {
    "name": "ipython",
    "version": 3
   },
   "file_extension": ".py",
   "mimetype": "text/x-python",
   "name": "python",
   "nbconvert_exporter": "python",
   "pygments_lexer": "ipython3",
   "version": "3.13.2"
  }
 },
 "nbformat": 4,
 "nbformat_minor": 5
}
