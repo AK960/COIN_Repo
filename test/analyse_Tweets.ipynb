{
 "cells": [
  {
   "metadata": {},
   "cell_type": "markdown",
   "source": "",
   "id": "3672feb08161c328"
  },
  {
   "metadata": {
    "ExecuteTime": {
     "end_time": "2025-05-21T15:30:50.299018Z",
     "start_time": "2025-05-21T15:30:50.294057Z"
    }
   },
   "cell_type": "code",
   "source": [
    "import pandas as pd\n",
    "from pandas import json_normalize\n",
    "import json\n",
    "from json import loads, dumps\n",
    "import pprint"
   ],
   "id": "623eba49e8f8a0d7",
   "outputs": [],
   "execution_count": 182
  },
  {
   "metadata": {
    "ExecuteTime": {
     "end_time": "2025-05-21T15:30:52.910670Z",
     "start_time": "2025-05-21T15:30:50.361762Z"
    }
   },
   "cell_type": "code",
   "source": [
    "# Create dataframes\n",
    "df_replies = pd.read_csv('../data/twitter/tweets_isReply.csv', dtype={'id': 'object'}, low_memory=False)\n",
    "df_tweets = pd.read_csv('../data/twitter/tweets_isTweet.csv', dtype={'id': 'object'}, low_memory=False)\n",
    "df_nonQuotedTweets = df_tweets[df_tweets['quoted_tweet'].isna()]\n",
    "df_quotedTweets = df_tweets[['id', 'text', 'quoted_tweet']].dropna(subset=['quoted_tweet'])"
   ],
   "id": "7bf956b2a1f07fe5",
   "outputs": [],
   "execution_count": 183
  },
  {
   "metadata": {
    "ExecuteTime": {
     "end_time": "2025-05-21T15:30:52.980291Z",
     "start_time": "2025-05-21T15:30:52.975589Z"
    }
   },
   "cell_type": "code",
   "source": "",
   "id": "326d9c2fb0852199",
   "outputs": [],
   "execution_count": null
  },
  {
   "metadata": {
    "ExecuteTime": {
     "end_time": "2025-05-21T15:30:54.582629Z",
     "start_time": "2025-05-21T15:30:53.063604Z"
    }
   },
   "cell_type": "code",
   "source": [
    "# Prepare quoted tweets\n",
    "# Rename columns\n",
    "df_quotedTweets.rename(columns={'id': 'tweet_id', 'text': 'tweet_text'}, inplace=True)\n",
    "\n",
    "# Normalize quoted_tweet column\n",
    "df_quotedTweets_normalized = pd.json_normalize(\n",
    "    df_quotedTweets['quoted_tweet'].apply(json.loads),\n",
    "    sep='_'\n",
    ")\n",
    "\n",
    "# Link both dataframes by index\n",
    "df_quotedTweets_normalized.index = df_quotedTweets.index\n",
    "\n",
    "# Rename columns\n",
    "df_quotedTweets_normalized.columns = ['quoted_tweet_' + col for col in df_quotedTweets_normalized.columns]\n",
    "\n",
    "# Concatenate the two dataframes\n",
    "df_final = pd.concat([\n",
    "    df_quotedTweets[['tweet_id', 'tweet_text']],\n",
    "    df_quotedTweets_normalized[['quoted_tweet_id', 'quoted_tweet_text']]\n",
    "], axis=1)\n",
    "\n",
    "df_final.head()"
   ],
   "id": "d048b1e351db2690",
   "outputs": [
    {
     "data": {
      "text/plain": [
       "              tweet_id                                         tweet_text  \\\n",
       "2  1917225430702240067                                 This is a big deal   \n",
       "4  1917103264417649121                                               Whoa   \n",
       "5  1917099777327829386  Next week, Grok 3.5 early beta release to Supe...   \n",
       "6  1917071819003334728                       It is an existential crisis!   \n",
       "9  1917040536378335721  Starlink is trying out a service plan commitme...   \n",
       "\n",
       "       quoted_tweet_id                                  quoted_tweet_text  \n",
       "2  1917223651625099407  Last week, Treasury went live with its first a...  \n",
       "4  1917011279757066291  🚨THE INVISIBLE PUPPET MASTERS: AI'S DISTURBING...  \n",
       "5  1917011847623987257  🚨GROK 3 SENDS USAGE SOARING – 10X SPIKE IN DOW...  \n",
       "6  1917059115417014780  A friendly reminder to make more babies!\\n\\n🇯🇵...  \n",
       "9  1917029886432317947  $0 for the Standard Kit with 12-month resident...  "
      ],
      "text/html": [
       "<div>\n",
       "<style scoped>\n",
       "    .dataframe tbody tr th:only-of-type {\n",
       "        vertical-align: middle;\n",
       "    }\n",
       "\n",
       "    .dataframe tbody tr th {\n",
       "        vertical-align: top;\n",
       "    }\n",
       "\n",
       "    .dataframe thead th {\n",
       "        text-align: right;\n",
       "    }\n",
       "</style>\n",
       "<table border=\"1\" class=\"dataframe\">\n",
       "  <thead>\n",
       "    <tr style=\"text-align: right;\">\n",
       "      <th></th>\n",
       "      <th>tweet_id</th>\n",
       "      <th>tweet_text</th>\n",
       "      <th>quoted_tweet_id</th>\n",
       "      <th>quoted_tweet_text</th>\n",
       "    </tr>\n",
       "  </thead>\n",
       "  <tbody>\n",
       "    <tr>\n",
       "      <th>2</th>\n",
       "      <td>1917225430702240067</td>\n",
       "      <td>This is a big deal</td>\n",
       "      <td>1917223651625099407</td>\n",
       "      <td>Last week, Treasury went live with its first a...</td>\n",
       "    </tr>\n",
       "    <tr>\n",
       "      <th>4</th>\n",
       "      <td>1917103264417649121</td>\n",
       "      <td>Whoa</td>\n",
       "      <td>1917011279757066291</td>\n",
       "      <td>🚨THE INVISIBLE PUPPET MASTERS: AI'S DISTURBING...</td>\n",
       "    </tr>\n",
       "    <tr>\n",
       "      <th>5</th>\n",
       "      <td>1917099777327829386</td>\n",
       "      <td>Next week, Grok 3.5 early beta release to Supe...</td>\n",
       "      <td>1917011847623987257</td>\n",
       "      <td>🚨GROK 3 SENDS USAGE SOARING – 10X SPIKE IN DOW...</td>\n",
       "    </tr>\n",
       "    <tr>\n",
       "      <th>6</th>\n",
       "      <td>1917071819003334728</td>\n",
       "      <td>It is an existential crisis!</td>\n",
       "      <td>1917059115417014780</td>\n",
       "      <td>A friendly reminder to make more babies!\\n\\n🇯🇵...</td>\n",
       "    </tr>\n",
       "    <tr>\n",
       "      <th>9</th>\n",
       "      <td>1917040536378335721</td>\n",
       "      <td>Starlink is trying out a service plan commitme...</td>\n",
       "      <td>1917029886432317947</td>\n",
       "      <td>$0 for the Standard Kit with 12-month resident...</td>\n",
       "    </tr>\n",
       "  </tbody>\n",
       "</table>\n",
       "</div>"
      ]
     },
     "execution_count": 184,
     "metadata": {},
     "output_type": "execute_result"
    }
   ],
   "execution_count": 184
  },
  {
   "metadata": {
    "ExecuteTime": {
     "end_time": "2025-05-21T10:54:36.801500Z",
     "start_time": "2025-05-21T10:54:36.791941Z"
    }
   },
   "cell_type": "code",
   "source": [
    "visual = df_tweets.head().to_json(orient='split')\n",
    "parsed = loads(visual)\n",
    "parsed\n"
   ],
   "id": "d8f9f9aa1e461513",
   "outputs": [
    {
     "data": {
      "text/plain": [
       "'{\\n    \"columns\": [\\n        \"type\",\\n        \"id\",\\n        \"url\",\\n        \"twitterUrl\",\\n        \"text\",\\n        \"source\",\\n        \"retweetCount\",\\n        \"replyCount\",\\n        \"likeCount\",\\n        \"quoteCount\",\\n        \"viewCount\",\\n        \"createdAt\",\\n        \"lang\",\\n        \"bookmarkCount\",\\n        \"isReply\",\\n        \"inReplyToId\",\\n        \"conversationId\",\\n        \"inReplyToUserId\",\\n        \"inReplyToUsername\",\\n        \"author\",\\n        \"extendedEntities\",\\n        \"card\",\\n        \"place\",\\n        \"entities\",\\n        \"quoted_tweet\",\\n        \"retweeted_tweet\"\\n    ],\\n    \"index\": [\\n        0,\\n        1,\\n        2,\\n        3,\\n        4\\n    ],\\n    \"data\": [\\n        [\\n            \"tweet\",\\n            1917726279195058338,\\n            \"https://x.com/elonmusk/status/1917726279195058338\",\\n            \"https://twitter.com/elonmusk/status/1917726279195058338\",\\n            \"https://t.co/U6tI9pdin6\",\\n            \"Twitter for iPhone\",\\n            17246,\\n            5906,\\n            111556,\\n            801,\\n            30699195,\\n            \"Wed Apr 30 23:42:29 +0000 2025\",\\n            \"zxx\",\\n            5370,\\n            false,\\n            null,\\n            1917726279195058338,\\n            null,\\n            null,\\n            \"{\\\\\"type\\\\\": \\\\\"user\\\\\", \\\\\"userName\\\\\": \\\\\"elonmusk\\\\\", \\\\\"url\\\\\": \\\\\"https://x.com/elonmusk\\\\\", \\\\\"twitterUrl\\\\\": \\\\\"https://twitter.com/elonmusk\\\\\", \\\\\"id\\\\\": \\\\\"44196397\\\\\", \\\\\"name\\\\\": \\\\\"Elon Musk\\\\\", \\\\\"isVerified\\\\\": false, \\\\\"isBlueVerified\\\\\": true, \\\\\"profilePicture\\\\\": \\\\\"https://pbs.twimg.com/profile_images/1893803697185910784/Na5lOWi5_normal.jpg\\\\\", \\\\\"coverPicture\\\\\": \\\\\"https://pbs.twimg.com/profile_banners/44196397/1739948056\\\\\", \\\\\"description\\\\\": \\\\\"\\\\\", \\\\\"location\\\\\": \\\\\"\\\\\", \\\\\"followers\\\\\": 219952743, \\\\\"following\\\\\": 1115, \\\\\"status\\\\\": \\\\\"\\\\\", \\\\\"canDm\\\\\": false, \\\\\"canMediaTag\\\\\": false, \\\\\"createdAt\\\\\": \\\\\"Tue Jun 02 20:12:29 +0000 2009\\\\\", \\\\\"entities\\\\\": {\\\\\"description\\\\\": {\\\\\"urls\\\\\": []}, \\\\\"url\\\\\": {}}, \\\\\"fastFollowersCount\\\\\": 0, \\\\\"favouritesCount\\\\\": 143653, \\\\\"hasCustomTimelines\\\\\": true, \\\\\"isTranslator\\\\\": false, \\\\\"mediaCount\\\\\": 3813, \\\\\"statusesCount\\\\\": 77787, \\\\\"withheldInCountries\\\\\": [], \\\\\"affiliatesHighlightedLabel\\\\\": {}, \\\\\"possiblySensitive\\\\\": false, \\\\\"pinnedTweetIds\\\\\": [\\\\\"1917099777327829386\\\\\"], \\\\\"profile_bio\\\\\": {\\\\\"description\\\\\": \\\\\"\\\\\", \\\\\"entities\\\\\": {\\\\\"description\\\\\": {}}}, \\\\\"isAutomated\\\\\": false, \\\\\"automatedBy\\\\\": null}\",\\n            \"{\\\\\"media\\\\\": [{\\\\\"additional_media_info\\\\\": {\\\\\"monetizable\\\\\": false, \\\\\"source_user\\\\\": {\\\\\"user_results\\\\\": {\\\\\"rest_id\\\\\": \\\\\"191871143\\\\\", \\\\\"result\\\\\": {\\\\\"__typename\\\\\": \\\\\"User\\\\\", \\\\\"action_counts\\\\\": {\\\\\"favorites_count\\\\\": 33230}, \\\\\"avatar\\\\\": {\\\\\"image_url\\\\\": \\\\\"https://pbs.twimg.com/profile_images/1863608157525696512/D4dr-CAV_normal.jpg\\\\\"}, \\\\\"banner\\\\\": {\\\\\"image_url\\\\\": \\\\\"https://pbs.twimg.com/profile_banners/191871143/1743311015\\\\\"}, \\\\\"core\\\\\": {\\\\\"created_at\\\\\": \\\\\"Fri Sep 17 15:38:32 +0000 2010\\\\\", \\\\\"name\\\\\": \\\\\"The Vigilant Fox \\\\ud83e\\\\udd8a\\\\\", \\\\\"screen_name\\\\\": \\\\\"VigilantFox\\\\\"}, \\\\\"dm_permissions\\\\\": {\\\\\"can_dm\\\\\": true}, \\\\\"exclusive_tweet_following\\\\\": false, \\\\\"identity_profile_labels_highlighted_label\\\\\": {}, \\\\\"location\\\\\": {\\\\\"location\\\\\": \\\\\"USA\\\\\"}, \\\\\"media_permissions\\\\\": {\\\\\"can_media_tag\\\\\": false}, \\\\\"notifications_settings\\\\\": {}, \\\\\"pinned_items\\\\\": {\\\\\"tweet_ids_str\\\\\": [\\\\\"1917969651923132694\\\\\"]}, \\\\\"privacy\\\\\": {}, \\\\\"private_super_following\\\\\": false, \\\\\"profile_bio\\\\\": {\\\\\"description\\\\\": \\\\\"Founder of https://t.co/OVSw4ak3Dy. Writer, video clipper, and pro-freedom citizen journalist with 12 years of healthcare experience.\\\\\", \\\\\"entities\\\\\": {\\\\\"description\\\\\": {\\\\\"urls\\\\\": [{\\\\\"display_url\\\\\": \\\\\"vigilantfox.com\\\\\", \\\\\"expanded_url\\\\\": \\\\\"http://vigilantfox.com\\\\\", \\\\\"indices\\\\\": [11, 34], \\\\\"url\\\\\": \\\\\"https://t.co/OVSw4ak3Dy\\\\\"}]}, \\\\\"url\\\\\": {\\\\\"urls\\\\\": [{\\\\\"display_url\\\\\": \\\\\"vigilantfox.com\\\\\", \\\\\"expanded_url\\\\\": \\\\\"http://vigilantfox.com\\\\\", \\\\\"indices\\\\\": [0, 23], \\\\\"url\\\\\": \\\\\"https://t.co/OVSw4ak3Dy\\\\\"}]}}}, \\\\\"profile_metadata\\\\\": {\\\\\"profile_interstitial_type\\\\\": \\\\\"\\\\\", \\\\\"profile_link_color\\\\\": \\\\\"1DA1F2\\\\\"}, \\\\\"profile_translation\\\\\": {\\\\\"translator_type_enum\\\\\": \\\\\"None\\\\\"}, \\\\\"properties\\\\\": {\\\\\"has_extended_profile\\\\\": false}, \\\\\"relationship_counts\\\\\": {\\\\\"followers\\\\\": 1703153, \\\\\"following\\\\\": 2591}, \\\\\"relationship_perspectives\\\\\": {}, \\\\\"rest_id\\\\\": \\\\\"191871143\\\\\", \\\\\"super_follow_eligible\\\\\": true, \\\\\"super_followed_by\\\\\": false, \\\\\"super_following\\\\\": false, \\\\\"tweet_counts\\\\\": {\\\\\"media_tweets\\\\\": 12062, \\\\\"tweets\\\\\": 31522}, \\\\\"website\\\\\": {\\\\\"url\\\\\": \\\\\"https://t.co/OVSw4ak3Dy\\\\\"}, \\\\\"verification\\\\\": {\\\\\"is_blue_verified\\\\\": true}}}}}, \\\\\"display_url\\\\\": \\\\\"pic.twitter.com/U6tI9pdin6\\\\\", \\\\\"expanded_url\\\\\": \\\\\"https://x.com/VigilantFox/status/1917658460713312614/video/1\\\\\", \\\\\"ext_media_availability\\\\\": {\\\\\"status\\\\\": \\\\\"Available\\\\\"}, \\\\\"id_str\\\\\": \\\\\"1917658280723095552\\\\\", \\\\\"indices\\\\\": [0, 23], \\\\\"media_key\\\\\": \\\\\"13_1917658280723095552\\\\\", \\\\\"media_results\\\\\": {\\\\\"id\\\\\": \\\\\"QXBpTWVkaWFSZXN1bHRzOgwABAoAARqc5AvPFiAAAAA=\\\\\", \\\\\"result\\\\\": {\\\\\"__typename\\\\\": \\\\\"ApiMedia\\\\\", \\\\\"id\\\\\": \\\\\"QXBpTWVkaWE6DAAECgABGpzkC88WIAAAAA==\\\\\", \\\\\"media_key\\\\\": \\\\\"13_1917658280723095552\\\\\"}}, \\\\\"media_url_https\\\\\": \\\\\"https://pbs.twimg.com/amplify_video_thumb/1917658280723095552/img/HTCPYUsakwfLKEUr.jpg\\\\\", \\\\\"original_info\\\\\": {\\\\\"focus_rects\\\\\": [], \\\\\"height\\\\\": 1080, \\\\\"width\\\\\": 1920}, \\\\\"sizes\\\\\": {\\\\\"large\\\\\": {\\\\\"h\\\\\": 1080, \\\\\"w\\\\\": 1920}}, \\\\\"source_status_id_str\\\\\": \\\\\"1917658460713312614\\\\\", \\\\\"source_user_id_str\\\\\": \\\\\"191871143\\\\\", \\\\\"type\\\\\": \\\\\"video\\\\\", \\\\\"url\\\\\": \\\\\"https://t.co/U6tI9pdin6\\\\\", \\\\\"video_info\\\\\": {\\\\\"aspect_ratio\\\\\": [16, 9], \\\\\"duration_millis\\\\\": 57474, \\\\\"variants\\\\\": [{\\\\\"content_type\\\\\": \\\\\"application/x-mpegURL\\\\\", \\\\\"url\\\\\": \\\\\"https://video.twimg.com/amplify_video/1917658280723095552/pl/f6F8lFbbgNi5t9np.m3u8?tag=16&v=2be\\\\\"}, {\\\\\"bitrate\\\\\": 288000, \\\\\"content_type\\\\\": \\\\\"video/mp4\\\\\", \\\\\"url\\\\\": \\\\\"https://video.twimg.com/amplify_video/1917658280723095552/vid/avc1/480x270/bGMkxMpIpnivmh97.mp4?tag=16\\\\\"}, {\\\\\"bitrate\\\\\": 832000, \\\\\"content_type\\\\\": \\\\\"video/mp4\\\\\", \\\\\"url\\\\\": \\\\\"https://video.twimg.com/amplify_video/1917658280723095552/vid/avc1/640x360/U0KKt5DfNpxTafY5.mp4?tag=16\\\\\"}, {\\\\\"bitrate\\\\\": 2176000, \\\\\"content_type\\\\\": \\\\\"video/mp4\\\\\", \\\\\"url\\\\\": \\\\\"https://video.twimg.com/amplify_video/1917658280723095552/vid/avc1/1280x720/WYhxG_ldc8q9rsvm.mp4?tag=16\\\\\"}, {\\\\\"bitrate\\\\\": 10368000, \\\\\"content_type\\\\\": \\\\\"video/mp4\\\\\", \\\\\"url\\\\\": \\\\\"https://video.twimg.com/amplify_video/1917658280723095552/vid/avc1/1920x1080/Wct2JMkwtYpZHCDj.mp4?tag=16\\\\\"}]}}]}\",\\n            null,\\n            \"{}\",\\n            \"{}\",\\n            null,\\n            null\\n        ],\\n        [\\n            \"tweet\",\\n            1917693698281787564,\\n            \"https://x.com/elonmusk/status/1917693698281787564\",\\n            \"https://twitter.com/elonmusk/status/1917693698281787564\",\\n            \"https://t.co/1c1WjFpOva\",\\n            \"Twitter for iPhone\",\\n            25024,\\n            9895,\\n            198157,\\n            1233,\\n            56010959,\\n            \"Wed Apr 30 21:33:01 +0000 2025\",\\n            \"zxx\",\\n            8873,\\n            false,\\n            null,\\n            1917693698281787564,\\n            null,\\n            null,\\n            \"{\\\\\"type\\\\\": \\\\\"user\\\\\", \\\\\"userName\\\\\": \\\\\"elonmusk\\\\\", \\\\\"url\\\\\": \\\\\"https://x.com/elonmusk\\\\\", \\\\\"twitterUrl\\\\\": \\\\\"https://twitter.com/elonmusk\\\\\", \\\\\"id\\\\\": \\\\\"44196397\\\\\", \\\\\"name\\\\\": \\\\\"Elon Musk\\\\\", \\\\\"isVerified\\\\\": false, \\\\\"isBlueVerified\\\\\": true, \\\\\"profilePicture\\\\\": \\\\\"https://pbs.twimg.com/profile_images/1893803697185910784/Na5lOWi5_normal.jpg\\\\\", \\\\\"coverPicture\\\\\": \\\\\"https://pbs.twimg.com/profile_banners/44196397/1739948056\\\\\", \\\\\"description\\\\\": \\\\\"\\\\\", \\\\\"location\\\\\": \\\\\"\\\\\", \\\\\"followers\\\\\": 219952743, \\\\\"following\\\\\": 1115, \\\\\"status\\\\\": \\\\\"\\\\\", \\\\\"canDm\\\\\": false, \\\\\"canMediaTag\\\\\": false, \\\\\"createdAt\\\\\": \\\\\"Tue Jun 02 20:12:29 +0000 2009\\\\\", \\\\\"entities\\\\\": {\\\\\"description\\\\\": {\\\\\"urls\\\\\": []}, \\\\\"url\\\\\": {}}, \\\\\"fastFollowersCount\\\\\": 0, \\\\\"favouritesCount\\\\\": 143653, \\\\\"hasCustomTimelines\\\\\": true, \\\\\"isTranslator\\\\\": false, \\\\\"mediaCount\\\\\": 3813, \\\\\"statusesCount\\\\\": 77787, \\\\\"withheldInCountries\\\\\": [], \\\\\"affiliatesHighlightedLabel\\\\\": {}, \\\\\"possiblySensitive\\\\\": false, \\\\\"pinnedTweetIds\\\\\": [\\\\\"1917099777327829386\\\\\"], \\\\\"profile_bio\\\\\": {\\\\\"description\\\\\": \\\\\"\\\\\", \\\\\"entities\\\\\": {\\\\\"description\\\\\": {}}}, \\\\\"isAutomated\\\\\": false, \\\\\"automatedBy\\\\\": null}\",\\n            \"{\\\\\"media\\\\\": [{\\\\\"additional_media_info\\\\\": {\\\\\"monetizable\\\\\": false, \\\\\"source_user\\\\\": {\\\\\"user_results\\\\\": {\\\\\"rest_id\\\\\": \\\\\"1108472017144201216\\\\\", \\\\\"result\\\\\": {\\\\\"__typename\\\\\": \\\\\"User\\\\\", \\\\\"action_counts\\\\\": {\\\\\"favorites_count\\\\\": 3424}, \\\\\"avatar\\\\\": {\\\\\"image_url\\\\\": \\\\\"https://pbs.twimg.com/profile_images/1608955832288288768/zZ-B_TjY_normal.jpg\\\\\"}, \\\\\"banner\\\\\": {\\\\\"image_url\\\\\": \\\\\"https://pbs.twimg.com/profile_banners/1108472017144201216/1721750377\\\\\"}, \\\\\"core\\\\\": {\\\\\"created_at\\\\\": \\\\\"Wed Mar 20 20:54:58 +0000 2019\\\\\", \\\\\"name\\\\\": \\\\\"Trump War Room\\\\\", \\\\\"screen_name\\\\\": \\\\\"TrumpWarRoom\\\\\"}, \\\\\"dm_permissions\\\\\": {\\\\\"can_dm\\\\\": false}, \\\\\"exclusive_tweet_following\\\\\": false, \\\\\"identity_profile_labels_highlighted_label\\\\\": {\\\\\"label\\\\\": {\\\\\"badge\\\\\": {\\\\\"url\\\\\": \\\\\"https://pbs.twimg.com/profile_images/745768799849308160/KrZhjkpH_bigger.jpg\\\\\"}, \\\\\"description\\\\\": \\\\\"Team Trump (Text TRUMP to 88022)\\\\\", \\\\\"url\\\\\": {\\\\\"url\\\\\": \\\\\"https://twitter.com/TeamTrump\\\\\", \\\\\"url_type\\\\\": \\\\\"DeepLink\\\\\"}, \\\\\"user_label_type\\\\\": \\\\\"BusinessLabel\\\\\", \\\\\"user_label_display_type\\\\\": \\\\\"Badge\\\\\"}}, \\\\\"location\\\\\": {\\\\\"location\\\\\": \\\\\"MAGA Country\\\\\"}, \\\\\"media_permissions\\\\\": {\\\\\"can_media_tag\\\\\": false}, \\\\\"notifications_settings\\\\\": {}, \\\\\"pinned_items\\\\\": {}, \\\\\"privacy\\\\\": {}, \\\\\"private_super_following\\\\\": false, \\\\\"profile_bio\\\\\": {\\\\\"description\\\\\": \\\\\"The official War Room account of President Donald J. Trump\\'s political operation. This account punches back 47x harder.\\\\\", \\\\\"entities\\\\\": {\\\\\"description\\\\\": {}, \\\\\"url\\\\\": {\\\\\"urls\\\\\": [{\\\\\"display_url\\\\\": \\\\\"donaldjtrump.com\\\\\", \\\\\"expanded_url\\\\\": \\\\\"https://www.donaldjtrump.com/\\\\\", \\\\\"indices\\\\\": [0, 23], \\\\\"url\\\\\": \\\\\"https://t.co/kXQzdp6CIx\\\\\"}]}}}, \\\\\"profile_image_shape\\\\\": \\\\\"Square\\\\\", \\\\\"profile_metadata\\\\\": {\\\\\"profile_interstitial_type\\\\\": \\\\\"\\\\\", \\\\\"profile_link_color\\\\\": \\\\\"ABB8C2\\\\\"}, \\\\\"profile_translation\\\\\": {\\\\\"translator_type_enum\\\\\": \\\\\"None\\\\\"}, \\\\\"properties\\\\\": {\\\\\"has_extended_profile\\\\\": true}, \\\\\"relationship_counts\\\\\": {\\\\\"followers\\\\\": 2513476, \\\\\"following\\\\\": 297}, \\\\\"relationship_perspectives\\\\\": {}, \\\\\"rest_id\\\\\": \\\\\"1108472017144201216\\\\\", \\\\\"super_follow_eligible\\\\\": false, \\\\\"super_followed_by\\\\\": false, \\\\\"super_following\\\\\": false, \\\\\"tweet_counts\\\\\": {\\\\\"media_tweets\\\\\": 20525, \\\\\"tweets\\\\\": 56710}, \\\\\"website\\\\\": {\\\\\"url\\\\\": \\\\\"https://t.co/kXQzdp6CIx\\\\\"}, \\\\\"verification\\\\\": {\\\\\"is_blue_verified\\\\\": true, \\\\\"verified_type\\\\\": \\\\\"Business\\\\\"}}}}}, \\\\\"display_url\\\\\": \\\\\"pic.twitter.com/1c1WjFpOva\\\\\", \\\\\"expanded_url\\\\\": \\\\\"https://x.com/TrumpWarRoom/status/1917622693215756416/video/1\\\\\", \\\\\"ext_media_availability\\\\\": {\\\\\"status\\\\\": \\\\\"Available\\\\\"}, \\\\\"id_str\\\\\": \\\\\"1917622228142739456\\\\\", \\\\\"indices\\\\\": [0, 23], \\\\\"media_key\\\\\": \\\\\"13_1917622228142739456\\\\\", \\\\\"media_results\\\\\": {\\\\\"id\\\\\": \\\\\"QXBpTWVkaWFSZXN1bHRzOgwABAoAARqcw0Gp11AAAAA=\\\\\", \\\\\"result\\\\\": {\\\\\"__typename\\\\\": \\\\\"ApiMedia\\\\\", \\\\\"id\\\\\": \\\\\"QXBpTWVkaWE6DAAECgABGpzDQanXUAAAAA==\\\\\", \\\\\"media_key\\\\\": \\\\\"13_1917622228142739456\\\\\"}}, \\\\\"media_url_https\\\\\": \\\\\"https://pbs.twimg.com/amplify_video_thumb/1917622228142739456/img/c2tww6AcBPb_w6FG.jpg\\\\\", \\\\\"original_info\\\\\": {\\\\\"focus_rects\\\\\": [], \\\\\"height\\\\\": 720, \\\\\"width\\\\\": 1280}, \\\\\"sizes\\\\\": {\\\\\"large\\\\\": {\\\\\"h\\\\\": 720, \\\\\"w\\\\\": 1280}}, \\\\\"source_status_id_str\\\\\": \\\\\"1917622693215756416\\\\\", \\\\\"source_user_id_str\\\\\": \\\\\"1108472017144201216\\\\\", \\\\\"type\\\\\": \\\\\"video\\\\\", \\\\\"url\\\\\": \\\\\"https://t.co/1c1WjFpOva\\\\\", \\\\\"video_info\\\\\": {\\\\\"aspect_ratio\\\\\": [16, 9], \\\\\"duration_millis\\\\\": 16618, \\\\\"variants\\\\\": [{\\\\\"content_type\\\\\": \\\\\"application/x-mpegURL\\\\\", \\\\\"url\\\\\": \\\\\"https://video.twimg.com/amplify_video/1917622228142739456/pl/cXE2u98pX8DpRKBI.m3u8?tag=16&v=e50\\\\\"}, {\\\\\"bitrate\\\\\": 288000, \\\\\"content_type\\\\\": \\\\\"video/mp4\\\\\", \\\\\"url\\\\\": \\\\\"https://video.twimg.com/amplify_video/1917622228142739456/vid/avc1/480x270/NSkcQSoZW717Igww.mp4?tag=16\\\\\"}, {\\\\\"bitrate\\\\\": 832000, \\\\\"content_type\\\\\": \\\\\"video/mp4\\\\\", \\\\\"url\\\\\": \\\\\"https://video.twimg.com/amplify_video/1917622228142739456/vid/avc1/640x360/91RNhbrSIcSiXg7M.mp4?tag=16\\\\\"}, {\\\\\"bitrate\\\\\": 2176000, \\\\\"content_type\\\\\": \\\\\"video/mp4\\\\\", \\\\\"url\\\\\": \\\\\"https://video.twimg.com/amplify_video/1917622228142739456/vid/avc1/1280x720/aXYCXyb_wMxymcOz.mp4?tag=16\\\\\"}]}}]}\",\\n            null,\\n            \"{}\",\\n            \"{}\",\\n            null,\\n            null\\n        ],\\n        [\\n            \"tweet\",\\n            1917225430702240067,\\n            \"https://x.com/elonmusk/status/1917225430702240067\",\\n            \"https://twitter.com/elonmusk/status/1917225430702240067\",\\n            \"This is a big deal\",\\n            \"Twitter for iPhone\",\\n            32344,\\n            8986,\\n            174883,\\n            808,\\n            63156104,\\n            \"Tue Apr 29 14:32:17 +0000 2025\",\\n            \"en\",\\n            4291,\\n            false,\\n            null,\\n            1917225430702240067,\\n            null,\\n            null,\\n            \"{\\\\\"type\\\\\": \\\\\"user\\\\\", \\\\\"userName\\\\\": \\\\\"elonmusk\\\\\", \\\\\"url\\\\\": \\\\\"https://x.com/elonmusk\\\\\", \\\\\"twitterUrl\\\\\": \\\\\"https://twitter.com/elonmusk\\\\\", \\\\\"id\\\\\": \\\\\"44196397\\\\\", \\\\\"name\\\\\": \\\\\"Elon Musk\\\\\", \\\\\"isVerified\\\\\": false, \\\\\"isBlueVerified\\\\\": true, \\\\\"profilePicture\\\\\": \\\\\"https://pbs.twimg.com/profile_images/1893803697185910784/Na5lOWi5_normal.jpg\\\\\", \\\\\"coverPicture\\\\\": \\\\\"https://pbs.twimg.com/profile_banners/44196397/1739948056\\\\\", \\\\\"description\\\\\": \\\\\"\\\\\", \\\\\"location\\\\\": \\\\\"\\\\\", \\\\\"followers\\\\\": 219952743, \\\\\"following\\\\\": 1115, \\\\\"status\\\\\": \\\\\"\\\\\", \\\\\"canDm\\\\\": false, \\\\\"canMediaTag\\\\\": false, \\\\\"createdAt\\\\\": \\\\\"Tue Jun 02 20:12:29 +0000 2009\\\\\", \\\\\"entities\\\\\": {\\\\\"description\\\\\": {\\\\\"urls\\\\\": []}, \\\\\"url\\\\\": {}}, \\\\\"fastFollowersCount\\\\\": 0, \\\\\"favouritesCount\\\\\": 143653, \\\\\"hasCustomTimelines\\\\\": true, \\\\\"isTranslator\\\\\": false, \\\\\"mediaCount\\\\\": 3813, \\\\\"statusesCount\\\\\": 77787, \\\\\"withheldInCountries\\\\\": [], \\\\\"affiliatesHighlightedLabel\\\\\": {}, \\\\\"possiblySensitive\\\\\": false, \\\\\"pinnedTweetIds\\\\\": [\\\\\"1917099777327829386\\\\\"], \\\\\"profile_bio\\\\\": {\\\\\"description\\\\\": \\\\\"\\\\\", \\\\\"entities\\\\\": {\\\\\"description\\\\\": {}}}, \\\\\"isAutomated\\\\\": false, \\\\\"automatedBy\\\\\": null}\",\\n            \"{}\",\\n            null,\\n            \"{}\",\\n            \"{}\",\\n            \"{\\\\\"type\\\\\": \\\\\"tweet\\\\\", \\\\\"id\\\\\": \\\\\"1917223651625099407\\\\\", \\\\\"url\\\\\": \\\\\"https://x.com/DOGE/status/1917223651625099407\\\\\", \\\\\"twitterUrl\\\\\": \\\\\"https://twitter.com/DOGE/status/1917223651625099407\\\\\", \\\\\"text\\\\\": \\\\\"Last week, Treasury went live with its first automated payment verification system. In total, $334 million in improper payment requests were identified and rejected due to:\\\\\\\\n-Missing budget codes\\\\\\\\n-Invalid budget codes (i.e. the payment was not linked to the budget)\\\\\\\\n-Budget codes with no authorization (i.e. the budget had already been fully spent)\\\\\", \\\\\"source\\\\\": \\\\\"Twitter for iPhone\\\\\", \\\\\"retweetCount\\\\\": 16637, \\\\\"replyCount\\\\\": 3902, \\\\\"likeCount\\\\\": 77821, \\\\\"quoteCount\\\\\": 1435, \\\\\"viewCount\\\\\": 65910248, \\\\\"createdAt\\\\\": \\\\\"Tue Apr 29 14:25:13 +0000 2025\\\\\", \\\\\"lang\\\\\": \\\\\"en\\\\\", \\\\\"bookmarkCount\\\\\": 3268, \\\\\"isReply\\\\\": false, \\\\\"inReplyToId\\\\\": null, \\\\\"conversationId\\\\\": \\\\\"1917223651625099407\\\\\", \\\\\"inReplyToUserId\\\\\": null, \\\\\"inReplyToUsername\\\\\": null, \\\\\"author\\\\\": {\\\\\"type\\\\\": \\\\\"user\\\\\", \\\\\"userName\\\\\": \\\\\"DOGE\\\\\", \\\\\"url\\\\\": \\\\\"https://x.com/DOGE\\\\\", \\\\\"twitterUrl\\\\\": \\\\\"https://twitter.com/DOGE\\\\\", \\\\\"id\\\\\": \\\\\"1856751787644260354\\\\\", \\\\\"name\\\\\": \\\\\"Department of Government Efficiency\\\\\", \\\\\"isVerified\\\\\": false, \\\\\"isBlueVerified\\\\\": true, \\\\\"profilePicture\\\\\": \\\\\"https://pbs.twimg.com/profile_images/1856763811186999296/p9VACiBj_normal.jpg\\\\\", \\\\\"coverPicture\\\\\": \\\\\"https://pbs.twimg.com/profile_banners/1856751787644260354/1731523627\\\\\", \\\\\"description\\\\\": \\\\\"\\\\\", \\\\\"location\\\\\": \\\\\"\\\\\", \\\\\"followers\\\\\": 4948366, \\\\\"following\\\\\": 0, \\\\\"status\\\\\": \\\\\"\\\\\", \\\\\"canDm\\\\\": true, \\\\\"canMediaTag\\\\\": true, \\\\\"createdAt\\\\\": \\\\\"Wed Nov 13 17:31:44 +0000 2024\\\\\", \\\\\"entities\\\\\": {\\\\\"description\\\\\": {\\\\\"urls\\\\\": []}, \\\\\"url\\\\\": {}}, \\\\\"fastFollowersCount\\\\\": 0, \\\\\"favouritesCount\\\\\": 2, \\\\\"hasCustomTimelines\\\\\": true, \\\\\"isTranslator\\\\\": false, \\\\\"mediaCount\\\\\": 83, \\\\\"statusesCount\\\\\": 269, \\\\\"withheldInCountries\\\\\": [], \\\\\"affiliatesHighlightedLabel\\\\\": {}, \\\\\"possiblySensitive\\\\\": false, \\\\\"pinnedTweetIds\\\\\": [\\\\\"1891288881674240070\\\\\"], \\\\\"profile_bio\\\\\": {\\\\\"description\\\\\": \\\\\"The people voted for major reform.\\\\\", \\\\\"entities\\\\\": {\\\\\"description\\\\\": {}, \\\\\"url\\\\\": {\\\\\"urls\\\\\": [{\\\\\"display_url\\\\\": \\\\\"doge.gov\\\\\", \\\\\"expanded_url\\\\\": \\\\\"https://www.doge.gov\\\\\", \\\\\"indices\\\\\": [0, 23], \\\\\"url\\\\\": \\\\\"https://t.co/F9Bp1DlHVV\\\\\"}]}}}, \\\\\"isAutomated\\\\\": false, \\\\\"automatedBy\\\\\": null}, \\\\\"extendedEntities\\\\\": {}, \\\\\"card\\\\\": null, \\\\\"place\\\\\": {}, \\\\\"entities\\\\\": {}, \\\\\"quoted_tweet\\\\\": {\\\\\"type\\\\\": \\\\\"tweet\\\\\", \\\\\"id\\\\\": \\\\\"1891614960452522187\\\\\", \\\\\"url\\\\\": \\\\\"\\\\\", \\\\\"twitterUrl\\\\\": \\\\\"\\\\\", \\\\\"text\\\\\": \\\\\"\\\\\", \\\\\"source\\\\\": \\\\\"Twitter for iPhone\\\\\", \\\\\"retweetCount\\\\\": 0, \\\\\"replyCount\\\\\": 0, \\\\\"likeCount\\\\\": 0, \\\\\"quoteCount\\\\\": 0, \\\\\"viewCount\\\\\": 0, \\\\\"createdAt\\\\\": \\\\\"\\\\\", \\\\\"lang\\\\\": \\\\\"\\\\\", \\\\\"bookmarkCount\\\\\": 0, \\\\\"isReply\\\\\": false, \\\\\"inReplyToId\\\\\": null, \\\\\"conversationId\\\\\": \\\\\"\\\\\", \\\\\"inReplyToUserId\\\\\": null, \\\\\"inReplyToUsername\\\\\": null, \\\\\"author\\\\\": {}, \\\\\"extendedEntities\\\\\": {}, \\\\\"card\\\\\": null, \\\\\"place\\\\\": {}, \\\\\"entities\\\\\": {}, \\\\\"quoted_tweet\\\\\": null, \\\\\"retweeted_tweet\\\\\": null}, \\\\\"retweeted_tweet\\\\\": null}\",\\n            null\\n        ],\\n        [\\n            \"tweet\",\\n            1917114631287718009,\\n            \"https://x.com/elonmusk/status/1917114631287718009\",\\n            \"https://twitter.com/elonmusk/status/1917114631287718009\",\\n            \"https://t.co/6xSd8l67FN\",\\n            \"Twitter for iPhone\",\\n            8827,\\n            2583,\\n            32499,\\n            236,\\n            17642903,\\n            \"Tue Apr 29 07:12:01 +0000 2025\",\\n            \"zxx\",\\n            1109,\\n            false,\\n            null,\\n            1917114631287718009,\\n            null,\\n            null,\\n            \"{\\\\\"type\\\\\": \\\\\"user\\\\\", \\\\\"userName\\\\\": \\\\\"elonmusk\\\\\", \\\\\"url\\\\\": \\\\\"https://x.com/elonmusk\\\\\", \\\\\"twitterUrl\\\\\": \\\\\"https://twitter.com/elonmusk\\\\\", \\\\\"id\\\\\": \\\\\"44196397\\\\\", \\\\\"name\\\\\": \\\\\"Elon Musk\\\\\", \\\\\"isVerified\\\\\": false, \\\\\"isBlueVerified\\\\\": true, \\\\\"profilePicture\\\\\": \\\\\"https://pbs.twimg.com/profile_images/1893803697185910784/Na5lOWi5_normal.jpg\\\\\", \\\\\"coverPicture\\\\\": \\\\\"https://pbs.twimg.com/profile_banners/44196397/1739948056\\\\\", \\\\\"description\\\\\": \\\\\"\\\\\", \\\\\"location\\\\\": \\\\\"\\\\\", \\\\\"followers\\\\\": 219952743, \\\\\"following\\\\\": 1115, \\\\\"status\\\\\": \\\\\"\\\\\", \\\\\"canDm\\\\\": false, \\\\\"canMediaTag\\\\\": false, \\\\\"createdAt\\\\\": \\\\\"Tue Jun 02 20:12:29 +0000 2009\\\\\", \\\\\"entities\\\\\": {\\\\\"description\\\\\": {\\\\\"urls\\\\\": []}, \\\\\"url\\\\\": {}}, \\\\\"fastFollowersCount\\\\\": 0, \\\\\"favouritesCount\\\\\": 143653, \\\\\"hasCustomTimelines\\\\\": true, \\\\\"isTranslator\\\\\": false, \\\\\"mediaCount\\\\\": 3813, \\\\\"statusesCount\\\\\": 77787, \\\\\"withheldInCountries\\\\\": [], \\\\\"affiliatesHighlightedLabel\\\\\": {}, \\\\\"possiblySensitive\\\\\": false, \\\\\"pinnedTweetIds\\\\\": [\\\\\"1917099777327829386\\\\\"], \\\\\"profile_bio\\\\\": {\\\\\"description\\\\\": \\\\\"\\\\\", \\\\\"entities\\\\\": {\\\\\"description\\\\\": {}}}, \\\\\"isAutomated\\\\\": false, \\\\\"automatedBy\\\\\": null}\",\\n            \"{}\",\\n            \"{\\\\\"binding_values\\\\\": [{\\\\\"key\\\\\": \\\\\"unified_card\\\\\", \\\\\"value\\\\\": {\\\\\"string_value\\\\\": \\\\\"{\\\\\\\\\\\\\"component_objects\\\\\\\\\\\\\":{\\\\\\\\\\\\\"details_1\\\\\\\\\\\\\":{\\\\\\\\\\\\\"type\\\\\\\\\\\\\":\\\\\\\\\\\\\"grok_share\\\\\\\\\\\\\",\\\\\\\\\\\\\"data\\\\\\\\\\\\\":{\\\\\\\\\\\\\"profile_user\\\\\\\\\\\\\":{\\\\\\\\\\\\\"id_str\\\\\\\\\\\\\":\\\\\\\\\\\\\"44196397\\\\\\\\\\\\\",\\\\\\\\\\\\\"profile_image_url_https\\\\\\\\\\\\\":\\\\\\\\\\\\\"https:\\\\\\\\\\\\\\\\/\\\\\\\\\\\\\\\\/pbs.twimg.com\\\\\\\\\\\\\\\\/profile_images\\\\\\\\\\\\\\\\/1893803697185910784\\\\\\\\\\\\\\\\/Na5lOWi5.jpg\\\\\\\\\\\\\",\\\\\\\\\\\\\"name\\\\\\\\\\\\\":\\\\\\\\\\\\\"Elon Musk\\\\\\\\\\\\\",\\\\\\\\\\\\\"screen_name\\\\\\\\\\\\\":\\\\\\\\\\\\\"elonmusk\\\\\\\\\\\\\",\\\\\\\\\\\\\"highlighted_label\\\\\\\\\\\\\":{\\\\\\\\\\\\\"description\\\\\\\\\\\\\":\\\\\\\\\\\\\"X\\\\\\\\\\\\\",\\\\\\\\\\\\\"badge\\\\\\\\\\\\\":{\\\\\\\\\\\\\"url\\\\\\\\\\\\\":\\\\\\\\\\\\\"https:\\\\\\\\\\\\\\\\/\\\\\\\\\\\\\\\\/pbs.twimg.com\\\\\\\\\\\\\\\\/profile_images\\\\\\\\\\\\\\\\/1683899100922511378\\\\\\\\\\\\\\\\/5lY42eHs_bigger.jpg\\\\\\\\\\\\\"},\\\\\\\\\\\\\"url\\\\\\\\\\\\\":{\\\\\\\\\\\\\"urlType\\\\\\\\\\\\\":\\\\\\\\\\\\\"DeepLink\\\\\\\\\\\\\",\\\\\\\\\\\\\"url\\\\\\\\\\\\\":\\\\\\\\\\\\\"https:\\\\\\\\\\\\\\\\/\\\\\\\\\\\\\\\\/twitter.com\\\\\\\\\\\\\\\\/X\\\\\\\\\\\\\"},\\\\\\\\\\\\\"userLabelType\\\\\\\\\\\\\":\\\\\\\\\\\\\"BusinessLabel\\\\\\\\\\\\\",\\\\\\\\\\\\\"userLabelDisplayType\\\\\\\\\\\\\":\\\\\\\\\\\\\"Badge\\\\\\\\\\\\\"},\\\\\\\\\\\\\"verified\\\\\\\\\\\\\":false,\\\\\\\\\\\\\"is_blue_verified\\\\\\\\\\\\\":true},\\\\\\\\\\\\\"grok_user\\\\\\\\\\\\\":{\\\\\\\\\\\\\"id_str\\\\\\\\\\\\\":\\\\\\\\\\\\\"1720665183188922368\\\\\\\\\\\\\",\\\\\\\\\\\\\"profile_image_url_https\\\\\\\\\\\\\":\\\\\\\\\\\\\"https:\\\\\\\\\\\\\\\\/\\\\\\\\\\\\\\\\/pbs.twimg.com\\\\\\\\\\\\\\\\/profile_images\\\\\\\\\\\\\\\\/1893219113717342208\\\\\\\\\\\\\\\\/Vgg2hEPa.jpg\\\\\\\\\\\\\",\\\\\\\\\\\\\"name\\\\\\\\\\\\\":\\\\\\\\\\\\\"Grok\\\\\\\\\\\\\",\\\\\\\\\\\\\"screen_name\\\\\\\\\\\\\":\\\\\\\\\\\\\"grok\\\\\\\\\\\\\",\\\\\\\\\\\\\"highlighted_label\\\\\\\\\\\\\":{\\\\\\\\\\\\\"description\\\\\\\\\\\\\":\\\\\\\\\\\\\"xAI\\\\\\\\\\\\\",\\\\\\\\\\\\\"badge\\\\\\\\\\\\\":{\\\\\\\\\\\\\"url\\\\\\\\\\\\\":\\\\\\\\\\\\\"https:\\\\\\\\\\\\\\\\/\\\\\\\\\\\\\\\\/pbs.twimg.com\\\\\\\\\\\\\\\\/profile_images\\\\\\\\\\\\\\\\/1769430779845611520\\\\\\\\\\\\\\\\/lIgjSJGU_bigger.jpg\\\\\\\\\\\\\"},\\\\\\\\\\\\\"url\\\\\\\\\\\\\":{\\\\\\\\\\\\\"urlType\\\\\\\\\\\\\":\\\\\\\\\\\\\"DeepLink\\\\\\\\\\\\\",\\\\\\\\\\\\\"url\\\\\\\\\\\\\":\\\\\\\\\\\\\"https:\\\\\\\\\\\\\\\\/\\\\\\\\\\\\\\\\/twitter.com\\\\\\\\\\\\\\\\/xai\\\\\\\\\\\\\"},\\\\\\\\\\\\\"userLabelType\\\\\\\\\\\\\":\\\\\\\\\\\\\"BusinessLabel\\\\\\\\\\\\\",\\\\\\\\\\\\\"userLabelDisplayType\\\\\\\\\\\\\":\\\\\\\\\\\\\"Badge\\\\\\\\\\\\\"},\\\\\\\\\\\\\"verified\\\\\\\\\\\\\":false,\\\\\\\\\\\\\"is_blue_verified\\\\\\\\\\\\\":true,\\\\\\\\\\\\\"verified_type\\\\\\\\\\\\\":\\\\\\\\\\\\\"Business\\\\\\\\\\\\\"},\\\\\\\\\\\\\"id\\\\\\\\\\\\\":\\\\\\\\\\\\\"2LQaSjc9loB3Lzngigi3MwvAG\\\\\\\\\\\\\",\\\\\\\\\\\\\"conversation_preview\\\\\\\\\\\\\":[{\\\\\\\\\\\\\"message\\\\\\\\\\\\\":\\\\\\\\\\\\\"https:\\\\\\\\\\\\\\\\/\\\\\\\\\\\\\\\\/x.com\\\\\\\\\\\\\\\\/basedmikelee\\\\\\\\\\\\\\\\/status\\\\\\\\\\\\\\\\/1916951166945984754?s=12\\\\\\\\\\\\\",\\\\\\\\\\\\\"sender\\\\\\\\\\\\\":\\\\\\\\\\\\\"USER\\\\\\\\\\\\\",\\\\\\\\\\\\\"grokMode\\\\\\\\\\\\\":\\\\\\\\\\\\\"NORMAL\\\\\\\\\\\\\",\\\\\\\\\\\\\"mediaUrls\\\\\\\\\\\\\":[],\\\\\\\\\\\\\"analysisPostId\\\\\\\\\\\\\":\\\\\\\\\\\\\"1916951166945984754\\\\\\\\\\\\\",\\\\\\\\\\\\\"grokShareXPostData\\\\\\\\\\\\\":{\\\\\\\\\\\\\"postId\\\\\\\\\\\\\":\\\\\\\\\\\\\"1916951166945984754\\\\\\\\\\\\\",\\\\\\\\\\\\\"text\\\\\\\\\\\\\":\\\\\\\\\\\\\"End the Fed https:\\\\\\\\\\\\\\\\/\\\\\\\\\\\\\\\\/t.co\\\\\\\\\\\\\\\\/TPT0UqA3xi\\\\\\\\\\\\\",\\\\\\\\\\\\\"createdAtSecs\\\\\\\\\\\\\":\\\\\\\\\\\\\"1745871748\\\\\\\\\\\\\",\\\\\\\\\\\\\"name\\\\\\\\\\\\\":\\\\\\\\\\\\\"Mike Lee\\\\\\\\\\\\\",\\\\\\\\\\\\\"screenName\\\\\\\\\\\\\":\\\\\\\\\\\\\"BasedMikeLee\\\\\\\\\\\\\",\\\\\\\\\\\\\"profileImageUrl\\\\\\\\\\\\\":\\\\\\\\\\\\\"https:\\\\\\\\\\\\\\\\/\\\\\\\\\\\\\\\\/pbs.twimg.com\\\\\\\\\\\\\\\\/profile_images\\\\\\\\\\\\\\\\/1888964527821139968\\\\\\\\\\\\\\\\/A047e0lQ_normal.jpg\\\\\\\\\\\\\",\\\\\\\\\\\\\"isBlueVerified\\\\\\\\\\\\\":true,\\\\\\\\\\\\\"verifiedType\\\\\\\\\\\\\":\\\\\\\\\\\\\"Government\\\\\\\\\\\\\"}},{\\\\\\\\\\\\\"message\\\\\\\\\\\\\":\\\\\\\\\\\\\"Mike Lee\\'s \\\\\\\\\\\\\\\\\\\\\\\\\\\\\"End the Fed\\\\\\\\\\\\\\\\\\\\\\\\\\\\\" post quotes a viral image from @LibertyCappy showing the U.S. dollar\\\\\\\\\\\\\\\\u2019s purchasing power dropping from $100 in 1913 to $3 today, highlighting inflation since the Federal Reserve\\\\\\\\\\\\\\\\u2019s creation in 1913.\\\\\\\\\\\\\\\\nThe Federal Reserve, a private-public banking system, is criticized for enabling this decline through monetary policies like money printing, which devalues currency; gold, as noted in a reply, retained value, with $100 in 1913 (4.84 oz) now worth $16,260.\\\\\\\\\\\\\\\\nHistorical data from the St. Louis Fed (CUUR0000SA0R) confirms this erosion, showing a 97% loss in purchasing power since 1913, fueling debates about the Fed\\\\\\\\\\\\\\\\u2019s role in wealth inequality and calls for its abolition.\\\\\\\\\\\\\",\\\\\\\\\\\\\"sender\\\\\\\\\\\\\":\\\\\\\\\\\\\"AGENT\\\\\\\\\\\\\",\\\\\\\\\\\\\"grokMode\\\\\\\\\\\\\":\\\\\\\\\\\\\"NORMAL\\\\\\\\\\\\\",\\\\\\\\\\\\\"mediaUrls\\\\\\\\\\\\\":[],\\\\\\\\\\\\\"deepsearchHeaders\\\\\\\\\\\\\":[]}],\\\\\\\\\\\\\"destination\\\\\\\\\\\\\":\\\\\\\\\\\\\"destination_1\\\\\\\\\\\\\",\\\\\\\\\\\\\"allowed_actions\\\\\\\\\\\\\":[\\\\\\\\\\\\\"ASK_IT_YOURSELF\\\\\\\\\\\\\"],\\\\\\\\\\\\\"metadata\\\\\\\\\\\\\":{\\\\\\\\\\\\\"text\\\\\\\\\\\\\":\\\\\\\\\\\\\"Post analysis by Grok\\\\\\\\\\\\\"}}}},\\\\\\\\\\\\\"destination_objects\\\\\\\\\\\\\":{\\\\\\\\\\\\\"destination_1\\\\\\\\\\\\\":{\\\\\\\\\\\\\"type\\\\\\\\\\\\\":\\\\\\\\\\\\\"browser\\\\\\\\\\\\\",\\\\\\\\\\\\\"data\\\\\\\\\\\\\":{\\\\\\\\\\\\\"url_data\\\\\\\\\\\\\":{\\\\\\\\\\\\\"url\\\\\\\\\\\\\":\\\\\\\\\\\\\"https:\\\\\\\\\\\\\\\\/\\\\\\\\\\\\\\\\/x.com\\\\\\\\\\\\\\\\/i\\\\\\\\\\\\\\\\/grok\\\\\\\\\\\\\\\\/share\\\\\\\\\\\\\\\\/2LQaSjc9loB3Lzngigi3MwvAG\\\\\\\\\\\\\",\\\\\\\\\\\\\"vanity\\\\\\\\\\\\\":\\\\\\\\\\\\\"Grok\\\\\\\\\\\\\"}}}},\\\\\\\\\\\\\"components\\\\\\\\\\\\\":[\\\\\\\\\\\\\"details_1\\\\\\\\\\\\\"]}\\\\\"}}, {\\\\\"key\\\\\": \\\\\"card_url\\\\\", \\\\\"value\\\\\": {\\\\\"scribe_key\\\\\": \\\\\"card_url\\\\\", \\\\\"string_value\\\\\": \\\\\"https://t.co/6xSd8l67FN\\\\\"}}], \\\\\"card_platform\\\\\": {\\\\\"platform\\\\\": {\\\\\"audience\\\\\": {\\\\\"name\\\\\": \\\\\"production\\\\\"}, \\\\\"device\\\\\": {\\\\\"name\\\\\": \\\\\"iPhone\\\\\", \\\\\"version\\\\\": \\\\\"13\\\\\"}}}, \\\\\"name\\\\\": \\\\\"unified_card\\\\\", \\\\\"url\\\\\": \\\\\"https://t.co/6xSd8l67FN\\\\\"}\",\\n            \"{}\",\\n            \"{\\\\\"urls\\\\\": [{\\\\\"display_url\\\\\": \\\\\"x.com/i/grok/share/2\\\\u2026\\\\\", \\\\\"expanded_url\\\\\": \\\\\"https://x.com/i/grok/share/2LQaSjc9loB3Lzngigi3MwvAG\\\\\", \\\\\"indices\\\\\": [0, 23], \\\\\"url\\\\\": \\\\\"https://t.co/6xSd8l67FN\\\\\"}]}\",\\n            null,\\n            null\\n        ],\\n        [\\n            \"tweet\",\\n            1917103264417649121,\\n            \"https://x.com/elonmusk/status/1917103264417649121\",\\n            \"https://twitter.com/elonmusk/status/1917103264417649121\",\\n            \"Whoa\",\\n            \"Twitter for iPhone\",\\n            15967,\\n            4993,\\n            64372,\\n            473,\\n            29767624,\\n            \"Tue Apr 29 06:26:50 +0000 2025\",\\n            \"en\",\\n            5497,\\n            false,\\n            null,\\n            1917103264417649121,\\n            null,\\n            null,\\n            \"{\\\\\"type\\\\\": \\\\\"user\\\\\", \\\\\"userName\\\\\": \\\\\"elonmusk\\\\\", \\\\\"url\\\\\": \\\\\"https://x.com/elonmusk\\\\\", \\\\\"twitterUrl\\\\\": \\\\\"https://twitter.com/elonmusk\\\\\", \\\\\"id\\\\\": \\\\\"44196397\\\\\", \\\\\"name\\\\\": \\\\\"Elon Musk\\\\\", \\\\\"isVerified\\\\\": false, \\\\\"isBlueVerified\\\\\": true, \\\\\"profilePicture\\\\\": \\\\\"https://pbs.twimg.com/profile_images/1893803697185910784/Na5lOWi5_normal.jpg\\\\\", \\\\\"coverPicture\\\\\": \\\\\"https://pbs.twimg.com/profile_banners/44196397/1739948056\\\\\", \\\\\"description\\\\\": \\\\\"\\\\\", \\\\\"location\\\\\": \\\\\"\\\\\", \\\\\"followers\\\\\": 220086056, \\\\\"following\\\\\": 1115, \\\\\"status\\\\\": \\\\\"\\\\\", \\\\\"canDm\\\\\": false, \\\\\"canMediaTag\\\\\": false, \\\\\"createdAt\\\\\": \\\\\"Tue Jun 02 20:12:29 +0000 2009\\\\\", \\\\\"entities\\\\\": {\\\\\"description\\\\\": {\\\\\"urls\\\\\": []}, \\\\\"url\\\\\": {}}, \\\\\"fastFollowersCount\\\\\": 0, \\\\\"favouritesCount\\\\\": 144014, \\\\\"hasCustomTimelines\\\\\": true, \\\\\"isTranslator\\\\\": false, \\\\\"mediaCount\\\\\": 3816, \\\\\"statusesCount\\\\\": 77899, \\\\\"withheldInCountries\\\\\": [], \\\\\"affiliatesHighlightedLabel\\\\\": {}, \\\\\"possiblySensitive\\\\\": false, \\\\\"pinnedTweetIds\\\\\": [\\\\\"1918592668307010019\\\\\"], \\\\\"profile_bio\\\\\": {\\\\\"description\\\\\": \\\\\"\\\\\", \\\\\"entities\\\\\": {\\\\\"description\\\\\": {}}}, \\\\\"isAutomated\\\\\": false, \\\\\"automatedBy\\\\\": null}\",\\n            \"{}\",\\n            null,\\n            \"{}\",\\n            \"{}\",\\n            \"{\\\\\"type\\\\\": \\\\\"tweet\\\\\", \\\\\"id\\\\\": \\\\\"1917011279757066291\\\\\", \\\\\"url\\\\\": \\\\\"https://x.com/MarioNawfal/status/1917011279757066291\\\\\", \\\\\"twitterUrl\\\\\": \\\\\"https://twitter.com/MarioNawfal/status/1917011279757066291\\\\\", \\\\\"text\\\\\": \\\\\"\\\\ud83d\\\\udea8THE INVISIBLE PUPPET MASTERS: AI\\'S DISTURBING NEW ROLE IN SHAPING MINDS\\\\\\\\n\\\\\\\\nThe revelation that University of Zurich researchers secretly deployed AI bots to manipulate Reddit users\\' opinions should chill anyone who values authentic human discourse. \\\\\\\\n\\\\\\\\nThese weren\\'t merely passive observers\\\\u2014they were digital persuaders that analyzed users\\' personal histories, fabricated identities, and crafted arguments specifically designed to change minds.\\\\\\\\n\\\\\\\\nMost troubling? \\\\\\\\n\\\\\\\\nThey succeeded spectacularly\\\\u2014achieving persuasion rates six times higher than normal human interactions.\\\\\\\\n\\\\\\\\nThis experiment crossed critical ethical lines. \\\\\\\\n\\\\\\\\nWithout consent or disclosure, researchers unleashed bots that claimed to be rape victims, misrepresented religious teachings, and spread misinformation about controversial topics. \\\\\\\\n\\\\\\\\nThese digital ghosts generated over 1,500 comments, each precisely calibrated to exploit cognitive vulnerabilities of their human targets.\\\\\\\\n\\\\\\\\nWe\\'ve long worried about social media\\'s echo chambers. \\\\\\\\n\\\\\\\\nBut what happens when those chambers are deliberately infiltrated by increasingly sophisticated AI systems trained on the very platforms they\\'re manipulating? \\\\\\\\n\\\\\\\\nReddit\\'s recent data-sharing deal with OpenAI suggests we\\'re actively providing the training material for ever more persuasive digital manipulators.\\\\\\\\n\\\\\\\\nReddit moderators rightly condemned this unauthorized experiment, but their discovery came months after the damage was done. \\\\\\\\n\\\\\\\\nHow many other digital conversations are currently being shaped by invisible algorithmic hands?\\\\\\\\n\\\\\\\\nSource: @reddit_lies Engadget\\\\\", \\\\\"source\\\\\": \\\\\"Twitter for iPhone\\\\\", \\\\\"retweetCount\\\\\": 4569, \\\\\"replyCount\\\\\": 1753, \\\\\"likeCount\\\\\": 13088, \\\\\"quoteCount\\\\\": 992, \\\\\"viewCount\\\\\": 30848678, \\\\\"createdAt\\\\\": \\\\\"Tue Apr 29 00:21:20 +0000 2025\\\\\", \\\\\"lang\\\\\": \\\\\"en\\\\\", \\\\\"bookmarkCount\\\\\": 4956, \\\\\"isReply\\\\\": false, \\\\\"inReplyToId\\\\\": null, \\\\\"conversationId\\\\\": \\\\\"1917011279757066291\\\\\", \\\\\"inReplyToUserId\\\\\": null, \\\\\"inReplyToUsername\\\\\": null, \\\\\"author\\\\\": {\\\\\"type\\\\\": \\\\\"user\\\\\", \\\\\"userName\\\\\": \\\\\"MarioNawfal\\\\\", \\\\\"url\\\\\": \\\\\"https://x.com/MarioNawfal\\\\\", \\\\\"twitterUrl\\\\\": \\\\\"https://twitter.com/MarioNawfal\\\\\", \\\\\"id\\\\\": \\\\\"1319287761048723458\\\\\", \\\\\"name\\\\\": \\\\\"Mario Nawfal\\\\\", \\\\\"isVerified\\\\\": false, \\\\\"isBlueVerified\\\\\": true, \\\\\"profilePicture\\\\\": \\\\\"https://pbs.twimg.com/profile_images/1670905743619268609/pYItlWat_normal.jpg\\\\\", \\\\\"coverPicture\\\\\": \\\\\"https://pbs.twimg.com/profile_banners/1319287761048723458/1743760560\\\\\", \\\\\"description\\\\\": \\\\\"\\\\\", \\\\\"location\\\\\": \\\\\"\\\\\", \\\\\"followers\\\\\": 2219233, \\\\\"following\\\\\": 47145, \\\\\"status\\\\\": \\\\\"\\\\\", \\\\\"canDm\\\\\": true, \\\\\"canMediaTag\\\\\": true, \\\\\"createdAt\\\\\": \\\\\"Thu Oct 22 14:42:25 +0000 2020\\\\\", \\\\\"entities\\\\\": {\\\\\"description\\\\\": {\\\\\"urls\\\\\": []}, \\\\\"url\\\\\": {}}, \\\\\"fastFollowersCount\\\\\": 0, \\\\\"favouritesCount\\\\\": 152321, \\\\\"hasCustomTimelines\\\\\": true, \\\\\"isTranslator\\\\\": false, \\\\\"mediaCount\\\\\": 99466, \\\\\"statusesCount\\\\\": 131074, \\\\\"withheldInCountries\\\\\": [], \\\\\"affiliatesHighlightedLabel\\\\\": {}, \\\\\"possiblySensitive\\\\\": false, \\\\\"pinnedTweetIds\\\\\": [\\\\\"1918430297890173319\\\\\"], \\\\\"profile_bio\\\\\": {\\\\\"description\\\\\": \\\\\"Largest Show on X | Founder @ibcgroupio | Investor 600+ Startups\\\\\", \\\\\"entities\\\\\": {\\\\\"description\\\\\": {\\\\\"user_mentions\\\\\": [{\\\\\"id_str\\\\\": \\\\\"0\\\\\", \\\\\"indices\\\\\": [28, 39], \\\\\"name\\\\\": \\\\\"\\\\\", \\\\\"screen_name\\\\\": \\\\\"ibcgroupio\\\\\"}]}, \\\\\"url\\\\\": {\\\\\"urls\\\\\": [{\\\\\"display_url\\\\\": \\\\\"roundtable.live\\\\\", \\\\\"expanded_url\\\\\": \\\\\"https://roundtable.live\\\\\", \\\\\"indices\\\\\": [0, 23], \\\\\"url\\\\\": \\\\\"https://t.co/Lru9VAixI8\\\\\"}]}}}, \\\\\"isAutomated\\\\\": false, \\\\\"automatedBy\\\\\": null}, \\\\\"extendedEntities\\\\\": {\\\\\"media\\\\\": [{\\\\\"display_url\\\\\": \\\\\"pic.twitter.com/vHnCzZzE1s\\\\\", \\\\\"expanded_url\\\\\": \\\\\"https://twitter.com/MarioNawfal/status/1917011279757066291/photo/1\\\\\", \\\\\"ext_media_availability\\\\\": {\\\\\"status\\\\\": \\\\\"Available\\\\\"}, \\\\\"features\\\\\": {\\\\\"large\\\\\": {\\\\\"faces\\\\\": [{\\\\\"h\\\\\": 104, \\\\\"w\\\\\": 104, \\\\\"x\\\\\": 467, \\\\\"y\\\\\": 240}]}, \\\\\"orig\\\\\": {\\\\\"faces\\\\\": [{\\\\\"h\\\\\": 104, \\\\\"w\\\\\": 104, \\\\\"x\\\\\": 467, \\\\\"y\\\\\": 240}]}}, \\\\\"id_str\\\\\": \\\\\"1917010736972218368\\\\\", \\\\\"indices\\\\\": [280, 303], \\\\\"media_key\\\\\": \\\\\"3_1917010736972218368\\\\\", \\\\\"media_results\\\\\": {\\\\\"id\\\\\": \\\\\"QXBpTWVkaWFSZXN1bHRzOgwAAQoAARqalxvH1sAACgACGpqXmihWQDMAAA==\\\\\", \\\\\"result\\\\\": {\\\\\"__typename\\\\\": \\\\\"ApiMedia\\\\\", \\\\\"id\\\\\": \\\\\"QXBpTWVkaWE6DAABCgABGpqXG8fWwAAKAAIampeaKFZAMwAA\\\\\", \\\\\"media_key\\\\\": \\\\\"3_1917010736972218368\\\\\"}}, \\\\\"media_url_https\\\\\": \\\\\"https://pbs.twimg.com/media/GpqXG8fWwAAKR-P.jpg\\\\\", \\\\\"original_info\\\\\": {\\\\\"focus_rects\\\\\": [{\\\\\"h\\\\\": 537, \\\\\"w\\\\\": 959, \\\\\"x\\\\\": 0, \\\\\"y\\\\\": 43}, {\\\\\"h\\\\\": 640, \\\\\"w\\\\\": 640, \\\\\"x\\\\\": 0, \\\\\"y\\\\\": 0}, {\\\\\"h\\\\\": 640, \\\\\"w\\\\\": 561, \\\\\"x\\\\\": 31, \\\\\"y\\\\\": 0}, {\\\\\"h\\\\\": 640, \\\\\"w\\\\\": 320, \\\\\"x\\\\\": 151, \\\\\"y\\\\\": 0}, {\\\\\"h\\\\\": 640, \\\\\"w\\\\\": 959, \\\\\"x\\\\\": 0, \\\\\"y\\\\\": 0}], \\\\\"height\\\\\": 640, \\\\\"width\\\\\": 959}, \\\\\"sizes\\\\\": {\\\\\"large\\\\\": {\\\\\"h\\\\\": 640, \\\\\"w\\\\\": 959}}, \\\\\"type\\\\\": \\\\\"photo\\\\\", \\\\\"url\\\\\": \\\\\"https://t.co/vHnCzZzE1s\\\\\"}]}, \\\\\"card\\\\\": null, \\\\\"place\\\\\": {}, \\\\\"entities\\\\\": {\\\\\"user_mentions\\\\\": [{\\\\\"id_str\\\\\": \\\\\"3895214232\\\\\", \\\\\"indices\\\\\": [1541, 1553], \\\\\"name\\\\\": \\\\\"Reddit Lies\\\\\", \\\\\"screen_name\\\\\": \\\\\"reddit_lies\\\\\"}]}, \\\\\"quoted_tweet\\\\\": {\\\\\"type\\\\\": \\\\\"tweet\\\\\", \\\\\"id\\\\\": \\\\\"1917006115507998789\\\\\", \\\\\"url\\\\\": \\\\\"\\\\\", \\\\\"twitterUrl\\\\\": \\\\\"\\\\\", \\\\\"text\\\\\": \\\\\"\\\\\", \\\\\"source\\\\\": \\\\\"Twitter for iPhone\\\\\", \\\\\"retweetCount\\\\\": 0, \\\\\"replyCount\\\\\": 0, \\\\\"likeCount\\\\\": 0, \\\\\"quoteCount\\\\\": 0, \\\\\"viewCount\\\\\": 0, \\\\\"createdAt\\\\\": \\\\\"\\\\\", \\\\\"lang\\\\\": \\\\\"\\\\\", \\\\\"bookmarkCount\\\\\": 0, \\\\\"isReply\\\\\": false, \\\\\"inReplyToId\\\\\": null, \\\\\"conversationId\\\\\": \\\\\"\\\\\", \\\\\"inReplyToUserId\\\\\": null, \\\\\"inReplyToUsername\\\\\": null, \\\\\"author\\\\\": {}, \\\\\"extendedEntities\\\\\": {}, \\\\\"card\\\\\": null, \\\\\"place\\\\\": {}, \\\\\"entities\\\\\": {}, \\\\\"quoted_tweet\\\\\": null, \\\\\"retweeted_tweet\\\\\": null}, \\\\\"retweeted_tweet\\\\\": null}\",\\n            null\\n        ]\\n    ]\\n}'"
      ]
     },
     "execution_count": 59,
     "metadata": {},
     "output_type": "execute_result"
    }
   ],
   "execution_count": 59
  },
  {
   "metadata": {
    "ExecuteTime": {
     "end_time": "2025-05-21T10:41:57.965716Z",
     "start_time": "2025-05-21T10:41:57.516031Z"
    }
   },
   "cell_type": "code",
   "source": [
    "ent = df_replies['entities'].apply(json.loads)\n",
    "ent.head()"
   ],
   "id": "ae8dbb3337c04c93",
   "outputs": [
    {
     "data": {
      "text/plain": [
       "0    {'user_mentions': [{'id_str': '18433784', 'ind...\n",
       "1    {'user_mentions': [{'id_str': '151870962792763...\n",
       "2    {'user_mentions': [{'id_str': '4914384040', 'i...\n",
       "3    {'user_mentions': [{'id_str': '139388074369739...\n",
       "4    {'user_mentions': [{'id_str': '57441414', 'ind...\n",
       "Name: entities, dtype: object"
      ]
     },
     "execution_count": 31,
     "metadata": {},
     "output_type": "execute_result"
    }
   ],
   "execution_count": 31
  }
 ],
 "metadata": {
  "kernelspec": {
   "display_name": "Python 3",
   "language": "python",
   "name": "python3"
  },
  "language_info": {
   "codemirror_mode": {
    "name": "ipython",
    "version": 2
   },
   "file_extension": ".py",
   "mimetype": "text/x-python",
   "name": "python",
   "nbconvert_exporter": "python",
   "pygments_lexer": "ipython2",
   "version": "2.7.6"
  }
 },
 "nbformat": 4,
 "nbformat_minor": 5
}
