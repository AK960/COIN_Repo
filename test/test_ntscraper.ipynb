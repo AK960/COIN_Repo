{
 "cells": [
  {
   "metadata": {
    "ExecuteTime": {
     "end_time": "2025-04-16T21:09:43.317112Z",
     "start_time": "2025-04-16T21:09:43.306445Z"
    }
   },
   "cell_type": "code",
   "source": [
    "from ntscraper import Nitter\n",
    "from pprint import pprint"
   ],
   "id": "initial_id",
   "outputs": [],
   "execution_count": 8
  },
  {
   "metadata": {
    "ExecuteTime": {
     "end_time": "2025-04-16T21:09:45.230819Z",
     "start_time": "2025-04-16T21:09:43.397440Z"
    }
   },
   "cell_type": "code",
   "source": "scraper = Nitter(log_level = 1, skip_instance_check = False)",
   "id": "b3cbef9a88cd9789",
   "outputs": [
    {
     "name": "stderr",
     "output_type": "stream",
     "text": [
      "Testing instances: 100%|██████████| 5/5 [00:01<00:00,  3.06it/s]\n"
     ]
    }
   ],
   "execution_count": 9
  }
 ],
 "metadata": {
  "kernelspec": {
   "display_name": "Python 3",
   "language": "python",
   "name": "python3"
  },
  "language_info": {
   "codemirror_mode": {
    "name": "ipython",
    "version": 2
   },
   "file_extension": ".py",
   "mimetype": "text/x-python",
   "name": "python",
   "nbconvert_exporter": "python",
   "pygments_lexer": "ipython2",
   "version": "2.7.6"
  }
 },
 "nbformat": 4,
 "nbformat_minor": 5
}
